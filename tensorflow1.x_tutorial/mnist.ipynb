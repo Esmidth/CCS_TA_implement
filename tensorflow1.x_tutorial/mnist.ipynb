{
 "nbformat": 4,
 "nbformat_minor": 2,
 "metadata": {
  "language_info": {
   "name": "python",
   "codemirror_mode": {
    "name": "ipython",
    "version": 3
   },
   "version": "3.7.3-final"
  },
  "orig_nbformat": 2,
  "file_extension": ".py",
  "mimetype": "text/x-python",
  "name": "python",
  "npconvert_exporter": "python",
  "pygments_lexer": "ipython3",
  "version": 3,
  "kernelspec": {
   "name": "python37364bitskleran23conda0ab411ec2f194e23aec19adfa46b0b62",
   "display_name": "Python 3.7.3 64-bit ('skleran23': conda)"
  }
 },
 "cells": [
  {
   "cell_type": "code",
   "execution_count": 3,
   "metadata": {},
   "outputs": [
    {
     "name": "stdout",
     "output_type": "stream",
     "text": "WARNING:tensorflow:From <ipython-input-3-7cc7f47c3973>:2: read_data_sets (from input_data) is deprecated and will be removed in a future version.\nInstructions for updating:\nPlease use alternatives such as: tensorflow_datasets.load('mnist')\nWARNING:tensorflow:From /Users/anruolin/github/CCS_TA_implement/tensorflow1.x_tutorial/input_data.py:297: _maybe_download (from input_data) is deprecated and will be removed in a future version.\nInstructions for updating:\nPlease write your own downloading logic.\nSuccessfully downloaded train-images-idx3-ubyte.gz 9912422 bytes.\nWARNING:tensorflow:From /Users/anruolin/github/CCS_TA_implement/tensorflow1.x_tutorial/input_data.py:299: _extract_images (from input_data) is deprecated and will be removed in a future version.\nInstructions for updating:\nPlease use tf.data to implement this functionality.\nExtracting MNIST_data/train-images-idx3-ubyte.gz\nSuccessfully downloaded train-labels-idx1-ubyte.gz 28881 bytes.\nWARNING:tensorflow:From /Users/anruolin/github/CCS_TA_implement/tensorflow1.x_tutorial/input_data.py:304: _extract_labels (from input_data) is deprecated and will be removed in a future version.\nInstructions for updating:\nPlease use tf.data to implement this functionality.\nExtracting MNIST_data/train-labels-idx1-ubyte.gz\nWARNING:tensorflow:From /Users/anruolin/github/CCS_TA_implement/tensorflow1.x_tutorial/input_data.py:112: _dense_to_one_hot (from input_data) is deprecated and will be removed in a future version.\nInstructions for updating:\nPlease use tf.one_hot on tensors.\nSuccessfully downloaded t10k-images-idx3-ubyte.gz 1648877 bytes.\nExtracting MNIST_data/t10k-images-idx3-ubyte.gz\nSuccessfully downloaded t10k-labels-idx1-ubyte.gz 4542 bytes.\nExtracting MNIST_data/t10k-labels-idx1-ubyte.gz\nWARNING:tensorflow:From /Users/anruolin/github/CCS_TA_implement/tensorflow1.x_tutorial/input_data.py:328: _DataSet.__init__ (from input_data) is deprecated and will be removed in a future version.\nInstructions for updating:\nPlease use alternatives such as official/mnist/_DataSet.py from tensorflow/models.\n"
    }
   ],
   "source": [
    "import input_data\n",
    "mnist = input_data.read_data_sets('MNIST_data',one_hot=True)"
   ]
  },
  {
   "cell_type": "code",
   "execution_count": 5,
   "metadata": {},
   "outputs": [],
   "source": [
    "import tensorflow as tf\n",
    "sess = tf.InteractiveSession()"
   ]
  },
  {
   "cell_type": "code",
   "execution_count": 7,
   "metadata": {},
   "outputs": [],
   "source": [
    "x = tf.placeholder(\"float\",shape=[None,784])\n",
    "y_ = tf.placeholder(\"float\",shape=[None,10])"
   ]
  },
  {
   "cell_type": "code",
   "execution_count": 8,
   "metadata": {},
   "outputs": [],
   "source": [
    "W = tf.Variable(tf.zeros([784,10]))\n",
    "b = tf.Variable(tf.zeros([10]))"
   ]
  },
  {
   "cell_type": "code",
   "execution_count": 9,
   "metadata": {},
   "outputs": [
    {
     "name": "stdout",
     "output_type": "stream",
     "text": "WARNING:tensorflow:From /Users/anruolin/.pyenv/versions/anaconda3-2019.03/envs/skleran23/lib/python3.7/site-packages/tensorflow_core/python/util/tf_should_use.py:198: initialize_all_variables (from tensorflow.python.ops.variables) is deprecated and will be removed after 2017-03-02.\nInstructions for updating:\nUse `tf.global_variables_initializer` instead.\n"
    }
   ],
   "source": [
    "sess.run(tf.initialize_all_variables())"
   ]
  },
  {
   "cell_type": "code",
   "execution_count": 10,
   "metadata": {},
   "outputs": [],
   "source": [
    "y = tf.nn.softmax(tf.matmul(x,W)+b)\n",
    "cross_entropy = -tf.reduce_sum(y_*tf.log(y))"
   ]
  },
  {
   "cell_type": "code",
   "execution_count": 11,
   "metadata": {},
   "outputs": [],
   "source": [
    "train_step = tf.train.GradientDescentOptimizer(0.01).minimize(cross_entropy)\n",
    "for i in range(1000):\n",
    "    batch = mnist.train.next_batch(50)\n",
    "    train_step.run(feed_dict={x:batch[0],y_:batch[1]})"
   ]
  },
  {
   "cell_type": "code",
   "execution_count": 12,
   "metadata": {},
   "outputs": [
    {
     "name": "stdout",
     "output_type": "stream",
     "text": "0.914\n"
    }
   ],
   "source": [
    "correct_prediction  = tf.equal(tf.argmax(y,1),tf.argmax(y_,1))\n",
    "accuracy = tf.reduce_mean(tf.cast(correct_prediction,\"float\"))\n",
    "print(accuracy.eval(feed_dict={x:mnist.test.images,y_:mnist.test.labels}))"
   ]
  },
  {
   "cell_type": "code",
   "execution_count": 13,
   "metadata": {},
   "outputs": [],
   "source": [
    "def weight_variable(shape):\n",
    "    initial = tf.truncated_normal(shape,stddev=0.1)\n",
    "    return tf.Variable(initial)\n",
    "\n",
    "def bias_varibale(shape):\n",
    "    initial = tf.constant(0.1,shape=shape)\n",
    "    return tf.Variable(initial)\n"
   ]
  },
  {
   "cell_type": "code",
   "execution_count": 14,
   "metadata": {},
   "outputs": [],
   "source": [
    "def conv2d(x,W):\n",
    "    return tf.nn.conv2d(x,W,strides=[1,1,1,1],padding='SAME')\n",
    "\n",
    "def max_pool_2x2(x):\n",
    "    return tf.nn.max_pool(x,ksize=[1,2,2,1],strides=[1,2,2,1],padding='SAME')"
   ]
  },
  {
   "cell_type": "code",
   "execution_count": 15,
   "metadata": {},
   "outputs": [],
   "source": [
    "W_conv1 = weight_variable([5,5,1,32])\n",
    "b_conv1 = bias_varibale([32])\n",
    "x_image = tf.reshape(x,[-1,28,28,1])\n",
    "h_conv1 = tf.nn.relu(conv2d(x_image,W_conv1)+b_conv1)\n",
    "h_pool1 = max_pool_2x2(h_conv1)"
   ]
  },
  {
   "cell_type": "code",
   "execution_count": 17,
   "metadata": {},
   "outputs": [],
   "source": [
    "W_conv2 = weight_variable([5,5,32,64])\n",
    "b_conv2 = bias_varibale([64])\n",
    "\n",
    "h_conv2 = tf.nn.relu(conv2d(h_pool1,W_conv2)+b_conv2)\n",
    "h_pool2 = max_pool_2x2(h_conv2)"
   ]
  },
  {
   "cell_type": "code",
   "execution_count": 18,
   "metadata": {},
   "outputs": [],
   "source": [
    "W_fc1 = weight_variable([7*7*64,1024])\n",
    "b_fc1 = bias_varibale([1024])\n",
    "\n",
    "h_pool2_flat = tf.reshape(h_pool2,[-1,7*7*64])\n",
    "h_fc1 =  tf.nn.relu(tf.matmul(h_pool2_flat,W_fc1)+b_fc1)"
   ]
  },
  {
   "cell_type": "code",
   "execution_count": 19,
   "metadata": {},
   "outputs": [
    {
     "name": "stdout",
     "output_type": "stream",
     "text": "WARNING:tensorflow:From <ipython-input-19-5c028dae7fdb>:2: calling dropout (from tensorflow.python.ops.nn_ops) with keep_prob is deprecated and will be removed in a future version.\nInstructions for updating:\nPlease use `rate` instead of `keep_prob`. Rate should be set to `rate = 1 - keep_prob`.\n"
    }
   ],
   "source": [
    "keep_prob = tf.placeholder(\"float\")\n",
    "h_fc1_drop = tf.nn.dropout(h_fc1,keep_prob)"
   ]
  },
  {
   "cell_type": "code",
   "execution_count": 20,
   "metadata": {},
   "outputs": [],
   "source": [
    "W_fc2 = weight_variable([1024,10])\n",
    "b_fc2 = bias_varibale([10])\n",
    "\n",
    "y_conv = tf.nn.softmax(tf.matmul(h_fc1_drop,W_fc2)+b_fc2)"
   ]
  },
  {
   "cell_type": "code",
   "execution_count": 23,
   "metadata": {},
   "outputs": [
    {
     "name": "stdout",
     "output_type": "stream",
     "text": "step 0, training accuracy 0.02\nstep 100, training accuracy 0.68\nstep 200, training accuracy 0.86\nstep 300, training accuracy 0.94\nstep 400, training accuracy 0.9\nstep 500, training accuracy 0.98\nstep 600, training accuracy 0.96\nstep 700, training accuracy 1\nstep 800, training accuracy 0.92\nstep 900, training accuracy 0.94\nstep 1000, training accuracy 0.94\nstep 1100, training accuracy 0.98\nstep 1200, training accuracy 0.96\nstep 1300, training accuracy 0.98\nstep 1400, training accuracy 0.96\nstep 1500, training accuracy 0.96\nstep 1600, training accuracy 0.98\nstep 1700, training accuracy 0.92\nstep 1800, training accuracy 0.98\nstep 1900, training accuracy 0.98\nstep 2000, training accuracy 0.98\nstep 2100, training accuracy 0.98\nstep 2200, training accuracy 0.96\nstep 2300, training accuracy 0.98\nstep 2400, training accuracy 0.98\nstep 2500, training accuracy 0.98\nstep 2600, training accuracy 0.98\nstep 2700, training accuracy 0.96\nstep 2800, training accuracy 0.92\nstep 2900, training accuracy 0.98\nstep 3000, training accuracy 0.96\nstep 3100, training accuracy 1\nstep 3200, training accuracy 0.98\nstep 3300, training accuracy 0.98\nstep 3400, training accuracy 1\nstep 3500, training accuracy 1\nstep 3600, training accuracy 0.98\nstep 3700, training accuracy 1\nstep 3800, training accuracy 0.98\nstep 3900, training accuracy 0.98\nstep 4000, training accuracy 1\nstep 4100, training accuracy 0.98\nstep 4200, training accuracy 1\nstep 4300, training accuracy 0.96\nstep 4400, training accuracy 1\nstep 4500, training accuracy 0.98\nstep 4600, training accuracy 0.98\nstep 4700, training accuracy 1\nstep 4800, training accuracy 0.96\nstep 4900, training accuracy 0.96\nstep 5000, training accuracy 1\nstep 5100, training accuracy 1\nstep 5200, training accuracy 1\nstep 5300, training accuracy 1\nstep 5400, training accuracy 0.98\nstep 5500, training accuracy 1\nstep 5600, training accuracy 0.98\nstep 5700, training accuracy 0.98\nstep 5800, training accuracy 1\nstep 5900, training accuracy 1\nstep 6000, training accuracy 0.98\nstep 6100, training accuracy 1\nstep 6200, training accuracy 1\nstep 6300, training accuracy 1\nstep 6400, training accuracy 0.96\nstep 6500, training accuracy 1\nstep 6600, training accuracy 0.96\nstep 6700, training accuracy 1\nstep 6800, training accuracy 1\nstep 6900, training accuracy 0.94\nstep 7000, training accuracy 1\nstep 7100, training accuracy 1\nstep 7200, training accuracy 0.98\nstep 7300, training accuracy 0.98\nstep 7400, training accuracy 1\nstep 7500, training accuracy 1\nstep 7600, training accuracy 0.96\nstep 7700, training accuracy 1\nstep 7800, training accuracy 1\nstep 7900, training accuracy 1\nstep 8000, training accuracy 1\nstep 8100, training accuracy 1\nstep 8200, training accuracy 1\nstep 8300, training accuracy 1\nstep 8400, training accuracy 1\nstep 8500, training accuracy 1\nstep 8600, training accuracy 0.98\nstep 8700, training accuracy 1\nstep 8800, training accuracy 1\nstep 8900, training accuracy 1\nstep 9000, training accuracy 1\nstep 9100, training accuracy 1\nstep 9200, training accuracy 1\nstep 9300, training accuracy 1\nstep 9400, training accuracy 1\nstep 9500, training accuracy 1\nstep 9600, training accuracy 0.98\nstep 9700, training accuracy 1\nstep 9800, training accuracy 0.98\nstep 9900, training accuracy 0.98\nstep 10000, training accuracy 1\nstep 10100, training accuracy 1\nstep 10200, training accuracy 1\nstep 10300, training accuracy 1\nstep 10400, training accuracy 1\nstep 10500, training accuracy 1\nstep 10600, training accuracy 1\nstep 10700, training accuracy 1\nstep 10800, training accuracy 0.98\nstep 10900, training accuracy 1\nstep 11000, training accuracy 1\nstep 11100, training accuracy 1\nstep 11200, training accuracy 1\nstep 11300, training accuracy 1\nstep 11400, training accuracy 1\nstep 11500, training accuracy 1\nstep 11600, training accuracy 0.98\nstep 11700, training accuracy 0.98\nstep 11800, training accuracy 0.98\nstep 11900, training accuracy 1\nstep 12000, training accuracy 0.98\nstep 12100, training accuracy 0.96\nstep 12200, training accuracy 1\nstep 12300, training accuracy 1\nstep 12400, training accuracy 1\nstep 12500, training accuracy 1\nstep 12600, training accuracy 1\nstep 12700, training accuracy 1\nstep 12800, training accuracy 1\nstep 12900, training accuracy 1\nstep 13000, training accuracy 1\nstep 13100, training accuracy 1\nstep 13200, training accuracy 1\nstep 13300, training accuracy 1\nstep 13400, training accuracy 1\nstep 13500, training accuracy 1\nstep 13600, training accuracy 1\nstep 13700, training accuracy 1\nstep 13800, training accuracy 1\nstep 13900, training accuracy 1\nstep 14000, training accuracy 1\nstep 14100, training accuracy 0.98\nstep 14200, training accuracy 1\nstep 14300, training accuracy 1\nstep 14400, training accuracy 1\nstep 14500, training accuracy 1\nstep 14600, training accuracy 1\nstep 14700, training accuracy 1\nstep 14800, training accuracy 0.98\nstep 14900, training accuracy 0.98\nstep 15000, training accuracy 1\nstep 15100, training accuracy 0.98\nstep 15200, training accuracy 0.98\nstep 15300, training accuracy 1\nstep 15400, training accuracy 1\nstep 15500, training accuracy 1\nstep 15600, training accuracy 1\nstep 15700, training accuracy 1\nstep 15800, training accuracy 1\nstep 15900, training accuracy 1\nstep 16000, training accuracy 1\nstep 16100, training accuracy 1\nstep 16200, training accuracy 1\nstep 16300, training accuracy 1\nstep 16400, training accuracy 1\nstep 16500, training accuracy 1\nstep 16600, training accuracy 1\nstep 16700, training accuracy 1\nstep 16800, training accuracy 1\nstep 16900, training accuracy 1\nstep 17000, training accuracy 1\nstep 17100, training accuracy 1\nstep 17200, training accuracy 1\nstep 17300, training accuracy 1\nstep 17400, training accuracy 1\nstep 17500, training accuracy 1\nstep 17600, training accuracy 1\nstep 17700, training accuracy 1\nstep 17800, training accuracy 1\nstep 17900, training accuracy 1\nstep 18000, training accuracy 1\nstep 18100, training accuracy 0.98\nstep 18200, training accuracy 1\nstep 18300, training accuracy 1\nstep 18400, training accuracy 1\nstep 18500, training accuracy 1\nstep 18600, training accuracy 1\nstep 18700, training accuracy 1\nstep 18800, training accuracy 1\nstep 18900, training accuracy 1\nstep 19000, training accuracy 1\nstep 19100, training accuracy 1\nstep 19200, training accuracy 1\nstep 19300, training accuracy 0.98\nstep 19400, training accuracy 1\nstep 19500, training accuracy 1\nstep 19600, training accuracy 1\nstep 19700, training accuracy 1\nstep 19800, training accuracy 1\nstep 19900, training accuracy 0.98\ntest accuracy 0.993\n"
    }
   ],
   "source": [
    "cross_entropy = -tf.reduce_sum(y_*tf.log(y_conv))\n",
    "train_step = tf.train.AdamOptimizer(1e-4).minimize(cross_entropy)\n",
    "correct_prediction = tf.equal(tf.argmax(y_conv,1),tf.argmax(y_,1))\n",
    "accuracy = tf.reduce_mean(tf.cast(correct_prediction,\"float\"))\n",
    "sess.run(tf.initialize_all_variables())\n",
    "for i in range(20000):\n",
    "    batch = mnist.train.next_batch(50)\n",
    "    if i % 100 == 0:\n",
    "        train_accuracy = accuracy.eval(feed_dict={\n",
    "            x:batch[0],\n",
    "            y_:batch[1],\n",
    "            keep_prob:1.0\n",
    "        })\n",
    "        print(\"step %d, training accuracy %g\"%(i,train_accuracy))\n",
    "    train_step.run(feed_dict={x:batch[0],y_:batch[1],keep_prob:0.5})\n",
    "print(\"test accuracy %g\" % accuracy.eval(feed_dict={x:mnist.test.images,y_:mnist.test.labels,keep_prob:1.0}))"
   ]
  },
  {
   "cell_type": "code",
   "execution_count": null,
   "metadata": {},
   "outputs": [],
   "source": []
  }
 ]
}