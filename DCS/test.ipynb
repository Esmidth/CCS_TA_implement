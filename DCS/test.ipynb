{
 "cells": [
  {
   "cell_type": "code",
   "execution_count": 1,
   "metadata": {},
   "outputs": [],
   "source": [
    "import utility\n",
    "import pandas as pd\n",
    "import numpy as np"
   ]
  },
  {
   "cell_type": "code",
   "execution_count": 2,
   "metadata": {},
   "outputs": [],
   "source": [
    "from consts import sensor_unix_column as unix_column\n",
    "from consts import sensor_idd as idd\n",
    "from consts import sensor_a_temperature as a_temperature"
   ]
  },
  {
   "cell_type": "code",
   "execution_count": 3,
   "metadata": {},
   "outputs": [],
   "source": [
    "a_tmp,_,_,index,time_stamp = utility.get_h5_data()"
   ]
  },
  {
   "cell_type": "code",
   "execution_count": null,
   "metadata": {},
   "outputs": [],
   "source": [
    "time_stamp.shape"
   ]
  },
  {
   "cell_type": "code",
   "execution_count": 15,
   "metadata": {},
   "outputs": [
    {
     "output_type": "execute_result",
     "data": {
      "text/plain": "array([    2,     9,    11, ..., 19376, 19380, 19381])"
     },
     "metadata": {},
     "execution_count": 15
    }
   ],
   "source": [
    "index"
   ]
  },
  {
   "cell_type": "code",
   "execution_count": 4,
   "metadata": {},
   "outputs": [],
   "source": [
    "df_list = utility.dataset_read('df_list')"
   ]
  },
  {
   "cell_type": "code",
   "execution_count": null,
   "metadata": {},
   "outputs": [],
   "source": [
    "rb_df_list = utility.dataset_read('rb_optimal')"
   ]
  },
  {
   "cell_type": "code",
   "execution_count": 5,
   "metadata": {},
   "outputs": [],
   "source": [
    "res = utility.remove_duplicated(df_list[index[0]])"
   ]
  },
  {
   "cell_type": "code",
   "execution_count": 6,
   "metadata": {},
   "outputs": [],
   "source": [
    "window = 3"
   ]
  },
  {
   "cell_type": "code",
   "execution_count": 7,
   "metadata": {},
   "outputs": [
    {
     "output_type": "execute_result",
     "data": {
      "text/plain": "20160"
     },
     "metadata": {},
     "execution_count": 7
    }
   ],
   "source": [
    "len(df_list)"
   ]
  },
  {
   "cell_type": "code",
   "execution_count": 18,
   "metadata": {
    "tags": []
   },
   "outputs": [],
   "source": [
    "zeros = np.zeros(len(df_list))\n",
    "zeros[index] = 1\n",
    "def compute_temporal_sub_count(window):\n",
    "    sum = 0\n",
    "    for i in range(len(zeros)-window+1):\n",
    "        sub = zeros[i:i+window]\n",
    "        if 0 not in sub:\n",
    "            print(i)\n",
    "            sum += 1\n",
    "        if sum > 10:\n",
    "            break\n",
    "    return sum"
   ]
  },
  {
   "cell_type": "code",
   "execution_count": 25,
   "metadata": {
    "tags": []
   },
   "outputs": [
    {
     "output_type": "stream",
     "name": "stdout",
     "text": "25\n31\n34\n45\n57\n110\n111\n112\n113\n126\n127\n"
    },
    {
     "output_type": "execute_result",
     "data": {
      "text/plain": "11"
     },
     "metadata": {},
     "execution_count": 25
    }
   ],
   "source": [
    "compute_temporal_sub_count(2)"
   ]
  },
  {
   "cell_type": "code",
   "execution_count": 10,
   "metadata": {
    "tags": []
   },
   "outputs": [
    {
     "output_type": "stream",
     "name": "stdout",
     "text": "110\n111\n112\n126\n134\n140\n141\n167\n181\n182\n183\n"
    },
    {
     "output_type": "execute_result",
     "data": {
      "text/plain": "11"
     },
     "metadata": {},
     "execution_count": 10
    }
   ],
   "source": [
    "compute_temporal_sub_count(3)"
   ]
  },
  {
   "cell_type": "code",
   "execution_count": 11,
   "metadata": {},
   "outputs": [
    {
     "output_type": "execute_result",
     "data": {
      "text/plain": "array([0.07, 0.14, 0.02, 0.06, 0.  , 0.09, 0.01, 0.05, 0.08, 0.19, 0.01,\n       0.02, 0.2 , 0.  , 0.08, 0.06, 0.02, 0.02, 0.01, 0.18, 0.02, 0.  ,\n       0.01, 0.02, 0.02, 0.1 , 0.06, 0.1 , 0.07, 0.08, 0.26, 0.01, 0.18,\n       0.04, 0.13, 0.01, 0.08, 0.12, 0.11, 0.2 , 0.06, 0.04, 0.03, 0.04,\n       0.05, 0.01, 0.  , 0.02])"
     },
     "metadata": {},
     "execution_count": 11
    }
   ],
   "source": [
    "abs(df_list[140].dropna()[a_temperature].values - df_list[141].dropna()[a_temperature].values)"
   ]
  },
  {
   "cell_type": "code",
   "execution_count": 81,
   "metadata": {},
   "outputs": [
    {
     "output_type": "execute_result",
     "data": {
      "text/plain": "1172706900"
     },
     "metadata": {},
     "execution_count": 81
    }
   ],
   "source": [
    "time_stamp[110]"
   ]
  },
  {
   "cell_type": "code",
   "execution_count": 77,
   "metadata": {},
   "outputs": [
    {
     "output_type": "execute_result",
     "data": {
      "text/plain": "1172706930"
     },
     "metadata": {},
     "execution_count": 77
    }
   ],
   "source": [
    "time_stamp[111]"
   ]
  },
  {
   "cell_type": "code",
   "execution_count": 12,
   "metadata": {
    "tags": []
   },
   "outputs": [
    {
     "output_type": "stream",
     "name": "stdout",
     "text": "110\n111\n140\n181\n182\n194\n195\n196\n197\n213\n225\n"
    },
    {
     "output_type": "execute_result",
     "data": {
      "text/plain": "11"
     },
     "metadata": {},
     "execution_count": 12
    }
   ],
   "source": [
    "compute_temporal_sub_count(4)"
   ]
  },
  {
   "cell_type": "code",
   "execution_count": null,
   "metadata": {},
   "outputs": [],
   "source": [
    "compute_temporal_sub_count(5)"
   ]
  },
  {
   "cell_type": "code",
   "execution_count": null,
   "metadata": {},
   "outputs": [],
   "source": [
    "compute_temporal_sub_count(6)"
   ]
  },
  {
   "cell_type": "code",
   "execution_count": null,
   "metadata": {},
   "outputs": [],
   "source": [
    "compute_temporal_sub_count(7)"
   ]
  },
  {
   "cell_type": "code",
   "execution_count": null,
   "metadata": {},
   "outputs": [],
   "source": [
    "compute_temporal_sub_count(8)"
   ]
  },
  {
   "cell_type": "code",
   "execution_count": 16,
   "metadata": {
    "tags": []
   },
   "outputs": [],
   "source": [
    "sum = 0\n",
    "for i,item in enumerate(index):\n",
    "    if i < len(index)-3:\n",
    "        if index[i+1] == index[i]+1 and index[i+2] == index[i+1]+1:\n",
    "            sum += 1"
   ]
  },
  {
   "cell_type": "code",
   "execution_count": 17,
   "metadata": {},
   "outputs": [
    {
     "output_type": "execute_result",
     "data": {
      "text/plain": "2838"
     },
     "metadata": {},
     "execution_count": 17
    }
   ],
   "source": [
    "sum"
   ]
  },
  {
   "cell_type": "code",
   "execution_count": 13,
   "metadata": {},
   "outputs": [
    {
     "output_type": "execute_result",
     "data": {
      "text/plain": "5959"
     },
     "metadata": {},
     "execution_count": 13
    }
   ],
   "source": [
    "len(index)"
   ]
  },
  {
   "cell_type": "code",
   "execution_count": 14,
   "metadata": {},
   "outputs": [
    {
     "output_type": "execute_result",
     "data": {
      "text/plain": "array([    2,     9,    11, ..., 19376, 19380, 19381])"
     },
     "metadata": {},
     "execution_count": 14
    }
   ],
   "source": [
    "index"
   ]
  },
  {
   "cell_type": "code",
   "execution_count": null,
   "metadata": {},
   "outputs": [],
   "source": [
    "len(df_list[index[0]])"
   ]
  },
  {
   "cell_type": "code",
   "execution_count": 5,
   "metadata": {},
   "outputs": [],
   "source": [
    "df = pd.read_hdf('data.h5','df_sub')\n",
    "df_nona = df.dropna()"
   ]
  },
  {
   "cell_type": "code",
   "execution_count": 23,
   "metadata": {},
   "outputs": [],
   "source": [
    "idds = df_nona[idd]"
   ]
  },
  {
   "cell_type": "code",
   "execution_count": 24,
   "metadata": {},
   "outputs": [],
   "source": [
    "idds_uniq = idds.unique()"
   ]
  },
  {
   "cell_type": "code",
   "execution_count": 25,
   "metadata": {},
   "outputs": [
    {
     "output_type": "execute_result",
     "data": {
      "text/plain": "array([  7,   8,  11,  14,  17,  19,  23,  26,  27,  31,  33,  34,  35,\n        40,  46,  47,  49,  51,  55,  57,  59,  60,  61,  62,  63,  65,\n        69,  70,  71,  72,  73,  75,  76,  79,  80,  81,  82,  84,  87,\n        88,  89,  93,  96,  97,  98, 100, 103, 104, 109, 111, 121])"
     },
     "metadata": {},
     "execution_count": 25
    }
   ],
   "source": [
    "idds_uniq"
   ]
  },
  {
   "cell_type": "code",
   "execution_count": 30,
   "metadata": {},
   "outputs": [],
   "source": [
    "idd_dict = {}"
   ]
  },
  {
   "cell_type": "code",
   "execution_count": 31,
   "metadata": {},
   "outputs": [],
   "source": [
    "# init\n",
    "for i in idds_uniq:\n",
    "    idd_dict[i] = 0"
   ]
  },
  {
   "cell_type": "code",
   "execution_count": 34,
   "metadata": {
    "tags": []
   },
   "outputs": [],
   "source": [
    "for i in idds:\n",
    "    idd_dict[i] += 1"
   ]
  },
  {
   "cell_type": "code",
   "execution_count": 44,
   "metadata": {},
   "outputs": [
    {
     "output_type": "execute_result",
     "data": {
      "text/plain": "[(121, 1257313),\n (26, 520877),\n (34, 515512),\n (8, 505421),\n (23, 503635),\n (46, 501266),\n (17, 482219),\n (100, 481359),\n (14, 478876),\n (70, 474867),\n (96, 473786),\n (11, 472048),\n (93, 471177),\n (31, 465717),\n (60, 462032),\n (87, 461762),\n (72, 459969),\n (97, 455899),\n (51, 455363),\n (104, 455286),\n (73, 455119),\n (35, 454316),\n (19, 453966),\n (103, 453364),\n (84, 447767),\n (49, 446618),\n (80, 435758),\n (33, 428389),\n (76, 426899),\n (40, 426519),\n (89, 421637),\n (79, 419798),\n (81, 388595),\n (111, 371313),\n (75, 369027),\n (88, 365499),\n (65, 362265),\n (98, 336712),\n (62, 322947),\n (59, 273292),\n (61, 265435),\n (69, 264172),\n (57, 257244),\n (63, 253729),\n (71, 252737),\n (109, 240136),\n (82, 194276),\n (55, 156833),\n (47, 132198),\n (7, 128827),\n (27, 87038)]"
     },
     "metadata": {},
     "execution_count": 44
    }
   ],
   "source": [
    "sorted(idd_dict.items(),key=lambda kv:(kv[1],kv[0]),reverse=True)"
   ]
  },
  {
   "cell_type": "code",
   "execution_count": 32,
   "metadata": {},
   "outputs": [],
   "source": [
    "import pickle\n",
    "input_file = open('../sub_index_array.pkl','rb')\n",
    "sub_index_array = pickle.load(input_file)\n",
    "input_file.close()"
   ]
  },
  {
   "cell_type": "code",
   "execution_count": 40,
   "metadata": {},
   "outputs": [
    {
     "output_type": "execute_result",
     "data": {
      "text/plain": "346050"
     },
     "metadata": {},
     "execution_count": 40
    }
   ],
   "source": [
    "len(sub_index_array[0][1])"
   ]
  },
  {
   "cell_type": "code",
   "execution_count": 44,
   "metadata": {},
   "outputs": [
    {
     "output_type": "execute_result",
     "data": {
      "text/plain": "335675"
     },
     "metadata": {},
     "execution_count": 44
    }
   ],
   "source": []
  }
 ],
 "metadata": {
  "language_info": {
   "codemirror_mode": {
    "name": "ipython",
    "version": 3
   },
   "file_extension": ".py",
   "mimetype": "text/x-python",
   "name": "python",
   "nbconvert_exporter": "python",
   "pygments_lexer": "ipython3",
   "version": "3.7.6-final"
  },
  "orig_nbformat": 2,
  "kernelspec": {
   "name": "python37664bitccstaconda3a2139a6822448159c7afc22ea6ab768",
   "display_name": "Python 3.7.6 64-bit ('ccs_ta': conda)"
  }
 },
 "nbformat": 4,
 "nbformat_minor": 2
}