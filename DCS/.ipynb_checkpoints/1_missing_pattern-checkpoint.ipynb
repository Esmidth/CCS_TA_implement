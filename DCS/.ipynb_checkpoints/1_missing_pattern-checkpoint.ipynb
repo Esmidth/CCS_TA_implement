{
 "cells": [
  {
   "cell_type": "code",
   "execution_count": 1,
   "metadata": {},
   "outputs": [],
   "source": [
    "# 1\n",
    "import torch\n",
    "from torch import nn,optim\n",
    "from torch.autograd.variable import Variable\n",
    "from torchvision import transforms,datasets\n",
    "from utils import Logger\n",
    "from IPython import display\n",
    "import numpy as np\n",
    "import matplotlib.pyplot as plt\n",
    "import pickle\n",
    "import numpy as np"
   ]
  },
  {
   "cell_type": "code",
   "execution_count": 2,
   "metadata": {},
   "outputs": [],
   "source": [
    "with open('../tensor2.pkl','rb') as f:\n",
    "    tensor_array = np.array(pickle.load(f))\n",
    "\n",
    "with open('../new_indices.pkl','rb') as f:\n",
    "    new_indices = np.array(pickle.load(f))\n",
    "\n",
    "with open('missing_pattern_data/1_missing_pattern.pkl','rb') as f:\n",
    "    mask_list,result_list = pickle.load(f)"
   ]
  },
  {
   "cell_type": "code",
   "execution_count": 3,
   "metadata": {},
   "outputs": [
    {
     "data": {
      "text/plain": [
       "<matplotlib.image.AxesImage at 0x7effc3469dc0>"
      ]
     },
     "execution_count": 3,
     "metadata": {},
     "output_type": "execute_result"
    },
    {
     "data": {
      "image/png": "[encoded data removed]",
      "text/plain": [
       "<Figure size 432x288 with 1 Axes>"
      ]
     },
     "metadata": {
      "needs_background": "light"
     },
     "output_type": "display_data"
    }
   ],
   "source": [
    "def generate_missing_matrix(data_matrix,miss_ratio=0.1, pattern='MCAR', start_p='c'):\n",
    "    origin  = data_matrix.copy()\n",
    "    spatial_size = data_matrix.shape[0]\n",
    "    temporal_size = data_matrix.shape[1]\n",
    "    mask = np.ones_like(data_matrix)\n",
    "    if pattern == 'MCAR':\n",
    "\n",
    "        k = round(spatial_size*temporal_size*miss_ratio)\n",
    "        ri = np.random.choice(spatial_size*temporal_size,k,replace=False)\n",
    "\n",
    "    elif pattern == 'MAR':\n",
    "        k = round(spatial_size*temporal_size*miss_ratio/2)\n",
    "        ri1 = np.random.choice(spatial_size*temporal_size,k,replace=False)\n",
    "\n",
    "        random_start = np.random.randint(0,temporal_size)\n",
    "        ri2 = np.linspace(random_start,spatial_size*temporal_size-1,num=k)\n",
    "        ri2 = ri2.astype(int)\n",
    "\n",
    "        ri = np.append(ri1,ri2,0)\n",
    "        # ri = ri2\n",
    "        # print(ri1,ri2)\n",
    "        # print(ri)\n",
    "\n",
    "    elif pattern == \"MNAR\":\n",
    "        if start_p == 'c':\n",
    "            # constant start at #0\n",
    "            k = round(spatial_size* temporal_size*miss_ratio)\n",
    "            # ri = np.random.choice(spatial_size*temporal_size,k,replace=False)\n",
    "            start = 0\n",
    "            # print(k)\n",
    "            # ri = np.arange(0,spatial_size*temporal_size,k-2)\n",
    "            ri = np.linspace(0,spatial_size*temporal_size-1,num=k)\n",
    "            ri = ri.astype(int)\n",
    "            # print(ri)\n",
    "            # print(ri.__len__())\n",
    "        elif start_p == 'r':\n",
    "             # random start at first row\n",
    "            k = round(spatial_size* temporal_size*miss_ratio)\n",
    "            # ri = np.random.choice(spatial_size*temporal_size,k,replace=False)\n",
    "            start = 0\n",
    "            # print(k)\n",
    "            # ri = np.arange(0,spatial_size*temporal_size,k-2)\n",
    "            random_start = np.random.randint(0,temporal_size)\n",
    "            ri = np.linspace(random_start,spatial_size*temporal_size-1,num=k)\n",
    "            ri = ri.astype(int)\n",
    "            # print(ri)\n",
    "            # print(ri.__len__())           pass\n",
    "        else:\n",
    "            raise NameError\n",
    "    else:\n",
    "        raise NameError\n",
    "    origin.flat[ri] = 0\n",
    "    mask.flat[ri] = 0\n",
    "    return origin,mask\n",
    "data_matrix,mask =generate_missing_matrix(tensor_array[0],0.8,'MCAR','r')\n",
    "plt.imshow(mask)"
   ]
  },
  {
   "cell_type": "code",
   "execution_count": 4,
   "metadata": {},
   "outputs": [
    {
     "data": {
      "text/plain": [
       "(19, 7)"
      ]
     },
     "execution_count": 4,
     "metadata": {},
     "output_type": "execute_result"
    }
   ],
   "source": [
    "data_matrix.shape"
   ]
  },
  {
   "cell_type": "code",
   "execution_count": 4,
   "metadata": {},
   "outputs": [],
   "source": [
    "class PatternDiscriminator(torch.nn.Module):\n",
    "\n",
    "    def __init__(self):\n",
    "        super(PatternDiscriminator,self).__init__()\n",
    "        n_features=19*7\n",
    "        n_out = 1\n",
    "\n",
    "        self.hidden0 = nn.Sequential( \n",
    "            nn.Linear(n_features, 512),\n",
    "            nn.LeakyReLU(0.2),\n",
    "            nn.Dropout(0.3)\n",
    "        )\n",
    "\n",
    "        self.hidden3 = nn.Sequential(\n",
    "            nn.Linear(513,256),\n",
    "            nn.LeakyReLU(0.2),\n",
    "            nn.Dropout(0.3)\n",
    "        )\n",
    "        self.hidden4 = nn.Sequential(\n",
    "            nn.Linear(256, 128),\n",
    "            nn.LeakyReLU(0.2),\n",
    "            nn.Dropout(0.3)\n",
    "        )\n",
    "        self.out = nn.Sequential(\n",
    "            torch.nn.Linear(128, n_out),\n",
    "            torch.nn.Sigmoid()\n",
    "        )\n",
    "\n",
    "    def forward(self, x):\n",
    "        x = self.hidden0(x)\n",
    "        x = self.hidden3(x)\n",
    "        x = self.hidden4(x)\n",
    "        x = self.out(x)\n",
    "        return x\n"
   ]
  },
  {
   "cell_type": "code",
   "execution_count": 5,
   "metadata": {},
   "outputs": [],
   "source": [
    "discriminator = PatternDiscriminator().cuda()\n",
    "d_optimizer = optim.Adam(discriminator.parameters(),lr=0.0002)\n",
    "    \n",
    "loss = nn.BCELoss()\n",
    "\n",
    "d_steps=1\n",
    "num_epoch=400\n",
    "\n",
    "\n",
    "def train_d(optimizer,data,flag):\n",
    "\n",
    "    optimizer.zero_grad()\n",
    "\n",
    "    prediction = discriminator(data)\n",
    "    error = loss(prediction,flag)\n",
    "    error.backward()\n",
    "\n",
    "    optimizer.step()\n",
    "\n",
    "    return error, prediction"
   ]
  },
  {
   "cell_type": "code",
   "execution_count": 7,
   "metadata": {},
   "outputs": [
    {
     "name": "stdout",
     "output_type": "stream",
     "text": [
      "(19, 7)\n"
     ]
    },
    {
     "data": {
      "text/plain": [
       "<matplotlib.image.AxesImage at 0x7fcd35d4d4f0>"
      ]
     },
     "execution_count": 7,
     "metadata": {},
     "output_type": "execute_result"
    },
    {
     "data": {
      "image/png": "[encoded data removed]",
      "text/plain": [
       "<Figure size 432x288 with 1 Axes>"
      ]
     },
     "metadata": {
      "needs_background": "light"
     },
     "output_type": "display_data"
    }
   ],
   "source": [
    "input_matrix = np.ones((19,7))\n",
    "print(input_matrix.shape)\n",
    "data_matrix,mask = generate_missing_matrix(input_matrix,0.6,'MNAR','r')\n",
    "plt.imshow(mask)"
   ]
  },
  {
   "cell_type": "code",
   "execution_count": 7,
   "metadata": {},
   "outputs": [],
   "source": [
    "# MCAR 1\n",
    "# MNAR 0\n",
    "def generate_set(data_num,missing_ratio,pattern='n'):\n",
    "    mask_list = []\n",
    "    result_list = []\n",
    "    input_matrix = np.ones((19,7))\n",
    "    for i in range(int(data_num/2)):\n",
    "        for j in [\"MCAR\",'MNAR']:\n",
    "            data_matrix,mask = generate_missing_matrix(input_matrix,missing_ratio,j,'r')\n",
    "            mask_list.append(mask)\n",
    "            if j == 'MCAR':\n",
    "                result_list.append(1)\n",
    "            else:\n",
    "                result_list.append(0)\n",
    "    \n",
    "    return mask_list,result_list\n",
    "\n",
    "mask_list,result_list = generate_set(5000,0.7)\n",
    "\n",
    "\n",
    "# for epoch in range(num_epoch):\n",
    "    # error = train_d(d_optimizer,mask_tensor,result_tensor)"
   ]
  },
  {
   "cell_type": "code",
   "execution_count": 103,
   "metadata": {},
   "outputs": [
    {
     "name": "stdout",
     "output_type": "stream",
     "text": [
      "10000\n",
      "10000\n"
     ]
    }
   ],
   "source": [
    "mask_list = []\n",
    "result_list = []\n",
    "\n",
    "for i in range(10):\n",
    "    tmp = generate_set(1000,i*0.1)\n",
    "    mask_list.extend(tmp[0])\n",
    "    result_list.extend(tmp[1])\n",
    "\n",
    "print(len(mask_list))\n",
    "print(len(result_list))"
   ]
  },
  {
   "cell_type": "code",
   "execution_count": 104,
   "metadata": {},
   "outputs": [],
   "source": [
    "mask_tensor = torch.tensor(np.array(mask_list).reshape(-1,133),dtype=torch.float32).cuda()\n",
    "result_tensor = torch.tensor(np.array(result_list).reshape(-1,1),dtype=torch.float32).cuda()"
   ]
  },
  {
   "cell_type": "code",
   "execution_count": 115,
   "metadata": {},
   "outputs": [],
   "source": [
    "# train\n",
    "for epoch in range(num_epoch*10):\n",
    "    error = train_d(d_optimizer,mask_tensor,result_tensor)\n"
   ]
  },
  {
   "cell_type": "code",
   "execution_count": 128,
   "metadata": {},
   "outputs": [],
   "source": [
    "# Save\n",
    "torch.save(discriminator,'1_pd.pt')\n",
    "torch.save(discriminator.state_dict(),'1_pd_params.pt')"
   ]
  },
  {
   "cell_type": "code",
   "execution_count": 5,
   "metadata": {},
   "outputs": [],
   "source": [
    "# Test\n",
    "discriminator = torch.load('1_pd.pt')"
   ]
  },
  {
   "cell_type": "code",
   "execution_count": 8,
   "metadata": {},
   "outputs": [
    {
     "name": "stdout",
     "output_type": "stream",
     "text": [
      "1 tensor(12.9789, device='cuda:0', grad_fn=<SumBackward0>)\n",
      "2 tensor(4.8746, device='cuda:0', grad_fn=<SumBackward0>)\n",
      "3 tensor(1.6308, device='cuda:0', grad_fn=<SumBackward0>)\n",
      "4 tensor(5.3118, device='cuda:0', grad_fn=<SumBackward0>)\n",
      "5 tensor(3.2793, device='cuda:0', grad_fn=<SumBackward0>)\n",
      "6 tensor(3.5675, device='cuda:0', grad_fn=<SumBackward0>)\n",
      "7 tensor(4.5747, device='cuda:0', grad_fn=<SumBackward0>)\n",
      "8 tensor(3.2892, device='cuda:0', grad_fn=<SumBackward0>)\n",
      "9 tensor(9.1721, device='cuda:0', grad_fn=<SumBackward0>)\n"
     ]
    }
   ],
   "source": [
    "# 在不同的缺失率下测试，统一训练的模型\n",
    "for i in range(1,10):\n",
    "\n",
    "    mask_test_list,result_test_list = generate_set(5000,i*0.1)\n",
    "    mask_test_tensor = torch.tensor(np.array(mask_test_list).reshape(-1,133),dtype=torch.float32).cuda()\n",
    "    result_test_tensor = torch.tensor(np.array(result_test_list).reshape(-1,1),dtype=torch.float32).cuda()\n",
    "    results = discriminator(mask_test_tensor)\n",
    "\n",
    "    total_loss = torch.sum(torch.abs(results-result_test_tensor).reshape(-1))\n",
    "    print(i,total_loss)\n"
   ]
  },
  {
   "cell_type": "markdown",
   "metadata": {},
   "source": []
  }
 ],
 "metadata": {
  "interpreter": {
   "hash": "debe0eba4cd14c42079c45b130c6847e4d53516f3ca52c5ebe2be8c2b45bba1b"
  },
  "kernelspec": {
   "display_name": "Python 3 (ipykernel)",
   "language": "python",
   "name": "python3"
  },
  "language_info": {
   "codemirror_mode": {
    "name": "ipython",
    "version": 3
   },
   "file_extension": ".py",
   "mimetype": "text/x-python",
   "name": "python",
   "nbconvert_exporter": "python",
   "pygments_lexer": "ipython3",
   "version": "3.9.9"
  }
 },
 "nbformat": 4,
 "nbformat_minor": 2
}
