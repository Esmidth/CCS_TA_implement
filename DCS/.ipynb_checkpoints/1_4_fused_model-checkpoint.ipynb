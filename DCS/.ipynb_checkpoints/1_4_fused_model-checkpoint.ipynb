{
 "cells": [
  {
   "cell_type": "code",
   "execution_count": 1,
   "metadata": {},
   "outputs": [],
   "source": [
    "# 1\n",
    "import torch\n",
    "from torch import nn,optim\n",
    "from torch.autograd.variable import Variable\n",
    "from torchvision import transforms,datasets\n",
    "from utils import Logger\n",
    "from IPython import display\n",
    "import numpy as np\n",
    "import matplotlib.pyplot as plt\n",
    "import pickle\n",
    "import numpy as np"
   ]
  },
  {
   "cell_type": "code",
   "execution_count": 2,
   "metadata": {},
   "outputs": [],
   "source": [
    "import pickle\n",
    "import os,sys\n",
    "import numpy as np\n",
    "from baseline.AKE.ake import AKE\n",
    "from baseline.Kriging.kriging import OrdryKriging\n",
    "from baseline.NMF.nmf import NMF\n",
    "from baseline.ST_MVL.st_mvl import ST_MVL"
   ]
  },
  {
   "cell_type": "code",
   "execution_count": 3,
   "metadata": {},
   "outputs": [],
   "source": [
    "with open('../tensor2.pkl','rb') as f:\n",
    "    tensor_array = np.array(pickle.load(f))\n",
    "\n",
    "with open('../new_indices.pkl','rb') as f:\n",
    "    new_indices = np.array(pickle.load(f))\n",
    "\n",
    "with open('missing_pattern_data/1_missing_pattern.pkl','rb') as f:\n",
    "    mask_list,result_list = pickle.load(f)\n",
    "    \n",
    "with open('1_output_list_st_mvl.pkl','rb') as f:\n",
    "    output_list = pickle.load(f)\n",
    "    \n",
    "# with open('1_dcs_res_list.pkl','wb') as f:\n",
    "#     pickle.dump(dcs_res_list,f)\n",
    "    \n",
    "with open('1_dcs_res_list2.pkl','rb') as f:\n",
    "    dcs_res_list = pickle.load(f)\n",
    "\n",
    "# with open('1_tensor_array_o.pkl','wb') as f:\n",
    "#     pickle.dump(tensor_array_o,f)\n",
    "\n",
    "with open('1_tensor_array_o.pkl','rb') as f:\n",
    "    tensor_array_o = pickle.load(f)"
   ]
  },
  {
   "cell_type": "code",
   "execution_count": 4,
   "metadata": {},
   "outputs": [],
   "source": [
    "# 5-3 4[128,256] 6.x\n",
    "class DiscriminatorNet(torch.nn.Module):\n",
    "    \"\"\"\n",
    "    A three hidden-layer discriminative neural network\n",
    "    \"\"\"\n",
    "    def __init__(self):\n",
    "        super(DiscriminatorNet, self).__init__()\n",
    "        n_features = 19*7\n",
    "        n_out = 1\n",
    "        \n",
    "        self.hidden0 = nn.Sequential( \n",
    "            nn.Linear(n_features, 256),\n",
    "            nn.LeakyReLU(0.2),\n",
    "            nn.Dropout(0.3)\n",
    "        )\n",
    "\n",
    "        self.hidden4 = nn.Sequential(\n",
    "            nn.Linear(256, 128),\n",
    "            nn.LeakyReLU(0.2),\n",
    "            nn.Dropout(0.3)\n",
    "        )\n",
    "        self.out = nn.Sequential(\n",
    "            torch.nn.Linear(128, n_out),\n",
    "            torch.nn.Sigmoid()\n",
    "        )\n",
    "\n",
    "    def forward(self, x):\n",
    "        x = self.hidden0(x)\n",
    "        x = self.hidden4(x)\n",
    "        x = self.out(x)\n",
    "        return x\n",
    "    \n",
    "class GeneratorNet(torch.nn.Module):\n",
    "    \"\"\"\n",
    "    A three hidden-layer generative neural network\n",
    "    \"\"\"\n",
    "    def __init__(self):\n",
    "        super(GeneratorNet, self).__init__()\n",
    "        n_features = 100\n",
    "        n_out = 19*7\n",
    "        \n",
    "        self.hidden0 = nn.Sequential(\n",
    "            nn.Linear(n_features, 128),\n",
    "            nn.LeakyReLU(0.2)\n",
    "        )\n",
    "\n",
    "        self.hidden1 = nn.Sequential(\n",
    "            nn.Linear(128, 256),\n",
    "            nn.LeakyReLU(0.2)\n",
    "        )\n",
    "        \n",
    "#         self.hidden2 = nn.Sequential(            \n",
    "#             nn.Linear(256, 512),\n",
    "#             nn.LeakyReLU(0.2)\n",
    "#         )\n",
    "        \n",
    "\n",
    "        self.out = nn.Sequential(\n",
    "            nn.Linear(256, n_out),\n",
    "#             nn.Tanh()\n",
    "        )\n",
    "\n",
    "    def forward(self, x):\n",
    "        x = self.hidden0(x)\n",
    "        x = self.hidden1(x)\n",
    "#         x = self.hidden2(x)\n",
    "        x = self.out(x)\n",
    "        return x\n",
    "\n",
    "generator = torch.load('6_generator.pkl')\n",
    "discriminator = torch.load('6_discriminator.pkl')"
   ]
  },
  {
   "cell_type": "code",
   "execution_count": 5,
   "metadata": {},
   "outputs": [],
   "source": [
    "# new generate_missing_matrix with different pattern\n",
    "def generate_missing_matrix(data_matrix,miss_ratio=0.1, pattern='MCAR', start_p='r'):\n",
    "    origin  = data_matrix.copy()\n",
    "    spatial_size = data_matrix.shape[0]\n",
    "    temporal_size = data_matrix.shape[1]\n",
    "    mask = np.ones_like(data_matrix)\n",
    "    if pattern == 'MCAR':\n",
    "\n",
    "        k = round(spatial_size*temporal_size*miss_ratio)\n",
    "        ri = np.random.choice(spatial_size*temporal_size,k,replace=False)\n",
    "\n",
    "    elif pattern == 'MAR':\n",
    "        k = round(spatial_size*temporal_size*miss_ratio/2)\n",
    "        ri1 = np.random.choice(spatial_size*temporal_size,k,replace=False)\n",
    "\n",
    "        random_start = np.random.randint(0,temporal_size)\n",
    "        ri2 = np.linspace(random_start,spatial_size*temporal_size-1,num=k)\n",
    "        ri2 = ri2.astype(int)\n",
    "\n",
    "        ri = np.append(ri1,ri2,0)\n",
    "        # ri = ri2\n",
    "        # print(ri1,ri2)\n",
    "        # print(ri)\n",
    "\n",
    "    elif pattern == \"MNAR\":\n",
    "        if start_p == 'c':\n",
    "            # constant start at #0\n",
    "            k = round(spatial_size* temporal_size*miss_ratio)\n",
    "            # ri = np.random.choice(spatial_size*temporal_size,k,replace=False)\n",
    "            start = 0\n",
    "            # print(k)\n",
    "            # ri = np.arange(0,spatial_size*temporal_size,k-2)\n",
    "            ri = np.linspace(0,spatial_size*temporal_size-1,num=k)\n",
    "            ri = ri.astype(int)\n",
    "            # print(ri)\n",
    "            # print(ri.__len__())\n",
    "        elif start_p == 'r':\n",
    "             # random start at first row\n",
    "            k = round(spatial_size* temporal_size*miss_ratio)\n",
    "            # ri = np.random.choice(spatial_size*temporal_size,k,replace=False)\n",
    "            start = 0\n",
    "            # print(k)\n",
    "            # ri = np.arange(0,spatial_size*temporal_size,k-2)\n",
    "            random_start = np.random.randint(0,temporal_size)\n",
    "            ri = np.linspace(random_start,spatial_size*temporal_size-1,num=k)\n",
    "            ri = ri.astype(int)\n",
    "            # print(ri)\n",
    "            # print(ri.__len__())           pass\n",
    "        else:\n",
    "            raise NameError\n",
    "    else:\n",
    "        raise NameError\n",
    "    origin.flat[ri] = 0\n",
    "    mask.flat[ri] = 0\n",
    "    return origin,mask\n",
    "# data_matrix,mask =generate_missing_matrix(tensor_array[0],0.2,'MNAR','r')"
   ]
  },
  {
   "cell_type": "code",
   "execution_count": 6,
   "metadata": {},
   "outputs": [],
   "source": [
    "# 3\n",
    "def noise(size):\n",
    "    n = Variable(torch.randn(size, 100))\n",
    "    if torch.cuda.is_available(): return n.cuda() \n",
    "    return n"
   ]
  },
  {
   "cell_type": "code",
   "execution_count": 7,
   "metadata": {},
   "outputs": [],
   "source": [
    "#7-1\n",
    "def reconstruction_gpu(data_matrix,mask):\n",
    "#     print('step in')\n",
    "    data_matrix_gpu = torch.tensor(data_matrix).cuda()\n",
    "    mask_gpu = torch.tensor(mask).cuda()\n",
    "#     print('init')\n",
    "    \n",
    "    times = 0\n",
    "    min_mre = 9999\n",
    "    min_g1_c = 0\n",
    "    while True:\n",
    "        g1 = generator(noise(8000))\n",
    "        g1_c = g1.reshape(-1,19,7)\n",
    "#         g1_c = g1.cpu().detach().numpy().reshape(80000,19,7)\n",
    "#         del g1\n",
    "        loss = g1_c * mask_gpu - data_matrix_gpu\n",
    "#         print(loss.shape)\n",
    "#         print(loss)\n",
    "        loss = torch.abs(loss)\n",
    "#         print(loss.shape)\n",
    "#         print(loss)\n",
    "        mre = torch.sum(loss,axis=1)\n",
    "#         print(mre.shape)\n",
    "#         print(mre)\n",
    "        mre = torch.sum(mre,axis=1)\n",
    "#         print(mre.shape)\n",
    "#         print(mre)\n",
    "#         print(\"min_mre:\",np.min(mre))\n",
    "        m_mre = torch.min(mre)\n",
    "#         print(m_mre)\n",
    "        loc = torch.where(mre == m_mre)[0][0]\n",
    "#         print(\"loc:\",loc)\n",
    "#         print(g1_c[loc])\n",
    "        g1_cpu = g1_c[loc].detach().cpu()\n",
    "#         print(g1_cpu.is_cuda)\n",
    "#         print(type(g1_cpu))\n",
    "#         del g1_c\n",
    "#         del g1\n",
    "        torch.cuda.empty_cache()\n",
    "#         print('cleared')\n",
    "        times += 1\n",
    "        if m_mre < min_mre:\n",
    "            min_mre = m_mre\n",
    "            min_g1_c = g1_cpu\n",
    "        \n",
    "        \n",
    "        if m_mre < 60 or times > 10:\n",
    "            break\n",
    "    if m_mre < 60:\n",
    "        return g1_cpu.numpy()\n",
    "    else:\n",
    "        return min_g1_c.numpy()\n",
    "        \n",
    "            \n",
    "        \n",
    "#         print(np.sum(np.abs(loss)))\n",
    "        \n",
    "#         min_mre = np.\n",
    "#         for g1_i in g1_c:\n",
    "#             loss = g1_i*mask - data_matrix\n",
    "#             mre = np.sum(np.abs(loss))\n",
    "#             times += 1\n",
    "\n",
    "#             if mre < min_mre:\n",
    "#                 min_mre = mre\n",
    "#                 min_g1_c = g1_c\n",
    "\n",
    "#             if mre < 60 or times > 40000: #40000\n",
    "#             # if mre < 60:\n",
    "#                 break\n",
    "# #             min_mre = mre\n",
    "# #             re_data_matrix = j\n",
    "# #     print(min_mre)\n",
    "#     if mre < 60:\n",
    "#         return g1_c\n",
    "#     else:\n",
    "        \n",
    "#         return min_g1_c\n",
    "data_matrix,mask =generate_missing_matrix(tensor_array[1000],0.1)\n",
    "re_data = reconstruction_gpu(data_matrix,mask)"
   ]
  },
  {
   "cell_type": "code",
   "execution_count": 8,
   "metadata": {},
   "outputs": [],
   "source": [
    "def get_distance_matrix(data_matrix,linear=False):\n",
    "    if not linear:\n",
    "        spatial_length = data_matrix.shape[0]\n",
    "        # print(spatial_length)\n",
    "        dis_matrix = np.random.rand(spatial_length,spatial_length)\n",
    "        dis_matrix += dis_matrix.T\n",
    "        np.fill_diagonal(dis_matrix,0)\n",
    "        return dis_matrix\n",
    "    else:\n",
    "        spatial_length = data_matrix.shape[0]\n",
    "        dis_matrix = np.zeros((spatial_length,spatial_length))\n",
    "        for i in range(spatial_length):\n",
    "            dis_matrix[i][i:] = np.arange(0,spatial_length-i)\n",
    "        dis_matrix = dis_matrix + dis_matrix.T\n",
    "        return dis_matrix"
   ]
  },
  {
   "cell_type": "code",
   "execution_count": 9,
   "metadata": {},
   "outputs": [
    {
     "name": "stdout",
     "output_type": "stream",
     "text": [
      "195.87390953397752\n"
     ]
    }
   ],
   "source": [
    "def loss_compute(origin_data,re_data,mask):\n",
    "    return np.sum(np.abs((re_data-origin_data)*(1-mask)))\n",
    "\n",
    "print(loss_compute(tensor_array[15000],re_data,mask))"
   ]
  },
  {
   "cell_type": "code",
   "execution_count": 10,
   "metadata": {},
   "outputs": [],
   "source": [
    "class PatternDiscriminator(torch.nn.Module):\n",
    "\n",
    "    def __init__(self):\n",
    "        super(PatternDiscriminator,self).__init__()\n",
    "        n_features=19*7\n",
    "        n_out = 1\n",
    "\n",
    "        self.hidden0 = nn.Sequential( \n",
    "            nn.Linear(n_features, 2048),\n",
    "            nn.LeakyReLU(0.2),\n",
    "            nn.Dropout(0.3)\n",
    "        )\n",
    "        self.hidden1 = nn.Sequential(\n",
    "            nn.Linear(2048,1024),\n",
    "            nn.LeakyReLU(0.2),\n",
    "            nn.Dropout(0.3)\n",
    "        )\n",
    "        self.hidden2 = nn.Sequential(\n",
    "            nn.Linear(1024,512),\n",
    "            nn.LeakyReLU(0.2),\n",
    "            nn.Dropout(0.3)\n",
    "        )\n",
    "\n",
    "        self.hidden3 = nn.Sequential(\n",
    "            nn.Linear(2048,256),\n",
    "            nn.LeakyReLU(0.2),\n",
    "            nn.Dropout(0.3)\n",
    "        )\n",
    "        self.hidden4 = nn.Sequential(\n",
    "            nn.Linear(256, 128),\n",
    "            nn.LeakyReLU(0.2),\n",
    "            nn.Dropout(0.3)\n",
    "        )\n",
    "        self.out = nn.Sequential(\n",
    "            torch.nn.Linear(128, n_out),\n",
    "            torch.nn.Sigmoid()\n",
    "        )\n",
    "\n",
    "    def forward(self, x):\n",
    "        x = self.hidden0(x)\n",
    "#         x = self.hidden1(x)\n",
    "#         x = self.hidden2(x)\n",
    "        x = self.hidden3(x)\n",
    "        x = self.hidden4(x)\n",
    "        x = self.out(x)\n",
    "        return x\n",
    "    \n",
    "# p_discriminator = torch.load('1_pd2.pkl')"
   ]
  },
  {
   "cell_type": "code",
   "execution_count": 11,
   "metadata": {},
   "outputs": [],
   "source": [
    "# from multiprocessing import Pool\n",
    "# import multiprocessing as mp\n",
    "\n",
    "# manager = mp.Manager()\n",
    "\n",
    "# def compute(missing_ratio,pattern):\n",
    "#     with open('../tensor2.pkl','rb') as f:\n",
    "#         tensor_array = np.array(pickle.load(f))\n",
    "#     data_matrix_list = []\n",
    "#     mask_list = []\n",
    "#     ds_list = []\n",
    "#     res_list = []\n",
    "#     for tensor in tensor_array:\n",
    "#         data_matrix,mask = generate_missing_matrix(tensor,missing_ratio,pattern,'r')\n",
    "#         ds = get_distance_matrix(data_matrix,True)\n",
    "#         data_matrix_list.append(data_matrix)\n",
    "#         mask_list.append(mask)\n",
    "#         ds_list.append(ds)\n",
    "#         st_mvl = ST_MVL()\n",
    "#         res_list.append(st_mvl.predict(data_matrix,ds))\n",
    "#     print('done_{}_{}'.format(missing_ratio,pattern))\n",
    "#     return (data_matrix_list,mask_list,ds_list,res_list,'{}_{}'.format(missing_ratio,pattern))\n",
    "\n",
    "# results = []\n",
    "# p = Pool(16)\n",
    "\n",
    "# for i in range(1,10):\n",
    "#     for pattern in ['MCAR','MAR','MNAR']:\n",
    "#         result = p.apply_async(func=compute,args=(0.1*i,pattern))\n",
    "#         results.append(result)\n",
    "# p.close()\n",
    "# p.join()\n",
    "\n",
    "# output_list = []\n",
    "# for result in results:\n",
    "#     output_list.append(result.get())"
   ]
  },
  {
   "cell_type": "code",
   "execution_count": 12,
   "metadata": {},
   "outputs": [],
   "source": [
    "#\n",
    "#with open('1_output_list_st_mvl.pkl','wb') as f:\n",
    "#    pickle.dump(output_list,f)"
   ]
  },
  {
   "cell_type": "code",
   "execution_count": 13,
   "metadata": {},
   "outputs": [],
   "source": [
    "# with open('1_output_list_st_mvl.pkl','rb') as f:\n",
    "#     output_list = pickle.load(f)"
   ]
  },
  {
   "cell_type": "code",
   "execution_count": 14,
   "metadata": {},
   "outputs": [],
   "source": [
    "# with open('1_tensor_array_o.pkl','wb') as f:\n",
    "#     pickle.dump(tensor_array_o,f)\n",
    "\n",
    "# with open('1_tensor_array_o.pkl','rb') as f:\n",
    "#     tensor_array_o = pickle.load(f)"
   ]
  },
  {
   "cell_type": "code",
   "execution_count": 11,
   "metadata": {},
   "outputs": [
    {
     "name": "stdout",
     "output_type": "stream",
     "text": [
      "807246\n"
     ]
    }
   ],
   "source": [
    "data_matrix_list = []\n",
    "mask_list = []\n",
    "res_list = []\n",
    "# data_matrix_list, mask_list, ds_list, res_list,'{}_{}'\n",
    "\n",
    "\n",
    "for i in output_list:\n",
    "    data_matrix_list.extend(i[0])\n",
    "    mask_list.extend(i[1])\n",
    "    res_list.extend(i[3])\n",
    "print(len(data_matrix_list))\n",
    "\n",
    "data_matrix_array = np.array(data_matrix_list)#.reshape(-1,133)\n",
    "mask_array = np.array(mask_list)#.reshape(-1,133)\n",
    "res_array = np.array(res_list).reshape(-1,133)\n",
    "dcs_res_array = np.array(dcs_res_list).reshape(-1,133)"
   ]
  },
  {
   "cell_type": "code",
   "execution_count": 12,
   "metadata": {},
   "outputs": [
    {
     "name": "stdout",
     "output_type": "stream",
     "text": [
      "807246\n"
     ]
    }
   ],
   "source": [
    "i = 0\n",
    "drop_list = []\n",
    "for tensor in tensor_array_o:\n",
    "    loc = np.where(np.isnan(tensor)== True)[0]\n",
    "    if len(loc) == 0:\n",
    "        drop_list.append(i)\n",
    "    i+=1\n",
    "print(i)"
   ]
  },
  {
   "cell_type": "code",
   "execution_count": 13,
   "metadata": {},
   "outputs": [
    {
     "name": "stdout",
     "output_type": "stream",
     "text": [
      "(805518, 19, 7)\n"
     ]
    }
   ],
   "source": [
    "data_matrix_array = data_matrix_array[np.array(drop_list)]\n",
    "mask_array = mask_array[np.array(drop_list)]\n",
    "res_array = res_array[np.array(drop_list)]\n",
    "tensor_array_o = tensor_array_o[np.array(drop_list)]\n",
    "dcs_res_array = dcs_res_array[np.array(drop_list)]\n",
    "\n",
    "print(data_matrix_array.shape)"
   ]
  },
  {
   "cell_type": "code",
   "execution_count": 14,
   "metadata": {},
   "outputs": [
    {
     "data": {
      "text/plain": [
       "(array([], dtype=int64), array([], dtype=int64))"
      ]
     },
     "execution_count": 14,
     "metadata": {},
     "output_type": "execute_result"
    }
   ],
   "source": [
    "np.where(np.isnan(tensor_array_o ) == True)"
   ]
  },
  {
   "cell_type": "code",
   "execution_count": 19,
   "metadata": {},
   "outputs": [],
   "source": [
    "# dcs_res_list = []\n",
    "# for i,j in enumerate(data_matrix_array):\n",
    "#     print(i)\n",
    "#     dcs_res = reconstruction_gpu(data_matrix_array[i],mask_array[i])\n",
    "#     dcs_res_list.append(dcs_res)"
   ]
  },
  {
   "cell_type": "code",
   "execution_count": 20,
   "metadata": {},
   "outputs": [],
   "source": [
    "# with open('1_dcs_res_list2.pkl','wb') as f:\n",
    "#     pickle.dump(dcs_res_list,f)"
   ]
  },
  {
   "cell_type": "code",
   "execution_count": 14,
   "metadata": {},
   "outputs": [
    {
     "name": "stdout",
     "output_type": "stream",
     "text": [
      "(805518, 19, 7)\n",
      "(805518, 19, 7)\n",
      "(805518, 133)\n",
      "(805518, 133)\n",
      "(805518, 133)\n"
     ]
    }
   ],
   "source": [
    "print(data_matrix_array.shape)\n",
    "print(mask_array.shape)\n",
    "print(res_array.shape)\n",
    "print(dcs_res_array.shape)\n",
    "print(tensor_array_o.shape)"
   ]
  },
  {
   "cell_type": "code",
   "execution_count": 34,
   "metadata": {},
   "outputs": [],
   "source": [
    "diff_mvl_tensor = torch.sum(torch.abs(result_tensor-mvl_result_tensor),axis=1)"
   ]
  },
  {
   "cell_type": "code",
   "execution_count": 51,
   "metadata": {},
   "outputs": [],
   "source": [
    "diff_dcs_tensor = torch.sum(torch.abs((result_tensor-dcs_result_tensor)*(1-mvl_mask_tensor)),axis=1)"
   ]
  },
  {
   "cell_type": "code",
   "execution_count": 44,
   "metadata": {},
   "outputs": [
    {
     "data": {
      "text/plain": [
       "tensor(200.5632, device='cuda:0')"
      ]
     },
     "execution_count": 44,
     "metadata": {},
     "output_type": "execute_result"
    }
   ],
   "source": [
    "diff_dcs_tensor[87878]"
   ]
  },
  {
   "cell_type": "code",
   "execution_count": 52,
   "metadata": {},
   "outputs": [
    {
     "data": {
      "text/plain": [
       "<matplotlib.legend.Legend at 0x7f0702acc730>"
      ]
     },
     "execution_count": 52,
     "metadata": {},
     "output_type": "execute_result"
    },
    {
     "data": {
      "image/png": "[encoded data removed]",
      "text/plain": [
       "<Figure size 432x288 with 1 Axes>"
      ]
     },
     "metadata": {
      "needs_background": "light"
     },
     "output_type": "display_data"
    }
   ],
   "source": [
    "plt.plot(diff_mvl_tensor.cpu(),label='mvl')\n",
    "plt.plot(diff_dcs_tensor.cpu(),label='dcs')\n",
    "plt.legend()"
   ]
  },
  {
   "cell_type": "code",
   "execution_count": 56,
   "metadata": {},
   "outputs": [
    {
     "data": {
      "text/plain": [
       "<matplotlib.legend.Legend at 0x7f07019de520>"
      ]
     },
     "execution_count": 56,
     "metadata": {},
     "output_type": "execute_result"
    },
    {
     "data": {
      "image/png": "[encoded data removed]",
      "text/plain": [
       "<Figure size 432x288 with 1 Axes>"
      ]
     },
     "metadata": {
      "needs_background": "light"
     },
     "output_type": "display_data"
    }
   ],
   "source": [
    "# plt.plot(,label='mvl')\n",
    "diff_tensor = diff_mvl_tensor.cpu()-diff_dcs_tensor.cpu()\n",
    "plt.plot(diff_tensor,label='diff')\n",
    "plt.legend()"
   ]
  },
  {
   "cell_type": "code",
   "execution_count": 62,
   "metadata": {},
   "outputs": [
    {
     "name": "stdout",
     "output_type": "stream",
     "text": [
      "torch.Size([805518])\n"
     ]
    }
   ],
   "source": [
    "res_new_tensor = torch.ones_like(diff_tensor)\n",
    "print(res_new_tensor.shape)"
   ]
  },
  {
   "cell_type": "code",
   "execution_count": 63,
   "metadata": {},
   "outputs": [],
   "source": [
    "res_new_tensor[torch.where(diff_tensor < 0)[0]] = 0"
   ]
  },
  {
   "cell_type": "code",
   "execution_count": 15,
   "metadata": {},
   "outputs": [],
   "source": [
    "# data_matrix_tensor = torch.tensor(data_matrix_array.reshape(-1,133)[:400000],dtype=torch.float32).cuda()\n",
    "# result_tensor = torch.tensor(tensor_array_o[:400000],dtype=torch.float32).cuda()\n",
    "# mvl_mask_tensor  = torch.tensor(mask_array.reshape(-1,133)[:400000],dtype=torch.float32).cuda()\n",
    "# mvl_result_tensor = torch.tensor(res_array[:400000],dtype=torch.float32).cuda()\n",
    "# dcs_result_tensor = torch.tensor(dcs_res_array[:400000],dtype=torch.float32).cuda()\n",
    "\n",
    "# result_tensor = torch.tensor(tensor_array_o[400000:800000],dtype=torch.float32).cuda()\n",
    "# mvl_mask_tensor  = torch.tensor(mask_array.reshape(-1,133)[400000:800000],dtype=torch.float32).cuda()\n",
    "# mvl_result_tensor = torch.tensor(res_array[400000:800000],dtype=torch.float32).cuda()\n",
    "# dcs_result_tensor = torch.tensor(dcs_res_array[400000:800000],dtype=torch.float32).cuda()\n",
    "with open('1_res_new_tensor.pkl','rb') as f:\n",
    "    res_new_tensor = pickle.load(f)\n",
    "#     pickle.dump(res_new_tensor,f)\n",
    "\n",
    "# res_new_tensor  = res_new_tensor\n",
    "# result_tensor = torch.tensor(tensor_array_o,dtype=torch.float32).cuda()\n",
    "mvl_mask_tensor  = torch.tensor(mask_array.reshape(-1,133),dtype=torch.float32).cuda()\n",
    "mvl_result_tensor = torch.tensor(res_array,dtype=torch.float32).cuda()\n",
    "dcs_result_tensor = torch.tensor(dcs_res_array,dtype=torch.float32).cuda()"
   ]
  },
  {
   "cell_type": "code",
   "execution_count": 65,
   "metadata": {},
   "outputs": [],
   "source": [
    "# with open('1_res_new_tensor.pkl','wb') as f:\n",
    "#     pickle.dump(res_new_tensor,f)"
   ]
  },
  {
   "cell_type": "code",
   "execution_count": 16,
   "metadata": {},
   "outputs": [
    {
     "ename": "NameError",
     "evalue": "name 'result_tensor' is not defined",
     "output_type": "error",
     "traceback": [
      "\u001b[0;31m---------------------------------------------------------------------------\u001b[0m",
      "\u001b[0;31mNameError\u001b[0m                                 Traceback (most recent call last)",
      "\u001b[0;32m/tmp/ipykernel_143404/765399123.py\u001b[0m in \u001b[0;36m<module>\u001b[0;34m\u001b[0m\n\u001b[1;32m      1\u001b[0m \u001b[0;31m# print(data_matrix_tensor.shape)\u001b[0m\u001b[0;34m\u001b[0m\u001b[0;34m\u001b[0m\u001b[0m\n\u001b[0;32m----> 2\u001b[0;31m \u001b[0mprint\u001b[0m\u001b[0;34m(\u001b[0m\u001b[0mresult_tensor\u001b[0m\u001b[0;34m.\u001b[0m\u001b[0mshape\u001b[0m\u001b[0;34m)\u001b[0m\u001b[0;34m\u001b[0m\u001b[0;34m\u001b[0m\u001b[0m\n\u001b[0m\u001b[1;32m      3\u001b[0m \u001b[0mprint\u001b[0m\u001b[0;34m(\u001b[0m\u001b[0mmvl_mask_tensor\u001b[0m\u001b[0;34m.\u001b[0m\u001b[0mshape\u001b[0m\u001b[0;34m)\u001b[0m\u001b[0;34m\u001b[0m\u001b[0;34m\u001b[0m\u001b[0m\n\u001b[1;32m      4\u001b[0m \u001b[0mprint\u001b[0m\u001b[0;34m(\u001b[0m\u001b[0mmvl_result_tensor\u001b[0m\u001b[0;34m.\u001b[0m\u001b[0mshape\u001b[0m\u001b[0;34m)\u001b[0m\u001b[0;34m\u001b[0m\u001b[0;34m\u001b[0m\u001b[0m\n\u001b[1;32m      5\u001b[0m \u001b[0mprint\u001b[0m\u001b[0;34m(\u001b[0m\u001b[0mdcs_result_tensor\u001b[0m\u001b[0;34m.\u001b[0m\u001b[0mshape\u001b[0m\u001b[0;34m)\u001b[0m\u001b[0;34m\u001b[0m\u001b[0;34m\u001b[0m\u001b[0m\n",
      "\u001b[0;31mNameError\u001b[0m: name 'result_tensor' is not defined"
     ]
    }
   ],
   "source": [
    "# print(data_matrix_tensor.shape)\n",
    "print(result_tensor.shape)\n",
    "print(mvl_mask_tensor.shape)\n",
    "print(mvl_result_tensor.shape)\n",
    "print(dcs_result_tensor.shape)"
   ]
  },
  {
   "cell_type": "code",
   "execution_count": 17,
   "metadata": {},
   "outputs": [],
   "source": [
    "# New\n",
    "p_discriminator = PatternDiscriminator().cuda()\n",
    "d_optimizer = optim.Adam(discriminator.parameters(),lr=0.002)\n",
    "    \n",
    "loss = nn.BCELoss()\n",
    "# loss = nn.MSELoss()\n",
    "# loss = nn.L1Loss()\n",
    "# loss = nn.SmoothL1Loss()\n",
    "# loss = nn.CrossEntropyLoss()\n",
    "\n",
    "\n",
    "# SmoothL1Loss\n",
    "\n",
    "\n",
    "d_steps=1\n",
    "num_epoch=10\n",
    "\n",
    "\n",
    "def train_d(optimizer,result_tensor, mask):\n",
    "\n",
    "    optimizer.zero_grad()\n",
    "    \n",
    "#     print(result_tensor.shape)\n",
    "#     print(dcs_res.shape)\n",
    "#     print(mvl_res.shape)\n",
    "#     print(mask.shape)\n",
    "    \n",
    "#     dcs_res = reconstruction_gpu(data_matrix,mask)\n",
    "    \n",
    "#     ds = get_distance_matrix(data_matrix,True)\n",
    "    \n",
    "#     mvl_res = stmvl.predict(data_matrix,ds)\n",
    "    \n",
    "    p_d = p_discriminator(mask)\n",
    "    \n",
    "#     print(p_d.shape)\n",
    "\n",
    "    \n",
    "    \n",
    "#     print(prediction.shape)\n",
    "    \n",
    "    error = loss(p_d,result_tensor)\n",
    "    error.backward()\n",
    "\n",
    "    optimizer.step()\n",
    "\n",
    "    return error, p_d"
   ]
  },
  {
   "cell_type": "code",
   "execution_count": 18,
   "metadata": {},
   "outputs": [
    {
     "ename": "RuntimeError",
     "evalue": "CUDA out of memory. Tried to allocate 3.05 GiB (GPU 0; 7.79 GiB total capacity; 4.06 GiB already allocated; 2.63 GiB free; 4.07 GiB reserved in total by PyTorch) If reserved memory is >> allocated memory try setting max_split_size_mb to avoid fragmentation.  See documentation for Memory Management and PYTORCH_CUDA_ALLOC_CONF",
     "output_type": "error",
     "traceback": [
      "\u001b[0;31m---------------------------------------------------------------------------\u001b[0m",
      "\u001b[0;31mRuntimeError\u001b[0m                              Traceback (most recent call last)",
      "\u001b[0;32m/tmp/ipykernel_143404/1019073695.py\u001b[0m in \u001b[0;36m<module>\u001b[0;34m\u001b[0m\n\u001b[1;32m      8\u001b[0m     \u001b[0;32mfor\u001b[0m \u001b[0mepoch\u001b[0m \u001b[0;32min\u001b[0m \u001b[0mrange\u001b[0m\u001b[0;34m(\u001b[0m\u001b[0mnum_epoch\u001b[0m\u001b[0;34m)\u001b[0m\u001b[0;34m:\u001b[0m\u001b[0;34m\u001b[0m\u001b[0;34m\u001b[0m\u001b[0m\n\u001b[1;32m      9\u001b[0m \u001b[0;31m#     error = train_d(d_optimizer,result_tensor,data_matrix_tensor,mvl_mask_tensor,mvl_result_tensor)\u001b[0m\u001b[0;34m\u001b[0m\u001b[0;34m\u001b[0m\u001b[0m\n\u001b[0;32m---> 10\u001b[0;31m         \u001b[0merror\u001b[0m \u001b[0;34m=\u001b[0m \u001b[0mtrain_d\u001b[0m\u001b[0;34m(\u001b[0m\u001b[0md_optimizer\u001b[0m\u001b[0;34m,\u001b[0m\u001b[0mres_new_tensor_gpu\u001b[0m\u001b[0;34m,\u001b[0m\u001b[0mmvl_mask_tensor\u001b[0m\u001b[0;34m)\u001b[0m\u001b[0;34m\u001b[0m\u001b[0;34m\u001b[0m\u001b[0m\n\u001b[0m\u001b[1;32m     11\u001b[0m         \u001b[0mprint\u001b[0m\u001b[0;34m(\u001b[0m\u001b[0merror\u001b[0m\u001b[0;34m[\u001b[0m\u001b[0;36m0\u001b[0m\u001b[0;34m]\u001b[0m\u001b[0;34m)\u001b[0m\u001b[0;34m\u001b[0m\u001b[0;34m\u001b[0m\u001b[0m\n\u001b[1;32m     12\u001b[0m \u001b[0;34m\u001b[0m\u001b[0m\n",
      "\u001b[0;32m/tmp/ipykernel_143404/2992594663.py\u001b[0m in \u001b[0;36mtrain_d\u001b[0;34m(optimizer, result_tensor, mask)\u001b[0m\n\u001b[1;32m     32\u001b[0m \u001b[0;31m#     mvl_res = stmvl.predict(data_matrix,ds)\u001b[0m\u001b[0;34m\u001b[0m\u001b[0;34m\u001b[0m\u001b[0m\n\u001b[1;32m     33\u001b[0m \u001b[0;34m\u001b[0m\u001b[0m\n\u001b[0;32m---> 34\u001b[0;31m     \u001b[0mp_d\u001b[0m \u001b[0;34m=\u001b[0m \u001b[0mp_discriminator\u001b[0m\u001b[0;34m(\u001b[0m\u001b[0mmask\u001b[0m\u001b[0;34m)\u001b[0m\u001b[0;34m\u001b[0m\u001b[0;34m\u001b[0m\u001b[0m\n\u001b[0m\u001b[1;32m     35\u001b[0m \u001b[0;34m\u001b[0m\u001b[0m\n\u001b[1;32m     36\u001b[0m \u001b[0;31m#     print(p_d.shape)\u001b[0m\u001b[0;34m\u001b[0m\u001b[0;34m\u001b[0m\u001b[0m\n",
      "\u001b[0;32m~/.pyenv/versions/3.9.9/envs/ccs_ta_test/lib/python3.9/site-packages/torch/nn/modules/module.py\u001b[0m in \u001b[0;36m_call_impl\u001b[0;34m(self, *input, **kwargs)\u001b[0m\n\u001b[1;32m   1100\u001b[0m         if not (self._backward_hooks or self._forward_hooks or self._forward_pre_hooks or _global_backward_hooks\n\u001b[1;32m   1101\u001b[0m                 or _global_forward_hooks or _global_forward_pre_hooks):\n\u001b[0;32m-> 1102\u001b[0;31m             \u001b[0;32mreturn\u001b[0m \u001b[0mforward_call\u001b[0m\u001b[0;34m(\u001b[0m\u001b[0;34m*\u001b[0m\u001b[0minput\u001b[0m\u001b[0;34m,\u001b[0m \u001b[0;34m**\u001b[0m\u001b[0mkwargs\u001b[0m\u001b[0;34m)\u001b[0m\u001b[0;34m\u001b[0m\u001b[0;34m\u001b[0m\u001b[0m\n\u001b[0m\u001b[1;32m   1103\u001b[0m         \u001b[0;31m# Do not call functions when jit is used\u001b[0m\u001b[0;34m\u001b[0m\u001b[0;34m\u001b[0m\u001b[0m\n\u001b[1;32m   1104\u001b[0m         \u001b[0mfull_backward_hooks\u001b[0m\u001b[0;34m,\u001b[0m \u001b[0mnon_full_backward_hooks\u001b[0m \u001b[0;34m=\u001b[0m \u001b[0;34m[\u001b[0m\u001b[0;34m]\u001b[0m\u001b[0;34m,\u001b[0m \u001b[0;34m[\u001b[0m\u001b[0;34m]\u001b[0m\u001b[0;34m\u001b[0m\u001b[0;34m\u001b[0m\u001b[0m\n",
      "\u001b[0;32m/tmp/ipykernel_143404/4116307428.py\u001b[0m in \u001b[0;36mforward\u001b[0;34m(self, x)\u001b[0m\n\u001b[1;32m     38\u001b[0m \u001b[0;34m\u001b[0m\u001b[0m\n\u001b[1;32m     39\u001b[0m     \u001b[0;32mdef\u001b[0m \u001b[0mforward\u001b[0m\u001b[0;34m(\u001b[0m\u001b[0mself\u001b[0m\u001b[0;34m,\u001b[0m \u001b[0mx\u001b[0m\u001b[0;34m)\u001b[0m\u001b[0;34m:\u001b[0m\u001b[0;34m\u001b[0m\u001b[0;34m\u001b[0m\u001b[0m\n\u001b[0;32m---> 40\u001b[0;31m         \u001b[0mx\u001b[0m \u001b[0;34m=\u001b[0m \u001b[0mself\u001b[0m\u001b[0;34m.\u001b[0m\u001b[0mhidden0\u001b[0m\u001b[0;34m(\u001b[0m\u001b[0mx\u001b[0m\u001b[0;34m)\u001b[0m\u001b[0;34m\u001b[0m\u001b[0;34m\u001b[0m\u001b[0m\n\u001b[0m\u001b[1;32m     41\u001b[0m         \u001b[0mx\u001b[0m \u001b[0;34m=\u001b[0m \u001b[0mself\u001b[0m\u001b[0;34m.\u001b[0m\u001b[0mhidden1\u001b[0m\u001b[0;34m(\u001b[0m\u001b[0mx\u001b[0m\u001b[0;34m)\u001b[0m\u001b[0;34m\u001b[0m\u001b[0;34m\u001b[0m\u001b[0m\n\u001b[1;32m     42\u001b[0m         \u001b[0mx\u001b[0m \u001b[0;34m=\u001b[0m \u001b[0mself\u001b[0m\u001b[0;34m.\u001b[0m\u001b[0mhidden2\u001b[0m\u001b[0;34m(\u001b[0m\u001b[0mx\u001b[0m\u001b[0;34m)\u001b[0m\u001b[0;34m\u001b[0m\u001b[0;34m\u001b[0m\u001b[0m\n",
      "\u001b[0;32m~/.pyenv/versions/3.9.9/envs/ccs_ta_test/lib/python3.9/site-packages/torch/nn/modules/module.py\u001b[0m in \u001b[0;36m_call_impl\u001b[0;34m(self, *input, **kwargs)\u001b[0m\n\u001b[1;32m   1100\u001b[0m         if not (self._backward_hooks or self._forward_hooks or self._forward_pre_hooks or _global_backward_hooks\n\u001b[1;32m   1101\u001b[0m                 or _global_forward_hooks or _global_forward_pre_hooks):\n\u001b[0;32m-> 1102\u001b[0;31m             \u001b[0;32mreturn\u001b[0m \u001b[0mforward_call\u001b[0m\u001b[0;34m(\u001b[0m\u001b[0;34m*\u001b[0m\u001b[0minput\u001b[0m\u001b[0;34m,\u001b[0m \u001b[0;34m**\u001b[0m\u001b[0mkwargs\u001b[0m\u001b[0;34m)\u001b[0m\u001b[0;34m\u001b[0m\u001b[0;34m\u001b[0m\u001b[0m\n\u001b[0m\u001b[1;32m   1103\u001b[0m         \u001b[0;31m# Do not call functions when jit is used\u001b[0m\u001b[0;34m\u001b[0m\u001b[0;34m\u001b[0m\u001b[0m\n\u001b[1;32m   1104\u001b[0m         \u001b[0mfull_backward_hooks\u001b[0m\u001b[0;34m,\u001b[0m \u001b[0mnon_full_backward_hooks\u001b[0m \u001b[0;34m=\u001b[0m \u001b[0;34m[\u001b[0m\u001b[0;34m]\u001b[0m\u001b[0;34m,\u001b[0m \u001b[0;34m[\u001b[0m\u001b[0;34m]\u001b[0m\u001b[0;34m\u001b[0m\u001b[0;34m\u001b[0m\u001b[0m\n",
      "\u001b[0;32m~/.pyenv/versions/3.9.9/envs/ccs_ta_test/lib/python3.9/site-packages/torch/nn/modules/container.py\u001b[0m in \u001b[0;36mforward\u001b[0;34m(self, input)\u001b[0m\n\u001b[1;32m    139\u001b[0m     \u001b[0;32mdef\u001b[0m \u001b[0mforward\u001b[0m\u001b[0;34m(\u001b[0m\u001b[0mself\u001b[0m\u001b[0;34m,\u001b[0m \u001b[0minput\u001b[0m\u001b[0;34m)\u001b[0m\u001b[0;34m:\u001b[0m\u001b[0;34m\u001b[0m\u001b[0;34m\u001b[0m\u001b[0m\n\u001b[1;32m    140\u001b[0m         \u001b[0;32mfor\u001b[0m \u001b[0mmodule\u001b[0m \u001b[0;32min\u001b[0m \u001b[0mself\u001b[0m\u001b[0;34m:\u001b[0m\u001b[0;34m\u001b[0m\u001b[0;34m\u001b[0m\u001b[0m\n\u001b[0;32m--> 141\u001b[0;31m             \u001b[0minput\u001b[0m \u001b[0;34m=\u001b[0m \u001b[0mmodule\u001b[0m\u001b[0;34m(\u001b[0m\u001b[0minput\u001b[0m\u001b[0;34m)\u001b[0m\u001b[0;34m\u001b[0m\u001b[0;34m\u001b[0m\u001b[0m\n\u001b[0m\u001b[1;32m    142\u001b[0m         \u001b[0;32mreturn\u001b[0m \u001b[0minput\u001b[0m\u001b[0;34m\u001b[0m\u001b[0;34m\u001b[0m\u001b[0m\n\u001b[1;32m    143\u001b[0m \u001b[0;34m\u001b[0m\u001b[0m\n",
      "\u001b[0;32m~/.pyenv/versions/3.9.9/envs/ccs_ta_test/lib/python3.9/site-packages/torch/nn/modules/module.py\u001b[0m in \u001b[0;36m_call_impl\u001b[0;34m(self, *input, **kwargs)\u001b[0m\n\u001b[1;32m   1100\u001b[0m         if not (self._backward_hooks or self._forward_hooks or self._forward_pre_hooks or _global_backward_hooks\n\u001b[1;32m   1101\u001b[0m                 or _global_forward_hooks or _global_forward_pre_hooks):\n\u001b[0;32m-> 1102\u001b[0;31m             \u001b[0;32mreturn\u001b[0m \u001b[0mforward_call\u001b[0m\u001b[0;34m(\u001b[0m\u001b[0;34m*\u001b[0m\u001b[0minput\u001b[0m\u001b[0;34m,\u001b[0m \u001b[0;34m**\u001b[0m\u001b[0mkwargs\u001b[0m\u001b[0;34m)\u001b[0m\u001b[0;34m\u001b[0m\u001b[0;34m\u001b[0m\u001b[0m\n\u001b[0m\u001b[1;32m   1103\u001b[0m         \u001b[0;31m# Do not call functions when jit is used\u001b[0m\u001b[0;34m\u001b[0m\u001b[0;34m\u001b[0m\u001b[0m\n\u001b[1;32m   1104\u001b[0m         \u001b[0mfull_backward_hooks\u001b[0m\u001b[0;34m,\u001b[0m \u001b[0mnon_full_backward_hooks\u001b[0m \u001b[0;34m=\u001b[0m \u001b[0;34m[\u001b[0m\u001b[0;34m]\u001b[0m\u001b[0;34m,\u001b[0m \u001b[0;34m[\u001b[0m\u001b[0;34m]\u001b[0m\u001b[0;34m\u001b[0m\u001b[0;34m\u001b[0m\u001b[0m\n",
      "\u001b[0;32m~/.pyenv/versions/3.9.9/envs/ccs_ta_test/lib/python3.9/site-packages/torch/nn/modules/activation.py\u001b[0m in \u001b[0;36mforward\u001b[0;34m(self, input)\u001b[0m\n\u001b[1;32m    736\u001b[0m \u001b[0;34m\u001b[0m\u001b[0m\n\u001b[1;32m    737\u001b[0m     \u001b[0;32mdef\u001b[0m \u001b[0mforward\u001b[0m\u001b[0;34m(\u001b[0m\u001b[0mself\u001b[0m\u001b[0;34m,\u001b[0m \u001b[0minput\u001b[0m\u001b[0;34m:\u001b[0m \u001b[0mTensor\u001b[0m\u001b[0;34m)\u001b[0m \u001b[0;34m->\u001b[0m \u001b[0mTensor\u001b[0m\u001b[0;34m:\u001b[0m\u001b[0;34m\u001b[0m\u001b[0;34m\u001b[0m\u001b[0m\n\u001b[0;32m--> 738\u001b[0;31m         \u001b[0;32mreturn\u001b[0m \u001b[0mF\u001b[0m\u001b[0;34m.\u001b[0m\u001b[0mleaky_relu\u001b[0m\u001b[0;34m(\u001b[0m\u001b[0minput\u001b[0m\u001b[0;34m,\u001b[0m \u001b[0mself\u001b[0m\u001b[0;34m.\u001b[0m\u001b[0mnegative_slope\u001b[0m\u001b[0;34m,\u001b[0m \u001b[0mself\u001b[0m\u001b[0;34m.\u001b[0m\u001b[0minplace\u001b[0m\u001b[0;34m)\u001b[0m\u001b[0;34m\u001b[0m\u001b[0;34m\u001b[0m\u001b[0m\n\u001b[0m\u001b[1;32m    739\u001b[0m \u001b[0;34m\u001b[0m\u001b[0m\n\u001b[1;32m    740\u001b[0m     \u001b[0;32mdef\u001b[0m \u001b[0mextra_repr\u001b[0m\u001b[0;34m(\u001b[0m\u001b[0mself\u001b[0m\u001b[0;34m)\u001b[0m \u001b[0;34m->\u001b[0m \u001b[0mstr\u001b[0m\u001b[0;34m:\u001b[0m\u001b[0;34m\u001b[0m\u001b[0;34m\u001b[0m\u001b[0m\n",
      "\u001b[0;32m~/.pyenv/versions/3.9.9/envs/ccs_ta_test/lib/python3.9/site-packages/torch/nn/functional.py\u001b[0m in \u001b[0;36mleaky_relu\u001b[0;34m(input, negative_slope, inplace)\u001b[0m\n\u001b[1;32m   1473\u001b[0m         \u001b[0mresult\u001b[0m \u001b[0;34m=\u001b[0m \u001b[0mtorch\u001b[0m\u001b[0;34m.\u001b[0m\u001b[0m_C\u001b[0m\u001b[0;34m.\u001b[0m\u001b[0m_nn\u001b[0m\u001b[0;34m.\u001b[0m\u001b[0mleaky_relu_\u001b[0m\u001b[0;34m(\u001b[0m\u001b[0minput\u001b[0m\u001b[0;34m,\u001b[0m \u001b[0mnegative_slope\u001b[0m\u001b[0;34m)\u001b[0m\u001b[0;34m\u001b[0m\u001b[0;34m\u001b[0m\u001b[0m\n\u001b[1;32m   1474\u001b[0m     \u001b[0;32melse\u001b[0m\u001b[0;34m:\u001b[0m\u001b[0;34m\u001b[0m\u001b[0;34m\u001b[0m\u001b[0m\n\u001b[0;32m-> 1475\u001b[0;31m         \u001b[0mresult\u001b[0m \u001b[0;34m=\u001b[0m \u001b[0mtorch\u001b[0m\u001b[0;34m.\u001b[0m\u001b[0m_C\u001b[0m\u001b[0;34m.\u001b[0m\u001b[0m_nn\u001b[0m\u001b[0;34m.\u001b[0m\u001b[0mleaky_relu\u001b[0m\u001b[0;34m(\u001b[0m\u001b[0minput\u001b[0m\u001b[0;34m,\u001b[0m \u001b[0mnegative_slope\u001b[0m\u001b[0;34m)\u001b[0m\u001b[0;34m\u001b[0m\u001b[0;34m\u001b[0m\u001b[0m\n\u001b[0m\u001b[1;32m   1476\u001b[0m     \u001b[0;32mreturn\u001b[0m \u001b[0mresult\u001b[0m\u001b[0;34m\u001b[0m\u001b[0;34m\u001b[0m\u001b[0m\n\u001b[1;32m   1477\u001b[0m \u001b[0;34m\u001b[0m\u001b[0m\n",
      "\u001b[0;31mRuntimeError\u001b[0m: CUDA out of memory. Tried to allocate 3.05 GiB (GPU 0; 7.79 GiB total capacity; 4.06 GiB already allocated; 2.63 GiB free; 4.07 GiB reserved in total by PyTorch) If reserved memory is >> allocated memory try setting max_split_size_mb to avoid fragmentation.  See documentation for Memory Management and PYTORCH_CUDA_ALLOC_CONF"
     ]
    }
   ],
   "source": [
    "for jj in range(400):\n",
    "    res_new_tensor_gpu = res_new_tensor.reshape(-1,1)[:400000].cuda()\n",
    "#     result_tensor = torch.tensor(tensor_array_o[:400000],dtype=torch.float32).cuda()\n",
    "    mvl_mask_tensor  = torch.tensor(mask_array.reshape(-1,133)[:400000],dtype=torch.float32).cuda()\n",
    "#     mvl_result_tensor = torch.tensor(res_array[:400000],dtype=torch.float32).cuda()\n",
    "#     dcs_result_tensor = torch.tensor(dcs_res_array[:400000],dtype=torch.float32).cuda()\n",
    "\n",
    "    for epoch in range(num_epoch):\n",
    "#     error = train_d(d_optimizer,result_tensor,data_matrix_tensor,mvl_mask_tensor,mvl_result_tensor)\n",
    "        error = train_d(d_optimizer,res_new_tensor_gpu,mvl_mask_tensor)\n",
    "        print(error[0])\n",
    "        \n",
    "    res_new_tensor_gpu = res_new_tensor.reshape(-1,1)[400000:800000].cuda()\n",
    "#     result_tensor = torch.tensor(tensor_array_o[400000:800000],dtype=torch.float32).cuda()\n",
    "    mvl_mask_tensor  = torch.tensor(mask_array.reshape(-1,133)[400000:800000],dtype=torch.float32).cuda()\n",
    "#     mvl_result_tensor = torch.tensor(res_array[400000:800000],dtype=torch.float32).cuda()\n",
    "#     dcs_result_tensor = torch.tensor(dcs_res_array[400000:800000],dtype=torch.float32).cuda()\n",
    "    \n",
    "    for epoch in range(num_epoch):\n",
    "#     error = train_d(d_optimizer,result_tensor,data_matrix_tensor,mvl_mask_tensor,mvl_result_tensor)\n",
    "#         error = train_d(d_optimizer,result_tensor,dcs_result_tensor,mvl_result_tensor,mvl_mask_tensor)\n",
    "        error = train_d(d_optimizer,res_new_tensor_gpu,mvl_mask_tensor)\n",
    "        print(error[0])\n"
   ]
  },
  {
   "cell_type": "code",
   "execution_count": 21,
   "metadata": {},
   "outputs": [],
   "source": [
    "# torch.save('1_pd.pt',p_discriminator)\n",
    "torch.save(p_discriminator,'1_pd4.pkl')"
   ]
  },
  {
   "cell_type": "code",
   "execution_count": 64,
   "metadata": {},
   "outputs": [],
   "source": [
    "p_discriminator = PatternDiscriminator().cuda()\n",
    "d_optimizer = optim.Adam(discriminator.parameters(),lr=0.002)\n",
    "    \n",
    "# loss = nn.BCELoss()\n",
    "# loss = nn.MSELoss()\n",
    "# loss = nn.L1Loss()\n",
    "loss = nn.SmoothL1Loss()\n",
    "# loss = nn.CrossEntropyLoss()\n",
    "\n",
    "\n",
    "# SmoothL1Loss\n",
    "\n",
    "\n",
    "d_steps=1\n",
    "num_epoch=10\n",
    "\n",
    "\n",
    "def train_d(optimizer,result_tensor,dcs_res,mvl_res, mask):\n",
    "\n",
    "    optimizer.zero_grad()\n",
    "    \n",
    "#     print(result_tensor.shape)\n",
    "#     print(dcs_res.shape)\n",
    "#     print(mvl_res.shape)\n",
    "#     print(mask.shape)\n",
    "    \n",
    "#     dcs_res = reconstruction_gpu(data_matrix,mask)\n",
    "    \n",
    "#     ds = get_distance_matrix(data_matrix,True)\n",
    "    \n",
    "#     mvl_res = stmvl.predict(data_matrix,ds)\n",
    "    \n",
    "    p_d = p_discriminator(mask)\n",
    "    \n",
    "#     print(p_d.shape)\n",
    "\n",
    "    prediction = p_d*dcs_res+(1-p_d)*mvl_res\n",
    "    \n",
    "#     print(prediction.shape)\n",
    "    \n",
    "    error = loss(prediction*(1-mask),result_tensor*(1-mask))\n",
    "    error.backward()\n",
    "\n",
    "    optimizer.step()\n",
    "\n",
    "    return error, prediction"
   ]
  },
  {
   "cell_type": "code",
   "execution_count": 54,
   "metadata": {},
   "outputs": [
    {
     "name": "stdout",
     "output_type": "stream",
     "text": [
      "tensor(0.3244, device='cuda:0', grad_fn=<SmoothL1LossBackward0>)\n",
      "tensor(0.3244, device='cuda:0', grad_fn=<SmoothL1LossBackward0>)\n",
      "tensor(0.3244, device='cuda:0', grad_fn=<SmoothL1LossBackward0>)\n",
      "tensor(0.3244, device='cuda:0', grad_fn=<SmoothL1LossBackward0>)\n",
      "tensor(0.3244, device='cuda:0', grad_fn=<SmoothL1LossBackward0>)\n",
      "tensor(0.3244, device='cuda:0', grad_fn=<SmoothL1LossBackward0>)\n",
      "tensor(0.3244, device='cuda:0', grad_fn=<SmoothL1LossBackward0>)\n",
      "tensor(0.3244, device='cuda:0', grad_fn=<SmoothL1LossBackward0>)\n",
      "tensor(0.3244, device='cuda:0', grad_fn=<SmoothL1LossBackward0>)\n",
      "tensor(0.3244, device='cuda:0', grad_fn=<SmoothL1LossBackward0>)\n",
      "tensor(1.0707, device='cuda:0', grad_fn=<SmoothL1LossBackward0>)\n",
      "tensor(1.0706, device='cuda:0', grad_fn=<SmoothL1LossBackward0>)\n",
      "tensor(1.0706, device='cuda:0', grad_fn=<SmoothL1LossBackward0>)\n",
      "tensor(1.0707, device='cuda:0', grad_fn=<SmoothL1LossBackward0>)\n",
      "tensor(1.0706, device='cuda:0', grad_fn=<SmoothL1LossBackward0>)\n",
      "tensor(1.0707, device='cuda:0', grad_fn=<SmoothL1LossBackward0>)\n",
      "tensor(1.0707, device='cuda:0', grad_fn=<SmoothL1LossBackward0>)\n",
      "tensor(1.0707, device='cuda:0', grad_fn=<SmoothL1LossBackward0>)\n",
      "tensor(1.0706, device='cuda:0', grad_fn=<SmoothL1LossBackward0>)\n",
      "tensor(1.0707, device='cuda:0', grad_fn=<SmoothL1LossBackward0>)\n",
      "tensor(0.3244, device='cuda:0', grad_fn=<SmoothL1LossBackward0>)\n",
      "tensor(0.3244, device='cuda:0', grad_fn=<SmoothL1LossBackward0>)\n",
      "tensor(0.3244, device='cuda:0', grad_fn=<SmoothL1LossBackward0>)\n",
      "tensor(0.3244, device='cuda:0', grad_fn=<SmoothL1LossBackward0>)\n",
      "tensor(0.3244, device='cuda:0', grad_fn=<SmoothL1LossBackward0>)\n",
      "tensor(0.3244, device='cuda:0', grad_fn=<SmoothL1LossBackward0>)\n",
      "tensor(0.3244, device='cuda:0', grad_fn=<SmoothL1LossBackward0>)\n",
      "tensor(0.3244, device='cuda:0', grad_fn=<SmoothL1LossBackward0>)\n",
      "tensor(0.3244, device='cuda:0', grad_fn=<SmoothL1LossBackward0>)\n",
      "tensor(0.3244, device='cuda:0', grad_fn=<SmoothL1LossBackward0>)\n",
      "tensor(1.0706, device='cuda:0', grad_fn=<SmoothL1LossBackward0>)\n",
      "tensor(1.0707, device='cuda:0', grad_fn=<SmoothL1LossBackward0>)\n",
      "tensor(1.0707, device='cuda:0', grad_fn=<SmoothL1LossBackward0>)\n",
      "tensor(1.0707, device='cuda:0', grad_fn=<SmoothL1LossBackward0>)\n",
      "tensor(1.0707, device='cuda:0', grad_fn=<SmoothL1LossBackward0>)\n",
      "tensor(1.0707, device='cuda:0', grad_fn=<SmoothL1LossBackward0>)\n",
      "tensor(1.0706, device='cuda:0', grad_fn=<SmoothL1LossBackward0>)\n",
      "tensor(1.0707, device='cuda:0', grad_fn=<SmoothL1LossBackward0>)\n",
      "tensor(1.0707, device='cuda:0', grad_fn=<SmoothL1LossBackward0>)\n",
      "tensor(1.0707, device='cuda:0', grad_fn=<SmoothL1LossBackward0>)\n",
      "tensor(0.3244, device='cuda:0', grad_fn=<SmoothL1LossBackward0>)\n",
      "tensor(0.3244, device='cuda:0', grad_fn=<SmoothL1LossBackward0>)\n",
      "tensor(0.3244, device='cuda:0', grad_fn=<SmoothL1LossBackward0>)\n",
      "tensor(0.3244, device='cuda:0', grad_fn=<SmoothL1LossBackward0>)\n",
      "tensor(0.3244, device='cuda:0', grad_fn=<SmoothL1LossBackward0>)\n",
      "tensor(0.3244, device='cuda:0', grad_fn=<SmoothL1LossBackward0>)\n",
      "tensor(0.3244, device='cuda:0', grad_fn=<SmoothL1LossBackward0>)\n",
      "tensor(0.3244, device='cuda:0', grad_fn=<SmoothL1LossBackward0>)\n",
      "tensor(0.3244, device='cuda:0', grad_fn=<SmoothL1LossBackward0>)\n",
      "tensor(0.3244, device='cuda:0', grad_fn=<SmoothL1LossBackward0>)\n"
     ]
    },
    {
     "ename": "KeyboardInterrupt",
     "evalue": "",
     "output_type": "error",
     "traceback": [
      "\u001b[0;31m---------------------------------------------------------------------------\u001b[0m",
      "\u001b[0;31mKeyboardInterrupt\u001b[0m                         Traceback (most recent call last)",
      "\u001b[0;32m/tmp/ipykernel_128460/849510297.py\u001b[0m in \u001b[0;36m<module>\u001b[0;34m\u001b[0m\n\u001b[1;32m     12\u001b[0m     \u001b[0mresult_tensor\u001b[0m \u001b[0;34m=\u001b[0m \u001b[0mtorch\u001b[0m\u001b[0;34m.\u001b[0m\u001b[0mtensor\u001b[0m\u001b[0;34m(\u001b[0m\u001b[0mtensor_array_o\u001b[0m\u001b[0;34m[\u001b[0m\u001b[0;36m400000\u001b[0m\u001b[0;34m:\u001b[0m\u001b[0;36m800000\u001b[0m\u001b[0;34m]\u001b[0m\u001b[0;34m,\u001b[0m\u001b[0mdtype\u001b[0m\u001b[0;34m=\u001b[0m\u001b[0mtorch\u001b[0m\u001b[0;34m.\u001b[0m\u001b[0mfloat32\u001b[0m\u001b[0;34m)\u001b[0m\u001b[0;34m.\u001b[0m\u001b[0mcuda\u001b[0m\u001b[0;34m(\u001b[0m\u001b[0;34m)\u001b[0m\u001b[0;34m\u001b[0m\u001b[0;34m\u001b[0m\u001b[0m\n\u001b[1;32m     13\u001b[0m     \u001b[0mmvl_mask_tensor\u001b[0m  \u001b[0;34m=\u001b[0m \u001b[0mtorch\u001b[0m\u001b[0;34m.\u001b[0m\u001b[0mtensor\u001b[0m\u001b[0;34m(\u001b[0m\u001b[0mmask_array\u001b[0m\u001b[0;34m.\u001b[0m\u001b[0mreshape\u001b[0m\u001b[0;34m(\u001b[0m\u001b[0;34m-\u001b[0m\u001b[0;36m1\u001b[0m\u001b[0;34m,\u001b[0m\u001b[0;36m133\u001b[0m\u001b[0;34m)\u001b[0m\u001b[0;34m[\u001b[0m\u001b[0;36m400000\u001b[0m\u001b[0;34m:\u001b[0m\u001b[0;36m800000\u001b[0m\u001b[0;34m]\u001b[0m\u001b[0;34m,\u001b[0m\u001b[0mdtype\u001b[0m\u001b[0;34m=\u001b[0m\u001b[0mtorch\u001b[0m\u001b[0;34m.\u001b[0m\u001b[0mfloat32\u001b[0m\u001b[0;34m)\u001b[0m\u001b[0;34m.\u001b[0m\u001b[0mcuda\u001b[0m\u001b[0;34m(\u001b[0m\u001b[0;34m)\u001b[0m\u001b[0;34m\u001b[0m\u001b[0;34m\u001b[0m\u001b[0m\n\u001b[0;32m---> 14\u001b[0;31m     \u001b[0mmvl_result_tensor\u001b[0m \u001b[0;34m=\u001b[0m \u001b[0mtorch\u001b[0m\u001b[0;34m.\u001b[0m\u001b[0mtensor\u001b[0m\u001b[0;34m(\u001b[0m\u001b[0mres_array\u001b[0m\u001b[0;34m[\u001b[0m\u001b[0;36m400000\u001b[0m\u001b[0;34m:\u001b[0m\u001b[0;36m800000\u001b[0m\u001b[0;34m]\u001b[0m\u001b[0;34m,\u001b[0m\u001b[0mdtype\u001b[0m\u001b[0;34m=\u001b[0m\u001b[0mtorch\u001b[0m\u001b[0;34m.\u001b[0m\u001b[0mfloat32\u001b[0m\u001b[0;34m)\u001b[0m\u001b[0;34m.\u001b[0m\u001b[0mcuda\u001b[0m\u001b[0;34m(\u001b[0m\u001b[0;34m)\u001b[0m\u001b[0;34m\u001b[0m\u001b[0;34m\u001b[0m\u001b[0m\n\u001b[0m\u001b[1;32m     15\u001b[0m     \u001b[0mdcs_result_tensor\u001b[0m \u001b[0;34m=\u001b[0m \u001b[0mtorch\u001b[0m\u001b[0;34m.\u001b[0m\u001b[0mtensor\u001b[0m\u001b[0;34m(\u001b[0m\u001b[0mdcs_res_array\u001b[0m\u001b[0;34m[\u001b[0m\u001b[0;36m400000\u001b[0m\u001b[0;34m:\u001b[0m\u001b[0;36m800000\u001b[0m\u001b[0;34m]\u001b[0m\u001b[0;34m,\u001b[0m\u001b[0mdtype\u001b[0m\u001b[0;34m=\u001b[0m\u001b[0mtorch\u001b[0m\u001b[0;34m.\u001b[0m\u001b[0mfloat32\u001b[0m\u001b[0;34m)\u001b[0m\u001b[0;34m.\u001b[0m\u001b[0mcuda\u001b[0m\u001b[0;34m(\u001b[0m\u001b[0;34m)\u001b[0m\u001b[0;34m\u001b[0m\u001b[0;34m\u001b[0m\u001b[0m\n\u001b[1;32m     16\u001b[0m \u001b[0;34m\u001b[0m\u001b[0m\n",
      "\u001b[0;31mKeyboardInterrupt\u001b[0m: "
     ]
    }
   ],
   "source": [
    "for jj in range(400):\n",
    "    result_tensor = torch.tensor(tensor_array_o[:400000],dtype=torch.float32).cuda()\n",
    "    mvl_mask_tensor  = torch.tensor(mask_array.reshape(-1,133)[:400000],dtype=torch.float32).cuda()\n",
    "    mvl_result_tensor = torch.tensor(res_array[:400000],dtype=torch.float32).cuda()\n",
    "    dcs_result_tensor = torch.tensor(dcs_res_array[:400000],dtype=torch.float32).cuda()\n",
    "\n",
    "    for epoch in range(num_epoch):\n",
    "#     error = train_d(d_optimizer,result_tensor,data_matrix_tensor,mvl_mask_tensor,mvl_result_tensor)\n",
    "        error = train_d(d_optimizer,result_tensor,dcs_result_tensor,mvl_result_tensor,mvl_mask_tensor)\n",
    "        print(error[0])\n",
    "    \n",
    "    result_tensor = torch.tensor(tensor_array_o[400000:800000],dtype=torch.float32).cuda()\n",
    "    mvl_mask_tensor  = torch.tensor(mask_array.reshape(-1,133)[400000:800000],dtype=torch.float32).cuda()\n",
    "    mvl_result_tensor = torch.tensor(res_array[400000:800000],dtype=torch.float32).cuda()\n",
    "    dcs_result_tensor = torch.tensor(dcs_res_array[400000:800000],dtype=torch.float32).cuda()\n",
    "    \n",
    "    for epoch in range(num_epoch):\n",
    "#     error = train_d(d_optimizer,result_tensor,data_matrix_tensor,mvl_mask_tensor,mvl_result_tensor)\n",
    "        error = train_d(d_optimizer,result_tensor,dcs_result_tensor,mvl_result_tensor,mvl_mask_tensor)\n",
    "        print(error[0])\n"
   ]
  },
  {
   "cell_type": "code",
   "execution_count": null,
   "metadata": {},
   "outputs": [],
   "source": []
  }
 ],
 "metadata": {
  "interpreter": {
   "hash": "debe0eba4cd14c42079c45b130c6847e4d53516f3ca52c5ebe2be8c2b45bba1b"
  },
  "kernelspec": {
   "display_name": "Python 3 (ipykernel)",
   "language": "python",
   "name": "python3"
  },
  "language_info": {
   "codemirror_mode": {
    "name": "ipython",
    "version": 3
   },
   "file_extension": ".py",
   "mimetype": "text/x-python",
   "name": "python",
   "nbconvert_exporter": "python",
   "pygments_lexer": "ipython3",
   "version": "3.9.9"
  }
 },
 "nbformat": 4,
 "nbformat_minor": 2
}
