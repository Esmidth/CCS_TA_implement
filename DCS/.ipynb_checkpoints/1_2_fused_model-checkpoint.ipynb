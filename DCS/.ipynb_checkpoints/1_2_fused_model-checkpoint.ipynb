{
 "cells": [
  {
   "cell_type": "code",
   "execution_count": 1,
   "metadata": {},
   "outputs": [],
   "source": [
    "# 1\n",
    "import torch\n",
    "from torch import nn,optim\n",
    "from torch.autograd.variable import Variable\n",
    "from torchvision import transforms,datasets\n",
    "from utils import Logger\n",
    "from IPython import display\n",
    "import numpy as np\n",
    "import matplotlib.pyplot as plt\n",
    "import pickle\n",
    "import numpy as np"
   ]
  },
  {
   "cell_type": "code",
   "execution_count": 2,
   "metadata": {},
   "outputs": [],
   "source": [
    "import pickle\n",
    "import os,sys\n",
    "import numpy as np\n",
    "from baseline.AKE.ake import AKE\n",
    "from baseline.Kriging.kriging import OrdryKriging\n",
    "from baseline.NMF.nmf import NMF\n",
    "from baseline.ST_MVL.st_mvl import ST_MVL"
   ]
  },
  {
   "cell_type": "code",
   "execution_count": 3,
   "metadata": {},
   "outputs": [],
   "source": [
    "with open('../tensor2.pkl','rb') as f:\n",
    "    tensor_array = np.array(pickle.load(f))\n",
    "\n",
    "with open('../new_indices.pkl','rb') as f:\n",
    "    new_indices = np.array(pickle.load(f))\n",
    "\n",
    "with open('missing_pattern_data/1_missing_pattern.pkl','rb') as f:\n",
    "    mask_list,result_list = pickle.load(f)"
   ]
  },
  {
   "cell_type": "code",
   "execution_count": 4,
   "metadata": {},
   "outputs": [],
   "source": [
    "class PatternDiscriminator(torch.nn.Module):\n",
    "\n",
    "    def __init__(self):\n",
    "        super(PatternDiscriminator,self).__init__()\n",
    "        n_features=19*7\n",
    "        n_out = 1\n",
    "\n",
    "        self.hidden0 = nn.Sequential( \n",
    "            nn.Linear(n_features, 512),\n",
    "            nn.LeakyReLU(0.2),\n",
    "            nn.Dropout(0.3)\n",
    "        )\n",
    "\n",
    "        self.hidden3 = nn.Sequential(\n",
    "            nn.Linear(513,256),\n",
    "            nn.LeakyReLU(0.2),\n",
    "            nn.Dropout(0.3)\n",
    "        )\n",
    "        self.hidden4 = nn.Sequential(\n",
    "            nn.Linear(256, 128),\n",
    "            nn.LeakyReLU(0.2),\n",
    "            nn.Dropout(0.3)\n",
    "        )\n",
    "        self.out = nn.Sequential(\n",
    "            torch.nn.Linear(128, n_out),\n",
    "            torch.nn.Sigmoid()\n",
    "        )\n",
    "\n",
    "    def forward(self, x):\n",
    "        x = self.hidden0(x)\n",
    "        x = self.hidden3(x)\n",
    "        x = self.hidden4(x)\n",
    "        x = self.out(x)\n",
    "        return x"
   ]
  },
  {
   "cell_type": "code",
   "execution_count": 5,
   "metadata": {},
   "outputs": [],
   "source": [
    "p_discriminator = torch.load('1_pd.pt')"
   ]
  },
  {
   "cell_type": "code",
   "execution_count": 6,
   "metadata": {},
   "outputs": [],
   "source": [
    "# 5-3 4[128,256] 6.x\n",
    "class DiscriminatorNet(torch.nn.Module):\n",
    "    \"\"\"\n",
    "    A three hidden-layer discriminative neural network\n",
    "    \"\"\"\n",
    "    def __init__(self):\n",
    "        super(DiscriminatorNet, self).__init__()\n",
    "        n_features = 19*7\n",
    "        n_out = 1\n",
    "        \n",
    "        self.hidden0 = nn.Sequential( \n",
    "            nn.Linear(n_features, 256),\n",
    "            nn.LeakyReLU(0.2),\n",
    "            nn.Dropout(0.3)\n",
    "        )\n",
    "\n",
    "        self.hidden4 = nn.Sequential(\n",
    "            nn.Linear(256, 128),\n",
    "            nn.LeakyReLU(0.2),\n",
    "            nn.Dropout(0.3)\n",
    "        )\n",
    "        self.out = nn.Sequential(\n",
    "            torch.nn.Linear(128, n_out),\n",
    "            torch.nn.Sigmoid()\n",
    "        )\n",
    "\n",
    "    def forward(self, x):\n",
    "        x = self.hidden0(x)\n",
    "        x = self.hidden4(x)\n",
    "        x = self.out(x)\n",
    "        return x\n",
    "    \n",
    "class GeneratorNet(torch.nn.Module):\n",
    "    \"\"\"\n",
    "    A three hidden-layer generative neural network\n",
    "    \"\"\"\n",
    "    def __init__(self):\n",
    "        super(GeneratorNet, self).__init__()\n",
    "        n_features = 100\n",
    "        n_out = 19*7\n",
    "        \n",
    "        self.hidden0 = nn.Sequential(\n",
    "            nn.Linear(n_features, 128),\n",
    "            nn.LeakyReLU(0.2)\n",
    "        )\n",
    "\n",
    "        self.hidden1 = nn.Sequential(\n",
    "            nn.Linear(128, 256),\n",
    "            nn.LeakyReLU(0.2)\n",
    "        )\n",
    "        \n",
    "#         self.hidden2 = nn.Sequential(            \n",
    "#             nn.Linear(256, 512),\n",
    "#             nn.LeakyReLU(0.2)\n",
    "#         )\n",
    "        \n",
    "\n",
    "        self.out = nn.Sequential(\n",
    "            nn.Linear(256, n_out),\n",
    "#             nn.Tanh()\n",
    "        )\n",
    "\n",
    "    def forward(self, x):\n",
    "        x = self.hidden0(x)\n",
    "        x = self.hidden1(x)\n",
    "#         x = self.hidden2(x)\n",
    "        x = self.out(x)\n",
    "        return x\n",
    "\n",
    "generator = torch.load('6_generator.pkl')\n",
    "discriminator = torch.load('6_discriminator.pkl')"
   ]
  },
  {
   "cell_type": "code",
   "execution_count": 7,
   "metadata": {},
   "outputs": [],
   "source": [
    "# 3\n",
    "def noise(size):\n",
    "    n = Variable(torch.randn(size, 100))\n",
    "    if torch.cuda.is_available(): return n.cuda() \n",
    "    return n"
   ]
  },
  {
   "cell_type": "code",
   "execution_count": 8,
   "metadata": {},
   "outputs": [],
   "source": [
    "# new generate_missing_matrix with different pattern\n",
    "def generate_missing_matrix(data_matrix,miss_ratio=0.1, pattern='MCAR', start_p='r'):\n",
    "    origin  = data_matrix.copy()\n",
    "    spatial_size = data_matrix.shape[0]\n",
    "    temporal_size = data_matrix.shape[1]\n",
    "    mask = np.ones_like(data_matrix)\n",
    "    if pattern == 'MCAR':\n",
    "\n",
    "        k = round(spatial_size*temporal_size*miss_ratio)\n",
    "        ri = np.random.choice(spatial_size*temporal_size,k,replace=False)\n",
    "\n",
    "    elif pattern == 'MAR':\n",
    "        k = round(spatial_size*temporal_size*miss_ratio/2)\n",
    "        ri1 = np.random.choice(spatial_size*temporal_size,k,replace=False)\n",
    "\n",
    "        random_start = np.random.randint(0,temporal_size)\n",
    "        ri2 = np.linspace(random_start,spatial_size*temporal_size-1,num=k)\n",
    "        ri2 = ri2.astype(int)\n",
    "\n",
    "        ri = np.append(ri1,ri2,0)\n",
    "        # ri = ri2\n",
    "        # print(ri1,ri2)\n",
    "        # print(ri)\n",
    "\n",
    "    elif pattern == \"MNAR\":\n",
    "        if start_p == 'c':\n",
    "            # constant start at #0\n",
    "            k = round(spatial_size* temporal_size*miss_ratio)\n",
    "            # ri = np.random.choice(spatial_size*temporal_size,k,replace=False)\n",
    "            start = 0\n",
    "            # print(k)\n",
    "            # ri = np.arange(0,spatial_size*temporal_size,k-2)\n",
    "            ri = np.linspace(0,spatial_size*temporal_size-1,num=k)\n",
    "            ri = ri.astype(int)\n",
    "            # print(ri)\n",
    "            # print(ri.__len__())\n",
    "        elif start_p == 'r':\n",
    "             # random start at first row\n",
    "            k = round(spatial_size* temporal_size*miss_ratio)\n",
    "            # ri = np.random.choice(spatial_size*temporal_size,k,replace=False)\n",
    "            start = 0\n",
    "            # print(k)\n",
    "            # ri = np.arange(0,spatial_size*temporal_size,k-2)\n",
    "            random_start = np.random.randint(0,temporal_size)\n",
    "            ri = np.linspace(random_start,spatial_size*temporal_size-1,num=k)\n",
    "            ri = ri.astype(int)\n",
    "            # print(ri)\n",
    "            # print(ri.__len__())           pass\n",
    "        else:\n",
    "            raise NameError\n",
    "    else:\n",
    "        raise NameError\n",
    "    origin.flat[ri] = 0\n",
    "    mask.flat[ri] = 0\n",
    "    return origin,mask\n",
    "# data_matrix,mask =generate_missing_matrix(tensor_array[0],0.2,'MNAR','r')"
   ]
  },
  {
   "cell_type": "code",
   "execution_count": 9,
   "metadata": {},
   "outputs": [],
   "source": [
    "def get_distance_matrix(data_matrix,linear=False):\n",
    "    if not linear:\n",
    "        spatial_length = data_matrix.shape[0]\n",
    "        # print(spatial_length)\n",
    "        dis_matrix = np.random.rand(spatial_length,spatial_length)\n",
    "        dis_matrix += dis_matrix.T\n",
    "        np.fill_diagonal(dis_matrix,0)\n",
    "        return dis_matrix\n",
    "    else:\n",
    "        spatial_length = data_matrix.shape[0]\n",
    "        dis_matrix = np.zeros((spatial_length,spatial_length))\n",
    "        for i in range(spatial_length):\n",
    "            dis_matrix[i][i:] = np.arange(0,spatial_length-i)\n",
    "        dis_matrix = dis_matrix + dis_matrix.T\n",
    "        return dis_matrix"
   ]
  },
  {
   "cell_type": "code",
   "execution_count": 10,
   "metadata": {},
   "outputs": [],
   "source": [
    "#7-1\n",
    "def reconstruction_gpu(data_matrix,mask):\n",
    "#     print('step in')\n",
    "    data_matrix_gpu = torch.tensor(data_matrix).cuda()\n",
    "    mask_gpu = torch.tensor(mask).cuda()\n",
    "#     print('init')\n",
    "    \n",
    "    times = 0\n",
    "    min_mre = 9999\n",
    "    min_g1_c = 0\n",
    "    while True:\n",
    "        g1 = generator(noise(8000))\n",
    "        g1_c = g1.reshape(-1,19,7)\n",
    "#         g1_c = g1.cpu().detach().numpy().reshape(80000,19,7)\n",
    "#         del g1\n",
    "        loss = g1_c * mask_gpu - data_matrix_gpu\n",
    "#         print(loss.shape)\n",
    "#         print(loss)\n",
    "        loss = torch.abs(loss)\n",
    "#         print(loss.shape)\n",
    "#         print(loss)\n",
    "        mre = torch.sum(loss,axis=1)\n",
    "#         print(mre.shape)\n",
    "#         print(mre)\n",
    "        mre = torch.sum(mre,axis=1)\n",
    "#         print(mre.shape)\n",
    "#         print(mre)\n",
    "#         print(\"min_mre:\",np.min(mre))\n",
    "        m_mre = torch.min(mre)\n",
    "        loc = torch.where(mre == m_mre)[0][0]\n",
    "#         print(\"loc:\",loc)\n",
    "#         print(g1_c[loc])\n",
    "        g1_cpu = g1_c[loc].detach().cpu()\n",
    "#         print(g1_cpu.is_cuda)\n",
    "#         print(type(g1_cpu))\n",
    "#         del g1_c\n",
    "#         del g1\n",
    "        torch.cuda.empty_cache()\n",
    "#         print('cleared')\n",
    "        times += 1\n",
    "        if m_mre < min_mre:\n",
    "            min_mre = m_mre\n",
    "            min_g1_c = g1_cpu\n",
    "        \n",
    "        \n",
    "        if m_mre < 60 or times > 10:\n",
    "            break\n",
    "    if m_mre < 60:\n",
    "        return g1_cpu.numpy()\n",
    "    else:\n",
    "        return min_g1_c.numpy()\n",
    "        \n",
    "            \n",
    "        \n",
    "#         print(np.sum(np.abs(loss)))\n",
    "        \n",
    "#         min_mre = np.\n",
    "#         for g1_i in g1_c:\n",
    "#             loss = g1_i*mask - data_matrix\n",
    "#             mre = np.sum(np.abs(loss))\n",
    "#             times += 1\n",
    "\n",
    "#             if mre < min_mre:\n",
    "#                 min_mre = mre\n",
    "#                 min_g1_c = g1_c\n",
    "\n",
    "#             if mre < 60 or times > 40000: #40000\n",
    "#             # if mre < 60:\n",
    "#                 break\n",
    "# #             min_mre = mre\n",
    "# #             re_data_matrix = j\n",
    "# #     print(min_mre)\n",
    "#     if mre < 60:\n",
    "#         return g1_c\n",
    "#     else:\n",
    "        \n",
    "#         return min_g1_c\n",
    "data_matrix,mask =generate_missing_matrix(tensor_array[1000],0.1)\n",
    "re_data = reconstruction_gpu(data_matrix,mask)"
   ]
  },
  {
   "cell_type": "code",
   "execution_count": 11,
   "metadata": {},
   "outputs": [
    {
     "name": "stdout",
     "output_type": "stream",
     "text": [
      "220.79720877408982\n"
     ]
    }
   ],
   "source": [
    "def loss_compute(origin_data,re_data,mask):\n",
    "    return np.sum(np.abs((re_data-origin_data)*(1-mask)))\n",
    "\n",
    "print(loss_compute(tensor_array[15000],re_data,mask))"
   ]
  },
  {
   "cell_type": "code",
   "execution_count": 12,
   "metadata": {},
   "outputs": [
    {
     "data": {
      "text/plain": [
       "tensor([0.9998], device='cuda:0', grad_fn=<SigmoidBackward0>)"
      ]
     },
     "execution_count": 12,
     "metadata": {},
     "output_type": "execute_result"
    }
   ],
   "source": [
    "p_discriminator(torch.tensor(mask,dtype=torch.float32).reshape(-1).cuda())"
   ]
  },
  {
   "cell_type": "code",
   "execution_count": 13,
   "metadata": {},
   "outputs": [
    {
     "name": "stdout",
     "output_type": "stream",
     "text": [
      "1\n",
      "2\n",
      "3\n",
      "4\n",
      "5\n",
      "6\n",
      "7\n",
      "8\n",
      "9\n",
      "MCAR\n",
      "1\n",
      "2\n",
      "3\n",
      "4\n",
      "5\n",
      "6\n",
      "7\n",
      "8\n",
      "9\n",
      "MAR\n"
     ]
    },
    {
     "ename": "KeyboardInterrupt",
     "evalue": "",
     "output_type": "error",
     "traceback": [
      "\u001b[0;31m---------------------------------------------------------------------------\u001b[0m",
      "\u001b[0;31mKeyboardInterrupt\u001b[0m                         Traceback (most recent call last)",
      "\u001b[0;32m/tmp/ipykernel_199431/1524433878.py\u001b[0m in \u001b[0;36m<module>\u001b[0;34m\u001b[0m\n\u001b[1;32m     16\u001b[0m         \u001b[0mdata_matrix_list\u001b[0m \u001b[0;34m=\u001b[0m \u001b[0;34m[\u001b[0m\u001b[0;34m]\u001b[0m\u001b[0;34m\u001b[0m\u001b[0;34m\u001b[0m\u001b[0m\n\u001b[1;32m     17\u001b[0m         \u001b[0;32mfor\u001b[0m \u001b[0mi\u001b[0m \u001b[0;32min\u001b[0m \u001b[0mtensor_array\u001b[0m\u001b[0;34m:\u001b[0m\u001b[0;34m\u001b[0m\u001b[0;34m\u001b[0m\u001b[0m\n\u001b[0;32m---> 18\u001b[0;31m             \u001b[0mdata_matrix\u001b[0m\u001b[0;34m,\u001b[0m\u001b[0mmask\u001b[0m \u001b[0;34m=\u001b[0m \u001b[0mgenerate_missing_matrix\u001b[0m\u001b[0;34m(\u001b[0m\u001b[0mi\u001b[0m\u001b[0;34m,\u001b[0m\u001b[0mratio\u001b[0m\u001b[0;34m*\u001b[0m\u001b[0;36m0.1\u001b[0m\u001b[0;34m,\u001b[0m\u001b[0mpattern\u001b[0m\u001b[0;34m)\u001b[0m\u001b[0;34m\u001b[0m\u001b[0;34m\u001b[0m\u001b[0m\n\u001b[0m\u001b[1;32m     19\u001b[0m             \u001b[0mdata_matrix_list\u001b[0m\u001b[0;34m.\u001b[0m\u001b[0mappend\u001b[0m\u001b[0;34m(\u001b[0m\u001b[0mdata_matrix\u001b[0m\u001b[0;34m)\u001b[0m\u001b[0;34m\u001b[0m\u001b[0;34m\u001b[0m\u001b[0m\n\u001b[1;32m     20\u001b[0m             \u001b[0mmask_list\u001b[0m\u001b[0;34m.\u001b[0m\u001b[0mappend\u001b[0m\u001b[0;34m(\u001b[0m\u001b[0mmask\u001b[0m\u001b[0;34m)\u001b[0m\u001b[0;34m\u001b[0m\u001b[0;34m\u001b[0m\u001b[0m\n",
      "\u001b[0;32m/tmp/ipykernel_199431/3627969228.py\u001b[0m in \u001b[0;36mgenerate_missing_matrix\u001b[0;34m(data_matrix, miss_ratio, pattern, start_p)\u001b[0m\n\u001b[1;32m      4\u001b[0m     \u001b[0mspatial_size\u001b[0m \u001b[0;34m=\u001b[0m \u001b[0mdata_matrix\u001b[0m\u001b[0;34m.\u001b[0m\u001b[0mshape\u001b[0m\u001b[0;34m[\u001b[0m\u001b[0;36m0\u001b[0m\u001b[0;34m]\u001b[0m\u001b[0;34m\u001b[0m\u001b[0;34m\u001b[0m\u001b[0m\n\u001b[1;32m      5\u001b[0m     \u001b[0mtemporal_size\u001b[0m \u001b[0;34m=\u001b[0m \u001b[0mdata_matrix\u001b[0m\u001b[0;34m.\u001b[0m\u001b[0mshape\u001b[0m\u001b[0;34m[\u001b[0m\u001b[0;36m1\u001b[0m\u001b[0;34m]\u001b[0m\u001b[0;34m\u001b[0m\u001b[0;34m\u001b[0m\u001b[0m\n\u001b[0;32m----> 6\u001b[0;31m     \u001b[0mmask\u001b[0m \u001b[0;34m=\u001b[0m \u001b[0mnp\u001b[0m\u001b[0;34m.\u001b[0m\u001b[0mones_like\u001b[0m\u001b[0;34m(\u001b[0m\u001b[0mdata_matrix\u001b[0m\u001b[0;34m)\u001b[0m\u001b[0;34m\u001b[0m\u001b[0;34m\u001b[0m\u001b[0m\n\u001b[0m\u001b[1;32m      7\u001b[0m     \u001b[0;32mif\u001b[0m \u001b[0mpattern\u001b[0m \u001b[0;34m==\u001b[0m \u001b[0;34m'MCAR'\u001b[0m\u001b[0;34m:\u001b[0m\u001b[0;34m\u001b[0m\u001b[0;34m\u001b[0m\u001b[0m\n\u001b[1;32m      8\u001b[0m \u001b[0;34m\u001b[0m\u001b[0m\n",
      "\u001b[0;31mKeyboardInterrupt\u001b[0m: "
     ]
    }
   ],
   "source": [
    "# generate_missing_tensor and mask\n",
    "\n",
    "# (\"MCAR\", missing ratio, data)\n",
    "\n",
    "\n",
    "res_matrix = []\n",
    "res_mask = []\n",
    "\n",
    "\n",
    "for pattern in ['MCAR','MAR','MNAR']:\n",
    "    tmp_matrix_list = []\n",
    "    tmp_mask_list = []\n",
    "\n",
    "    for ratio in range(1,10):\n",
    "        mask_list = []\n",
    "        data_matrix_list = []\n",
    "        for i in tensor_array:\n",
    "            data_matrix,mask = generate_missing_matrix(i,ratio*0.1,pattern)\n",
    "            data_matrix_list.append(data_matrix)\n",
    "            mask_list.append(mask)\n",
    "        print(ratio)\n",
    "    \n",
    "        tmp_matrix_list.append(data_matrix_list)\n",
    "        tmp_mask_list.append(mask_list)\n",
    "    print(pattern)\n",
    "\n",
    "    res_matrix.append(tmp_matrix_list)\n",
    "    res_mask.append(tmp_mask_list)\n",
    "        \n",
    "\n",
    "\n",
    "# for i in tensor_array:\n",
    "    # data_matrix,mask = generate_missing_matrix(i,0.1,'MCAR')\n"
   ]
  },
  {
   "cell_type": "code",
   "execution_count": null,
   "metadata": {},
   "outputs": [],
   "source": [
    "# MCAR test\n",
    "mcar_matrix = res_matrix[0]\n",
    "mcar_mask = res_mask[0]\n"
   ]
  },
  {
   "cell_type": "code",
   "execution_count": 15,
   "metadata": {},
   "outputs": [
    {
     "name": "stdout",
     "output_type": "stream",
     "text": [
      "(9, 29898, 133)\n",
      "(9, 29898, 133)\n"
     ]
    }
   ],
   "source": [
    "# mnar_mask = res_mask[2]\n",
    "mnar_mask_array = np.array(res_mask[2]).reshape(9,-1,133)\n",
    "mnar_matrix_array = np.array(res_matrix[2]).reshape(9,-1,133)\n",
    "\n",
    "print(mnar_mask_array.shape)\n",
    "print(mnar_matrix_array.shape)"
   ]
  },
  {
   "cell_type": "code",
   "execution_count": 16,
   "metadata": {},
   "outputs": [
    {
     "name": "stdout",
     "output_type": "stream",
     "text": [
      "(9, 29898, 133)\n",
      "(9, 29898, 133)\n"
     ]
    }
   ],
   "source": [
    "mcar_mask_array = np.array(res_mask[0]).reshape(9,-1,133)\n",
    "mcar_matrix_array = np.array(res_matrix[0]).reshape(9,-1,133)\n",
    "\n",
    "print(mcar_mask_array.shape)\n",
    "print(mcar_matrix_array.shape)"
   ]
  },
  {
   "cell_type": "code",
   "execution_count": null,
   "metadata": {},
   "outputs": [],
   "source": [
    "with open('res_matrix.pkl','wb') as f:\n",
    "    pickle.dump(res_matrix,f)\n",
    "\n",
    "with open('res_mask.pkl','wb') as f:\n",
    "    pickle.dump(res_mask,f)"
   ]
  },
  {
   "cell_type": "code",
   "execution_count": 14,
   "metadata": {},
   "outputs": [],
   "source": [
    "with open('res_matrix.pkl','rb') as f:\n",
    "    res_matrix = pickle.load(f)\n",
    "\n",
    "with open('res_mask.pkl','rb') as f:\n",
    "    res_mask = pickle.load(f)"
   ]
  },
  {
   "cell_type": "code",
   "execution_count": null,
   "metadata": {},
   "outputs": [
    {
     "name": "stdout",
     "output_type": "stream",
     "text": [
      "0 tensor(29760.6895, device='cuda:0', grad_fn=<SumBackward0>)\n",
      "1 tensor(29842.4414, device='cuda:0', grad_fn=<SumBackward0>)\n",
      "2 tensor(29857.1836, device='cuda:0', grad_fn=<SumBackward0>)\n",
      "3 tensor(29846.6836, device='cuda:0', grad_fn=<SumBackward0>)\n",
      "4 tensor(29854.0996, device='cuda:0', grad_fn=<SumBackward0>)\n",
      "5 tensor(29848.5898, device='cuda:0', grad_fn=<SumBackward0>)\n",
      "6 tensor(29838.2578, device='cuda:0', grad_fn=<SumBackward0>)\n",
      "7 tensor(29854.0117, device='cuda:0', grad_fn=<SumBackward0>)\n",
      "8 tensor(29811.7773, device='cuda:0', grad_fn=<SumBackward0>)\n"
     ]
    }
   ],
   "source": [
    "for i in range(0,9):\n",
    "    mcar_mask_tensor1 = torch.tensor(mcar_mask_array[i],dtype=torch.float32).cuda()\n",
    "    test_res = p_discriminator(mcar_mask_tensor1)\n",
    "    res_sum = torch.sum(torch.abs(test_res))\n",
    "    print(i,res_sum)\n",
    "# print(mcar_mask_tensor1.shape)"
   ]
  },
  {
   "cell_type": "code",
   "execution_count": null,
   "metadata": {},
   "outputs": [
    {
     "name": "stdout",
     "output_type": "stream",
     "text": [
      "0 tensor(2.7677, device='cuda:0', grad_fn=<SumBackward0>)\n",
      "1 tensor(1.0936, device='cuda:0', grad_fn=<SumBackward0>)\n",
      "2 tensor(1.3090, device='cuda:0', grad_fn=<SumBackward0>)\n",
      "3 tensor(0.8097, device='cuda:0', grad_fn=<SumBackward0>)\n",
      "4 tensor(0.6563, device='cuda:0', grad_fn=<SumBackward0>)\n",
      "5 tensor(1.9567, device='cuda:0', grad_fn=<SumBackward0>)\n",
      "6 tensor(0.7614, device='cuda:0', grad_fn=<SumBackward0>)\n",
      "7 tensor(1.0277, device='cuda:0', grad_fn=<SumBackward0>)\n",
      "8 tensor(1.5153, device='cuda:0', grad_fn=<SumBackward0>)\n"
     ]
    }
   ],
   "source": [
    "for i in range(0,9):\n",
    "    mnar_mask_tensor1 = torch.tensor(mnar_mask_array[i],dtype=torch.float32).cuda()\n",
    "    test_res = p_discriminator(mnar_mask_tensor1)\n",
    "    res_sum = torch.sum(torch.abs(test_res))\n",
    "    print(i,res_sum)\n",
    "# print(mcar_mask_tensor1.shape)"
   ]
  },
  {
   "cell_type": "code",
   "execution_count": null,
   "metadata": {},
   "outputs": [],
   "source": [
    "test_res = p_discriminator(mcar_mask_tensor1)"
   ]
  },
  {
   "cell_type": "code",
   "execution_count": null,
   "metadata": {},
   "outputs": [
    {
     "data": {
      "text/plain": [
       "(9, 29898, 133)"
      ]
     },
     "execution_count": 118,
     "metadata": {},
     "output_type": "execute_result"
    }
   ],
   "source": [
    "mcar_mask_array.shape"
   ]
  },
  {
   "cell_type": "code",
   "execution_count": 18,
   "metadata": {},
   "outputs": [
    {
     "name": "stderr",
     "output_type": "stream",
     "text": [
      "/home/esmidth/github/CCS_TA_implement/DCS/baseline/ST_MVL/st_mvl.py:65: RuntimeWarning: invalid value encountered in double_scalars\n",
      "  res_array[j] = np.dot(coef_array,tmp[true_index]) / (np.sum(coef_array))\n",
      "/home/esmidth/github/CCS_TA_implement/DCS/baseline/ST_MVL/st_mvl.py:173: RuntimeWarning: invalid value encountered in double_scalars\n",
      "  res_array[i] = np.dot(spatial_data_for_certain_time,sim_array) / np.sum(sim_array)\n"
     ]
    }
   ],
   "source": [
    "st_mvl_loss_mcar_total = []\n",
    "st_mvl_loss_mnar_total = []\n",
    "\n",
    "mvl_rec_mcar_total = []\n",
    "mvl_rec_mnar_total = []\n",
    "\n",
    "for ratio in range(0,9):\n",
    "    # ratio = 1\n",
    "    st_mvl_loss = []\n",
    "    st_mvl_loss2 = []\n",
    "\n",
    "    rec_res1 = []\n",
    "    rec_res2 = []\n",
    "\n",
    "    for i in range(0,500):\n",
    "        tensor = tensor_array[i]\n",
    "        data_matrix = mcar_matrix_array[ratio][i].reshape(19,7)\n",
    "        mask = mcar_mask_array[ratio][i]\n",
    "\n",
    "        stmvl = ST_MVL()\n",
    "        ds = get_distance_matrix(data_matrix,True)\n",
    "        rec3 = stmvl.predict(data_matrix,ds)\n",
    "\n",
    "        st_mvl_loss.append(np.sum(np.abs(rec3-tensor)))\n",
    "        rec_res1.append(rec3)\n",
    "    \n",
    "    for i in range(0,500):\n",
    "        tensor = tensor_array[i]\n",
    "        data_matrix = mnar_matrix_array[ratio][i].reshape(19,7)\n",
    "        mask = mnar_mask_array[ratio][i]\n",
    "\n",
    "        stmvl = ST_MVL()\n",
    "        ds = get_distance_matrix(data_matrix,True)\n",
    "        rec3 = stmvl.predict(data_matrix,ds)\n",
    "\n",
    "        rec_res2.append(rec3)\n",
    "\n",
    "        st_mvl_loss2.append(np.sum(np.abs(rec3-tensor)))\n",
    "\n",
    "    st_mvl_loss_mcar_total.append(st_mvl_loss)\n",
    "    st_mvl_loss_mnar_total.append(st_mvl_loss2)\n",
    "\n",
    "    mvl_rec_mcar_total.append(rec_res1)\n",
    "    mvl_rec_mnar_total.append(rec_res2)\n",
    "\n",
    "    # plt.figure()\n",
    "    # plt.title((ratio+1)*0.1)\n",
    "    # plt.plot(np.array(st_mvl_loss)/133,label='MCAR')\n",
    "    # plt.plot(np.array(st_mvl_loss2)/133,label='MNAR')\n",
    "    # plt.legend()\n",
    "    # plt.savefig('1_1_pattern_stmvl_{}.png'.format(ratio+1),dpi=300,bbox_inches='tight')\n",
    "    # break        \n",
    "\n",
    "with open('1_st_mvl_loss_mcar_total.pkl','wb') as f:\n",
    "    pickle.dump(st_mvl_loss_mcar_total,f)\n",
    "\n",
    "\n",
    "with open('1_st_mvl_loss_mnar_total.pkl','wb') as f:\n",
    "    pickle.dump(st_mvl_loss_mnar_total,f)\n"
   ]
  },
  {
   "cell_type": "code",
   "execution_count": 21,
   "metadata": {},
   "outputs": [
    {
     "name": "stdout",
     "output_type": "stream",
     "text": [
      "9\n",
      "9\n"
     ]
    }
   ],
   "source": [
    "with open('1_mvl_rec_mcar_total.pkl','wb') as f:\n",
    "    pickle.dump(mvl_rec_mcar_total,f)\n",
    "\n",
    "with open('1_mvl_rec_mnar_total.pkl','wb') as f:\n",
    "    pickle.dump(mvl_rec_mnar_total,f)\n",
    "\n",
    "print(len(mvl_rec_mcar_total))\n",
    "print(len(mvl_rec_mnar_total))"
   ]
  },
  {
   "cell_type": "code",
   "execution_count": 40,
   "metadata": {},
   "outputs": [
    {
     "name": "stdout",
     "output_type": "stream",
     "text": [
      "0\n",
      "1\n",
      "2\n",
      "3\n",
      "4\n",
      "5\n",
      "6\n",
      "7\n"
     ]
    },
    {
     "name": "stderr",
     "output_type": "stream",
     "text": [
      "/home/esmidth/github/CCS_TA_implement/DCS/baseline/ST_MVL/st_mvl.py:65: RuntimeWarning: invalid value encountered in double_scalars\n",
      "  res_array[j] = np.dot(coef_array,tmp[true_index]) / (np.sum(coef_array))\n",
      "/home/esmidth/github/CCS_TA_implement/DCS/baseline/ST_MVL/st_mvl.py:173: RuntimeWarning: invalid value encountered in double_scalars\n",
      "  res_array[i] = np.dot(spatial_data_for_certain_time,sim_array) / np.sum(sim_array)\n"
     ]
    },
    {
     "name": "stdout",
     "output_type": "stream",
     "text": [
      "8\n"
     ]
    }
   ],
   "source": [
    "#mnar\n",
    "\n",
    "dcs_loss_total = []\n",
    "dcs_rec_total = []\n",
    "\n",
    "for ratio in range(0,9):\n",
    "    mnar_mask_tensor1 = torch.tensor(mnar_mask_array[ratio],dtype=torch.float32).cuda()\n",
    "    dcs_loss = []\n",
    "    dcs_rec = []\n",
    "    for j in range(0,500):\n",
    "\n",
    "        tensor = tensor_array[i]\n",
    "        data_matrix = mnar_matrix_array[ratio][i].reshape(19,7)\n",
    "        mask = mnar_mask_array[ratio][i].reshape(19,7)\n",
    "\n",
    "        p_mask_res = p_discriminator(mnar_mask_tensor1[i]).detach().cpu().numpy()\n",
    "        # print(p_mask_res)\n",
    "\n",
    "        stmvl = ST_MVL()\n",
    "        ds = get_distance_matrix(data_matrix,True)\n",
    "        rec1 = stmvl.predict(data_matrix,ds)\n",
    "\n",
    "        rec2 = reconstruction_gpu(data_matrix,mask)\n",
    "    \n",
    "\n",
    "        rec = (1-p_mask_res)*rec1+ p_mask_res*rec2\n",
    "\n",
    "        # print(rec.shape)\n",
    "        # print(rec)\n",
    "\n",
    "        dcs_rec.append(rec)\n",
    "\n",
    "        lss = np.sum(np.abs(rec-tensor)*(1-mask))\n",
    "\n",
    "        dcs_loss.append(lss)\n",
    "        dcs_rec.append(rec)\n",
    "    \n",
    "    print(ratio)\n",
    "    dcs_loss_total.append(dcs_loss)\n",
    "    dcs_rec_total.append(dcs_rec)\n",
    "\n",
    "with open('1_dcs_loss_total.pkl','wb') as f:\n",
    "    pickle.dump(dcs_loss_total,f)\n",
    "\n",
    "with open('1_dcs_rec_total.pkl','wb') as f:\n",
    "    pickle.dump(dcs_rec_total,f)"
   ]
  },
  {
   "cell_type": "code",
   "execution_count": 50,
   "metadata": {},
   "outputs": [
    {
     "data": {
      "text/plain": [
       "[<matplotlib.lines.Line2D at 0x7fa84d536af0>]"
      ]
     },
     "execution_count": 50,
     "metadata": {},
     "output_type": "execute_result"
    },
    {
     "data": {
      "image/png": "[encoded data removed]",
      "text/plain": [
       "<Figure size 432x288 with 1 Axes>"
      ]
     },
     "metadata": {
      "needs_background": "light"
     },
     "output_type": "display_data"
    }
   ],
   "source": [
    "plt.plot(dcs_loss_total[8])"
   ]
  }
 ],
 "metadata": {
  "interpreter": {
   "hash": "debe0eba4cd14c42079c45b130c6847e4d53516f3ca52c5ebe2be8c2b45bba1b"
  },
  "kernelspec": {
   "display_name": "Python 3 (ipykernel)",
   "language": "python",
   "name": "python3"
  },
  "language_info": {
   "codemirror_mode": {
    "name": "ipython",
    "version": 3
   },
   "file_extension": ".py",
   "mimetype": "text/x-python",
   "name": "python",
   "nbconvert_exporter": "python",
   "pygments_lexer": "ipython3",
   "version": "3.9.9"
  }
 },
 "nbformat": 4,
 "nbformat_minor": 2
}
