{
 "cells": [
  {
   "cell_type": "code",
   "execution_count": 1,
   "metadata": {},
   "outputs": [],
   "source": [
    "import pickle\n",
    "import os,sys\n",
    "import numpy as np\n",
    "from baseline.AKE.ake import AKE\n",
    "from baseline.Kriging.kriging import OrdryKriging\n",
    "from baseline.NMF.nmf import NMF\n",
    "from baseline.ST_MVL.st_mvl import ST_MVL"
   ]
  },
  {
   "cell_type": "code",
   "execution_count": 2,
   "metadata": {
    "tags": []
   },
   "outputs": [
    {
     "output_type": "stream",
     "name": "stdout",
     "text": "/home/esmidth/github/CCS_TA_implement\n"
    }
   ],
   "source": [
    "cd .."
   ]
  },
  {
   "cell_type": "code",
   "execution_count": 3,
   "metadata": {},
   "outputs": [],
   "source": [
    "with open('tensor2.pkl','rb') as f:\n",
    "    tensor_array = pickle.load(f)"
   ]
  },
  {
   "cell_type": "code",
   "execution_count": 4,
   "metadata": {},
   "outputs": [],
   "source": [
    "with open('new_indices.pkl','rb') as f:\n",
    "    new_indices = pickle.load(f)"
   ]
  },
  {
   "cell_type": "code",
   "execution_count": 5,
   "metadata": {},
   "outputs": [],
   "source": [
    "tensor_array = np.array(tensor_array)\n",
    "tensor_array = tensor_array[new_indices]"
   ]
  },
  {
   "cell_type": "code",
   "execution_count": 6,
   "metadata": {},
   "outputs": [],
   "source": [
    "def generate_missing_matrix(data_matrix,miss_ratio=0.1):\n",
    "    origin  = data_matrix.copy()\n",
    "    spatial_size = data_matrix.shape[0]\n",
    "    temporal_size = data_matrix.shape[1]\n",
    "    k = round(spatial_size*temporal_size*miss_ratio)\n",
    "    mask = np.ones_like(data_matrix)\n",
    "    ri = np.random.choice(spatial_size*temporal_size,k,replace=False)\n",
    "    origin.flat[ri] = 0\n",
    "    mask.flat[ri] = 0\n",
    "    return origin,mask\n",
    "data_matrix,mask =generate_missing_matrix(tensor_array[1])"
   ]
  },
  {
   "cell_type": "code",
   "execution_count": 7,
   "metadata": {
    "tags": []
   },
   "outputs": [
    {
     "output_type": "stream",
     "name": "stdout",
     "text": "205.3832636678087\n"
    }
   ],
   "source": [
    "ake = AKE()\n",
    "rec = ake.predict(data_matrix)\n",
    "print(np.sum(np.abs(rec-tensor_array[0])))"
   ]
  },
  {
   "cell_type": "code",
   "execution_count": 17,
   "metadata": {
    "tags": []
   },
   "outputs": [
    {
     "output_type": "stream",
     "name": "stdout",
     "text": "170.75657462732306\n"
    }
   ],
   "source": [
    "odKrigin = OrdryKriging()\n",
    "odKrigin.train(data_matrix)\n",
    "rec1 = odKrigin.predict()\n",
    "print(np.sum(np.abs(rec1-tensor_array[0])))"
   ]
  },
  {
   "cell_type": "code",
   "execution_count": 8,
   "metadata": {
    "tags": []
   },
   "outputs": [
    {
     "output_type": "stream",
     "name": "stdout",
     "text": "220.83192451207788\n"
    }
   ],
   "source": [
    "nmf = NMF()\n",
    "rec2 = nmf.predict(data_matrix,mask)\n",
    "print(np.sum(np.abs(rec2-tensor_array[0])))"
   ]
  },
  {
   "cell_type": "code",
   "execution_count": 9,
   "metadata": {},
   "outputs": [],
   "source": [
    "def get_distance_matrix(data_matrix,linear=False):\n",
    "    if not linear:\n",
    "        spatial_length = data_matrix.shape[0]\n",
    "        # print(spatial_length)\n",
    "        dis_matrix = np.random.rand(spatial_length,spatial_length)\n",
    "        dis_matrix += dis_matrix.T\n",
    "        np.fill_diagonal(dis_matrix,0)\n",
    "        return dis_matrix\n",
    "    else:\n",
    "        spatial_length = data_matrix.shape[0]\n",
    "        dis_matrix = np.zeros((spatial_length,spatial_length))\n",
    "        for i in range(spatial_length):\n",
    "            dis_matrix[i][i:] = np.arange(0,spatial_length-i)\n",
    "        dis_matrix = dis_matrix + dis_matrix.T\n",
    "        return dis_matrix"
   ]
  },
  {
   "cell_type": "code",
   "execution_count": 10,
   "metadata": {
    "tags": []
   },
   "outputs": [
    {
     "output_type": "stream",
     "name": "stdout",
     "text": "7.395147142737379\n"
    }
   ],
   "source": [
    "stmvl = ST_MVL()\n",
    "ds = get_distance_matrix(data_matrix,True)\n",
    "rec3 = stmvl.predict(data_matrix,ds)\n",
    "print(np.sum(np.abs(rec3-tensor_array[1])))"
   ]
  }
 ],
 "metadata": {
  "kernelspec": {
   "display_name": "Python 3.7.6 64-bit ('ccs_ta': conda)",
   "language": "python",
   "name": "python37664bitccstaconda3a2139a6822448159c7afc22ea6ab768"
  },
  "language_info": {
   "codemirror_mode": {
    "name": "ipython",
    "version": 3
   },
   "file_extension": ".py",
   "mimetype": "text/x-python",
   "name": "python",
   "nbconvert_exporter": "python",
   "pygments_lexer": "ipython3",
   "version": "3.7.6-final"
  }
 },
 "nbformat": 4,
 "nbformat_minor": 4
}