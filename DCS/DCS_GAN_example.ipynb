{
 "cells": [
  {
   "cell_type": "code",
   "execution_count": 17,
   "metadata": {},
   "outputs": [],
   "source": [
    "import torch\n",
    "from torch import nn,optim\n",
    "from torch.autograd.variable import Variable\n",
    "from torchvision import transforms,datasets\n",
    "from utils import Logger\n",
    "from IPython import display\n",
    "import numpy as np\n",
    "import matplotlib.pyplot as plt"
   ]
  },
  {
   "cell_type": "code",
   "execution_count": 2,
   "metadata": {},
   "outputs": [],
   "source": [
    "def temper_data(flag=\"train\"):\n",
    "    if flag == \"train\":\n",
    "        return torch.load('../dataloader_temp_train2.pt')\n",
    "    elif flag == 'test':\n",
    "        return torch.load('../dataloader_temp_test2.pt')\n",
    "    else:\n",
    "        raise NameError('No such data loader')\n",
    "\n",
    "train_dataloader = temper_data()\n",
    "num_batches_train = len(train_dataloader)\n",
    "test_dataloader = temper_data('test')\n",
    "num_batches_test = len(test_dataloader)"
   ]
  },
  {
   "cell_type": "code",
   "execution_count": 3,
   "metadata": {},
   "outputs": [],
   "source": [
    "def images_to_vectors(images):\n",
    "    return images.view(images.size(0), 133)\n",
    "\n",
    "def vectors_to_images(vectors):\n",
    "    return vectors.view(vectors.size(0), 1, 19, 7)"
   ]
  },
  {
   "cell_type": "code",
   "execution_count": 4,
   "metadata": {},
   "outputs": [],
   "source": [
    "def noise(size):\n",
    "    n = Variable(torch.randn(size, 100))\n",
    "    if torch.cuda.is_available(): return n.cuda() \n",
    "    return n"
   ]
  },
  {
   "cell_type": "code",
   "execution_count": 5,
   "metadata": {},
   "outputs": [],
   "source": [
    "class DiscriminatorNet(torch.nn.Module):\n",
    "    \"\"\"\n",
    "    A three hidden-layer discriminative neural network\n",
    "    \"\"\"\n",
    "    def __init__(self):\n",
    "        super(DiscriminatorNet, self).__init__()\n",
    "        n_features = 19*7\n",
    "        n_out = 1\n",
    "        \n",
    "        self.hidden0 = nn.Sequential( \n",
    "            nn.Linear(n_features, 1024),\n",
    "            nn.LeakyReLU(0.2),\n",
    "            nn.Dropout(0.3)\n",
    "        )\n",
    "        self.hidden1 = nn.Sequential(\n",
    "            nn.Linear(1024,512),\n",
    "            nn.LeakyReLU(0.2),\n",
    "            nn.Dropout(0.3)\n",
    "        )\n",
    "        self.hidden2 = nn.Sequential(\n",
    "            nn.Linear(512, 256),\n",
    "            nn.LeakyReLU(0.2),\n",
    "            nn.Dropout(0.3)\n",
    "        )\n",
    "        self.out = nn.Sequential(\n",
    "            torch.nn.Linear(256, n_out),\n",
    "            torch.nn.Sigmoid()\n",
    "        )\n",
    "\n",
    "    def forward(self, x):\n",
    "        x = self.hidden0(x)\n",
    "        x = self.hidden1(x)\n",
    "        x = self.hidden2(x)\n",
    "        x = self.out(x)\n",
    "        return x"
   ]
  },
  {
   "cell_type": "code",
   "execution_count": 6,
   "metadata": {},
   "outputs": [],
   "source": [
    "class GeneratorNet(torch.nn.Module):\n",
    "    \"\"\"\n",
    "    A three hidden-layer generative neural network\n",
    "    \"\"\"\n",
    "    def __init__(self):\n",
    "        super(GeneratorNet, self).__init__()\n",
    "        n_features = 100\n",
    "        n_out = 19*7\n",
    "        \n",
    "        self.hidden0 = nn.Sequential(\n",
    "            nn.Linear(n_features, 256),\n",
    "            nn.LeakyReLU(0.2)\n",
    "        )\n",
    "        self.hidden1 = nn.Sequential(            \n",
    "            nn.Linear(256, 512),\n",
    "            nn.LeakyReLU(0.2)\n",
    "        )\n",
    "        self.hidden2 = nn.Sequential(\n",
    "            nn.Linear(512, 1024),\n",
    "            nn.LeakyReLU(0.2)\n",
    "        )\n",
    "        \n",
    "        self.out = nn.Sequential(\n",
    "            nn.Linear(1024, n_out),\n",
    "#             nn.Tanh()\n",
    "        )\n",
    "\n",
    "    def forward(self, x):\n",
    "        x = self.hidden0(x)\n",
    "        x = self.hidden1(x)\n",
    "        x = self.hidden2(x)\n",
    "        x = self.out(x)\n",
    "        return x"
   ]
  },
  {
   "cell_type": "code",
   "execution_count": 7,
   "metadata": {},
   "outputs": [],
   "source": [
    "discriminator = DiscriminatorNet()\n",
    "generator = GeneratorNet()\n",
    "if torch.cuda.is_available():\n",
    "    discriminator.cuda()\n",
    "    generator.cuda()"
   ]
  },
  {
   "cell_type": "code",
   "execution_count": 8,
   "metadata": {},
   "outputs": [],
   "source": [
    "# Optimizers\n",
    "d_optimizer = optim.Adam(discriminator.parameters(), lr=0.0002)\n",
    "g_optimizer = optim.Adam(generator.parameters(), lr=0.0002)\n",
    "\n",
    "# Loss function\n",
    "loss = nn.BCELoss()\n",
    "\n",
    "# Number of steps to apply to the discriminator\n",
    "d_steps = 1  # In Goodfellow et. al 2014 this variable is assigned to 1\n",
    "# Number of epochs\n",
    "num_epochs = 400"
   ]
  },
  {
   "cell_type": "code",
   "execution_count": 9,
   "metadata": {},
   "outputs": [],
   "source": [
    "def real_data_target(size):\n",
    "    '''\n",
    "    Tensor containing ones, with shape = size\n",
    "    '''\n",
    "    data = Variable(torch.ones(size, 1))\n",
    "    if torch.cuda.is_available(): return data.cuda()\n",
    "    return data\n",
    "\n",
    "def fake_data_target(size):\n",
    "    '''\n",
    "    Tensor containing zeros, with shape = size\n",
    "    '''\n",
    "    data = Variable(torch.zeros(size, 1))\n",
    "    if torch.cuda.is_available(): return data.cuda()\n",
    "    return data"
   ]
  },
  {
   "cell_type": "code",
   "execution_count": 10,
   "metadata": {},
   "outputs": [],
   "source": [
    "def train_discriminator(optimizer, real_data, fake_data):\n",
    "    # Reset gradients\n",
    "    optimizer.zero_grad()\n",
    "    \n",
    "    # 1.1 Train on Real Data\n",
    "    prediction_real = discriminator(real_data)\n",
    "    # Calculate error and backpropagate\n",
    "    error_real = loss(prediction_real, real_data_target(real_data.size(0)))\n",
    "    error_real.backward()\n",
    "\n",
    "    # 1.2 Train on Fake Data\n",
    "    prediction_fake = discriminator(fake_data)\n",
    "    # Calculate error and backpropagate\n",
    "    error_fake = loss(prediction_fake, fake_data_target(real_data.size(0)))\n",
    "    error_fake.backward()\n",
    "    \n",
    "    # 1.3 Update weights with gradients\n",
    "    optimizer.step()\n",
    "    \n",
    "    # Return error\n",
    "    return error_real + error_fake, prediction_real, prediction_fake\n",
    "\n",
    "def train_generator(optimizer, fake_data):\n",
    "    # 2. Train Generator\n",
    "    # Reset gradients\n",
    "    optimizer.zero_grad()\n",
    "    # Sample noise and generate fake data\n",
    "    prediction = discriminator(fake_data)\n",
    "    # Calculate error and backpropagate\n",
    "    error = loss(prediction, real_data_target(prediction.size(0)))\n",
    "    error.backward()\n",
    "    # Update weights with gradients\n",
    "    optimizer.step()\n",
    "    # Return error\n",
    "    return error"
   ]
  },
  {
   "cell_type": "code",
   "execution_count": 11,
   "metadata": {},
   "outputs": [],
   "source": [
    "num_test_samples = 16\n",
    "test_noise = noise(num_test_samples)"
   ]
  },
  {
   "cell_type": "code",
   "execution_count": 12,
   "metadata": {},
   "outputs": [
    {
     "data": {
      "text/plain": [
       "True"
      ]
     },
     "execution_count": 12,
     "metadata": {},
     "output_type": "execute_result"
    }
   ],
   "source": [
    "torch.cuda.is_available()"
   ]
  },
  {
   "cell_type": "code",
   "execution_count": 14,
   "metadata": {
    "scrolled": true
   },
   "outputs": [
    {
     "data": {
      "image/png": "[encoded data removed]",
      "text/plain": [
       "<Figure size 1152x1152 with 1 Axes>"
      ]
     },
     "metadata": {},
     "output_type": "display_data"
    },
    {
     "name": "stdout",
     "output_type": "stream",
     "text": [
      "Epoch: [399/400], Batch Num: [50/54]\n",
      "Discriminator Loss: 1.1169, Generator Loss: 1.4595\n",
      "D(x): 0.6639, D(G(z)): 0.3403\n"
     ]
    }
   ],
   "source": [
    "logger = Logger(model_name='VGAN', data_name='MNIST')\n",
    "\n",
    "for epoch in range(num_epochs):\n",
    "    for n_batch, (real_batch) in enumerate(train_dataloader):\n",
    "\n",
    "        # 1. Train Discriminator\n",
    "        real_data = Variable(images_to_vectors(real_batch))\n",
    "        if torch.cuda.is_available(): real_data = real_data.cuda()\n",
    "        # Generate fake data\n",
    "        fake_data = generator(noise(real_data.size(0))).detach()\n",
    "        # Train D\n",
    "        d_error, d_pred_real, d_pred_fake = train_discriminator(d_optimizer,\n",
    "                                                                real_data, fake_data)\n",
    "\n",
    "        # 2. Train Generator\n",
    "        # Generate fake data\n",
    "        fake_data = generator(noise(real_batch.size(0)))\n",
    "        # Train G\n",
    "        g_error = train_generator(g_optimizer, fake_data)\n",
    "        # Log error\n",
    "        logger.log(d_error, g_error, epoch, n_batch, num_batches_train)\n",
    "\n",
    "        # Display Progress\n",
    "        if (n_batch) % 10 == 0:\n",
    "            display.clear_output(True)\n",
    "            # Display Images\n",
    "            test_images = vectors_to_images(generator(test_noise)).data.cpu()\n",
    "            logger.log_images(test_images, num_test_samples, epoch, n_batch, num_batches_train);\n",
    "            # Display status Logs\n",
    "            logger.display_status(\n",
    "                epoch, num_epochs, n_batch, num_batches_train,\n",
    "                d_error, g_error, d_pred_real, d_pred_fake\n",
    "            )\n",
    "        # Model Checkpoints\n",
    "        logger.save_models(generator, discriminator, epoch)"
   ]
  },
  {
   "cell_type": "code",
   "execution_count": null,
   "metadata": {},
   "outputs": [],
   "source": [
    "mean_list = []\n",
    "std_list = []\n",
    "for item in real_data:\n",
    "#     print(torch.mean(item),torch.std(item))\n",
    "    mean_list.append(torch.mean(item).cpu().numpy())\n",
    "    std_list.append(torch.std(item).cpu().numpy())"
   ]
  },
  {
   "cell_type": "code",
   "execution_count": 19,
   "metadata": {},
   "outputs": [
    {
     "ename": "NameError",
     "evalue": "name 'tensor_array' is not defined",
     "output_type": "error",
     "traceback": [
      "\u001b[0;31m---------------------------------------------------------------------------\u001b[0m",
      "\u001b[0;31mNameError\u001b[0m                                 Traceback (most recent call last)",
      "\u001b[0;32m<ipython-input-19-e0827434f87a>\u001b[0m in \u001b[0;36m<module>\u001b[0;34m\u001b[0m\n\u001b[0;32m----> 1\u001b[0;31m \u001b[0mlen\u001b[0m\u001b[0;34m(\u001b[0m\u001b[0mtensor_array\u001b[0m\u001b[0;34m)\u001b[0m\u001b[0;34m\u001b[0m\u001b[0;34m\u001b[0m\u001b[0m\n\u001b[0m",
      "\u001b[0;31mNameError\u001b[0m: name 'tensor_array' is not defined"
     ]
    }
   ],
   "source": [
    "len(tensor_array)"
   ]
  },
  {
   "cell_type": "code",
   "execution_count": null,
   "metadata": {},
   "outputs": [],
   "source": [
    "mean_list = []\n",
    "std_list = []\n",
    "for item in tensor_array:\n",
    "    mean_list.append(np.mean(item))\n",
    "    std_list.append(np.std(item))"
   ]
  },
  {
   "cell_type": "code",
   "execution_count": 15,
   "metadata": {},
   "outputs": [
    {
     "name": "stdout",
     "output_type": "stream",
     "text": [
      "(29898,)\n",
      "(29898,)\n"
     ]
    }
   ],
   "source": [
    "g2 = generator(noise(29898))\n",
    "mean_g2 = torch.mean(g2,axis=1)\n",
    "mean_g2 = mean_g2.cpu().detach().numpy()\n",
    "std_g2 = torch.std(g2,axis=1)\n",
    "std_g2 = std_g2.cpu().detach().numpy()\n",
    "print(mean_g2.shape)\n",
    "print(std_g2.shape)"
   ]
  },
  {
   "cell_type": "code",
   "execution_count": 25,
   "metadata": {},
   "outputs": [
    {
     "data": {
      "text/plain": [
       "(array([3.790e+02, 2.155e+03, 3.706e+03, 4.424e+03, 4.060e+03, 3.249e+03,\n",
       "        2.514e+03, 1.840e+03, 1.422e+03, 1.082e+03, 8.540e+02, 6.640e+02,\n",
       "        5.500e+02, 3.920e+02, 3.350e+02, 2.610e+02, 2.370e+02, 1.960e+02,\n",
       "        1.620e+02, 1.440e+02, 1.080e+02, 1.160e+02, 9.400e+01, 8.600e+01,\n",
       "        8.900e+01, 8.700e+01, 7.100e+01, 6.500e+01, 4.200e+01, 5.300e+01,\n",
       "        4.300e+01, 3.700e+01, 4.700e+01, 3.000e+01, 3.200e+01, 2.600e+01,\n",
       "        2.100e+01, 1.300e+01, 2.300e+01, 1.800e+01, 1.600e+01, 2.000e+01,\n",
       "        1.500e+01, 1.200e+01, 1.000e+01, 1.200e+01, 5.000e+00, 9.000e+00,\n",
       "        1.000e+01, 2.000e+00, 8.000e+00, 2.000e+00, 1.000e+01, 5.000e+00,\n",
       "        5.000e+00, 0.000e+00, 7.000e+00, 4.000e+00, 2.000e+00, 4.000e+00,\n",
       "        0.000e+00, 1.000e+00, 3.000e+00, 0.000e+00, 1.000e+00, 0.000e+00,\n",
       "        2.000e+00, 1.000e+00, 0.000e+00, 1.000e+00, 1.000e+00, 0.000e+00,\n",
       "        0.000e+00, 0.000e+00, 0.000e+00, 0.000e+00, 0.000e+00, 1.000e+00,\n",
       "        0.000e+00, 0.000e+00, 0.000e+00, 0.000e+00, 0.000e+00, 0.000e+00,\n",
       "        1.000e+00, 0.000e+00, 0.000e+00, 0.000e+00, 0.000e+00, 0.000e+00,\n",
       "        0.000e+00, 0.000e+00, 0.000e+00, 0.000e+00, 0.000e+00, 0.000e+00,\n",
       "        0.000e+00, 0.000e+00, 0.000e+00, 1.000e+00]),\n",
       " array([ 0.23537582,  0.34826592,  0.46115598,  0.5740461 ,  0.68693614,\n",
       "         0.79982626,  0.9127163 ,  1.0256064 ,  1.1384965 ,  1.2513866 ,\n",
       "         1.3642766 ,  1.4771668 ,  1.5900569 ,  1.7029469 ,  1.815837  ,\n",
       "         1.9287271 ,  2.0416172 ,  2.1545074 ,  2.2673974 ,  2.3802874 ,\n",
       "         2.4931777 ,  2.6060677 ,  2.7189577 ,  2.831848  ,  2.944738  ,\n",
       "         3.057628  ,  3.1705182 ,  3.2834082 ,  3.3962982 ,  3.5091884 ,\n",
       "         3.6220784 ,  3.7349684 ,  3.8478587 ,  3.9607487 ,  4.073639  ,\n",
       "         4.1865287 ,  4.299419  ,  4.412309  ,  4.525199  ,  4.638089  ,\n",
       "         4.7509794 ,  4.863869  ,  4.9767594 ,  5.0896497 ,  5.2025394 ,\n",
       "         5.3154297 ,  5.42832   ,  5.5412097 ,  5.6541    ,  5.76699   ,\n",
       "         5.87988   ,  5.99277   ,  6.1056604 ,  6.21855   ,  6.3314404 ,\n",
       "         6.4443307 ,  6.5572205 ,  6.6701107 ,  6.783001  ,  6.8958907 ,\n",
       "         7.008781  ,  7.121671  ,  7.234561  ,  7.347451  ,  7.4603415 ,\n",
       "         7.5732317 ,  7.6861215 ,  7.7990117 ,  7.911902  ,  8.024792  ,\n",
       "         8.137682  ,  8.250572  ,  8.363462  ,  8.476352  ,  8.589242  ,\n",
       "         8.702132  ,  8.815022  ,  8.927913  ,  9.040803  ,  9.153692  ,\n",
       "         9.2665825 ,  9.379473  ,  9.492363  ,  9.605253  ,  9.718143  ,\n",
       "         9.831033  ,  9.943923  , 10.056813  , 10.1697035 , 10.282594  ,\n",
       "        10.395484  , 10.508373  , 10.6212635 , 10.734154  , 10.847044  ,\n",
       "        10.959934  , 11.0728245 , 11.185714  , 11.298604  , 11.411494  ,\n",
       "        11.5243845 ], dtype=float32),\n",
       " <a list of 100 Patch objects>)"
      ]
     },
     "execution_count": 25,
     "metadata": {},
     "output_type": "execute_result"
    },
    {
     "data": {
      "image/png": "[encoded data removed]",
      "text/plain": [
       "<Figure size 432x288 with 1 Axes>"
      ]
     },
     "metadata": {
      "needs_background": "light"
     },
     "output_type": "display_data"
    }
   ],
   "source": [
    "plt.hist(std_list,bins=100,label='origin',alpha=0.3)\n",
    "plt.hist(std_g2,bins=100,label='generator',alpha=0.3)"
   ]
  },
  {
   "cell_type": "code",
   "execution_count": 24,
   "metadata": {},
   "outputs": [
    {
     "name": "stderr",
     "output_type": "stream",
     "text": [
      "/home/esmidth/.pyenv/versions/anaconda3-2020.02/envs/ccs_ta/lib/python3.7/site-packages/numpy/lib/histograms.py:839: RuntimeWarning: invalid value encountered in greater_equal\n",
      "  keep = (tmp_a >= first_edge)\n",
      "/home/esmidth/.pyenv/versions/anaconda3-2020.02/envs/ccs_ta/lib/python3.7/site-packages/numpy/lib/histograms.py:840: RuntimeWarning: invalid value encountered in less_equal\n",
      "  keep &= (tmp_a <= last_edge)\n"
     ]
    },
    {
     "data": {
      "text/plain": [
       "(array([2.000e+00, 5.000e+00, 1.200e+01, 2.700e+01, 1.050e+02, 2.730e+02,\n",
       "        5.840e+02, 1.166e+03, 1.895e+03, 2.465e+03, 2.407e+03, 2.368e+03,\n",
       "        2.103e+03, 1.924e+03, 1.691e+03, 1.517e+03, 1.381e+03, 1.155e+03,\n",
       "        9.800e+02, 8.460e+02, 7.840e+02, 6.810e+02, 5.950e+02, 5.260e+02,\n",
       "        4.580e+02, 4.190e+02, 3.580e+02, 3.450e+02, 2.730e+02, 2.890e+02,\n",
       "        2.360e+02, 2.210e+02, 2.160e+02, 1.700e+02, 1.450e+02, 1.390e+02,\n",
       "        1.180e+02, 9.800e+01, 1.120e+02, 8.300e+01, 7.300e+01, 6.900e+01,\n",
       "        6.100e+01, 6.200e+01, 6.300e+01, 5.100e+01, 4.700e+01, 3.200e+01,\n",
       "        3.900e+01, 2.100e+01, 2.100e+01, 1.900e+01, 2.800e+01, 2.400e+01,\n",
       "        1.100e+01, 1.300e+01, 1.500e+01, 1.000e+01, 4.000e+00, 1.000e+01,\n",
       "        6.000e+00, 1.000e+01, 6.000e+00, 2.000e+00, 6.000e+00, 2.000e+00,\n",
       "        2.000e+00, 1.000e+00, 3.000e+00, 6.000e+00, 3.000e+00, 1.000e+00,\n",
       "        0.000e+00, 0.000e+00, 1.000e+00, 0.000e+00, 0.000e+00, 1.000e+00,\n",
       "        0.000e+00, 0.000e+00, 0.000e+00, 1.000e+00, 0.000e+00, 0.000e+00,\n",
       "        0.000e+00, 0.000e+00, 0.000e+00, 1.000e+00, 0.000e+00, 0.000e+00,\n",
       "        0.000e+00, 0.000e+00, 0.000e+00, 0.000e+00, 0.000e+00, 0.000e+00,\n",
       "        0.000e+00, 0.000e+00, 0.000e+00, 1.000e+00]),\n",
       " array([-6.1800313 , -5.4681153 , -4.7562    , -4.044284  , -3.332368  ,\n",
       "        -2.6204522 , -1.9085363 , -1.1966206 , -0.48470473,  0.2272111 ,\n",
       "         0.9391269 ,  1.6510427 ,  2.3629587 ,  3.0748744 ,  3.7867901 ,\n",
       "         4.498706  ,  5.210622  ,  5.922538  ,  6.6344533 ,  7.3463693 ,\n",
       "         8.058285  ,  8.770201  ,  9.482117  , 10.194033  , 10.905949  ,\n",
       "        11.617865  , 12.32978   , 13.041696  , 13.753612  , 14.465528  ,\n",
       "        15.1774435 , 15.889359  , 16.601274  , 17.31319   , 18.025106  ,\n",
       "        18.737022  , 19.448938  , 20.160854  , 20.87277   , 21.584686  ,\n",
       "        22.296602  , 23.008518  , 23.720432  , 24.432348  , 25.144264  ,\n",
       "        25.85618   , 26.568096  , 27.280012  , 27.991928  , 28.703844  ,\n",
       "        29.41576   , 30.127676  , 30.839592  , 31.551508  , 32.263424  ,\n",
       "        32.975338  , 33.687256  , 34.39917   , 35.111088  , 35.823     ,\n",
       "        36.53492   , 37.246834  , 37.958748  , 38.670666  , 39.38258   ,\n",
       "        40.094498  , 40.80641   , 41.51833   , 42.230244  , 42.94216   ,\n",
       "        43.654076  , 44.365993  , 45.077908  , 45.789825  , 46.50174   ,\n",
       "        47.213654  , 47.92557   , 48.637486  , 49.349403  , 50.061317  ,\n",
       "        50.773235  , 51.48515   , 52.197067  , 52.90898   , 53.6209    ,\n",
       "        54.332813  , 55.04473   , 55.756645  , 56.46856   , 57.180477  ,\n",
       "        57.89239   , 58.60431   , 59.316223  , 60.02814   , 60.740055  ,\n",
       "        61.451973  , 62.163887  , 62.875805  , 63.58772   , 64.29964   ,\n",
       "        65.01155   ], dtype=float32),\n",
       " <a list of 100 Patch objects>)"
      ]
     },
     "execution_count": 24,
     "metadata": {},
     "output_type": "execute_result"
    },
    {
     "data": {
      "image/png": "[encoded data removed]",
      "text/plain": [
       "<Figure size 432x288 with 1 Axes>"
      ]
     },
     "metadata": {
      "needs_background": "light"
     },
     "output_type": "display_data"
    }
   ],
   "source": [
    "plt.hist(mean_list,bins=100,label='y',alpha=0.3)\n",
    "plt.hist(mean_g2,bins=100,label='x',alpha=0.3)"
   ]
  },
  {
   "cell_type": "code",
   "execution_count": null,
   "metadata": {},
   "outputs": [],
   "source": [
    "plt.hist(mean_g2,bins=100)"
   ]
  },
  {
   "cell_type": "code",
   "execution_count": null,
   "metadata": {},
   "outputs": [],
   "source": [
    "g2_np = g2.cpu().detach().numpy()"
   ]
  },
  {
   "cell_type": "code",
   "execution_count": null,
   "metadata": {},
   "outputs": [],
   "source": [
    "mean_g2 = torch"
   ]
  },
  {
   "cell_type": "code",
   "execution_count": 47,
   "metadata": {},
   "outputs": [
    {
     "name": "stdout",
     "output_type": "stream",
     "text": [
      "38.0456715554744\n",
      "tensor([[ 0.8285,  0.8485,  0.7159,  0.7322,  0.8671,  0.7196,  0.7622,  0.5088,\n",
      "          0.7056,  0.4969,  0.6247,  0.7937,  0.6051,  0.4890,  0.4596,  0.5818,\n",
      "          0.5167,  0.4033,  0.5060,  0.4977,  0.4898,  0.8874,  0.9665,  0.8486,\n",
      "          0.9338,  0.9195,  0.8351,  0.9480,  0.3315,  0.4599,  0.4690,  0.4157,\n",
      "          0.5156,  0.4293,  0.3232,  1.0698,  0.9208,  1.0228,  1.0739,  0.9940,\n",
      "          0.9027,  0.7259, -0.0232, -0.0362, -0.0532, -0.2386, -0.0981,  0.0465,\n",
      "          0.0393, -0.1203, -0.1459, -0.1352, -0.1143, -0.1832, -0.1120, -0.0659,\n",
      "          2.0377,  1.8728,  2.0891,  2.0692,  2.1088,  1.9515,  2.1848,  0.9232,\n",
      "          0.8378,  0.8498,  0.7381,  0.8106,  0.7488,  0.8000,  0.4071,  0.4997,\n",
      "          0.5672,  0.3864,  0.3402,  0.3736,  0.4601, -0.3087,  0.0056, -0.1810,\n",
      "         -0.1222, -0.2345, -0.0928, -0.0621,  0.6936,  0.8074,  0.8171,  0.9077,\n",
      "          0.8581,  0.8020,  1.0585,  0.5790,  0.3497,  0.3235,  0.4460,  0.5628,\n",
      "          0.5213,  0.6022,  0.3403,  0.2982,  0.3230,  0.3098,  0.3892,  0.3530,\n",
      "          0.1575,  0.5292,  0.3486,  0.4046,  0.3487,  0.4515,  0.4676,  0.4063,\n",
      "          0.8357,  0.7781,  0.8593,  0.7242,  0.9143,  0.8476,  0.9263,  0.5730,\n",
      "          0.6630,  0.7026,  0.6720,  0.5178,  0.6947,  0.5183,  0.4101,  0.5074,\n",
      "          0.6775,  0.5789,  0.2953,  0.4722,  0.5294]], device='cuda:0',\n",
      "       grad_fn=<AddmmBackward>)\n",
      "tensor([[0.5592]], device='cuda:0', grad_fn=<SigmoidBackward>)\n"
     ]
    }
   ],
   "source": [
    "while True:\n",
    "    g1 = generator(noise(1))\n",
    "    loss = g1.cpu().detach().numpy().reshape(19,7) - tensor_array[10000]\n",
    "    mre = np.sum(np.abs(loss))\n",
    "    if mre < 40:\n",
    "        print(mre)\n",
    "        break\n",
    "print(g1)\n",
    "print(discriminator(g1))"
   ]
  },
  {
   "cell_type": "code",
   "execution_count": 52,
   "metadata": {},
   "outputs": [
    {
     "data": {
      "text/plain": [
       "array([[ 0.475,  0.6  ,  0.662,  0.6  ,  0.787,  0.662,  0.662],\n",
       "       [ 0.412,  0.475,  0.662,  0.537,  0.6  ,  0.662,  0.662],\n",
       "       [ 0.163,  0.037,  0.1  ,  0.037,  0.225,  0.037,  0.225],\n",
       "       [ 0.475,  0.412,  0.6  ,  0.475,  0.475,  0.412,  0.35 ],\n",
       "       [ 0.787,  0.725,  0.537,  0.662,  0.6  ,  0.537,  0.662],\n",
       "       [ 0.225,  0.1  ,  0.1  , -0.087, -0.087,  0.1  , -0.087],\n",
       "       [-0.025, -0.025, -0.025, -0.212, -0.338, -0.025, -0.275],\n",
       "       [-0.588, -0.65 , -0.713, -0.525, -0.525, -0.525, -0.525],\n",
       "       [ 2.1  ,  2.1  ,  2.163,  2.225,  2.225,  2.163,  2.1  ],\n",
       "       [ 1.038,  0.85 ,  0.975,  0.912,  0.912,  0.912,  0.912],\n",
       "       [ 0.225,  0.412,  0.412,  0.163,  0.537,  0.475,  0.412],\n",
       "       [ 0.037,  0.037,  0.1  ,  0.1  ,  0.037, -0.087,  0.037],\n",
       "       [ 0.662,  0.537,  0.725,  0.475,  0.662,  0.412,  0.475],\n",
       "       [ 0.975,  0.85 ,  0.787,  0.725,  0.725,  0.85 ,  0.787],\n",
       "       [ 0.163,  0.287,  0.287,  0.163,  0.287,  0.35 ,  0.412],\n",
       "       [ 0.787,  0.787,  0.725,  0.912,  0.85 ,  0.85 ,  0.787],\n",
       "       [ 1.1  ,  0.975,  1.1  ,  0.975,  0.85 ,  0.85 ,  0.912],\n",
       "       [ 0.662,  0.787,  0.725,  0.85 ,  0.787,  0.787,  0.787],\n",
       "       [-0.087, -0.275, -0.15 , -0.087, -0.212, -0.15 , -0.087]])"
      ]
     },
     "execution_count": 52,
     "metadata": {},
     "output_type": "execute_result"
    }
   ],
   "source": [
    "tensor_array[10000]"
   ]
  },
  {
   "cell_type": "code",
   "execution_count": 54,
   "metadata": {},
   "outputs": [
    {
     "data": {
      "text/plain": [
       "array([[ 0.35348954,  0.24852695,  0.05388176,  0.13216552,  0.0801118 ,\n",
       "         0.05755645,  0.10023725],\n",
       "       [ 0.09675545,  0.23060825, -0.16513672,  0.08768153,  0.19373288,\n",
       "        -0.05690765, -0.17298955],\n",
       "       [ 0.29664596,  0.54484308,  0.41665479,  0.36629421,  0.28103819,\n",
       "         0.46074444,  0.26476815],\n",
       "       [ 0.41243889,  0.55451155,  0.24856838,  0.45881375,  0.44445142,\n",
       "         0.42312825,  0.59801039],\n",
       "       [-0.45553899, -0.26514575, -0.06804028, -0.24632415, -0.08440909,\n",
       "        -0.10769856, -0.33881426],\n",
       "       [ 0.84479132,  0.8207778 ,  0.92284896,  1.16092788,  1.08099561,\n",
       "         0.80271032,  0.81290625],\n",
       "       [ 0.00184813, -0.01118294, -0.02818374, -0.02655282,  0.23987109,\n",
       "         0.0715357 ,  0.31433735],\n",
       "       [ 0.4677287 ,  0.5040594 ,  0.5777738 ,  0.41072703,  0.34180989,\n",
       "         0.41297063,  0.45909437],\n",
       "       [-0.06232772, -0.22718892, -0.07393659, -0.15577469, -0.11617599,\n",
       "        -0.21148814,  0.08478775],\n",
       "       [-0.11476744, -0.01223001, -0.12519137, -0.17386252, -0.10138804,\n",
       "        -0.16321796, -0.11198515],\n",
       "       [ 0.18206906,  0.08766407,  0.15523279,  0.22341167, -0.19680461,\n",
       "        -0.10143763,  0.04813895],\n",
       "       [-0.34565529, -0.03142023, -0.28099619, -0.22224362, -0.27148458,\n",
       "        -0.00583176, -0.0990885 ],\n",
       "       [ 0.03161687,  0.27035004,  0.09210029,  0.43266788,  0.19609302,\n",
       "         0.39003867,  0.58346596],\n",
       "       [-0.39598546, -0.50029562, -0.46348187, -0.27900982, -0.16222743,\n",
       "        -0.32869647, -0.18483406],\n",
       "       [ 0.17734568,  0.01124722,  0.03601995,  0.14677258,  0.10224032,\n",
       "         0.00302153, -0.25454515],\n",
       "       [-0.25782484, -0.43841296, -0.32035795, -0.56329471, -0.3985411 ,\n",
       "        -0.38244454, -0.38065338],\n",
       "       [-0.26434473, -0.19690166, -0.24070082, -0.25080166,  0.06429877,\n",
       "        -0.00238303,  0.01427048],\n",
       "       [-0.08897757, -0.12396878, -0.02235053, -0.1780102 , -0.2691682 ,\n",
       "        -0.09225637, -0.26867932],\n",
       "       [ 0.49714844,  0.78244438,  0.8274593 ,  0.66588567,  0.50731008,\n",
       "         0.62222045,  0.61640696]])"
      ]
     },
     "execution_count": 54,
     "metadata": {},
     "output_type": "execute_result"
    }
   ],
   "source": [
    "loss"
   ]
  },
  {
   "cell_type": "code",
   "execution_count": 27,
   "metadata": {},
   "outputs": [],
   "source": [
    "dif = []\n",
    "g3 = generator(noise(100000))\n",
    "for item in g3:\n",
    "    dif.append(np.sum(np.abs(item.cpu().detach().numpy().reshape(19,7)-tensor_array[1])))"
   ]
  },
  {
   "cell_type": "code",
   "execution_count": 44,
   "metadata": {},
   "outputs": [
    {
     "name": "stdout",
     "output_type": "stream",
     "text": [
      "36.4557402940318\n"
     ]
    }
   ],
   "source": [
    "dif = []\n",
    "for item in g3:\n",
    "    dif.append(np.sum(np.abs(item.cpu().detach().numpy().reshape(19,7)-tensor_array[10000])))\n",
    "print(np.min(dif))"
   ]
  },
  {
   "cell_type": "code",
   "execution_count": 45,
   "metadata": {},
   "outputs": [
    {
     "data": {
      "text/plain": [
       "0.2741033104814421"
      ]
     },
     "execution_count": 45,
     "metadata": {},
     "output_type": "execute_result"
    }
   ],
   "source": [
    "np.min(dif) / 133"
   ]
  },
  {
   "cell_type": "code",
   "execution_count": 33,
   "metadata": {},
   "outputs": [
    {
     "data": {
      "text/plain": [
       "6552.870897216797"
      ]
     },
     "execution_count": 33,
     "metadata": {},
     "output_type": "execute_result"
    }
   ],
   "source": [
    "np.max(dif)"
   ]
  },
  {
   "cell_type": "code",
   "execution_count": 38,
   "metadata": {},
   "outputs": [
    {
     "data": {
      "text/plain": [
       "62.10247220611572"
      ]
     },
     "execution_count": 38,
     "metadata": {},
     "output_type": "execute_result"
    }
   ],
   "source": [
    "np.min(dif)"
   ]
  },
  {
   "cell_type": "code",
   "execution_count": null,
   "metadata": {},
   "outputs": [],
   "source": [
    "# RMSE\n",
    "np.sqrt(np.sum(np.power(loss,2)) / 133)"
   ]
  },
  {
   "cell_type": "code",
   "execution_count": null,
   "metadata": {},
   "outputs": [],
   "source": [
    "np.sum(np.abs(loss)) "
   ]
  },
  {
   "cell_type": "code",
   "execution_count": null,
   "metadata": {},
   "outputs": [],
   "source": [
    "# MSE\n",
    "np.sum(np.power(loss,2)) / 133"
   ]
  },
  {
   "cell_type": "code",
   "execution_count": null,
   "metadata": {},
   "outputs": [],
   "source": [
    "loss"
   ]
  },
  {
   "cell_type": "code",
   "execution_count": null,
   "metadata": {},
   "outputs": [],
   "source": [
    "mre"
   ]
  },
  {
   "cell_type": "code",
   "execution_count": null,
   "metadata": {},
   "outputs": [],
   "source": [
    "g2 = generator(noise(1))"
   ]
  },
  {
   "cell_type": "code",
   "execution_count": null,
   "metadata": {},
   "outputs": [],
   "source": [
    "np.sum(np.abs(loss))"
   ]
  },
  {
   "cell_type": "code",
   "execution_count": null,
   "metadata": {},
   "outputs": [],
   "source": [
    "import matplotlib.pyplot as plt\n",
    "import numpy as np"
   ]
  },
  {
   "cell_type": "code",
   "execution_count": null,
   "metadata": {},
   "outputs": [],
   "source": [
    "std_list"
   ]
  },
  {
   "cell_type": "code",
   "execution_count": null,
   "metadata": {},
   "outputs": [],
   "source": [
    "plt.hist(mean_list,bins=100)"
   ]
  },
  {
   "cell_type": "code",
   "execution_count": null,
   "metadata": {},
   "outputs": [],
   "source": [
    "plt.hist(std_list,bins=100)"
   ]
  },
  {
   "cell_type": "code",
   "execution_count": 21,
   "metadata": {},
   "outputs": [
    {
     "name": "stdout",
     "output_type": "stream",
     "text": [
      "/home/esmidth/github/CCS_TA_implement\n"
     ]
    }
   ],
   "source": [
    "cd .."
   ]
  },
  {
   "cell_type": "code",
   "execution_count": 22,
   "metadata": {},
   "outputs": [],
   "source": [
    "import pickle\n",
    "with open('tensor2.pkl','rb') as f:\n",
    "    tensor_array = pickle.load(f)"
   ]
  },
  {
   "cell_type": "code",
   "execution_count": 23,
   "metadata": {},
   "outputs": [],
   "source": [
    "mean_list = []\n",
    "std_list = []\n",
    "for item in tensor_array:\n",
    "    mean_list.append(np.mean(item))\n",
    "    std_list.append(np.std(item))"
   ]
  }
 ],
 "metadata": {
  "kernelspec": {
   "display_name": "Python 3.7.6 64-bit ('ccs_ta': conda)",
   "language": "python",
   "name": "python37664bitccstaconda3a2139a6822448159c7afc22ea6ab768"
  },
  "language_info": {
   "codemirror_mode": {
    "name": "ipython",
    "version": 3
   },
   "file_extension": ".py",
   "mimetype": "text/x-python",
   "name": "python",
   "nbconvert_exporter": "python",
   "pygments_lexer": "ipython3",
   "version": "3.7.6"
  }
 },
 "nbformat": 4,
 "nbformat_minor": 4
}