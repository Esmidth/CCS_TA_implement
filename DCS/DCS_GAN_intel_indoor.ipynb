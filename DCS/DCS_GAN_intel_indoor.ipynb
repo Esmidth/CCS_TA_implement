{
 "cells": [
  {
   "cell_type": "code",
   "execution_count": 2,
   "metadata": {},
   "outputs": [],
   "source": [
    "import torch\n",
    "from torch import nn,optim\n",
    "from torch.autograd.variable import Variable\n",
    "from torchvision import transforms,datasets\n",
    "from utils import Logger\n",
    "from IPython import display\n",
    "import numpy as np\n",
    "import matplotlib.pyplot as plt"
   ]
  },
  {
   "cell_type": "code",
   "execution_count": 3,
   "metadata": {},
   "outputs": [],
   "source": [
    "def temper_data(flag=\"train\"):\n",
    "    if flag == \"train\":\n",
    "        return torch.load(\"../dataloader_intel_indoor_1_train.pt\")\n",
    "    elif flag == 'test':\n",
    "        return torch.load(\"../dataloader_intel_indoor_1_test.pt\")\n",
    "    else:\n",
    "        raise NameError(\"No such data loader\")\n",
    "        \n",
    "train_dataloader = temper_data()\n",
    "num_batches_train = len(train_dataloader)\n",
    "test_dataloader = temper_data('test')\n",
    "num_batches_test = len(test_dataloader)"
   ]
  },
  {
   "cell_type": "code",
   "execution_count": 4,
   "metadata": {},
   "outputs": [
    {
     "data": {
      "text/plain": [
       "<torch.utils.data.dataloader.DataLoader at 0x7f4e1d02a050>"
      ]
     },
     "execution_count": 4,
     "metadata": {},
     "output_type": "execute_result"
    }
   ],
   "source": [
    "train_dataloader"
   ]
  },
  {
   "cell_type": "code",
   "execution_count": 5,
   "metadata": {},
   "outputs": [],
   "source": [
    "def images_to_vectors(images):\n",
    "    return images.view(images.size(0), 40)\n",
    "\n",
    "def vectors_to_images(vectors):\n",
    "    return vectors.view(vectors.size(0), 1, 10, 4)"
   ]
  },
  {
   "cell_type": "code",
   "execution_count": 6,
   "metadata": {},
   "outputs": [],
   "source": [
    "def noise(size):\n",
    "    n = Variable(torch.randn(size, 100))\n",
    "    if torch.cuda.is_available(): return n.cuda() \n",
    "    return n"
   ]
  },
  {
   "cell_type": "code",
   "execution_count": 7,
   "metadata": {},
   "outputs": [],
   "source": [
    "class DiscriminatorNet(torch.nn.Module):\n",
    "    \"\"\"\n",
    "    A three hidden-layer discriminative neural network\n",
    "    \"\"\"\n",
    "    def __init__(self):\n",
    "        super(DiscriminatorNet, self).__init__()\n",
    "        n_features = 10*4\n",
    "        n_out = 1\n",
    "        \n",
    "        self.hidden0 = nn.Sequential( \n",
    "            nn.Linear(n_features, 1024),\n",
    "            nn.LeakyReLU(0.2),\n",
    "            nn.Dropout(0.3)\n",
    "        )\n",
    "        self.hidden1 = nn.Sequential(\n",
    "            nn.Linear(1024,512),\n",
    "            nn.LeakyReLU(0.2),\n",
    "            nn.Dropout(0.3)\n",
    "        )\n",
    "        self.hidden2 = nn.Sequential(\n",
    "            nn.Linear(512, 256),\n",
    "            nn.LeakyReLU(0.2),\n",
    "            nn.Dropout(0.3)\n",
    "        )\n",
    "        self.out = nn.Sequential(\n",
    "            torch.nn.Linear(256, n_out),\n",
    "            torch.nn.Sigmoid()\n",
    "        )\n",
    "\n",
    "    def forward(self, x):\n",
    "        x = self.hidden0(x)\n",
    "        x = self.hidden1(x)\n",
    "        x = self.hidden2(x)\n",
    "        x = self.out(x)\n",
    "        return x"
   ]
  },
  {
   "cell_type": "code",
   "execution_count": 8,
   "metadata": {},
   "outputs": [],
   "source": [
    "class GeneratorNet(torch.nn.Module):\n",
    "    \"\"\"\n",
    "    A three hidden-layer generative neural network\n",
    "    \"\"\"\n",
    "    def __init__(self):\n",
    "        super(GeneratorNet, self).__init__()\n",
    "        n_features = 100\n",
    "        n_out = 10*4\n",
    "        \n",
    "        self.hidden0 = nn.Sequential(\n",
    "            nn.Linear(n_features, 256),\n",
    "            nn.LeakyReLU(0.2)\n",
    "        )\n",
    "        self.hidden1 = nn.Sequential(            \n",
    "            nn.Linear(256, 512),\n",
    "            nn.LeakyReLU(0.2)\n",
    "        )\n",
    "        self.hidden2 = nn.Sequential(\n",
    "            nn.Linear(512, 1024),\n",
    "            nn.LeakyReLU(0.2)\n",
    "        )\n",
    "        \n",
    "        self.out = nn.Sequential(\n",
    "            nn.Linear(1024, n_out),\n",
    "#             nn.Tanh()\n",
    "        )\n",
    "\n",
    "    def forward(self, x):\n",
    "        x = self.hidden0(x)\n",
    "        x = self.hidden1(x)\n",
    "        x = self.hidden2(x)\n",
    "        x = self.out(x)\n",
    "        return x"
   ]
  },
  {
   "cell_type": "code",
   "execution_count": 9,
   "metadata": {},
   "outputs": [],
   "source": [
    "discriminator = DiscriminatorNet()\n",
    "generator = GeneratorNet()\n",
    "if torch.cuda.is_available():\n",
    "    discriminator.cuda()\n",
    "    generator.cuda()"
   ]
  },
  {
   "cell_type": "code",
   "execution_count": 10,
   "metadata": {},
   "outputs": [],
   "source": [
    "# Optimizers\n",
    "d_optimizer = optim.Adam(discriminator.parameters(), lr=0.0002)\n",
    "g_optimizer = optim.Adam(generator.parameters(), lr=0.0002)\n",
    "\n",
    "# Loss function\n",
    "loss = nn.BCELoss()\n",
    "\n",
    "# Number of steps to apply to the discriminator\n",
    "d_steps = 1  # In Goodfellow et. al 2014 this variable is assigned to 1\n",
    "# Number of epochs\n",
    "num_epochs = 400"
   ]
  },
  {
   "cell_type": "code",
   "execution_count": 11,
   "metadata": {},
   "outputs": [],
   "source": [
    "def real_data_target(size):\n",
    "    '''\n",
    "    Tensor containing ones, with shape = size\n",
    "    '''\n",
    "    data = Variable(torch.ones(size, 1))\n",
    "    if torch.cuda.is_available(): return data.cuda()\n",
    "    return data\n",
    "\n",
    "def fake_data_target(size):\n",
    "    '''\n",
    "    Tensor containing zeros, with shape = size\n",
    "    '''\n",
    "    data = Variable(torch.zeros(size, 1))\n",
    "    if torch.cuda.is_available(): return data.cuda()\n",
    "    return data"
   ]
  },
  {
   "cell_type": "code",
   "execution_count": 12,
   "metadata": {},
   "outputs": [],
   "source": [
    "def train_discriminator(optimizer, real_data, fake_data):\n",
    "    # Reset gradients\n",
    "    optimizer.zero_grad()\n",
    "    \n",
    "    # 1.1 Train on Real Data\n",
    "    prediction_real = discriminator(real_data)\n",
    "    # Calculate error and backpropagate\n",
    "    error_real = loss(prediction_real, real_data_target(real_data.size(0)))\n",
    "    error_real.backward()\n",
    "\n",
    "    # 1.2 Train on Fake Data\n",
    "    prediction_fake = discriminator(fake_data)\n",
    "    # Calculate error and backpropagate\n",
    "    error_fake = loss(prediction_fake, fake_data_target(real_data.size(0)))\n",
    "    error_fake.backward()\n",
    "    \n",
    "    # 1.3 Update weights with gradients\n",
    "    optimizer.step()\n",
    "    \n",
    "    # Return error\n",
    "    return error_real + error_fake, prediction_real, prediction_fake\n",
    "\n",
    "def train_generator(optimizer, fake_data):\n",
    "    # 2. Train Generator\n",
    "    # Reset gradients\n",
    "    optimizer.zero_grad()\n",
    "    # Sample noise and generate fake data\n",
    "    prediction = discriminator(fake_data)\n",
    "    # Calculate error and backpropagate\n",
    "    error = loss(prediction, real_data_target(prediction.size(0)))\n",
    "    error.backward()\n",
    "    # Update weights with gradients\n",
    "    optimizer.step()\n",
    "    # Return error\n",
    "    return error"
   ]
  },
  {
   "cell_type": "code",
   "execution_count": 13,
   "metadata": {},
   "outputs": [],
   "source": [
    "num_test_samples = 16\n",
    "test_noise = noise(num_test_samples)"
   ]
  },
  {
   "cell_type": "code",
   "execution_count": 14,
   "metadata": {},
   "outputs": [
    {
     "data": {
      "text/plain": [
       "True"
      ]
     },
     "execution_count": 14,
     "metadata": {},
     "output_type": "execute_result"
    }
   ],
   "source": [
    "torch.cuda.is_available()"
   ]
  },
  {
   "cell_type": "code",
   "execution_count": 15,
   "metadata": {
    "scrolled": true
   },
   "outputs": [
    {
     "data": {
      "image/png": "[encoded data removed]",
      "text/plain": [
       "<Figure size 1152x1152 with 1 Axes>"
      ]
     },
     "metadata": {},
     "output_type": "display_data"
    },
    {
     "name": "stdout",
     "output_type": "stream",
     "text": [
      "Epoch: [399/400], Batch Num: [20/30]\n",
      "Discriminator Loss: 0.5191, Generator Loss: 2.9760\n",
      "D(x): 0.8313, D(G(z)): 0.1370\n"
     ]
    }
   ],
   "source": [
    "logger = Logger(model_name='VGAN', data_name='MNIST')\n",
    "\n",
    "for epoch in range(num_epochs):\n",
    "    for n_batch, (real_batch) in enumerate(train_dataloader):\n",
    "\n",
    "        # 1. Train Discriminator\n",
    "        real_data = Variable(images_to_vectors(real_batch))\n",
    "        if torch.cuda.is_available(): real_data = real_data.cuda()\n",
    "        # Generate fake data\n",
    "        fake_data = generator(noise(real_data.size(0))).detach()\n",
    "        # Train D\n",
    "        d_error, d_pred_real, d_pred_fake = train_discriminator(d_optimizer,\n",
    "                                                                real_data, fake_data)\n",
    "\n",
    "        # 2. Train Generator\n",
    "        # Generate fake data\n",
    "        fake_data = generator(noise(real_batch.size(0)))\n",
    "        # Train G\n",
    "        g_error = train_generator(g_optimizer, fake_data)\n",
    "        # Log error\n",
    "        logger.log(d_error, g_error, epoch, n_batch, num_batches_train)\n",
    "\n",
    "        # Display Progress\n",
    "        if (n_batch) % 10 == 0:\n",
    "            display.clear_output(True)\n",
    "            # Display Images\n",
    "            test_images = vectors_to_images(generator(test_noise)).data.cpu()\n",
    "            logger.log_images(test_images, num_test_samples, epoch, n_batch, num_batches_train);\n",
    "            # Display status Logs\n",
    "            logger.display_status(\n",
    "                epoch, num_epochs, n_batch, num_batches_train,\n",
    "                d_error, g_error, d_pred_real, d_pred_fake\n",
    "            )\n",
    "        # Model Checkpoints\n",
    "        logger.save_models(generator, discriminator, epoch)"
   ]
  },
  {
   "cell_type": "code",
   "execution_count": 16,
   "metadata": {},
   "outputs": [],
   "source": [
    "import pickle\n",
    "filename = \"../intel_indoor_10_4.pkl\"\n",
    "with open(filename,'rb') as f:\n",
    "    data_array = pickle.load(f)"
   ]
  },
  {
   "cell_type": "code",
   "execution_count": 25,
   "metadata": {},
   "outputs": [],
   "source": [
    "mean_list = []\n",
    "std_list = []\n",
    "for item in real_data:\n",
    "#     print(torch.mean(item),torch.std(item))\n",
    "    mean_list.append(torch.mean(item).cpu().numpy())\n",
    "    std_list.append(torch.std(item).cpu().numpy())"
   ]
  },
  {
   "cell_type": "code",
   "execution_count": 17,
   "metadata": {},
   "outputs": [],
   "source": [
    "mean_list = []\n",
    "std_list = []\n",
    "for item in data_array:\n",
    "    mean_list.append(np.mean(item))\n",
    "    std_list.append(np.std(item))"
   ]
  },
  {
   "cell_type": "code",
   "execution_count": 18,
   "metadata": {},
   "outputs": [
    {
     "data": {
      "text/plain": [
       "17648"
      ]
     },
     "execution_count": 18,
     "metadata": {},
     "output_type": "execute_result"
    }
   ],
   "source": [
    "len(mean_list)"
   ]
  },
  {
   "cell_type": "code",
   "execution_count": 19,
   "metadata": {},
   "outputs": [
    {
     "name": "stdout",
     "output_type": "stream",
     "text": [
      "(17648,)\n",
      "(17648,)\n"
     ]
    }
   ],
   "source": [
    "g2 = generator(noise(17648))\n",
    "mean_g2 = torch.mean(g2,axis=1)\n",
    "mean_g2 = mean_g2.cpu().detach().numpy()\n",
    "std_g2 = torch.std(g2,axis=1)\n",
    "std_g2 = std_g2.cpu().detach().numpy()\n",
    "print(mean_g2.shape)\n",
    "print(std_g2.shape)"
   ]
  },
  {
   "cell_type": "code",
   "execution_count": 27,
   "metadata": {},
   "outputs": [
    {
     "data": {
      "text/plain": [
       "500"
      ]
     },
     "execution_count": 27,
     "metadata": {},
     "output_type": "execute_result"
    }
   ],
   "source": [
    "len(real_data)"
   ]
  },
  {
   "cell_type": "code",
   "execution_count": 21,
   "metadata": {},
   "outputs": [
    {
     "data": {
      "text/plain": [
       "(array([  4.,   2.,   4.,   4.,   9.,  12.,  30.,  63.,  84., 113., 116.,\n",
       "        156., 199., 286., 313., 375., 442., 438., 524., 582., 626., 674.,\n",
       "        678., 677., 741., 680., 668., 681., 660., 608., 621., 570., 547.,\n",
       "        499., 457., 458., 394., 379., 351., 329., 293., 265., 228., 228.,\n",
       "        222., 162., 144., 156., 132.,  98.,  98.,  81.,  72.,  49.,  56.,\n",
       "         41.,  35.,  20.,  23.,  25.,  25.,  22.,  15.,  16.,  11.,  13.,\n",
       "          7.,  11.,   1.,   8.,   5.,   4.,   6.,   1.,   1.,   1.,   1.,\n",
       "          1.,   4.,   2.,   3.,   2.,   1.,   0.,   0.,   1.,   1.,   0.,\n",
       "          0.,   1.,   1.,   0.,   0.,   0.,   0.,   0.,   0.,   0.,   0.,\n",
       "          1.]),\n",
       " array([ 9.830883, 10.368762, 10.906641, 11.44452 , 11.982399, 12.520279,\n",
       "        13.058158, 13.596037, 14.133916, 14.671795, 15.209674, 15.747553,\n",
       "        16.285433, 16.82331 , 17.36119 , 17.899069, 18.436949, 18.974829,\n",
       "        19.512707, 20.050587, 20.588465, 21.126345, 21.664223, 22.202103,\n",
       "        22.73998 , 23.27786 , 23.81574 , 24.353619, 24.891499, 25.429377,\n",
       "        25.967257, 26.505135, 27.043015, 27.580893, 28.118773, 28.656652,\n",
       "        29.19453 , 29.73241 , 30.270288, 30.808168, 31.346046, 31.883926,\n",
       "        32.421806, 32.959686, 33.497562, 34.035442, 34.573322, 35.111202,\n",
       "        35.64908 , 36.18696 , 36.72484 , 37.26272 , 37.8006  , 38.338474,\n",
       "        38.876354, 39.414234, 39.952114, 40.48999 , 41.02787 , 41.56575 ,\n",
       "        42.10363 , 42.64151 , 43.179386, 43.717266, 44.255146, 44.793026,\n",
       "        45.330902, 45.868782, 46.406662, 46.944542, 47.48242 , 48.020298,\n",
       "        48.558178, 49.096058, 49.633938, 50.171814, 50.709694, 51.247574,\n",
       "        51.785454, 52.323334, 52.86121 , 53.39909 , 53.93697 , 54.47485 ,\n",
       "        55.01273 , 55.550606, 56.088486, 56.626366, 57.164246, 57.70212 ,\n",
       "        58.24    , 58.77788 , 59.31576 , 59.85364 , 60.391518, 60.929398,\n",
       "        61.467278, 62.005157, 62.543034, 63.080914, 63.618793],\n",
       "       dtype=float32),\n",
       " <a list of 100 Patch objects>)"
      ]
     },
     "execution_count": 21,
     "metadata": {},
     "output_type": "execute_result"
    },
    {
     "data": {
      "image/png": "[encoded data removed]",
      "text/plain": [
       "<Figure size 432x288 with 1 Axes>"
      ]
     },
     "metadata": {
      "needs_background": "light"
     },
     "output_type": "display_data"
    }
   ],
   "source": [
    "plt.hist(std_list,bins=100,label='origin',alpha=0.3)\n",
    "plt.hist(std_g2,bins=100,label='generator',alpha=0.3)"
   ]
  },
  {
   "cell_type": "code",
   "execution_count": 22,
   "metadata": {},
   "outputs": [
    {
     "data": {
      "text/plain": [
       "(array([  3.,   5.,   3.,   5.,   9.,  18.,  34.,  44.,  56.,  72., 103.,\n",
       "        161., 168., 223., 270., 307., 399., 432., 449., 568., 563., 658.,\n",
       "        625., 657., 706., 697., 716., 648., 678., 674., 648., 583., 620.,\n",
       "        540., 535., 474., 442., 429., 373., 373., 318., 270., 248., 244.,\n",
       "        208., 186., 192., 153., 122., 114.,  88.,  95.,  56.,  57.,  56.,\n",
       "         37.,  32.,  26.,  28.,  29.,  14.,  20.,  10.,  15.,   8.,   8.,\n",
       "          7.,   7.,   2.,   4.,   3.,   4.,   3.,   5.,   1.,   1.,   2.,\n",
       "          1.,   0.,   1.,   1.,   1.,   1.,   0.,   0.,   0.,   0.,   0.,\n",
       "          0.,   0.,   1.,   0.,   0.,   0.,   0.,   0.,   0.,   0.,   0.,\n",
       "          1.]),\n",
       " array([ 15.955016,  17.008156,  18.061295,  19.114435,  20.167574,\n",
       "         21.220715,  22.273853,  23.326994,  24.380133,  25.433273,\n",
       "         26.486412,  27.53955 ,  28.592691,  29.64583 ,  30.69897 ,\n",
       "         31.75211 ,  32.80525 ,  33.85839 ,  34.91153 ,  35.96467 ,\n",
       "         37.017807,  38.070946,  39.12409 ,  40.177227,  41.230366,\n",
       "         42.283504,  43.336647,  44.389786,  45.442924,  46.496063,\n",
       "         47.549202,  48.602345,  49.655483,  50.708622,  51.76176 ,\n",
       "         52.814903,  53.868042,  54.92118 ,  55.97432 ,  57.02746 ,\n",
       "         58.0806  ,  59.13374 ,  60.18688 ,  61.240017,  62.29316 ,\n",
       "         63.3463  ,  64.39944 ,  65.452576,  66.505714,  67.55885 ,\n",
       "         68.61199 ,  69.66514 ,  70.71828 ,  71.771416,  72.824554,\n",
       "         73.87769 ,  74.93083 ,  75.98397 ,  77.03711 ,  78.09025 ,\n",
       "         79.143394,  80.19653 ,  81.24967 ,  82.30281 ,  83.35595 ,\n",
       "         84.40909 ,  85.46223 ,  86.515366,  87.568504,  88.62165 ,\n",
       "         89.67479 ,  90.72793 ,  91.78107 ,  92.834206,  93.887344,\n",
       "         94.94048 ,  95.99362 ,  97.04676 ,  98.09991 ,  99.153046,\n",
       "        100.206184, 101.25932 , 102.31246 , 103.3656  , 104.41874 ,\n",
       "        105.47188 , 106.52502 , 107.57816 , 108.6313  , 109.68444 ,\n",
       "        110.73758 , 111.79072 , 112.84386 , 113.896996, 114.950134,\n",
       "        116.00327 , 117.05642 , 118.10956 , 119.1627  , 120.215836,\n",
       "        121.268974], dtype=float32),\n",
       " <a list of 100 Patch objects>)"
      ]
     },
     "execution_count": 22,
     "metadata": {},
     "output_type": "execute_result"
    },
    {
     "data": {
      "image/png": "[encoded data removed]",
      "text/plain": [
       "<Figure size 432x288 with 1 Axes>"
      ]
     },
     "metadata": {
      "needs_background": "light"
     },
     "output_type": "display_data"
    }
   ],
   "source": [
    "plt.hist(mean_list,bins=100,label='y',alpha=0.3)\n",
    "plt.hist(mean_g2,bins=100,label='x',alpha=0.3)"
   ]
  },
  {
   "cell_type": "code",
   "execution_count": null,
   "metadata": {},
   "outputs": [],
   "source": [
    "plt.hist(mean_g2,bins=100)"
   ]
  },
  {
   "cell_type": "code",
   "execution_count": null,
   "metadata": {},
   "outputs": [],
   "source": [
    "g2_np = g2.cpu().detach().numpy()"
   ]
  },
  {
   "cell_type": "code",
   "execution_count": null,
   "metadata": {},
   "outputs": [],
   "source": [
    "mean_g2 = torch"
   ]
  },
  {
   "cell_type": "code",
   "execution_count": 33,
   "metadata": {},
   "outputs": [
    {
     "name": "stdout",
     "output_type": "stream",
     "text": [
      "tensor([[ 52.3429,  54.5554,  -5.5451,  27.4334,  33.5071,  55.7491, 147.0503,\n",
      "          94.9814,  76.1890,  77.0914,  14.2765,  29.7085,  39.3369,  16.7962,\n",
      "         106.4025,  17.2018,  88.5452, 106.0686, 104.5946,  39.7280,  13.4648,\n",
      "          63.0508,  41.9931,  15.1496, 109.8979, 122.0052, 128.0974,  64.0158,\n",
      "          68.1592,  75.4128,  17.6334,  43.6384,  43.9956,  27.8368,  60.3658,\n",
      "          53.9004, 101.0642,  75.0991,  52.5472,  55.5496]], device='cuda:0',\n",
      "       grad_fn=<AddmmBackward>)\n",
      "tensor([[0.0040]], device='cuda:0', grad_fn=<SigmoidBackward>)\n",
      "1320.8801843015035\n"
     ]
    }
   ],
   "source": [
    "i = 0\n",
    "while i < 100000:\n",
    "    min_mre = 99999\n",
    "    g1 = generator(noise(1))\n",
    "    loss = g1.cpu().detach().numpy().reshape(4,10) - data_array[900]\n",
    "    mre = np.sum(np.abs(loss))\n",
    "    if mre < min_mre:\n",
    "        min_g1 = g1\n",
    "        min_mre = mre\n",
    "        min_loss = loss\n",
    "    i += 1\n",
    "print(min_g1)\n",
    "print(discriminator(min_g1))\n",
    "print(min_mre)"
   ]
  },
  {
   "cell_type": "code",
   "execution_count": 37,
   "metadata": {},
   "outputs": [
    {
     "data": {
      "text/plain": [
       "array([[ 20.743     ,  72.0556    ,  21.5809    ,  21.5172    ,\n",
       "         72.2712    , 122.153     ,  88.72206667, 122.153     ,\n",
       "         88.70573333,  21.5368    ],\n",
       "       [ 71.4137    ,  22.1444    ,  21.5858    ,  21.6446    ,\n",
       "         22.1052    ,  71.9184    ,  72.0017    ,  46.5953    ,\n",
       "         71.5656    ,  21.61765   ],\n",
       "       [ 20.743     ,  72.0507    ,  21.4976    ,  21.6985    ,\n",
       "         22.0954    ,  71.7322    ,  72.0066    ,  97.17045   ,\n",
       "         88.48033333,  21.85693333],\n",
       "       [ 20.7234    ,  72.0507    ,  71.8841    ,  21.63153333,\n",
       "        122.153     ,  21.5123    , 122.153     ,  21.3016    ,\n",
       "         21.4584    ,  71.8106    ]])"
      ]
     },
     "execution_count": 37,
     "metadata": {},
     "output_type": "execute_result"
    }
   ],
   "source": [
    "data_array[10000]"
   ]
  },
  {
   "cell_type": "code",
   "execution_count": 27,
   "metadata": {},
   "outputs": [],
   "source": [
    "dif = []\n",
    "g3 = generator(noise(100000))\n",
    "for item in g3:\n",
    "    dif.append(np.sum(np.abs(item.cpu().detach().numpy().reshape(19,7)-tensor_array[1])))"
   ]
  },
  {
   "cell_type": "code",
   "execution_count": 44,
   "metadata": {},
   "outputs": [
    {
     "name": "stdout",
     "output_type": "stream",
     "text": [
      "36.4557402940318\n"
     ]
    }
   ],
   "source": [
    "dif = []\n",
    "for item in g3:\n",
    "    dif.append(np.sum(np.abs(item.cpu().detach().numpy().reshape(19,7)-tensor_array[10000])))\n",
    "print(np.min(dif))"
   ]
  },
  {
   "cell_type": "code",
   "execution_count": 45,
   "metadata": {},
   "outputs": [
    {
     "data": {
      "text/plain": [
       "0.2741033104814421"
      ]
     },
     "execution_count": 45,
     "metadata": {},
     "output_type": "execute_result"
    }
   ],
   "source": [
    "np.min(dif) / 133"
   ]
  },
  {
   "cell_type": "code",
   "execution_count": 33,
   "metadata": {},
   "outputs": [
    {
     "data": {
      "text/plain": [
       "6552.870897216797"
      ]
     },
     "execution_count": 33,
     "metadata": {},
     "output_type": "execute_result"
    }
   ],
   "source": [
    "np.max(dif)"
   ]
  },
  {
   "cell_type": "code",
   "execution_count": 38,
   "metadata": {},
   "outputs": [
    {
     "data": {
      "text/plain": [
       "62.10247220611572"
      ]
     },
     "execution_count": 38,
     "metadata": {},
     "output_type": "execute_result"
    }
   ],
   "source": [
    "np.min(dif)"
   ]
  },
  {
   "cell_type": "code",
   "execution_count": null,
   "metadata": {},
   "outputs": [],
   "source": [
    "# RMSE\n",
    "np.sqrt(np.sum(np.power(loss,2)) / 133)"
   ]
  },
  {
   "cell_type": "code",
   "execution_count": null,
   "metadata": {},
   "outputs": [],
   "source": [
    "np.sum(np.abs(loss)) "
   ]
  },
  {
   "cell_type": "code",
   "execution_count": null,
   "metadata": {},
   "outputs": [],
   "source": [
    "# MSE\n",
    "np.sum(np.power(loss,2)) / 133"
   ]
  },
  {
   "cell_type": "code",
   "execution_count": null,
   "metadata": {},
   "outputs": [],
   "source": [
    "loss"
   ]
  },
  {
   "cell_type": "code",
   "execution_count": null,
   "metadata": {},
   "outputs": [],
   "source": [
    "mre"
   ]
  },
  {
   "cell_type": "code",
   "execution_count": null,
   "metadata": {},
   "outputs": [],
   "source": [
    "g2 = generator(noise(1))"
   ]
  },
  {
   "cell_type": "code",
   "execution_count": null,
   "metadata": {},
   "outputs": [],
   "source": [
    "np.sum(np.abs(loss))"
   ]
  },
  {
   "cell_type": "code",
   "execution_count": null,
   "metadata": {},
   "outputs": [],
   "source": [
    "import matplotlib.pyplot as plt\n",
    "import numpy as np"
   ]
  },
  {
   "cell_type": "code",
   "execution_count": null,
   "metadata": {},
   "outputs": [],
   "source": [
    "std_list"
   ]
  },
  {
   "cell_type": "code",
   "execution_count": null,
   "metadata": {},
   "outputs": [],
   "source": [
    "plt.hist(mean_list,bins=100)"
   ]
  },
  {
   "cell_type": "code",
   "execution_count": null,
   "metadata": {},
   "outputs": [],
   "source": [
    "plt.hist(std_list,bins=100)"
   ]
  },
  {
   "cell_type": "code",
   "execution_count": 21,
   "metadata": {},
   "outputs": [
    {
     "name": "stdout",
     "output_type": "stream",
     "text": [
      "/home/esmidth/github/CCS_TA_implement\n"
     ]
    }
   ],
   "source": [
    "cd .."
   ]
  },
  {
   "cell_type": "code",
   "execution_count": 22,
   "metadata": {},
   "outputs": [],
   "source": [
    "import pickle\n",
    "with open('tensor2.pkl','rb') as f:\n",
    "    tensor_array = pickle.load(f)"
   ]
  },
  {
   "cell_type": "code",
   "execution_count": 23,
   "metadata": {},
   "outputs": [],
   "source": [
    "mean_list = []\n",
    "std_list = []\n",
    "for item in tensor_array:\n",
    "    mean_list.append(np.mean(item))\n",
    "    std_list.append(np.std(item))"
   ]
  }
 ],
 "metadata": {
  "kernelspec": {
   "display_name": "Python 3.7.6 64-bit ('ccs_ta': conda)",
   "language": "python",
   "name": "python37664bitccstaconda3a2139a6822448159c7afc22ea6ab768"
  },
  "language_info": {
   "codemirror_mode": {
    "name": "ipython",
    "version": 3
   },
   "file_extension": ".py",
   "mimetype": "text/x-python",
   "name": "python",
   "nbconvert_exporter": "python",
   "pygments_lexer": "ipython3",
   "version": "3.7.6"
  }
 },
 "nbformat": 4,
 "nbformat_minor": 4
}
