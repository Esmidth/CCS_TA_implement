{
 "cells": [
  {
   "cell_type": "code",
   "execution_count": 5,
   "metadata": {},
   "outputs": [],
   "source": [
    "from numpy import *\n",
    "import numpy as np"
   ]
  },
  {
   "cell_type": "code",
   "execution_count": 14,
   "metadata": {},
   "outputs": [],
   "source": [
    "def load_data(spatial_size, temporal_size, miss_ratio=0):\n",
    "    origin = np.random.randint(1,5,size=(spatial_size,temporal_size))\n",
    "    mask = np.ones_like(origin)\n",
    "    k = round(spatial_size*temporal_size*miss_ratio)\n",
    "    ri = np.random.choice(spatial_size*temporal_size,k,replace=False)\n",
    "    mask.flat[ri] = 0\n",
    "    return origin,mask\n",
    "\n",
    "origin,mask = load_data(4,5,0.2)"
   ]
  },
  {
   "cell_type": "code",
   "execution_count": 15,
   "metadata": {},
   "outputs": [
    {
     "output_type": "stream",
     "name": "stdout",
     "text": "[[4 4 1 1 3]\n [2 1 2 4 2]\n [3 1 1 4 4]\n [1 4 4 2 3]]\n"
    }
   ],
   "source": [
    "print(origin)"
   ]
  },
  {
   "cell_type": "code",
   "execution_count": 16,
   "metadata": {},
   "outputs": [
    {
     "output_type": "stream",
     "name": "stdout",
     "text": "[[1 1 1 0 1]\n [1 0 1 0 0]\n [1 1 1 1 1]\n [1 1 1 1 1]]\n"
    }
   ],
   "source": [
    "print(mask)"
   ]
  },
  {
   "cell_type": "code",
   "execution_count": 17,
   "metadata": {},
   "outputs": [
    {
     "output_type": "stream",
     "name": "stdout",
     "text": "[[4 4 1 0 3]\n [2 0 2 0 0]\n [3 1 1 4 4]\n [1 4 4 2 3]]\n"
    }
   ],
   "source": [
    "print(origin * mask)"
   ]
  },
  {
   "cell_type": "code",
   "execution_count": 43,
   "metadata": {
    "tags": [
     "outputPrepend"
    ]
   },
   "outputs": [
    {
     "output_type": "stream",
     "name": "stdout",
     "text": "21.85260969801695\n9.243749269437957\n5.78815668182018\n4.98774389050004\n4.560371226935063\n4.3001824439581995\n4.086072814560584\n4.002388043785919\n4.0214928867266\n4.055179564388306\n4.08436302463296\n4.106393772272927\n4.121618671717078\n4.1336633273100665\n4.143984047181353\n4.150969520804778\n4.155702903175448\n4.158932628707495\n4.16116258144042\n4.162725875105278\n4.163839673812101\n4.164644196733944\n4.16522990320173\n4.165656039332528\n4.165962779921364\n4.1661786588922745\n4.166324778654145\n4.166417104314974\n4.166467802162053\n4.166486159688731\n4.16647929958535\n4.166452740742617\n4.166410819405005\n4.166356990012314\n4.166294034254572\n4.166224206770613\n4.166149339747763\n4.166070921354779\n4.165990157093742\n4.165908019331879\n4.165825288062636\n4.1657425847621665\n4.165660400596071\n4.165579119909425\n4.165499039748431\n4.165420386040228\n4.165343326965041\n4.165267983977974\n4.165194440870897\n4.165122751206165\n4.165052944402228\n4.164985030706484\n4.164919005251941\n4.164854851361459\n4.164792543235413\n4.164732048135338\n4.1646733281566926\n4.164616341667986\n4.1645610444804015\n4.164507390801631\n4.164455334019336\n4.164404827353364\n4.164355824411191\n4.16430827967811\n4.164262148972009\n4.164217389892315\n4.164173962293555\n4.1641318288155\n4.164090955504055\n4.1640513125584535\n4.164012875240075\n4.163975624974093\n4.163939550664209\n4.163904650219128\n4.163870932252763\n4.16383841786384\n4.163807142321961\n4.1637771563882024\n4.163748526888828\n4.1637213360628635\n4.16369567915449\n4.163671659767149\n4.16364938268706\n4.163628944247181\n4.163610420821134\n4.163593856622731\n4.163579252486482\n4.163566557531053\n4.163555665412547\n4.163546416225181\n4.163538604126757\n4.163531989712192\n4.163526315325025\n4.163521321104719\n4.163516759679995\n4.163512407938387\n4.163508075029447\n4.16350360648061\n4.16349888486522\n4.163493827792077\n[[0 2 0 0 3]\n [2 2 0 0 0]\n [4 4 2 2 0]\n [0 1 0 3 0]]\n[[2 2 1 1 3]\n [2 2 2 3 2]\n [4 4 2 2 4]\n [1 1 2 3 3]]\n[[3.03375866e-02 2.01891362e+00 2.63733577e-03 3.73271522e-03\n  2.98689782e+00]\n [1.50867152e+00 1.71037760e+00 6.31392783e-01 8.93632688e-01\n  1.98445593e-01]\n [3.89188519e+00 4.07680766e+00 1.63048959e+00 2.30768997e+00\n  7.76882250e-03]\n [1.07759810e+00 1.12736998e+00 4.51462623e-01 6.38971125e-01\n  1.53959397e-06]]\n[[-1.96966241  0.01891362 -0.99736266 -0.99626728 -0.01310218]\n [-0.49132848 -0.2896224  -1.36860722 -2.10636731 -1.80155441]\n [-0.10811481  0.07680766 -0.36951041  0.30768997 -3.99223118]\n [ 0.0775981   0.12736998 -1.54853738 -2.36102887 -2.99999846]]\n22.02167479805728\n"
    }
   ],
   "source": [
    "\n",
    "from numpy import * \n",
    "\n",
    "def load_data1(file_path):\n",
    "    f = open(file_path)\n",
    "    V = []\n",
    "    for line in f.readlines():\n",
    "        lines = line.strip().split(\"\\t\")\n",
    "        data = []\n",
    "        for x in lines:\n",
    "            data.append(float(x))\n",
    "        V.append(data)\n",
    "    return mat(V)\n",
    "\n",
    "\n",
    "\n",
    "def train(V,mask, r, k, e):\n",
    "    m, n = shape(origin)\n",
    "    W = mat(random.random((m, r)))\n",
    "    H = mat(random.random((r, n)))\n",
    "\n",
    "    for x in arange(k):\n",
    "        #error \n",
    "        V_pre = W * H\n",
    "        # print(V_pre.shape)\n",
    "        # print(multiply(V_pre,mask))\n",
    "        E = V - multiply(V_pre,mask)\n",
    "        err = np.sum(abs(E))\n",
    "        #print E\n",
    "        # err = 0.0\n",
    "        # for i in arange(m):\n",
    "        #     for j in arange(n):\n",
    "        #         err += E[i,j] * E[i,j]\n",
    "        print(err)\n",
    "\n",
    "        if err < e:\n",
    "            break\n",
    "\n",
    "        a = W.T * V\n",
    "        b = W.T * W * H\n",
    "        #c = V * H.T\n",
    "        #d = W * H * H.T\n",
    "        for i_1 in np.arange(r):\n",
    "            for j_1 in arange(n):\n",
    "                if b[i_1,j_1] != \n",
    "                    H[i_1,j_1] = H[i_1,j_1] * a[i_1,j_1] / b[i_1,j_1]\n",
    "\n",
    "        c = V * H.T\n",
    "        d = W * H * H.T\n",
    "        for i_2 in arange(m):\n",
    "            for j_2 in arange(r):\n",
    "                if d[i_2, j_2] != 0:\n",
    "                    W[i_2,j_2] = W[i_2,j_2] * c[i_2,j_2] / d[i_2, j_2]\n",
    "\n",
    "    return W,H \n",
    "\n",
    "\n",
    "if __name__ == \"__main__\":\n",
    "    \n",
    "    \n",
    "\n",
    "    # V = load_data(file_path)\n",
    "    origin,mask = load_data(4,5,0.5)\n",
    "    W, H = train(origin*mask,mask, 2, 100, 1e-5 )\n",
    "\n",
    "    print(origin*mask)\n",
    "    # print(W)\n",
    "    # print(H)\n",
    "    print(origin)\n",
    "    print(W*H)\n",
    "    print(W*H-origin)\n",
    "    print(np.sum(abs(W * H-origin)))"
   ]
  }
 ],
 "metadata": {
  "language_info": {
   "codemirror_mode": {
    "name": "ipython",
    "version": 3
   },
   "file_extension": ".py",
   "mimetype": "text/x-python",
   "name": "python",
   "nbconvert_exporter": "python",
   "pygments_lexer": "ipython3",
   "version": "3.7.6-final"
  },
  "orig_nbformat": 2,
  "kernelspec": {
   "name": "python37664bitccstaconda3a2139a6822448159c7afc22ea6ab768",
   "display_name": "Python 3.7.6 64-bit ('ccs_ta': conda)"
  }
 },
 "nbformat": 4,
 "nbformat_minor": 2
}