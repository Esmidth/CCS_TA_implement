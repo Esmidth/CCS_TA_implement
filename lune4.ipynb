{
 "nbformat": 4,
 "nbformat_minor": 2,
 "metadata": {
  "language_info": {
   "name": "python",
   "codemirror_mode": {
    "name": "ipython",
    "version": 3
   },
   "version": "3.8.1-final"
  },
  "orig_nbformat": 2,
  "file_extension": ".py",
  "mimetype": "text/x-python",
  "name": "python",
  "npconvert_exporter": "python",
  "pygments_lexer": "ipython3",
  "version": 3,
  "kernelspec": {
   "name": "python38164bitksvdconda6705ad8a9fcd4e0bb5affd2c5dde61db",
   "display_name": "Python 3.8.1 64-bit ('ksvd': conda)"
  }
 },
 "cells": [
  {
   "cell_type": "code",
   "execution_count": 1,
   "metadata": {},
   "outputs": [],
   "source": [
    "%matplotlib inline\n",
    "import numpy as np\n",
    "import pandas as pd\n",
    "import os,sys\n",
    "import utils\n",
    "import matplotlib.pyplot as plt\n",
    "from consts import sensor_lat as lat\n",
    "from consts import sensor_log as log\n",
    "from consts import valid_sensor_res_10 as valid_sensor_list\n",
    "from numpy import array\n",
    "import time"
   ]
  },
  {
   "cell_type": "code",
   "execution_count": null,
   "metadata": {},
   "outputs": [],
   "source": [
    "df = pd.read_hdf('data.h5','march_df')"
   ]
  },
  {
   "cell_type": "code",
   "execution_count": 2,
   "metadata": {},
   "outputs": [],
   "source": [
    "df = pd.read_hdf('data.h5','df_sub')"
   ]
  },
  {
   "cell_type": "code",
   "execution_count": 3,
   "metadata": {},
   "outputs": [],
   "source": [
    "unix_column = 'Time since the epoch [s]'\n",
    "idd = 'Station ID'"
   ]
  },
  {
   "cell_type": "code",
   "execution_count": 11,
   "metadata": {},
   "outputs": [],
   "source": [
    "def all_np(arr):\n",
    "    arr = np.array(arr)\n",
    "    key = np.unique(arr)\n",
    "    result = {}\n",
    "    for k in key:\n",
    "        mask = (arr == k)\n",
    "        arr_new = arr[mask]\n",
    "        v = arr_new.size\n",
    "        result[k] = v\n",
    "    return result"
   ]
  },
  {
   "cell_type": "code",
   "execution_count": null,
   "metadata": {},
   "outputs": [],
   "source": [
    "print(df.shape)"
   ]
  },
  {
   "cell_type": "code",
   "execution_count": null,
   "metadata": {},
   "outputs": [],
   "source": [
    "epoch_length=1800\n",
    "start_unix_time = 1172678400\n",
    "end_unix_time = 1173283200"
   ]
  },
  {
   "cell_type": "code",
   "execution_count": null,
   "metadata": {},
   "outputs": [],
   "source": [
    "nums = (end_unix_time-start_unix_time)/epoch_length\n",
    "print(nums)"
   ]
  },
  {
   "cell_type": "code",
   "execution_count": null,
   "metadata": {},
   "outputs": [],
   "source": [
    "print(df.columns)"
   ]
  },
  {
   "cell_type": "code",
   "execution_count": null,
   "metadata": {},
   "outputs": [],
   "source": [
    "time_series = df['Time since the epoch [s]']"
   ]
  },
  {
   "cell_type": "code",
   "execution_count": null,
   "metadata": {},
   "outputs": [],
   "source": [
    "time_series_value = time_series.values\n",
    "print(type(time_series_value))\n",
    "print(time_series_value.shape)"
   ]
  },
  {
   "cell_type": "code",
   "execution_count": null,
   "metadata": {},
   "outputs": [],
   "source": [
    "time_stamps = np.arange(start_unix_time,end_unix_time+epoch_length,epoch_length)\n",
    "print(time_stamps.shape)"
   ]
  },
  {
   "cell_type": "code",
   "execution_count": null,
   "metadata": {},
   "outputs": [],
   "source": [
    "time_stamps_flag = np.zeros(time_stamps.shape)\n",
    "print(time_stamps_flag)\n",
    "print(time_stamps.shape)"
   ]
  },
  {
   "cell_type": "code",
   "execution_count": null,
   "metadata": {},
   "outputs": [],
   "source": [
    "print(len(valid_sensor_list))"
   ]
  },
  {
   "cell_type": "code",
   "execution_count": 9,
   "metadata": {},
   "outputs": [
    {
     "ename": "NameError",
     "evalue": "name 'all_np' is not defined",
     "output_type": "error",
     "traceback": [
      "\u001b[0;31m---------------------------------------------------------------------------\u001b[0m",
      "\u001b[0;31mNameError\u001b[0m                                 Traceback (most recent call last)",
      "\u001b[0;32m<ipython-input-9-cfeca84fa1e1>\u001b[0m in \u001b[0;36m<module>\u001b[0;34m\u001b[0m\n\u001b[1;32m      6\u001b[0m     \u001b[0muniq\u001b[0m \u001b[0;34m=\u001b[0m \u001b[0mnp\u001b[0m\u001b[0;34m.\u001b[0m\u001b[0munique\u001b[0m\u001b[0;34m(\u001b[0m\u001b[0msensor_list\u001b[0m\u001b[0;34m)\u001b[0m\u001b[0;34m\u001b[0m\u001b[0;34m\u001b[0m\u001b[0m\n\u001b[1;32m      7\u001b[0m     \u001b[0mdiff\u001b[0m \u001b[0;34m=\u001b[0m \u001b[0mnp\u001b[0m\u001b[0;34m.\u001b[0m\u001b[0msetdiff1d\u001b[0m\u001b[0;34m(\u001b[0m\u001b[0mvalid_sensor_list\u001b[0m\u001b[0;34m,\u001b[0m\u001b[0muniq\u001b[0m\u001b[0;34m)\u001b[0m\u001b[0;34m\u001b[0m\u001b[0;34m\u001b[0m\u001b[0m\n\u001b[0;32m----> 8\u001b[0;31m     \u001b[0mnp_court\u001b[0m \u001b[0;34m=\u001b[0m \u001b[0mall_np\u001b[0m\u001b[0;34m(\u001b[0m\u001b[0msensor_list\u001b[0m\u001b[0;34m)\u001b[0m\u001b[0;34m\u001b[0m\u001b[0;34m\u001b[0m\u001b[0m\n\u001b[0m\u001b[1;32m      9\u001b[0m     \u001b[0mall_np_list\u001b[0m\u001b[0;34m.\u001b[0m\u001b[0mappend\u001b[0m\u001b[0;34m(\u001b[0m\u001b[0mnp_court\u001b[0m\u001b[0;34m)\u001b[0m\u001b[0;34m\u001b[0m\u001b[0;34m\u001b[0m\u001b[0m\n\u001b[1;32m     10\u001b[0m     \u001b[0mprint\u001b[0m\u001b[0;34m(\u001b[0m\u001b[0mi\u001b[0m\u001b[0;34m+\u001b[0m\u001b[0;36m1\u001b[0m\u001b[0;34m,\u001b[0m\u001b[0mdiff\u001b[0m\u001b[0;34m,\u001b[0m\u001b[0mlen\u001b[0m\u001b[0;34m(\u001b[0m\u001b[0muniq\u001b[0m\u001b[0;34m)\u001b[0m\u001b[0;34m)\u001b[0m\u001b[0;34m\u001b[0m\u001b[0;34m\u001b[0m\u001b[0m\n",
      "\u001b[0;31mNameError\u001b[0m: name 'all_np' is not defined"
     ]
    }
   ],
   "source": [
    "all_np_list = []\n",
    "for i in range(len(time_stamps)-1):\n",
    "    # print(time_stamps[i],time_stamps[i+1])\n",
    "    sub_df = df[(df[unix_column] > time_stamps[i]) & (df[unix_column] < time_stamps[i+1])]\n",
    "    sensor_list = sub_df[idd].values\n",
    "    uniq = np.unique(sensor_list)\n",
    "    diff = np.setdiff1d(valid_sensor_list,uniq)    \n",
    "    np_court = all_np(sensor_list)\n",
    "    all_np_list.append(np_court)\n",
    "    print(i+1,diff,len(uniq))"
   ]
  },
  {
   "cell_type": "code",
   "execution_count": null,
   "metadata": {},
   "outputs": [],
   "source": []
  },
  {
   "cell_type": "code",
   "execution_count": null,
   "metadata": {},
   "outputs": [],
   "source": [
    "print(all_np_list[0])"
   ]
  },
  {
   "cell_type": "code",
   "execution_count": null,
   "metadata": {},
   "outputs": [],
   "source": [
    "print(df7.shape,df8.shape)"
   ]
  },
  {
   "cell_type": "code",
   "execution_count": null,
   "metadata": {},
   "outputs": [],
   "source": [
    "paris = [[14, array([ 3, 23, 42])], [15, array([ 5, 17])], [24, array([21, 26, 41])], [25, array([14, 30, 39, 56])], [26, array([ 9, 15, 18, 24, 37, 44, 105, 121])], [27, array([12, 45, 46])], [28, array([ 8, 25, 36])], [33, array([64, 75, 99])], [36, array([13, 40])], [37, array([ 34, 43, 106])], [53, array([ 70, 122])], [54, array([49, 68])], [63, array([66, 72])], [64, array([54, 73])], [66, array([ 32, 35, 50, 94, 107])], [69, array([79, 95])], [75, array([92, 97])], [77, array([33, 53])], [78, array([10, 19])], [91, array([85, 89])]] \n",
    "paris = np.array(paris)"
   ]
  },
  {
   "cell_type": "code",
   "execution_count": null,
   "metadata": {},
   "outputs": [],
   "source": [
    "start_unix_time = 1175356800\n",
    "end_unix_time = 1175961600\n",
    "epoch_length = 1800\n",
    "# 3-20 -> 3-28\n",
    "time_stamps = np.arange(start_unix_time,end_unix_time+epoch_length,epoch_length)\n",
    "print(time_stamps)\n",
    "print(time_stamps.shape)\n"
   ]
  },
  {
   "cell_type": "code",
   "execution_count": null,
   "metadata": {},
   "outputs": [],
   "source": []
  },
  {
   "cell_type": "code",
   "execution_count": 6,
   "metadata": {},
   "outputs": [
    {
     "name": "stdout",
     "output_type": "stream",
     "text": "1162393768 \t 2006-11-1:\t 14266 \t21.43531107902527\n1162480168 \t 2006-11-2:\t 14183 \t21.44499707221985\n1162566568 \t 2006-11-3:\t 13935 \t21.24094581604004\n1162652968 \t 2006-11-4:\t 13726 \t24.001574754714966\n1162739368 \t 2006-11-5:\t 13485 \t21.241179943084717\n1162825768 \t 2006-11-6:\t 13248 \t21.463744163513184\n1162912168 \t 2006-11-7:\t 12712 \t21.491495370864868\n1162998568 \t 2006-11-8:\t 12406 \t21.374603986740112\n1163084968 \t 2006-11-9:\t 12104 \t21.38152003288269\n1163171368 \t 2006-11-10:\t 11855 \t21.62583613395691\n1163257768 \t 2006-11-11:\t 11358 \t21.59411311149597\n1163344168 \t 2006-11-12:\t 12030 \t21.08329701423645\n1163430568 \t 2006-11-13:\t 11645 \t21.113155126571655\n1163516968 \t 2006-11-14:\t 11319 \t21.173110961914062\n1163603368 \t 2006-11-15:\t 10960 \t21.269654035568237\n1163689768 \t 2006-11-16:\t 10426 \t21.189512968063354\n1163776168 \t 2006-11-17:\t 9933 \t21.623354196548462\n1163862568 \t 2006-11-18:\t 9488 \t21.519514083862305\n1163948968 \t 2006-11-19:\t 8014 \t22.30996608734131\n1164035368 \t 2006-11-20:\t 7498 \t21.725139379501343\n1164121768 \t 2006-11-21:\t 7129 \t21.456098794937134\n1164208168 \t 2006-11-22:\t 6594 \t21.817037105560303\n1164294568 \t 2006-11-23:\t 6735 \t22.042664051055908\n1164380968 \t 2006-11-24:\t 6515 \t24.526248931884766\n1164467368 \t 2006-11-25:\t 6418 \t24.0731520652771\n1164553768 \t 2006-11-26:\t 6219 \t22.07974123954773\n1164640168 \t 2006-11-27:\t 6106 \t21.506259202957153\n1164726568 \t 2006-11-28:\t 5879 \t21.536426067352295\n1164812968 \t 2006-11-29:\t 5758 \t21.52252697944641\n1164899368 \t 2006-11-30:\t 5250 \t21.737065076828003\n1164985768 \t 2006-12-1:\t 5087 \t21.615968942642212\n1165072168 \t 2006-12-2:\t 4976 \t21.619703769683838\n1165158568 \t 2006-12-3:\t 4971 \t21.503440856933594\n1165244968 \t 2006-12-4:\t 4913 \t21.89546799659729\n1165331368 \t 2006-12-5:\t 4747 \t21.576039791107178\n1165417768 \t 2006-12-6:\t 4689 \t21.587253093719482\n1165504168 \t 2006-12-7:\t 4542 \t22.350897073745728\n1165590568 \t 2006-12-8:\t 4569 \t22.103132963180542\n1165676968 \t 2006-12-9:\t 4495 \t21.890334844589233\n1165763368 \t 2006-12-10:\t 4311 \t22.67413306236267\n1165849768 \t 2006-12-11:\t 4170 \t22.200858116149902\n1165936168 \t 2006-12-12:\t 3986 \t21.427053213119507\n1166022568 \t 2006-12-13:\t 3875 \t21.47863793373108\n1166108968 \t 2006-12-14:\t 3687 \t21.981271982192993\n1166195368 \t 2006-12-15:\t 3338 \t23.533239126205444\n1166281768 \t 2006-12-16:\t 3050 \t25.027535676956177\n1166368168 \t 2006-12-17:\t 2805 \t25.021165132522583\n1166454568 \t 2006-12-18:\t 2590 \t23.665241241455078\n1166540968 \t 2006-12-19:\t 2596 \t21.934077262878418\n1166627368 \t 2006-12-20:\t 2439 \t27.56412982940674\n1166713768 \t 2006-12-21:\t 2344 \t22.747169971466064\n1166800168 \t 2006-12-22:\t 2309 \t22.73356795310974\n1166886568 \t 2006-12-23:\t 2393 \t22.124044179916382\n1166972968 \t 2006-12-24:\t 2448 \t21.792252779006958\n1167059368 \t 2006-12-25:\t 2529 \t21.68759298324585\n1167145768 \t 2006-12-26:\t 2660 \t22.01750421524048\n1167232168 \t 2006-12-27:\t 2940 \t22.663041830062866\n1167318568 \t 2006-12-28:\t 3125 \t22.75923991203308\n1167404968 \t 2006-12-29:\t 3204 \t22.877568006515503\n1167491368 \t 2006-12-30:\t 3080 \t22.909042835235596\n1167577768 \t 2006-12-31:\t 2983 \t23.20428967475891\n1167664168 \t 2007-1-1:\t 2889 \t23.021020889282227\n1167750568 \t 2007-1-2:\t 3290 \t29.000293970108032\n1167836968 \t 2007-1-3:\t 2965 \t22.554156064987183\n1167923368 \t 2007-1-4:\t 2783 \t21.889936923980713\n1168009768 \t 2007-1-5:\t 2746 \t21.686887979507446\n1168096168 \t 2007-1-6:\t 2683 \t22.98637080192566\n1168182568 \t 2007-1-7:\t 2625 \t25.765607118606567\n1168268968 \t 2007-1-8:\t 2542 \t30.027090072631836\n1168355368 \t 2007-1-9:\t 1794 \t26.81483793258667\n1168441768 \t 2007-1-10:\t 1826 \t22.78262209892273\n1168528168 \t 2007-1-11:\t 1793 \t23.111825227737427\n1168614568 \t 2007-1-12:\t 1660 \t23.666240692138672\n1168700968 \t 2007-1-13:\t 1772 \t23.229524850845337\n1168787368 \t 2007-1-14:\t 1845 \t23.402281045913696\n1168873768 \t 2007-1-15:\t 2002 \t23.656063079833984\n1168960168 \t 2007-1-16:\t 4018 \t22.34079909324646\n1169046568 \t 2007-1-17:\t 4133 \t21.859709978103638\n1169132968 \t 2007-1-18:\t 4105 \t21.46692705154419\n1169219368 \t 2007-1-19:\t 4186 \t21.804749250411987\n1169305768 \t 2007-1-20:\t 4163 \t21.678284645080566\n1169392168 \t 2007-1-21:\t 4196 \t21.39095711708069\n1169478568 \t 2007-1-22:\t 4117 \t21.979053258895874\n1169564968 \t 2007-1-23:\t 2236 \t22.14389133453369\n1169651368 \t 2007-1-24:\t 2101 \t22.123171091079712\n1169737768 \t 2007-1-25:\t 2169 \t21.850738048553467\n1169824168 \t 2007-1-26:\t 2458 \t21.788299083709717\n1169910568 \t 2007-1-27:\t 2541 \t21.700649976730347\n1169996968 \t 2007-1-28:\t 2482 \t22.329766273498535\n1170083368 \t 2007-1-29:\t 2471 \t29.563421964645386\n1170169768 \t 2007-1-30:\t 2530 \t22.41239285469055\n1170256168 \t 2007-1-31:\t 2599 \t21.50657081604004\n1170342568 \t 2007-2-1:\t 2480 \t21.78530716896057\n1170428968 \t 2007-2-2:\t 2104 \t21.64832592010498\n1170515368 \t 2007-2-3:\t 1932 \t37.86125707626343\n1170601768 \t 2007-2-4:\t 1841 \t24.584716081619263\n1170688168 \t 2007-2-5:\t 1810 \t29.015628814697266\n1170774568 \t 2007-2-6:\t 1680 \t27.702713012695312\n1170860968 \t 2007-2-7:\t 1586 \t30.774513006210327\n1170947368 \t 2007-2-8:\t 1775 \t27.41529607772827\n1171033768 \t 2007-2-9:\t 1924 \t30.031628131866455\n1171120168 \t 2007-2-10:\t 1910 \t26.938124895095825\n1171206568 \t 2007-2-11:\t 2013 \t28.96219801902771\n1171292968 \t 2007-2-12:\t 1955 \t27.1636860370636\n1171379368 \t 2007-2-13:\t 1881 \t26.810700178146362\n1171465768 \t 2007-2-14:\t 1768 \t23.545166015625\n1171552168 \t 2007-2-15:\t 2621 \t29.731329917907715\n1171638568 \t 2007-2-16:\t 2424 \t27.082384824752808\n1171724968 \t 2007-2-17:\t 3566 \t25.660515069961548\n1171811368 \t 2007-2-18:\t 5714 \t27.227511882781982\n1171897768 \t 2007-2-19:\t 6136 \t23.937535047531128\n1171984168 \t 2007-2-20:\t 6133 \t24.803818702697754\n1172070568 \t 2007-2-21:\t 6206 \t21.5745050907135\n1172156968 \t 2007-2-22:\t 5164 \t21.567246913909912\n1172243368 \t 2007-2-23:\t 5229 \t21.593944787979126\n1172329768 \t 2007-2-24:\t 4089 \t21.6716730594635\n1172416168 \t 2007-2-25:\t 1804 \t21.701247930526733\n1172502568 \t 2007-2-26:\t 1353 \t21.879143953323364\n1172588968 \t 2007-2-27:\t 1432 \t21.82077693939209\n1172675368 \t 2007-2-28:\t 1463 \t21.877061128616333\n1172761768 \t 2007-3-1:\t 3031 \t21.341630935668945\n1172848168 \t 2007-3-2:\t 3096 \t21.56452202796936\n1172934568 \t 2007-3-3:\t 3146 \t21.635135173797607\n1173020968 \t 2007-3-4:\t 3266 \t21.750279903411865\n1173107368 \t 2007-3-5:\t 3430 \t21.620949029922485\n1173193768 \t 2007-3-6:\t 3471 \t21.236530780792236\n1173280168 \t 2007-3-7:\t 3558 \t21.430509090423584\n1173366568 \t 2007-3-8:\t 2102 \t21.814494848251343\n1173452968 \t 2007-3-9:\t 2169 \t21.851041078567505\n1173539368 \t 2007-3-10:\t 2307 \t21.817919969558716\n1173625768 \t 2007-3-11:\t 2444 \t21.92569899559021\n1173712168 \t 2007-3-12:\t 2429 \t21.72351098060608\n1173798568 \t 2007-3-13:\t 2351 \t22.234069347381592\n1173884968 \t 2007-3-14:\t 2129 \t21.82087516784668\n1173971368 \t 2007-3-15:\t 1957 \t21.764929056167603\n1174057768 \t 2007-3-16:\t 1726 \t21.7218120098114\n1174144168 \t 2007-3-17:\t 1563 \t21.794177055358887\n1174230568 \t 2007-3-18:\t 1405 \t21.73651099205017\n1174316968 \t 2007-3-19:\t 1305 \t21.914173126220703\n1174403368 \t 2007-3-20:\t 1261 \t21.846579790115356\n1174489768 \t 2007-3-21:\t 1253 \t21.832720041275024\n1174576168 \t 2007-3-22:\t 1257 \t21.584319829940796\n1174662568 \t 2007-3-23:\t 1386 \t21.799943923950195\n1174748968 \t 2007-3-24:\t 1564 \t21.828816175460815\n1174835368 \t 2007-3-25:\t 1737 \t21.73956608772278\n1174921768 \t 2007-3-26:\t 1754 \t21.796760082244873\n1175008168 \t 2007-3-27:\t 1733 \t21.783432960510254\n1175094568 \t 2007-3-28:\t 1879 \t21.81992197036743\n1175180968 \t 2007-3-29:\t 2037 \t21.787536144256592\n1175267368 \t 2007-3-30:\t 2091 \t21.694260835647583\n1175353768 \t 2007-3-31:\t 2015 \t21.733903884887695\n1175440168 \t 2007-4-1:\t 1930 \t21.78479790687561\n1175526568 \t 2007-4-2:\t 2009 \t21.684298038482666\n1175612968 \t 2007-4-3:\t 2235 \t21.828373193740845\n1175699368 \t 2007-4-4:\t 2339 \t21.823962926864624\n1175785768 \t 2007-4-5:\t 2298 \t21.859153985977173\n1175872168 \t 2007-4-6:\t 2264 \t21.684128046035767\n1175958568 \t 2007-4-7:\t 2257 \t21.715914011001587\n1176044968 \t 2007-4-8:\t 2222 \t21.862756967544556\n1176131368 \t 2007-4-9:\t 2236 \t21.75719690322876\n1176217768 \t 2007-4-10:\t 2114 \t21.750835180282593\n1176304168 \t 2007-4-11:\t 2039 \t21.744774103164673\n1176390568 \t 2007-4-12:\t 2168 \t21.61718726158142\n1176476968 \t 2007-4-13:\t 2283 \t21.54445195198059\n1176563368 \t 2007-4-14:\t 2356 \t21.516788959503174\n1176649768 \t 2007-4-15:\t 2416 \t21.55319309234619\n1176736168 \t 2007-4-16:\t 2412 \t21.64368510246277\n1176822568 \t 2007-4-17:\t 2481 \t21.386560916900635\n1176908968 \t 2007-4-18:\t 2524 \t21.4738187789917\n1176995368 \t 2007-4-19:\t 2467 \t21.51763916015625\n1177081768 \t 2007-4-20:\t 2420 \t21.45581293106079\n1177168168 \t 2007-4-21:\t 3743 \t21.146260976791382\n1177254568 \t 2007-4-22:\t 5816 \t20.833024978637695\n1177340968 \t 2007-4-23:\t 7262 \t20.93307900428772\n1177427368 \t 2007-4-24:\t 7474 \t20.99329900741577\n1177513768 \t 2007-4-25:\t 7461 \t21.12801718711853\n1177600168 \t 2007-4-26:\t 7462 \t21.016306161880493\n1177686568 \t 2007-4-27:\t 7468 \t21.13860511779785\n1177772968 \t 2007-4-28:\t 5968 \t21.2812659740448\n1177859368 \t 2007-4-29:\t 3805 \t21.4239239692688\n1177945768 \t 2007-4-30:\t 2275 \t21.604207038879395\n1178032168 \t 2007-5-1:\t 2002 \t21.573774099349976\n1178118568 \t 2007-5-2:\t 1931 \t21.50522494316101\n1178204968 \t 2007-5-3:\t 3384 \t21.36962103843689\n1178291368 \t 2007-5-4:\t 5499 \t20.989497900009155\n1178377768 \t 2007-5-5:\t 7751 \t20.819342136383057\n1178464168 \t 2007-5-6:\t 9914 \t20.54066514968872\n1178550568 \t 2007-5-7:\t 12084 \t20.417900800704956\n1178636968 \t 2007-5-8:\t 14264 \t20.17629885673523\n1178723368 \t 2007-5-9:\t 16467 \t19.990583181381226\n1178809768 \t 2007-5-10:\t 17136 \t19.980245113372803\n"
    }
   ],
   "source": [
    "output_list =[]\n",
    "day_second = 86400\n",
    "week_second = 7*day_second\n",
    "start_list = np.arange(1162393768,1178747998+day_second,day_second)\n",
    "epoch_length = 1800\n",
    "for start_point in start_list:\n",
    "    start_time = time.time()\n",
    "    time_stamps = np.arange(start_point,start_point+week_second+epoch_length,epoch_length)\n",
    "    error_num = coverage_test(df,time_stamps,valid_sensor_list)\n",
    "    now = time.gmtime(start_point)\n",
    "    output_list.append((start_point,now,error_num,time.time()-start_time))\n",
    "    print(\"{0} \\t {1}-{2}-{3}:\\t {4} \\t{5}\".format(start_point,now.tm_year,now.tm_mon,now.tm_mday,error_num,time.time()-start_time))"
   ]
  },
  {
   "cell_type": "code",
   "execution_count": 4,
   "metadata": {},
   "outputs": [],
   "source": [
    "def coverage_test(df,time_stamps,valid_sensor_list):\n",
    "    error = 0\n",
    "    # all_np_list = []\n",
    "    for i in range(len(time_stamps)-1):\n",
    "        # print(i)\n",
    "        # print(time_stamps[i],time_stamps[i+1])\n",
    "        sub_df = df[(df[unix_column] > time_stamps[i]) & (df[unix_column] < time_stamps[i+1])]\n",
    "        sensor_list = sub_df[idd].values\n",
    "        uniq = np.unique(sensor_list)\n",
    "        diff = np.setdiff1d(valid_sensor_list,uniq)    \n",
    "        # np_court = all_np(sensor_list)\n",
    "        # all_np_list.append(np_court)\n",
    "        error += len(diff)\n",
    "    return error"
   ]
  },
  {
   "cell_type": "code",
   "execution_count": 9,
   "metadata": {},
   "outputs": [
    {
     "name": "stdout",
     "output_type": "stream",
     "text": "(191, 4)\n"
    }
   ],
   "source": [
    "new_list = np.array(output_list)\n",
    "print(new_list.shape)"
   ]
  },
  {
   "cell_type": "code",
   "execution_count": 10,
   "metadata": {},
   "outputs": [
    {
     "name": "stdout",
     "output_type": "stream",
     "text": "(4, 191)\n"
    }
   ],
   "source": [
    "new_list = new_list.T\n",
    "print(new_list.shape)"
   ]
  },
  {
   "cell_type": "code",
   "execution_count": 14,
   "metadata": {},
   "outputs": [
    {
     "name": "stdout",
     "output_type": "stream",
     "text": "1253\n"
    }
   ],
   "source": [
    "print(new_list[2].min())"
   ]
  },
  {
   "cell_type": "code",
   "execution_count": null,
   "metadata": {},
   "outputs": [],
   "source": [
    "import time\n",
    "now = time.gmtime(1162687528)\n",
    "print9now.tm_year"
   ]
  }
 ]
}