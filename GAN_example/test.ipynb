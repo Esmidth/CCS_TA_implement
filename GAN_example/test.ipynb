{
 "cells": [
  {
   "cell_type": "code",
   "execution_count": 1,
   "metadata": {},
   "outputs": [],
   "source": [
    "import tensorflow as tf`"
   ]
  },
  {
   "cell_type": "code",
   "execution_count": 4,
   "metadata": {},
   "outputs": [],
   "source": [
    "n = tf.nn.l2_normalize"
   ]
  },
  {
   "cell_type": "code",
   "execution_count": 6,
   "metadata": {},
   "outputs": [],
   "source": [
    "import torch.nn.functional as F"
   ]
  },
  {
   "cell_type": "code",
   "execution_count": 8,
   "metadata": {},
   "outputs": [],
   "source": [
    "import torch"
   ]
  },
  {
   "cell_type": "code",
   "execution_count": 7,
   "metadata": {},
   "outputs": [
    {
     "output_type": "error",
     "ename": "NameError",
     "evalue": "name 'z' is not defined",
     "traceback": [
      "\u001b[0;31m---------------------------------------------------------------------------\u001b[0m",
      "\u001b[0;31mNameError\u001b[0m                                 Traceback (most recent call last)",
      "\u001b[0;32m<ipython-input-7-c2f22c8bc944>\u001b[0m in \u001b[0;36m<module>\u001b[0;34m\u001b[0m\n\u001b[0;32m----> 1\u001b[0;31m \u001b[0minputt\u001b[0m \u001b[0;34m=\u001b[0m \u001b[0mF\u001b[0m\u001b[0;34m.\u001b[0m\u001b[0mnormalize\u001b[0m\u001b[0;34m(\u001b[0m\u001b[0mz\u001b[0m\u001b[0;34m,\u001b[0m\u001b[0maxis\u001b[0m\u001b[0;34m=\u001b[0m\u001b[0;34m-\u001b[0m\u001b[0;36m1\u001b[0m\u001b[0;34m)\u001b[0m\u001b[0;34m\u001b[0m\u001b[0;34m\u001b[0m\u001b[0m\n\u001b[0m",
      "\u001b[0;31mNameError\u001b[0m: name 'z' is not defined"
     ]
    }
   ],
   "source": [
    "inputt = F.normalize(z,axis=-1)"
   ]
  },
  {
   "cell_type": "code",
   "execution_count": 9,
   "metadata": {},
   "outputs": [],
   "source": [
    "z = torch.randn(100)"
   ]
  },
  {
   "cell_type": "code",
   "execution_count": 13,
   "metadata": {},
   "outputs": [],
   "source": [
    "inputt = F.normalize(z,dim=-1)"
   ]
  },
  {
   "cell_type": "code",
   "execution_count": 14,
   "metadata": {},
   "outputs": [
    {
     "output_type": "execute_result",
     "data": {
      "text/plain": "tensor([ 0.0255, -0.1128, -0.0679,  0.1125,  0.0933,  0.0335,  0.0897, -0.0533,\n         0.0038,  0.1121,  0.1629,  0.0037, -0.1077, -0.0071,  0.0455,  0.0071,\n        -0.1596, -0.1640, -0.0105, -0.0798, -0.1091,  0.0470, -0.1066,  0.0522,\n         0.0326, -0.0558, -0.1059,  0.0353,  0.0354,  0.0657, -0.0883, -0.0365,\n        -0.0022,  0.0652, -0.0249, -0.2533, -0.0290,  0.0574, -0.0156,  0.1191,\n         0.0496,  0.1563,  0.0058, -0.0272, -0.0191,  0.1106,  0.1797, -0.0080,\n        -0.1350,  0.0430, -0.0385, -0.1215, -0.0329, -0.0282,  0.0656, -0.1014,\n        -0.0039,  0.0843,  0.1245, -0.0052,  0.0356,  0.2441,  0.1520, -0.0420,\n         0.0710, -0.0032, -0.0702, -0.1629,  0.0467, -0.0511, -0.2094,  0.2338,\n        -0.0542,  0.0627,  0.1235,  0.0281, -0.0621, -0.1435,  0.2686, -0.0539,\n        -0.0607,  0.0367, -0.0888, -0.2465, -0.0081, -0.0036,  0.0800, -0.1741,\n        -0.0445, -0.0265,  0.0622,  0.1514, -0.0287, -0.1237, -0.0253,  0.0168,\n        -0.0524, -0.1202,  0.0141,  0.1395])"
     },
     "metadata": {},
     "execution_count": 14
    }
   ],
   "source": [
    "inputt"
   ]
  },
  {
   "cell_type": "code",
   "execution_count": 17,
   "metadata": {},
   "outputs": [
    {
     "output_type": "execute_result",
     "data": {
      "text/plain": "tensor([ 0.2516, -1.1144, -0.6709,  1.1116,  0.9222,  0.3305,  0.8866, -0.5270,\n         0.0374,  1.1073,  1.6091,  0.0370, -1.0645, -0.0698,  0.4496,  0.0700,\n        -1.5764, -1.6199, -0.1033, -0.7879, -1.0778,  0.4646, -1.0529,  0.5161,\n         0.3218, -0.5510, -1.0464,  0.3492,  0.3493,  0.6495, -0.8721, -0.3602,\n        -0.0220,  0.6445, -0.2459, -2.5025, -0.2860,  0.5675, -0.1540,  1.1762,\n         0.4905,  1.5441,  0.0577, -0.2688, -0.1883,  1.0931,  1.7752, -0.0795,\n        -1.3334,  0.4244, -0.3807, -1.2001, -0.3255, -0.2782,  0.6481, -1.0015,\n        -0.0381,  0.8331,  1.2297, -0.0511,  0.3516,  2.4119,  1.5021, -0.4146,\n         0.7011, -0.0314, -0.6931, -1.6090,  0.4613, -0.5046, -2.0693,  2.3101,\n        -0.5352,  0.6192,  1.2205,  0.2777, -0.6136, -1.4178,  2.6535, -0.5327,\n        -0.5997,  0.3630, -0.8775, -2.4349, -0.0797, -0.0358,  0.7906, -1.7203,\n        -0.4397, -0.2617,  0.6144,  1.4956, -0.2835, -1.2218, -0.2498,  0.1662,\n        -0.5180, -1.1873,  0.1395,  1.3780])"
     },
     "metadata": {},
     "execution_count": 17
    }
   ],
   "source": [
    "z"
   ]
  },
  {
   "cell_type": "code",
   "execution_count": 19,
   "metadata": {},
   "outputs": [
    {
     "output_type": "stream",
     "name": "stdout",
     "text": "tensor(-0.0018)\n"
    }
   ],
   "source": [
    "print(inputt.mean())"
   ]
  },
  {
   "cell_type": "code",
   "execution_count": 20,
   "metadata": {},
   "outputs": [
    {
     "output_type": "stream",
     "name": "stdout",
     "text": "tensor(-0.0178)\n"
    }
   ],
   "source": [
    "print(z.mean())"
   ]
  }
 ],
 "metadata": {
  "language_info": {
   "codemirror_mode": {
    "name": "ipython",
    "version": 3
   },
   "file_extension": ".py",
   "mimetype": "text/x-python",
   "name": "python",
   "nbconvert_exporter": "python",
   "pygments_lexer": "ipython3",
   "version": "3.7.3-final"
  },
  "orig_nbformat": 2,
  "kernelspec": {
   "name": "python37364bitskleran23conda0ab411ec2f194e23aec19adfa46b0b62",
   "display_name": "Python 3.7.3 64-bit ('skleran23': conda)"
  }
 },
 "nbformat": 4,
 "nbformat_minor": 2
}