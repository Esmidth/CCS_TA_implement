{
 "cells": [
  {
   "cell_type": "code",
   "execution_count": 7,
   "metadata": {},
   "outputs": [],
   "source": [
    "%matplotlib inline\n",
    "import numpy as np\n",
    "import pandas as pd\n",
    "import os,sys\n",
    "import utilities\n",
    "import matplotlib.pyplot as plt\n",
    "from numpy import array\n",
    "from multiprocessing import Pool\n",
    "import multiprocessing as mp\n",
    "from consts import sensor_lat as lat\n",
    "from consts import sensor_log as log\n",
    "from consts import valid_sensor_res_10 as valid_sensor_list\n",
    "from consts import valid_sensor_res_10_old as valid_sensor_list_old\n",
    "from consts import sensor_day_seconds as day_seconds\n",
    "from consts import sensor_week_seconds as week_seconds \n",
    "from consts import sensor_start_time_unix as start_time\n",
    "from consts import sensor_end_time_unix as end_time\n",
    "from consts import sensor_epoch_length as epoch_length\n",
    "from consts import sensor_optimal_time_interval as optimal_time_interval\n",
    "from consts import sensor_loc_pic as loc_pic\n",
    "from consts import sensor_drop_list as drop_list\n",
    "import consts\n",
    "import time\n",
    "import pickle\n",
    "import copy\n",
    "import h5py\n",
    "import matplotlib.pyplot as plt"
   ]
  },
  {
   "cell_type": "code",
   "execution_count": 2,
   "metadata": {},
   "outputs": [],
   "source": [
    "import torch\n",
    "import torch.utils.data as Data"
   ]
  },
  {
   "cell_type": "code",
   "execution_count": 3,
   "metadata": {},
   "outputs": [],
   "source": [
    "filename = \"intel_indoor_10_4.pkl\"\n",
    "with open(filename,'rb') as f:\n",
    "    data_array = pickle.load(f)"
   ]
  },
  {
   "cell_type": "code",
   "execution_count": 4,
   "metadata": {},
   "outputs": [
    {
     "data": {
      "text/plain": [
       "(17648, 4, 10)"
      ]
     },
     "execution_count": 4,
     "metadata": {},
     "output_type": "execute_result"
    }
   ],
   "source": [
    "data_array.shape"
   ]
  },
  {
   "cell_type": "code",
   "execution_count": 11,
   "metadata": {},
   "outputs": [],
   "source": [
    "mean_list = []\n",
    "std_list = []\n",
    "for item in data_array:\n",
    "    mean_list.append(np.mean(item))\n",
    "    std_list.append(np.std(item))"
   ]
  },
  {
   "cell_type": "code",
   "execution_count": 12,
   "metadata": {},
   "outputs": [
    {
     "data": {
      "text/plain": [
       "(array([ 97., 205., 373., 349., 423., 696., 487., 464., 362., 369., 395.,\n",
       "        438., 351., 328., 345., 340., 293., 246., 205., 130., 149., 105.,\n",
       "        105., 101.,  89.,  91., 100., 129., 154., 178., 236., 257., 268.,\n",
       "        319., 363., 391., 461., 441., 446., 489., 473., 536., 495., 532.,\n",
       "        448., 415., 429., 383., 327., 312., 259., 199., 193., 170., 125.,\n",
       "         83.,  59.,  56.,  32.,  22.,  13.,  14.,  18.,  14.,   7.,   3.,\n",
       "         15.,  16.,  11.,  13.,  14.,  13.,  18.,  11.,  13.,  12.,  16.,\n",
       "         10.,  14.,   6.,   9.,   3.,  11.,   8.,   9.,   4.,   3.,   3.,\n",
       "          5.,   3.,   3.,   8.,   3.,   0.,   1.,   3.,   0.,   0.,   2.,\n",
       "          3.]),\n",
       " array([ 16.72135358,  17.60038795,  18.47942231,  19.35845668,\n",
       "         20.23749104,  21.1165254 ,  21.99555977,  22.87459413,\n",
       "         23.7536285 ,  24.63266286,  25.51169722,  26.39073159,\n",
       "         27.26976595,  28.14880032,  29.02783468,  29.90686905,\n",
       "         30.78590341,  31.66493777,  32.54397214,  33.4230065 ,\n",
       "         34.30204087,  35.18107523,  36.0601096 ,  36.93914396,\n",
       "         37.81817832,  38.69721269,  39.57624705,  40.45528142,\n",
       "         41.33431578,  42.21335014,  43.09238451,  43.97141887,\n",
       "         44.85045324,  45.7294876 ,  46.60852197,  47.48755633,\n",
       "         48.36659069,  49.24562506,  50.12465942,  51.00369379,\n",
       "         51.88272815,  52.76176251,  53.64079688,  54.51983124,\n",
       "         55.39886561,  56.27789997,  57.15693434,  58.0359687 ,\n",
       "         58.91500306,  59.79403743,  60.67307179,  61.55210616,\n",
       "         62.43114052,  63.31017488,  64.18920925,  65.06824361,\n",
       "         65.94727798,  66.82631234,  67.70534671,  68.58438107,\n",
       "         69.46341543,  70.3424498 ,  71.22148416,  72.10051853,\n",
       "         72.97955289,  73.85858725,  74.73762162,  75.61665598,\n",
       "         76.49569035,  77.37472471,  78.25375908,  79.13279344,\n",
       "         80.0118278 ,  80.89086217,  81.76989653,  82.6489309 ,\n",
       "         83.52796526,  84.40699962,  85.28603399,  86.16506835,\n",
       "         87.04410272,  87.92313708,  88.80217144,  89.68120581,\n",
       "         90.56024017,  91.43927454,  92.3183089 ,  93.19734327,\n",
       "         94.07637763,  94.95541199,  95.83444636,  96.71348072,\n",
       "         97.59251509,  98.47154945,  99.35058381, 100.22961818,\n",
       "        101.10865254, 101.98768691, 102.86672127, 103.74575564,\n",
       "        104.62479   ]),\n",
       " <a list of 100 Patch objects>)"
      ]
     },
     "execution_count": 12,
     "metadata": {},
     "output_type": "execute_result"
    },
    {
     "data": {
      "image/png": "[encoded data removed]",
      "text/plain": [
       "<Figure size 432x288 with 1 Axes>"
      ]
     },
     "metadata": {
      "needs_background": "light"
     },
     "output_type": "display_data"
    }
   ],
   "source": [
    "plt.hist(mean_list,bins=100)"
   ]
  },
  {
   "cell_type": "code",
   "execution_count": 13,
   "metadata": {},
   "outputs": [
    {
     "data": {
      "text/plain": [
       "(array([1.771e+03, 5.340e+02, 4.660e+02, 3.700e+02, 1.380e+02, 1.620e+02,\n",
       "        9.100e+01, 1.070e+02, 1.210e+02, 8.300e+01, 2.900e+01, 5.500e+01,\n",
       "        3.000e+01, 2.900e+01, 2.300e+01, 3.000e+01, 5.600e+01, 1.410e+02,\n",
       "        5.600e+01, 6.200e+01, 7.800e+01, 6.600e+01, 8.100e+01, 8.800e+01,\n",
       "        9.000e+01, 1.030e+02, 9.900e+01, 1.120e+02, 1.210e+02, 1.170e+02,\n",
       "        1.390e+02, 1.400e+02, 1.520e+02, 1.320e+02, 1.300e+02, 1.370e+02,\n",
       "        1.250e+02, 1.000e+02, 8.900e+01, 8.800e+01, 7.900e+01, 8.100e+01,\n",
       "        9.700e+01, 6.600e+01, 7.700e+01, 4.900e+01, 5.500e+01, 4.900e+01,\n",
       "        4.400e+01, 4.600e+01, 5.300e+01, 5.000e+01, 6.800e+01, 6.400e+01,\n",
       "        6.300e+01, 9.200e+01, 1.180e+02, 1.470e+02, 1.690e+02, 2.020e+02,\n",
       "        2.210e+02, 2.520e+02, 3.020e+02, 3.030e+02, 3.500e+02, 3.780e+02,\n",
       "        3.810e+02, 4.110e+02, 4.550e+02, 4.440e+02, 4.380e+02, 4.350e+02,\n",
       "        4.550e+02, 4.920e+02, 4.840e+02, 4.370e+02, 4.110e+02, 4.180e+02,\n",
       "        4.090e+02, 3.640e+02, 2.790e+02, 2.820e+02, 2.010e+02, 2.110e+02,\n",
       "        1.490e+02, 1.310e+02, 9.800e+01, 7.900e+01, 5.100e+01, 4.400e+01,\n",
       "        2.500e+01, 2.100e+01, 7.000e+00, 7.000e+00, 7.000e+00, 1.000e+00,\n",
       "        3.000e+00, 1.000e+00, 0.000e+00, 1.000e+00]),\n",
       " array([ 0.23040579,  0.67782146,  1.12523713,  1.5726528 ,  2.02006847,\n",
       "         2.46748415,  2.91489982,  3.36231549,  3.80973116,  4.25714683,\n",
       "         4.70456251,  5.15197818,  5.59939385,  6.04680952,  6.49422519,\n",
       "         6.94164087,  7.38905654,  7.83647221,  8.28388788,  8.73130355,\n",
       "         9.17871923,  9.6261349 , 10.07355057, 10.52096624, 10.96838191,\n",
       "        11.41579759, 11.86321326, 12.31062893, 12.7580446 , 13.20546027,\n",
       "        13.65287595, 14.10029162, 14.54770729, 14.99512296, 15.44253863,\n",
       "        15.88995431, 16.33736998, 16.78478565, 17.23220132, 17.67961699,\n",
       "        18.12703267, 18.57444834, 19.02186401, 19.46927968, 19.91669535,\n",
       "        20.36411103, 20.8115267 , 21.25894237, 21.70635804, 22.15377371,\n",
       "        22.60118939, 23.04860506, 23.49602073, 23.9434364 , 24.39085207,\n",
       "        24.83826775, 25.28568342, 25.73309909, 26.18051476, 26.62793043,\n",
       "        27.07534611, 27.52276178, 27.97017745, 28.41759312, 28.86500879,\n",
       "        29.31242447, 29.75984014, 30.20725581, 30.65467148, 31.10208715,\n",
       "        31.54950283, 31.9969185 , 32.44433417, 32.89174984, 33.33916551,\n",
       "        33.78658118, 34.23399686, 34.68141253, 35.1288282 , 35.57624387,\n",
       "        36.02365954, 36.47107522, 36.91849089, 37.36590656, 37.81332223,\n",
       "        38.2607379 , 38.70815358, 39.15556925, 39.60298492, 40.05040059,\n",
       "        40.49781626, 40.94523194, 41.39264761, 41.84006328, 42.28747895,\n",
       "        42.73489462, 43.1823103 , 43.62972597, 44.07714164, 44.52455731,\n",
       "        44.97197298]),\n",
       " <a list of 100 Patch objects>)"
      ]
     },
     "execution_count": 13,
     "metadata": {},
     "output_type": "execute_result"
    },
    {
     "data": {
      "image/png": "[encoded data removed]",
      "text/plain": [
       "<Figure size 432x288 with 1 Axes>"
      ]
     },
     "metadata": {
      "needs_background": "light"
     },
     "output_type": "display_data"
    }
   ],
   "source": [
    "plt.hist(std_list,bins=100)"
   ]
  },
  {
   "cell_type": "code",
   "execution_count": 8,
   "metadata": {},
   "outputs": [],
   "source": [
    "data_tensor = torch.tensor(data_array)"
   ]
  },
  {
   "cell_type": "code",
   "execution_count": 9,
   "metadata": {},
   "outputs": [
    {
     "data": {
      "text/plain": [
       "torch.Size([17648, 4, 10])"
      ]
     },
     "execution_count": 9,
     "metadata": {},
     "output_type": "execute_result"
    }
   ],
   "source": [
    "data_tensor.shape"
   ]
  },
  {
   "cell_type": "code",
   "execution_count": 11,
   "metadata": {},
   "outputs": [],
   "source": [
    "train_db,test_db = torch.utils.data.random_split(data_tensor.float(),[15000,2648])"
   ]
  },
  {
   "cell_type": "code",
   "execution_count": 12,
   "metadata": {},
   "outputs": [],
   "source": [
    "train_loader = Data.DataLoader(\n",
    "    dataset = train_db,\n",
    "    batch_size=500,\n",
    "    shuffle=True,\n",
    "    num_workers=16\n",
    ")"
   ]
  },
  {
   "cell_type": "code",
   "execution_count": 13,
   "metadata": {},
   "outputs": [],
   "source": [
    "test_loader = Data.DataLoader(\n",
    "    dataset = test_db,\n",
    "    batch_size=500,\n",
    "    shuffle=True,\n",
    "    num_workers=16\n",
    ")"
   ]
  },
  {
   "cell_type": "code",
   "execution_count": 15,
   "metadata": {},
   "outputs": [],
   "source": [
    "torch.save(train_loader,'dataloader_intel_indoor_1_train.pt')"
   ]
  },
  {
   "cell_type": "code",
   "execution_count": 16,
   "metadata": {},
   "outputs": [],
   "source": [
    "torch.save(test_loader,'dataloader_intel_indoor_1_test.pt')"
   ]
  }
 ],
 "metadata": {
  "kernelspec": {
   "display_name": "Python 3.7.6 64-bit ('ccs_ta': conda)",
   "language": "python",
   "name": "python37664bitccstaconda3a2139a6822448159c7afc22ea6ab768"
  },
  "language_info": {
   "codemirror_mode": {
    "name": "ipython",
    "version": 3
   },
   "file_extension": ".py",
   "mimetype": "text/x-python",
   "name": "python",
   "nbconvert_exporter": "python",
   "pygments_lexer": "ipython3",
   "version": "3.7.6"
  }
 },
 "nbformat": 4,
 "nbformat_minor": 2
}
