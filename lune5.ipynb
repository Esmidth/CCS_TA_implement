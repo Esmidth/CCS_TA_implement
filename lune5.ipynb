{
 "nbformat": 4,
 "nbformat_minor": 2,
 "metadata": {
  "language_info": {
   "name": "python",
   "codemirror_mode": {
    "name": "ipython",
    "version": 3
   },
   "version": "3.8.1-final"
  },
  "orig_nbformat": 2,
  "file_extension": ".py",
  "mimetype": "text/x-python",
  "name": "python",
  "npconvert_exporter": "python",
  "pygments_lexer": "ipython3",
  "version": 3,
  "kernelspec": {
   "name": "python38164bitksvdconda6705ad8a9fcd4e0bb5affd2c5dde61db",
   "display_name": "Python 3.8.1 64-bit ('ksvd': conda)"
  }
 },
 "cells": [
  {
   "cell_type": "code",
   "execution_count": 1,
   "metadata": {},
   "outputs": [],
   "source": [
    "%matplotlib inline\n",
    "import numpy as np\n",
    "import pandas as pd\n",
    "import os,sys\n",
    "import utils\n",
    "import matplotlib.pyplot as plt\n",
    "from consts import sensor_lat as lat\n",
    "from consts import sensor_log as log\n",
    "from consts import valid_sensor_res_10 as valid_sensor_list\n",
    "from numpy import array\n",
    "import time\n",
    "from multiprocessing import Pool"
   ]
  },
  {
   "cell_type": "code",
   "execution_count": null,
   "metadata": {},
   "outputs": [],
   "source": [
    "# df = pd.read_hdf('data.h5','df_sub')"
   ]
  },
  {
   "cell_type": "code",
   "execution_count": 2,
   "metadata": {},
   "outputs": [],
   "source": [
    "unix_column = 'Time since the epoch [s]'\n",
    "idd = 'Station ID'"
   ]
  },
  {
   "cell_type": "code",
   "execution_count": 3,
   "metadata": {},
   "outputs": [],
   "source": [
    "def coverage_test(df,time_stamps,valid_sensor_list):\n",
    "    error = 0\n",
    "    # all_np_list = []\n",
    "    for i in range(len(time_stamps)-1):\n",
    "        # print(i)\n",
    "        # print(time_stamps[i],time_stamps[i+1])\n",
    "        sub_df = df[(df[unix_column] > time_stamps[i]) & (df[unix_column] < time_stamps[i+1])]\n",
    "        sensor_list = sub_df[idd].values\n",
    "        uniq = np.unique(sensor_list)\n",
    "        diff = np.setdiff1d(valid_sensor_list,uniq)    \n",
    "        # np_court = all_np(sensor_list)\n",
    "        # all_np_list.append(np_court)\n",
    "        error += len(diff)\n",
    "    return error"
   ]
  },
  {
   "cell_type": "code",
   "execution_count": 4,
   "metadata": {},
   "outputs": [],
   "source": [
    "def compute(start_point,valid_sensor_list):\n",
    "    df = pd.read_hdf('day.h5',str(start_point))\n",
    "    start_time = time.time()\n",
    "    time_stamps = np.arange(start_point,start_point+week_second+epoch_length,epoch_length)\n",
    "    error_num = 0\n",
    "    # all_np_list = []\n",
    "    for i in range(len(time_stamps)-1):\n",
    "        # print(i)\n",
    "        # print(time_stamps[i],time_stamps[i+1])\n",
    "        sub_df = df[(df[unix_column] > time_stamps[i]) & (df[unix_column] < time_stamps[i+1])]\n",
    "        sensor_list = sub_df[idd].values\n",
    "        uniq = np.unique(sensor_list)\n",
    "        diff = np.setdiff1d(valid_sensor_list,uniq)    \n",
    "        # np_court = all_np(sensor_list)\n",
    "        # all_np_list.append(np_court)\n",
    "        error_num += len(diff)\n",
    "    now = time.gmtime(start_point)\n",
    "    print(\"{0} \\t {1}-{2}-{3}:\\t {4} \\t{5}\".format(start_point,now.tm_year,now.tm_mon,now.tm_mday,error_num,time.time()-start_time))\n",
    "    return (start_point,now,error_num)"
   ]
  },
  {
   "cell_type": "code",
   "execution_count": 5,
   "metadata": {},
   "outputs": [
    {
     "name": "stdout",
     "output_type": "stream",
     "text": "[1162393768 1162480168 1162566568 1162652968 1162739368 1162825768\n 1162912168 1162998568 1163084968 1163171368 1163257768 1163344168\n 1163430568 1163516968 1163603368 1163689768 1163776168 1163862568\n 1163948968 1164035368 1164121768 1164208168 1164294568 1164380968\n 1164467368 1164553768 1164640168 1164726568 1164812968 1164899368\n 1164985768 1165072168 1165158568 1165244968 1165331368 1165417768\n 1165504168 1165590568 1165676968 1165763368 1165849768 1165936168\n 1166022568 1166108968 1166195368 1166281768 1166368168 1166454568\n 1166540968 1166627368 1166713768 1166800168 1166886568 1166972968\n 1167059368 1167145768 1167232168 1167318568 1167404968 1167491368\n 1167577768 1167664168 1167750568 1167836968 1167923368 1168009768\n 1168096168 1168182568 1168268968 1168355368 1168441768 1168528168\n 1168614568 1168700968 1168787368 1168873768 1168960168 1169046568\n 1169132968 1169219368 1169305768 1169392168 1169478568 1169564968\n 1169651368 1169737768 1169824168 1169910568 1169996968 1170083368\n 1170169768 1170256168 1170342568 1170428968 1170515368 1170601768\n 1170688168 1170774568 1170860968 1170947368 1171033768 1171120168\n 1171206568 1171292968 1171379368 1171465768 1171552168 1171638568\n 1171724968 1171811368 1171897768 1171984168 1172070568 1172156968\n 1172243368 1172329768 1172416168 1172502568 1172588968 1172675368\n 1172761768 1172848168 1172934568 1173020968 1173107368 1173193768\n 1173280168 1173366568 1173452968 1173539368 1173625768 1173712168\n 1173798568 1173884968 1173971368 1174057768 1174144168 1174230568\n 1174316968 1174403368 1174489768 1174576168 1174662568 1174748968\n 1174835368 1174921768 1175008168 1175094568 1175180968 1175267368\n 1175353768 1175440168 1175526568 1175612968 1175699368 1175785768\n 1175872168 1175958568 1176044968 1176131368 1176217768 1176304168\n 1176390568 1176476968 1176563368 1176649768 1176736168 1176822568\n 1176908968 1176995368 1177081768 1177168168 1177254568 1177340968\n 1177427368 1177513768 1177600168 1177686568 1177772968 1177859368\n 1177945768 1178032168 1178118568 1178204968 1178291368 1178377768\n 1178464168 1178550568 1178636968 1178723368 1178809768]\n"
    }
   ],
   "source": [
    "day_second = 86400\n",
    "week_second = 7*day_second\n",
    "start_list = np.arange(1162393768,1178747998+day_second,day_second)\n",
    "epoch_length = 1800\n",
    "# start_list = start_list[:1]\n",
    "print(start_list)"
   ]
  },
  {
   "cell_type": "code",
   "execution_count": 6,
   "metadata": {},
   "outputs": [
    {
     "ename": "KeyboardInterrupt",
     "evalue": "",
     "output_type": "error",
     "traceback": [
      "\u001b[0;31m---------------------------------------------------------------------------\u001b[0m",
      "\u001b[0;31mKeyboardInterrupt\u001b[0m                         Traceback (most recent call last)",
      "\u001b[0;32m<ipython-input-6-52722f8482be>\u001b[0m in \u001b[0;36m<module>\u001b[0;34m\u001b[0m\n\u001b[1;32m      6\u001b[0m     \u001b[0mresults\u001b[0m\u001b[0;34m.\u001b[0m\u001b[0mappend\u001b[0m\u001b[0;34m(\u001b[0m\u001b[0mresult\u001b[0m\u001b[0;34m)\u001b[0m\u001b[0;34m\u001b[0m\u001b[0;34m\u001b[0m\u001b[0m\n\u001b[1;32m      7\u001b[0m \u001b[0mp\u001b[0m\u001b[0;34m.\u001b[0m\u001b[0mclose\u001b[0m\u001b[0;34m(\u001b[0m\u001b[0;34m)\u001b[0m\u001b[0;34m\u001b[0m\u001b[0;34m\u001b[0m\u001b[0m\n\u001b[0;32m----> 8\u001b[0;31m \u001b[0mp\u001b[0m\u001b[0;34m.\u001b[0m\u001b[0mjoin\u001b[0m\u001b[0;34m(\u001b[0m\u001b[0;34m)\u001b[0m\u001b[0;34m\u001b[0m\u001b[0;34m\u001b[0m\u001b[0m\n\u001b[0m",
      "\u001b[0;32m~/.pyenv/versions/anaconda3-2019.03/envs/ksvd/lib/python3.8/multiprocessing/pool.py\u001b[0m in \u001b[0;36mjoin\u001b[0;34m(self)\u001b[0m\n\u001b[1;32m    662\u001b[0m         \u001b[0;32melif\u001b[0m \u001b[0mself\u001b[0m\u001b[0;34m.\u001b[0m\u001b[0m_state\u001b[0m \u001b[0;32mnot\u001b[0m \u001b[0;32min\u001b[0m \u001b[0;34m(\u001b[0m\u001b[0mCLOSE\u001b[0m\u001b[0;34m,\u001b[0m \u001b[0mTERMINATE\u001b[0m\u001b[0;34m)\u001b[0m\u001b[0;34m:\u001b[0m\u001b[0;34m\u001b[0m\u001b[0;34m\u001b[0m\u001b[0m\n\u001b[1;32m    663\u001b[0m             \u001b[0;32mraise\u001b[0m \u001b[0mValueError\u001b[0m\u001b[0;34m(\u001b[0m\u001b[0;34m\"In unknown state\"\u001b[0m\u001b[0;34m)\u001b[0m\u001b[0;34m\u001b[0m\u001b[0;34m\u001b[0m\u001b[0m\n\u001b[0;32m--> 664\u001b[0;31m         \u001b[0mself\u001b[0m\u001b[0;34m.\u001b[0m\u001b[0m_worker_handler\u001b[0m\u001b[0;34m.\u001b[0m\u001b[0mjoin\u001b[0m\u001b[0;34m(\u001b[0m\u001b[0;34m)\u001b[0m\u001b[0;34m\u001b[0m\u001b[0;34m\u001b[0m\u001b[0m\n\u001b[0m\u001b[1;32m    665\u001b[0m         \u001b[0mself\u001b[0m\u001b[0;34m.\u001b[0m\u001b[0m_task_handler\u001b[0m\u001b[0;34m.\u001b[0m\u001b[0mjoin\u001b[0m\u001b[0;34m(\u001b[0m\u001b[0;34m)\u001b[0m\u001b[0;34m\u001b[0m\u001b[0;34m\u001b[0m\u001b[0m\n\u001b[1;32m    666\u001b[0m         \u001b[0mself\u001b[0m\u001b[0;34m.\u001b[0m\u001b[0m_result_handler\u001b[0m\u001b[0;34m.\u001b[0m\u001b[0mjoin\u001b[0m\u001b[0;34m(\u001b[0m\u001b[0;34m)\u001b[0m\u001b[0;34m\u001b[0m\u001b[0;34m\u001b[0m\u001b[0m\n",
      "\u001b[0;32m~/.pyenv/versions/anaconda3-2019.03/envs/ksvd/lib/python3.8/threading.py\u001b[0m in \u001b[0;36mjoin\u001b[0;34m(self, timeout)\u001b[0m\n\u001b[1;32m   1009\u001b[0m \u001b[0;34m\u001b[0m\u001b[0m\n\u001b[1;32m   1010\u001b[0m         \u001b[0;32mif\u001b[0m \u001b[0mtimeout\u001b[0m \u001b[0;32mis\u001b[0m \u001b[0;32mNone\u001b[0m\u001b[0;34m:\u001b[0m\u001b[0;34m\u001b[0m\u001b[0;34m\u001b[0m\u001b[0m\n\u001b[0;32m-> 1011\u001b[0;31m             \u001b[0mself\u001b[0m\u001b[0;34m.\u001b[0m\u001b[0m_wait_for_tstate_lock\u001b[0m\u001b[0;34m(\u001b[0m\u001b[0;34m)\u001b[0m\u001b[0;34m\u001b[0m\u001b[0;34m\u001b[0m\u001b[0m\n\u001b[0m\u001b[1;32m   1012\u001b[0m         \u001b[0;32melse\u001b[0m\u001b[0;34m:\u001b[0m\u001b[0;34m\u001b[0m\u001b[0;34m\u001b[0m\u001b[0m\n\u001b[1;32m   1013\u001b[0m             \u001b[0;31m# the behavior of a negative timeout isn't documented, but\u001b[0m\u001b[0;34m\u001b[0m\u001b[0;34m\u001b[0m\u001b[0;34m\u001b[0m\u001b[0m\n",
      "\u001b[0;32m~/.pyenv/versions/anaconda3-2019.03/envs/ksvd/lib/python3.8/threading.py\u001b[0m in \u001b[0;36m_wait_for_tstate_lock\u001b[0;34m(self, block, timeout)\u001b[0m\n\u001b[1;32m   1025\u001b[0m         \u001b[0;32mif\u001b[0m \u001b[0mlock\u001b[0m \u001b[0;32mis\u001b[0m \u001b[0;32mNone\u001b[0m\u001b[0;34m:\u001b[0m  \u001b[0;31m# already determined that the C code is done\u001b[0m\u001b[0;34m\u001b[0m\u001b[0;34m\u001b[0m\u001b[0m\n\u001b[1;32m   1026\u001b[0m             \u001b[0;32massert\u001b[0m \u001b[0mself\u001b[0m\u001b[0;34m.\u001b[0m\u001b[0m_is_stopped\u001b[0m\u001b[0;34m\u001b[0m\u001b[0;34m\u001b[0m\u001b[0m\n\u001b[0;32m-> 1027\u001b[0;31m         \u001b[0;32melif\u001b[0m \u001b[0mlock\u001b[0m\u001b[0;34m.\u001b[0m\u001b[0macquire\u001b[0m\u001b[0;34m(\u001b[0m\u001b[0mblock\u001b[0m\u001b[0;34m,\u001b[0m \u001b[0mtimeout\u001b[0m\u001b[0;34m)\u001b[0m\u001b[0;34m:\u001b[0m\u001b[0;34m\u001b[0m\u001b[0;34m\u001b[0m\u001b[0m\n\u001b[0m\u001b[1;32m   1028\u001b[0m             \u001b[0mlock\u001b[0m\u001b[0;34m.\u001b[0m\u001b[0mrelease\u001b[0m\u001b[0;34m(\u001b[0m\u001b[0;34m)\u001b[0m\u001b[0;34m\u001b[0m\u001b[0;34m\u001b[0m\u001b[0m\n\u001b[1;32m   1029\u001b[0m             \u001b[0mself\u001b[0m\u001b[0;34m.\u001b[0m\u001b[0m_stop\u001b[0m\u001b[0;34m(\u001b[0m\u001b[0;34m)\u001b[0m\u001b[0;34m\u001b[0m\u001b[0;34m\u001b[0m\u001b[0m\n",
      "\u001b[0;31mKeyboardInterrupt\u001b[0m: "
     ]
    }
   ],
   "source": [
    "results = []\n",
    "p = Pool(4)\n",
    "for start_point in start_list:\n",
    "    # print('assign\\t',str(start_point))\n",
    "    result = p.apply_async(func=compute,args=(start_point,valid_sensor_list,))\n",
    "    results.append(result)\n",
    "p.close()\n",
    "p.join()"
   ]
  }
 ]
}