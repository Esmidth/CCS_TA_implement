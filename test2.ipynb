{
 "nbformat": 4,
 "nbformat_minor": 2,
 "metadata": {
  "language_info": {
   "name": "python",
   "codemirror_mode": {
    "name": "ipython",
    "version": 3
   },
   "version": "3.7.3-final"
  },
  "orig_nbformat": 2,
  "file_extension": ".py",
  "mimetype": "text/x-python",
  "name": "python",
  "npconvert_exporter": "python",
  "pygments_lexer": "ipython3",
  "version": 3,
  "kernelspec": {
   "name": "python37364bitskleran23conda0ab411ec2f194e23aec19adfa46b0b62",
   "display_name": "Python 3.7.3 64-bit ('skleran23': conda)"
  }
 },
 "cells": [
  {
   "cell_type": "code",
   "execution_count": 3,
   "metadata": {},
   "outputs": [],
   "source": [
    "%matplotlib inline\n",
    "import pandas as pd\n",
    "import numpy as np\n",
    "import matplotlib.pyplot as plt\n",
    "from consts import res,lat,log\n",
    "from utils import get_year_heatmap,generate_date_dataframe,draw_rat_heatmap,draw_pics,draw_rat_heatmaps,get_year_dataframes\n",
    "import utils\n",
    "import torch\n",
    "import torch.optim as optim\n",
    "from torch.autograd import Variable\n",
    "import torchvision\n",
    "import torchvision.transforms as transforms"
   ]
  },
  {
   "cell_type": "code",
   "execution_count": null,
   "metadata": {},
   "outputs": [],
   "source": [
    "df = utils.get_data('rat')\n",
    "df['New_Date'] = pd.to_datetime(df['Created Date'])"
   ]
  },
  {
   "cell_type": "code",
   "execution_count": 4,
   "metadata": {},
   "outputs": [],
   "source": [
    "df_list = []\n",
    "year_pic_list = []\n",
    "for i in range(9):\n",
    "    tmp_df=get_year_dataframes(df,2010+i)\n",
    "    year_pic_list.append(draw_rat_heatmaps(tmp_df,10))"
   ]
  },
  {
   "cell_type": "code",
   "execution_count": 5,
   "metadata": {},
   "outputs": [
    {
     "name": "stdout",
     "output_type": "stream",
     "text": "(9, 12, 10, 10)\n"
    }
   ],
   "source": [
    "year_pic_list = np.array(year_pic_list)\n",
    "print(year_pic_list.shape)"
   ]
  },
  {
   "cell_type": "code",
   "execution_count": 6,
   "metadata": {},
   "outputs": [
    {
     "name": "stdout",
     "output_type": "stream",
     "text": "(5, 12, 10, 10) (4, 12, 10, 10)\n"
    }
   ],
   "source": [
    "# 划分训练集和测试集\n",
    "train_set = year_pic_list[:5]\n",
    "test_set = year_pic_list[-4:]\n",
    "print(train_set.shape,test_set.shape)"
   ]
  },
  {
   "cell_type": "code",
   "execution_count": 38,
   "metadata": {},
   "outputs": [
    {
     "name": "stdout",
     "output_type": "stream",
     "text": "(5, 12, 100)\n(4, 12, 100)\n"
    }
   ],
   "source": [
    "train_set = train_set.reshape(-1,12,100)\n",
    "test_set = test_set.reshape(-1,12,100)\n",
    "print(train_set.shape)\n",
    "print(test_set.shape)"
   ]
  },
  {
   "cell_type": "code",
   "execution_count": 39,
   "metadata": {},
   "outputs": [
    {
     "name": "stdout",
     "output_type": "stream",
     "text": "(60, 100)\n(48, 100)\n"
    }
   ],
   "source": [
    "train_set = train_set.reshape(-1,100)\n",
    "test_set = test_set.reshape(-1,100)\n",
    "print(train_set.shape)\n",
    "print(test_set.shape)"
   ]
  },
  {
   "cell_type": "code",
   "execution_count": null,
   "metadata": {},
   "outputs": [],
   "source": [
    "x = train_set[0]\n",
    "k = round(100*0.5)\n",
    "random_mask = np.random.choice(100,k,replace=False)\n",
    "b = x.flat[random_mask]\n",
    "print(b.shape)"
   ]
  },
  {
   "cell_type": "code",
   "execution_count": 21,
   "metadata": {},
   "outputs": [
    {
     "name": "stdout",
     "output_type": "stream",
     "text": "[-10.  -7. -16.  -5.   2.   0.  -1.   0.   0.   0.  -1. -16.  -1.   0.\n  -4.   1.   0.  -2.  -1.   0.  -1. -11. -11.  -7.  -1.   1.  -2.   3.\n   0.   1.  -1.  -1.  -6.  -6.  -1.  -1.  -3.  -6.   0.  -1.  -2.  -6.\n   0.   1.  -6.   0.  -2.  -3.   1.  -3. -14.  -2.   0.   1.   0.   0.\n   2.   0.   1.  -1.  -4.  -1.   2.  -3.   1.   0.   0.   1.   0.   0.\n   5.  -5.  -1.   5.  -1.  -1.  -1.   0.   0.   0.  -7.   0.   0.  -3.\n   1.   0.   0.   0.   0.   0.  -2.  -7.   0.   0.   0.   0.   0.   0.\n   0.  -1.]\n"
    }
   ],
   "source": [
    "print(train_set[1]-train_set[2])"
   ]
  },
  {
   "cell_type": "code",
   "execution_count": 73,
   "metadata": {},
   "outputs": [
    {
     "name": "stdout",
     "output_type": "stream",
     "text": "0 tensor(1624.7510, dtype=torch.float64, grad_fn=<SumBackward0>)\n100 tensor(466.7171, dtype=torch.float64, grad_fn=<SumBackward0>)\n200 tensor(250.5921, dtype=torch.float64, grad_fn=<SumBackward0>)\n300 tensor(180.0280, dtype=torch.float64, grad_fn=<SumBackward0>)\n400 tensor(180.8839, dtype=torch.float64, grad_fn=<SumBackward0>)\n500 tensor(119.2964, dtype=torch.float64, grad_fn=<SumBackward0>)\n600 tensor(157.3041, dtype=torch.float64, grad_fn=<SumBackward0>)\n700 tensor(145.1752, dtype=torch.float64, grad_fn=<SumBackward0>)\n800 tensor(175.5768, dtype=torch.float64, grad_fn=<SumBackward0>)\n900 tensor(132.1376, dtype=torch.float64, grad_fn=<SumBackward0>)\n1000 tensor(113.0167, dtype=torch.float64, grad_fn=<SumBackward0>)\n1100 tensor(117.3843, dtype=torch.float64, grad_fn=<SumBackward0>)\n1200 tensor(174.8846, dtype=torch.float64, grad_fn=<SumBackward0>)\n1300 tensor(156.9951, dtype=torch.float64, grad_fn=<SumBackward0>)\n1400 tensor(180.8786, dtype=torch.float64, grad_fn=<SumBackward0>)\n1500 tensor(160.0566, dtype=torch.float64, grad_fn=<SumBackward0>)\n1600 tensor(176.5434, dtype=torch.float64, grad_fn=<SumBackward0>)\n1700 tensor(134.2520, dtype=torch.float64, grad_fn=<SumBackward0>)\n1800 tensor(159.7209, dtype=torch.float64, grad_fn=<SumBackward0>)\n1900 tensor(113.2970, dtype=torch.float64, grad_fn=<SumBackward0>)\n2000 tensor(131.4498, dtype=torch.float64, grad_fn=<SumBackward0>)\n2100 tensor(153.7718, dtype=torch.float64, grad_fn=<SumBackward0>)\n2200 tensor(101.0673, dtype=torch.float64, grad_fn=<SumBackward0>)\n2300 tensor(113.9988, dtype=torch.float64, grad_fn=<SumBackward0>)\n2400 tensor(148.4318, dtype=torch.float64, grad_fn=<SumBackward0>)\n2500 tensor(195.4457, dtype=torch.float64, grad_fn=<SumBackward0>)\n2600 tensor(121.3525, dtype=torch.float64, grad_fn=<SumBackward0>)\n2700 tensor(119.5713, dtype=torch.float64, grad_fn=<SumBackward0>)\n2800 tensor(140.6586, dtype=torch.float64, grad_fn=<SumBackward0>)\n2900 tensor(148.8615, dtype=torch.float64, grad_fn=<SumBackward0>)\n3000 tensor(154.8425, dtype=torch.float64, grad_fn=<SumBackward0>)\n3100 tensor(162.8528, dtype=torch.float64, grad_fn=<SumBackward0>)\n3200 tensor(123.2648, dtype=torch.float64, grad_fn=<SumBackward0>)\n3300 tensor(148.7165, dtype=torch.float64, grad_fn=<SumBackward0>)\n3400 tensor(152.1672, dtype=torch.float64, grad_fn=<SumBackward0>)\n3500 tensor(145.9979, dtype=torch.float64, grad_fn=<SumBackward0>)\n3600 tensor(168.9018, dtype=torch.float64, grad_fn=<SumBackward0>)\n3700 tensor(159.3625, dtype=torch.float64, grad_fn=<SumBackward0>)\n3800 tensor(152.9961, dtype=torch.float64, grad_fn=<SumBackward0>)\n3900 tensor(125.4913, dtype=torch.float64, grad_fn=<SumBackward0>)\n4000 tensor(118.2543, dtype=torch.float64, grad_fn=<SumBackward0>)\n4100 tensor(153.9456, dtype=torch.float64, grad_fn=<SumBackward0>)\n4200 tensor(118.0136, dtype=torch.float64, grad_fn=<SumBackward0>)\n4300 tensor(124.0380, dtype=torch.float64, grad_fn=<SumBackward0>)\n4400 tensor(104.0567, dtype=torch.float64, grad_fn=<SumBackward0>)\n4500 tensor(143.7451, dtype=torch.float64, grad_fn=<SumBackward0>)\n4600 tensor(137.0089, dtype=torch.float64, grad_fn=<SumBackward0>)\n4700 tensor(146.0609, dtype=torch.float64, grad_fn=<SumBackward0>)\n4800 tensor(157.1476, dtype=torch.float64, grad_fn=<SumBackward0>)\n4900 tensor(157.2066, dtype=torch.float64, grad_fn=<SumBackward0>)\n5000 tensor(181.8766, dtype=torch.float64, grad_fn=<SumBackward0>)\n5100 tensor(123.1892, dtype=torch.float64, grad_fn=<SumBackward0>)\n5200 tensor(174.2351, dtype=torch.float64, grad_fn=<SumBackward0>)\n5300 tensor(175.2039, dtype=torch.float64, grad_fn=<SumBackward0>)\n5400 tensor(135.4511, dtype=torch.float64, grad_fn=<SumBackward0>)\n5500 tensor(132.7427, dtype=torch.float64, grad_fn=<SumBackward0>)\n5600 tensor(157.5813, dtype=torch.float64, grad_fn=<SumBackward0>)\n5700 tensor(138.1077, dtype=torch.float64, grad_fn=<SumBackward0>)\n5800 tensor(169.5258, dtype=torch.float64, grad_fn=<SumBackward0>)\n5900 tensor(172.1543, dtype=torch.float64, grad_fn=<SumBackward0>)\n6000 tensor(156.3773, dtype=torch.float64, grad_fn=<SumBackward0>)\n6100 tensor(173.3283, dtype=torch.float64, grad_fn=<SumBackward0>)\n6200 tensor(182.7918, dtype=torch.float64, grad_fn=<SumBackward0>)\n6300 tensor(110.9244, dtype=torch.float64, grad_fn=<SumBackward0>)\n6400 tensor(125.8674, dtype=torch.float64, grad_fn=<SumBackward0>)\n6500 tensor(107.8951, dtype=torch.float64, grad_fn=<SumBackward0>)\n6600 tensor(132.1204, dtype=torch.float64, grad_fn=<SumBackward0>)\n6700 tensor(156.1914, dtype=torch.float64, grad_fn=<SumBackward0>)\n6800 tensor(152.8046, dtype=torch.float64, grad_fn=<SumBackward0>)\n6900 tensor(168.0825, dtype=torch.float64, grad_fn=<SumBackward0>)\n7000 tensor(169.3104, dtype=torch.float64, grad_fn=<SumBackward0>)\n7100 tensor(152.6498, dtype=torch.float64, grad_fn=<SumBackward0>)\n7200 tensor(115.9380, dtype=torch.float64, grad_fn=<SumBackward0>)\n7300 tensor(157.4710, dtype=torch.float64, grad_fn=<SumBackward0>)\n7400 tensor(151.4428, dtype=torch.float64, grad_fn=<SumBackward0>)\n7500 tensor(154.5669, dtype=torch.float64, grad_fn=<SumBackward0>)\n7600 tensor(145.9525, dtype=torch.float64, grad_fn=<SumBackward0>)\n7700 tensor(131.5984, dtype=torch.float64, grad_fn=<SumBackward0>)\n7800 tensor(123.1779, dtype=torch.float64, grad_fn=<SumBackward0>)\n7900 tensor(163.7324, dtype=torch.float64, grad_fn=<SumBackward0>)\n8000 tensor(127.3775, dtype=torch.float64, grad_fn=<SumBackward0>)\n8100 tensor(112.9464, dtype=torch.float64, grad_fn=<SumBackward0>)\n8200 tensor(139.6899, dtype=torch.float64, grad_fn=<SumBackward0>)\n8300 tensor(172.2564, dtype=torch.float64, grad_fn=<SumBackward0>)\n8400 tensor(115.8902, dtype=torch.float64, grad_fn=<SumBackward0>)\n8500 tensor(97.0314, dtype=torch.float64, grad_fn=<SumBackward0>)\n8600 tensor(117.0838, dtype=torch.float64, grad_fn=<SumBackward0>)\n8700 tensor(135.5825, dtype=torch.float64, grad_fn=<SumBackward0>)\n8800 tensor(130.8436, dtype=torch.float64, grad_fn=<SumBackward0>)\n8900 tensor(138.1875, dtype=torch.float64, grad_fn=<SumBackward0>)\n9000 tensor(157.5544, dtype=torch.float64, grad_fn=<SumBackward0>)\n9100 tensor(138.9438, dtype=torch.float64, grad_fn=<SumBackward0>)\n9200 tensor(154.2622, dtype=torch.float64, grad_fn=<SumBackward0>)\n9300 tensor(119.4546, dtype=torch.float64, grad_fn=<SumBackward0>)\n9400 tensor(169.4559, dtype=torch.float64, grad_fn=<SumBackward0>)\n9500 tensor(152.7046, dtype=torch.float64, grad_fn=<SumBackward0>)\n9600 tensor(122.8434, dtype=torch.float64, grad_fn=<SumBackward0>)\n9700 tensor(132.9716, dtype=torch.float64, grad_fn=<SumBackward0>)\n9800 tensor(144.9864, dtype=torch.float64, grad_fn=<SumBackward0>)\n9900 tensor(121.6632, dtype=torch.float64, grad_fn=<SumBackward0>)\n"
    }
   ],
   "source": [
    "# Multi HeatMap training\n",
    "A = Variable(torch.randn(50,100,dtype=float),requires_grad=True)\n",
    "# optimizer = optim.SGD([A],lr=0.001)\n",
    "optimizer = optim.Adam([A],lr=0.001)\n",
    "loss_fn = torch.nn.L1Loss(reduce=False, size_average=False)\n",
    "num_epochs = 10000\n",
    "for epoch in range(num_epochs):\n",
    "    for i,image in enumerate(train_set):\n",
    "        x = Variable(torch.tensor(image,dtype=float))\n",
    "        mask = np.random.choice(100,50,replace=False)\n",
    "        b = image.flat[mask]\n",
    "        b = Variable(torch.tensor(b,dtype=float))\n",
    "        optimizer.zero_grad()\n",
    "        b_pred = torch.mv(A,x)\n",
    "        # loss = ((b_pred-b)**2).sum()\n",
    "        loss = loss_fn(b_pred,b).sum()\n",
    "        loss.backward()\n",
    "        optimizer.step()\n",
    "    if epoch % 100 == 0:\n",
    "        print(epoch,loss)"
   ]
  },
  {
   "cell_type": "code",
   "execution_count": 76,
   "metadata": {},
   "outputs": [
    {
     "name": "stdout",
     "output_type": "stream",
     "text": "tensor([[-0.2224,  0.3212, -0.2449,  ...,  0.0416,  1.7512, -1.4694],\n        [-0.4554, -0.4058, -0.0609,  ..., -0.2201,  0.4613,  0.1053],\n        [-0.2069,  0.0427, -0.6383,  ..., -0.8880,  0.1542,  0.5537],\n        ...,\n        [-0.0951, -0.0799,  0.3177,  ...,  0.1697, -0.2833,  5.8332],\n        [-0.1445,  0.3018,  0.1745,  ..., -1.7194,  0.2525,  1.2449],\n        [-1.0263, -0.4918,  0.1208,  ...,  1.2586, -0.5053,  2.0648]],\n       dtype=torch.float64)\n"
    }
   ],
   "source": [
    "A.requires_grad = False\n",
    "print(A)"
   ]
  },
  {
   "cell_type": "code",
   "execution_count": 77,
   "metadata": {},
   "outputs": [
    {
     "name": "stdout",
     "output_type": "stream",
     "text": "0 tensor(494.7988, dtype=torch.float64, grad_fn=<SumBackward0>)\n100 tensor(446.4287, dtype=torch.float64, grad_fn=<SumBackward0>)\n200 tensor(408.1343, dtype=torch.float64, grad_fn=<SumBackward0>)\n300 tensor(375.7176, dtype=torch.float64, grad_fn=<SumBackward0>)\n400 tensor(347.5362, dtype=torch.float64, grad_fn=<SumBackward0>)\n500 tensor(325.2550, dtype=torch.float64, grad_fn=<SumBackward0>)\n600 tensor(306.5018, dtype=torch.float64, grad_fn=<SumBackward0>)\n700 tensor(288.0069, dtype=torch.float64, grad_fn=<SumBackward0>)\n800 tensor(269.7388, dtype=torch.float64, grad_fn=<SumBackward0>)\n900 tensor(252.7254, dtype=torch.float64, grad_fn=<SumBackward0>)\n1000 tensor(237.9162, dtype=torch.float64, grad_fn=<SumBackward0>)\n1100 tensor(227.6887, dtype=torch.float64, grad_fn=<SumBackward0>)\n1200 tensor(217.5040, dtype=torch.float64, grad_fn=<SumBackward0>)\n1300 tensor(208.9096, dtype=torch.float64, grad_fn=<SumBackward0>)\n1400 tensor(202.7036, dtype=torch.float64, grad_fn=<SumBackward0>)\n1500 tensor(196.9830, dtype=torch.float64, grad_fn=<SumBackward0>)\n1600 tensor(191.3660, dtype=torch.float64, grad_fn=<SumBackward0>)\n1700 tensor(186.4716, dtype=torch.float64, grad_fn=<SumBackward0>)\n1800 tensor(182.1748, dtype=torch.float64, grad_fn=<SumBackward0>)\n1900 tensor(178.8925, dtype=torch.float64, grad_fn=<SumBackward0>)\n2000 tensor(175.6227, dtype=torch.float64, grad_fn=<SumBackward0>)\n2100 tensor(172.6048, dtype=torch.float64, grad_fn=<SumBackward0>)\n2200 tensor(170.8659, dtype=torch.float64, grad_fn=<SumBackward0>)\n2300 tensor(169.4681, dtype=torch.float64, grad_fn=<SumBackward0>)\n2400 tensor(168.1810, dtype=torch.float64, grad_fn=<SumBackward0>)\n2500 tensor(166.8802, dtype=torch.float64, grad_fn=<SumBackward0>)\n2600 tensor(165.6465, dtype=torch.float64, grad_fn=<SumBackward0>)\n2700 tensor(164.4516, dtype=torch.float64, grad_fn=<SumBackward0>)\n2800 tensor(163.2667, dtype=torch.float64, grad_fn=<SumBackward0>)\n2900 tensor(162.1426, dtype=torch.float64, grad_fn=<SumBackward0>)\n3000 tensor(161.0595, dtype=torch.float64, grad_fn=<SumBackward0>)\n3100 tensor(160.1504, dtype=torch.float64, grad_fn=<SumBackward0>)\n3200 tensor(159.3724, dtype=torch.float64, grad_fn=<SumBackward0>)\n3300 tensor(158.5855, dtype=torch.float64, grad_fn=<SumBackward0>)\n3400 tensor(157.7993, dtype=torch.float64, grad_fn=<SumBackward0>)\n3500tensor(157.0899, dtype=torch.float64, grad_fn=<SumBackward0>)\n3600 tensor(156.6409, dtype=torch.float64, grad_fn=<SumBackward0>)\n3700 tensor(156.2000, dtype=torch.float64, grad_fn=<SumBackward0>)\n3800 tensor(155.7828, dtype=torch.float64, grad_fn=<SumBackward0>)\n3900 tensor(155.4736, dtype=torch.float64, grad_fn=<SumBackward0>)\n4000 tensor(155.1545, dtype=torch.float64, grad_fn=<SumBackward0>)\n4100 tensor(154.8873, dtype=torch.float64, grad_fn=<SumBackward0>)\n4200 tensor(154.6119, dtype=torch.float64, grad_fn=<SumBackward0>)\n4300 tensor(154.3350, dtype=torch.float64, grad_fn=<SumBackward0>)\n4400 tensor(154.0622, dtype=torch.float64, grad_fn=<SumBackward0>)\n4500 tensor(153.7915, dtype=torch.float64, grad_fn=<SumBackward0>)\n4600 tensor(153.5170, dtype=torch.float64, grad_fn=<SumBackward0>)\n4700 tensor(153.2499, dtype=torch.float64, grad_fn=<SumBackward0>)\n4800 tensor(152.9907, dtype=torch.float64, grad_fn=<SumBackward0>)\n4900 tensor(152.7189, dtype=torch.float64, grad_fn=<SumBackward0>)\n5000 tensor(152.4755, dtype=torch.float64, grad_fn=<SumBackward0>)\n5100 tensor(152.1955, dtype=torch.float64, grad_fn=<SumBackward0>)\n5200 tensor(151.9445, dtype=torch.float64, grad_fn=<SumBackward0>)\n5300 tensor(151.6729, dtype=torch.float64, grad_fn=<SumBackward0>)\n5400 tensor(151.4260, dtype=torch.float64, grad_fn=<SumBackward0>)\n5500 tensor(151.1632, dtype=torch.float64, grad_fn=<SumBackward0>)\n5600 tensor(150.9059, dtype=torch.float64, grad_fn=<SumBackward0>)\n5700 tensor(150.6567, dtype=torch.float64, grad_fn=<SumBackward0>)\n5800 tensor(150.3886, dtype=torch.float64, grad_fn=<SumBackward0>)\n5900tensor(150.1318, dtype=torch.float64, grad_fn=<SumBackward0>)\n6000 tensor(149.8876, dtype=torch.float64, grad_fn=<SumBackward0>)\n6100 tensor(149.6232, dtype=torch.float64, grad_fn=<SumBackward0>)\n6200 tensor(149.3816, dtype=torch.float64, grad_fn=<SumBackward0>)\n6300 tensor(149.1076, dtype=torch.float64, grad_fn=<SumBackward0>)\n6400 tensor(148.8511, dtype=torch.float64, grad_fn=<SumBackward0>)\n6500 tensor(148.5937, dtype=torch.float64, grad_fn=<SumBackward0>)\n6600 tensor(148.3336, dtype=torch.float64, grad_fn=<SumBackward0>)\n6700 tensor(148.0656, dtype=torch.float64, grad_fn=<SumBackward0>)\n6800 tensor(147.8351, dtype=torch.float64, grad_fn=<SumBackward0>)\n6900 tensor(147.5799, dtype=torch.float64, grad_fn=<SumBackward0>)\n7000 tensor(147.3232, dtype=torch.float64, grad_fn=<SumBackward0>)\n7100 tensor(147.0433, dtype=torch.float64, grad_fn=<SumBackward0>)\n7200 tensor(146.7824, dtype=torch.float64, grad_fn=<SumBackward0>)\n7300 tensor(146.5280, dtype=torch.float64, grad_fn=<SumBackward0>)\n7400 tensor(146.2651, dtype=torch.float64, grad_fn=<SumBackward0>)\n7500 tensor(146.0257, dtype=torch.float64, grad_fn=<SumBackward0>)\n7600 tensor(145.8265, dtype=torch.float64, grad_fn=<SumBackward0>)\n7700 tensor(145.7086, dtype=torch.float64, grad_fn=<SumBackward0>)\n7800 tensor(145.6154, dtype=torch.float64, grad_fn=<SumBackward0>)\n7900 tensor(145.5141, dtype=torch.float64, grad_fn=<SumBackward0>)\n8000 tensor(145.4293, dtype=torch.float64, grad_fn=<SumBackward0>)\n8100 tensor(145.3445, dtype=torch.float64, grad_fn=<SumBackward0>)\n8200 tensor(145.2540, dtype=torch.float64, grad_fn=<SumBackward0>)\n8300 tensor(145.1543, dtype=torch.float64, grad_fn=<SumBackward0>)\n8400 tensor(145.0591, dtype=torch.float64, grad_fn=<SumBackward0>)\n8500 tensor(144.9679, dtype=torch.float64, grad_fn=<SumBackward0>)\n8600 tensor(144.8871, dtype=torch.float64, grad_fn=<SumBackward0>)\n8700 tensor(144.7939, dtype=torch.float64, grad_fn=<SumBackward0>)\n8800 tensor(144.6897, dtype=torch.float64, grad_fn=<SumBackward0>)\n8900 tensor(144.6252, dtype=torch.float64, grad_fn=<SumBackward0>)\n9000 tensor(144.5289, dtype=torch.float64, grad_fn=<SumBackward0>)\n9100 tensor(144.4374, dtype=torch.float64, grad_fn=<SumBackward0>)\n9200 tensor(144.3581, dtype=torch.float64, grad_fn=<SumBackward0>)\n9300 tensor(144.2567, dtype=torch.float64, grad_fn=<SumBackward0>)\n9400 tensor(144.1692, dtype=torch.float64, grad_fn=<SumBackward0>)\n9500tensor(144.0541, dtype=torch.float64, grad_fn=<SumBackward0>)\n9600 tensor(143.9802, dtype=torch.float64, grad_fn=<SumBackward0>)\n9700 tensor(143.8872, dtype=torch.float64, grad_fn=<SumBackward0>)\n9800 tensor(143.8145, dtype=torch.float64, grad_fn=<SumBackward0>)\n9900 tensor(143.7103, dtype=torch.float64, grad_fn=<SumBackward0>)\n"
    }
   ],
   "source": [
    "num = 2\n",
    "origin_x = Variable(torch.randn(100,dtype=float),requires_grad=True)\n",
    "optimizer = optim.Adam([origin_x],lr = 0.001)\n",
    "x = Variable(torch.tensor(test_set[num],dtype=float))\n",
    "mask = np.random.choice(100,50,replace=False)\n",
    "b = test_set[num].flat[mask]\n",
    "b = Variable(torch.tensor(b,dtype=float))\n",
    "for i in range(num_epochs):\n",
    "    optimizer.zero_grad()\n",
    "    b_pred = torch.mv(A,origin_x)\n",
    "    loss = loss_fn(b_pred,b).sum()\n",
    "    loss.backward()\n",
    "    optimizer.step()\n",
    "    if i % 100 == 0:\n",
    "        print(i,loss)"
   ]
  },
  {
   "cell_type": "code",
   "execution_count": 85,
   "metadata": {},
   "outputs": [
    {
     "name": "stdout",
     "output_type": "stream",
     "text": "tensor([-1.7206, -1.2688, -1.4833, -0.3547,  1.4005,  1.8734, -0.4276,  1.4075,\n        -0.5490, -0.5804,  0.7977, -0.9022,  0.0464,  3.1394, -2.1039, -1.3158,\n        -1.1142,  3.2315,  0.8165,  0.3432,  2.7893,  0.5463,  0.6574, -2.0598,\n        -0.5876, -0.5794, -0.7035,  1.4395, -0.5426, -1.2571,  1.1595,  0.4168,\n         2.5209, -0.2091,  0.9154,  2.9825,  2.5021,  1.8545, -1.9776,  1.3862,\n         1.3917, -1.7557, -1.5214,  0.3152, -0.1529, -0.1603, -0.7138,  0.4252,\n        -0.2783,  0.0668, -0.2559, -1.1464,  0.4271,  1.5804, -0.5153, -0.8518,\n        -0.5912, -0.7806, -0.1548,  1.4805,  1.1326,  0.5619, -0.9590,  2.2268,\n         0.5448,  0.0213, -0.0184, -1.1007, -0.7860,  1.2908,  2.7426, -0.6468,\n         0.4308, -1.8752,  0.1033, -0.0974,  0.4610,  1.1353, -0.0588,  0.3611,\n         0.6138,  0.0626,  2.2802,  0.5802, -1.2236, -0.3469,  1.0588,  0.6974,\n         0.6982, -0.1123,  2.0292, -0.4851,  0.9634,  0.2122,  2.8142,  1.9684,\n        -1.5610,  0.6847, -0.0644,  0.2071], dtype=torch.float64,\n       requires_grad=True)\ntensor([22., 17., 15.,  5.,  2.,  0.,  1.,  2.,  3.,  0., 11., 24.,  9.,  7.,\n         3.,  3.,  1.,  2.,  1.,  3., 16., 19., 20.,  9.,  4.,  2.,  4.,  5.,\n         1.,  1.,  2.,  4., 17., 12.,  0.,  1.,  0.,  4.,  3.,  0., 13.,  9.,\n        13.,  4.,  2.,  1.,  3.,  5.,  1.,  2., 22.,  3.,  0.,  1.,  7.,  2.,\n         0.,  2.,  0.,  4.,  4.,  0.,  1.,  6.,  1.,  6.,  0.,  0.,  0.,  0.,\n         2.,  3.,  5.,  9.,  6.,  2.,  4.,  0.,  0.,  1.,  4.,  3.,  8.,  3.,\n         1.,  1.,  1.,  0.,  3.,  0.,  3., 27.,  1.,  1.,  0.,  0.,  0.,  0.,\n         0.,  0.], dtype=torch.float64)\ntensor([ 7.,  2.,  1.,  1.,  3.,  0.,  0.,  0.,  1.,  2., 19.,  3., 13.,  0.,\n        17., 22., 20.,  0.,  3., 15.,  3.,  0.,  2.,  0.,  2.,  0.,  4.,  0.,\n         4., 24.,  3.,  0.,  2.,  4.,  1.,  9., 11.,  4.,  3., 17.,  1., 27.,\n         0.,  9.,  4.,  1.,  1.,  3.,  9.,  1.], dtype=torch.float64)\ntensor([ 7.0035e+00,  2.0013e+00,  1.0049e+00,  1.0031e+00,  2.9978e+00,\n        -4.5314e+00,  2.7654e-03, -7.1214e-04,  9.9906e-01,  2.0008e+00,\n         7.1434e-01, -1.9027e+01,  1.2997e+01, -6.2382e-04,  2.0158e+00,\n         1.6449e+01,  1.9997e+01,  5.9489e-04,  3.0030e+00,  2.0918e+00,\n         3.0018e+00,  1.8175e-04,  2.0098e+00,  2.7493e-03,  1.9968e+00,\n         8.7322e+00, -2.3896e+00, -1.7560e-03,  4.0005e+00,  2.3999e+01,\n        -3.7362e+00,  3.1400e+00,  2.0049e+00,  4.0042e+00, -2.7489e+00,\n         9.0018e+00,  1.0995e+01,  4.0024e+00,  8.5053e+00, -3.4050e-01,\n         1.0058e+00,  1.7647e+01, -4.2986e+00,  8.9983e+00,  3.9970e+00,\n         9.9516e-01,  1.0013e+00,  2.9991e+00,  8.9983e+00,  1.0043e+00],\n       dtype=torch.float64, grad_fn=<MvBackward>)\n"
    },
    {
     "data": {
      "image/png": "[encoded data removed]",
      "image/svg+xml": "<?xml version=\"1.0\" encoding=\"utf-8\" standalone=\"no\"?>\n<!DOCTYPE svg PUBLIC \"-//W3C//DTD SVG 1.1//EN\"\n  \"http://www.w3.org/Graphics/SVG/1.1/DTD/svg11.dtd\">\n<!-- Created with matplotlib (https://matplotlib.org/) -->\n<svg height=\"183.259943pt\" version=\"1.1\" viewBox=\"0 0 362.5625 183.259943\" width=\"362.5625pt\" xmlns=\"http://www.w3.org/2000/svg\" xmlns:xlink=\"http://www.w3.org/1999/xlink\">\n <defs>\n  <style type=\"text/css\">\n*{stroke-linecap:butt;stroke-linejoin:round;white-space:pre;}\n  </style>\n </defs>\n <g id=\"figure_1\">\n  <g id=\"patch_1\">\n   <path d=\"M 0 183.259943 \nL 362.5625 183.259943 \nL 362.5625 0 \nL 0 0 \nz\n\" style=\"fill:none;\"/>\n  </g>\n  <g id=\"axes_1\">\n   <g id=\"patch_2\">\n    <path d=\"M 20.5625 159.381818 \nL 172.744318 159.381818 \nL 172.744318 7.2 \nL 20.5625 7.2 \nz\n\" style=\"fill:#ffffff;\"/>\n   </g>\n   <g clip-path=\"url(#p9bb45f9658)\">\n    <image height=\"153\" id=\"imaged6658c28db\" transform=\"scale(1 -1)translate(0 -153)\" width=\"153\" x=\"20.5625\" xlink:href=\"data:image/png;base64,\niVBORw0KGgoAAAANSUhEUgAAAJkAAACZCAYAAAA8XJi6AAAABHNCSVQICAgIfAhkiAAAA7FJREFUeJzt3T9rnWUcxvHfOTmkrelJoaI2i4INrWgRBMFBlE7+HRT0FfgK3BwcHNz8g6+hS51cpUMHB3VQQUUFKxFtHRKVKjSmWExyHHwD8ru5CNHPZ7+4Q/LNM908z+TJs68squn9D97rTquq6umzjw3tu/a3tw/k3P+r6UH/APz3iYw4kREnMuJERpzIiBMZcSIjTmTEiYw4kREnMuJERpzIiJvtrxxtj585/8LQ4b8/d0d7e/KTX9vbw/qfNXJFaenM6aGz9777vr09rL9vDhGREScy4kRGnMiIExlxIiNOZMSJjDiREScy4kRGnMiIExlxIiNutrR1vT1ezFeGDp9fvdXe/nz+zvZ29drJ9va2L39qb6uq9k7d3h9//k3/3IH7YFVV0/m8vx06Gf4FkREnMuJERpzIiBMZcSIjTmTEiYw4kREnMuJERpzIiBMZcbORqyeLgasnVVWzzf71kdWV+9rbox99297efLR/blXV8qVPh/YHZeS1VZ5kxImMOJERJzLiREacyIgTGXEiI05kxImMOJERJzLiREacyIibPX7hs/b4wxfPDR0+8qaZkes620/c396e+Phqe1tVtTuwna2d6p+7uTVwctXkoQfaW08y4kRGnMiIExlxIiNOZMSJjDiREScy4kRGnMiIExlxIiNOZMSJjLjJvW++veiOVzfGDr+x3t+efvdGezvyZbz9P3ba26qqyVr/63Z/3bXa3s6+GPtjTY/3vwjoSUacyIgTGXEiI05kxImMOJERJzLiREacyIgTGXEiI05kxImMuNmZd35oj0e+MFdVdeup/vbH50+0t/e81v+63XTe/7Jd1djrspZW+q9vGrliVFW1O/Bze5IRJzLiREacyIgTGXEiI05kxImMOJERJzLiREacyIgTGXEiI2525a219nh97Zehwx88crO9vXKp/4aboS+eDbwRqKpqsX53e7t3fLm9nWxca2+rxq44eZIRJzLiREacyIgTGXEiI05kxImMOJERJzLiREacyIgTGXEiI2525Otj7fHLj1weOvzVN15qb49d329vpzt/treLef9DVlVjV26WBz6i1f9t/WPkrUCeZMSJjDiREScy4kRGnMiIExlxIiNOZMSJjDiREScy4kRGnMiIExlxk9e/enbRHV/ceHjo8J3f+nfZ1i/stbfLG5vt7e7mVntbNfgKpoH7ZKP34Ea+budJRpzIiBMZcSIjTmTEiYw4kREnMuJERpzIiBMZcSIjTmTEiYy4vwGdFH/evkYQtgAAAABJRU5ErkJggg==\" y=\"-6.381818\"/>\n   </g>\n   <g id=\"matplotlib.axis_1\">\n    <g id=\"xtick_1\">\n     <g id=\"line2d_1\">\n      <defs>\n       <path d=\"M 0 0 \nL 0 3.5 \n\" id=\"m689c68b5a2\" style=\"stroke:#000000;stroke-width:0.8;\"/>\n      </defs>\n      <g>\n       <use style=\"stroke:#000000;stroke-width:0.8;\" x=\"28.171591\" xlink:href=\"#m689c68b5a2\" y=\"159.381818\"/>\n      </g>\n     </g>\n     <g id=\"text_1\">\n      <!-- 0 -->\n      <defs>\n       <path d=\"M 31.78125 66.40625 \nQ 24.171875 66.40625 20.328125 58.90625 \nQ 16.5 51.421875 16.5 36.375 \nQ 16.5 21.390625 20.328125 13.890625 \nQ 24.171875 6.390625 31.78125 6.390625 \nQ 39.453125 6.390625 43.28125 13.890625 \nQ 47.125 21.390625 47.125 36.375 \nQ 47.125 51.421875 43.28125 58.90625 \nQ 39.453125 66.40625 31.78125 66.40625 \nz\nM 31.78125 74.21875 \nQ 44.046875 74.21875 50.515625 64.515625 \nQ 56.984375 54.828125 56.984375 36.375 \nQ 56.984375 17.96875 50.515625 8.265625 \nQ 44.046875 -1.421875 31.78125 -1.421875 \nQ 19.53125 -1.421875 13.0625 8.265625 \nQ 6.59375 17.96875 6.59375 36.375 \nQ 6.59375 54.828125 13.0625 64.515625 \nQ 19.53125 74.21875 31.78125 74.21875 \nz\n\" id=\"DejaVuSans-48\"/>\n      </defs>\n      <g transform=\"translate(24.990341 173.980256)scale(0.1 -0.1)\">\n       <use xlink:href=\"#DejaVuSans-48\"/>\n      </g>\n     </g>\n    </g>\n    <g id=\"xtick_2\">\n     <g id=\"line2d_2\">\n      <g>\n       <use style=\"stroke:#000000;stroke-width:0.8;\" x=\"58.607955\" xlink:href=\"#m689c68b5a2\" y=\"159.381818\"/>\n      </g>\n     </g>\n     <g id=\"text_2\">\n      <!-- 2 -->\n      <defs>\n       <path d=\"M 19.1875 8.296875 \nL 53.609375 8.296875 \nL 53.609375 0 \nL 7.328125 0 \nL 7.328125 8.296875 \nQ 12.9375 14.109375 22.625 23.890625 \nQ 32.328125 33.6875 34.8125 36.53125 \nQ 39.546875 41.84375 41.421875 45.53125 \nQ 43.3125 49.21875 43.3125 52.78125 \nQ 43.3125 58.59375 39.234375 62.25 \nQ 35.15625 65.921875 28.609375 65.921875 \nQ 23.96875 65.921875 18.8125 64.3125 \nQ 13.671875 62.703125 7.8125 59.421875 \nL 7.8125 69.390625 \nQ 13.765625 71.78125 18.9375 73 \nQ 24.125 74.21875 28.421875 74.21875 \nQ 39.75 74.21875 46.484375 68.546875 \nQ 53.21875 62.890625 53.21875 53.421875 \nQ 53.21875 48.921875 51.53125 44.890625 \nQ 49.859375 40.875 45.40625 35.40625 \nQ 44.1875 33.984375 37.640625 27.21875 \nQ 31.109375 20.453125 19.1875 8.296875 \nz\n\" id=\"DejaVuSans-50\"/>\n      </defs>\n      <g transform=\"translate(55.426705 173.980256)scale(0.1 -0.1)\">\n       <use xlink:href=\"#DejaVuSans-50\"/>\n      </g>\n     </g>\n    </g>\n    <g id=\"xtick_3\">\n     <g id=\"line2d_3\">\n      <g>\n       <use style=\"stroke:#000000;stroke-width:0.8;\" x=\"89.044318\" xlink:href=\"#m689c68b5a2\" y=\"159.381818\"/>\n      </g>\n     </g>\n     <g id=\"text_3\">\n      <!-- 4 -->\n      <defs>\n       <path d=\"M 37.796875 64.3125 \nL 12.890625 25.390625 \nL 37.796875 25.390625 \nz\nM 35.203125 72.90625 \nL 47.609375 72.90625 \nL 47.609375 25.390625 \nL 58.015625 25.390625 \nL 58.015625 17.1875 \nL 47.609375 17.1875 \nL 47.609375 0 \nL 37.796875 0 \nL 37.796875 17.1875 \nL 4.890625 17.1875 \nL 4.890625 26.703125 \nz\n\" id=\"DejaVuSans-52\"/>\n      </defs>\n      <g transform=\"translate(85.863068 173.980256)scale(0.1 -0.1)\">\n       <use xlink:href=\"#DejaVuSans-52\"/>\n      </g>\n     </g>\n    </g>\n    <g id=\"xtick_4\">\n     <g id=\"line2d_4\">\n      <g>\n       <use style=\"stroke:#000000;stroke-width:0.8;\" x=\"119.480682\" xlink:href=\"#m689c68b5a2\" y=\"159.381818\"/>\n      </g>\n     </g>\n     <g id=\"text_4\">\n      <!-- 6 -->\n      <defs>\n       <path d=\"M 33.015625 40.375 \nQ 26.375 40.375 22.484375 35.828125 \nQ 18.609375 31.296875 18.609375 23.390625 \nQ 18.609375 15.53125 22.484375 10.953125 \nQ 26.375 6.390625 33.015625 6.390625 \nQ 39.65625 6.390625 43.53125 10.953125 \nQ 47.40625 15.53125 47.40625 23.390625 \nQ 47.40625 31.296875 43.53125 35.828125 \nQ 39.65625 40.375 33.015625 40.375 \nz\nM 52.59375 71.296875 \nL 52.59375 62.3125 \nQ 48.875 64.0625 45.09375 64.984375 \nQ 41.3125 65.921875 37.59375 65.921875 \nQ 27.828125 65.921875 22.671875 59.328125 \nQ 17.53125 52.734375 16.796875 39.40625 \nQ 19.671875 43.65625 24.015625 45.921875 \nQ 28.375 48.1875 33.59375 48.1875 \nQ 44.578125 48.1875 50.953125 41.515625 \nQ 57.328125 34.859375 57.328125 23.390625 \nQ 57.328125 12.15625 50.6875 5.359375 \nQ 44.046875 -1.421875 33.015625 -1.421875 \nQ 20.359375 -1.421875 13.671875 8.265625 \nQ 6.984375 17.96875 6.984375 36.375 \nQ 6.984375 53.65625 15.1875 63.9375 \nQ 23.390625 74.21875 37.203125 74.21875 \nQ 40.921875 74.21875 44.703125 73.484375 \nQ 48.484375 72.75 52.59375 71.296875 \nz\n\" id=\"DejaVuSans-54\"/>\n      </defs>\n      <g transform=\"translate(116.299432 173.980256)scale(0.1 -0.1)\">\n       <use xlink:href=\"#DejaVuSans-54\"/>\n      </g>\n     </g>\n    </g>\n    <g id=\"xtick_5\">\n     <g id=\"line2d_5\">\n      <g>\n       <use style=\"stroke:#000000;stroke-width:0.8;\" x=\"149.917045\" xlink:href=\"#m689c68b5a2\" y=\"159.381818\"/>\n      </g>\n     </g>\n     <g id=\"text_5\">\n      <!-- 8 -->\n      <defs>\n       <path d=\"M 31.78125 34.625 \nQ 24.75 34.625 20.71875 30.859375 \nQ 16.703125 27.09375 16.703125 20.515625 \nQ 16.703125 13.921875 20.71875 10.15625 \nQ 24.75 6.390625 31.78125 6.390625 \nQ 38.8125 6.390625 42.859375 10.171875 \nQ 46.921875 13.96875 46.921875 20.515625 \nQ 46.921875 27.09375 42.890625 30.859375 \nQ 38.875 34.625 31.78125 34.625 \nz\nM 21.921875 38.8125 \nQ 15.578125 40.375 12.03125 44.71875 \nQ 8.5 49.078125 8.5 55.328125 \nQ 8.5 64.0625 14.71875 69.140625 \nQ 20.953125 74.21875 31.78125 74.21875 \nQ 42.671875 74.21875 48.875 69.140625 \nQ 55.078125 64.0625 55.078125 55.328125 \nQ 55.078125 49.078125 51.53125 44.71875 \nQ 48 40.375 41.703125 38.8125 \nQ 48.828125 37.15625 52.796875 32.3125 \nQ 56.78125 27.484375 56.78125 20.515625 \nQ 56.78125 9.90625 50.3125 4.234375 \nQ 43.84375 -1.421875 31.78125 -1.421875 \nQ 19.734375 -1.421875 13.25 4.234375 \nQ 6.78125 9.90625 6.78125 20.515625 \nQ 6.78125 27.484375 10.78125 32.3125 \nQ 14.796875 37.15625 21.921875 38.8125 \nz\nM 18.3125 54.390625 \nQ 18.3125 48.734375 21.84375 45.5625 \nQ 25.390625 42.390625 31.78125 42.390625 \nQ 38.140625 42.390625 41.71875 45.5625 \nQ 45.3125 48.734375 45.3125 54.390625 \nQ 45.3125 60.0625 41.71875 63.234375 \nQ 38.140625 66.40625 31.78125 66.40625 \nQ 25.390625 66.40625 21.84375 63.234375 \nQ 18.3125 60.0625 18.3125 54.390625 \nz\n\" id=\"DejaVuSans-56\"/>\n      </defs>\n      <g transform=\"translate(146.735795 173.980256)scale(0.1 -0.1)\">\n       <use xlink:href=\"#DejaVuSans-56\"/>\n      </g>\n     </g>\n    </g>\n   </g>\n   <g id=\"matplotlib.axis_2\">\n    <g id=\"ytick_1\">\n     <g id=\"line2d_6\">\n      <defs>\n       <path d=\"M 0 0 \nL -3.5 0 \n\" id=\"me7a3b412a6\" style=\"stroke:#000000;stroke-width:0.8;\"/>\n      </defs>\n      <g>\n       <use style=\"stroke:#000000;stroke-width:0.8;\" x=\"20.5625\" xlink:href=\"#me7a3b412a6\" y=\"14.809091\"/>\n      </g>\n     </g>\n     <g id=\"text_6\">\n      <!-- 0 -->\n      <g transform=\"translate(7.2 18.60831)scale(0.1 -0.1)\">\n       <use xlink:href=\"#DejaVuSans-48\"/>\n      </g>\n     </g>\n    </g>\n    <g id=\"ytick_2\">\n     <g id=\"line2d_7\">\n      <g>\n       <use style=\"stroke:#000000;stroke-width:0.8;\" x=\"20.5625\" xlink:href=\"#me7a3b412a6\" y=\"45.245455\"/>\n      </g>\n     </g>\n     <g id=\"text_7\">\n      <!-- 2 -->\n      <g transform=\"translate(7.2 49.044673)scale(0.1 -0.1)\">\n       <use xlink:href=\"#DejaVuSans-50\"/>\n      </g>\n     </g>\n    </g>\n    <g id=\"ytick_3\">\n     <g id=\"line2d_8\">\n      <g>\n       <use style=\"stroke:#000000;stroke-width:0.8;\" x=\"20.5625\" xlink:href=\"#me7a3b412a6\" y=\"75.681818\"/>\n      </g>\n     </g>\n     <g id=\"text_8\">\n      <!-- 4 -->\n      <g transform=\"translate(7.2 79.481037)scale(0.1 -0.1)\">\n       <use xlink:href=\"#DejaVuSans-52\"/>\n      </g>\n     </g>\n    </g>\n    <g id=\"ytick_4\">\n     <g id=\"line2d_9\">\n      <g>\n       <use style=\"stroke:#000000;stroke-width:0.8;\" x=\"20.5625\" xlink:href=\"#me7a3b412a6\" y=\"106.118182\"/>\n      </g>\n     </g>\n     <g id=\"text_9\">\n      <!-- 6 -->\n      <g transform=\"translate(7.2 109.917401)scale(0.1 -0.1)\">\n       <use xlink:href=\"#DejaVuSans-54\"/>\n      </g>\n     </g>\n    </g>\n    <g id=\"ytick_5\">\n     <g id=\"line2d_10\">\n      <g>\n       <use style=\"stroke:#000000;stroke-width:0.8;\" x=\"20.5625\" xlink:href=\"#me7a3b412a6\" y=\"136.554545\"/>\n      </g>\n     </g>\n     <g id=\"text_10\">\n      <!-- 8 -->\n      <g transform=\"translate(7.2 140.353764)scale(0.1 -0.1)\">\n       <use xlink:href=\"#DejaVuSans-56\"/>\n      </g>\n     </g>\n    </g>\n   </g>\n   <g id=\"patch_3\">\n    <path d=\"M 20.5625 159.381818 \nL 20.5625 7.2 \n\" style=\"fill:none;stroke:#000000;stroke-linecap:square;stroke-linejoin:miter;stroke-width:0.8;\"/>\n   </g>\n   <g id=\"patch_4\">\n    <path d=\"M 172.744318 159.381818 \nL 172.744318 7.2 \n\" style=\"fill:none;stroke:#000000;stroke-linecap:square;stroke-linejoin:miter;stroke-width:0.8;\"/>\n   </g>\n   <g id=\"patch_5\">\n    <path d=\"M 20.5625 159.381818 \nL 172.744318 159.381818 \n\" style=\"fill:none;stroke:#000000;stroke-linecap:square;stroke-linejoin:miter;stroke-width:0.8;\"/>\n   </g>\n   <g id=\"patch_6\">\n    <path d=\"M 20.5625 7.2 \nL 172.744318 7.2 \n\" style=\"fill:none;stroke:#000000;stroke-linecap:square;stroke-linejoin:miter;stroke-width:0.8;\"/>\n   </g>\n  </g>\n  <g id=\"axes_2\">\n   <g id=\"patch_7\">\n    <path d=\"M 203.180682 159.381818 \nL 355.3625 159.381818 \nL 355.3625 7.2 \nL 203.180682 7.2 \nz\n\" style=\"fill:#ffffff;\"/>\n   </g>\n   <g clip-path=\"url(#pb8c6a51de9)\">\n    <image height=\"153\" id=\"imagecff8873341\" transform=\"scale(1 -1)translate(0 -153)\" width=\"153\" x=\"203.180682\" xlink:href=\"data:image/png;base64,\niVBORw0KGgoAAAANSUhEUgAAAJkAAACZCAYAAAA8XJi6AAAABHNCSVQICAgIfAhkiAAABBlJREFUeJzt3cuLlXUcx/Hv45yxo52BRqcysRm6DNKN7AYSRUEFEQSJC5kIsqCNFtYmWkaLIGghs4qiXVFRJARBNbXIBOlGEARZeOmGdUaZYdLRM85o/0J8Ht6792v/4XeU9zyrh9/T7P5+6kKFvp6+PZ1WVdXsfYN4e9GRbrx9a+feePv67D3xtqrqj0c3xNufn70s3vaODMXbqqpzvXy7qtXJ0v9gZMIZmXBGJpyRCWdkwhmZcEYmnJEJZ2TCGZlwRiackQlnZMI1E9Ovxq/6rD3ertHHH/s03r4280C8vfa9xXh78qaL421V1fy9Z+Pt+fnVrc5uY+TX/FUhn2TCGZlwRiackQlnZMIZmXBGJpyRCWdkwhmZcEYmnJEJZ2TCGZlwRiZcs//o1fH7ZM+/sKvV4f1bm3g7+fJP8fa33TfG207+OlhVVS1eEf93VzN+Ot52v21x91NVnV2f/26fZMIZmXBGJpyRCWdkwhmZcEYmnJEJZ2TCGZlwRiackQlnZMIZmXCdJ77ZGY9XtrY7fOKTc/H2zgP9eHvo8/Pxdu3f7f4uu7P5600bPs6vbxqMLsfbqqq5u07FW59kwhmZcEYmnJEJZ2TCGZlwRiackQlnZMIZmXBGJpyRCWdkwhmZcJ3el/lXz8Z+PNPq8KMPr4m3X/yzOd6O/ZC/btOda/fKzNJI/nc9GB2OtwvjnXhbVdXrDuKtTzLhjEw4IxPOyIQzMuGMTDgjE87IhDMy4YxMOCMTzsiEMzLhjEw4IxOu0zx0Mh9/ON/q8Mk38y+XHV7eGG/XjObvkw1GW76X9ddKvD2+Nb86auRY/pW3qqqF/ZfHW59kwhmZcEYmnJEJZ2TCGZlwRiackQlnZMIZmXBGJpyRCWdkwhmZcJ1Ti914/O9z17Q6/KVt78bbV6an4u38bUvx9qv798bbqqoDZ66Mtx+d2BJv515sd81X//3xeOuTTDgjE87IhDMy4YxMOCMTzsiEMzLhjEw4IxPOyIQzMuGMTDgjE645eGwivu5lat8zrQ6/MJzfNDO557t4u7Djjnhb+YVAVVU1tJT/m5efzG9gqrfH8m1VXfLL6Xjrk0w4IxPOyIQzMuGMTDgjE87IhDMy4YxMOCMTzsiEMzLhjEw4IxOus+OzXfF4Yib/GFVV1Ymbh+Ptvt8Pxtttm/Lf3dxyQ7ytqlrprY63M1s+iLdX/flUvK2qmrs+/9iaTzLhjEw4IxPOyIQzMuGMTDgjE87IhDMy4YxMOCMTzsiEMzLhjEw4IxOueXDj0/FdRiubLm11+KqF/Mtl/bvzs5tH8iuYNq/rx9uqqkNvXJePt+e/e+iddfm5VdXkN175JBPPyIQzMuGMTDgjE87IhDMy4YxMOCMTzsiEMzLhjEw4IxPOyIT7D5+HlL6ZMHc5AAAAAElFTkSuQmCC\" y=\"-6.381818\"/>\n   </g>\n   <g id=\"matplotlib.axis_3\">\n    <g id=\"xtick_6\">\n     <g id=\"line2d_11\">\n      <g>\n       <use style=\"stroke:#000000;stroke-width:0.8;\" x=\"210.789773\" xlink:href=\"#m689c68b5a2\" y=\"159.381818\"/>\n      </g>\n     </g>\n     <g id=\"text_11\">\n      <!-- 0 -->\n      <g transform=\"translate(207.608523 173.980256)scale(0.1 -0.1)\">\n       <use xlink:href=\"#DejaVuSans-48\"/>\n      </g>\n     </g>\n    </g>\n    <g id=\"xtick_7\">\n     <g id=\"line2d_12\">\n      <g>\n       <use style=\"stroke:#000000;stroke-width:0.8;\" x=\"241.226136\" xlink:href=\"#m689c68b5a2\" y=\"159.381818\"/>\n      </g>\n     </g>\n     <g id=\"text_12\">\n      <!-- 2 -->\n      <g transform=\"translate(238.044886 173.980256)scale(0.1 -0.1)\">\n       <use xlink:href=\"#DejaVuSans-50\"/>\n      </g>\n     </g>\n    </g>\n    <g id=\"xtick_8\">\n     <g id=\"line2d_13\">\n      <g>\n       <use style=\"stroke:#000000;stroke-width:0.8;\" x=\"271.6625\" xlink:href=\"#m689c68b5a2\" y=\"159.381818\"/>\n      </g>\n     </g>\n     <g id=\"text_13\">\n      <!-- 4 -->\n      <g transform=\"translate(268.48125 173.980256)scale(0.1 -0.1)\">\n       <use xlink:href=\"#DejaVuSans-52\"/>\n      </g>\n     </g>\n    </g>\n    <g id=\"xtick_9\">\n     <g id=\"line2d_14\">\n      <g>\n       <use style=\"stroke:#000000;stroke-width:0.8;\" x=\"302.098864\" xlink:href=\"#m689c68b5a2\" y=\"159.381818\"/>\n      </g>\n     </g>\n     <g id=\"text_14\">\n      <!-- 6 -->\n      <g transform=\"translate(298.917614 173.980256)scale(0.1 -0.1)\">\n       <use xlink:href=\"#DejaVuSans-54\"/>\n      </g>\n     </g>\n    </g>\n    <g id=\"xtick_10\">\n     <g id=\"line2d_15\">\n      <g>\n       <use style=\"stroke:#000000;stroke-width:0.8;\" x=\"332.535227\" xlink:href=\"#m689c68b5a2\" y=\"159.381818\"/>\n      </g>\n     </g>\n     <g id=\"text_15\">\n      <!-- 8 -->\n      <g transform=\"translate(329.353977 173.980256)scale(0.1 -0.1)\">\n       <use xlink:href=\"#DejaVuSans-56\"/>\n      </g>\n     </g>\n    </g>\n   </g>\n   <g id=\"matplotlib.axis_4\">\n    <g id=\"ytick_6\">\n     <g id=\"line2d_16\">\n      <g>\n       <use style=\"stroke:#000000;stroke-width:0.8;\" x=\"203.180682\" xlink:href=\"#me7a3b412a6\" y=\"14.809091\"/>\n      </g>\n     </g>\n     <g id=\"text_16\">\n      <!-- 0 -->\n      <g transform=\"translate(189.818182 18.60831)scale(0.1 -0.1)\">\n       <use xlink:href=\"#DejaVuSans-48\"/>\n      </g>\n     </g>\n    </g>\n    <g id=\"ytick_7\">\n     <g id=\"line2d_17\">\n      <g>\n       <use style=\"stroke:#000000;stroke-width:0.8;\" x=\"203.180682\" xlink:href=\"#me7a3b412a6\" y=\"45.245455\"/>\n      </g>\n     </g>\n     <g id=\"text_17\">\n      <!-- 2 -->\n      <g transform=\"translate(189.818182 49.044673)scale(0.1 -0.1)\">\n       <use xlink:href=\"#DejaVuSans-50\"/>\n      </g>\n     </g>\n    </g>\n    <g id=\"ytick_8\">\n     <g id=\"line2d_18\">\n      <g>\n       <use style=\"stroke:#000000;stroke-width:0.8;\" x=\"203.180682\" xlink:href=\"#me7a3b412a6\" y=\"75.681818\"/>\n      </g>\n     </g>\n     <g id=\"text_18\">\n      <!-- 4 -->\n      <g transform=\"translate(189.818182 79.481037)scale(0.1 -0.1)\">\n       <use xlink:href=\"#DejaVuSans-52\"/>\n      </g>\n     </g>\n    </g>\n    <g id=\"ytick_9\">\n     <g id=\"line2d_19\">\n      <g>\n       <use style=\"stroke:#000000;stroke-width:0.8;\" x=\"203.180682\" xlink:href=\"#me7a3b412a6\" y=\"106.118182\"/>\n      </g>\n     </g>\n     <g id=\"text_19\">\n      <!-- 6 -->\n      <g transform=\"translate(189.818182 109.917401)scale(0.1 -0.1)\">\n       <use xlink:href=\"#DejaVuSans-54\"/>\n      </g>\n     </g>\n    </g>\n    <g id=\"ytick_10\">\n     <g id=\"line2d_20\">\n      <g>\n       <use style=\"stroke:#000000;stroke-width:0.8;\" x=\"203.180682\" xlink:href=\"#me7a3b412a6\" y=\"136.554545\"/>\n      </g>\n     </g>\n     <g id=\"text_20\">\n      <!-- 8 -->\n      <g transform=\"translate(189.818182 140.353764)scale(0.1 -0.1)\">\n       <use xlink:href=\"#DejaVuSans-56\"/>\n      </g>\n     </g>\n    </g>\n   </g>\n   <g id=\"patch_8\">\n    <path d=\"M 203.180682 159.381818 \nL 203.180682 7.2 \n\" style=\"fill:none;stroke:#000000;stroke-linecap:square;stroke-linejoin:miter;stroke-width:0.8;\"/>\n   </g>\n   <g id=\"patch_9\">\n    <path d=\"M 355.3625 159.381818 \nL 355.3625 7.2 \n\" style=\"fill:none;stroke:#000000;stroke-linecap:square;stroke-linejoin:miter;stroke-width:0.8;\"/>\n   </g>\n   <g id=\"patch_10\">\n    <path d=\"M 203.180682 159.381818 \nL 355.3625 159.381818 \n\" style=\"fill:none;stroke:#000000;stroke-linecap:square;stroke-linejoin:miter;stroke-width:0.8;\"/>\n   </g>\n   <g id=\"patch_11\">\n    <path d=\"M 203.180682 7.2 \nL 355.3625 7.2 \n\" style=\"fill:none;stroke:#000000;stroke-linecap:square;stroke-linejoin:miter;stroke-width:0.8;\"/>\n   </g>\n  </g>\n </g>\n <defs>\n  <clipPath id=\"p9bb45f9658\">\n   <rect height=\"152.181818\" width=\"152.181818\" x=\"20.5625\" y=\"7.2\"/>\n  </clipPath>\n  <clipPath id=\"pb8c6a51de9\">\n   <rect height=\"152.181818\" width=\"152.181818\" x=\"203.180682\" y=\"7.2\"/>\n  </clipPath>\n </defs>\n</svg>\n",
      "text/plain": "<Figure size 432x288 with 2 Axes>"
     },
     "metadata": {
      "needs_background": "light"
     },
     "output_type": "display_data"
    }
   ],
   "source": [
    "print(origin_x)\n",
    "print(x)\n",
    "print(b)\n",
    "print(b_pred)\n",
    "origin_x.detach()\n",
    "o_x = origin_x.detach().numpy()\n",
    "# plt.imshow(x.numpy())\n",
    "plt.subplot(1,2,1)\n",
    "plt.imshow(x.reshape(10,10))\n",
    "plt.subplot(1,2,2)\n",
    "plt.imshow(o_x.reshape(10,10))\n",
    "plt.show()\n",
    "# print(o_x.describe())"
   ]
  },
  {
   "cell_type": "code",
   "execution_count": 72,
   "metadata": {},
   "outputs": [
    {
     "name": "stdout",
     "output_type": "stream",
     "text": "0 tensor(910.1614, dtype=torch.float64, grad_fn=<SumBackward0>)\n100 tensor(272.3040, dtype=torch.float64, grad_fn=<SumBackward0>)\n200 tensor(200.2320, dtype=torch.float64, grad_fn=<SumBackward0>)\n300 tensor(220.2951, dtype=torch.float64, grad_fn=<SumBackward0>)\n400 tensor(189.7315, dtype=torch.float64, grad_fn=<SumBackward0>)\n500 tensor(151.0638, dtype=torch.float64, grad_fn=<SumBackward0>)\n600 tensor(190.4859, dtype=torch.float64, grad_fn=<SumBackward0>)\n700 tensor(287.5944, dtype=torch.float64, grad_fn=<SumBackward0>)\n800 tensor(198.2663, dtype=torch.float64, grad_fn=<SumBackward0>)\n900 tensor(174.1867, dtype=torch.float64, grad_fn=<SumBackward0>)\n1000 tensor(135.1232, dtype=torch.float64, grad_fn=<SumBackward0>)\n1100 tensor(234.2158, dtype=torch.float64, grad_fn=<SumBackward0>)\n1200 tensor(166.7627, dtype=torch.float64, grad_fn=<SumBackward0>)\n1300 tensor(226.6708, dtype=torch.float64, grad_fn=<SumBackward0>)\n1400 tensor(191.0183, dtype=torch.float64, grad_fn=<SumBackward0>)\n1500 tensor(252.4170, dtype=torch.float64, grad_fn=<SumBackward0>)\n1600 tensor(185.6661, dtype=torch.float64, grad_fn=<SumBackward0>)\n1700 tensor(199.1014, dtype=torch.float64, grad_fn=<SumBackward0>)\n1800 tensor(262.8254, dtype=torch.float64, grad_fn=<SumBackward0>)\n1900 tensor(185.9763, dtype=torch.float64, grad_fn=<SumBackward0>)\n2000 tensor(207.4776, dtype=torch.float64, grad_fn=<SumBackward0>)\n2100 tensor(145.1461, dtype=torch.float64, grad_fn=<SumBackward0>)\n2200 tensor(195.1971, dtype=torch.float64, grad_fn=<SumBackward0>)\n2300 tensor(228.5867, dtype=torch.float64, grad_fn=<SumBackward0>)\n2400 tensor(194.7236, dtype=torch.float64, grad_fn=<SumBackward0>)\n2500 tensor(178.9341, dtype=torch.float64, grad_fn=<SumBackward0>)\n2600 tensor(218.5587, dtype=torch.float64, grad_fn=<SumBackward0>)\n2700 tensor(171.9016, dtype=torch.float64, grad_fn=<SumBackward0>)\n2800 tensor(194.3224, dtype=torch.float64, grad_fn=<SumBackward0>)\n2900 tensor(196.2345, dtype=torch.float64, grad_fn=<SumBackward0>)\n3000 tensor(157.5695, dtype=torch.float64, grad_fn=<SumBackward0>)\n3100 tensor(201.8894, dtype=torch.float64, grad_fn=<SumBackward0>)\n3200 tensor(187.0041, dtype=torch.float64, grad_fn=<SumBackward0>)\n3300 tensor(195.7960, dtype=torch.float64, grad_fn=<SumBackward0>)\n3400 tensor(161.9496, dtype=torch.float64, grad_fn=<SumBackward0>)\n3500 tensor(176.8731, dtype=torch.float64, grad_fn=<SumBackward0>)\n3600 tensor(206.9004, dtype=torch.float64, grad_fn=<SumBackward0>)\n3700 tensor(229.7570, dtype=torch.float64, grad_fn=<SumBackward0>)\n3800 tensor(255.5885, dtype=torch.float64, grad_fn=<SumBackward0>)\n3900 tensor(187.4627, dtype=torch.float64, grad_fn=<SumBackward0>)\n4000 tensor(230.4298, dtype=torch.float64, grad_fn=<SumBackward0>)\n4100 tensor(184.2777, dtype=torch.float64, grad_fn=<SumBackward0>)\n4200 tensor(227.4402, dtype=torch.float64, grad_fn=<SumBackward0>)\n4300 tensor(231.3970, dtype=torch.float64, grad_fn=<SumBackward0>)\n4400 tensor(208.6483, dtype=torch.float64, grad_fn=<SumBackward0>)\n4500 tensor(188.5633, dtype=torch.float64, grad_fn=<SumBackward0>)\n4600 tensor(205.9831, dtype=torch.float64, grad_fn=<SumBackward0>)\n4700 tensor(204.1538, dtype=torch.float64, grad_fn=<SumBackward0>)\n4800 tensor(185.0296, dtype=torch.float64, grad_fn=<SumBackward0>)\n4900 tensor(145.5185, dtype=torch.float64, grad_fn=<SumBackward0>)\n5000 tensor(178.8683, dtype=torch.float64, grad_fn=<SumBackward0>)\n5100 tensor(213.7918, dtype=torch.float64, grad_fn=<SumBackward0>)\n5200 tensor(209.3484, dtype=torch.float64, grad_fn=<SumBackward0>)\n5300 tensor(178.3356, dtype=torch.float64, grad_fn=<SumBackward0>)\n5400 tensor(190.4275, dtype=torch.float64, grad_fn=<SumBackward0>)\n5500 tensor(204.2547, dtype=torch.float64, grad_fn=<SumBackward0>)\n5600 tensor(241.2717, dtype=torch.float64, grad_fn=<SumBackward0>)\n5700 tensor(179.8245, dtype=torch.float64, grad_fn=<SumBackward0>)\n5800 tensor(249.3862, dtype=torch.float64, grad_fn=<SumBackward0>)\n5900 tensor(171.0395, dtype=torch.float64, grad_fn=<SumBackward0>)\n6000 tensor(169.2417, dtype=torch.float64, grad_fn=<SumBackward0>)\n6100 tensor(211.2847, dtype=torch.float64, grad_fn=<SumBackward0>)\n6200 tensor(235.7951, dtype=torch.float64, grad_fn=<SumBackward0>)\n6300 tensor(202.1510, dtype=torch.float64, grad_fn=<SumBackward0>)\n6400 tensor(195.8783, dtype=torch.float64, grad_fn=<SumBackward0>)\n6500 tensor(199.1427, dtype=torch.float64, grad_fn=<SumBackward0>)\n6600 tensor(186.8089, dtype=torch.float64, grad_fn=<SumBackward0>)\n6700 tensor(179.7292, dtype=torch.float64, grad_fn=<SumBackward0>)\n6800 tensor(208.7180, dtype=torch.float64, grad_fn=<SumBackward0>)\n6900 tensor(157.6193, dtype=torch.float64, grad_fn=<SumBackward0>)\n7000 tensor(208.5140, dtype=torch.float64, grad_fn=<SumBackward0>)\n7100 tensor(242.5856, dtype=torch.float64, grad_fn=<SumBackward0>)\n7200 tensor(217.5838, dtype=torch.float64, grad_fn=<SumBackward0>)\n7300 tensor(181.3414, dtype=torch.float64, grad_fn=<SumBackward0>)\n7400 tensor(210.3265, dtype=torch.float64, grad_fn=<SumBackward0>)\n7500 tensor(211.5117, dtype=torch.float64, grad_fn=<SumBackward0>)\n7600 tensor(217.6064, dtype=torch.float64, grad_fn=<SumBackward0>)\n7700 tensor(230.0867, dtype=torch.float64, grad_fn=<SumBackward0>)\n7800 tensor(229.9868, dtype=torch.float64, grad_fn=<SumBackward0>)\n7900 tensor(220.4000, dtype=torch.float64, grad_fn=<SumBackward0>)\n8000 tensor(145.5971, dtype=torch.float64, grad_fn=<SumBackward0>)\n8100 tensor(223.8819, dtype=torch.float64, grad_fn=<SumBackward0>)\n8200 tensor(203.3478, dtype=torch.float64, grad_fn=<SumBackward0>)\n8300 tensor(188.5249, dtype=torch.float64, grad_fn=<SumBackward0>)\n8400 tensor(218.5084, dtype=torch.float64, grad_fn=<SumBackward0>)\n8500 tensor(184.9855, dtype=torch.float64, grad_fn=<SumBackward0>)\n8600 tensor(224.9341, dtype=torch.float64, grad_fn=<SumBackward0>)\n8700 tensor(204.4918, dtype=torch.float64, grad_fn=<SumBackward0>)\n8800 tensor(172.5123, dtype=torch.float64, grad_fn=<SumBackward0>)\n8900 tensor(224.8771, dtype=torch.float64, grad_fn=<SumBackward0>)\n9000 tensor(220.8659, dtype=torch.float64, grad_fn=<SumBackward0>)\n9100 tensor(214.2968, dtype=torch.float64, grad_fn=<SumBackward0>)\n9200 tensor(200.7198, dtype=torch.float64, grad_fn=<SumBackward0>)\n9300 tensor(175.0404, dtype=torch.float64, grad_fn=<SumBackward0>)\n9400 tensor(236.2338, dtype=torch.float64, grad_fn=<SumBackward0>)\n9500 tensor(207.0347, dtype=torch.float64, grad_fn=<SumBackward0>)\n9600 tensor(234.2428, dtype=torch.float64, grad_fn=<SumBackward0>)\n9700 tensor(208.4134, dtype=torch.float64, grad_fn=<SumBackward0>)\n9800 tensor(241.8911, dtype=torch.float64, grad_fn=<SumBackward0>)\n9900 tensor(192.1395, dtype=torch.float64, grad_fn=<SumBackward0>)\n"
    }
   ],
   "source": [
    "# Multi HeatMap training\n",
    "A = Variable(torch.randn(50,100,dtype=float),requires_grad=True)\n",
    "optimizer = optim.SGD([A],lr=0.001)\n",
    "loss_fn = torch.nn.L1Loss(reduce=False, size_average=False)\n",
    "num_epochs = 10000\n",
    "for epoch in range(num_epochs):\n",
    "    for i,image in enumerate(train_set):\n",
    "        x = Variable(torch.tensor(image,dtype=float))\n",
    "        mask = np.random.choice(100,50,replace=False)\n",
    "        b = image.flat[mask]\n",
    "        b = Variable(torch.tensor(b,dtype=float))\n",
    "        optimizer.zero_grad()\n",
    "        b_pred = torch.mv(A,x)\n",
    "        # loss = ((b_pred-b)**2).sum()\n",
    "        loss = loss_fn(b_pred,b).sum()\n",
    "        loss.backward()\n",
    "        optimizer.step()\n",
    "    if epoch % 100 == 0:\n",
    "        print(epoch,loss)"
   ]
  },
  {
   "cell_type": "code",
   "execution_count": 62,
   "metadata": {},
   "outputs": [
    {
     "name": "stdout",
     "output_type": "stream",
     "text": "tensor([[-2.7101e+44, -2.5797e+44, -7.3718e+44,  ...,  7.3656e+42,\n         -4.8579e+43, -7.1129e+36],\n        [ 1.7838e+44,  1.6980e+44,  4.8521e+44,  ..., -4.8480e+42,\n          3.1974e+43,  4.6817e+36],\n        [-3.8282e+44, -3.6440e+44, -1.0413e+45,  ...,  1.0404e+43,\n         -6.8621e+43, -1.0047e+37],\n        ...,\n        [-2.4172e+43, -2.3009e+43, -6.5751e+43,  ...,  6.5696e+41,\n         -4.3329e+42, -6.3442e+35],\n        [ 6.5795e+43,  6.2630e+43,  1.7897e+44,  ..., -1.7882e+42,\n          1.1794e+43,  1.7269e+36],\n        [ 1.1082e+44,  1.0549e+44,  3.0144e+44,  ..., -3.0119e+42,\n          1.9864e+43,  2.9086e+36]], dtype=torch.float64)\n0 tensor(2.8935e+92, dtype=torch.float64, grad_fn=<SumBackward0>)\n1 tensor(3.4162e+271, dtype=torch.float64, grad_fn=<SumBackward0>)\n"
    }
   ],
   "source": [
    "print(A)\n",
    "num = 2\n",
    "origin_x = Variable(torch.randn(100,dtype=float),requires_grad=True)\n",
    "A.requires_grad = False\n",
    "optimizer = optim.SGD([origin_x],lr = 0.001)\n",
    "x = Variable(torch.tensor(test_set[num],dtype=float))\n",
    "mask = np.random.choice(100,50,replace=False)\n",
    "b = test_set[num].flat[mask]\n",
    "b = Variable(torch.tensor(b,dtype=float))\n",
    "for i in range(2):\n",
    "    optimizer.zero_grad()\n",
    "    b_pred = torch.mv(A,origin_x)\n",
    "    loss = ((b_pred-b)**2).sum()\n",
    "    loss.backward()\n",
    "    optimizer.step()\n",
    "    print(i,loss)"
   ]
  },
  {
   "cell_type": "code",
   "execution_count": 63,
   "metadata": {},
   "outputs": [
    {
     "data": {
      "image/png": "[encoded data removed]",
      "image/svg+xml": "<?xml version=\"1.0\" encoding=\"utf-8\" standalone=\"no\"?>\n<!DOCTYPE svg PUBLIC \"-//W3C//DTD SVG 1.1//EN\"\n  \"http://www.w3.org/Graphics/SVG/1.1/DTD/svg11.dtd\">\n<!-- Created with matplotlib (https://matplotlib.org/) -->\n<svg height=\"183.259943pt\" version=\"1.1\" viewBox=\"0 0 362.5625 183.259943\" width=\"362.5625pt\" xmlns=\"http://www.w3.org/2000/svg\" xmlns:xlink=\"http://www.w3.org/1999/xlink\">\n <defs>\n  <style type=\"text/css\">\n*{stroke-linecap:butt;stroke-linejoin:round;white-space:pre;}\n  </style>\n </defs>\n <g id=\"figure_1\">\n  <g id=\"patch_1\">\n   <path d=\"M 0 183.259943 \nL 362.5625 183.259943 \nL 362.5625 0 \nL 0 0 \nz\n\" style=\"fill:none;\"/>\n  </g>\n  <g id=\"axes_1\">\n   <g id=\"patch_2\">\n    <path d=\"M 20.5625 159.381818 \nL 172.744318 159.381818 \nL 172.744318 7.2 \nL 20.5625 7.2 \nz\n\" style=\"fill:#ffffff;\"/>\n   </g>\n   <g clip-path=\"url(#p25799a5f71)\">\n    <image height=\"153\" id=\"image0e461bd444\" transform=\"scale(1 -1)translate(0 -153)\" width=\"153\" x=\"20.5625\" xlink:href=\"data:image/png;base64,\niVBORw0KGgoAAAANSUhEUgAAAJkAAACZCAYAAAA8XJi6AAAABHNCSVQICAgIfAhkiAAAA7FJREFUeJzt3T9rnWUcxvHfOTmkrelJoaI2i4INrWgRBMFBlE7+HRT0FfgK3BwcHNz8g6+hS51cpUMHB3VQQUUFKxFtHRKVKjSmWExyHHwD8ru5CNHPZ7+4Q/LNM908z+TJs68squn9D97rTquq6umzjw3tu/a3tw/k3P+r6UH/APz3iYw4kREnMuJERpzIiBMZcSIjTmTEiYw4kREnMuJERpzIiJvtrxxtj585/8LQ4b8/d0d7e/KTX9vbw/qfNXJFaenM6aGz9777vr09rL9vDhGREScy4kRGnMiIExlxIiNOZMSJjDiREScy4kRGnMiIExlxIiNutrR1vT1ezFeGDp9fvdXe/nz+zvZ29drJ9va2L39qb6uq9k7d3h9//k3/3IH7YFVV0/m8vx06Gf4FkREnMuJERpzIiBMZcSIjTmTEiYw4kREnMuJERpzIiBMZcbORqyeLgasnVVWzzf71kdWV+9rbox99297efLR/blXV8qVPh/YHZeS1VZ5kxImMOJERJzLiREacyIgTGXEiI05kxImMOJERJzLiREacyIibPX7hs/b4wxfPDR0+8qaZkes620/c396e+Phqe1tVtTuwna2d6p+7uTVwctXkoQfaW08y4kRGnMiIExlxIiNOZMSJjDiREScy4kRGnMiIExlxIiNOZMSJjLjJvW++veiOVzfGDr+x3t+efvdGezvyZbz9P3ba26qqyVr/63Z/3bXa3s6+GPtjTY/3vwjoSUacyIgTGXEiI05kxImMOJERJzLiREacyIgTGXEiI05kxImMuNmZd35oj0e+MFdVdeup/vbH50+0t/e81v+63XTe/7Jd1djrspZW+q9vGrliVFW1O/Bze5IRJzLiREacyIgTGXEiI05kxImMOJERJzLiREacyIgTGXEiI2525a219nh97Zehwx88crO9vXKp/4aboS+eDbwRqKpqsX53e7t3fLm9nWxca2+rxq44eZIRJzLiREacyIgTGXEiI05kxImMOJERJzLiREacyIgTGXEiI2525Otj7fHLj1weOvzVN15qb49d329vpzt/treLef9DVlVjV26WBz6i1f9t/WPkrUCeZMSJjDiREScy4kRGnMiIExlxIiNOZMSJjDiREScy4kRGnMiIExlxk9e/enbRHV/ceHjo8J3f+nfZ1i/stbfLG5vt7e7mVntbNfgKpoH7ZKP34Ea+budJRpzIiBMZcSIjTmTEiYw4kREnMuJERpzIiBMZcSIjTmTEiYy4vwGdFH/evkYQtgAAAABJRU5ErkJggg==\" y=\"-6.381818\"/>\n   </g>\n   <g id=\"matplotlib.axis_1\">\n    <g id=\"xtick_1\">\n     <g id=\"line2d_1\">\n      <defs>\n       <path d=\"M 0 0 \nL 0 3.5 \n\" id=\"m3e0d05a331\" style=\"stroke:#000000;stroke-width:0.8;\"/>\n      </defs>\n      <g>\n       <use style=\"stroke:#000000;stroke-width:0.8;\" x=\"28.171591\" xlink:href=\"#m3e0d05a331\" y=\"159.381818\"/>\n      </g>\n     </g>\n     <g id=\"text_1\">\n      <!-- 0 -->\n      <defs>\n       <path d=\"M 31.78125 66.40625 \nQ 24.171875 66.40625 20.328125 58.90625 \nQ 16.5 51.421875 16.5 36.375 \nQ 16.5 21.390625 20.328125 13.890625 \nQ 24.171875 6.390625 31.78125 6.390625 \nQ 39.453125 6.390625 43.28125 13.890625 \nQ 47.125 21.390625 47.125 36.375 \nQ 47.125 51.421875 43.28125 58.90625 \nQ 39.453125 66.40625 31.78125 66.40625 \nz\nM 31.78125 74.21875 \nQ 44.046875 74.21875 50.515625 64.515625 \nQ 56.984375 54.828125 56.984375 36.375 \nQ 56.984375 17.96875 50.515625 8.265625 \nQ 44.046875 -1.421875 31.78125 -1.421875 \nQ 19.53125 -1.421875 13.0625 8.265625 \nQ 6.59375 17.96875 6.59375 36.375 \nQ 6.59375 54.828125 13.0625 64.515625 \nQ 19.53125 74.21875 31.78125 74.21875 \nz\n\" id=\"DejaVuSans-48\"/>\n      </defs>\n      <g transform=\"translate(24.990341 173.980256)scale(0.1 -0.1)\">\n       <use xlink:href=\"#DejaVuSans-48\"/>\n      </g>\n     </g>\n    </g>\n    <g id=\"xtick_2\">\n     <g id=\"line2d_2\">\n      <g>\n       <use style=\"stroke:#000000;stroke-width:0.8;\" x=\"58.607955\" xlink:href=\"#m3e0d05a331\" y=\"159.381818\"/>\n      </g>\n     </g>\n     <g id=\"text_2\">\n      <!-- 2 -->\n      <defs>\n       <path d=\"M 19.1875 8.296875 \nL 53.609375 8.296875 \nL 53.609375 0 \nL 7.328125 0 \nL 7.328125 8.296875 \nQ 12.9375 14.109375 22.625 23.890625 \nQ 32.328125 33.6875 34.8125 36.53125 \nQ 39.546875 41.84375 41.421875 45.53125 \nQ 43.3125 49.21875 43.3125 52.78125 \nQ 43.3125 58.59375 39.234375 62.25 \nQ 35.15625 65.921875 28.609375 65.921875 \nQ 23.96875 65.921875 18.8125 64.3125 \nQ 13.671875 62.703125 7.8125 59.421875 \nL 7.8125 69.390625 \nQ 13.765625 71.78125 18.9375 73 \nQ 24.125 74.21875 28.421875 74.21875 \nQ 39.75 74.21875 46.484375 68.546875 \nQ 53.21875 62.890625 53.21875 53.421875 \nQ 53.21875 48.921875 51.53125 44.890625 \nQ 49.859375 40.875 45.40625 35.40625 \nQ 44.1875 33.984375 37.640625 27.21875 \nQ 31.109375 20.453125 19.1875 8.296875 \nz\n\" id=\"DejaVuSans-50\"/>\n      </defs>\n      <g transform=\"translate(55.426705 173.980256)scale(0.1 -0.1)\">\n       <use xlink:href=\"#DejaVuSans-50\"/>\n      </g>\n     </g>\n    </g>\n    <g id=\"xtick_3\">\n     <g id=\"line2d_3\">\n      <g>\n       <use style=\"stroke:#000000;stroke-width:0.8;\" x=\"89.044318\" xlink:href=\"#m3e0d05a331\" y=\"159.381818\"/>\n      </g>\n     </g>\n     <g id=\"text_3\">\n      <!-- 4 -->\n      <defs>\n       <path d=\"M 37.796875 64.3125 \nL 12.890625 25.390625 \nL 37.796875 25.390625 \nz\nM 35.203125 72.90625 \nL 47.609375 72.90625 \nL 47.609375 25.390625 \nL 58.015625 25.390625 \nL 58.015625 17.1875 \nL 47.609375 17.1875 \nL 47.609375 0 \nL 37.796875 0 \nL 37.796875 17.1875 \nL 4.890625 17.1875 \nL 4.890625 26.703125 \nz\n\" id=\"DejaVuSans-52\"/>\n      </defs>\n      <g transform=\"translate(85.863068 173.980256)scale(0.1 -0.1)\">\n       <use xlink:href=\"#DejaVuSans-52\"/>\n      </g>\n     </g>\n    </g>\n    <g id=\"xtick_4\">\n     <g id=\"line2d_4\">\n      <g>\n       <use style=\"stroke:#000000;stroke-width:0.8;\" x=\"119.480682\" xlink:href=\"#m3e0d05a331\" y=\"159.381818\"/>\n      </g>\n     </g>\n     <g id=\"text_4\">\n      <!-- 6 -->\n      <defs>\n       <path d=\"M 33.015625 40.375 \nQ 26.375 40.375 22.484375 35.828125 \nQ 18.609375 31.296875 18.609375 23.390625 \nQ 18.609375 15.53125 22.484375 10.953125 \nQ 26.375 6.390625 33.015625 6.390625 \nQ 39.65625 6.390625 43.53125 10.953125 \nQ 47.40625 15.53125 47.40625 23.390625 \nQ 47.40625 31.296875 43.53125 35.828125 \nQ 39.65625 40.375 33.015625 40.375 \nz\nM 52.59375 71.296875 \nL 52.59375 62.3125 \nQ 48.875 64.0625 45.09375 64.984375 \nQ 41.3125 65.921875 37.59375 65.921875 \nQ 27.828125 65.921875 22.671875 59.328125 \nQ 17.53125 52.734375 16.796875 39.40625 \nQ 19.671875 43.65625 24.015625 45.921875 \nQ 28.375 48.1875 33.59375 48.1875 \nQ 44.578125 48.1875 50.953125 41.515625 \nQ 57.328125 34.859375 57.328125 23.390625 \nQ 57.328125 12.15625 50.6875 5.359375 \nQ 44.046875 -1.421875 33.015625 -1.421875 \nQ 20.359375 -1.421875 13.671875 8.265625 \nQ 6.984375 17.96875 6.984375 36.375 \nQ 6.984375 53.65625 15.1875 63.9375 \nQ 23.390625 74.21875 37.203125 74.21875 \nQ 40.921875 74.21875 44.703125 73.484375 \nQ 48.484375 72.75 52.59375 71.296875 \nz\n\" id=\"DejaVuSans-54\"/>\n      </defs>\n      <g transform=\"translate(116.299432 173.980256)scale(0.1 -0.1)\">\n       <use xlink:href=\"#DejaVuSans-54\"/>\n      </g>\n     </g>\n    </g>\n    <g id=\"xtick_5\">\n     <g id=\"line2d_5\">\n      <g>\n       <use style=\"stroke:#000000;stroke-width:0.8;\" x=\"149.917045\" xlink:href=\"#m3e0d05a331\" y=\"159.381818\"/>\n      </g>\n     </g>\n     <g id=\"text_5\">\n      <!-- 8 -->\n      <defs>\n       <path d=\"M 31.78125 34.625 \nQ 24.75 34.625 20.71875 30.859375 \nQ 16.703125 27.09375 16.703125 20.515625 \nQ 16.703125 13.921875 20.71875 10.15625 \nQ 24.75 6.390625 31.78125 6.390625 \nQ 38.8125 6.390625 42.859375 10.171875 \nQ 46.921875 13.96875 46.921875 20.515625 \nQ 46.921875 27.09375 42.890625 30.859375 \nQ 38.875 34.625 31.78125 34.625 \nz\nM 21.921875 38.8125 \nQ 15.578125 40.375 12.03125 44.71875 \nQ 8.5 49.078125 8.5 55.328125 \nQ 8.5 64.0625 14.71875 69.140625 \nQ 20.953125 74.21875 31.78125 74.21875 \nQ 42.671875 74.21875 48.875 69.140625 \nQ 55.078125 64.0625 55.078125 55.328125 \nQ 55.078125 49.078125 51.53125 44.71875 \nQ 48 40.375 41.703125 38.8125 \nQ 48.828125 37.15625 52.796875 32.3125 \nQ 56.78125 27.484375 56.78125 20.515625 \nQ 56.78125 9.90625 50.3125 4.234375 \nQ 43.84375 -1.421875 31.78125 -1.421875 \nQ 19.734375 -1.421875 13.25 4.234375 \nQ 6.78125 9.90625 6.78125 20.515625 \nQ 6.78125 27.484375 10.78125 32.3125 \nQ 14.796875 37.15625 21.921875 38.8125 \nz\nM 18.3125 54.390625 \nQ 18.3125 48.734375 21.84375 45.5625 \nQ 25.390625 42.390625 31.78125 42.390625 \nQ 38.140625 42.390625 41.71875 45.5625 \nQ 45.3125 48.734375 45.3125 54.390625 \nQ 45.3125 60.0625 41.71875 63.234375 \nQ 38.140625 66.40625 31.78125 66.40625 \nQ 25.390625 66.40625 21.84375 63.234375 \nQ 18.3125 60.0625 18.3125 54.390625 \nz\n\" id=\"DejaVuSans-56\"/>\n      </defs>\n      <g transform=\"translate(146.735795 173.980256)scale(0.1 -0.1)\">\n       <use xlink:href=\"#DejaVuSans-56\"/>\n      </g>\n     </g>\n    </g>\n   </g>\n   <g id=\"matplotlib.axis_2\">\n    <g id=\"ytick_1\">\n     <g id=\"line2d_6\">\n      <defs>\n       <path d=\"M 0 0 \nL -3.5 0 \n\" id=\"mf4cb2f16e1\" style=\"stroke:#000000;stroke-width:0.8;\"/>\n      </defs>\n      <g>\n       <use style=\"stroke:#000000;stroke-width:0.8;\" x=\"20.5625\" xlink:href=\"#mf4cb2f16e1\" y=\"14.809091\"/>\n      </g>\n     </g>\n     <g id=\"text_6\">\n      <!-- 0 -->\n      <g transform=\"translate(7.2 18.60831)scale(0.1 -0.1)\">\n       <use xlink:href=\"#DejaVuSans-48\"/>\n      </g>\n     </g>\n    </g>\n    <g id=\"ytick_2\">\n     <g id=\"line2d_7\">\n      <g>\n       <use style=\"stroke:#000000;stroke-width:0.8;\" x=\"20.5625\" xlink:href=\"#mf4cb2f16e1\" y=\"45.245455\"/>\n      </g>\n     </g>\n     <g id=\"text_7\">\n      <!-- 2 -->\n      <g transform=\"translate(7.2 49.044673)scale(0.1 -0.1)\">\n       <use xlink:href=\"#DejaVuSans-50\"/>\n      </g>\n     </g>\n    </g>\n    <g id=\"ytick_3\">\n     <g id=\"line2d_8\">\n      <g>\n       <use style=\"stroke:#000000;stroke-width:0.8;\" x=\"20.5625\" xlink:href=\"#mf4cb2f16e1\" y=\"75.681818\"/>\n      </g>\n     </g>\n     <g id=\"text_8\">\n      <!-- 4 -->\n      <g transform=\"translate(7.2 79.481037)scale(0.1 -0.1)\">\n       <use xlink:href=\"#DejaVuSans-52\"/>\n      </g>\n     </g>\n    </g>\n    <g id=\"ytick_4\">\n     <g id=\"line2d_9\">\n      <g>\n       <use style=\"stroke:#000000;stroke-width:0.8;\" x=\"20.5625\" xlink:href=\"#mf4cb2f16e1\" y=\"106.118182\"/>\n      </g>\n     </g>\n     <g id=\"text_9\">\n      <!-- 6 -->\n      <g transform=\"translate(7.2 109.917401)scale(0.1 -0.1)\">\n       <use xlink:href=\"#DejaVuSans-54\"/>\n      </g>\n     </g>\n    </g>\n    <g id=\"ytick_5\">\n     <g id=\"line2d_10\">\n      <g>\n       <use style=\"stroke:#000000;stroke-width:0.8;\" x=\"20.5625\" xlink:href=\"#mf4cb2f16e1\" y=\"136.554545\"/>\n      </g>\n     </g>\n     <g id=\"text_10\">\n      <!-- 8 -->\n      <g transform=\"translate(7.2 140.353764)scale(0.1 -0.1)\">\n       <use xlink:href=\"#DejaVuSans-56\"/>\n      </g>\n     </g>\n    </g>\n   </g>\n   <g id=\"patch_3\">\n    <path d=\"M 20.5625 159.381818 \nL 20.5625 7.2 \n\" style=\"fill:none;stroke:#000000;stroke-linecap:square;stroke-linejoin:miter;stroke-width:0.8;\"/>\n   </g>\n   <g id=\"patch_4\">\n    <path d=\"M 172.744318 159.381818 \nL 172.744318 7.2 \n\" style=\"fill:none;stroke:#000000;stroke-linecap:square;stroke-linejoin:miter;stroke-width:0.8;\"/>\n   </g>\n   <g id=\"patch_5\">\n    <path d=\"M 20.5625 159.381818 \nL 172.744318 159.381818 \n\" style=\"fill:none;stroke:#000000;stroke-linecap:square;stroke-linejoin:miter;stroke-width:0.8;\"/>\n   </g>\n   <g id=\"patch_6\">\n    <path d=\"M 20.5625 7.2 \nL 172.744318 7.2 \n\" style=\"fill:none;stroke:#000000;stroke-linecap:square;stroke-linejoin:miter;stroke-width:0.8;\"/>\n   </g>\n  </g>\n  <g id=\"axes_2\">\n   <g id=\"patch_7\">\n    <path d=\"M 203.180682 159.381818 \nL 355.3625 159.381818 \nL 355.3625 7.2 \nL 203.180682 7.2 \nz\n\" style=\"fill:#ffffff;\"/>\n   </g>\n   <g clip-path=\"url(#p05136c7aee)\">\n    <image height=\"153\" id=\"imaged281ea5e9d\" transform=\"scale(1 -1)translate(0 -153)\" width=\"153\" x=\"203.180682\" xlink:href=\"data:image/png;base64,\niVBORw0KGgoAAAANSUhEUgAAAJkAAACZCAYAAAA8XJi6AAAABHNCSVQICAgIfAhkiAAAA65JREFUeJzt3TtunGUYhuF3xmNi49hJcLDkykUCQSIU1EgIQQFboKMAUVJw2AA0NGyABbAEUrMCEAgMQoCEcgJLxDY2UszMULCB6P30yAJdV//o8+Gev/r0z+TVpz9YVtN37293p1VV9cy7++3tdGuzvV0cHbe352o+b0+nVy4PHT3yN5sOnQyPQGTEiYw4kREnMuJERpzIiBMZcSIjTmTEiYw4kREnMuJERtzktWvvta/6LC6uDR0+37jQ3q5881N7uzjuX1tZuXG9va2qWv56pz9eWRk6+7x4khEnMuJERpzIiBMZcSIjTmTEiYw4kREnMuJERpzIiBMZcSIjTmTEzf6+2n8F06R9E+1fq7/cb2/nN/b6B88GPls/3+tvq/6zd8JGeJIRJzLiREacyIgTGXEiI05kxImMOJERJzLiREacyIgTGXEiI262HLj2MjlbDB2++ONBe7sycGXm9Nnd9nb9Uv9qVFVVHf/Zno5809t5fjOeJxlxIiNOZMSJjDiREScy4kRGnMiIExlxIiNOZMSJjDiREScy4ibzu9fb7+Z54Z23hw7fuvVtf3x21p5ONgfeZDQbeyvPcnOjf/bJX+2tqz78r4mMOJERJzLiREacyIgTGXEiI05kxImMOJERJzLiREacyIgTGXGzl958qz3+/cWxRrdu9bfT7Sfa26G7Vbs7/e2g5cP+HbrpxuNDZy9OTvtnD50Mj0BkxImMOJERJzLiREacyIgTGXEiI05kxImMOJERJzLiREbcbP3OSXt87bP2W6eqquq312+2t5d/fNjerh71rwlNbx+0t1WDr44aeG3VYudKe1tVNbnX/197khEnMuJERpzIiBMZcSIjTmTEiYw4kREnMuJERpzIiBMZcSIjblaLRXt8/6Oxqz7P73zd3u5/0r8mtPb93fa2lmO/89nuVns7W3+svZ0eHLa3VVWL0/431HmSEScy4kRGnMiIExlxIiNOZMSJjDiREScy4kRGnMiIExlxIiNuNjK++eTAlZmq+urT59rb1ZX+lZuDl/fa2+3Pf2hvq6pW92+3t8vDo/b25JX+37qqauPL/s/tSUacyIgTGXEiI05kxImMOJERJzLiREacyIgTGXEiI05kxImMOJERNzt+6lJ7fPJx/zVIVVVnbzxob69+2P98nOxdbG8Xh8ftbVXVZO1Cf7y62p6uf7HfP7eqFvN5e+tJRpzIiBMZcSIjTmTEiYw4kREnMuJERpzIiBMZcSIjTmTEiYy4fwC9/oJmenymSAAAAABJRU5ErkJggg==\" y=\"-6.381818\"/>\n   </g>\n   <g id=\"matplotlib.axis_3\">\n    <g id=\"xtick_6\">\n     <g id=\"line2d_11\">\n      <g>\n       <use style=\"stroke:#000000;stroke-width:0.8;\" x=\"210.789773\" xlink:href=\"#m3e0d05a331\" y=\"159.381818\"/>\n      </g>\n     </g>\n     <g id=\"text_11\">\n      <!-- 0 -->\n      <g transform=\"translate(207.608523 173.980256)scale(0.1 -0.1)\">\n       <use xlink:href=\"#DejaVuSans-48\"/>\n      </g>\n     </g>\n    </g>\n    <g id=\"xtick_7\">\n     <g id=\"line2d_12\">\n      <g>\n       <use style=\"stroke:#000000;stroke-width:0.8;\" x=\"241.226136\" xlink:href=\"#m3e0d05a331\" y=\"159.381818\"/>\n      </g>\n     </g>\n     <g id=\"text_12\">\n      <!-- 2 -->\n      <g transform=\"translate(238.044886 173.980256)scale(0.1 -0.1)\">\n       <use xlink:href=\"#DejaVuSans-50\"/>\n      </g>\n     </g>\n    </g>\n    <g id=\"xtick_8\">\n     <g id=\"line2d_13\">\n      <g>\n       <use style=\"stroke:#000000;stroke-width:0.8;\" x=\"271.6625\" xlink:href=\"#m3e0d05a331\" y=\"159.381818\"/>\n      </g>\n     </g>\n     <g id=\"text_13\">\n      <!-- 4 -->\n      <g transform=\"translate(268.48125 173.980256)scale(0.1 -0.1)\">\n       <use xlink:href=\"#DejaVuSans-52\"/>\n      </g>\n     </g>\n    </g>\n    <g id=\"xtick_9\">\n     <g id=\"line2d_14\">\n      <g>\n       <use style=\"stroke:#000000;stroke-width:0.8;\" x=\"302.098864\" xlink:href=\"#m3e0d05a331\" y=\"159.381818\"/>\n      </g>\n     </g>\n     <g id=\"text_14\">\n      <!-- 6 -->\n      <g transform=\"translate(298.917614 173.980256)scale(0.1 -0.1)\">\n       <use xlink:href=\"#DejaVuSans-54\"/>\n      </g>\n     </g>\n    </g>\n    <g id=\"xtick_10\">\n     <g id=\"line2d_15\">\n      <g>\n       <use style=\"stroke:#000000;stroke-width:0.8;\" x=\"332.535227\" xlink:href=\"#m3e0d05a331\" y=\"159.381818\"/>\n      </g>\n     </g>\n     <g id=\"text_15\">\n      <!-- 8 -->\n      <g transform=\"translate(329.353977 173.980256)scale(0.1 -0.1)\">\n       <use xlink:href=\"#DejaVuSans-56\"/>\n      </g>\n     </g>\n    </g>\n   </g>\n   <g id=\"matplotlib.axis_4\">\n    <g id=\"ytick_6\">\n     <g id=\"line2d_16\">\n      <g>\n       <use style=\"stroke:#000000;stroke-width:0.8;\" x=\"203.180682\" xlink:href=\"#mf4cb2f16e1\" y=\"14.809091\"/>\n      </g>\n     </g>\n     <g id=\"text_16\">\n      <!-- 0 -->\n      <g transform=\"translate(189.818182 18.60831)scale(0.1 -0.1)\">\n       <use xlink:href=\"#DejaVuSans-48\"/>\n      </g>\n     </g>\n    </g>\n    <g id=\"ytick_7\">\n     <g id=\"line2d_17\">\n      <g>\n       <use style=\"stroke:#000000;stroke-width:0.8;\" x=\"203.180682\" xlink:href=\"#mf4cb2f16e1\" y=\"45.245455\"/>\n      </g>\n     </g>\n     <g id=\"text_17\">\n      <!-- 2 -->\n      <g transform=\"translate(189.818182 49.044673)scale(0.1 -0.1)\">\n       <use xlink:href=\"#DejaVuSans-50\"/>\n      </g>\n     </g>\n    </g>\n    <g id=\"ytick_8\">\n     <g id=\"line2d_18\">\n      <g>\n       <use style=\"stroke:#000000;stroke-width:0.8;\" x=\"203.180682\" xlink:href=\"#mf4cb2f16e1\" y=\"75.681818\"/>\n      </g>\n     </g>\n     <g id=\"text_18\">\n      <!-- 4 -->\n      <g transform=\"translate(189.818182 79.481037)scale(0.1 -0.1)\">\n       <use xlink:href=\"#DejaVuSans-52\"/>\n      </g>\n     </g>\n    </g>\n    <g id=\"ytick_9\">\n     <g id=\"line2d_19\">\n      <g>\n       <use style=\"stroke:#000000;stroke-width:0.8;\" x=\"203.180682\" xlink:href=\"#mf4cb2f16e1\" y=\"106.118182\"/>\n      </g>\n     </g>\n     <g id=\"text_19\">\n      <!-- 6 -->\n      <g transform=\"translate(189.818182 109.917401)scale(0.1 -0.1)\">\n       <use xlink:href=\"#DejaVuSans-54\"/>\n      </g>\n     </g>\n    </g>\n    <g id=\"ytick_10\">\n     <g id=\"line2d_20\">\n      <g>\n       <use style=\"stroke:#000000;stroke-width:0.8;\" x=\"203.180682\" xlink:href=\"#mf4cb2f16e1\" y=\"136.554545\"/>\n      </g>\n     </g>\n     <g id=\"text_20\">\n      <!-- 8 -->\n      <g transform=\"translate(189.818182 140.353764)scale(0.1 -0.1)\">\n       <use xlink:href=\"#DejaVuSans-56\"/>\n      </g>\n     </g>\n    </g>\n   </g>\n   <g id=\"patch_8\">\n    <path d=\"M 203.180682 159.381818 \nL 203.180682 7.2 \n\" style=\"fill:none;stroke:#000000;stroke-linecap:square;stroke-linejoin:miter;stroke-width:0.8;\"/>\n   </g>\n   <g id=\"patch_9\">\n    <path d=\"M 355.3625 159.381818 \nL 355.3625 7.2 \n\" style=\"fill:none;stroke:#000000;stroke-linecap:square;stroke-linejoin:miter;stroke-width:0.8;\"/>\n   </g>\n   <g id=\"patch_10\">\n    <path d=\"M 203.180682 159.381818 \nL 355.3625 159.381818 \n\" style=\"fill:none;stroke:#000000;stroke-linecap:square;stroke-linejoin:miter;stroke-width:0.8;\"/>\n   </g>\n   <g id=\"patch_11\">\n    <path d=\"M 203.180682 7.2 \nL 355.3625 7.2 \n\" style=\"fill:none;stroke:#000000;stroke-linecap:square;stroke-linejoin:miter;stroke-width:0.8;\"/>\n   </g>\n  </g>\n </g>\n <defs>\n  <clipPath id=\"p25799a5f71\">\n   <rect height=\"152.181818\" width=\"152.181818\" x=\"20.5625\" y=\"7.2\"/>\n  </clipPath>\n  <clipPath id=\"p05136c7aee\">\n   <rect height=\"152.181818\" width=\"152.181818\" x=\"203.180682\" y=\"7.2\"/>\n  </clipPath>\n </defs>\n</svg>\n",
      "text/plain": "<Figure size 432x288 with 2 Axes>"
     },
     "metadata": {
      "needs_background": "light"
     },
     "output_type": "display_data"
    },
    {
     "name": "stdout",
     "output_type": "stream",
     "text": "count     1.000000e+02\nmean     8.080464e+177\nstd                inf\nmin     -2.664855e+177\n25%      4.139862e+175\n50%      3.043234e+177\n75%      9.257098e+177\nmax      7.242988e+178\ndtype: float64\n"
    }
   ],
   "source": [
    "origin_x.detach()\n",
    "o_x = origin_x.detach().numpy()\n",
    "# plt.imshow(x.numpy())\n",
    "plt.subplot(1,2,1)\n",
    "plt.imshow(x.reshape(10,10))\n",
    "plt.subplot(1,2,2)\n",
    "plt.imshow(o_x.reshape(10,10))\n",
    "plt.show()\n",
    "# print(o_x.describe())\n",
    "print(pd.Series(o_x).describe())"
   ]
  },
  {
   "cell_type": "code",
   "execution_count": null,
   "metadata": {},
   "outputs": [],
   "source": [
    "print(train_set.shape)"
   ]
  },
  {
   "cell_type": "code",
   "execution_count": 64,
   "metadata": {},
   "outputs": [
    {
     "ename": "RuntimeError",
     "evalue": "grad can be implicitly created only for scalar outputs",
     "output_type": "error",
     "traceback": [
      "\u001b[0;31m---------------------------------------------------------------------------\u001b[0m",
      "\u001b[0;31mRuntimeError\u001b[0m                              Traceback (most recent call last)",
      "\u001b[0;32m<ipython-input-64-c2aed6412014>\u001b[0m in \u001b[0;36m<module>\u001b[0;34m\u001b[0m\n\u001b[1;32m     10\u001b[0m     \u001b[0mb_pred\u001b[0m \u001b[0;34m=\u001b[0m \u001b[0mtorch\u001b[0m\u001b[0;34m.\u001b[0m\u001b[0mmv\u001b[0m\u001b[0;34m(\u001b[0m\u001b[0mA\u001b[0m\u001b[0;34m,\u001b[0m\u001b[0mx\u001b[0m\u001b[0;34m)\u001b[0m\u001b[0;34m\u001b[0m\u001b[0;34m\u001b[0m\u001b[0m\n\u001b[1;32m     11\u001b[0m     \u001b[0mloss\u001b[0m \u001b[0;34m=\u001b[0m \u001b[0mloss_fn\u001b[0m\u001b[0;34m(\u001b[0m\u001b[0mb_pred\u001b[0m\u001b[0;34m,\u001b[0m\u001b[0mb\u001b[0m\u001b[0;34m)\u001b[0m\u001b[0;34m\u001b[0m\u001b[0;34m\u001b[0m\u001b[0m\n\u001b[0;32m---> 12\u001b[0;31m     \u001b[0mloss\u001b[0m\u001b[0;34m.\u001b[0m\u001b[0mbackward\u001b[0m\u001b[0;34m(\u001b[0m\u001b[0;34m)\u001b[0m\u001b[0;34m\u001b[0m\u001b[0;34m\u001b[0m\u001b[0m\n\u001b[0m\u001b[1;32m     13\u001b[0m     \u001b[0moptimizer\u001b[0m\u001b[0;34m.\u001b[0m\u001b[0mstep\u001b[0m\u001b[0;34m(\u001b[0m\u001b[0;34m)\u001b[0m\u001b[0;34m\u001b[0m\u001b[0;34m\u001b[0m\u001b[0m\n\u001b[1;32m     14\u001b[0m     \u001b[0;32mif\u001b[0m \u001b[0mepoch\u001b[0m \u001b[0;34m%\u001b[0m \u001b[0;36m5\u001b[0m \u001b[0;34m==\u001b[0m \u001b[0;36m0\u001b[0m\u001b[0;34m:\u001b[0m\u001b[0;34m\u001b[0m\u001b[0;34m\u001b[0m\u001b[0m\n",
      "\u001b[0;32m~/.pyenv/versions/anaconda3-2019.03/envs/skleran23/lib/python3.7/site-packages/torch/tensor.py\u001b[0m in \u001b[0;36mbackward\u001b[0;34m(self, gradient, retain_graph, create_graph)\u001b[0m\n\u001b[1;32m    193\u001b[0m                 \u001b[0mproducts\u001b[0m\u001b[0;34m.\u001b[0m \u001b[0mDefaults\u001b[0m \u001b[0mto\u001b[0m\u001b[0;31m \u001b[0m\u001b[0;31m`\u001b[0m\u001b[0;31m`\u001b[0m\u001b[0;32mFalse\u001b[0m\u001b[0;31m`\u001b[0m\u001b[0;31m`\u001b[0m\u001b[0;34m.\u001b[0m\u001b[0;34m\u001b[0m\u001b[0;34m\u001b[0m\u001b[0m\n\u001b[1;32m    194\u001b[0m         \"\"\"\n\u001b[0;32m--> 195\u001b[0;31m         \u001b[0mtorch\u001b[0m\u001b[0;34m.\u001b[0m\u001b[0mautograd\u001b[0m\u001b[0;34m.\u001b[0m\u001b[0mbackward\u001b[0m\u001b[0;34m(\u001b[0m\u001b[0mself\u001b[0m\u001b[0;34m,\u001b[0m \u001b[0mgradient\u001b[0m\u001b[0;34m,\u001b[0m \u001b[0mretain_graph\u001b[0m\u001b[0;34m,\u001b[0m \u001b[0mcreate_graph\u001b[0m\u001b[0;34m)\u001b[0m\u001b[0;34m\u001b[0m\u001b[0;34m\u001b[0m\u001b[0m\n\u001b[0m\u001b[1;32m    196\u001b[0m \u001b[0;34m\u001b[0m\u001b[0m\n\u001b[1;32m    197\u001b[0m     \u001b[0;32mdef\u001b[0m \u001b[0mregister_hook\u001b[0m\u001b[0;34m(\u001b[0m\u001b[0mself\u001b[0m\u001b[0;34m,\u001b[0m \u001b[0mhook\u001b[0m\u001b[0;34m)\u001b[0m\u001b[0;34m:\u001b[0m\u001b[0;34m\u001b[0m\u001b[0;34m\u001b[0m\u001b[0m\n",
      "\u001b[0;32m~/.pyenv/versions/anaconda3-2019.03/envs/skleran23/lib/python3.7/site-packages/torch/autograd/__init__.py\u001b[0m in \u001b[0;36mbackward\u001b[0;34m(tensors, grad_tensors, retain_graph, create_graph, grad_variables)\u001b[0m\n\u001b[1;32m     91\u001b[0m         \u001b[0mgrad_tensors\u001b[0m \u001b[0;34m=\u001b[0m \u001b[0mlist\u001b[0m\u001b[0;34m(\u001b[0m\u001b[0mgrad_tensors\u001b[0m\u001b[0;34m)\u001b[0m\u001b[0;34m\u001b[0m\u001b[0;34m\u001b[0m\u001b[0m\n\u001b[1;32m     92\u001b[0m \u001b[0;34m\u001b[0m\u001b[0m\n\u001b[0;32m---> 93\u001b[0;31m     \u001b[0mgrad_tensors\u001b[0m \u001b[0;34m=\u001b[0m \u001b[0m_make_grads\u001b[0m\u001b[0;34m(\u001b[0m\u001b[0mtensors\u001b[0m\u001b[0;34m,\u001b[0m \u001b[0mgrad_tensors\u001b[0m\u001b[0;34m)\u001b[0m\u001b[0;34m\u001b[0m\u001b[0;34m\u001b[0m\u001b[0m\n\u001b[0m\u001b[1;32m     94\u001b[0m     \u001b[0;32mif\u001b[0m \u001b[0mretain_graph\u001b[0m \u001b[0;32mis\u001b[0m \u001b[0;32mNone\u001b[0m\u001b[0;34m:\u001b[0m\u001b[0;34m\u001b[0m\u001b[0;34m\u001b[0m\u001b[0m\n\u001b[1;32m     95\u001b[0m         \u001b[0mretain_graph\u001b[0m \u001b[0;34m=\u001b[0m \u001b[0mcreate_graph\u001b[0m\u001b[0;34m\u001b[0m\u001b[0;34m\u001b[0m\u001b[0m\n",
      "\u001b[0;32m~/.pyenv/versions/anaconda3-2019.03/envs/skleran23/lib/python3.7/site-packages/torch/autograd/__init__.py\u001b[0m in \u001b[0;36m_make_grads\u001b[0;34m(outputs, grads)\u001b[0m\n\u001b[1;32m     32\u001b[0m             \u001b[0;32mif\u001b[0m \u001b[0mout\u001b[0m\u001b[0;34m.\u001b[0m\u001b[0mrequires_grad\u001b[0m\u001b[0;34m:\u001b[0m\u001b[0;34m\u001b[0m\u001b[0;34m\u001b[0m\u001b[0m\n\u001b[1;32m     33\u001b[0m                 \u001b[0;32mif\u001b[0m \u001b[0mout\u001b[0m\u001b[0;34m.\u001b[0m\u001b[0mnumel\u001b[0m\u001b[0;34m(\u001b[0m\u001b[0;34m)\u001b[0m \u001b[0;34m!=\u001b[0m \u001b[0;36m1\u001b[0m\u001b[0;34m:\u001b[0m\u001b[0;34m\u001b[0m\u001b[0;34m\u001b[0m\u001b[0m\n\u001b[0;32m---> 34\u001b[0;31m                     \u001b[0;32mraise\u001b[0m \u001b[0mRuntimeError\u001b[0m\u001b[0;34m(\u001b[0m\u001b[0;34m\"grad can be implicitly created only for scalar outputs\"\u001b[0m\u001b[0;34m)\u001b[0m\u001b[0;34m\u001b[0m\u001b[0;34m\u001b[0m\u001b[0m\n\u001b[0m\u001b[1;32m     35\u001b[0m                 \u001b[0mnew_grads\u001b[0m\u001b[0;34m.\u001b[0m\u001b[0mappend\u001b[0m\u001b[0;34m(\u001b[0m\u001b[0mtorch\u001b[0m\u001b[0;34m.\u001b[0m\u001b[0mones_like\u001b[0m\u001b[0;34m(\u001b[0m\u001b[0mout\u001b[0m\u001b[0;34m,\u001b[0m \u001b[0mmemory_format\u001b[0m\u001b[0;34m=\u001b[0m\u001b[0mtorch\u001b[0m\u001b[0;34m.\u001b[0m\u001b[0mpreserve_format\u001b[0m\u001b[0;34m)\u001b[0m\u001b[0;34m)\u001b[0m\u001b[0;34m\u001b[0m\u001b[0;34m\u001b[0m\u001b[0m\n\u001b[1;32m     36\u001b[0m             \u001b[0;32melse\u001b[0m\u001b[0;34m:\u001b[0m\u001b[0;34m\u001b[0m\u001b[0;34m\u001b[0m\u001b[0m\n",
      "\u001b[0;31mRuntimeError\u001b[0m: grad can be implicitly created only for scalar outputs"
     ]
    }
   ],
   "source": [
    "A = Variable(torch.randn(50,100,dtype=float),requires_grad=True)\n",
    "b = Variable(torch.tensor(b,dtype=float))\n",
    "x = Variable(torch.tensor(x,dtype=float))\n",
    "\n",
    "optimizer = optim.SGD([A],lr=0.01)\n",
    "\n",
    "num_epochs = 10000\n",
    "for epoch in range(num_epochs):\n",
    "    optimizer.zero_grad()\n",
    "    b_pred = torch.mv(A,x)\n",
    "    loss = ((b_pred-b)**2).sum()\n",
    "    loss.backward()\n",
    "    optimizer.step()\n",
    "    if epoch % 5 == 0:\n",
    "        print(epoch,loss)\n",
    "\n",
    "b_pred = torch.mv(A,x)\n",
    "print(b_pred)\n",
    "print(\"A:\\n\",A)"
   ]
  },
  {
   "cell_type": "code",
   "execution_count": null,
   "metadata": {},
   "outputs": [],
   "source": [
    "origin_x = Variable(torch.randn(100,dtype=float),requires_grad=True)\n",
    "optimizer = optim.SGD([origin_x],lr=0.01)\n",
    "\n",
    "num_epochs = 1\n",
    "for epoch in range(num_epochs):\n",
    "    optimizer.zero_grad()\n",
    "    b_pred = torch.mv(A,origin_x)\n",
    "    loss = ((b_pred-b)**2).sum()\n",
    "    loss.backward()\n",
    "    optimizer.step()\n",
    "\n",
    "    if epoch % 5 == 0:\n",
    "        print(epoch,loss)"
   ]
  },
  {
   "cell_type": "code",
   "execution_count": null,
   "metadata": {},
   "outputs": [],
   "source": [
    "origin_xx = Variable(torch.randn(100,dtype=float))\n",
    "plt.imshow(origin_xx.reshape(10,10))\n",
    "plt.show()"
   ]
  },
  {
   "cell_type": "code",
   "execution_count": null,
   "metadata": {},
   "outputs": [],
   "source": [
    "plt.subplot(1,2,1)\n",
    "plt.imshow(x.reshape(10,10))\n",
    "plt.subplot(1,2,2)\n",
    "plt.imshow(origin_x.detach().reshape(10,10))\n",
    "plt.show()"
   ]
  },
  {
   "cell_type": "code",
   "execution_count": null,
   "metadata": {},
   "outputs": [],
   "source": []
  }
 ]
}