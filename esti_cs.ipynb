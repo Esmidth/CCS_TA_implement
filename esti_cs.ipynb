{
 "nbformat": 4,
 "nbformat_minor": 2,
 "metadata": {
  "language_info": {
   "name": "python",
   "codemirror_mode": {
    "name": "ipython",
    "version": 3
   },
   "version": "3.8.1-final"
  },
  "orig_nbformat": 2,
  "file_extension": ".py",
  "mimetype": "text/x-python",
  "name": "python",
  "npconvert_exporter": "python",
  "pygments_lexer": "ipython3",
  "version": 3,
  "kernelspec": {
   "name": "python38164bitksvdconda6705ad8a9fcd4e0bb5affd2c5dde61db",
   "display_name": "Python 3.8.1 64-bit ('ksvd': conda)"
  }
 },
 "cells": [
  {
   "cell_type": "code",
   "execution_count": 1,
   "metadata": {},
   "outputs": [],
   "source": [
    "# 1\n",
    "%matplotlib inline\n",
    "import numpy as np\n",
    "import pandas as pd\n",
    "import matplotlib.pyplot as plt"
   ]
  },
  {
   "cell_type": "code",
   "execution_count": null,
   "metadata": {},
   "outputs": [],
   "source": [
    "a = np.array([1,2,3,4,5,6])"
   ]
  },
  {
   "cell_type": "code",
   "execution_count": null,
   "metadata": {},
   "outputs": [],
   "source": [
    "r = 10\n",
    "n = 30\n",
    "t = 20"
   ]
  },
  {
   "cell_type": "code",
   "execution_count": null,
   "metadata": {},
   "outputs": [],
   "source": [
    "Ir = np.eye(r)"
   ]
  },
  {
   "cell_type": "code",
   "execution_count": null,
   "metadata": {},
   "outputs": [],
   "source": [
    "L = np.random.randn(n,r)"
   ]
  },
  {
   "cell_type": "code",
   "execution_count": null,
   "metadata": {},
   "outputs": [],
   "source": [
    "L.shape"
   ]
  },
  {
   "cell_type": "code",
   "execution_count": 2,
   "metadata": {},
   "outputs": [],
   "source": [
    "# 2\n",
    "B = np.array([[0,1,1,0,1],[1,0,0,1,0],[0,1,1,0,0]])\n",
    "S = np.array([[1,2,3,4,5],[2,3,4,5,6],[3,4,5,6,7]])\n",
    "n = 3\n",
    "t = 5\n",
    "r = 3\n",
    "lam = 0.5\n",
    "MaxIter = 5\n",
    "L = np.random.randn(n,r)"
   ]
  },
  {
   "cell_type": "code",
   "execution_count": null,
   "metadata": {},
   "outputs": [],
   "source": [
    "B[:,1]"
   ]
  },
  {
   "cell_type": "code",
   "execution_count": null,
   "metadata": {},
   "outputs": [],
   "source": [
    "matrixB = np.matrix(B)"
   ]
  },
  {
   "cell_type": "code",
   "execution_count": null,
   "metadata": {},
   "outputs": [],
   "source": [
    "Bi = matrixB[:,3]"
   ]
  },
  {
   "cell_type": "code",
   "execution_count": null,
   "metadata": {},
   "outputs": [],
   "source": [
    "DiagB = np.diag(B[:,1])\n",
    "print(B[:,1])\n",
    "print(DiagB)"
   ]
  },
  {
   "cell_type": "code",
   "execution_count": 3,
   "metadata": {},
   "outputs": [],
   "source": [
    "# 3\n",
    "def myInverse(B,L,lambdaa,r,S):\n",
    "    Y = np.zeros_like(B)\n",
    "    Y = np.asmatrix(Y)\n",
    "    for i in range(B.shape[1]):\n",
    "        DiagBi = np.diag(B[:,i])\n",
    "        # print(i,DiagBi)\n",
    "        matrixS = np.matrix(S)\n",
    "        Up = L.T.dot(DiagBi.dot(DiagBi).dot(L)) + lambdaa*lambdaa*np.eye(r)\n",
    "        Down = (DiagBi.dot(L)).T.dot(matrixS[:,i])\n",
    "        Up = np.matrix(Up)\n",
    "        Yi = Up.I.dot(Down)\n",
    "        Y[:,i] = Yi\n",
    "        # print(S)\n",
    "        # print(matrixS[:,i])\n",
    "        # print(i,\"UP\\n\",Up)\n",
    "        # print(i,\"Down\\n\",Down)\n",
    "        # print(Yi)\n",
    "    return np.asarray(Y)"
   ]
  },
  {
   "cell_type": "code",
   "execution_count": 4,
   "metadata": {},
   "outputs": [
    {
     "output_type": "execute_result",
     "data": {
      "text/plain": "array([[ 1,  0,  0,  3,  1],\n       [ 0,  2,  3, -1,  1],\n       [ 0,  0,  0,  0,  1]])"
     },
     "metadata": {},
     "execution_count": 4
    }
   ],
   "source": [
    "# 4\n",
    "myInverse(B,L,lam,r,S)\n",
    "# print(B)"
   ]
  },
  {
   "cell_type": "code",
   "execution_count": null,
   "metadata": {},
   "outputs": [],
   "source": [
    "def ESTI_CS(S,B,r,lamb,MaxIter):\n",
    "    '''\n",
    "    S n*t: Sensory Matrix\n",
    "    B n*t: Binary index matrix\n",
    "    r: rank bound\n",
    "    lamb: tradeoff coefficient\n",
    "    MaxIter: iteration times\n",
    "    '''"
   ]
  },
  {
   "cell_type": "code",
   "execution_count": null,
   "metadata": {},
   "outputs": [],
   "source": [
    "PP = np.array([[2,1]])\n",
    "print(PP.T)"
   ]
  },
  {
   "cell_type": "code",
   "execution_count": null,
   "metadata": {},
   "outputs": [],
   "source": [
    "lam*lam*np.eye(r)"
   ]
  }
 ]
}