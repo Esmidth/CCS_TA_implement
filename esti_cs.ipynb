{
 "nbformat": 4,
 "nbformat_minor": 2,
 "metadata": {
  "language_info": {
   "name": "python",
   "codemirror_mode": {
    "name": "ipython",
    "version": 3
   },
   "version": "3.8.1-final"
  },
  "orig_nbformat": 2,
  "file_extension": ".py",
  "mimetype": "text/x-python",
  "name": "python",
  "npconvert_exporter": "python",
  "pygments_lexer": "ipython3",
  "version": 3,
  "kernelspec": {
   "name": "python38164bitksvdconda6705ad8a9fcd4e0bb5affd2c5dde61db",
   "display_name": "Python 3.8.1 64-bit ('ksvd': conda)"
  }
 },
 "cells": [
  {
   "cell_type": "code",
   "execution_count": 1,
   "metadata": {},
   "outputs": [],
   "source": [
    "# 1\n",
    "%matplotlib inline\n",
    "import numpy as np\n",
    "import pandas as pd\n",
    "import matplotlib.pyplot as plt"
   ]
  },
  {
   "cell_type": "code",
   "execution_count": null,
   "metadata": {},
   "outputs": [],
   "source": [
    "a = np.array([1,2,3,4,5,6])"
   ]
  },
  {
   "cell_type": "code",
   "execution_count": null,
   "metadata": {},
   "outputs": [],
   "source": [
    "r = 10\n",
    "n = 30\n",
    "t = 20"
   ]
  },
  {
   "cell_type": "code",
   "execution_count": null,
   "metadata": {},
   "outputs": [],
   "source": [
    "Ir = np.eye(r)"
   ]
  },
  {
   "cell_type": "code",
   "execution_count": null,
   "metadata": {},
   "outputs": [],
   "source": [
    "L = np.random.randn(n,r)"
   ]
  },
  {
   "cell_type": "code",
   "execution_count": null,
   "metadata": {},
   "outputs": [],
   "source": [
    "L.shape"
   ]
  },
  {
   "cell_type": "code",
   "execution_count": 109,
   "metadata": {},
   "outputs": [],
   "source": [
    "# 2\n",
    "# B = np.array([[0,1,1,0,1],[1,0,0,1,0],[0,1,1,0,0]])\n",
    "# S = np.array([[1,2,3,4,5],[2,3,4,5,6],[3,4,5,6,7]])\n",
    "# n = 3\n",
    "# t = 5\n",
    "r = 2\n",
    "lamb = 0.5\n",
    "MaxIter = 5\n",
    "# L = np.random.randn(n,r)"
   ]
  },
  {
   "cell_type": "code",
   "execution_count": null,
   "metadata": {},
   "outputs": [],
   "source": [
    "B[:,1]"
   ]
  },
  {
   "cell_type": "code",
   "execution_count": null,
   "metadata": {},
   "outputs": [],
   "source": [
    "matrixB = np.matrix(B)"
   ]
  },
  {
   "cell_type": "code",
   "execution_count": null,
   "metadata": {},
   "outputs": [],
   "source": [
    "Bi = matrixB[:,3]"
   ]
  },
  {
   "cell_type": "code",
   "execution_count": null,
   "metadata": {},
   "outputs": [],
   "source": [
    "DiagB = np.diag(B[:,1])\n",
    "print(B[:,1])\n",
    "print(DiagB)"
   ]
  },
  {
   "cell_type": "code",
   "execution_count": 43,
   "metadata": {},
   "outputs": [],
   "source": [
    "\n",
    "def myInverse(B,L,lamb,r,S):\n",
    "    Y = np.zeros_like(B)\n",
    "    Y = np.asmatrix(Y)\n",
    "    for i in range(B.shape[1]):\n",
    "        DiagBi = np.diag(B[:,i])\n",
    "        # print(i,DiagBi)\n",
    "        matrixS = np.matrix(S)\n",
    "        Up = L.T.dot(DiagBi.dot(DiagBi).dot(L)) + lamb*lamb*np.eye(r)\n",
    "        print(type(Up))\n",
    "        Down = (DiagBi.dot(L)).T.dot(matrixS[:,i])\n",
    "        Up = np.matrix(Up)\n",
    "        Yi = Up.I.dot(Down)\n",
    "        Y[:,i] = Yi\n",
    "        # print(S)\n",
    "        # print(matrixS[:,i])\n",
    "        # print(i,\"UP\\n\",Up)\n",
    "        # print(i,\"Down\\n\",Down)\n",
    "        # print(Yi)\n",
    "    return np.asarray(Y)"
   ]
  },
  {
   "cell_type": "code",
   "execution_count": 162,
   "metadata": {},
   "outputs": [],
   "source": [
    "# 将所有的array变为Matrix\n",
    "\n",
    "# 3\n",
    "def myInverse(B,L,lamb,r,S):\n",
    "    matrixS = np.matrix(S)\n",
    "    matrixL = np.matrix(L)\n",
    "    # B = np.matrix(B)\n",
    "    n = matrixS.shape[0]\n",
    "    t = matrixS.shape[1]\n",
    "    # print('n',n)\n",
    "    # print('t',t)\n",
    "    arrayB = np.array(B)\n",
    "    Y = np.zeros((t,r))\n",
    "    Y = np.asmatrix(Y)\n",
    "    # print(Y)\n",
    "    for i in range(t):\n",
    "        # print(np.array(B[:,i]))\n",
    "        # print(B[:,i].T)\n",
    "        DiagBi = np.diag(arrayB[:,i])\n",
    "        # print(DiagBi)\n",
    "        DiagBi = np.asmatrix(DiagBi)\n",
    "        # print(i,DiagBi.shape)\n",
    "        # print(i,matrixL.shape)\n",
    "        Up = matrixL.T * (DiagBi) * (DiagBi) * matrixL + lamb*lamb*np.eye(r)\n",
    "        Down = (DiagBi * L).T * matrixS[:,i] \n",
    "        # Up = np.matrix(Up)\n",
    "        Yi = Up.I.dot(Down)\n",
    "        # print(Yi)\n",
    "        # print(Yi)\n",
    "        # Y[:,i] = Yi\n",
    "        # print(Yi)\n",
    "        Y[i] = Yi.T\n",
    "        # print(i)\n",
    "        # print(S)\n",
    "        # print(matrixS[:,i])\n",
    "        # print(i,\"UP\\n\",Up)\n",
    "        # print(i,\"Down\\n\",Down)\n",
    "        # print(Yi)\n",
    "    return Y"
   ]
  },
  {
   "cell_type": "code",
   "execution_count": 146,
   "metadata": {},
   "outputs": [],
   "source": [
    "# 将所有的array变为Matrix\n",
    "\n",
    "# 3.1\n",
    "def myInverse(B,L,lamb,r,S):\n",
    "    matrixS = np.matrix(S)\n",
    "    matrixL = np.matrix(L)\n",
    "    # B = np.matrix(B)\n",
    "    n = matrixS.shape[0]\n",
    "    t = matrixS.shape[1]\n",
    "    print('n',n)\n",
    "    print('t',t)\n",
    "    arrayB = np.array(B)\n",
    "    Y = np.zeros((r,t))\n",
    "    Y = np.asmatrix(Y)\n",
    "    # print(Y)\n",
    "    for i in range(t):\n",
    "        # print(np.array(B[:,i]))\n",
    "        # print(B[:,i].T)\n",
    "        DiagBi = np.diag(arrayB[:,i])\n",
    "        # print(DiagBi)\n",
    "        DiagBi = np.asmatrix(DiagBi)\n",
    "        # print(i,DiagBi.shape)\n",
    "        # print(i,matrixL.shape)\n",
    "        Up = matrixL.T * (DiagBi) * (DiagBi) * matrixL + lamb*lamb*np.eye(r)\n",
    "        Down = (DiagBi * L).T * matrixS[:,i] \n",
    "        # Up = np.matrix(Up)\n",
    "        Yi = Up.I.dot(Down)\n",
    "        # print(Yi)\n",
    "        # print(Yi)\n",
    "        Y[:,i] = Yi\n",
    "        # print(Yi)\n",
    "        # Y[i] = Yi.T\n",
    "        # print(i)\n",
    "        # print(S)\n",
    "        # print(matrixS[:,i])\n",
    "        # print(i,\"UP\\n\",Up)\n",
    "        # print(i,\"Down\\n\",Down)\n",
    "        # print(Yi)\n",
    "    return np.asarray(Y)"
   ]
  },
  {
   "cell_type": "code",
   "execution_count": 136,
   "metadata": {},
   "outputs": [],
   "source": [
    "L = np.random.randn(n,r)"
   ]
  },
  {
   "cell_type": "code",
   "execution_count": 143,
   "metadata": {},
   "outputs": [
    {
     "output_type": "execute_result",
     "data": {
      "text/plain": "array([[ 1.38212559, -2.35127517],\n       [-1.05680175, -0.21411883],\n       [-0.32515165, -1.24068142]])"
     },
     "metadata": {},
     "execution_count": 143
    }
   ],
   "source": [
    "L"
   ]
  },
  {
   "cell_type": "code",
   "execution_count": 141,
   "metadata": {},
   "outputs": [
    {
     "output_type": "stream",
     "name": "stdout",
     "text": "n 3\nt 5\n0 (3, 3)\n0 (3, 2)\n1 (3, 3)\n1 (3, 2)\n2 (3, 3)\n2 (3, 2)\n3 (3, 3)\n3 (3, 2)\n4 (3, 3)\n4 (3, 2)\n[[-1.49616917 -1.98105853 -2.27458948 -3.74042292  0.89879545]\n [-0.30313916 -2.09135104 -2.69637669 -0.75784791 -1.52903284]]\n"
    }
   ],
   "source": [
    "# 4\n",
    "# L = np.random.randn(n,r)\n",
    "R = myInverse(B,L,lamb,r,S)\n",
    "print(R)"
   ]
  },
  {
   "cell_type": "code",
   "execution_count": 148,
   "metadata": {},
   "outputs": [
    {
     "output_type": "stream",
     "name": "stdout",
     "text": "n 5\nt 3\n0 (5, 5)\n0 (5, 2)\n1 (5, 5)\n1 (5, 2)\n2 (5, 5)\n2 (5, 2)\n[[ 1.34385199 -1.26531376 -0.89740536]\n [-2.23999383 -0.2563655  -1.06147026]]\n"
    }
   ],
   "source": [
    "MatrixL = myInverse(B.T,R.T,lamb,r,S.T)\n",
    "print(MatrixL)"
   ]
  },
  {
   "cell_type": "code",
   "execution_count": 68,
   "metadata": {},
   "outputs": [
    {
     "output_type": "stream",
     "name": "stdout",
     "text": "[[0 1 1 0 1]\n [1 0 0 1 0]\n [0 1 1 0 0]]\n"
    }
   ],
   "source": [
    "print(B)"
   ]
  },
  {
   "cell_type": "code",
   "execution_count": 208,
   "metadata": {},
   "outputs": [],
   "source": [
    "def ESTI_CS(MatrixS,MatrixB,r,lamb,MaxIter):\n",
    "    '''\n",
    "    para:\n",
    "\n",
    "    MatrixS n*t: Sensory Matrix\n",
    "    MatrixB n*t: Binary index matrix\n",
    "    r: rank bound\n",
    "    lamb: tradeoff coefficient\n",
    "    MaxIter: iteration times\n",
    "\n",
    "    return: \n",
    "    MatrixX: estimated environment matrix\n",
    "    '''\n",
    "    n = MatrixS.shape[0]\n",
    "    t = MatrixS.shape[1]\n",
    "    MatrixL = np.random.randn(n,r)\n",
    "    MatrixH = np.random.randn(n,n)\n",
    "    MatrixT = np.random.randn(t,t)\n",
    "    # print(MatrixL)\n",
    "    for i in range(MaxIter):\n",
    "        MatrixR = myInverse(MatrixB,MatrixL,lamb,r,MatrixS)\n",
    "        MatrixL = myInverse(MatrixB.T,MatrixR,lamb,r,MatrixS.T)\n",
    "        # print(i)\n",
    "        # print(MatrixR)\n",
    "        # print(MatrixL.shape)\n",
    "        # print(MatrixR.shape)\n",
    "        # Matrix_t1 = MatrixB * ,MatrixL * MatrixR.T\n",
    "        # print(MatrixB.shape)\n",
    "        # print(MatrixL*(MatrixR.T))\n",
    "        Matrix_t1 = np.multiply(MatrixB,MatrixL*MatrixR.T)\n",
    "        Matrix_t2 = MatrixH * MatrixL * MatrixR.T\n",
    "        # Matrix_t2 = np.multiply(MatrixH,MatrixL)\n",
    "        Matrix_t3 = MatrixL * MatrixR.T * MatrixT.T\n",
    "    return MatrixL*MatrixR.T\n",
    ""
   ]
  },
  {
   "cell_type": "code",
   "execution_count": 209,
   "metadata": {},
   "outputs": [],
   "source": [
    "Matrix_X = ESTI_CS(S,B,r,lamb,MaxIter)"
   ]
  },
  {
   "cell_type": "code",
   "execution_count": 202,
   "metadata": {},
   "outputs": [
    {
     "output_type": "execute_result",
     "data": {
      "text/plain": "array([[1, 2, 3, 4, 5],\n       [2, 3, 4, 5, 6],\n       [3, 4, 5, 6, 7]])"
     },
     "metadata": {},
     "execution_count": 202
    }
   ],
   "source": [
    "S"
   ]
  },
  {
   "cell_type": "code",
   "execution_count": 203,
   "metadata": {},
   "outputs": [
    {
     "output_type": "execute_result",
     "data": {
      "text/plain": "array([[0, 1, 1, 0, 1],\n       [1, 0, 0, 1, 0],\n       [0, 1, 1, 0, 0]])"
     },
     "metadata": {},
     "execution_count": 203
    }
   ],
   "source": [
    "B"
   ]
  },
  {
   "cell_type": "code",
   "execution_count": 204,
   "metadata": {},
   "outputs": [
    {
     "output_type": "execute_result",
     "data": {
      "text/plain": "array([[0, 2, 3, 0, 5],\n       [2, 0, 0, 5, 0],\n       [0, 4, 5, 0, 0]])"
     },
     "metadata": {},
     "execution_count": 204
    }
   ],
   "source": [
    "S*B"
   ]
  },
  {
   "cell_type": "code",
   "execution_count": 211,
   "metadata": {},
   "outputs": [
    {
     "output_type": "execute_result",
     "data": {
      "text/plain": "matrix([[0.60938026, 2.01515958, 2.99486968, 1.52345064, 4.84061117],\n        [1.94905074, 3.43886729, 4.17056727, 4.87262684, 1.60506623],\n        [2.00927047, 3.88729843, 4.9149701 , 5.02317617, 3.23410088]])"
     },
     "metadata": {},
     "execution_count": 211
    }
   ],
   "source": [
    "Matrix_X"
   ]
  },
  {
   "cell_type": "code",
   "execution_count": 212,
   "metadata": {},
   "outputs": [
    {
     "output_type": "execute_result",
     "data": {
      "text/plain": "matrix([[-0.39061974,  0.01515958, -0.00513032, -2.47654936, -0.15938883],\n        [-0.05094926,  0.43886729,  0.17056727, -0.12737316, -4.39493377],\n        [-0.99072953, -0.11270157, -0.0850299 , -0.97682383, -3.76589912]])"
     },
     "metadata": {},
     "execution_count": 212
    }
   ],
   "source": [
    "Matrix_X-S"
   ]
  },
  {
   "cell_type": "code",
   "execution_count": null,
   "metadata": {},
   "outputs": [],
   "source": [
    "PP = np.array([[2,1]])\n",
    "print(PP.T)"
   ]
  },
  {
   "cell_type": "code",
   "execution_count": null,
   "metadata": {},
   "outputs": [],
   "source": [
    "lam*lam*np.eye(r)"
   ]
  },
  {
   "cell_type": "code",
   "execution_count": null,
   "metadata": {},
   "outputs": [],
   "source": [
    "A = np.array([[-4,-3,-2],[-1,0,1],[2,3,4]])\n",
    "A = np.mat(A)"
   ]
  },
  {
   "cell_type": "code",
   "execution_count": null,
   "metadata": {},
   "outputs": [],
   "source": [
    "S.shape[0]"
   ]
  },
  {
   "cell_type": "code",
   "execution_count": null,
   "metadata": {},
   "outputs": [],
   "source": [
    "np.trace(A.H * A)"
   ]
  }
 ]
}