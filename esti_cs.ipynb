{
 "nbformat": 4,
 "nbformat_minor": 2,
 "metadata": {
  "language_info": {
   "name": "python",
   "codemirror_mode": {
    "name": "ipython",
    "version": 3
   },
   "version": "3.8.1-final"
  },
  "orig_nbformat": 2,
  "file_extension": ".py",
  "mimetype": "text/x-python",
  "name": "python",
  "npconvert_exporter": "python",
  "pygments_lexer": "ipython3",
  "version": 3,
  "kernelspec": {
   "name": "python38164bitksvdconda6705ad8a9fcd4e0bb5affd2c5dde61db",
   "display_name": "Python 3.8.1 64-bit ('ksvd': conda)"
  }
 },
 "cells": [
  {
   "cell_type": "code",
   "execution_count": 1,
   "metadata": {},
   "outputs": [],
   "source": [
    "# 1\n",
    "%matplotlib inline\n",
    "import numpy as np\n",
    "import pandas as pd\n",
    "import matplotlib.pyplot as plt"
   ]
  },
  {
   "cell_type": "code",
   "execution_count": 295,
   "metadata": {},
   "outputs": [],
   "source": [
    "import time"
   ]
  },
  {
   "cell_type": "code",
   "execution_count": 109,
   "metadata": {},
   "outputs": [],
   "source": [
    "# 2\n",
    "# B = np.array([[0,1,1,0,1],[1,0,0,1,0],[0,1,1,0,0]])\n",
    "# S = np.array([[1,2,3,4,5],[2,3,4,5,6],[3,4,5,6,7]])\n",
    "# n = 3\n",
    "# t = 5\n",
    "r = 2\n",
    "lamb = 0.5\n",
    "MaxIter = 5\n",
    "# L = np.random.randn(n,r)"
   ]
  },
  {
   "cell_type": "code",
   "execution_count": 43,
   "metadata": {},
   "outputs": [],
   "source": [
    "# array version\n",
    "def myInverse(B,L,lamb,r,S):\n",
    "    Y = np.zeros_like(B)\n",
    "    Y = np.asmatrix(Y)\n",
    "    for i in range(B.shape[1]):\n",
    "        DiagBi = np.diag(B[:,i])\n",
    "        # print(i,DiagBi)\n",
    "        matrixS = np.matrix(S)\n",
    "        Up = L.T.dot(DiagBi.dot(DiagBi).dot(L)) + lamb*lamb*np.eye(r)\n",
    "        print(type(Up))\n",
    "        Down = (DiagBi.dot(L)).T.dot(matrixS[:,i])\n",
    "        Up = np.matrix(Up)\n",
    "        Yi = Up.I.dot(Down)\n",
    "        Y[:,i] = Yi\n",
    "        # print(S)\n",
    "        # print(matrixS[:,i])\n",
    "        # print(i,\"UP\\n\",Up)\n",
    "        # print(i,\"Down\\n\",Down)\n",
    "        # print(Yi)\n",
    "    return np.asarray(Y)"
   ]
  },
  {
   "cell_type": "code",
   "execution_count": 162,
   "metadata": {},
   "outputs": [],
   "source": [
    "# 将所有的array变为Matrix\n",
    "\n",
    "# 3\n",
    "def myInverse(B,L,lamb,r,S):\n",
    "    matrixS = np.matrix(S)\n",
    "    matrixL = np.matrix(L)\n",
    "    # B = np.matrix(B)\n",
    "    n = matrixS.shape[0]\n",
    "    t = matrixS.shape[1]\n",
    "    # print('n',n)\n",
    "    # print('t',t)\n",
    "    arrayB = np.array(B)\n",
    "    Y = np.zeros((t,r))\n",
    "    Y = np.asmatrix(Y)\n",
    "    # print(Y)\n",
    "    for i in range(t):\n",
    "        # print(np.array(B[:,i]))\n",
    "        # print(B[:,i].T)\n",
    "        DiagBi = np.diag(arrayB[:,i])\n",
    "        # print(DiagBi)\n",
    "        DiagBi = np.asmatrix(DiagBi)\n",
    "        # print(i,DiagBi.shape)\n",
    "        # print(i,matrixL.shape)\n",
    "        Up = matrixL.T * (DiagBi) * (DiagBi) * matrixL + lamb*lamb*np.eye(r)\n",
    "        Down = (DiagBi * L).T * matrixS[:,i] \n",
    "        # Up = np.matrix(Up)\n",
    "        Yi = Up.I.dot(Down)\n",
    "        # print(Yi)\n",
    "        # print(Yi)\n",
    "        # Y[:,i] = Yi\n",
    "        # print(Yi)\n",
    "        Y[i] = Yi.T\n",
    "        # print(i)\n",
    "        # print(S)\n",
    "        # print(matrixS[:,i])\n",
    "        # print(i,\"UP\\n\",Up)\n",
    "        # print(i,\"Down\\n\",Down)\n",
    "        # print(Yi)\n",
    "    return Y"
   ]
  },
  {
   "cell_type": "code",
   "execution_count": 146,
   "metadata": {},
   "outputs": [],
   "source": [
    "# 将所有的array变为Matrix\n",
    "\n",
    "# 3.1\n",
    "def myInverse(B,L,lamb,r,S):\n",
    "    matrixS = np.matrix(S)\n",
    "    matrixL = np.matrix(L)\n",
    "    # B = np.matrix(B)\n",
    "    n = matrixS.shape[0]\n",
    "    t = matrixS.shape[1]\n",
    "    print('n',n)\n",
    "    print('t',t)\n",
    "    arrayB = np.array(B)\n",
    "    Y = np.zeros((r,t))\n",
    "    Y = np.asmatrix(Y)\n",
    "    # print(Y)\n",
    "    for i in range(t):\n",
    "        # print(np.array(B[:,i]))\n",
    "        # print(B[:,i].T)\n",
    "        DiagBi = np.diag(arrayB[:,i])\n",
    "        # print(DiagBi)\n",
    "        DiagBi = np.asmatrix(DiagBi)\n",
    "        # print(i,DiagBi.shape)\n",
    "        # print(i,matrixL.shape)\n",
    "        Up = matrixL.T * (DiagBi) * (DiagBi) * matrixL + lamb*lamb*np.eye(r)\n",
    "        Down = (DiagBi * L).T * matrixS[:,i] \n",
    "        # Up = np.matrix(Up)\n",
    "        Yi = Up.I.dot(Down)\n",
    "        # print(Yi)\n",
    "        # print(Yi)\n",
    "        Y[:,i] = Yi\n",
    "        # print(Yi)\n",
    "        # Y[i] = Yi.T\n",
    "        # print(i)\n",
    "        # print(S)\n",
    "        # print(matrixS[:,i])\n",
    "        # print(i,\"UP\\n\",Up)\n",
    "        # print(i,\"Down\\n\",Down)\n",
    "        # print(Yi)\n",
    "    return np.asarray(Y)"
   ]
  },
  {
   "cell_type": "code",
   "execution_count": 136,
   "metadata": {},
   "outputs": [],
   "source": [
    "L = np.random.randn(n,r)"
   ]
  },
  {
   "cell_type": "code",
   "execution_count": 143,
   "metadata": {},
   "outputs": [
    {
     "output_type": "execute_result",
     "data": {
      "text/plain": "array([[ 1.38212559, -2.35127517],\n       [-1.05680175, -0.21411883],\n       [-0.32515165, -1.24068142]])"
     },
     "metadata": {},
     "execution_count": 143
    }
   ],
   "source": [
    "L"
   ]
  },
  {
   "cell_type": "code",
   "execution_count": 141,
   "metadata": {},
   "outputs": [
    {
     "output_type": "stream",
     "name": "stdout",
     "text": "n 3\nt 5\n0 (3, 3)\n0 (3, 2)\n1 (3, 3)\n1 (3, 2)\n2 (3, 3)\n2 (3, 2)\n3 (3, 3)\n3 (3, 2)\n4 (3, 3)\n4 (3, 2)\n[[-1.49616917 -1.98105853 -2.27458948 -3.74042292  0.89879545]\n [-0.30313916 -2.09135104 -2.69637669 -0.75784791 -1.52903284]]\n"
    }
   ],
   "source": [
    "# L = np.random.randn(n,r)\n",
    "R = myInverse(B,L,lamb,r,S)\n",
    "print(R)"
   ]
  },
  {
   "cell_type": "code",
   "execution_count": 148,
   "metadata": {},
   "outputs": [
    {
     "output_type": "stream",
     "name": "stdout",
     "text": "n 5\nt 3\n0 (5, 5)\n0 (5, 2)\n1 (5, 5)\n1 (5, 2)\n2 (5, 5)\n2 (5, 2)\n[[ 1.34385199 -1.26531376 -0.89740536]\n [-2.23999383 -0.2563655  -1.06147026]]\n"
    }
   ],
   "source": [
    "MatrixL = myInverse(B.T,R.T,lamb,r,S.T)\n",
    "print(MatrixL)"
   ]
  },
  {
   "cell_type": "code",
   "execution_count": 68,
   "metadata": {},
   "outputs": [
    {
     "output_type": "stream",
     "name": "stdout",
     "text": "[[0 1 1 0 1]\n [1 0 0 1 0]\n [0 1 1 0 0]]\n"
    }
   ],
   "source": [
    "print(B)"
   ]
  },
  {
   "cell_type": "code",
   "execution_count": 500,
   "metadata": {},
   "outputs": [],
   "source": [
    "#  4\n",
    "def ESTI_CS(MatrixS,MatrixB,r,lamb,MaxIter):\n",
    "    '''\n",
    "    para:\n",
    "\n",
    "    MatrixS n*t: Sensory Matrix\n",
    "    MatrixB n*t: Binary index matrix\n",
    "    r: rank bound\n",
    "    lamb: tradeoff coefficient\n",
    "    MaxIter: iteration times\n",
    "\n",
    "    return: \n",
    "    MatrixX: estimated environment matrix\n",
    "    '''\n",
    "    n = MatrixS.shape[0]\n",
    "    t = MatrixS.shape[1]\n",
    "    MatrixL = np.random.randn(n,r)\n",
    "    MatrixH = np.random.randn(n,n)\n",
    "    MatrixT = np.random.randn(t,t)\n",
    "\n",
    "    optimal_L = MatrixL\n",
    "    optimal_R = 0\n",
    "    optimal_v = 10000000\n",
    "    # print(MatrixL)\n",
    "    for i in range(MaxIter):\n",
    "        MatrixR = myInverse(MatrixB,MatrixL,lamb,r,MatrixS)\n",
    "        MatrixL = myInverse(MatrixB.T,MatrixR,lamb,r,MatrixS.T)\n",
    "        # print(i)\n",
    "        # print(MatrixR)\n",
    "        # print(MatrixL.shape)\n",
    "        # print(MatrixR.shape)\n",
    "        # Matrix_t1 = MatrixB * ,MatrixL * MatrixR.T\n",
    "        # print(MatrixB.shape)\n",
    "        # print(MatrixL*(MatrixR.T))\n",
    "        Matrix_t1 = np.multiply(MatrixB,MatrixL*MatrixR.T)-S\n",
    "        Matrix_t2 = MatrixH * MatrixL * MatrixR.T\n",
    "        # Matrix_t2 = np.multiply(MatrixH,MatrixL)\n",
    "        Matrix_t3 = MatrixL * MatrixR.T * MatrixT.T\n",
    "\n",
    "\n",
    "        norm_t1 = np.square(np.linalg.norm(Matrix_t1,'f'))\n",
    "        # print('round',round(norm_t1))\n",
    "        # print('round2',round(norm_t12))\n",
    "        norm_t2 = np.square(np.linalg.norm(Matrix_t2,'f'))\n",
    "        norm_t3 = np.square(np.linalg.norm(Matrix_t3,'f'))\n",
    "        norm_l = np.square(np.linalg.norm(MatrixL,'f'))\n",
    "        norm_r = np.square(np.linalg.norm(MatrixR.T,'f'))\n",
    "\n",
    "        sum_v = norm_t1+lamb*(norm_l+norm_r)+norm_t2+norm_t3\n",
    "\n",
    "        if sum_v < optimal_v:\n",
    "            optimal_L = MatrixL\n",
    "            optimal_R = MatrixR\n",
    "            optimal_v = sum_v\n",
    "\n",
    "    return optimal_L*optimal_R.T\n"
   ]
  },
  {
   "cell_type": "code",
   "execution_count": 530,
   "metadata": {},
   "outputs": [],
   "source": [
    "# 5\n",
    "Matrix_X = ESTI_CS(S*B,B,r,lamb,MaxIter)"
   ]
  },
  {
   "cell_type": "code",
   "execution_count": 202,
   "metadata": {},
   "outputs": [
    {
     "output_type": "execute_result",
     "data": {
      "text/plain": "array([[1, 2, 3, 4, 5],\n       [2, 3, 4, 5, 6],\n       [3, 4, 5, 6, 7]])"
     },
     "metadata": {},
     "execution_count": 202
    }
   ],
   "source": [
    "S"
   ]
  },
  {
   "cell_type": "code",
   "execution_count": 203,
   "metadata": {},
   "outputs": [
    {
     "output_type": "execute_result",
     "data": {
      "text/plain": "array([[0, 1, 1, 0, 1],\n       [1, 0, 0, 1, 0],\n       [0, 1, 1, 0, 0]])"
     },
     "metadata": {},
     "execution_count": 203
    }
   ],
   "source": [
    "B"
   ]
  },
  {
   "cell_type": "code",
   "execution_count": 204,
   "metadata": {},
   "outputs": [
    {
     "output_type": "execute_result",
     "data": {
      "text/plain": "array([[0, 2, 3, 0, 5],\n       [2, 0, 0, 5, 0],\n       [0, 4, 5, 0, 0]])"
     },
     "metadata": {},
     "execution_count": 204
    }
   ],
   "source": [
    "S*B"
   ]
  },
  {
   "cell_type": "code",
   "execution_count": 522,
   "metadata": {},
   "outputs": [
    {
     "output_type": "execute_result",
     "data": {
      "text/plain": "matrix([[0.44922936, 2.0136595 , 2.98901686, 1.1230734 , 4.76986203],\n        [1.91589544, 1.7376297 , 2.23047889, 4.7897386 , 1.1869346 ],\n        [0.55430107, 3.90918513, 4.91921603, 1.38575266, 1.84108663]])"
     },
     "metadata": {},
     "execution_count": 522
    }
   ],
   "source": [
    "Matrix_X"
   ]
  },
  {
   "cell_type": "code",
   "execution_count": 531,
   "metadata": {},
   "outputs": [
    {
     "output_type": "execute_result",
     "data": {
      "text/plain": "37.1569524781507"
     },
     "metadata": {},
     "execution_count": 531
    }
   ],
   "source": [
    "# 6\n",
    "abs((Matrix_X-S)).sum()"
   ]
  },
  {
   "cell_type": "markdown",
   "metadata": {},
   "source": [
    "# 计算矩阵F范数平方的方法速度对比"
   ]
  },
  {
   "cell_type": "code",
   "execution_count": 441,
   "metadata": {},
   "outputs": [],
   "source": [
    "# A = np.array([[-4,-3,-2,-1],[-1,0,1,0],[2,3,4,1]])\n",
    "A = np.random.randn(10,5)\n",
    "A = np.mat(A)"
   ]
  },
  {
   "cell_type": "code",
   "execution_count": 489,
   "metadata": {},
   "outputs": [],
   "source": [
    "result = []\n",
    "summ = 0\n",
    "for i in range(100):\n",
    "    A = np.random.randn(i,i)\n",
    "    A = np.mat(A)\n",
    "    t1 = time.time()\n",
    "    f1 = np.square(np.linalg.norm(A,'f'))\n",
    "    t2 = time.time()\n",
    "    f2 = np.trace(A.H*A)\n",
    "    t3 = time.time()\n",
    "    period1 = t2-t1\n",
    "    period2 = t3-t2\n",
    "    result.append((i,period2-period1))\n",
    "    if period2 > period1:\n",
    "        summ += 1"
   ]
  },
  {
   "cell_type": "markdown",
   "metadata": {},
   "source": [
    "### 可以看到 使用np.linalg.norm 再平方，要比用矩阵的迹要快"
   ]
  },
  {
   "cell_type": "code",
   "execution_count": 496,
   "metadata": {},
   "outputs": [
    {
     "output_type": "execute_result",
     "data": {
      "text/plain": "98"
     },
     "metadata": {},
     "execution_count": 496
    }
   ],
   "source": [
    "summ"
   ]
  }
 ]
}