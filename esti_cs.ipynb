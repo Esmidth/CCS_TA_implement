{
 "nbformat": 4,
 "nbformat_minor": 2,
 "metadata": {
  "language_info": {
   "name": "python",
   "codemirror_mode": {
    "name": "ipython",
    "version": 3
   },
   "version": "3.8.1-final"
  },
  "orig_nbformat": 2,
  "file_extension": ".py",
  "mimetype": "text/x-python",
  "name": "python",
  "npconvert_exporter": "python",
  "pygments_lexer": "ipython3",
  "version": 3,
  "kernelspec": {
   "name": "python38164bitksvdconda6705ad8a9fcd4e0bb5affd2c5dde61db",
   "display_name": "Python 3.8.1 64-bit ('ksvd': conda)"
  }
 },
 "cells": [
  {
   "cell_type": "code",
   "execution_count": null,
   "metadata": {},
   "outputs": [],
   "source": [
    "# 1\n",
    "%matplotlib inline\n",
    "import numpy as np\n",
    "import pandas as pd\n",
    "import matplotlib.pyplot as plt"
   ]
  },
  {
   "cell_type": "code",
   "execution_count": null,
   "metadata": {},
   "outputs": [],
   "source": [
    "import time"
   ]
  },
  {
   "cell_type": "code",
   "execution_count": 38,
   "metadata": {},
   "outputs": [],
   "source": [
    "# 2\n",
    "B = np.array([[0,1,1,0,1],[1,0,0,1,0],[0,1,1,0,0]])\n",
    "S = np.array([[1,2,3,4,5],[2,3,4,5,6],[3,4,5,6,7]])\n",
    "# n = 3\n",
    "# t = 5\n",
    "r = 2\n",
    "lamb = 0.5\n",
    "MaxIter = 5\n",
    "# L = np.random.randn(n,r)"
   ]
  },
  {
   "cell_type": "code",
   "execution_count": 39,
   "metadata": {},
   "outputs": [],
   "source": [
    "# 将所有的array变为Matrix\n",
    "\n",
    "# 3 current\n",
    "def myInverse(B,L,lamb,r,S):\n",
    "    matrixS = np.matrix(S)\n",
    "    matrixL = np.matrix(L)\n",
    "    # B = np.matrix(B)\n",
    "    n = matrixS.shape[0]\n",
    "    t = matrixS.shape[1]\n",
    "    # print('n',n)\n",
    "    # print('t',t)\n",
    "    arrayB = np.array(B)\n",
    "    Y = np.zeros((t,r))\n",
    "    Y = np.asmatrix(Y)\n",
    "    # print(Y)\n",
    "    for i in range(t):\n",
    "        # print(np.array(B[:,i]))\n",
    "        # print(B[:,i].T)\n",
    "        DiagBi = np.diag(arrayB[:,i])\n",
    "        # print(DiagBi)\n",
    "        DiagBi = np.asmatrix(DiagBi)\n",
    "        # print(i,DiagBi.shape)\n",
    "        # print(i,matrixL.shape)\n",
    "        Up = matrixL.T * (DiagBi) * (DiagBi) * matrixL + lamb*lamb*np.eye(r)\n",
    "        Down = (DiagBi * L).T * matrixS[:,i] \n",
    "        # Up = np.matrix(Up)\n",
    "        Yi = Up.I.dot(Down)\n",
    "        # print(Yi)\n",
    "        # print(Yi)\n",
    "        # Y[:,i] = Yi\n",
    "        # print(Yi)\n",
    "        Y[i] = Yi.T\n",
    "        # print(i)\n",
    "        # print(S)\n",
    "        # print(matrixS[:,i])\n",
    "        # print(i,\"UP\\n\",Up)\n",
    "        # print(i,\"Down\\n\",Down)\n",
    "        # print(Yi)\n",
    "    return Y"
   ]
  },
  {
   "cell_type": "code",
   "execution_count": null,
   "metadata": {},
   "outputs": [],
   "source": [
    "# array version\n",
    "def myInverse(B,L,lamb,r,S):\n",
    "    Y = np.zeros_like(B)\n",
    "    Y = np.asmatrix(Y)\n",
    "    for i in range(B.shape[1]):\n",
    "        DiagBi = np.diag(B[:,i])\n",
    "        # print(i,DiagBi)\n",
    "        matrixS = np.matrix(S)\n",
    "        Up = L.T.dot(DiagBi.dot(DiagBi).dot(L)) + lamb*lamb*np.eye(r)\n",
    "        print(type(Up))\n",
    "        Down = (DiagBi.dot(L)).T.dot(matrixS[:,i])\n",
    "        Up = np.matrix(Up)\n",
    "        Yi = Up.I.dot(Down)\n",
    "        Y[:,i] = Yi\n",
    "        # print(S)\n",
    "        # print(matrixS[:,i])\n",
    "        # print(i,\"UP\\n\",Up)\n",
    "        # print(i,\"Down\\n\",Down)\n",
    "        # print(Yi)\n",
    "    return np.asarray(Y)"
   ]
  },
  {
   "cell_type": "code",
   "execution_count": null,
   "metadata": {},
   "outputs": [],
   "source": [
    "# 将所有的array变为Matrix\n",
    "\n",
    "# 3.1\n",
    "def myInverse(B,L,lamb,r,S):\n",
    "    matrixS = np.matrix(S)\n",
    "    matrixL = np.matrix(L)\n",
    "    # B = np.matrix(B)\n",
    "    n = matrixS.shape[0]\n",
    "    t = matrixS.shape[1]\n",
    "    print('n',n)\n",
    "    print('t',t)\n",
    "    arrayB = np.array(B)\n",
    "    Y = np.zeros((r,t))\n",
    "    Y = np.asmatrix(Y)\n",
    "    # print(Y)\n",
    "    for i in range(t):\n",
    "        # print(np.array(B[:,i]))\n",
    "        # print(B[:,i].T)\n",
    "        DiagBi = np.diag(arrayB[:,i])\n",
    "        # print(DiagBi)\n",
    "        DiagBi = np.asmatrix(DiagBi)\n",
    "        # print(i,DiagBi.shape)\n",
    "        # print(i,matrixL.shape)\n",
    "        Up = matrixL.T * (DiagBi) * (DiagBi) * matrixL + lamb*lamb*np.eye(r)\n",
    "        Down = (DiagBi * L).T * matrixS[:,i] \n",
    "        # Up = np.matrix(Up)\n",
    "        Yi = Up.I.dot(Down)\n",
    "        # print(Yi)\n",
    "        # print(Yi)\n",
    "        Y[:,i] = Yi\n",
    "        # print(Yi)\n",
    "        # Y[i] = Yi.T\n",
    "        # print(i)\n",
    "        # print(S)\n",
    "        # print(matrixS[:,i])\n",
    "        # print(i,\"UP\\n\",Up)\n",
    "        # print(i,\"Down\\n\",Down)\n",
    "        # print(Yi)\n",
    "    return np.asarray(Y)"
   ]
  },
  {
   "cell_type": "code",
   "execution_count": null,
   "metadata": {},
   "outputs": [],
   "source": [
    "L = np.random.randn(n,r)"
   ]
  },
  {
   "cell_type": "code",
   "execution_count": null,
   "metadata": {},
   "outputs": [],
   "source": [
    "L"
   ]
  },
  {
   "cell_type": "code",
   "execution_count": null,
   "metadata": {},
   "outputs": [],
   "source": [
    "# L = np.random.randn(n,r)\n",
    "R = myInverse(B,L,lamb,r,S)\n",
    "print(R)"
   ]
  },
  {
   "cell_type": "code",
   "execution_count": null,
   "metadata": {},
   "outputs": [],
   "source": [
    "MatrixL = myInverse(B.T,R.T,lamb,r,S.T)\n",
    "print(MatrixL)"
   ]
  },
  {
   "cell_type": "code",
   "execution_count": 178,
   "metadata": {},
   "outputs": [],
   "source": [
    "#  4\n",
    "def ESTI_CS(MatrixS:np.matrix,MatrixB:np.matrix,r:int,lamb:float,MaxIter:int) -> np.matrix:\n",
    "    '''\n",
    "    para:\n",
    "\n",
    "    MatrixS n*t: Sensory Matrix\n",
    "    MatrixB n*t: Binary index matrix\n",
    "    r: rank bound\n",
    "    lamb: tradeoff coefficient\n",
    "    MaxIter: iteration times: int\n",
    "\n",
    "    return: \n",
    "    MatrixX: estimated environment matrix: np.matrix\n",
    "    '''\n",
    "    n = MatrixS.shape[0]\n",
    "    t = MatrixS.shape[1]\n",
    "    MatrixL = np.random.randn(n,r)\n",
    "    MatrixH = np.random.randn(n,n)\n",
    "    # MatrixT = np.random.randn(t,t)\n",
    "\n",
    "    MatrixT1 = np.eye(t)\n",
    "    MatrixT2 = -(np.eye(t-1))\n",
    "    MatrixT2 = np.pad(MatrixT2,((0,1),(1,0)),mode='constant',constant_values=(0)) \n",
    "    MatrixT = MatrixT1+MatrixT2\n",
    "    # print(MatrixT)\n",
    "\n",
    "\n",
    "    optimal_L = MatrixL\n",
    "    optimal_R = 0\n",
    "    optimal_v = 10000000\n",
    "    # print(MatrixL)\n",
    "    for i in range(MaxIter):\n",
    "        MatrixR = myInverse(MatrixB,MatrixL,lamb,r,MatrixS)\n",
    "        MatrixL = myInverse(MatrixB.T,MatrixR,lamb,r,MatrixS.T)\n",
    "        # print(i)\n",
    "        # print(MatrixR)\n",
    "        # print(MatrixL.shape)\n",
    "        # print(MatrixR.shape)\n",
    "        # Matrix_t1 = MatrixB * ,MatrixL * MatrixR.T\n",
    "        # print(MatrixB.shape)\n",
    "        # print(MatrixL*(MatrixR.T))\n",
    "        Matrix_t1 = np.multiply(MatrixB,MatrixL*MatrixR.T)-S\n",
    "        Matrix_t2 = MatrixH * MatrixL * MatrixR.T\n",
    "        # Matrix_t2 = np.multiply(MatrixH,MatrixL)\n",
    "        Matrix_t3 = MatrixL * MatrixR.T * MatrixT.T\n",
    "\n",
    "\n",
    "        norm_t1 = np.square(np.linalg.norm(Matrix_t1,'f'))\n",
    "        # print('round',round(norm_t1))\n",
    "        # print('round2',round(norm_t12))\n",
    "        norm_t2 = np.square(np.linalg.norm(Matrix_t2,'f'))\n",
    "        norm_t3 = np.square(np.linalg.norm(Matrix_t3,'f'))\n",
    "        norm_l = np.square(np.linalg.norm(MatrixL,'f'))\n",
    "        norm_r = np.square(np.linalg.norm(MatrixR.T,'f'))\n",
    "\n",
    "        sum_v = norm_t1+lamb*(norm_l+norm_r)+norm_t2+norm_t3\n",
    "\n",
    "        if sum_v < optimal_v:\n",
    "            optimal_L = MatrixL\n",
    "            optimal_R = MatrixR\n",
    "            optimal_v = sum_v\n",
    "\n",
    "    return optimal_L*optimal_R.T\n"
   ]
  },
  {
   "cell_type": "code",
   "execution_count": 179,
   "metadata": {},
   "outputs": [
    {
     "output_type": "stream",
     "name": "stdout",
     "text": "2\n<class 'int'>\n0.5\n<class 'float'>\n47.13584880462017\n[[-2.33576863  2.00995422  3.00072759 -5.83942157  4.91582275]\n [ 1.98290554 -0.74078482 -1.33076706  4.95726386 -3.5380725 ]\n [-0.79888229  3.8487406   5.00979987 -1.99720573  3.76080273]]\n"
    }
   ],
   "source": [
    "# 5\n",
    "Matrix_X = ESTI_CS(S*B,B,r,lamb,5)\n",
    "print(abs((Matrix_X-S)).sum())\n",
    "print(Matrix_X)"
   ]
  },
  {
   "cell_type": "code",
   "execution_count": 163,
   "metadata": {},
   "outputs": [
    {
     "output_type": "stream",
     "name": "stdout",
     "text": "<class 'numpy.matrix'>\n"
    }
   ],
   "source": []
  },
  {
   "cell_type": "code",
   "execution_count": 156,
   "metadata": {},
   "outputs": [
    {
     "output_type": "execute_result",
     "data": {
      "text/plain": "array([[1, 2, 3, 4, 5],\n       [2, 3, 4, 5, 6],\n       [3, 4, 5, 6, 7]])"
     },
     "metadata": {},
     "execution_count": 156
    }
   ],
   "source": [
    "S"
   ]
  },
  {
   "cell_type": "code",
   "execution_count": null,
   "metadata": {},
   "outputs": [],
   "source": [
    "B"
   ]
  },
  {
   "cell_type": "code",
   "execution_count": 155,
   "metadata": {},
   "outputs": [
    {
     "output_type": "execute_result",
     "data": {
      "text/plain": "array([[0, 2, 3, 0, 5],\n       [2, 0, 0, 5, 0],\n       [0, 4, 5, 0, 0]])"
     },
     "metadata": {},
     "execution_count": 155
    }
   ],
   "source": [
    "S*B"
   ]
  },
  {
   "cell_type": "code",
   "execution_count": null,
   "metadata": {},
   "outputs": [],
   "source": [
    "Matrix_X"
   ]
  },
  {
   "cell_type": "code",
   "execution_count": 43,
   "metadata": {},
   "outputs": [
    {
     "output_type": "execute_result",
     "data": {
      "text/plain": "21.95464952267686"
     },
     "metadata": {},
     "execution_count": 43
    }
   ],
   "source": [
    "# 6\n",
    "abs((Matrix_X-S)).sum()"
   ]
  },
  {
   "cell_type": "code",
   "execution_count": null,
   "metadata": {},
   "outputs": [],
   "source": [
    "t = 7\n",
    "MatrixT1 = np.eye(t)\n",
    "MatrixT2 = -(np.eye(t-1))\n",
    "pp = np.pad(MatrixT2,((0,1),(1,0)),mode='constant',constant_values=(0))\n",
    "print(MatrixT1)\n",
    "print(MatrixT2)\n",
    "print(pp+MatrixT1)"
   ]
  },
  {
   "cell_type": "markdown",
   "metadata": {},
   "source": [
    "# 计算矩阵F范数平方的方法速度对比"
   ],
   "execution_count": null,
   "outputs": []
  },
  {
   "cell_type": "code",
   "execution_count": null,
   "metadata": {},
   "outputs": [],
   "source": [
    "# A = np.array([[-4,-3,-2,-1],[-1,0,1,0],[2,3,4,1]])\n",
    "A = np.random.randn(10,5)\n",
    "A = np.mat(A)"
   ]
  },
  {
   "cell_type": "code",
   "execution_count": null,
   "metadata": {},
   "outputs": [],
   "source": [
    "result = []\n",
    "summ = 0\n",
    "for i in range(100):\n",
    "    A = np.random.randn(i,i)\n",
    "    A = np.mat(A)\n",
    "    t1 = time.time()\n",
    "    f1 = np.square(np.linalg.norm(A,'f'))\n",
    "    t2 = time.time()\n",
    "    f2 = np.trace(A.H*A)\n",
    "    t3 = time.time()\n",
    "    period1 = t2-t1\n",
    "    period2 = t3-t2\n",
    "    result.append((i,period2-period1))\n",
    "    if period2 > period1:\n",
    "        summ += 1"
   ]
  },
  {
   "cell_type": "markdown",
   "metadata": {},
   "source": [
    "### 可以看到 使用np.linalg.norm 再平方，要比用矩阵的迹要快"
   ],
   "execution_count": null,
   "outputs": []
  },
  {
   "cell_type": "code",
   "execution_count": null,
   "metadata": {},
   "outputs": [],
   "source": [
    "summ"
   ]
  }
 ]
}