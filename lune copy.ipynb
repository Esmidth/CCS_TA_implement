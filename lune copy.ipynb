{
 "nbformat": 4,
 "nbformat_minor": 2,
 "metadata": {
  "language_info": {
   "name": "python",
   "codemirror_mode": {
    "name": "ipython",
    "version": 3
   },
   "version": "3.8.1-final"
  },
  "orig_nbformat": 2,
  "file_extension": ".py",
  "mimetype": "text/x-python",
  "name": "python",
  "npconvert_exporter": "python",
  "pygments_lexer": "ipython3",
  "version": 3,
  "kernelspec": {
   "name": "python_defaultSpec_1603626848546",
   "display_name": "Python 3.7.6 64-bit ('ccs_ta': conda)"
  },
  "pycharm": {
   "stem_cell": {
    "cell_type": "raw",
    "source": [],
    "metadata": {
     "collapsed": false
    }
   }
  }
 },
 "cells": [
  {
   "cell_type": "markdown",
   "metadata": {},
   "source": [
    "## import 库"
   ]
  },
  {
   "cell_type": "code",
   "execution_count": 3,
   "metadata": {},
   "outputs": [],
   "source": [
    "%matplotlib inline\n",
    "import numpy as np\n",
    "import pandas as pd\n",
    "import os,sys\n",
    "import utilities as utils\n",
    "import matplotlib.pyplot as plt"
   ]
  },
  {
   "cell_type": "markdown",
   "metadata": {},
   "source": [
    "## 从csv读取DataFrame"
   ]
  },
  {
   "cell_type": "code",
   "execution_count": 9,
   "metadata": {},
   "outputs": [
    {
     "output_type": "error",
     "ename": "FileNotFoundError",
     "evalue": "[Errno 2] No such file or directory: '/home/esmidth/github/CCS_TA_implement/Dataset/Sensorscope/luce_stations/'",
     "traceback": [
      "\u001b[0;31m---------------------------------------------------------------------------\u001b[0m",
      "\u001b[0;31mFileNotFoundError\u001b[0m                         Traceback (most recent call last)",
      "\u001b[0;32m<ipython-input-9-8b3ed0d16dc3>\u001b[0m in \u001b[0;36m<module>\u001b[0;34m\u001b[0m\n\u001b[1;32m      2\u001b[0m \u001b[0msub_prefix\u001b[0m \u001b[0;34m=\u001b[0m \u001b[0;34m'sensorscope-meteo-'\u001b[0m\u001b[0;34m\u001b[0m\u001b[0;34m\u001b[0m\u001b[0m\n\u001b[1;32m      3\u001b[0m \u001b[0msub_suffix\u001b[0m \u001b[0;34m=\u001b[0m \u001b[0;34m'.txt'\u001b[0m\u001b[0;34m\u001b[0m\u001b[0;34m\u001b[0m\u001b[0m\n\u001b[0;32m----> 4\u001b[0;31m \u001b[0mfile_list\u001b[0m \u001b[0;34m=\u001b[0m \u001b[0mos\u001b[0m\u001b[0;34m.\u001b[0m\u001b[0mlistdir\u001b[0m\u001b[0;34m(\u001b[0m\u001b[0mori_path\u001b[0m\u001b[0;34m)\u001b[0m\u001b[0;34m\u001b[0m\u001b[0;34m\u001b[0m\u001b[0m\n\u001b[0m\u001b[1;32m      5\u001b[0m name = [\n\u001b[1;32m      6\u001b[0m \u001b[0;34m'Station ID'\u001b[0m\u001b[0;34m,\u001b[0m\u001b[0;34m\u001b[0m\u001b[0;34m\u001b[0m\u001b[0m\n",
      "\u001b[0;31mFileNotFoundError\u001b[0m: [Errno 2] No such file or directory: '/home/esmidth/github/CCS_TA_implement/Dataset/Sensorscope/luce_stations/'"
     ]
    }
   ],
   "source": [
    "ori_path = '/home/esmidth/github/CCS_TA_implement/Dataset/Sensorscope/luce_stations/'\n",
    "sub_prefix = 'sensorscope-meteo-'\n",
    "sub_suffix = '.txt'\n",
    "file_list = os.listdir(ori_path)\n",
    "name = [\n",
    "'Station ID',\n",
    "'Year',\n",
    "'Month',\n",
    "'Day',\n",
    "'Hour',\n",
    "'Minute',\n",
    "'Second',\n",
    "'Time since the epoch [s]',\n",
    "'Sequence Number',\n",
    "'Ambient Temperature',\n",
    "'Surface Temperature',\n",
    "'Solar Radiation',\n",
    "'Relative Humidity [%]',\n",
    "'Soil Moisture [%]',\n",
    "'Watermark [kPa]',\n",
    "'Rain Meter [mm]',\n",
    "'Wind Speed [m/s]',\n",
    "'Wind Direction [°]',\n",
    "]"
   ]
  },
  {
   "cell_type": "code",
   "execution_count": null,
   "metadata": {},
   "outputs": [],
   "source": [
    "df_sum = pd.DataFrame()\n",
    "sum = 0\n",
    "for file in file_list:\n",
    "    if '.txt'in file:\n",
    "        df = pd.read_csv(ori_path+file,sep=' ',names=name)\n",
    "        df_sum = pd.concat([df_sum,df],axis=0)\n",
    "        sum += len(df)\n",
    "        print(file,'Done')"
   ]
  },
  {
   "cell_type": "code",
   "execution_count": null,
   "metadata": {},
   "outputs": [],
   "source": [
    "# print(sum,len(df_sum))\n",
    "# print(df_sum['Station ID'])\n",
    "print(df_sum.shape)\n",
    "print(df_sum.info(memory_usage='deep'))"
   ]
  },
  {
   "cell_type": "code",
   "execution_count": null,
   "metadata": {},
   "outputs": [],
   "source": [
    "df_sum.to_csv('lune.csv',index=False)"
   ]
  },
  {
   "cell_type": "code",
   "execution_count": null,
   "metadata": {},
   "outputs": [],
   "source": [
    "df_sum.to_hdf('data.h5',key='df',mode='w')"
   ]
  },
  {
   "cell_type": "code",
   "execution_count": null,
   "metadata": {},
   "outputs": [],
   "source": [
    "# 写入hdf5\n",
    "df_tst = {'col1':[1,2],'col2':[3,4]}\n",
    "df_tst = pd.DataFrame(df_tst)\n",
    "print(df_tst)\n",
    "df_tst.to_hdf('data.h5',key='dff',mode='w')"
   ]
  },
  {
   "cell_type": "code",
   "execution_count": 3,
   "metadata": {},
   "outputs": [
    {
     "name": "stdout",
     "output_type": "stream",
     "text": "col1  col2\n0     1     3\n1     2     4\n"
    }
   ],
   "source": [
    "# 读取hdf5\n",
    "df_tst = pd.read_hdf('data.h5','dff')\n",
    "print(df_tst)"
   ]
  },
  {
   "cell_type": "code",
   "execution_count": null,
   "metadata": {},
   "outputs": [],
   "source": [
    "print(file_list,len(file_list))"
   ]
  },
  {
   "cell_type": "code",
   "execution_count": null,
   "metadata": {},
   "outputs": [],
   "source": [
    "path = '/Users/anruolin/github/CCS_TA_implement/Dataset/Sensorscope/luce_stations_9x/'\n",
    "files = os.listdir(path)\n",
    "files = sorted(files)\n",
    "for file in files:\n",
    "    df = pd.read_csv(path+file,sep=' ',names=name)\n",
    "    print(file,',',len(df))"
   ]
  },
  {
   "cell_type": "code",
   "execution_count": null,
   "metadata": {},
   "outputs": [],
   "source": [
    "path = '/Users/anruolin/github/CCS_TA_implement/Dataset/Sensorscope/luce_stations_1x/'\n",
    "filename = 'sensorscope-meteo-11.txt'\n",
    "name = [\n",
    "'Station ID',\n",
    "'Year',\n",
    "'Month',\n",
    "'Day',\n",
    "'Hour',\n",
    "'Minute',\n",
    "'Second',\n",
    "'Time since the epoch [s]',\n",
    "'Sequence Number',\n",
    "'Ambient Temperature',\n",
    "'Surface Temperature',\n",
    "'Solar Radiation',\n",
    "'Relative Humidity [%]',\n",
    "'Soil Moisture [%]',\n",
    "'Watermark [kPa]',\n",
    "'Rain Meter [mm]',\n",
    "'Wind Speed [m/s]',\n",
    "'Wind Direction [°]',\n",
    "]"
   ]
  },
  {
   "cell_type": "code",
   "execution_count": null,
   "metadata": {},
   "outputs": [],
   "source": [
    "df = pd.read_csv(path+filename,sep=' ',names=name)"
   ]
  },
  {
   "cell_type": "markdown",
   "metadata": {},
   "source": [
    "## 绘制有效数据点"
   ]
  },
  {
   "cell_type": "code",
   "execution_count": 2,
   "metadata": {},
   "outputs": [],
   "source": [
    "lat = (46.51788,46.52227)\n",
    "log = (6.56517,6.5693)"
   ]
  },
  {
   "cell_type": "code",
   "execution_count": 3,
   "metadata": {},
   "outputs": [],
   "source": [
    "loc_file = '/Users/anruolin/github/CCS_TA_implement/Dataset/Sensorscope/EPFL_sensor_loc_simple2.xlsx'\n",
    "df = pd.read_excel(loc_file)"
   ]
  },
  {
   "cell_type": "code",
   "execution_count": 4,
   "metadata": {},
   "outputs": [
    {
     "name": "stdout",
     "output_type": "stream",
     "text": "Index(['ID', 'Est', 'Nord', 'Altitude', 'Latitude', 'Longitude'], dtype='object')\n"
    }
   ],
   "source": [
    "print(df.columns)"
   ]
  },
  {
   "cell_type": "code",
   "execution_count": 5,
   "metadata": {},
   "outputs": [
    {
     "name": "stdout",
     "output_type": "stream",
     "text": "[46.51788  46.518319 46.518758 46.519197 46.519636 46.520075 46.520514\n 46.520953 46.521392 46.521831 46.52227 ]\n[6.56517  6.565583 6.565996 6.566409 6.566822 6.567235 6.567648 6.568061\n 6.568474 6.568887 6.5693  ]\n"
    }
   ],
   "source": [
    "lat_range = np.linspace(lat[0],lat[1],11)\n",
    "log_range = np.linspace(log[0],log[1],11)\n",
    "print(lat_range)\n",
    "print(log_range)"
   ]
  },
  {
   "cell_type": "code",
   "execution_count": 6,
   "metadata": {},
   "outputs": [
    {
     "name": "stdout",
     "output_type": "stream",
     "text": "[[0. 0. 0. 0. 0. 0. 0. 0. 0. 0.]\n [0. 0. 0. 0. 0. 0. 0. 0. 0. 0.]\n [0. 0. 0. 0. 0. 0. 0. 0. 0. 0.]\n [0. 0. 0. 0. 0. 0. 0. 0. 0. 0.]\n [0. 0. 0. 0. 0. 0. 0. 0. 0. 0.]\n [0. 0. 0. 0. 0. 0. 0. 0. 0. 0.]\n [0. 0. 0. 0. 0. 0. 0. 0. 0. 0.]\n [0. 0. 0. 0. 0. 0. 0. 0. 0. 0.]\n [0. 0. 0. 0. 0. 0. 0. 0. 0. 0.]\n [0. 0. 0. 0. 0. 0. 0. 0. 0. 0.]]\n"
    }
   ],
   "source": [
    "pic = np.zeros((10,10))\n",
    "print(pic)"
   ]
  },
  {
   "cell_type": "code",
   "execution_count": 7,
   "metadata": {},
   "outputs": [
    {
     "ename": "TypeError",
     "evalue": "Cannot perform 'rand_' with a dtyped [float64] array and scalar of type [bool]",
     "output_type": "error",
     "traceback": [
      "\u001b[0;31m---------------------------------------------------------------------------\u001b[0m",
      "\u001b[0;31mTypeError\u001b[0m                                 Traceback (most recent call last)",
      "\u001b[0;32m~/.pyenv/versions/anaconda3-2019.03/envs/ksvd/lib/python3.8/site-packages/pandas/core/ops/array_ops.py\u001b[0m in \u001b[0;36mna_logical_op\u001b[0;34m(x, y, op)\u001b[0m\n\u001b[1;32m    273\u001b[0m         \u001b[0;31m#  (xint or xbool) and (yint or bool)\u001b[0m\u001b[0;34m\u001b[0m\u001b[0;34m\u001b[0m\u001b[0;34m\u001b[0m\u001b[0m\n\u001b[0;32m--> 274\u001b[0;31m         \u001b[0mresult\u001b[0m \u001b[0;34m=\u001b[0m \u001b[0mop\u001b[0m\u001b[0;34m(\u001b[0m\u001b[0mx\u001b[0m\u001b[0;34m,\u001b[0m \u001b[0my\u001b[0m\u001b[0;34m)\u001b[0m\u001b[0;34m\u001b[0m\u001b[0;34m\u001b[0m\u001b[0m\n\u001b[0m\u001b[1;32m    275\u001b[0m     \u001b[0;32mexcept\u001b[0m \u001b[0mTypeError\u001b[0m\u001b[0;34m:\u001b[0m\u001b[0;34m\u001b[0m\u001b[0;34m\u001b[0m\u001b[0m\n",
      "\u001b[0;32m~/.pyenv/versions/anaconda3-2019.03/envs/ksvd/lib/python3.8/site-packages/pandas/core/ops/roperator.py\u001b[0m in \u001b[0;36mrand_\u001b[0;34m(left, right)\u001b[0m\n\u001b[1;32m     51\u001b[0m \u001b[0;32mdef\u001b[0m \u001b[0mrand_\u001b[0m\u001b[0;34m(\u001b[0m\u001b[0mleft\u001b[0m\u001b[0;34m,\u001b[0m \u001b[0mright\u001b[0m\u001b[0;34m)\u001b[0m\u001b[0;34m:\u001b[0m\u001b[0;34m\u001b[0m\u001b[0;34m\u001b[0m\u001b[0m\n\u001b[0;32m---> 52\u001b[0;31m     \u001b[0;32mreturn\u001b[0m \u001b[0moperator\u001b[0m\u001b[0;34m.\u001b[0m\u001b[0mand_\u001b[0m\u001b[0;34m(\u001b[0m\u001b[0mright\u001b[0m\u001b[0;34m,\u001b[0m \u001b[0mleft\u001b[0m\u001b[0;34m)\u001b[0m\u001b[0;34m\u001b[0m\u001b[0;34m\u001b[0m\u001b[0m\n\u001b[0m\u001b[1;32m     53\u001b[0m \u001b[0;34m\u001b[0m\u001b[0m\n",
      "\u001b[0;31mTypeError\u001b[0m: ufunc 'bitwise_and' not supported for the input types, and the inputs could not be safely coerced to any supported types according to the casting rule ''safe''",
      "\nDuring handling of the above exception, another exception occurred:\n",
      "\u001b[0;31mValueError\u001b[0m                                Traceback (most recent call last)",
      "\u001b[0;32m~/.pyenv/versions/anaconda3-2019.03/envs/ksvd/lib/python3.8/site-packages/pandas/core/ops/array_ops.py\u001b[0m in \u001b[0;36mna_logical_op\u001b[0;34m(x, y, op)\u001b[0m\n\u001b[1;32m    287\u001b[0m             \u001b[0;32mtry\u001b[0m\u001b[0;34m:\u001b[0m\u001b[0;34m\u001b[0m\u001b[0;34m\u001b[0m\u001b[0m\n\u001b[0;32m--> 288\u001b[0;31m                 \u001b[0mresult\u001b[0m \u001b[0;34m=\u001b[0m \u001b[0mlibops\u001b[0m\u001b[0;34m.\u001b[0m\u001b[0mscalar_binop\u001b[0m\u001b[0;34m(\u001b[0m\u001b[0mx\u001b[0m\u001b[0;34m,\u001b[0m \u001b[0my\u001b[0m\u001b[0;34m,\u001b[0m \u001b[0mop\u001b[0m\u001b[0;34m)\u001b[0m\u001b[0;34m\u001b[0m\u001b[0;34m\u001b[0m\u001b[0m\n\u001b[0m\u001b[1;32m    289\u001b[0m             except (\n",
      "\u001b[0;32mpandas/_libs/ops.pyx\u001b[0m in \u001b[0;36mpandas._libs.ops.scalar_binop\u001b[0;34m()\u001b[0m\n",
      "\u001b[0;31mValueError\u001b[0m: Buffer dtype mismatch, expected 'Python object' but got 'double'",
      "\nDuring handling of the above exception, another exception occurred:\n",
      "\u001b[0;31mTypeError\u001b[0m                                 Traceback (most recent call last)",
      "\u001b[0;32m<ipython-input-7-fcd11c574b16>\u001b[0m in \u001b[0;36m<module>\u001b[0;34m\u001b[0m\n\u001b[1;32m      2\u001b[0m     \u001b[0;32mfor\u001b[0m \u001b[0mj\u001b[0m \u001b[0;32min\u001b[0m \u001b[0mrange\u001b[0m\u001b[0;34m(\u001b[0m\u001b[0;36m10\u001b[0m\u001b[0;34m)\u001b[0m\u001b[0;34m:\u001b[0m\u001b[0;34m\u001b[0m\u001b[0;34m\u001b[0m\u001b[0m\n\u001b[1;32m      3\u001b[0m         \u001b[0;31m# print(lat_range[i],lat_range[i+1],log_range[j],log_range[j+1])\u001b[0m\u001b[0;34m\u001b[0m\u001b[0;34m\u001b[0m\u001b[0;34m\u001b[0m\u001b[0m\n\u001b[0;32m----> 4\u001b[0;31m         \u001b[0mprint\u001b[0m\u001b[0;34m(\u001b[0m\u001b[0mdf\u001b[0m\u001b[0;34m[\u001b[0m\u001b[0mdf\u001b[0m\u001b[0;34m[\u001b[0m\u001b[0;34m'Latitude'\u001b[0m\u001b[0;34m]\u001b[0m \u001b[0;34m>\u001b[0m \u001b[0mlat\u001b[0m\u001b[0;34m[\u001b[0m\u001b[0mi\u001b[0m\u001b[0;34m]\u001b[0m \u001b[0;34m&\u001b[0m \u001b[0mdf\u001b[0m\u001b[0;34m[\u001b[0m\u001b[0;34m'Latitude'\u001b[0m\u001b[0;34m]\u001b[0m \u001b[0;34m<\u001b[0m \u001b[0mlat\u001b[0m\u001b[0;34m[\u001b[0m\u001b[0mi\u001b[0m\u001b[0;34m+\u001b[0m\u001b[0;36m1\u001b[0m\u001b[0;34m]\u001b[0m\u001b[0;34m]\u001b[0m\u001b[0;34m)\u001b[0m\u001b[0;34m\u001b[0m\u001b[0;34m\u001b[0m\u001b[0m\n\u001b[0m\u001b[1;32m      5\u001b[0m         \u001b[0;31m# print([i,i+1],[j,j+1])\u001b[0m\u001b[0;34m\u001b[0m\u001b[0;34m\u001b[0m\u001b[0;34m\u001b[0m\u001b[0m\n",
      "\u001b[0;32m~/.pyenv/versions/anaconda3-2019.03/envs/ksvd/lib/python3.8/site-packages/pandas/core/ops/common.py\u001b[0m in \u001b[0;36mnew_method\u001b[0;34m(self, other)\u001b[0m\n\u001b[1;32m     62\u001b[0m         \u001b[0mother\u001b[0m \u001b[0;34m=\u001b[0m \u001b[0mitem_from_zerodim\u001b[0m\u001b[0;34m(\u001b[0m\u001b[0mother\u001b[0m\u001b[0;34m)\u001b[0m\u001b[0;34m\u001b[0m\u001b[0;34m\u001b[0m\u001b[0m\n\u001b[1;32m     63\u001b[0m \u001b[0;34m\u001b[0m\u001b[0m\n\u001b[0;32m---> 64\u001b[0;31m         \u001b[0;32mreturn\u001b[0m \u001b[0mmethod\u001b[0m\u001b[0;34m(\u001b[0m\u001b[0mself\u001b[0m\u001b[0;34m,\u001b[0m \u001b[0mother\u001b[0m\u001b[0;34m)\u001b[0m\u001b[0;34m\u001b[0m\u001b[0;34m\u001b[0m\u001b[0m\n\u001b[0m\u001b[1;32m     65\u001b[0m \u001b[0;34m\u001b[0m\u001b[0m\n\u001b[1;32m     66\u001b[0m     \u001b[0;32mreturn\u001b[0m \u001b[0mnew_method\u001b[0m\u001b[0;34m\u001b[0m\u001b[0;34m\u001b[0m\u001b[0m\n",
      "\u001b[0;32m~/.pyenv/versions/anaconda3-2019.03/envs/ksvd/lib/python3.8/site-packages/pandas/core/ops/__init__.py\u001b[0m in \u001b[0;36mwrapper\u001b[0;34m(self, other)\u001b[0m\n\u001b[1;32m    547\u001b[0m         \u001b[0mrvalues\u001b[0m \u001b[0;34m=\u001b[0m \u001b[0mextract_array\u001b[0m\u001b[0;34m(\u001b[0m\u001b[0mother\u001b[0m\u001b[0;34m,\u001b[0m \u001b[0mextract_numpy\u001b[0m\u001b[0;34m=\u001b[0m\u001b[0;32mTrue\u001b[0m\u001b[0;34m)\u001b[0m\u001b[0;34m\u001b[0m\u001b[0;34m\u001b[0m\u001b[0m\n\u001b[1;32m    548\u001b[0m \u001b[0;34m\u001b[0m\u001b[0m\n\u001b[0;32m--> 549\u001b[0;31m         \u001b[0mres_values\u001b[0m \u001b[0;34m=\u001b[0m \u001b[0mlogical_op\u001b[0m\u001b[0;34m(\u001b[0m\u001b[0mlvalues\u001b[0m\u001b[0;34m,\u001b[0m \u001b[0mrvalues\u001b[0m\u001b[0;34m,\u001b[0m \u001b[0mop\u001b[0m\u001b[0;34m)\u001b[0m\u001b[0;34m\u001b[0m\u001b[0;34m\u001b[0m\u001b[0m\n\u001b[0m\u001b[1;32m    550\u001b[0m         \u001b[0;32mreturn\u001b[0m \u001b[0m_construct_result\u001b[0m\u001b[0;34m(\u001b[0m\u001b[0mself\u001b[0m\u001b[0;34m,\u001b[0m \u001b[0mres_values\u001b[0m\u001b[0;34m,\u001b[0m \u001b[0mindex\u001b[0m\u001b[0;34m=\u001b[0m\u001b[0mself\u001b[0m\u001b[0;34m.\u001b[0m\u001b[0mindex\u001b[0m\u001b[0;34m,\u001b[0m \u001b[0mname\u001b[0m\u001b[0;34m=\u001b[0m\u001b[0mres_name\u001b[0m\u001b[0;34m)\u001b[0m\u001b[0;34m\u001b[0m\u001b[0;34m\u001b[0m\u001b[0m\n\u001b[1;32m    551\u001b[0m \u001b[0;34m\u001b[0m\u001b[0m\n",
      "\u001b[0;32m~/.pyenv/versions/anaconda3-2019.03/envs/ksvd/lib/python3.8/site-packages/pandas/core/ops/array_ops.py\u001b[0m in \u001b[0;36mlogical_op\u001b[0;34m(left, right, op)\u001b[0m\n\u001b[1;32m    364\u001b[0m         \u001b[0mfiller\u001b[0m \u001b[0;34m=\u001b[0m \u001b[0mfill_int\u001b[0m \u001b[0;32mif\u001b[0m \u001b[0mis_self_int_dtype\u001b[0m \u001b[0;32mand\u001b[0m \u001b[0mis_other_int_dtype\u001b[0m \u001b[0;32melse\u001b[0m \u001b[0mfill_bool\u001b[0m\u001b[0;34m\u001b[0m\u001b[0;34m\u001b[0m\u001b[0m\n\u001b[1;32m    365\u001b[0m \u001b[0;34m\u001b[0m\u001b[0m\n\u001b[0;32m--> 366\u001b[0;31m         \u001b[0mres_values\u001b[0m \u001b[0;34m=\u001b[0m \u001b[0mna_logical_op\u001b[0m\u001b[0;34m(\u001b[0m\u001b[0mlvalues\u001b[0m\u001b[0;34m,\u001b[0m \u001b[0mrvalues\u001b[0m\u001b[0;34m,\u001b[0m \u001b[0mop\u001b[0m\u001b[0;34m)\u001b[0m\u001b[0;34m\u001b[0m\u001b[0;34m\u001b[0m\u001b[0m\n\u001b[0m\u001b[1;32m    367\u001b[0m         \u001b[0mres_values\u001b[0m \u001b[0;34m=\u001b[0m \u001b[0mfiller\u001b[0m\u001b[0;34m(\u001b[0m\u001b[0mres_values\u001b[0m\u001b[0;34m)\u001b[0m  \u001b[0;31m# type: ignore\u001b[0m\u001b[0;34m\u001b[0m\u001b[0;34m\u001b[0m\u001b[0m\n\u001b[1;32m    368\u001b[0m \u001b[0;34m\u001b[0m\u001b[0m\n",
      "\u001b[0;32m~/.pyenv/versions/anaconda3-2019.03/envs/ksvd/lib/python3.8/site-packages/pandas/core/ops/array_ops.py\u001b[0m in \u001b[0;36mna_logical_op\u001b[0;34m(x, y, op)\u001b[0m\n\u001b[1;32m    295\u001b[0m             ):\n\u001b[1;32m    296\u001b[0m                 \u001b[0mtyp\u001b[0m \u001b[0;34m=\u001b[0m \u001b[0mtype\u001b[0m\u001b[0;34m(\u001b[0m\u001b[0my\u001b[0m\u001b[0;34m)\u001b[0m\u001b[0;34m.\u001b[0m\u001b[0m__name__\u001b[0m\u001b[0;34m\u001b[0m\u001b[0;34m\u001b[0m\u001b[0m\n\u001b[0;32m--> 297\u001b[0;31m                 raise TypeError(\n\u001b[0m\u001b[1;32m    298\u001b[0m                     \u001b[0;34mf\"Cannot perform '{op.__name__}' with a dtyped [{x.dtype}] array \"\u001b[0m\u001b[0;34m\u001b[0m\u001b[0;34m\u001b[0m\u001b[0m\n\u001b[1;32m    299\u001b[0m                     \u001b[0;34mf\"and scalar of type [{typ}]\"\u001b[0m\u001b[0;34m\u001b[0m\u001b[0;34m\u001b[0m\u001b[0m\n",
      "\u001b[0;31mTypeError\u001b[0m: Cannot perform 'rand_' with a dtyped [float64] array and scalar of type [bool]"
     ]
    }
   ],
   "source": [
    "for i in range(10):\n",
    "    for j in range(10):\n",
    "        # print(lat_range[i],lat_range[i+1],log_range[j],log_range[j+1])\n",
    "        print(df[df['Latitude'] > lat[i] & df['Latitude'] < lat[i+1]])\n",
    "        # print([i,i+1],[j,j+1])"
   ]
  },
  {
   "cell_type": "code",
   "execution_count": 8,
   "metadata": {},
   "outputs": [],
   "source": [
    "pic = utils.draw_rat_heatmap(df,10,lat,log)"
   ]
  },
  {
   "cell_type": "code",
   "execution_count": 9,
   "metadata": {},
   "outputs": [
    {
     "name": "stdout",
     "output_type": "stream",
     "text": "88.0 51\n"
    },
    {
     "data": {
      "text/plain": "<matplotlib.image.AxesImage at 0x127ea8070>"
     },
     "execution_count": 9,
     "metadata": {},
     "output_type": "execute_result"
    },
    {
     "data": {
      "image/png": "[encoded data removed]",
      "image/svg+xml": "<?xml version=\"1.0\" encoding=\"utf-8\" standalone=\"no\"?>\n<!DOCTYPE svg PUBLIC \"-//W3C//DTD SVG 1.1//EN\"\n  \"http://www.w3.org/Graphics/SVG/1.1/DTD/svg11.dtd\">\n<!-- Created with matplotlib (https://matplotlib.org/) -->\n<svg height=\"248.518125pt\" version=\"1.1\" viewBox=\"0 0 245.2025 248.518125\" width=\"245.2025pt\" xmlns=\"http://www.w3.org/2000/svg\" xmlns:xlink=\"http://www.w3.org/1999/xlink\">\n <defs>\n  <style type=\"text/css\">\n*{stroke-linecap:butt;stroke-linejoin:round;}\n  </style>\n </defs>\n <g id=\"figure_1\">\n  <g id=\"patch_1\">\n   <path d=\"M 0 248.518125 \nL 245.2025 248.518125 \nL 245.2025 0 \nL 0 0 \nz\n\" style=\"fill:none;\"/>\n  </g>\n  <g id=\"axes_1\">\n   <g id=\"patch_2\">\n    <path d=\"M 20.5625 224.64 \nL 238.0025 224.64 \nL 238.0025 7.2 \nL 20.5625 7.2 \nz\n\" style=\"fill:#ffffff;\"/>\n   </g>\n   <g clip-path=\"url(#p5b76704248)\">\n    <image height=\"218\" id=\"imagead4dd30c3d\" transform=\"scale(1 -1)translate(0 -218)\" width=\"218\" x=\"21\" xlink:href=\"data:image/png;base64,\niVBORw0KGgoAAAANSUhEUgAAANoAAADaCAYAAADAHVzbAAAABHNCSVQICAgIfAhkiAAAAu9JREFUeJzt3MFtwzAQRUEyUP8tOwdX4MM+Z5GZAgSB0gNv/55zXgcY9fPtF4D/QGgQEBoEhAYBoUFAaBAQGgSEBgGhQUBoEBAaBIQGAaFBQGgQEBoEhAYBoUFAaBAQGgSEBgGhQeB5vWZGsO69I8/dZOpsp/hmc9xoEBAaBIQGAaFBQGgQEBoEhAYBoUFAaBAQGgSEBgGhQUBoEBAaBIQGAaFBQGgQEBoEhAYBoUFAaBB4ph68aQHK+tPbpm82ZepfcKNBQGgQEBoEhAYBoUFAaBAQGgSEBgGhQUBoEBAaBIQGAaFBQGgQEBoEhAYBoUFAaBAQGgSEBoF7zlm1yGJAhnP2DSq50SAgNAgIDQJCg4DQICA0CAgNAkKDgNAgIDQICA0CQoOA0CAgNAgIDQJCg4DQICA0CAgNAkKDgNAg8Ew92FrV3FLTtrOdOIepM5j6Zm40CAgNAkKDgNAgIDQICA0CQoOA0CAgNAgIDQJCg4DQICA0CAgNAkKDgNAgIDQICA0CQoOA0CAgNAiMrWCxb6lpysQ5bDsDNxoEhAYBoUFAaBAQGgSEBgGhQUBoEBAaBIQGAaFBQGgQEBoEhAYBoUFAaBAQGgSEBgGhQUBoEBAaBJ6ppSb22fQvbHrXc9xokBAaBIQGAaFBQGgQEBoEhAYBoUFAaBAQGgSEBgGhQUBoEBAaBIQGAaFBQGgQEBoEhAYBoUFAaBB4vv0Cf8G999uv8JFtC1C40SAhNAgIDQJCg4DQICA0CAgNAkKDgNAgIDQICA0CQoOA0CAgNAgIDQJCg4DQICA0CAgNAkKDwLpxnk1DOlMjOpvOgDc3GgSEBgGhQUBoEBAaBIQGAaFBQGgQEBoEhAYBoUFAaBAQGgSEBgGhQUBoEBAaBIQGAaFBQGgQEBoEnqlFpakFqInnWpVimhsNAkKDgNAgIDQICA0CQoOA0CAgNAgIDQJCg4DQICA0CAgNAkKDgNAgIDQICA0CQoOA0CAgNAgIDQK/l9c2u45DJ7sAAAAASUVORK5CYII=\" y=\"-6.518125\"/>\n   </g>\n   <g id=\"matplotlib.axis_1\">\n    <g id=\"xtick_1\">\n     <g id=\"line2d_1\">\n      <defs>\n       <path d=\"M 0 0 \nL 0 3.5 \n\" id=\"m02734c6145\" style=\"stroke:#000000;stroke-width:0.8;\"/>\n      </defs>\n      <g>\n       <use style=\"stroke:#000000;stroke-width:0.8;\" x=\"31.4345\" xlink:href=\"#m02734c6145\" y=\"224.64\"/>\n      </g>\n     </g>\n     <g id=\"text_1\">\n      <!-- 0 -->\n      <defs>\n       <path d=\"M 31.78125 66.40625 \nQ 24.171875 66.40625 20.328125 58.90625 \nQ 16.5 51.421875 16.5 36.375 \nQ 16.5 21.390625 20.328125 13.890625 \nQ 24.171875 6.390625 31.78125 6.390625 \nQ 39.453125 6.390625 43.28125 13.890625 \nQ 47.125 21.390625 47.125 36.375 \nQ 47.125 51.421875 43.28125 58.90625 \nQ 39.453125 66.40625 31.78125 66.40625 \nz\nM 31.78125 74.21875 \nQ 44.046875 74.21875 50.515625 64.515625 \nQ 56.984375 54.828125 56.984375 36.375 \nQ 56.984375 17.96875 50.515625 8.265625 \nQ 44.046875 -1.421875 31.78125 -1.421875 \nQ 19.53125 -1.421875 13.0625 8.265625 \nQ 6.59375 17.96875 6.59375 36.375 \nQ 6.59375 54.828125 13.0625 64.515625 \nQ 19.53125 74.21875 31.78125 74.21875 \nz\n\" id=\"DejaVuSans-48\"/>\n      </defs>\n      <g transform=\"translate(28.25325 239.238437)scale(0.1 -0.1)\">\n       <use xlink:href=\"#DejaVuSans-48\"/>\n      </g>\n     </g>\n    </g>\n    <g id=\"xtick_2\">\n     <g id=\"line2d_2\">\n      <g>\n       <use style=\"stroke:#000000;stroke-width:0.8;\" x=\"74.9225\" xlink:href=\"#m02734c6145\" y=\"224.64\"/>\n      </g>\n     </g>\n     <g id=\"text_2\">\n      <!-- 2 -->\n      <defs>\n       <path d=\"M 19.1875 8.296875 \nL 53.609375 8.296875 \nL 53.609375 0 \nL 7.328125 0 \nL 7.328125 8.296875 \nQ 12.9375 14.109375 22.625 23.890625 \nQ 32.328125 33.6875 34.8125 36.53125 \nQ 39.546875 41.84375 41.421875 45.53125 \nQ 43.3125 49.21875 43.3125 52.78125 \nQ 43.3125 58.59375 39.234375 62.25 \nQ 35.15625 65.921875 28.609375 65.921875 \nQ 23.96875 65.921875 18.8125 64.3125 \nQ 13.671875 62.703125 7.8125 59.421875 \nL 7.8125 69.390625 \nQ 13.765625 71.78125 18.9375 73 \nQ 24.125 74.21875 28.421875 74.21875 \nQ 39.75 74.21875 46.484375 68.546875 \nQ 53.21875 62.890625 53.21875 53.421875 \nQ 53.21875 48.921875 51.53125 44.890625 \nQ 49.859375 40.875 45.40625 35.40625 \nQ 44.1875 33.984375 37.640625 27.21875 \nQ 31.109375 20.453125 19.1875 8.296875 \nz\n\" id=\"DejaVuSans-50\"/>\n      </defs>\n      <g transform=\"translate(71.74125 239.238437)scale(0.1 -0.1)\">\n       <use xlink:href=\"#DejaVuSans-50\"/>\n      </g>\n     </g>\n    </g>\n    <g id=\"xtick_3\">\n     <g id=\"line2d_3\">\n      <g>\n       <use style=\"stroke:#000000;stroke-width:0.8;\" x=\"118.4105\" xlink:href=\"#m02734c6145\" y=\"224.64\"/>\n      </g>\n     </g>\n     <g id=\"text_3\">\n      <!-- 4 -->\n      <defs>\n       <path d=\"M 37.796875 64.3125 \nL 12.890625 25.390625 \nL 37.796875 25.390625 \nz\nM 35.203125 72.90625 \nL 47.609375 72.90625 \nL 47.609375 25.390625 \nL 58.015625 25.390625 \nL 58.015625 17.1875 \nL 47.609375 17.1875 \nL 47.609375 0 \nL 37.796875 0 \nL 37.796875 17.1875 \nL 4.890625 17.1875 \nL 4.890625 26.703125 \nz\n\" id=\"DejaVuSans-52\"/>\n      </defs>\n      <g transform=\"translate(115.22925 239.238437)scale(0.1 -0.1)\">\n       <use xlink:href=\"#DejaVuSans-52\"/>\n      </g>\n     </g>\n    </g>\n    <g id=\"xtick_4\">\n     <g id=\"line2d_4\">\n      <g>\n       <use style=\"stroke:#000000;stroke-width:0.8;\" x=\"161.8985\" xlink:href=\"#m02734c6145\" y=\"224.64\"/>\n      </g>\n     </g>\n     <g id=\"text_4\">\n      <!-- 6 -->\n      <defs>\n       <path d=\"M 33.015625 40.375 \nQ 26.375 40.375 22.484375 35.828125 \nQ 18.609375 31.296875 18.609375 23.390625 \nQ 18.609375 15.53125 22.484375 10.953125 \nQ 26.375 6.390625 33.015625 6.390625 \nQ 39.65625 6.390625 43.53125 10.953125 \nQ 47.40625 15.53125 47.40625 23.390625 \nQ 47.40625 31.296875 43.53125 35.828125 \nQ 39.65625 40.375 33.015625 40.375 \nz\nM 52.59375 71.296875 \nL 52.59375 62.3125 \nQ 48.875 64.0625 45.09375 64.984375 \nQ 41.3125 65.921875 37.59375 65.921875 \nQ 27.828125 65.921875 22.671875 59.328125 \nQ 17.53125 52.734375 16.796875 39.40625 \nQ 19.671875 43.65625 24.015625 45.921875 \nQ 28.375 48.1875 33.59375 48.1875 \nQ 44.578125 48.1875 50.953125 41.515625 \nQ 57.328125 34.859375 57.328125 23.390625 \nQ 57.328125 12.15625 50.6875 5.359375 \nQ 44.046875 -1.421875 33.015625 -1.421875 \nQ 20.359375 -1.421875 13.671875 8.265625 \nQ 6.984375 17.96875 6.984375 36.375 \nQ 6.984375 53.65625 15.1875 63.9375 \nQ 23.390625 74.21875 37.203125 74.21875 \nQ 40.921875 74.21875 44.703125 73.484375 \nQ 48.484375 72.75 52.59375 71.296875 \nz\n\" id=\"DejaVuSans-54\"/>\n      </defs>\n      <g transform=\"translate(158.71725 239.238437)scale(0.1 -0.1)\">\n       <use xlink:href=\"#DejaVuSans-54\"/>\n      </g>\n     </g>\n    </g>\n    <g id=\"xtick_5\">\n     <g id=\"line2d_5\">\n      <g>\n       <use style=\"stroke:#000000;stroke-width:0.8;\" x=\"205.3865\" xlink:href=\"#m02734c6145\" y=\"224.64\"/>\n      </g>\n     </g>\n     <g id=\"text_5\">\n      <!-- 8 -->\n      <defs>\n       <path d=\"M 31.78125 34.625 \nQ 24.75 34.625 20.71875 30.859375 \nQ 16.703125 27.09375 16.703125 20.515625 \nQ 16.703125 13.921875 20.71875 10.15625 \nQ 24.75 6.390625 31.78125 6.390625 \nQ 38.8125 6.390625 42.859375 10.171875 \nQ 46.921875 13.96875 46.921875 20.515625 \nQ 46.921875 27.09375 42.890625 30.859375 \nQ 38.875 34.625 31.78125 34.625 \nz\nM 21.921875 38.8125 \nQ 15.578125 40.375 12.03125 44.71875 \nQ 8.5 49.078125 8.5 55.328125 \nQ 8.5 64.0625 14.71875 69.140625 \nQ 20.953125 74.21875 31.78125 74.21875 \nQ 42.671875 74.21875 48.875 69.140625 \nQ 55.078125 64.0625 55.078125 55.328125 \nQ 55.078125 49.078125 51.53125 44.71875 \nQ 48 40.375 41.703125 38.8125 \nQ 48.828125 37.15625 52.796875 32.3125 \nQ 56.78125 27.484375 56.78125 20.515625 \nQ 56.78125 9.90625 50.3125 4.234375 \nQ 43.84375 -1.421875 31.78125 -1.421875 \nQ 19.734375 -1.421875 13.25 4.234375 \nQ 6.78125 9.90625 6.78125 20.515625 \nQ 6.78125 27.484375 10.78125 32.3125 \nQ 14.796875 37.15625 21.921875 38.8125 \nz\nM 18.3125 54.390625 \nQ 18.3125 48.734375 21.84375 45.5625 \nQ 25.390625 42.390625 31.78125 42.390625 \nQ 38.140625 42.390625 41.71875 45.5625 \nQ 45.3125 48.734375 45.3125 54.390625 \nQ 45.3125 60.0625 41.71875 63.234375 \nQ 38.140625 66.40625 31.78125 66.40625 \nQ 25.390625 66.40625 21.84375 63.234375 \nQ 18.3125 60.0625 18.3125 54.390625 \nz\n\" id=\"DejaVuSans-56\"/>\n      </defs>\n      <g transform=\"translate(202.20525 239.238437)scale(0.1 -0.1)\">\n       <use xlink:href=\"#DejaVuSans-56\"/>\n      </g>\n     </g>\n    </g>\n   </g>\n   <g id=\"matplotlib.axis_2\">\n    <g id=\"ytick_1\">\n     <g id=\"line2d_6\">\n      <defs>\n       <path d=\"M 0 0 \nL -3.5 0 \n\" id=\"m0762f3cbc2\" style=\"stroke:#000000;stroke-width:0.8;\"/>\n      </defs>\n      <g>\n       <use style=\"stroke:#000000;stroke-width:0.8;\" x=\"20.5625\" xlink:href=\"#m0762f3cbc2\" y=\"18.072\"/>\n      </g>\n     </g>\n     <g id=\"text_6\">\n      <!-- 0 -->\n      <g transform=\"translate(7.2 21.871219)scale(0.1 -0.1)\">\n       <use xlink:href=\"#DejaVuSans-48\"/>\n      </g>\n     </g>\n    </g>\n    <g id=\"ytick_2\">\n     <g id=\"line2d_7\">\n      <g>\n       <use style=\"stroke:#000000;stroke-width:0.8;\" x=\"20.5625\" xlink:href=\"#m0762f3cbc2\" y=\"61.56\"/>\n      </g>\n     </g>\n     <g id=\"text_7\">\n      <!-- 2 -->\n      <g transform=\"translate(7.2 65.359219)scale(0.1 -0.1)\">\n       <use xlink:href=\"#DejaVuSans-50\"/>\n      </g>\n     </g>\n    </g>\n    <g id=\"ytick_3\">\n     <g id=\"line2d_8\">\n      <g>\n       <use style=\"stroke:#000000;stroke-width:0.8;\" x=\"20.5625\" xlink:href=\"#m0762f3cbc2\" y=\"105.048\"/>\n      </g>\n     </g>\n     <g id=\"text_8\">\n      <!-- 4 -->\n      <g transform=\"translate(7.2 108.847219)scale(0.1 -0.1)\">\n       <use xlink:href=\"#DejaVuSans-52\"/>\n      </g>\n     </g>\n    </g>\n    <g id=\"ytick_4\">\n     <g id=\"line2d_9\">\n      <g>\n       <use style=\"stroke:#000000;stroke-width:0.8;\" x=\"20.5625\" xlink:href=\"#m0762f3cbc2\" y=\"148.536\"/>\n      </g>\n     </g>\n     <g id=\"text_9\">\n      <!-- 6 -->\n      <g transform=\"translate(7.2 152.335219)scale(0.1 -0.1)\">\n       <use xlink:href=\"#DejaVuSans-54\"/>\n      </g>\n     </g>\n    </g>\n    <g id=\"ytick_5\">\n     <g id=\"line2d_10\">\n      <g>\n       <use style=\"stroke:#000000;stroke-width:0.8;\" x=\"20.5625\" xlink:href=\"#m0762f3cbc2\" y=\"192.024\"/>\n      </g>\n     </g>\n     <g id=\"text_10\">\n      <!-- 8 -->\n      <g transform=\"translate(7.2 195.823219)scale(0.1 -0.1)\">\n       <use xlink:href=\"#DejaVuSans-56\"/>\n      </g>\n     </g>\n    </g>\n   </g>\n   <g id=\"patch_3\">\n    <path d=\"M 20.5625 224.64 \nL 20.5625 7.2 \n\" style=\"fill:none;stroke:#000000;stroke-linecap:square;stroke-linejoin:miter;stroke-width:0.8;\"/>\n   </g>\n   <g id=\"patch_4\">\n    <path d=\"M 238.0025 224.64 \nL 238.0025 7.2 \n\" style=\"fill:none;stroke:#000000;stroke-linecap:square;stroke-linejoin:miter;stroke-width:0.8;\"/>\n   </g>\n   <g id=\"patch_5\">\n    <path d=\"M 20.5625 224.64 \nL 238.0025 224.64 \n\" style=\"fill:none;stroke:#000000;stroke-linecap:square;stroke-linejoin:miter;stroke-width:0.8;\"/>\n   </g>\n   <g id=\"patch_6\">\n    <path d=\"M 20.5625 7.2 \nL 238.0025 7.2 \n\" style=\"fill:none;stroke:#000000;stroke-linecap:square;stroke-linejoin:miter;stroke-width:0.8;\"/>\n   </g>\n  </g>\n </g>\n <defs>\n  <clipPath id=\"p5b76704248\">\n   <rect height=\"217.44\" width=\"217.44\" x=\"20.5625\" y=\"7.2\"/>\n  </clipPath>\n </defs>\n</svg>\n",
      "text/plain": "<Figure size 432x288 with 1 Axes>"
     },
     "metadata": {
      "needs_background": "light"
     },
     "output_type": "display_data"
    }
   ],
   "source": [
    "plt.imshow(pic,cmap='gray')\n",
    "sum = 0\n",
    "sum1=0\n",
    "res = 10\n",
    "pic = utils.draw_rat_heatmap(df,res,lat,log)\n",
    "for i in range(res):\n",
    "    for j in range(res):\n",
    "        sum += pic[i][j]\n",
    "        if pic[i][j] !=0 :\n",
    "            sum1+=1\n",
    "            pic[i][j]=1\n",
    "print(sum,sum1)\n",
    "plt.imshow(pic,cmap='gray')"
   ]
  },
  {
   "cell_type": "markdown",
   "metadata": {},
   "source": [
    "## 尝试找到重复点的ID对"
   ]
  },
  {
   "cell_type": "code",
   "execution_count": 40,
   "metadata": {},
   "outputs": [],
   "source": [
    "def draw_lune_heatmap(df,res,lat=lat,log=log):\n",
    "    lat_range = np.linspace(lat[1],lat[0],res+1)\n",
    "    log_range = np.linspace(log[0],log[1],res+1)\n",
    "    pic = np.zeros((res,res))\n",
    "    pic2 = np.zeros((res,res))\n",
    "    pairs = []\n",
    "    for i in range(res):\n",
    "        # print(i,lat_range[i],lat_range[i+1])\n",
    "        for j in range(res):\n",
    "            sub_df = df[(df['Latitude'] < lat_range[i]) & (df['Latitude'] > lat_range[i+1]) & (df['Longitude'] > log_range[j]) & (df['Longitude'] < log_range[j+1])]\n",
    "            pic[i][j] = len(sub_df)\n",
    "            if len(sub_df) > 0:\n",
    "                pic2[i][j]=1\n",
    "            # pic[i][j] = i*res+j\n",
    "            if len(sub_df) > 1:\n",
    "                pairs.append([i*res+j,sub_df['ID'].values])\n",
    "            max_value = 0\n",
    "            max_id = 0\n",
    "            for value in sub_df['ID'].values:\n",
    "                # print(value)\n",
    "                if len(sub_df[sub_df['ID'] == value]) > max_value:\n",
    "                    max_id =value\n",
    "            pic[i][j] = max_id\n",
    "    return pic,pairs,pic2\n",
    "# 输出的pic有颜色明暗，pic2为黑白两色"
   ]
  },
  {
   "cell_type": "code",
   "execution_count": 74,
   "metadata": {},
   "outputs": [
    {
     "data": {
      "text/plain": "array([  3,   5,   7,   8,   9,  10,  11,  12,  13,  14,  15,  17,  18,\n        19,  21,  23,  24,  25,  26,  27,  30,  31,  32,  33,  34,  35,\n        36,  37,  39,  40,  41,  42,  43,  44,  45,  46,  47,  49,  50,\n        51,  53,  54,  55,  56,  57,  59,  60,  61,  62,  63,  64,  65,\n        66,  68,  69,  70,  71,  72,  73,  75,  76,  79,  80,  81,  82,\n        84,  85,  87,  88,  89,  92,  93,  94,  95,  96,  97,  98,  99,\n       100, 103, 104, 105, 106, 107, 109, 111, 121, 122])"
     },
     "execution_count": 74,
     "metadata": {},
     "output_type": "execute_result"
    }
   ],
   "source": [
    "df['ID'].values"
   ]
  },
  {
   "cell_type": "code",
   "execution_count": 45,
   "metadata": {},
   "outputs": [
    {
     "name": "stdout",
     "output_type": "stream",
     "text": "[[14, array([ 3, 23, 42])], [15, array([ 5, 17])], [24, array([21, 26, 41])], [25, array([14, 30, 39, 56])], [26, array([  9,  15,  18,  24,  37,  44, 105, 121])], [27, array([12, 45, 46])], [28, array([ 8, 25, 36])], [33, array([64, 75, 99])], [36, array([13, 40])], [37, array([ 34,  43, 106])], [53, array([ 70, 122])], [54, array([49, 68])], [63, array([66, 72])], [64, array([54, 73])], [66, array([ 32,  35,  50,  94, 107])], [69, array([79, 95])], [75, array([92, 97])], [77, array([33, 53])], [78, array([10, 19])], [91, array([85, 89])]]\n[[  0.   0.   0.   0.   0.   0.   0.   0.   0.   0.]\n [ 63.   0.   0.   0.  42.  17.   0.   0.   0.   0.]\n [ 47.   7.  27.   0.  41.  56. 121.  46.  36.   0.]\n [  0.   0. 111.  99.  57.  59.  40. 106.   0.   0.]\n [  0.  61.  71.  65.   0.  82.  62.   0.  76.   0.]\n [  0.  51.  11. 122.  68.   0.   0.  60.   0.   0.]\n [ 84.  81.  55.  72.  73.   0. 107.  31.  69.  95.]\n [103.  80.  96.   0.   0.  97. 100.  53.  19.  93.]\n [109.  87.   0.   0. 104.   0.   0.   0.   0.   0.]\n [  0.  89.  88.   0.  98.   0.   0.   0.   0.   0.]]\n"
    },
    {
     "data": {
      "image/png": "[encoded data removed]",
      "image/svg+xml": "<?xml version=\"1.0\" encoding=\"utf-8\" standalone=\"no\"?>\n<!DOCTYPE svg PUBLIC \"-//W3C//DTD SVG 1.1//EN\"\n  \"http://www.w3.org/Graphics/SVG/1.1/DTD/svg11.dtd\">\n<!-- Created with matplotlib (https://matplotlib.org/) -->\n<svg height=\"265.459875pt\" version=\"1.1\" viewBox=\"0 0 245.2025 265.459875\" width=\"245.2025pt\" xmlns=\"http://www.w3.org/2000/svg\" xmlns:xlink=\"http://www.w3.org/1999/xlink\">\n <defs>\n  <style type=\"text/css\">\n*{stroke-linecap:butt;stroke-linejoin:round;}\n  </style>\n </defs>\n <g id=\"figure_1\">\n  <g id=\"patch_1\">\n   <path d=\"M 0 265.459875 \nL 245.2025 265.459875 \nL 245.2025 0 \nL 0 0 \nz\n\" style=\"fill:#ffffff;\"/>\n  </g>\n  <g id=\"axes_1\">\n   <g id=\"patch_2\">\n    <path d=\"M 20.5625 241.58175 \nL 238.0025 241.58175 \nL 238.0025 24.14175 \nL 20.5625 24.14175 \nz\n\" style=\"fill:#e5e5e5;\"/>\n   </g>\n   <g clip-path=\"url(#p6f727847c0)\">\n    <image height=\"218\" id=\"image65006b04ea\" transform=\"scale(1 -1)translate(0 -218)\" width=\"218\" x=\"20.5625\" xlink:href=\"data:image/png;base64,\niVBORw0KGgoAAAANSUhEUgAAANoAAADaCAYAAADAHVzbAAAABHNCSVQICAgIfAhkiAAAAwBJREFUeJzt3MFNw1AQQMEYuQrOKYAiItFAmqULqiBVIHOiAA77rB9mCrBWtp/2ttttux+XAR9fnxOPHfH++jby3Kl3MDUvc17OHgD+A6FBQGgQEBoEhAYBoUFAaBAQGgSEBgGhQUBoEBAaBIQGAaFBQGgQEBoEhAYBoUFAaBAQGgSEBoF9pWtVl4sLUKzJRoOA0CAgNAgIDQJCg4DQICA0CAgNAkKDgNAgIDQICA0CQoOA0CAgNAgIDQJCg4DQICA0CAgNAkKDwPb9uB5nD3G21S5rrXa5DBsNEkKDgNAgIDQICA0CQoOA0CAgNAgIDQJCg4DQICA0CAgNAkKDgNAgIDQICA0CQoOA0CAgNAg4zrOgqWNCjv7MsdEgIDQICA0CQoOA0CAgNAgIDQJCg4DQICA0CAgNAkKDgNAgIDQICA0CQoOA0CAgNAgIDQJCg4DQILC7qMSvlf6FqVmn2GgQEBoEhAYBoUFAaBAQGgSEBgGhQUBoEBAaBIQGAaFBQGgQEBoEhAYBoUFAaBAQGgSEBgGhQUBoENjPHuCZrXRVatLEe5h6B1PfzEaDgNAgIDQICA0CQoOA0CAgNAgIDQJCg4DQICA0CAgNAkKDgNAgIDQICA0CQoOA0CAgNAgIDQJCg8B22+7H2UP8xWoXoJgxda1qio0GAaFBQGgQEBoEhAYBoUFAaBAQGgSEBgGhQUBoEBAaBIQGAaFBQGgQEBoEhAYBoUFAaBAQGgSEBoHt+3Fd6grWhKmLSi52rWfqX7DRICA0CAgNAkKDgNAgIDQICA0CQoOA0CAgNAgIDQJCg4DQICA0CAgNAkKDgNAgIDQICA0CQoPAPvXgqSMnzPHN5thoEBAaBIQGAaFBQGgQEBoEhAYBoUFAaBAQGgSEBgGhQUBoEBAaBIQGAaFBQGgQEBoEhAYBoUFAaBDYbtv9OHsIeHY2GgSEBgGhQUBoEBAaBIQGAaFBQGgQEBoEhAYBoUFAaBAQGgSEBgGhQUBoEBAaBIQGAaFBQGgQEBoEfgAEbDNpBWNeIQAAAABJRU5ErkJggg==\" y=\"-23.58175\"/>\n   </g>\n   <g id=\"matplotlib.axis_1\">\n    <g id=\"xtick_1\">\n     <g id=\"line2d_1\">\n      <defs>\n       <path d=\"M 0 0 \nL 0 3.5 \n\" id=\"m4965781ad2\" style=\"stroke:#555555;stroke-width:0.8;\"/>\n      </defs>\n      <g>\n       <use style=\"fill:#555555;stroke:#555555;stroke-width:0.8;\" x=\"31.4345\" xlink:href=\"#m4965781ad2\" y=\"241.58175\"/>\n      </g>\n     </g>\n     <g id=\"text_1\">\n      <!-- 0 -->\n      <defs>\n       <path d=\"M 31.78125 66.40625 \nQ 24.171875 66.40625 20.328125 58.90625 \nQ 16.5 51.421875 16.5 36.375 \nQ 16.5 21.390625 20.328125 13.890625 \nQ 24.171875 6.390625 31.78125 6.390625 \nQ 39.453125 6.390625 43.28125 13.890625 \nQ 47.125 21.390625 47.125 36.375 \nQ 47.125 51.421875 43.28125 58.90625 \nQ 39.453125 66.40625 31.78125 66.40625 \nz\nM 31.78125 74.21875 \nQ 44.046875 74.21875 50.515625 64.515625 \nQ 56.984375 54.828125 56.984375 36.375 \nQ 56.984375 17.96875 50.515625 8.265625 \nQ 44.046875 -1.421875 31.78125 -1.421875 \nQ 19.53125 -1.421875 13.0625 8.265625 \nQ 6.59375 17.96875 6.59375 36.375 \nQ 6.59375 54.828125 13.0625 64.515625 \nQ 19.53125 74.21875 31.78125 74.21875 \nz\n\" id=\"DejaVuSans-48\"/>\n      </defs>\n      <g style=\"fill:#555555;\" transform=\"translate(28.25325 256.180187)scale(0.1 -0.1)\">\n       <use xlink:href=\"#DejaVuSans-48\"/>\n      </g>\n     </g>\n    </g>\n    <g id=\"xtick_2\">\n     <g id=\"line2d_2\">\n      <g>\n       <use style=\"fill:#555555;stroke:#555555;stroke-width:0.8;\" x=\"74.9225\" xlink:href=\"#m4965781ad2\" y=\"241.58175\"/>\n      </g>\n     </g>\n     <g id=\"text_2\">\n      <!-- 2 -->\n      <defs>\n       <path d=\"M 19.1875 8.296875 \nL 53.609375 8.296875 \nL 53.609375 0 \nL 7.328125 0 \nL 7.328125 8.296875 \nQ 12.9375 14.109375 22.625 23.890625 \nQ 32.328125 33.6875 34.8125 36.53125 \nQ 39.546875 41.84375 41.421875 45.53125 \nQ 43.3125 49.21875 43.3125 52.78125 \nQ 43.3125 58.59375 39.234375 62.25 \nQ 35.15625 65.921875 28.609375 65.921875 \nQ 23.96875 65.921875 18.8125 64.3125 \nQ 13.671875 62.703125 7.8125 59.421875 \nL 7.8125 69.390625 \nQ 13.765625 71.78125 18.9375 73 \nQ 24.125 74.21875 28.421875 74.21875 \nQ 39.75 74.21875 46.484375 68.546875 \nQ 53.21875 62.890625 53.21875 53.421875 \nQ 53.21875 48.921875 51.53125 44.890625 \nQ 49.859375 40.875 45.40625 35.40625 \nQ 44.1875 33.984375 37.640625 27.21875 \nQ 31.109375 20.453125 19.1875 8.296875 \nz\n\" id=\"DejaVuSans-50\"/>\n      </defs>\n      <g style=\"fill:#555555;\" transform=\"translate(71.74125 256.180187)scale(0.1 -0.1)\">\n       <use xlink:href=\"#DejaVuSans-50\"/>\n      </g>\n     </g>\n    </g>\n    <g id=\"xtick_3\">\n     <g id=\"line2d_3\">\n      <g>\n       <use style=\"fill:#555555;stroke:#555555;stroke-width:0.8;\" x=\"118.4105\" xlink:href=\"#m4965781ad2\" y=\"241.58175\"/>\n      </g>\n     </g>\n     <g id=\"text_3\">\n      <!-- 4 -->\n      <defs>\n       <path d=\"M 37.796875 64.3125 \nL 12.890625 25.390625 \nL 37.796875 25.390625 \nz\nM 35.203125 72.90625 \nL 47.609375 72.90625 \nL 47.609375 25.390625 \nL 58.015625 25.390625 \nL 58.015625 17.1875 \nL 47.609375 17.1875 \nL 47.609375 0 \nL 37.796875 0 \nL 37.796875 17.1875 \nL 4.890625 17.1875 \nL 4.890625 26.703125 \nz\n\" id=\"DejaVuSans-52\"/>\n      </defs>\n      <g style=\"fill:#555555;\" transform=\"translate(115.22925 256.180187)scale(0.1 -0.1)\">\n       <use xlink:href=\"#DejaVuSans-52\"/>\n      </g>\n     </g>\n    </g>\n    <g id=\"xtick_4\">\n     <g id=\"line2d_4\">\n      <g>\n       <use style=\"fill:#555555;stroke:#555555;stroke-width:0.8;\" x=\"161.8985\" xlink:href=\"#m4965781ad2\" y=\"241.58175\"/>\n      </g>\n     </g>\n     <g id=\"text_4\">\n      <!-- 6 -->\n      <defs>\n       <path d=\"M 33.015625 40.375 \nQ 26.375 40.375 22.484375 35.828125 \nQ 18.609375 31.296875 18.609375 23.390625 \nQ 18.609375 15.53125 22.484375 10.953125 \nQ 26.375 6.390625 33.015625 6.390625 \nQ 39.65625 6.390625 43.53125 10.953125 \nQ 47.40625 15.53125 47.40625 23.390625 \nQ 47.40625 31.296875 43.53125 35.828125 \nQ 39.65625 40.375 33.015625 40.375 \nz\nM 52.59375 71.296875 \nL 52.59375 62.3125 \nQ 48.875 64.0625 45.09375 64.984375 \nQ 41.3125 65.921875 37.59375 65.921875 \nQ 27.828125 65.921875 22.671875 59.328125 \nQ 17.53125 52.734375 16.796875 39.40625 \nQ 19.671875 43.65625 24.015625 45.921875 \nQ 28.375 48.1875 33.59375 48.1875 \nQ 44.578125 48.1875 50.953125 41.515625 \nQ 57.328125 34.859375 57.328125 23.390625 \nQ 57.328125 12.15625 50.6875 5.359375 \nQ 44.046875 -1.421875 33.015625 -1.421875 \nQ 20.359375 -1.421875 13.671875 8.265625 \nQ 6.984375 17.96875 6.984375 36.375 \nQ 6.984375 53.65625 15.1875 63.9375 \nQ 23.390625 74.21875 37.203125 74.21875 \nQ 40.921875 74.21875 44.703125 73.484375 \nQ 48.484375 72.75 52.59375 71.296875 \nz\n\" id=\"DejaVuSans-54\"/>\n      </defs>\n      <g style=\"fill:#555555;\" transform=\"translate(158.71725 256.180187)scale(0.1 -0.1)\">\n       <use xlink:href=\"#DejaVuSans-54\"/>\n      </g>\n     </g>\n    </g>\n    <g id=\"xtick_5\">\n     <g id=\"line2d_5\">\n      <g>\n       <use style=\"fill:#555555;stroke:#555555;stroke-width:0.8;\" x=\"205.3865\" xlink:href=\"#m4965781ad2\" y=\"241.58175\"/>\n      </g>\n     </g>\n     <g id=\"text_5\">\n      <!-- 8 -->\n      <defs>\n       <path d=\"M 31.78125 34.625 \nQ 24.75 34.625 20.71875 30.859375 \nQ 16.703125 27.09375 16.703125 20.515625 \nQ 16.703125 13.921875 20.71875 10.15625 \nQ 24.75 6.390625 31.78125 6.390625 \nQ 38.8125 6.390625 42.859375 10.171875 \nQ 46.921875 13.96875 46.921875 20.515625 \nQ 46.921875 27.09375 42.890625 30.859375 \nQ 38.875 34.625 31.78125 34.625 \nz\nM 21.921875 38.8125 \nQ 15.578125 40.375 12.03125 44.71875 \nQ 8.5 49.078125 8.5 55.328125 \nQ 8.5 64.0625 14.71875 69.140625 \nQ 20.953125 74.21875 31.78125 74.21875 \nQ 42.671875 74.21875 48.875 69.140625 \nQ 55.078125 64.0625 55.078125 55.328125 \nQ 55.078125 49.078125 51.53125 44.71875 \nQ 48 40.375 41.703125 38.8125 \nQ 48.828125 37.15625 52.796875 32.3125 \nQ 56.78125 27.484375 56.78125 20.515625 \nQ 56.78125 9.90625 50.3125 4.234375 \nQ 43.84375 -1.421875 31.78125 -1.421875 \nQ 19.734375 -1.421875 13.25 4.234375 \nQ 6.78125 9.90625 6.78125 20.515625 \nQ 6.78125 27.484375 10.78125 32.3125 \nQ 14.796875 37.15625 21.921875 38.8125 \nz\nM 18.3125 54.390625 \nQ 18.3125 48.734375 21.84375 45.5625 \nQ 25.390625 42.390625 31.78125 42.390625 \nQ 38.140625 42.390625 41.71875 45.5625 \nQ 45.3125 48.734375 45.3125 54.390625 \nQ 45.3125 60.0625 41.71875 63.234375 \nQ 38.140625 66.40625 31.78125 66.40625 \nQ 25.390625 66.40625 21.84375 63.234375 \nQ 18.3125 60.0625 18.3125 54.390625 \nz\n\" id=\"DejaVuSans-56\"/>\n      </defs>\n      <g style=\"fill:#555555;\" transform=\"translate(202.20525 256.180187)scale(0.1 -0.1)\">\n       <use xlink:href=\"#DejaVuSans-56\"/>\n      </g>\n     </g>\n    </g>\n   </g>\n   <g id=\"matplotlib.axis_2\">\n    <g id=\"ytick_1\">\n     <g id=\"line2d_6\">\n      <defs>\n       <path d=\"M 0 0 \nL -3.5 0 \n\" id=\"m49cdc966ad\" style=\"stroke:#555555;stroke-width:0.8;\"/>\n      </defs>\n      <g>\n       <use style=\"fill:#555555;stroke:#555555;stroke-width:0.8;\" x=\"20.5625\" xlink:href=\"#m49cdc966ad\" y=\"35.01375\"/>\n      </g>\n     </g>\n     <g id=\"text_6\">\n      <!-- 0 -->\n      <g style=\"fill:#555555;\" transform=\"translate(7.2 38.812969)scale(0.1 -0.1)\">\n       <use xlink:href=\"#DejaVuSans-48\"/>\n      </g>\n     </g>\n    </g>\n    <g id=\"ytick_2\">\n     <g id=\"line2d_7\">\n      <g>\n       <use style=\"fill:#555555;stroke:#555555;stroke-width:0.8;\" x=\"20.5625\" xlink:href=\"#m49cdc966ad\" y=\"78.50175\"/>\n      </g>\n     </g>\n     <g id=\"text_7\">\n      <!-- 2 -->\n      <g style=\"fill:#555555;\" transform=\"translate(7.2 82.300969)scale(0.1 -0.1)\">\n       <use xlink:href=\"#DejaVuSans-50\"/>\n      </g>\n     </g>\n    </g>\n    <g id=\"ytick_3\">\n     <g id=\"line2d_8\">\n      <g>\n       <use style=\"fill:#555555;stroke:#555555;stroke-width:0.8;\" x=\"20.5625\" xlink:href=\"#m49cdc966ad\" y=\"121.98975\"/>\n      </g>\n     </g>\n     <g id=\"text_8\">\n      <!-- 4 -->\n      <g style=\"fill:#555555;\" transform=\"translate(7.2 125.788969)scale(0.1 -0.1)\">\n       <use xlink:href=\"#DejaVuSans-52\"/>\n      </g>\n     </g>\n    </g>\n    <g id=\"ytick_4\">\n     <g id=\"line2d_9\">\n      <g>\n       <use style=\"fill:#555555;stroke:#555555;stroke-width:0.8;\" x=\"20.5625\" xlink:href=\"#m49cdc966ad\" y=\"165.47775\"/>\n      </g>\n     </g>\n     <g id=\"text_9\">\n      <!-- 6 -->\n      <g style=\"fill:#555555;\" transform=\"translate(7.2 169.276969)scale(0.1 -0.1)\">\n       <use xlink:href=\"#DejaVuSans-54\"/>\n      </g>\n     </g>\n    </g>\n    <g id=\"ytick_5\">\n     <g id=\"line2d_10\">\n      <g>\n       <use style=\"fill:#555555;stroke:#555555;stroke-width:0.8;\" x=\"20.5625\" xlink:href=\"#m49cdc966ad\" y=\"208.96575\"/>\n      </g>\n     </g>\n     <g id=\"text_10\">\n      <!-- 8 -->\n      <g style=\"fill:#555555;\" transform=\"translate(7.2 212.764969)scale(0.1 -0.1)\">\n       <use xlink:href=\"#DejaVuSans-56\"/>\n      </g>\n     </g>\n    </g>\n   </g>\n   <g id=\"patch_3\">\n    <path d=\"M 20.5625 241.58175 \nL 20.5625 24.14175 \n\" style=\"fill:none;stroke:#ffffff;stroke-linecap:square;stroke-linejoin:miter;\"/>\n   </g>\n   <g id=\"patch_4\">\n    <path d=\"M 238.0025 241.58175 \nL 238.0025 24.14175 \n\" style=\"fill:none;stroke:#ffffff;stroke-linecap:square;stroke-linejoin:miter;\"/>\n   </g>\n   <g id=\"patch_5\">\n    <path d=\"M 20.5625 241.58175 \nL 238.0025 241.58175 \n\" style=\"fill:none;stroke:#ffffff;stroke-linecap:square;stroke-linejoin:miter;\"/>\n   </g>\n   <g id=\"patch_6\">\n    <path d=\"M 20.5625 24.14175 \nL 238.0025 24.14175 \n\" style=\"fill:none;stroke:#ffffff;stroke-linecap:square;stroke-linejoin:miter;\"/>\n   </g>\n   <g id=\"text_11\">\n    <!-- res=10 pairs:20 -->\n    <defs>\n     <path d=\"M 41.109375 46.296875 \nQ 39.59375 47.171875 37.8125 47.578125 \nQ 36.03125 48 33.890625 48 \nQ 26.265625 48 22.1875 43.046875 \nQ 18.109375 38.09375 18.109375 28.8125 \nL 18.109375 0 \nL 9.078125 0 \nL 9.078125 54.6875 \nL 18.109375 54.6875 \nL 18.109375 46.1875 \nQ 20.953125 51.171875 25.484375 53.578125 \nQ 30.03125 56 36.53125 56 \nQ 37.453125 56 38.578125 55.875 \nQ 39.703125 55.765625 41.0625 55.515625 \nz\n\" id=\"DejaVuSans-114\"/>\n     <path d=\"M 56.203125 29.59375 \nL 56.203125 25.203125 \nL 14.890625 25.203125 \nQ 15.484375 15.921875 20.484375 11.0625 \nQ 25.484375 6.203125 34.421875 6.203125 \nQ 39.59375 6.203125 44.453125 7.46875 \nQ 49.3125 8.734375 54.109375 11.28125 \nL 54.109375 2.78125 \nQ 49.265625 0.734375 44.1875 -0.34375 \nQ 39.109375 -1.421875 33.890625 -1.421875 \nQ 20.796875 -1.421875 13.15625 6.1875 \nQ 5.515625 13.8125 5.515625 26.8125 \nQ 5.515625 40.234375 12.765625 48.109375 \nQ 20.015625 56 32.328125 56 \nQ 43.359375 56 49.78125 48.890625 \nQ 56.203125 41.796875 56.203125 29.59375 \nz\nM 47.21875 32.234375 \nQ 47.125 39.59375 43.09375 43.984375 \nQ 39.0625 48.390625 32.421875 48.390625 \nQ 24.90625 48.390625 20.390625 44.140625 \nQ 15.875 39.890625 15.1875 32.171875 \nz\n\" id=\"DejaVuSans-101\"/>\n     <path d=\"M 44.28125 53.078125 \nL 44.28125 44.578125 \nQ 40.484375 46.53125 36.375 47.5 \nQ 32.28125 48.484375 27.875 48.484375 \nQ 21.1875 48.484375 17.84375 46.4375 \nQ 14.5 44.390625 14.5 40.28125 \nQ 14.5 37.15625 16.890625 35.375 \nQ 19.28125 33.59375 26.515625 31.984375 \nL 29.59375 31.296875 \nQ 39.15625 29.25 43.1875 25.515625 \nQ 47.21875 21.78125 47.21875 15.09375 \nQ 47.21875 7.46875 41.1875 3.015625 \nQ 35.15625 -1.421875 24.609375 -1.421875 \nQ 20.21875 -1.421875 15.453125 -0.5625 \nQ 10.6875 0.296875 5.421875 2 \nL 5.421875 11.28125 \nQ 10.40625 8.6875 15.234375 7.390625 \nQ 20.0625 6.109375 24.8125 6.109375 \nQ 31.15625 6.109375 34.5625 8.28125 \nQ 37.984375 10.453125 37.984375 14.40625 \nQ 37.984375 18.0625 35.515625 20.015625 \nQ 33.0625 21.96875 24.703125 23.78125 \nL 21.578125 24.515625 \nQ 13.234375 26.265625 9.515625 29.90625 \nQ 5.8125 33.546875 5.8125 39.890625 \nQ 5.8125 47.609375 11.28125 51.796875 \nQ 16.75 56 26.8125 56 \nQ 31.78125 56 36.171875 55.265625 \nQ 40.578125 54.546875 44.28125 53.078125 \nz\n\" id=\"DejaVuSans-115\"/>\n     <path d=\"M 10.59375 45.40625 \nL 73.1875 45.40625 \nL 73.1875 37.203125 \nL 10.59375 37.203125 \nz\nM 10.59375 25.484375 \nL 73.1875 25.484375 \nL 73.1875 17.1875 \nL 10.59375 17.1875 \nz\n\" id=\"DejaVuSans-61\"/>\n     <path d=\"M 12.40625 8.296875 \nL 28.515625 8.296875 \nL 28.515625 63.921875 \nL 10.984375 60.40625 \nL 10.984375 69.390625 \nL 28.421875 72.90625 \nL 38.28125 72.90625 \nL 38.28125 8.296875 \nL 54.390625 8.296875 \nL 54.390625 0 \nL 12.40625 0 \nz\n\" id=\"DejaVuSans-49\"/>\n     <path id=\"DejaVuSans-32\"/>\n     <path d=\"M 18.109375 8.203125 \nL 18.109375 -20.796875 \nL 9.078125 -20.796875 \nL 9.078125 54.6875 \nL 18.109375 54.6875 \nL 18.109375 46.390625 \nQ 20.953125 51.265625 25.265625 53.625 \nQ 29.59375 56 35.59375 56 \nQ 45.5625 56 51.78125 48.09375 \nQ 58.015625 40.1875 58.015625 27.296875 \nQ 58.015625 14.40625 51.78125 6.484375 \nQ 45.5625 -1.421875 35.59375 -1.421875 \nQ 29.59375 -1.421875 25.265625 0.953125 \nQ 20.953125 3.328125 18.109375 8.203125 \nz\nM 48.6875 27.296875 \nQ 48.6875 37.203125 44.609375 42.84375 \nQ 40.53125 48.484375 33.40625 48.484375 \nQ 26.265625 48.484375 22.1875 42.84375 \nQ 18.109375 37.203125 18.109375 27.296875 \nQ 18.109375 17.390625 22.1875 11.75 \nQ 26.265625 6.109375 33.40625 6.109375 \nQ 40.53125 6.109375 44.609375 11.75 \nQ 48.6875 17.390625 48.6875 27.296875 \nz\n\" id=\"DejaVuSans-112\"/>\n     <path d=\"M 34.28125 27.484375 \nQ 23.390625 27.484375 19.1875 25 \nQ 14.984375 22.515625 14.984375 16.5 \nQ 14.984375 11.71875 18.140625 8.90625 \nQ 21.296875 6.109375 26.703125 6.109375 \nQ 34.1875 6.109375 38.703125 11.40625 \nQ 43.21875 16.703125 43.21875 25.484375 \nL 43.21875 27.484375 \nz\nM 52.203125 31.203125 \nL 52.203125 0 \nL 43.21875 0 \nL 43.21875 8.296875 \nQ 40.140625 3.328125 35.546875 0.953125 \nQ 30.953125 -1.421875 24.3125 -1.421875 \nQ 15.921875 -1.421875 10.953125 3.296875 \nQ 6 8.015625 6 15.921875 \nQ 6 25.140625 12.171875 29.828125 \nQ 18.359375 34.515625 30.609375 34.515625 \nL 43.21875 34.515625 \nL 43.21875 35.40625 \nQ 43.21875 41.609375 39.140625 45 \nQ 35.0625 48.390625 27.6875 48.390625 \nQ 23 48.390625 18.546875 47.265625 \nQ 14.109375 46.140625 10.015625 43.890625 \nL 10.015625 52.203125 \nQ 14.9375 54.109375 19.578125 55.046875 \nQ 24.21875 56 28.609375 56 \nQ 40.484375 56 46.34375 49.84375 \nQ 52.203125 43.703125 52.203125 31.203125 \nz\n\" id=\"DejaVuSans-97\"/>\n     <path d=\"M 9.421875 54.6875 \nL 18.40625 54.6875 \nL 18.40625 0 \nL 9.421875 0 \nz\nM 9.421875 75.984375 \nL 18.40625 75.984375 \nL 18.40625 64.59375 \nL 9.421875 64.59375 \nz\n\" id=\"DejaVuSans-105\"/>\n     <path d=\"M 11.71875 12.40625 \nL 22.015625 12.40625 \nL 22.015625 0 \nL 11.71875 0 \nz\nM 11.71875 51.703125 \nL 22.015625 51.703125 \nL 22.015625 39.3125 \nL 11.71875 39.3125 \nz\n\" id=\"DejaVuSans-58\"/>\n    </defs>\n    <g transform=\"translate(71.37875 18.14175)scale(0.144 -0.144)\">\n     <use xlink:href=\"#DejaVuSans-114\"/>\n     <use x=\"41.082031\" xlink:href=\"#DejaVuSans-101\"/>\n     <use x=\"102.605469\" xlink:href=\"#DejaVuSans-115\"/>\n     <use x=\"154.705078\" xlink:href=\"#DejaVuSans-61\"/>\n     <use x=\"238.494141\" xlink:href=\"#DejaVuSans-49\"/>\n     <use x=\"302.117188\" xlink:href=\"#DejaVuSans-48\"/>\n     <use x=\"365.740234\" xlink:href=\"#DejaVuSans-32\"/>\n     <use x=\"397.527344\" xlink:href=\"#DejaVuSans-112\"/>\n     <use x=\"461.003906\" xlink:href=\"#DejaVuSans-97\"/>\n     <use x=\"522.283203\" xlink:href=\"#DejaVuSans-105\"/>\n     <use x=\"550.066406\" xlink:href=\"#DejaVuSans-114\"/>\n     <use x=\"591.179688\" xlink:href=\"#DejaVuSans-115\"/>\n     <use x=\"643.279297\" xlink:href=\"#DejaVuSans-58\"/>\n     <use x=\"676.970703\" xlink:href=\"#DejaVuSans-50\"/>\n     <use x=\"740.59375\" xlink:href=\"#DejaVuSans-48\"/>\n    </g>\n   </g>\n  </g>\n </g>\n <defs>\n  <clipPath id=\"p6f727847c0\">\n   <rect height=\"217.44\" width=\"217.44\" x=\"20.5625\" y=\"24.14175\"/>\n  </clipPath>\n </defs>\n</svg>\n",
      "text/plain": "<Figure size 432x288 with 1 Axes>"
     },
     "metadata": {},
     "output_type": "display_data"
    }
   ],
   "source": [
    "res = 10\n",
    "pic,pairs,pic2 = draw_lune_heatmap(df,res,lat,log)\n",
    "plt.title('res='+str(res)+' pairs:'+str(len(pairs)))\n",
    "plt.grid(b=False)\n",
    "plt.imshow(pic2)\n",
    "print(pairs)\n",
    "print(pic)"
   ]
  },
  {
   "cell_type": "code",
   "execution_count": 86,
   "metadata": {},
   "outputs": [
    {
     "name": "stdout",
     "output_type": "stream",
     "text": "[[ 0.  1.  2.  3.  4.  5.  6.  7.  8.  9.]\n [10. 11. 12. 13. 14. 15. 16. 17. 18. 19.]\n [20. 21. 22. 23. 24. 25. 26. 27. 28. 29.]\n [30. 31. 32. 33. 34. 35. 36. 37. 38. 39.]\n [40. 41. 42. 43. 44. 45. 46. 47. 48. 49.]\n [50. 51. 52. 53. 54. 55. 56. 57. 58. 59.]\n [60. 61. 62. 63. 64. 65. 66. 67. 68. 69.]\n [70. 71. 72. 73. 74. 75. 76. 77. 78. 79.]\n [80. 81. 82. 83. 84. 85. 86. 87. 88. 89.]\n [90. 91. 92. 93. 94. 95. 96. 97. 98. 99.]]\n"
    }
   ],
   "source": [
    "print(pic)"
   ]
  },
  {
   "cell_type": "code",
   "execution_count": 109,
   "metadata": {},
   "outputs": [
    {
     "name": "stdout",
     "output_type": "stream",
     "text": "[[14, array([ 3, 23, 42])], [15, array([ 5, 17])], [24, array([21, 26, 41])], [25, array([14, 30, 39, 56])], [26, array([  9,  15,  18,  24,  37,  44, 105, 121])], [27, array([12, 45, 46])], [28, array([ 8, 25, 36])], [33, array([64, 75, 99])], [36, array([13, 40])], [37, array([ 34,  43, 106])], [53, array([ 70, 122])], [54, array([49, 68])], [63, array([66, 72])], [64, array([54, 73])], [66, array([ 32,  35,  50,  94, 107])], [69, array([79, 95])], [75, array([92, 97])], [77, array([33, 53])], [78, array([10, 19])], [91, array([85, 89])]]\n"
    }
   ],
   "source": [
    "print(pairs)"
   ]
  },
  {
   "cell_type": "markdown",
   "metadata": {},
   "source": [
    "## 重复的点处理（当前方式，采用数据最多的点），较为粗略的处理方式"
   ]
  },
  {
   "cell_type": "code",
   "execution_count": 111,
   "metadata": {},
   "outputs": [
    {
     "data": {
      "text/plain": "<matplotlib.image.AxesImage at 0x12e020970>"
     },
     "execution_count": 111,
     "metadata": {},
     "output_type": "execute_result"
    },
    {
     "data": {
      "image/png": "[encoded data removed]",
      "image/svg+xml": "<?xml version=\"1.0\" encoding=\"utf-8\" standalone=\"no\"?>\n<!DOCTYPE svg PUBLIC \"-//W3C//DTD SVG 1.1//EN\"\n  \"http://www.w3.org/Graphics/SVG/1.1/DTD/svg11.dtd\">\n<!-- Created with matplotlib (https://matplotlib.org/) -->\n<svg height=\"248.518125pt\" version=\"1.1\" viewBox=\"0 0 245.2025 248.518125\" width=\"245.2025pt\" xmlns=\"http://www.w3.org/2000/svg\" xmlns:xlink=\"http://www.w3.org/1999/xlink\">\n <defs>\n  <style type=\"text/css\">\n*{stroke-linecap:butt;stroke-linejoin:round;}\n  </style>\n </defs>\n <g id=\"figure_1\">\n  <g id=\"patch_1\">\n   <path d=\"M 0 248.518125 \nL 245.2025 248.518125 \nL 245.2025 0 \nL 0 0 \nz\n\" style=\"fill:none;\"/>\n  </g>\n  <g id=\"axes_1\">\n   <g id=\"patch_2\">\n    <path d=\"M 20.5625 224.64 \nL 238.0025 224.64 \nL 238.0025 7.2 \nL 20.5625 7.2 \nz\n\" style=\"fill:#ffffff;\"/>\n   </g>\n   <g clip-path=\"url(#pbc10198ede)\">\n    <image height=\"218\" id=\"imageb4f12f395f\" transform=\"scale(1 -1)translate(0 -218)\" width=\"218\" x=\"20.5625\" xlink:href=\"data:image/png;base64,\niVBORw0KGgoAAAANSUhEUgAAANoAAADaCAYAAADAHVzbAAAABHNCSVQICAgIfAhkiAAAA6VJREFUeJzt3LGKlGcYhuFv4lSCIKRZVJJOiw2YTrAWrUUh55DOWsgJpLD1JMRzsBA8gC1WSGEhWIrKdqsWAXth3nscvK4DePiZ3Zuvezd3Ng+/rAFn929NzK5Lr9/vfPP85HTnm2utdeH4xsju1Pcy55d9fwD8DIQGAaFBQGgQEBoEhAYBoUFAaBAQGgSEBgGhQUBoEBAaBIQGAaFBQGgQEBoEhAYBoUFAaBAQGgS2U5eaJq5VreUCFIfJiwYBoUFAaBAQGgSEBgGhQUBoEBAaBIQGAaFBQGgQEBoEhAYBoUFAaBAQGgSEBgGhQUBoEBAaBIQGge2+P+B7TVztmrqsNbV7dv/WyO7U5bKP1y+P7E6Y+g28aBAQGgSEBgGhQUBoEBAaBIQGAaFBQGgQEBoEhAYBoUFAaBAQGgSEBgGhQUBoEBAaBIQGAaFB4OCO80yYOnYz5eLzVyO7b54dj+z+/s/MwZsJU4eEvGgQEBoEhAYBoUFAaBAQGgSEBgGhQUBoEBAaBIQGAaFBQGgQEBoEhAYBoUFAaBAQGgSEBgGhQUBoENien5yODF84vjGyy5xrD05mhgf+F6b+by8O/QReNAgIDQJCg4DQICA0CAgNAkKDgNAgIDQICA0CQoOA0CAgNAgIDQJCg4DQICA0CAgNAkKDgNAgIDQIbPf9AT+CS6/fj+y6MPa/id9h6jeY+pt50SAgNAgIDQJCg4DQICA0CAgNAkKDgNAgIDQICA0CQoOA0CAgNAgIDQJCg4DQICA0CAgNAkKDgNAgMHYF65AuQL29++vON9da6+o6rGtVH69fHtn9cPf2zjePnrzc+eYkLxoEhAYBoUFAaBAQGgSEBgGhQUBoEBAaBIQGAaFBQGgQEBoEhAYBoUFAaBAQGgSEBgGhQUBoEBAaBDb3/nj8Zd8fsW9TF7vePdr99ae11vr02+eR3f/+ejqye/Pfv0d2J0xd1/KiQUBoEBAaBIQGAaFBQGgQEBoEhAYBoUFAaBAQGgSEBgGhQUBoEBAaBIQGAaFBQGgQEBoEhAaB7dTw1MEb1rryYuae0r1Hf47sHq2ZgzeHxIsGAaFBQGgQEBoEhAYBoUFAaBAQGgSEBgGhQUBoEBAaBIQGAaFBQGgQEBoEhAYBoUFAaBAQGgSEBoHNnc3DmZNKwDdeNAgIDQJCg4DQICA0CAgNAkKDgNAgIDQICA0CQoOA0CAgNAgIDQJCg4DQICA0CAgNAkKDgNAgIDQIfAWaQlREKoEn9QAAAABJRU5ErkJggg==\" y=\"-6.64\"/>\n   </g>\n   <g id=\"matplotlib.axis_1\">\n    <g id=\"xtick_1\">\n     <g id=\"line2d_1\">\n      <defs>\n       <path d=\"M 0 0 \nL 0 3.5 \n\" id=\"mf4e9ba6e16\" style=\"stroke:#000000;stroke-width:0.8;\"/>\n      </defs>\n      <g>\n       <use style=\"stroke:#000000;stroke-width:0.8;\" x=\"31.4345\" xlink:href=\"#mf4e9ba6e16\" y=\"224.64\"/>\n      </g>\n     </g>\n     <g id=\"text_1\">\n      <!-- 0 -->\n      <defs>\n       <path d=\"M 31.78125 66.40625 \nQ 24.171875 66.40625 20.328125 58.90625 \nQ 16.5 51.421875 16.5 36.375 \nQ 16.5 21.390625 20.328125 13.890625 \nQ 24.171875 6.390625 31.78125 6.390625 \nQ 39.453125 6.390625 43.28125 13.890625 \nQ 47.125 21.390625 47.125 36.375 \nQ 47.125 51.421875 43.28125 58.90625 \nQ 39.453125 66.40625 31.78125 66.40625 \nz\nM 31.78125 74.21875 \nQ 44.046875 74.21875 50.515625 64.515625 \nQ 56.984375 54.828125 56.984375 36.375 \nQ 56.984375 17.96875 50.515625 8.265625 \nQ 44.046875 -1.421875 31.78125 -1.421875 \nQ 19.53125 -1.421875 13.0625 8.265625 \nQ 6.59375 17.96875 6.59375 36.375 \nQ 6.59375 54.828125 13.0625 64.515625 \nQ 19.53125 74.21875 31.78125 74.21875 \nz\n\" id=\"DejaVuSans-48\"/>\n      </defs>\n      <g transform=\"translate(28.25325 239.238437)scale(0.1 -0.1)\">\n       <use xlink:href=\"#DejaVuSans-48\"/>\n      </g>\n     </g>\n    </g>\n    <g id=\"xtick_2\">\n     <g id=\"line2d_2\">\n      <g>\n       <use style=\"stroke:#000000;stroke-width:0.8;\" x=\"74.9225\" xlink:href=\"#mf4e9ba6e16\" y=\"224.64\"/>\n      </g>\n     </g>\n     <g id=\"text_2\">\n      <!-- 2 -->\n      <defs>\n       <path d=\"M 19.1875 8.296875 \nL 53.609375 8.296875 \nL 53.609375 0 \nL 7.328125 0 \nL 7.328125 8.296875 \nQ 12.9375 14.109375 22.625 23.890625 \nQ 32.328125 33.6875 34.8125 36.53125 \nQ 39.546875 41.84375 41.421875 45.53125 \nQ 43.3125 49.21875 43.3125 52.78125 \nQ 43.3125 58.59375 39.234375 62.25 \nQ 35.15625 65.921875 28.609375 65.921875 \nQ 23.96875 65.921875 18.8125 64.3125 \nQ 13.671875 62.703125 7.8125 59.421875 \nL 7.8125 69.390625 \nQ 13.765625 71.78125 18.9375 73 \nQ 24.125 74.21875 28.421875 74.21875 \nQ 39.75 74.21875 46.484375 68.546875 \nQ 53.21875 62.890625 53.21875 53.421875 \nQ 53.21875 48.921875 51.53125 44.890625 \nQ 49.859375 40.875 45.40625 35.40625 \nQ 44.1875 33.984375 37.640625 27.21875 \nQ 31.109375 20.453125 19.1875 8.296875 \nz\n\" id=\"DejaVuSans-50\"/>\n      </defs>\n      <g transform=\"translate(71.74125 239.238437)scale(0.1 -0.1)\">\n       <use xlink:href=\"#DejaVuSans-50\"/>\n      </g>\n     </g>\n    </g>\n    <g id=\"xtick_3\">\n     <g id=\"line2d_3\">\n      <g>\n       <use style=\"stroke:#000000;stroke-width:0.8;\" x=\"118.4105\" xlink:href=\"#mf4e9ba6e16\" y=\"224.64\"/>\n      </g>\n     </g>\n     <g id=\"text_3\">\n      <!-- 4 -->\n      <defs>\n       <path d=\"M 37.796875 64.3125 \nL 12.890625 25.390625 \nL 37.796875 25.390625 \nz\nM 35.203125 72.90625 \nL 47.609375 72.90625 \nL 47.609375 25.390625 \nL 58.015625 25.390625 \nL 58.015625 17.1875 \nL 47.609375 17.1875 \nL 47.609375 0 \nL 37.796875 0 \nL 37.796875 17.1875 \nL 4.890625 17.1875 \nL 4.890625 26.703125 \nz\n\" id=\"DejaVuSans-52\"/>\n      </defs>\n      <g transform=\"translate(115.22925 239.238437)scale(0.1 -0.1)\">\n       <use xlink:href=\"#DejaVuSans-52\"/>\n      </g>\n     </g>\n    </g>\n    <g id=\"xtick_4\">\n     <g id=\"line2d_4\">\n      <g>\n       <use style=\"stroke:#000000;stroke-width:0.8;\" x=\"161.8985\" xlink:href=\"#mf4e9ba6e16\" y=\"224.64\"/>\n      </g>\n     </g>\n     <g id=\"text_4\">\n      <!-- 6 -->\n      <defs>\n       <path d=\"M 33.015625 40.375 \nQ 26.375 40.375 22.484375 35.828125 \nQ 18.609375 31.296875 18.609375 23.390625 \nQ 18.609375 15.53125 22.484375 10.953125 \nQ 26.375 6.390625 33.015625 6.390625 \nQ 39.65625 6.390625 43.53125 10.953125 \nQ 47.40625 15.53125 47.40625 23.390625 \nQ 47.40625 31.296875 43.53125 35.828125 \nQ 39.65625 40.375 33.015625 40.375 \nz\nM 52.59375 71.296875 \nL 52.59375 62.3125 \nQ 48.875 64.0625 45.09375 64.984375 \nQ 41.3125 65.921875 37.59375 65.921875 \nQ 27.828125 65.921875 22.671875 59.328125 \nQ 17.53125 52.734375 16.796875 39.40625 \nQ 19.671875 43.65625 24.015625 45.921875 \nQ 28.375 48.1875 33.59375 48.1875 \nQ 44.578125 48.1875 50.953125 41.515625 \nQ 57.328125 34.859375 57.328125 23.390625 \nQ 57.328125 12.15625 50.6875 5.359375 \nQ 44.046875 -1.421875 33.015625 -1.421875 \nQ 20.359375 -1.421875 13.671875 8.265625 \nQ 6.984375 17.96875 6.984375 36.375 \nQ 6.984375 53.65625 15.1875 63.9375 \nQ 23.390625 74.21875 37.203125 74.21875 \nQ 40.921875 74.21875 44.703125 73.484375 \nQ 48.484375 72.75 52.59375 71.296875 \nz\n\" id=\"DejaVuSans-54\"/>\n      </defs>\n      <g transform=\"translate(158.71725 239.238437)scale(0.1 -0.1)\">\n       <use xlink:href=\"#DejaVuSans-54\"/>\n      </g>\n     </g>\n    </g>\n    <g id=\"xtick_5\">\n     <g id=\"line2d_5\">\n      <g>\n       <use style=\"stroke:#000000;stroke-width:0.8;\" x=\"205.3865\" xlink:href=\"#mf4e9ba6e16\" y=\"224.64\"/>\n      </g>\n     </g>\n     <g id=\"text_5\">\n      <!-- 8 -->\n      <defs>\n       <path d=\"M 31.78125 34.625 \nQ 24.75 34.625 20.71875 30.859375 \nQ 16.703125 27.09375 16.703125 20.515625 \nQ 16.703125 13.921875 20.71875 10.15625 \nQ 24.75 6.390625 31.78125 6.390625 \nQ 38.8125 6.390625 42.859375 10.171875 \nQ 46.921875 13.96875 46.921875 20.515625 \nQ 46.921875 27.09375 42.890625 30.859375 \nQ 38.875 34.625 31.78125 34.625 \nz\nM 21.921875 38.8125 \nQ 15.578125 40.375 12.03125 44.71875 \nQ 8.5 49.078125 8.5 55.328125 \nQ 8.5 64.0625 14.71875 69.140625 \nQ 20.953125 74.21875 31.78125 74.21875 \nQ 42.671875 74.21875 48.875 69.140625 \nQ 55.078125 64.0625 55.078125 55.328125 \nQ 55.078125 49.078125 51.53125 44.71875 \nQ 48 40.375 41.703125 38.8125 \nQ 48.828125 37.15625 52.796875 32.3125 \nQ 56.78125 27.484375 56.78125 20.515625 \nQ 56.78125 9.90625 50.3125 4.234375 \nQ 43.84375 -1.421875 31.78125 -1.421875 \nQ 19.734375 -1.421875 13.25 4.234375 \nQ 6.78125 9.90625 6.78125 20.515625 \nQ 6.78125 27.484375 10.78125 32.3125 \nQ 14.796875 37.15625 21.921875 38.8125 \nz\nM 18.3125 54.390625 \nQ 18.3125 48.734375 21.84375 45.5625 \nQ 25.390625 42.390625 31.78125 42.390625 \nQ 38.140625 42.390625 41.71875 45.5625 \nQ 45.3125 48.734375 45.3125 54.390625 \nQ 45.3125 60.0625 41.71875 63.234375 \nQ 38.140625 66.40625 31.78125 66.40625 \nQ 25.390625 66.40625 21.84375 63.234375 \nQ 18.3125 60.0625 18.3125 54.390625 \nz\n\" id=\"DejaVuSans-56\"/>\n      </defs>\n      <g transform=\"translate(202.20525 239.238437)scale(0.1 -0.1)\">\n       <use xlink:href=\"#DejaVuSans-56\"/>\n      </g>\n     </g>\n    </g>\n   </g>\n   <g id=\"matplotlib.axis_2\">\n    <g id=\"ytick_1\">\n     <g id=\"line2d_6\">\n      <defs>\n       <path d=\"M 0 0 \nL -3.5 0 \n\" id=\"ma38e31a24a\" style=\"stroke:#000000;stroke-width:0.8;\"/>\n      </defs>\n      <g>\n       <use style=\"stroke:#000000;stroke-width:0.8;\" x=\"20.5625\" xlink:href=\"#ma38e31a24a\" y=\"18.072\"/>\n      </g>\n     </g>\n     <g id=\"text_6\">\n      <!-- 0 -->\n      <g transform=\"translate(7.2 21.871219)scale(0.1 -0.1)\">\n       <use xlink:href=\"#DejaVuSans-48\"/>\n      </g>\n     </g>\n    </g>\n    <g id=\"ytick_2\">\n     <g id=\"line2d_7\">\n      <g>\n       <use style=\"stroke:#000000;stroke-width:0.8;\" x=\"20.5625\" xlink:href=\"#ma38e31a24a\" y=\"61.56\"/>\n      </g>\n     </g>\n     <g id=\"text_7\">\n      <!-- 2 -->\n      <g transform=\"translate(7.2 65.359219)scale(0.1 -0.1)\">\n       <use xlink:href=\"#DejaVuSans-50\"/>\n      </g>\n     </g>\n    </g>\n    <g id=\"ytick_3\">\n     <g id=\"line2d_8\">\n      <g>\n       <use style=\"stroke:#000000;stroke-width:0.8;\" x=\"20.5625\" xlink:href=\"#ma38e31a24a\" y=\"105.048\"/>\n      </g>\n     </g>\n     <g id=\"text_8\">\n      <!-- 4 -->\n      <g transform=\"translate(7.2 108.847219)scale(0.1 -0.1)\">\n       <use xlink:href=\"#DejaVuSans-52\"/>\n      </g>\n     </g>\n    </g>\n    <g id=\"ytick_4\">\n     <g id=\"line2d_9\">\n      <g>\n       <use style=\"stroke:#000000;stroke-width:0.8;\" x=\"20.5625\" xlink:href=\"#ma38e31a24a\" y=\"148.536\"/>\n      </g>\n     </g>\n     <g id=\"text_9\">\n      <!-- 6 -->\n      <g transform=\"translate(7.2 152.335219)scale(0.1 -0.1)\">\n       <use xlink:href=\"#DejaVuSans-54\"/>\n      </g>\n     </g>\n    </g>\n    <g id=\"ytick_5\">\n     <g id=\"line2d_10\">\n      <g>\n       <use style=\"stroke:#000000;stroke-width:0.8;\" x=\"20.5625\" xlink:href=\"#ma38e31a24a\" y=\"192.024\"/>\n      </g>\n     </g>\n     <g id=\"text_10\">\n      <!-- 8 -->\n      <g transform=\"translate(7.2 195.823219)scale(0.1 -0.1)\">\n       <use xlink:href=\"#DejaVuSans-56\"/>\n      </g>\n     </g>\n    </g>\n   </g>\n   <g id=\"patch_3\">\n    <path d=\"M 20.5625 224.64 \nL 20.5625 7.2 \n\" style=\"fill:none;stroke:#000000;stroke-linecap:square;stroke-linejoin:miter;stroke-width:0.8;\"/>\n   </g>\n   <g id=\"patch_4\">\n    <path d=\"M 238.0025 224.64 \nL 238.0025 7.2 \n\" style=\"fill:none;stroke:#000000;stroke-linecap:square;stroke-linejoin:miter;stroke-width:0.8;\"/>\n   </g>\n   <g id=\"patch_5\">\n    <path d=\"M 20.5625 224.64 \nL 238.0025 224.64 \n\" style=\"fill:none;stroke:#000000;stroke-linecap:square;stroke-linejoin:miter;stroke-width:0.8;\"/>\n   </g>\n   <g id=\"patch_6\">\n    <path d=\"M 20.5625 7.2 \nL 238.0025 7.2 \n\" style=\"fill:none;stroke:#000000;stroke-linecap:square;stroke-linejoin:miter;stroke-width:0.8;\"/>\n   </g>\n  </g>\n </g>\n <defs>\n  <clipPath id=\"pbc10198ede\">\n   <rect height=\"217.44\" width=\"217.44\" x=\"20.5625\" y=\"7.2\"/>\n  </clipPath>\n </defs>\n</svg>\n",
      "text/plain": "<Figure size 432x288 with 1 Axes>"
     },
     "metadata": {
      "needs_background": "light"
     },
     "output_type": "display_data"
    },
    {
     "data": {
      "image/png": "[encoded data removed]",
      "image/svg+xml": "<?xml version=\"1.0\" encoding=\"utf-8\" standalone=\"no\"?>\n<!DOCTYPE svg PUBLIC \"-//W3C//DTD SVG 1.1//EN\"\n  \"http://www.w3.org/Graphics/SVG/1.1/DTD/svg11.dtd\">\n<!-- Created with matplotlib (https://matplotlib.org/) -->\n<svg height=\"248.518125pt\" version=\"1.1\" viewBox=\"0 0 245.2025 248.518125\" width=\"245.2025pt\" xmlns=\"http://www.w3.org/2000/svg\" xmlns:xlink=\"http://www.w3.org/1999/xlink\">\n <defs>\n  <style type=\"text/css\">\n*{stroke-linecap:butt;stroke-linejoin:round;}\n  </style>\n </defs>\n <g id=\"figure_1\">\n  <g id=\"patch_1\">\n   <path d=\"M 0 248.518125 \nL 245.2025 248.518125 \nL 245.2025 0 \nL 0 0 \nz\n\" style=\"fill:none;\"/>\n  </g>\n  <g id=\"axes_1\">\n   <g id=\"patch_2\">\n    <path d=\"M 20.5625 224.64 \nL 238.0025 224.64 \nL 238.0025 7.2 \nL 20.5625 7.2 \nz\n\" style=\"fill:#ffffff;\"/>\n   </g>\n   <g clip-path=\"url(#p158cbc3331)\">\n    <image height=\"218\" id=\"image03e52aadc4\" transform=\"scale(1 -1)translate(0 -218)\" width=\"218\" x=\"20.5625\" xlink:href=\"data:image/png;base64,\niVBORw0KGgoAAAANSUhEUgAAANoAAADaCAYAAADAHVzbAAAABHNCSVQICAgIfAhkiAAAAwBJREFUeJzt3MFNw1AQQMEYuQrOKYAiItFAmqULqiBVIHOiAA77rB9mCrBWtp/2ttttux+XAR9fnxOPHfH++jby3Kl3MDUvc17OHgD+A6FBQGgQEBoEhAYBoUFAaBAQGgSEBgGhQUBoEBAaBIQGAaFBQGgQEBoEhAYBoUFAaBAQGgSEBoF9pWtVl4sLUKzJRoOA0CAgNAgIDQJCg4DQICA0CAgNAkKDgNAgIDQICA0CQoOA0CAgNAgIDQJCg4DQICA0CAgNAkKDwPb9uB5nD3G21S5rrXa5DBsNEkKDgNAgIDQICA0CQoOA0CAgNAgIDQJCg4DQICA0CAgNAkKDgNAgIDQICA0CQoOA0CAgNAg4zrOgqWNCjv7MsdEgIDQICA0CQoOA0CAgNAgIDQJCg4DQICA0CAgNAkKDgNAgIDQICA0CQoOA0CAgNAgIDQJCg4DQILC7qMSvlf6FqVmn2GgQEBoEhAYBoUFAaBAQGgSEBgGhQUBoEBAaBIQGAaFBQGgQEBoEhAYBoUFAaBAQGgSEBgGhQUBoENjPHuCZrXRVatLEe5h6B1PfzEaDgNAgIDQICA0CQoOA0CAgNAgIDQJCg4DQICA0CAgNAkKDgNAgIDQICA0CQoOA0CAgNAgIDQJCg8B22+7H2UP8xWoXoJgxda1qio0GAaFBQGgQEBoEhAYBoUFAaBAQGgSEBgGhQUBoEBAaBIQGAaFBQGgQEBoEhAYBoUFAaBAQGgSEBoHt+3Fd6grWhKmLSi52rWfqX7DRICA0CAgNAkKDgNAgIDQICA0CQoOA0CAgNAgIDQJCg4DQICA0CAgNAkKDgNAgIDQICA0CQoPAPvXgqSMnzPHN5thoEBAaBIQGAaFBQGgQEBoEhAYBoUFAaBAQGgSEBgGhQUBoEBAaBIQGAaFBQGgQEBoEhAYBoUFAaBDYbtv9OHsIeHY2GgSEBgGhQUBoEBAaBIQGAaFBQGgQEBoEhAYBoUFAaBAQGgSEBgGhQUBoEBAaBIQGAaFBQGgQEBoEfgAEbDNpBWNeIQAAAABJRU5ErkJggg==\" y=\"-6.64\"/>\n   </g>\n   <g id=\"matplotlib.axis_1\">\n    <g id=\"xtick_1\">\n     <g id=\"line2d_1\">\n      <defs>\n       <path d=\"M 0 0 \nL 0 3.5 \n\" id=\"mb544f56034\" style=\"stroke:#000000;stroke-width:0.8;\"/>\n      </defs>\n      <g>\n       <use style=\"stroke:#000000;stroke-width:0.8;\" x=\"31.4345\" xlink:href=\"#mb544f56034\" y=\"224.64\"/>\n      </g>\n     </g>\n     <g id=\"text_1\">\n      <!-- 0 -->\n      <defs>\n       <path d=\"M 31.78125 66.40625 \nQ 24.171875 66.40625 20.328125 58.90625 \nQ 16.5 51.421875 16.5 36.375 \nQ 16.5 21.390625 20.328125 13.890625 \nQ 24.171875 6.390625 31.78125 6.390625 \nQ 39.453125 6.390625 43.28125 13.890625 \nQ 47.125 21.390625 47.125 36.375 \nQ 47.125 51.421875 43.28125 58.90625 \nQ 39.453125 66.40625 31.78125 66.40625 \nz\nM 31.78125 74.21875 \nQ 44.046875 74.21875 50.515625 64.515625 \nQ 56.984375 54.828125 56.984375 36.375 \nQ 56.984375 17.96875 50.515625 8.265625 \nQ 44.046875 -1.421875 31.78125 -1.421875 \nQ 19.53125 -1.421875 13.0625 8.265625 \nQ 6.59375 17.96875 6.59375 36.375 \nQ 6.59375 54.828125 13.0625 64.515625 \nQ 19.53125 74.21875 31.78125 74.21875 \nz\n\" id=\"DejaVuSans-48\"/>\n      </defs>\n      <g transform=\"translate(28.25325 239.238437)scale(0.1 -0.1)\">\n       <use xlink:href=\"#DejaVuSans-48\"/>\n      </g>\n     </g>\n    </g>\n    <g id=\"xtick_2\">\n     <g id=\"line2d_2\">\n      <g>\n       <use style=\"stroke:#000000;stroke-width:0.8;\" x=\"74.9225\" xlink:href=\"#mb544f56034\" y=\"224.64\"/>\n      </g>\n     </g>\n     <g id=\"text_2\">\n      <!-- 2 -->\n      <defs>\n       <path d=\"M 19.1875 8.296875 \nL 53.609375 8.296875 \nL 53.609375 0 \nL 7.328125 0 \nL 7.328125 8.296875 \nQ 12.9375 14.109375 22.625 23.890625 \nQ 32.328125 33.6875 34.8125 36.53125 \nQ 39.546875 41.84375 41.421875 45.53125 \nQ 43.3125 49.21875 43.3125 52.78125 \nQ 43.3125 58.59375 39.234375 62.25 \nQ 35.15625 65.921875 28.609375 65.921875 \nQ 23.96875 65.921875 18.8125 64.3125 \nQ 13.671875 62.703125 7.8125 59.421875 \nL 7.8125 69.390625 \nQ 13.765625 71.78125 18.9375 73 \nQ 24.125 74.21875 28.421875 74.21875 \nQ 39.75 74.21875 46.484375 68.546875 \nQ 53.21875 62.890625 53.21875 53.421875 \nQ 53.21875 48.921875 51.53125 44.890625 \nQ 49.859375 40.875 45.40625 35.40625 \nQ 44.1875 33.984375 37.640625 27.21875 \nQ 31.109375 20.453125 19.1875 8.296875 \nz\n\" id=\"DejaVuSans-50\"/>\n      </defs>\n      <g transform=\"translate(71.74125 239.238437)scale(0.1 -0.1)\">\n       <use xlink:href=\"#DejaVuSans-50\"/>\n      </g>\n     </g>\n    </g>\n    <g id=\"xtick_3\">\n     <g id=\"line2d_3\">\n      <g>\n       <use style=\"stroke:#000000;stroke-width:0.8;\" x=\"118.4105\" xlink:href=\"#mb544f56034\" y=\"224.64\"/>\n      </g>\n     </g>\n     <g id=\"text_3\">\n      <!-- 4 -->\n      <defs>\n       <path d=\"M 37.796875 64.3125 \nL 12.890625 25.390625 \nL 37.796875 25.390625 \nz\nM 35.203125 72.90625 \nL 47.609375 72.90625 \nL 47.609375 25.390625 \nL 58.015625 25.390625 \nL 58.015625 17.1875 \nL 47.609375 17.1875 \nL 47.609375 0 \nL 37.796875 0 \nL 37.796875 17.1875 \nL 4.890625 17.1875 \nL 4.890625 26.703125 \nz\n\" id=\"DejaVuSans-52\"/>\n      </defs>\n      <g transform=\"translate(115.22925 239.238437)scale(0.1 -0.1)\">\n       <use xlink:href=\"#DejaVuSans-52\"/>\n      </g>\n     </g>\n    </g>\n    <g id=\"xtick_4\">\n     <g id=\"line2d_4\">\n      <g>\n       <use style=\"stroke:#000000;stroke-width:0.8;\" x=\"161.8985\" xlink:href=\"#mb544f56034\" y=\"224.64\"/>\n      </g>\n     </g>\n     <g id=\"text_4\">\n      <!-- 6 -->\n      <defs>\n       <path d=\"M 33.015625 40.375 \nQ 26.375 40.375 22.484375 35.828125 \nQ 18.609375 31.296875 18.609375 23.390625 \nQ 18.609375 15.53125 22.484375 10.953125 \nQ 26.375 6.390625 33.015625 6.390625 \nQ 39.65625 6.390625 43.53125 10.953125 \nQ 47.40625 15.53125 47.40625 23.390625 \nQ 47.40625 31.296875 43.53125 35.828125 \nQ 39.65625 40.375 33.015625 40.375 \nz\nM 52.59375 71.296875 \nL 52.59375 62.3125 \nQ 48.875 64.0625 45.09375 64.984375 \nQ 41.3125 65.921875 37.59375 65.921875 \nQ 27.828125 65.921875 22.671875 59.328125 \nQ 17.53125 52.734375 16.796875 39.40625 \nQ 19.671875 43.65625 24.015625 45.921875 \nQ 28.375 48.1875 33.59375 48.1875 \nQ 44.578125 48.1875 50.953125 41.515625 \nQ 57.328125 34.859375 57.328125 23.390625 \nQ 57.328125 12.15625 50.6875 5.359375 \nQ 44.046875 -1.421875 33.015625 -1.421875 \nQ 20.359375 -1.421875 13.671875 8.265625 \nQ 6.984375 17.96875 6.984375 36.375 \nQ 6.984375 53.65625 15.1875 63.9375 \nQ 23.390625 74.21875 37.203125 74.21875 \nQ 40.921875 74.21875 44.703125 73.484375 \nQ 48.484375 72.75 52.59375 71.296875 \nz\n\" id=\"DejaVuSans-54\"/>\n      </defs>\n      <g transform=\"translate(158.71725 239.238437)scale(0.1 -0.1)\">\n       <use xlink:href=\"#DejaVuSans-54\"/>\n      </g>\n     </g>\n    </g>\n    <g id=\"xtick_5\">\n     <g id=\"line2d_5\">\n      <g>\n       <use style=\"stroke:#000000;stroke-width:0.8;\" x=\"205.3865\" xlink:href=\"#mb544f56034\" y=\"224.64\"/>\n      </g>\n     </g>\n     <g id=\"text_5\">\n      <!-- 8 -->\n      <defs>\n       <path d=\"M 31.78125 34.625 \nQ 24.75 34.625 20.71875 30.859375 \nQ 16.703125 27.09375 16.703125 20.515625 \nQ 16.703125 13.921875 20.71875 10.15625 \nQ 24.75 6.390625 31.78125 6.390625 \nQ 38.8125 6.390625 42.859375 10.171875 \nQ 46.921875 13.96875 46.921875 20.515625 \nQ 46.921875 27.09375 42.890625 30.859375 \nQ 38.875 34.625 31.78125 34.625 \nz\nM 21.921875 38.8125 \nQ 15.578125 40.375 12.03125 44.71875 \nQ 8.5 49.078125 8.5 55.328125 \nQ 8.5 64.0625 14.71875 69.140625 \nQ 20.953125 74.21875 31.78125 74.21875 \nQ 42.671875 74.21875 48.875 69.140625 \nQ 55.078125 64.0625 55.078125 55.328125 \nQ 55.078125 49.078125 51.53125 44.71875 \nQ 48 40.375 41.703125 38.8125 \nQ 48.828125 37.15625 52.796875 32.3125 \nQ 56.78125 27.484375 56.78125 20.515625 \nQ 56.78125 9.90625 50.3125 4.234375 \nQ 43.84375 -1.421875 31.78125 -1.421875 \nQ 19.734375 -1.421875 13.25 4.234375 \nQ 6.78125 9.90625 6.78125 20.515625 \nQ 6.78125 27.484375 10.78125 32.3125 \nQ 14.796875 37.15625 21.921875 38.8125 \nz\nM 18.3125 54.390625 \nQ 18.3125 48.734375 21.84375 45.5625 \nQ 25.390625 42.390625 31.78125 42.390625 \nQ 38.140625 42.390625 41.71875 45.5625 \nQ 45.3125 48.734375 45.3125 54.390625 \nQ 45.3125 60.0625 41.71875 63.234375 \nQ 38.140625 66.40625 31.78125 66.40625 \nQ 25.390625 66.40625 21.84375 63.234375 \nQ 18.3125 60.0625 18.3125 54.390625 \nz\n\" id=\"DejaVuSans-56\"/>\n      </defs>\n      <g transform=\"translate(202.20525 239.238437)scale(0.1 -0.1)\">\n       <use xlink:href=\"#DejaVuSans-56\"/>\n      </g>\n     </g>\n    </g>\n   </g>\n   <g id=\"matplotlib.axis_2\">\n    <g id=\"ytick_1\">\n     <g id=\"line2d_6\">\n      <defs>\n       <path d=\"M 0 0 \nL -3.5 0 \n\" id=\"m7aaa1b2c91\" style=\"stroke:#000000;stroke-width:0.8;\"/>\n      </defs>\n      <g>\n       <use style=\"stroke:#000000;stroke-width:0.8;\" x=\"20.5625\" xlink:href=\"#m7aaa1b2c91\" y=\"18.072\"/>\n      </g>\n     </g>\n     <g id=\"text_6\">\n      <!-- 0 -->\n      <g transform=\"translate(7.2 21.871219)scale(0.1 -0.1)\">\n       <use xlink:href=\"#DejaVuSans-48\"/>\n      </g>\n     </g>\n    </g>\n    <g id=\"ytick_2\">\n     <g id=\"line2d_7\">\n      <g>\n       <use style=\"stroke:#000000;stroke-width:0.8;\" x=\"20.5625\" xlink:href=\"#m7aaa1b2c91\" y=\"61.56\"/>\n      </g>\n     </g>\n     <g id=\"text_7\">\n      <!-- 2 -->\n      <g transform=\"translate(7.2 65.359219)scale(0.1 -0.1)\">\n       <use xlink:href=\"#DejaVuSans-50\"/>\n      </g>\n     </g>\n    </g>\n    <g id=\"ytick_3\">\n     <g id=\"line2d_8\">\n      <g>\n       <use style=\"stroke:#000000;stroke-width:0.8;\" x=\"20.5625\" xlink:href=\"#m7aaa1b2c91\" y=\"105.048\"/>\n      </g>\n     </g>\n     <g id=\"text_8\">\n      <!-- 4 -->\n      <g transform=\"translate(7.2 108.847219)scale(0.1 -0.1)\">\n       <use xlink:href=\"#DejaVuSans-52\"/>\n      </g>\n     </g>\n    </g>\n    <g id=\"ytick_4\">\n     <g id=\"line2d_9\">\n      <g>\n       <use style=\"stroke:#000000;stroke-width:0.8;\" x=\"20.5625\" xlink:href=\"#m7aaa1b2c91\" y=\"148.536\"/>\n      </g>\n     </g>\n     <g id=\"text_9\">\n      <!-- 6 -->\n      <g transform=\"translate(7.2 152.335219)scale(0.1 -0.1)\">\n       <use xlink:href=\"#DejaVuSans-54\"/>\n      </g>\n     </g>\n    </g>\n    <g id=\"ytick_5\">\n     <g id=\"line2d_10\">\n      <g>\n       <use style=\"stroke:#000000;stroke-width:0.8;\" x=\"20.5625\" xlink:href=\"#m7aaa1b2c91\" y=\"192.024\"/>\n      </g>\n     </g>\n     <g id=\"text_10\">\n      <!-- 8 -->\n      <g transform=\"translate(7.2 195.823219)scale(0.1 -0.1)\">\n       <use xlink:href=\"#DejaVuSans-56\"/>\n      </g>\n     </g>\n    </g>\n   </g>\n   <g id=\"patch_3\">\n    <path d=\"M 20.5625 224.64 \nL 20.5625 7.2 \n\" style=\"fill:none;stroke:#000000;stroke-linecap:square;stroke-linejoin:miter;stroke-width:0.8;\"/>\n   </g>\n   <g id=\"patch_4\">\n    <path d=\"M 238.0025 224.64 \nL 238.0025 7.2 \n\" style=\"fill:none;stroke:#000000;stroke-linecap:square;stroke-linejoin:miter;stroke-width:0.8;\"/>\n   </g>\n   <g id=\"patch_5\">\n    <path d=\"M 20.5625 224.64 \nL 238.0025 224.64 \n\" style=\"fill:none;stroke:#000000;stroke-linecap:square;stroke-linejoin:miter;stroke-width:0.8;\"/>\n   </g>\n   <g id=\"patch_6\">\n    <path d=\"M 20.5625 7.2 \nL 238.0025 7.2 \n\" style=\"fill:none;stroke:#000000;stroke-linecap:square;stroke-linejoin:miter;stroke-width:0.8;\"/>\n   </g>\n  </g>\n </g>\n <defs>\n  <clipPath id=\"p158cbc3331\">\n   <rect height=\"217.44\" width=\"217.44\" x=\"20.5625\" y=\"7.2\"/>\n  </clipPath>\n </defs>\n</svg>\n",
      "text/plain": "<Figure size 432x288 with 1 Axes>"
     },
     "metadata": {
      "needs_background": "light"
     },
     "output_type": "display_data"
    }
   ],
   "source": [
    "plt.imshow(pic)\n",
    "plt.figure()\n",
    "plt.imshow(pic2)"
   ]
  },
  {
   "cell_type": "code",
   "execution_count": 120,
   "metadata": {},
   "outputs": [
    {
     "name": "stdout",
     "output_type": "stream",
     "text": "14 [ 3 23 42]\n15 [ 5 17]\n24 [21 26 41]\n25 [14 30 39 56]\n26 [  9  15  18  24  37  44 105 121]\n27 [12 45 46]\n28 [ 8 25 36]\n33 [64 75 99]\n36 [13 40]\n37 [ 34  43 106]\n53 [ 70 122]\n54 [49 68]\n63 [66 72]\n64 [54 73]\n66 [ 32  35  50  94 107]\n69 [79 95]\n75 [92 97]\n77 [33 53]\n78 [10 19]\n91 [85 89]\n"
    }
   ],
   "source": [
    "for pair in pairs:\n",
    "    print(pair[0],pair[1])"
   ]
  },
  {
   "cell_type": "code",
   "execution_count": 175,
   "metadata": {},
   "outputs": [],
   "source": [
    "sub_prefix = 'sensorscope-meteo-'\n",
    "sub_suffix = '.txt'\n",
    "def concat_dataframe(num_list):\n",
    "    # df_sum = pd.DataFrame()\n",
    "    max_length = 0\n",
    "    max_df = None\n",
    "    max_num = 0\n",
    "    for i,num in enumerate(num_list):\n",
    "        file = ori_path+sub_prefix+str(num)+sub_suffix\n",
    "        df = pd.read_csv(file,sep=' ',names=name)\n",
    "        print(file,len(df))\n",
    "        if len(df) > max_length:\n",
    "            max_length = len(df)\n",
    "            max_df = df\n",
    "            max_num = i\n",
    "    return max_df,max_num"
   ]
  },
  {
   "cell_type": "code",
   "execution_count": 181,
   "metadata": {},
   "outputs": [
    {
     "name": "stdout",
     "output_type": "stream",
     "text": "/Users/anruolin/github/CCS_TA_implement/Dataset/Sensorscope/luce_stations/sensorscope-meteo-5.txt 473401\n/Users/anruolin/github/CCS_TA_implement/Dataset/Sensorscope/luce_stations/sensorscope-meteo-17.txt 508058\n"
    }
   ],
   "source": [
    "df,num = concat_dataframe(pairs[1][1])"
   ]
  },
  {
   "cell_type": "code",
   "execution_count": 178,
   "metadata": {},
   "outputs": [
    {
     "name": "stdout",
     "output_type": "stream",
     "text": "[ 3 23 42]\n/Users/anruolin/github/CCS_TA_implement/Dataset/Sensorscope/luce_stations/sensorscope-meteo-3.txt 463366\n/Users/anruolin/github/CCS_TA_implement/Dataset/Sensorscope/luce_stations/sensorscope-meteo-23.txt 508496\n/Users/anruolin/github/CCS_TA_implement/Dataset/Sensorscope/luce_stations/sensorscope-meteo-42.txt 476141\n[ 5 17]\n/Users/anruolin/github/CCS_TA_implement/Dataset/Sensorscope/luce_stations/sensorscope-meteo-5.txt 473401\n/Users/anruolin/github/CCS_TA_implement/Dataset/Sensorscope/luce_stations/sensorscope-meteo-17.txt 508058\n[21 26 41]\n/Users/anruolin/github/CCS_TA_implement/Dataset/Sensorscope/luce_stations/sensorscope-meteo-21.txt 516111\n/Users/anruolin/github/CCS_TA_implement/Dataset/Sensorscope/luce_stations/sensorscope-meteo-26.txt 523660\n/Users/anruolin/github/CCS_TA_implement/Dataset/Sensorscope/luce_stations/sensorscope-meteo-41.txt 492508\n[14 30 39 56]\n/Users/anruolin/github/CCS_TA_implement/Dataset/Sensorscope/luce_stations/sensorscope-meteo-14.txt 507791\n/Users/anruolin/github/CCS_TA_implement/Dataset/Sensorscope/luce_stations/sensorscope-meteo-30.txt 459515\n/Users/anruolin/github/CCS_TA_implement/Dataset/Sensorscope/luce_stations/sensorscope-meteo-39.txt 498798\n/Users/anruolin/github/CCS_TA_implement/Dataset/Sensorscope/luce_stations/sensorscope-meteo-56.txt 348901\n[  9  15  18  24  37  44 105 121]\n/Users/anruolin/github/CCS_TA_implement/Dataset/Sensorscope/luce_stations/sensorscope-meteo-9.txt 419401\n/Users/anruolin/github/CCS_TA_implement/Dataset/Sensorscope/luce_stations/sensorscope-meteo-15.txt 507981\n/Users/anruolin/github/CCS_TA_implement/Dataset/Sensorscope/luce_stations/sensorscope-meteo-18.txt 510324\n/Users/anruolin/github/CCS_TA_implement/Dataset/Sensorscope/luce_stations/sensorscope-meteo-24.txt 515165\n/Users/anruolin/github/CCS_TA_implement/Dataset/Sensorscope/luce_stations/sensorscope-meteo-37.txt 481248\n/Users/anruolin/github/CCS_TA_implement/Dataset/Sensorscope/luce_stations/sensorscope-meteo-44.txt 502059\n/Users/anruolin/github/CCS_TA_implement/Dataset/Sensorscope/luce_stations/sensorscope-meteo-105.txt 340836\n/Users/anruolin/github/CCS_TA_implement/Dataset/Sensorscope/luce_stations/sensorscope-meteo-121.txt 1268694\n[12 45 46]\n/Users/anruolin/github/CCS_TA_implement/Dataset/Sensorscope/luce_stations/sensorscope-meteo-12.txt 495806\n/Users/anruolin/github/CCS_TA_implement/Dataset/Sensorscope/luce_stations/sensorscope-meteo-45.txt 496420\n/Users/anruolin/github/CCS_TA_implement/Dataset/Sensorscope/luce_stations/sensorscope-meteo-46.txt 509826\n[ 8 25 36]\n/Users/anruolin/github/CCS_TA_implement/Dataset/Sensorscope/luce_stations/sensorscope-meteo-8.txt 508506\n/Users/anruolin/github/CCS_TA_implement/Dataset/Sensorscope/luce_stations/sensorscope-meteo-25.txt 486527\n/Users/anruolin/github/CCS_TA_implement/Dataset/Sensorscope/luce_stations/sensorscope-meteo-36.txt 484879\n[64 75 99]\n/Users/anruolin/github/CCS_TA_implement/Dataset/Sensorscope/luce_stations/sensorscope-meteo-64.txt 307468\n/Users/anruolin/github/CCS_TA_implement/Dataset/Sensorscope/luce_stations/sensorscope-meteo-75.txt 371510\n/Users/anruolin/github/CCS_TA_implement/Dataset/Sensorscope/luce_stations/sensorscope-meteo-99.txt 254211\n[13 40]\n/Users/anruolin/github/CCS_TA_implement/Dataset/Sensorscope/luce_stations/sensorscope-meteo-13.txt 446626\n/Users/anruolin/github/CCS_TA_implement/Dataset/Sensorscope/luce_stations/sensorscope-meteo-40.txt 465524\n[ 34  43 106]\n/Users/anruolin/github/CCS_TA_implement/Dataset/Sensorscope/luce_stations/sensorscope-meteo-34.txt 515546\n/Users/anruolin/github/CCS_TA_implement/Dataset/Sensorscope/luce_stations/sensorscope-meteo-43.txt 474557\n/Users/anruolin/github/CCS_TA_implement/Dataset/Sensorscope/luce_stations/sensorscope-meteo-106.txt 358605\n[ 70 122]\n/Users/anruolin/github/CCS_TA_implement/Dataset/Sensorscope/luce_stations/sensorscope-meteo-70.txt 477651\n/Users/anruolin/github/CCS_TA_implement/Dataset/Sensorscope/luce_stations/sensorscope-meteo-122.txt 378219\n[49 68]\n/Users/anruolin/github/CCS_TA_implement/Dataset/Sensorscope/luce_stations/sensorscope-meteo-49.txt 449340\n/Users/anruolin/github/CCS_TA_implement/Dataset/Sensorscope/luce_stations/sensorscope-meteo-68.txt 368898\n[66 72]\n/Users/anruolin/github/CCS_TA_implement/Dataset/Sensorscope/luce_stations/sensorscope-meteo-66.txt 448698\n/Users/anruolin/github/CCS_TA_implement/Dataset/Sensorscope/luce_stations/sensorscope-meteo-72.txt 462363\n[54 73]\n/Users/anruolin/github/CCS_TA_implement/Dataset/Sensorscope/luce_stations/sensorscope-meteo-54.txt 447130\n/Users/anruolin/github/CCS_TA_implement/Dataset/Sensorscope/luce_stations/sensorscope-meteo-73.txt 457270\n[ 32  35  50  94 107]\n/Users/anruolin/github/CCS_TA_implement/Dataset/Sensorscope/luce_stations/sensorscope-meteo-32.txt 486101\n/Users/anruolin/github/CCS_TA_implement/Dataset/Sensorscope/luce_stations/sensorscope-meteo-35.txt 520571\n/Users/anruolin/github/CCS_TA_implement/Dataset/Sensorscope/luce_stations/sensorscope-meteo-50.txt 452121\n/Users/anruolin/github/CCS_TA_implement/Dataset/Sensorscope/luce_stations/sensorscope-meteo-94.txt 258488\n/Users/anruolin/github/CCS_TA_implement/Dataset/Sensorscope/luce_stations/sensorscope-meteo-107.txt 367659\n[79 95]\n/Users/anruolin/github/CCS_TA_implement/Dataset/Sensorscope/luce_stations/sensorscope-meteo-79.txt 421204\n/Users/anruolin/github/CCS_TA_implement/Dataset/Sensorscope/luce_stations/sensorscope-meteo-95.txt 366746\n[92 97]\n/Users/anruolin/github/CCS_TA_implement/Dataset/Sensorscope/luce_stations/sensorscope-meteo-92.txt 441339\n/Users/anruolin/github/CCS_TA_implement/Dataset/Sensorscope/luce_stations/sensorscope-meteo-97.txt 455939\n[33 53]\n/Users/anruolin/github/CCS_TA_implement/Dataset/Sensorscope/luce_stations/sensorscope-meteo-33.txt 489204\n/Users/anruolin/github/CCS_TA_implement/Dataset/Sensorscope/luce_stations/sensorscope-meteo-53.txt 481535\n[10 19]\n/Users/anruolin/github/CCS_TA_implement/Dataset/Sensorscope/luce_stations/sensorscope-meteo-10.txt 365048\n/Users/anruolin/github/CCS_TA_implement/Dataset/Sensorscope/luce_stations/sensorscope-meteo-19.txt 468463\n[85 89]\n/Users/anruolin/github/CCS_TA_implement/Dataset/Sensorscope/luce_stations/sensorscope-meteo-85.txt 446444\n/Users/anruolin/github/CCS_TA_implement/Dataset/Sensorscope/luce_stations/sensorscope-meteo-89.txt 457590\n"
    }
   ],
   "source": [
    "num_list = []\n",
    "for pair in pairs:\n",
    "    print(pair[1])\n",
    "    df,num = concat_dataframe(pair[1])\n",
    "    num_list.append(np.delete(pair[1],num))"
   ]
  },
  {
   "cell_type": "code",
   "execution_count": 179,
   "metadata": {},
   "outputs": [
    {
     "name": "stdout",
     "output_type": "stream",
     "text": "[array([ 3, 42]), array([5]), array([21, 41]), array([30, 39, 56]), array([  9,  15,  18,  24,  37,  44, 105]), array([12, 45]), array([25, 36]), array([64, 99]), array([13]), array([ 43, 106]), array([122]), array([68]), array([66]), array([54]), array([ 32,  50,  94, 107]), array([95]), array([92]), array([53]), array([10]), array([85])]\n"
    }
   ],
   "source": [
    "print(num_list)"
   ]
  },
  {
   "cell_type": "code",
   "execution_count": 185,
   "metadata": {},
   "outputs": [],
   "source": [
    "num_list = np.array(num_list)\n",
    "new_list = num_list.squeeze()"
   ]
  },
  {
   "cell_type": "code",
   "execution_count": 189,
   "metadata": {},
   "outputs": [
    {
     "name": "stdout",
     "output_type": "stream",
     "text": "(20,)\n(20,)\n"
    }
   ],
   "source": [
    "print(num_list.shape)\n",
    "print(new_list.shape)"
   ]
  },
  {
   "cell_type": "code",
   "execution_count": 195,
   "metadata": {},
   "outputs": [],
   "source": [
    "ab = []\n",
    "for a in new_list:\n",
    "    for b in a:\n",
    "        ab.append(b)"
   ]
  },
  {
   "cell_type": "code",
   "execution_count": 198,
   "metadata": {},
   "outputs": [
    {
     "name": "stdout",
     "output_type": "stream",
     "text": "[3, 5, 9, 10, 12, 13, 15, 18, 21, 24, 25, 30, 32, 36, 37, 39, 41, 42, 43, 44, 45, 50, 53, 54, 56, 64, 66, 68, 85, 92, 94, 95, 99, 105, 106, 107, 122] 37\n"
    }
   ],
   "source": [
    "print(sorted(ab),len(ab))"
   ]
  },
  {
   "cell_type": "code",
   "execution_count": 199,
   "metadata": {},
   "outputs": [
    {
     "name": "stdout",
     "output_type": "stream",
     "text": "[[14, array([ 3, 23, 42])], [15, array([ 5, 17])], [24, array([21, 26, 41])], [25, array([14, 30, 39, 56])], [26, array([  9,  15,  18,  24,  37,  44, 105, 121])], [27, array([12, 45, 46])], [28, array([ 8, 25, 36])], [33, array([64, 75, 99])], [36, array([13, 40])], [37, array([ 34,  43, 106])], [53, array([ 70, 122])], [54, array([49, 68])], [63, array([66, 72])], [64, array([54, 73])], [66, array([ 32,  35,  50,  94, 107])], [69, array([79, 95])], [75, array([92, 97])], [77, array([33, 53])], [78, array([10, 19])], [91, array([85, 89])]]\n"
    }
   ],
   "source": [
    "print(pairs)"
   ]
  },
  {
   "cell_type": "code",
   "execution_count": 208,
   "metadata": {},
   "outputs": [
    {
     "name": "stdout",
     "output_type": "stream",
     "text": "[  7   8  11  14  17  19  23  26  27  31  33  34  35  40  46  47  49  51\n  55  57  59  60  61  62  63  65  69  70  71  72  73  75  76  79  80  81\n  82  84  87  88  89  93  96  97  98 100 103 104 109 111 121] 51\n"
    }
   ],
   "source": [
    "total=df['ID'].values\n",
    "diff = np.setdiff1d(total,ab)\n",
    "print(diff,len(diff))"
   ]
  },
  {
   "cell_type": "code",
   "execution_count": 210,
   "metadata": {},
   "outputs": [
    {
     "name": "stdout",
     "output_type": "stream",
     "text": "/Users/anruolin/github/CCS_TA_implement/Dataset/Sensorscope/luce_stations/sensorscope-meteo-7.txt Done 131753 131753\n/Users/anruolin/github/CCS_TA_implement/Dataset/Sensorscope/luce_stations/sensorscope-meteo-8.txt Done 508506 640259\n/Users/anruolin/github/CCS_TA_implement/Dataset/Sensorscope/luce_stations/sensorscope-meteo-11.txt Done 474258 1114517\n/Users/anruolin/github/CCS_TA_implement/Dataset/Sensorscope/luce_stations/sensorscope-meteo-14.txt Done 507791 1622308\n/Users/anruolin/github/CCS_TA_implement/Dataset/Sensorscope/luce_stations/sensorscope-meteo-17.txt Done 508058 2130366\n/Users/anruolin/github/CCS_TA_implement/Dataset/Sensorscope/luce_stations/sensorscope-meteo-19.txt Done 468463 2598829\n/Users/anruolin/github/CCS_TA_implement/Dataset/Sensorscope/luce_stations/sensorscope-meteo-23.txt Done 508496 3107325\n/Users/anruolin/github/CCS_TA_implement/Dataset/Sensorscope/luce_stations/sensorscope-meteo-26.txt Done 523660 3630985\n/Users/anruolin/github/CCS_TA_implement/Dataset/Sensorscope/luce_stations/sensorscope-meteo-27.txt Done 122838 3753823\n/Users/anruolin/github/CCS_TA_implement/Dataset/Sensorscope/luce_stations/sensorscope-meteo-31.txt Done 475734 4229557\n/Users/anruolin/github/CCS_TA_implement/Dataset/Sensorscope/luce_stations/sensorscope-meteo-33.txt Done 489204 4718761\n/Users/anruolin/github/CCS_TA_implement/Dataset/Sensorscope/luce_stations/sensorscope-meteo-34.txt Done 515546 5234307\n/Users/anruolin/github/CCS_TA_implement/Dataset/Sensorscope/luce_stations/sensorscope-meteo-35.txt Done 520571 5754878\n/Users/anruolin/github/CCS_TA_implement/Dataset/Sensorscope/luce_stations/sensorscope-meteo-40.txt Done 465524 6220402\n/Users/anruolin/github/CCS_TA_implement/Dataset/Sensorscope/luce_stations/sensorscope-meteo-46.txt Done 509826 6730228\n/Users/anruolin/github/CCS_TA_implement/Dataset/Sensorscope/luce_stations/sensorscope-meteo-47.txt Done 132309 6862537\n/Users/anruolin/github/CCS_TA_implement/Dataset/Sensorscope/luce_stations/sensorscope-meteo-49.txt Done 449340 7311877\n/Users/anruolin/github/CCS_TA_implement/Dataset/Sensorscope/luce_stations/sensorscope-meteo-51.txt Done 463746 7775623\n/Users/anruolin/github/CCS_TA_implement/Dataset/Sensorscope/luce_stations/sensorscope-meteo-55.txt Done 466390 8242013\n/Users/anruolin/github/CCS_TA_implement/Dataset/Sensorscope/luce_stations/sensorscope-meteo-57.txt Done 409707 8651720\n/Users/anruolin/github/CCS_TA_implement/Dataset/Sensorscope/luce_stations/sensorscope-meteo-59.txt Done 275774 8927494\n/Users/anruolin/github/CCS_TA_implement/Dataset/Sensorscope/luce_stations/sensorscope-meteo-60.txt Done 462547 9390041\n/Users/anruolin/github/CCS_TA_implement/Dataset/Sensorscope/luce_stations/sensorscope-meteo-61.txt Done 267775 9657816\n/Users/anruolin/github/CCS_TA_implement/Dataset/Sensorscope/luce_stations/sensorscope-meteo-62.txt Done 325345 9983161\n/Users/anruolin/github/CCS_TA_implement/Dataset/Sensorscope/luce_stations/sensorscope-meteo-63.txt Done 287042 10270203\n/Users/anruolin/github/CCS_TA_implement/Dataset/Sensorscope/luce_stations/sensorscope-meteo-65.txt Done 364818 10635021\n/Users/anruolin/github/CCS_TA_implement/Dataset/Sensorscope/luce_stations/sensorscope-meteo-69.txt Done 494813 11129834\n/Users/anruolin/github/CCS_TA_implement/Dataset/Sensorscope/luce_stations/sensorscope-meteo-70.txt Done 477651 11607485\n/Users/anruolin/github/CCS_TA_implement/Dataset/Sensorscope/luce_stations/sensorscope-meteo-71.txt Done 255942 11863427\n/Users/anruolin/github/CCS_TA_implement/Dataset/Sensorscope/luce_stations/sensorscope-meteo-72.txt Done 462363 12325790\n/Users/anruolin/github/CCS_TA_implement/Dataset/Sensorscope/luce_stations/sensorscope-meteo-73.txt Done 457270 12783060\n/Users/anruolin/github/CCS_TA_implement/Dataset/Sensorscope/luce_stations/sensorscope-meteo-75.txt Done 371510 13154570\n/Users/anruolin/github/CCS_TA_implement/Dataset/Sensorscope/luce_stations/sensorscope-meteo-76.txt Done 427241 13581811\n/Users/anruolin/github/CCS_TA_implement/Dataset/Sensorscope/luce_stations/sensorscope-meteo-79.txt Done 421204 14003015\n/Users/anruolin/github/CCS_TA_implement/Dataset/Sensorscope/luce_stations/sensorscope-meteo-80.txt Done 435960 14438975\n/Users/anruolin/github/CCS_TA_implement/Dataset/Sensorscope/luce_stations/sensorscope-meteo-81.txt Done 388750 14827725\n/Users/anruolin/github/CCS_TA_implement/Dataset/Sensorscope/luce_stations/sensorscope-meteo-82.txt Done 194407 15022132\n/Users/anruolin/github/CCS_TA_implement/Dataset/Sensorscope/luce_stations/sensorscope-meteo-84.txt Done 447777 15469909\n/Users/anruolin/github/CCS_TA_implement/Dataset/Sensorscope/luce_stations/sensorscope-meteo-87.txt Done 462860 15932769\n/Users/anruolin/github/CCS_TA_implement/Dataset/Sensorscope/luce_stations/sensorscope-meteo-88.txt Done 384518 16317287\n/Users/anruolin/github/CCS_TA_implement/Dataset/Sensorscope/luce_stations/sensorscope-meteo-89.txt Done 457590 16774877\n/Users/anruolin/github/CCS_TA_implement/Dataset/Sensorscope/luce_stations/sensorscope-meteo-93.txt Done 471416 17246293\n/Users/anruolin/github/CCS_TA_implement/Dataset/Sensorscope/luce_stations/sensorscope-meteo-96.txt Done 474777 17721070\n/Users/anruolin/github/CCS_TA_implement/Dataset/Sensorscope/luce_stations/sensorscope-meteo-97.txt Done 455939 18177009\n/Users/anruolin/github/CCS_TA_implement/Dataset/Sensorscope/luce_stations/sensorscope-meteo-98.txt Done 347117 18524126\n/Users/anruolin/github/CCS_TA_implement/Dataset/Sensorscope/luce_stations/sensorscope-meteo-100.txt Done 481362 19005488\n/Users/anruolin/github/CCS_TA_implement/Dataset/Sensorscope/luce_stations/sensorscope-meteo-103.txt Done 453399 19458887\n/Users/anruolin/github/CCS_TA_implement/Dataset/Sensorscope/luce_stations/sensorscope-meteo-104.txt Done 455293 19914180\n/Users/anruolin/github/CCS_TA_implement/Dataset/Sensorscope/luce_stations/sensorscope-meteo-109.txt Done 240373 20154553\n/Users/anruolin/github/CCS_TA_implement/Dataset/Sensorscope/luce_stations/sensorscope-meteo-111.txt Done 374388 20528941\n/Users/anruolin/github/CCS_TA_implement/Dataset/Sensorscope/luce_stations/sensorscope-meteo-121.txt Done 1268694 21797635\n"
    }
   ],
   "source": [
    "dfs = pd.DataFrame()\n",
    "for dif in diff:\n",
    "    file = ori_path+sub_prefix+str(dif)+sub_suffix\n",
    "    df_tmp = pd.read_csv(file,sep=' ',names=name)\n",
    "    dfs = pd.concat([dfs,df_tmp],axis=0)\n",
    "    print(file,'Done',len(df_tmp),len(dfs))"
   ]
  },
  {
   "cell_type": "code",
   "execution_count": 212,
   "metadata": {},
   "outputs": [
    {
     "name": "stdout",
     "output_type": "stream",
     "text": "<class 'pandas.core.frame.DataFrame'>\nInt64Index: 21797635 entries, 0 to 1268693\nData columns (total 18 columns):\n #   Column                    Dtype  \n---  ------                    -----  \n 0   Station ID                int64  \n 1   Year                      int64  \n 2   Month                     int64  \n 3   Day                       int64  \n 4   Hour                      int64  \n 5   Minute                    int64  \n 6   Second                    int64  \n 7   Time since the epoch [s]  int64  \n 8   Sequence Number           int64  \n 9   Ambient Temperature       float64\n 10  Surface Temperature       float64\n 11  Solar Radiation           float64\n 12  Relative Humidity [%]     float64\n 13  Soil Moisture [%]         float64\n 14  Watermark [kPa]           float64\n 15  Rain Meter [mm]           float64\n 16  Wind Speed [m/s]          float64\n 17  Wind Direction [°]        float64\ndtypes: float64(9), int64(9)\nmemory usage: 3.1 GB\nNone\n"
    }
   ],
   "source": [
    "print(dfs.info(memory_usage='Deep'))"
   ]
  },
  {
   "cell_type": "code",
   "execution_count": 213,
   "metadata": {},
   "outputs": [],
   "source": [
    "dfs.to_hdf('data.h5',key='dfs',mode='w')\n",
    "# df_tst.to_hdf('data.h5',key='dff',mode='w')"
   ]
  },
  {
   "cell_type": "code",
   "execution_count": 215,
   "metadata": {},
   "outputs": [
    {
     "name": "stdout",
     "output_type": "stream",
     "text": "<class 'pandas.core.frame.DataFrame'>\nInt64Index: 21797635 entries, 0 to 1268693\nData columns (total 18 columns):\n #   Column                    Dtype  \n---  ------                    -----  \n 0   Station ID                int64  \n 1   Year                      int64  \n 2   Month                     int64  \n 3   Day                       int64  \n 4   Hour                      int64  \n 5   Minute                    int64  \n 6   Second                    int64  \n 7   Time since the epoch [s]  int64  \n 8   Sequence Number           int64  \n 9   Ambient Temperature       float64\n 10  Surface Temperature       float64\n 11  Solar Radiation           float64\n 12  Relative Humidity [%]     float64\n 13  Soil Moisture [%]         float64\n 14  Watermark [kPa]           float64\n 15  Rain Meter [mm]           float64\n 16  Wind Speed [m/s]          float64\n 17  Wind Direction [°]        float64\ndtypes: float64(9), int64(9)\nmemory usage: 3.1 GB\nNone\n"
    }
   ],
   "source": [
    "print(dfs.info(memory_usage='deep'))"
   ]
  },
  {
   "cell_type": "markdown",
   "metadata": {},
   "source": [
    "## 从hdf读取dataframe"
   ]
  },
  {
   "cell_type": "code",
   "execution_count": 3,
   "metadata": {},
   "outputs": [
    {
     "name": "stdout",
     "output_type": "stream",
     "text": "<class 'pandas.core.frame.DataFrame'>\nInt64Index: 21797635 entries, 0 to 1268693\nData columns (total 18 columns):\n #   Column                    Dtype  \n---  ------                    -----  \n 0   Station ID                int64  \n 1   Year                      int64  \n 2   Month                     int64  \n 3   Day                       int64  \n 4   Hour                      int64  \n 5   Minute                    int64  \n 6   Second                    int64  \n 7   Time since the epoch [s]  int64  \n 8   Sequence Number           int64  \n 9   Ambient Temperature       float64\n 10  Surface Temperature       float64\n 11  Solar Radiation           float64\n 12  Relative Humidity [%]     float64\n 13  Soil Moisture [%]         float64\n 14  Watermark [kPa]           float64\n 15  Rain Meter [mm]           float64\n 16  Wind Speed [m/s]          float64\n 17  Wind Direction [°]        float64\ndtypes: float64(9), int64(9)\nmemory usage: 3.1 GB\nNone\n"
    }
   ],
   "source": [
    "dfs = pd.read_hdf('data.h5','dfs')\n",
    "print(dfs.info(memory_usage='deep'))"
   ]
  },
  {
   "cell_type": "code",
   "execution_count": 7,
   "metadata": {},
   "outputs": [
    {
     "name": "stdout",
     "output_type": "stream",
     "text": "count    2.973239e+06\nmean     1.400332e+02\nstd      1.169309e+02\nmin      0.000000e+00\n25%      3.991000e+01\n50%      1.046190e+02\n75%      2.357810e+02\nmax      3.598710e+02\nName: Wind Direction [°], dtype: float64\n"
    }
   ],
   "source": [
    "print(dfs['Wind Direction [°]'].describe())"
   ]
  },
  {
   "cell_type": "code",
   "execution_count": 19,
   "metadata": {},
   "outputs": [
    {
     "name": "stdout",
     "output_type": "stream",
     "text": "21797635\n21408629\n"
    }
   ],
   "source": [
    "print(dfs['Wind Speed [m/s]'].shape[0])\n",
    "print(dfs['Wind Speed [m/s]'].isna().sum())"
   ]
  },
  {
   "cell_type": "code",
   "execution_count": 55,
   "metadata": {},
   "outputs": [
    {
     "name": "stdout",
     "output_type": "stream",
     "text": "na_percent:\t valid_nums \t column_name\n0.000%: \t 21797635 \t Station ID\n0.000%: \t 21797635 \t Year\n0.000%: \t 21797635 \t Month\n0.000%: \t 21797635 \t Day\n0.000%: \t 21797635 \t Hour\n0.000%: \t 21797635 \t Minute\n0.000%: \t 21797635 \t Second\n0.000%: \t 21797635 \t Time since the epoch [s]\n0.000%: \t 21797635 \t Sequence Number\n4.087%: \t 20906717 \t Ambient Temperature\n1.802%: \t 21404777 \t Surface Temperature\n86.315%: \t 2983006 \t Solar Radiation\n4.015%: \t 20922440 \t Relative Humidity [%]\n86.052%: \t 3040423 \t Soil Moisture [%]\n88.500%: \t 2506651 \t Watermark [kPa]\n94.795%: \t 1134469 \t Rain Meter [mm]\n98.215%: \t 389006 \t Wind Speed [m/s]\n86.360%: \t 2973239 \t Wind Direction [°]\n"
    }
   ],
   "source": [
    "# 统计 每一列 Nan的个数,百分比\n",
    "print(\"na_percent:\\t valid_nums \\t column_name\")\n",
    "for column in dfs.columns:\n",
    "    # print(column,dfs[column].isna().sum())\n",
    "    na_num = dfs[column].isna().sum()\n",
    "    total_num = dfs[column].shape[0]\n",
    "    print(\"{1:.3f}%: \\t {2} \\t {0}\".format(column,na_num*100/total_num,total_num-na_num))"
   ]
  },
  {
   "cell_type": "code",
   "execution_count": 56,
   "metadata": {},
   "outputs": [],
   "source": [
    "df_sub = dfs.drop(['Solar Radiation','Soil Moisture [%]','Watermark [kPa]','Rain Meter [mm]','Wind Speed [m/s]','Wind Direction [°]'],axis=1)"
   ]
  },
  {
   "cell_type": "code",
   "execution_count": 58,
   "metadata": {},
   "outputs": [
    {
     "name": "stdout",
     "output_type": "stream",
     "text": "<class 'pandas.core.frame.DataFrame'>\nInt64Index: 21797635 entries, 0 to 1268693\nData columns (total 12 columns):\n #   Column                    Dtype  \n---  ------                    -----  \n 0   Station ID                int64  \n 1   Year                      int64  \n 2   Month                     int64  \n 3   Day                       int64  \n 4   Hour                      int64  \n 5   Minute                    int64  \n 6   Second                    int64  \n 7   Time since the epoch [s]  int64  \n 8   Sequence Number           int64  \n 9   Ambient Temperature       float64\n 10  Surface Temperature       float64\n 11  Relative Humidity [%]     float64\ndtypes: float64(3), int64(9)\nmemory usage: 2.2 GB\n"
    }
   ],
   "source": [
    "df_sub.info(memory_usage='deep')"
   ]
  },
  {
   "cell_type": "code",
   "execution_count": 61,
   "metadata": {},
   "outputs": [
    {
     "name": "stdout",
     "output_type": "stream",
     "text": "(21797635, 12)\n(21797635, 18)\n"
    }
   ],
   "source": [
    "print(df_sub.shape)\n",
    "print(dfs.shape)"
   ]
  },
  {
   "cell_type": "code",
   "execution_count": null,
   "metadata": {},
   "outputs": [],
   "source": [
    "dfs.to_hdf('data_ori.h5',key='dfs',mode='w')"
   ]
  },
  {
   "cell_type": "code",
   "execution_count": 59,
   "metadata": {},
   "outputs": [],
   "source": [
    "df_sub.to_hdf('data.h5',key='df_sub',mode='w')"
   ]
  },
  {
   "cell_type": "code",
   "execution_count": 12,
   "metadata": {},
   "outputs": [
    {
     "data": {
      "text/html": "<div>\n<style scoped>\n    .dataframe tbody tr th:only-of-type {\n        vertical-align: middle;\n    }\n\n    .dataframe tbody tr th {\n        vertical-align: top;\n    }\n\n    .dataframe thead th {\n        text-align: right;\n    }\n</style>\n<table border=\"1\" class=\"dataframe\">\n  <thead>\n    <tr style=\"text-align: right;\">\n      <th></th>\n      <th>Station ID</th>\n      <th>Year</th>\n      <th>Month</th>\n      <th>Day</th>\n      <th>Hour</th>\n      <th>Minute</th>\n      <th>Second</th>\n      <th>Time since the epoch [s]</th>\n      <th>Sequence Number</th>\n      <th>Ambient Temperature</th>\n      <th>Surface Temperature</th>\n      <th>Solar Radiation</th>\n      <th>Relative Humidity [%]</th>\n      <th>Soil Moisture [%]</th>\n      <th>Watermark [kPa]</th>\n      <th>Rain Meter [mm]</th>\n      <th>Wind Speed [m/s]</th>\n    </tr>\n  </thead>\n  <tbody>\n    <tr>\n      <th>0</th>\n      <td>7</td>\n      <td>2007</td>\n      <td>3</td>\n      <td>19</td>\n      <td>13</td>\n      <td>47</td>\n      <td>26</td>\n      <td>1174308446</td>\n      <td>284</td>\n      <td>3.38</td>\n      <td>6.412</td>\n      <td>NaN</td>\n      <td>88.505</td>\n      <td>NaN</td>\n      <td>NaN</td>\n      <td>NaN</td>\n      <td>NaN</td>\n    </tr>\n    <tr>\n      <th>1</th>\n      <td>7</td>\n      <td>2007</td>\n      <td>3</td>\n      <td>19</td>\n      <td>13</td>\n      <td>47</td>\n      <td>56</td>\n      <td>1174308476</td>\n      <td>285</td>\n      <td>3.40</td>\n      <td>6.162</td>\n      <td>NaN</td>\n      <td>88.661</td>\n      <td>NaN</td>\n      <td>NaN</td>\n      <td>NaN</td>\n      <td>NaN</td>\n    </tr>\n    <tr>\n      <th>2</th>\n      <td>7</td>\n      <td>2007</td>\n      <td>3</td>\n      <td>19</td>\n      <td>13</td>\n      <td>48</td>\n      <td>25</td>\n      <td>1174308505</td>\n      <td>286</td>\n      <td>3.45</td>\n      <td>6.287</td>\n      <td>NaN</td>\n      <td>88.674</td>\n      <td>NaN</td>\n      <td>NaN</td>\n      <td>NaN</td>\n      <td>NaN</td>\n    </tr>\n    <tr>\n      <th>3</th>\n      <td>7</td>\n      <td>2007</td>\n      <td>3</td>\n      <td>19</td>\n      <td>13</td>\n      <td>48</td>\n      <td>54</td>\n      <td>1174308534</td>\n      <td>287</td>\n      <td>3.40</td>\n      <td>6.100</td>\n      <td>NaN</td>\n      <td>88.381</td>\n      <td>NaN</td>\n      <td>NaN</td>\n      <td>NaN</td>\n      <td>NaN</td>\n    </tr>\n    <tr>\n      <th>4</th>\n      <td>7</td>\n      <td>2007</td>\n      <td>3</td>\n      <td>19</td>\n      <td>13</td>\n      <td>49</td>\n      <td>23</td>\n      <td>1174308563</td>\n      <td>288</td>\n      <td>3.32</td>\n      <td>6.100</td>\n      <td>NaN</td>\n      <td>88.684</td>\n      <td>NaN</td>\n      <td>NaN</td>\n      <td>NaN</td>\n      <td>NaN</td>\n    </tr>\n    <tr>\n      <th>...</th>\n      <td>...</td>\n      <td>...</td>\n      <td>...</td>\n      <td>...</td>\n      <td>...</td>\n      <td>...</td>\n      <td>...</td>\n      <td>...</td>\n      <td>...</td>\n      <td>...</td>\n      <td>...</td>\n      <td>...</td>\n      <td>...</td>\n      <td>...</td>\n      <td>...</td>\n      <td>...</td>\n      <td>...</td>\n    </tr>\n    <tr>\n      <th>1268689</th>\n      <td>121</td>\n      <td>2007</td>\n      <td>5</td>\n      <td>9</td>\n      <td>17</td>\n      <td>14</td>\n      <td>14</td>\n      <td>1178723654</td>\n      <td>52655</td>\n      <td>19.80</td>\n      <td>20.413</td>\n      <td>NaN</td>\n      <td>48.757</td>\n      <td>NaN</td>\n      <td>NaN</td>\n      <td>NaN</td>\n      <td>NaN</td>\n    </tr>\n    <tr>\n      <th>1268690</th>\n      <td>121</td>\n      <td>2007</td>\n      <td>5</td>\n      <td>9</td>\n      <td>17</td>\n      <td>14</td>\n      <td>54</td>\n      <td>1178723694</td>\n      <td>52659</td>\n      <td>19.84</td>\n      <td>20.350</td>\n      <td>NaN</td>\n      <td>47.419</td>\n      <td>NaN</td>\n      <td>NaN</td>\n      <td>NaN</td>\n      <td>NaN</td>\n    </tr>\n    <tr>\n      <th>1268691</th>\n      <td>121</td>\n      <td>2007</td>\n      <td>5</td>\n      <td>9</td>\n      <td>17</td>\n      <td>15</td>\n      <td>3</td>\n      <td>1178723703</td>\n      <td>52660</td>\n      <td>19.83</td>\n      <td>20.350</td>\n      <td>NaN</td>\n      <td>47.193</td>\n      <td>NaN</td>\n      <td>NaN</td>\n      <td>NaN</td>\n      <td>NaN</td>\n    </tr>\n    <tr>\n      <th>1268692</th>\n      <td>121</td>\n      <td>2007</td>\n      <td>5</td>\n      <td>9</td>\n      <td>17</td>\n      <td>15</td>\n      <td>23</td>\n      <td>1178723723</td>\n      <td>52662</td>\n      <td>19.86</td>\n      <td>20.288</td>\n      <td>NaN</td>\n      <td>48.605</td>\n      <td>NaN</td>\n      <td>NaN</td>\n      <td>NaN</td>\n      <td>NaN</td>\n    </tr>\n    <tr>\n      <th>1268693</th>\n      <td>121</td>\n      <td>2007</td>\n      <td>5</td>\n      <td>9</td>\n      <td>17</td>\n      <td>16</td>\n      <td>12</td>\n      <td>1178723772</td>\n      <td>52667</td>\n      <td>19.81</td>\n      <td>20.475</td>\n      <td>NaN</td>\n      <td>48.503</td>\n      <td>NaN</td>\n      <td>NaN</td>\n      <td>NaN</td>\n      <td>NaN</td>\n    </tr>\n  </tbody>\n</table>\n<p>21797635 rows × 17 columns</p>\n</div>",
      "text/plain": "         Station ID  Year  Month  Day  Hour  Minute  Second  \\\n0                 7  2007      3   19    13      47      26   \n1                 7  2007      3   19    13      47      56   \n2                 7  2007      3   19    13      48      25   \n3                 7  2007      3   19    13      48      54   \n4                 7  2007      3   19    13      49      23   \n...             ...   ...    ...  ...   ...     ...     ...   \n1268689         121  2007      5    9    17      14      14   \n1268690         121  2007      5    9    17      14      54   \n1268691         121  2007      5    9    17      15       3   \n1268692         121  2007      5    9    17      15      23   \n1268693         121  2007      5    9    17      16      12   \n\n         Time since the epoch [s]  Sequence Number  Ambient Temperature  \\\n0                      1174308446              284                 3.38   \n1                      1174308476              285                 3.40   \n2                      1174308505              286                 3.45   \n3                      1174308534              287                 3.40   \n4                      1174308563              288                 3.32   \n...                           ...              ...                  ...   \n1268689                1178723654            52655                19.80   \n1268690                1178723694            52659                19.84   \n1268691                1178723703            52660                19.83   \n1268692                1178723723            52662                19.86   \n1268693                1178723772            52667                19.81   \n\n         Surface Temperature  Solar Radiation  Relative Humidity [%]  \\\n0                      6.412              NaN                 88.505   \n1                      6.162              NaN                 88.661   \n2                      6.287              NaN                 88.674   \n3                      6.100              NaN                 88.381   \n4                      6.100              NaN                 88.684   \n...                      ...              ...                    ...   \n1268689               20.413              NaN                 48.757   \n1268690               20.350              NaN                 47.419   \n1268691               20.350              NaN                 47.193   \n1268692               20.288              NaN                 48.605   \n1268693               20.475              NaN                 48.503   \n\n         Soil Moisture [%]  Watermark [kPa]  Rain Meter [mm]  Wind Speed [m/s]  \n0                      NaN              NaN              NaN               NaN  \n1                      NaN              NaN              NaN               NaN  \n2                      NaN              NaN              NaN               NaN  \n3                      NaN              NaN              NaN               NaN  \n4                      NaN              NaN              NaN               NaN  \n...                    ...              ...              ...               ...  \n1268689                NaN              NaN              NaN               NaN  \n1268690                NaN              NaN              NaN               NaN  \n1268691                NaN              NaN              NaN               NaN  \n1268692                NaN              NaN              NaN               NaN  \n1268693                NaN              NaN              NaN               NaN  \n\n[21797635 rows x 17 columns]"
     },
     "execution_count": 12,
     "metadata": {},
     "output_type": "execute_result"
    }
   ],
   "source": [
    "dfs.drop(['Wind Direction [°]'],axis=1)"
   ]
  },
  {
   "cell_type": "code",
   "execution_count": 13,
   "metadata": {},
   "outputs": [
    {
     "data": {
      "text/html": "<div>\n<style scoped>\n    .dataframe tbody tr th:only-of-type {\n        vertical-align: middle;\n    }\n\n    .dataframe tbody tr th {\n        vertical-align: top;\n    }\n\n    .dataframe thead th {\n        text-align: right;\n    }\n</style>\n<table border=\"1\" class=\"dataframe\">\n  <thead>\n    <tr style=\"text-align: right;\">\n      <th></th>\n      <th>Station ID</th>\n      <th>Year</th>\n      <th>Month</th>\n      <th>Day</th>\n      <th>Hour</th>\n      <th>Minute</th>\n      <th>Second</th>\n      <th>Time since the epoch [s]</th>\n      <th>Sequence Number</th>\n      <th>Ambient Temperature</th>\n      <th>Surface Temperature</th>\n      <th>Solar Radiation</th>\n      <th>Relative Humidity [%]</th>\n      <th>Soil Moisture [%]</th>\n      <th>Watermark [kPa]</th>\n      <th>Rain Meter [mm]</th>\n      <th>Wind Speed [m/s]</th>\n      <th>Wind Direction [°]</th>\n    </tr>\n  </thead>\n  <tbody>\n    <tr>\n      <th>0</th>\n      <td>7</td>\n      <td>2007</td>\n      <td>3</td>\n      <td>19</td>\n      <td>13</td>\n      <td>47</td>\n      <td>26</td>\n      <td>1174308446</td>\n      <td>284</td>\n      <td>3.38</td>\n      <td>6.412</td>\n      <td>NaN</td>\n      <td>88.505</td>\n      <td>NaN</td>\n      <td>NaN</td>\n      <td>NaN</td>\n      <td>NaN</td>\n      <td>NaN</td>\n    </tr>\n    <tr>\n      <th>1</th>\n      <td>7</td>\n      <td>2007</td>\n      <td>3</td>\n      <td>19</td>\n      <td>13</td>\n      <td>47</td>\n      <td>56</td>\n      <td>1174308476</td>\n      <td>285</td>\n      <td>3.40</td>\n      <td>6.162</td>\n      <td>NaN</td>\n      <td>88.661</td>\n      <td>NaN</td>\n      <td>NaN</td>\n      <td>NaN</td>\n      <td>NaN</td>\n      <td>NaN</td>\n    </tr>\n    <tr>\n      <th>2</th>\n      <td>7</td>\n      <td>2007</td>\n      <td>3</td>\n      <td>19</td>\n      <td>13</td>\n      <td>48</td>\n      <td>25</td>\n      <td>1174308505</td>\n      <td>286</td>\n      <td>3.45</td>\n      <td>6.287</td>\n      <td>NaN</td>\n      <td>88.674</td>\n      <td>NaN</td>\n      <td>NaN</td>\n      <td>NaN</td>\n      <td>NaN</td>\n      <td>NaN</td>\n    </tr>\n    <tr>\n      <th>3</th>\n      <td>7</td>\n      <td>2007</td>\n      <td>3</td>\n      <td>19</td>\n      <td>13</td>\n      <td>48</td>\n      <td>54</td>\n      <td>1174308534</td>\n      <td>287</td>\n      <td>3.40</td>\n      <td>6.100</td>\n      <td>NaN</td>\n      <td>88.381</td>\n      <td>NaN</td>\n      <td>NaN</td>\n      <td>NaN</td>\n      <td>NaN</td>\n      <td>NaN</td>\n    </tr>\n    <tr>\n      <th>4</th>\n      <td>7</td>\n      <td>2007</td>\n      <td>3</td>\n      <td>19</td>\n      <td>13</td>\n      <td>49</td>\n      <td>23</td>\n      <td>1174308563</td>\n      <td>288</td>\n      <td>3.32</td>\n      <td>6.100</td>\n      <td>NaN</td>\n      <td>88.684</td>\n      <td>NaN</td>\n      <td>NaN</td>\n      <td>NaN</td>\n      <td>NaN</td>\n      <td>NaN</td>\n    </tr>\n    <tr>\n      <th>...</th>\n      <td>...</td>\n      <td>...</td>\n      <td>...</td>\n      <td>...</td>\n      <td>...</td>\n      <td>...</td>\n      <td>...</td>\n      <td>...</td>\n      <td>...</td>\n      <td>...</td>\n      <td>...</td>\n      <td>...</td>\n      <td>...</td>\n      <td>...</td>\n      <td>...</td>\n      <td>...</td>\n      <td>...</td>\n      <td>...</td>\n    </tr>\n    <tr>\n      <th>1268689</th>\n      <td>121</td>\n      <td>2007</td>\n      <td>5</td>\n      <td>9</td>\n      <td>17</td>\n      <td>14</td>\n      <td>14</td>\n      <td>1178723654</td>\n      <td>52655</td>\n      <td>19.80</td>\n      <td>20.413</td>\n      <td>NaN</td>\n      <td>48.757</td>\n      <td>NaN</td>\n      <td>NaN</td>\n      <td>NaN</td>\n      <td>NaN</td>\n      <td>NaN</td>\n    </tr>\n    <tr>\n      <th>1268690</th>\n      <td>121</td>\n      <td>2007</td>\n      <td>5</td>\n      <td>9</td>\n      <td>17</td>\n      <td>14</td>\n      <td>54</td>\n      <td>1178723694</td>\n      <td>52659</td>\n      <td>19.84</td>\n      <td>20.350</td>\n      <td>NaN</td>\n      <td>47.419</td>\n      <td>NaN</td>\n      <td>NaN</td>\n      <td>NaN</td>\n      <td>NaN</td>\n      <td>NaN</td>\n    </tr>\n    <tr>\n      <th>1268691</th>\n      <td>121</td>\n      <td>2007</td>\n      <td>5</td>\n      <td>9</td>\n      <td>17</td>\n      <td>15</td>\n      <td>3</td>\n      <td>1178723703</td>\n      <td>52660</td>\n      <td>19.83</td>\n      <td>20.350</td>\n      <td>NaN</td>\n      <td>47.193</td>\n      <td>NaN</td>\n      <td>NaN</td>\n      <td>NaN</td>\n      <td>NaN</td>\n      <td>NaN</td>\n    </tr>\n    <tr>\n      <th>1268692</th>\n      <td>121</td>\n      <td>2007</td>\n      <td>5</td>\n      <td>9</td>\n      <td>17</td>\n      <td>15</td>\n      <td>23</td>\n      <td>1178723723</td>\n      <td>52662</td>\n      <td>19.86</td>\n      <td>20.288</td>\n      <td>NaN</td>\n      <td>48.605</td>\n      <td>NaN</td>\n      <td>NaN</td>\n      <td>NaN</td>\n      <td>NaN</td>\n      <td>NaN</td>\n    </tr>\n    <tr>\n      <th>1268693</th>\n      <td>121</td>\n      <td>2007</td>\n      <td>5</td>\n      <td>9</td>\n      <td>17</td>\n      <td>16</td>\n      <td>12</td>\n      <td>1178723772</td>\n      <td>52667</td>\n      <td>19.81</td>\n      <td>20.475</td>\n      <td>NaN</td>\n      <td>48.503</td>\n      <td>NaN</td>\n      <td>NaN</td>\n      <td>NaN</td>\n      <td>NaN</td>\n      <td>NaN</td>\n    </tr>\n  </tbody>\n</table>\n<p>21797635 rows × 18 columns</p>\n</div>",
      "text/plain": "         Station ID  Year  Month  Day  Hour  Minute  Second  \\\n0                 7  2007      3   19    13      47      26   \n1                 7  2007      3   19    13      47      56   \n2                 7  2007      3   19    13      48      25   \n3                 7  2007      3   19    13      48      54   \n4                 7  2007      3   19    13      49      23   \n...             ...   ...    ...  ...   ...     ...     ...   \n1268689         121  2007      5    9    17      14      14   \n1268690         121  2007      5    9    17      14      54   \n1268691         121  2007      5    9    17      15       3   \n1268692         121  2007      5    9    17      15      23   \n1268693         121  2007      5    9    17      16      12   \n\n         Time since the epoch [s]  Sequence Number  Ambient Temperature  \\\n0                      1174308446              284                 3.38   \n1                      1174308476              285                 3.40   \n2                      1174308505              286                 3.45   \n3                      1174308534              287                 3.40   \n4                      1174308563              288                 3.32   \n...                           ...              ...                  ...   \n1268689                1178723654            52655                19.80   \n1268690                1178723694            52659                19.84   \n1268691                1178723703            52660                19.83   \n1268692                1178723723            52662                19.86   \n1268693                1178723772            52667                19.81   \n\n         Surface Temperature  Solar Radiation  Relative Humidity [%]  \\\n0                      6.412              NaN                 88.505   \n1                      6.162              NaN                 88.661   \n2                      6.287              NaN                 88.674   \n3                      6.100              NaN                 88.381   \n4                      6.100              NaN                 88.684   \n...                      ...              ...                    ...   \n1268689               20.413              NaN                 48.757   \n1268690               20.350              NaN                 47.419   \n1268691               20.350              NaN                 47.193   \n1268692               20.288              NaN                 48.605   \n1268693               20.475              NaN                 48.503   \n\n         Soil Moisture [%]  Watermark [kPa]  Rain Meter [mm]  \\\n0                      NaN              NaN              NaN   \n1                      NaN              NaN              NaN   \n2                      NaN              NaN              NaN   \n3                      NaN              NaN              NaN   \n4                      NaN              NaN              NaN   \n...                    ...              ...              ...   \n1268689                NaN              NaN              NaN   \n1268690                NaN              NaN              NaN   \n1268691                NaN              NaN              NaN   \n1268692                NaN              NaN              NaN   \n1268693                NaN              NaN              NaN   \n\n         Wind Speed [m/s]  Wind Direction [°]  \n0                     NaN                 NaN  \n1                     NaN                 NaN  \n2                     NaN                 NaN  \n3                     NaN                 NaN  \n4                     NaN                 NaN  \n...                   ...                 ...  \n1268689               NaN                 NaN  \n1268690               NaN                 NaN  \n1268691               NaN                 NaN  \n1268692               NaN                 NaN  \n1268693               NaN                 NaN  \n\n[21797635 rows x 18 columns]"
     },
     "execution_count": 13,
     "metadata": {},
     "output_type": "execute_result"
    }
   ],
   "source": [
    "dfs[]\n"
   ]
  }
 ]
}