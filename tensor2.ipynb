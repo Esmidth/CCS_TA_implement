{
 "cells": [
  {
   "cell_type": "code",
   "execution_count": 2,
   "metadata": {},
   "outputs": [],
   "source": [
    "%matplotlib inline\n",
    "import numpy as np\n",
    "import pandas as pd\n",
    "import os,sys\n",
    "import utilities\n",
    "import matplotlib.pyplot as plt\n",
    "from numpy import array\n",
    "from multiprocessing import Pool\n",
    "import multiprocessing as mp\n",
    "from consts import sensor_lat as lat\n",
    "from consts import sensor_log as log\n",
    "from consts import valid_sensor_res_10 as valid_sensor_list\n",
    "from consts import valid_sensor_res_10_old as valid_sensor_list_old\n",
    "from consts import sensor_day_seconds as day_seconds\n",
    "from consts import sensor_week_seconds as week_seconds \n",
    "from consts import sensor_start_time_unix as start_time\n",
    "from consts import sensor_end_time_unix as end_time\n",
    "from consts import sensor_epoch_length as epoch_length\n",
    "from consts import sensor_optimal_time_interval as optimal_time_interval\n",
    "from consts import sensor_loc_pic as loc_pic\n",
    "from consts import sensor_drop_list as drop_list\n",
    "import consts\n",
    "import time\n",
    "import pickle\n",
    "import copy\n",
    "import h5py"
   ]
  },
  {
   "cell_type": "code",
   "execution_count": 3,
   "metadata": {},
   "outputs": [],
   "source": [
    "time_stamp = np.arange(start_time,end_time+optimal_time_interval,optimal_time_interval)\n",
    "unix_column = 'Time since the epoch [s]'\n",
    "idd = 'Station ID'\n",
    "a_temperature = 'Ambient Temperature'\n",
    "s_temperature = 'Surface Temperature'"
   ]
  },
  {
   "cell_type": "code",
   "execution_count": 6,
   "metadata": {},
   "outputs": [],
   "source": [
    "df = pd.read_hdf('optimal_period.h5','optimal_df')"
   ]
  },
  {
   "cell_type": "code",
   "execution_count": 7,
   "metadata": {},
   "outputs": [
    {
     "output_type": "execute_result",
     "data": {
      "text/plain": "        Station ID  Year  Month  Day  Hour  Minute  Second  \\\n319633           8  2007      3    1     0       0      27   \n319634           8  2007      3    1     0       0      56   \n319635           8  2007      3    1     0       1      25   \n319636           8  2007      3    1     0       1      55   \n319637           8  2007      3    1     0       2      24   \n...            ...   ...    ...  ...   ...     ...     ...   \n777546         121  2007      3    7    17      30      33   \n777547         121  2007      3    7    17      30      43   \n777548         121  2007      3    7    17      30      52   \n777549         121  2007      3    7    17      31       2   \n777550         121  2007      3    7    17      31      12   \n\n        Time since the epoch [s]  Sequence Number  Ambient Temperature  \\\n319633                1172703627            35250                 8.10   \n319634                1172703656            35251                 8.18   \n319635                1172703685            35252                 8.20   \n319636                1172703715            35253                 8.20   \n319637                1172703744            35254                 8.12   \n...                          ...              ...                  ...   \n777546                1173285033            41669                10.23   \n777547                1173285043            41670                10.26   \n777548                1173285052            41671                10.27   \n777549                1173285062            41672                10.28   \n777550                1173285072            41673                10.26   \n\n        Surface Temperature  Relative Humidity [%]  \n319633                7.350                 81.956  \n319634                7.350                 81.257  \n319635                7.537                 81.141  \n319636                7.412                 81.788  \n319637                7.350                 83.592  \n...                     ...                    ...  \n777546               11.350                 67.417  \n777547               11.412                 66.656  \n777548               11.350                 66.795  \n777549               11.225                 66.906  \n777550               11.412                 66.711  \n\n[944578 rows x 12 columns]",
      "text/html": "<div>\n<style scoped>\n    .dataframe tbody tr th:only-of-type {\n        vertical-align: middle;\n    }\n\n    .dataframe tbody tr th {\n        vertical-align: top;\n    }\n\n    .dataframe thead th {\n        text-align: right;\n    }\n</style>\n<table border=\"1\" class=\"dataframe\">\n  <thead>\n    <tr style=\"text-align: right;\">\n      <th></th>\n      <th>Station ID</th>\n      <th>Year</th>\n      <th>Month</th>\n      <th>Day</th>\n      <th>Hour</th>\n      <th>Minute</th>\n      <th>Second</th>\n      <th>Time since the epoch [s]</th>\n      <th>Sequence Number</th>\n      <th>Ambient Temperature</th>\n      <th>Surface Temperature</th>\n      <th>Relative Humidity [%]</th>\n    </tr>\n  </thead>\n  <tbody>\n    <tr>\n      <th>319633</th>\n      <td>8</td>\n      <td>2007</td>\n      <td>3</td>\n      <td>1</td>\n      <td>0</td>\n      <td>0</td>\n      <td>27</td>\n      <td>1172703627</td>\n      <td>35250</td>\n      <td>8.10</td>\n      <td>7.350</td>\n      <td>81.956</td>\n    </tr>\n    <tr>\n      <th>319634</th>\n      <td>8</td>\n      <td>2007</td>\n      <td>3</td>\n      <td>1</td>\n      <td>0</td>\n      <td>0</td>\n      <td>56</td>\n      <td>1172703656</td>\n      <td>35251</td>\n      <td>8.18</td>\n      <td>7.350</td>\n      <td>81.257</td>\n    </tr>\n    <tr>\n      <th>319635</th>\n      <td>8</td>\n      <td>2007</td>\n      <td>3</td>\n      <td>1</td>\n      <td>0</td>\n      <td>1</td>\n      <td>25</td>\n      <td>1172703685</td>\n      <td>35252</td>\n      <td>8.20</td>\n      <td>7.537</td>\n      <td>81.141</td>\n    </tr>\n    <tr>\n      <th>319636</th>\n      <td>8</td>\n      <td>2007</td>\n      <td>3</td>\n      <td>1</td>\n      <td>0</td>\n      <td>1</td>\n      <td>55</td>\n      <td>1172703715</td>\n      <td>35253</td>\n      <td>8.20</td>\n      <td>7.412</td>\n      <td>81.788</td>\n    </tr>\n    <tr>\n      <th>319637</th>\n      <td>8</td>\n      <td>2007</td>\n      <td>3</td>\n      <td>1</td>\n      <td>0</td>\n      <td>2</td>\n      <td>24</td>\n      <td>1172703744</td>\n      <td>35254</td>\n      <td>8.12</td>\n      <td>7.350</td>\n      <td>83.592</td>\n    </tr>\n    <tr>\n      <th>...</th>\n      <td>...</td>\n      <td>...</td>\n      <td>...</td>\n      <td>...</td>\n      <td>...</td>\n      <td>...</td>\n      <td>...</td>\n      <td>...</td>\n      <td>...</td>\n      <td>...</td>\n      <td>...</td>\n      <td>...</td>\n    </tr>\n    <tr>\n      <th>777546</th>\n      <td>121</td>\n      <td>2007</td>\n      <td>3</td>\n      <td>7</td>\n      <td>17</td>\n      <td>30</td>\n      <td>33</td>\n      <td>1173285033</td>\n      <td>41669</td>\n      <td>10.23</td>\n      <td>11.350</td>\n      <td>67.417</td>\n    </tr>\n    <tr>\n      <th>777547</th>\n      <td>121</td>\n      <td>2007</td>\n      <td>3</td>\n      <td>7</td>\n      <td>17</td>\n      <td>30</td>\n      <td>43</td>\n      <td>1173285043</td>\n      <td>41670</td>\n      <td>10.26</td>\n      <td>11.412</td>\n      <td>66.656</td>\n    </tr>\n    <tr>\n      <th>777548</th>\n      <td>121</td>\n      <td>2007</td>\n      <td>3</td>\n      <td>7</td>\n      <td>17</td>\n      <td>30</td>\n      <td>52</td>\n      <td>1173285052</td>\n      <td>41671</td>\n      <td>10.27</td>\n      <td>11.350</td>\n      <td>66.795</td>\n    </tr>\n    <tr>\n      <th>777549</th>\n      <td>121</td>\n      <td>2007</td>\n      <td>3</td>\n      <td>7</td>\n      <td>17</td>\n      <td>31</td>\n      <td>2</td>\n      <td>1173285062</td>\n      <td>41672</td>\n      <td>10.28</td>\n      <td>11.225</td>\n      <td>66.906</td>\n    </tr>\n    <tr>\n      <th>777550</th>\n      <td>121</td>\n      <td>2007</td>\n      <td>3</td>\n      <td>7</td>\n      <td>17</td>\n      <td>31</td>\n      <td>12</td>\n      <td>1173285072</td>\n      <td>41673</td>\n      <td>10.26</td>\n      <td>11.412</td>\n      <td>66.711</td>\n    </tr>\n  </tbody>\n</table>\n<p>944578 rows × 12 columns</p>\n</div>"
     },
     "metadata": {},
     "execution_count": 7
    }
   ],
   "source": [
    "df"
   ]
  },
  {
   "cell_type": "code",
   "execution_count": 5,
   "metadata": {},
   "outputs": [],
   "source": [
    "df.to_hdf('optimal_period.h5',key='optimal_df')"
   ]
  },
  {
   "cell_type": "code",
   "execution_count": 15,
   "metadata": {},
   "outputs": [],
   "source": [
    "data_index = ['a_temperature_mean','a_temperature_std','a_temperature_array','sub_df_list_optimal_index','time_stamp',]"
   ]
  },
  {
   "cell_type": "code",
   "execution_count": 16,
   "metadata": {},
   "outputs": [],
   "source": [
    "with h5py.File('dataset.hdf5','r') as f:\n",
    "     a_temperature_mean = f[data_index[0]][:]\n",
    "     a_temperature_std = f[data_index[1]][:]\n",
    "     a_temperature_array = f[data_index[2]][:]\n",
    "     sub_df_list_optimal_index = f[data_index[3]][:]\n",
    "     time_stamp = f[data_index[4]][:]"
   ]
  },
  {
   "cell_type": "code",
   "execution_count": 10,
   "metadata": {},
   "outputs": [],
   "source": [
    "df_dict = {'rb_optimal':5959,'optimal':5959,'df_list':20160}"
   ]
  },
  {
   "cell_type": "code",
   "execution_count": 23,
   "metadata": {},
   "outputs": [],
   "source": [
    "def dataset_write(data_list,key,df_dict=df_dict):\n",
    "    filename = 'ds_'+key+'.h5'\n",
    "    store = pd.HDFStore(filename)\n",
    "    for i,item in enumerate(data_list):\n",
    "        store[key+'_'+str(i)] = item\n",
    "    store.close()\n",
    "    return 1"
   ]
  },
  {
   "cell_type": "code",
   "execution_count": 11,
   "metadata": {},
   "outputs": [],
   "source": [
    "def dataset_read(key,df_dict=df_dict):\n",
    "    filename = 'ds_'+key+'.h5'\n",
    "    return_list = []\n",
    "    store = pd.HDFStore(filename)\n",
    "    for i in range(df_dict[key]):\n",
    "        return_list.append(store[key+'_'+str(i)])\n",
    "    store.close()\n",
    "    return return_list"
   ]
  },
  {
   "cell_type": "code",
   "execution_count": null,
   "metadata": {},
   "outputs": [],
   "source": [
    "dataset_write(rb_sub_df_list_optimal,'rb_optimal')"
   ]
  },
  {
   "cell_type": "code",
   "execution_count": null,
   "metadata": {},
   "outputs": [],
   "source": [
    "dataset_write(sub_df_list_optimal,'optimal')"
   ]
  },
  {
   "cell_type": "code",
   "execution_count": null,
   "metadata": {},
   "outputs": [],
   "source": [
    "dataset_write(sub_df_list,'df_list')"
   ]
  },
  {
   "cell_type": "code",
   "execution_count": 13,
   "metadata": {},
   "outputs": [],
   "source": [
    "rb_sub_df_list_optimal = dataset_read('rb_optimal')"
   ]
  },
  {
   "cell_type": "code",
   "execution_count": 14,
   "metadata": {},
   "outputs": [
    {
     "output_type": "execute_result",
     "data": {
      "text/plain": "30453            39295                10.31   \n 147579                1172830461            19322                 9.74   \n 192833                1172830445            19337                10.22   \n 731710                1172830449            60657                15.50   \n \n         Surface Temperature  Relative Humidity [%]  \n 323934                9.475                 65.287  \n 287399               13.225                 66.064  \n 329176                7.912                 69.427  \n 326465               14.975                 62.941  \n 296281               10.350                 67.943  \n 330212               13.850                 65.825  \n 344725               15.600                 67.542  \n 298217               14.225                 63.646  \n 308271                8.787                 70.077  \n 328830                8.100                 67.318  \n 328739               25.225                 65.467  \n 291245                9.850                 67.165  \n 326294               11.287                 66.953  \n 263041               12.725                 67.110  \n 272925               11.412                 65.010  \n 229250               16.350                 68.695  \n 192447               13.600                 69.346  \n 290884               13.350                 64.709  \n 78129                14.975                 67.595  \n 178198               14.225                 70.042  \n 175470               13.225                 68.003  \n 306381                9.475                 70.898  \n 286588               15.412                 63.171  \n 177858               13.350                 67.070  \n 279983               15.350                 62.389  \n 182146               14.100                 69.202  \n 245485               11.537                 69.061  \n 246701               15.037                 73.204  \n 245141               15.537                 69.897  \n 273467               13.912                 70.073  \n 264047               15.662                 67.934  \n 272748               15.225                 71.084  \n 275295               14.600                 76.537  \n 271880               15.725                 72.312  \n 298831               14.787                 68.238  \n 284226               13.600                 70.660  \n 272893               13.912                 67.144  \n 256681               13.537                 66.550  \n 292206               10.850                 70.523  \n 262754               16.663                 69.090  \n 268221               13.850                 72.200  \n 147579               13.725                 71.562  \n 192833               12.162                 69.687  \n 731710               27.163                 56.335  ,\n         Station ID  Year  Month  Day  Hour  Minute  Second  \\\n 323935           8  2007      3    2    11      14      41   \n 287400          11  2007      3    2    11      14      30   \n 329177          14  2007      3    2    11      14      41   \n 326466          17  2007      3    2    11      14      43   \n 296282          19  2007      3    2    11      14      44   \n 330213          23  2007      3    2    11      14      43   \n 344726          26  2007      3    2    11      14      58   \n 298218          31  2007      3    2    11      14      45   \n 308272          33  2007      3    2    11      14      41   \n 328831          34  2007      3    2    11      14      40   \n 328740          35  2007      3    2    11      14      46   \n 291246          40  2007      3    2    11      14      38   \n 326295          46  2007      3    2    11      14      35   \n 263042          49  2007      3    2    11      14      58   \n 272926          51  2007      3    2    11      14      38   \n 229251          57  2007      3    2    11      14      54   \n 192448          59  2007      3    2    11      14      53   \n 290885          60  2007      3    2    11      14      51   \n 78130           61  2007      3    2    11      14      42   \n 178199          62  2007      3    2    11      14      31   \n 175471          65  2007      3    2    11      14      49   \n 306382          69  2007      3    2    11      14      56   \n 286589          70  2007      3    2    11      14      30   \n 177859          71  2007      3    2    11      14      43   \n 279984          72  2007      3    2    11      14      32   \n 182147          75  2007      3    2    11      14      42   \n 245486          76  2007      3    2    11      14      32   \n 246702          79  2007      3    2    11      14      46   \n 245142          80  2007      3    2    11      14      37   \n 273468          81  2007      3    2    11      14      47   \n 264048          84  2007      3    2    11      14      32   \n 272749          87  2007      3    2    11      14      32   \n 275296          88  2007      3    2    11      14      47   \n 271881          89  2007      3    2    11      14      53   \n 298832          93  2007      3    2    11      14      39   \n 284227          96  2007      3    2    11      14      57   \n 272894          97  2007      3    2    11      14      40   \n 256682          98  2007      3    2    11      14      34   \n 292207         100  2007      3    2    11      14      45   \n 262755         103  2007      3    2    11      14      38   \n 268222         104  2007      3    2    11      14      43   \n 147580         109  2007      3    2    11      14      50   \n 192834         111  2007      3    2    11      14      35   \n 731713         121  2007      3    2    11      14      38   \n \n         Time since the epoch [s]  Sequence Number  Ambient Temperature  \\\n 323935                1172830481            39580                10.32   \n 287400                1172830470            36613                 9.94   \n 329177                1172830481            37379                 9.82   \n 326466                1172830483            13522                11.10   \n 296282                1172830484            49142                 9.92   \n 330213                1172830483            17036                10.88   \n 344726                1172830498            63753                11.14   \n 298218                1172830485             5452                10.90   \n 308272                1172830481            36386                 9.87   \n 328831                1172830480            53030                 9.74   \n 328740                1172830486            13479                10.34   \n 291246                1172830478            19576                10.37   \n 326295                1172830475            46161                11.03   \n 263042                1172830498            19359                10.78   \n 272926                1172830478            37222                10.31   \n 229251                1172830494            22338                10.70   \n 192448                1172830493               87                 9.88   \n 290885                1172830491             2209                11.06   \n 78130                 1172830482            22471                10.68   \n 178199                1172830471            23185                10.47   \n 175471                1172830489            11601                 9.90   \n 306382                1172830496             5986                 9.64   \n 286589                1172830470            19362                11.10   \n 177859                1172830483            31885                10.82   \n 279984                1172830472             4532                10.74   \n 182147                1172830482            23194                10.14   \n 245486                1172830472            58632                10.54   \n 246702                1172830486            33617                11.65   \n 245142                1172830477            18693                10.66   \n 273468                1172830487            11268                10.93   \n 264048                1172830472            36603                11.26   \n 272749                1172830472            39267                 9.92   \n 275296                1172830487             1908                10.04   \n 271881                1172830493            39278                10.89   \n 298832                1172830479            33678                10.84   \n 284227                1172830497            22560                10.42   \n 272894                1172830480            31876                11.00   \n 256682                1172830474             1902                10.28   \n 292207                1172830485            36639                10.14   \n 262755                1172830478            13444                10.64   \n 268222                1172830483            39296                10.59   \n 147580                1172830490            19323                 9.71   \n 192834                1172830475            19338                10.00   \n 731713                1172830478            60660                15.76   \n \n         Surface Temperature  Relative Humidity [%]  \n 323935                9.725                 66.502  \n 287400               12.912                 65.165  \n 329177                7.912                 68.832  \n 326466               15.475                 63.662  \n 296282               10.100                 65.687  \n 330213               14.412                 66.271  \n 344726               15.475                 65.181  \n 298218               14.100                 63.234  \n 308272                8.787                 66.914  \n 328831                8.037                 66.316  \n 328740               25.288                 64.651  \n 291246                9.725                 66.538  \n 326295               10.912                 64.771  \n 263042               13.037                 67.353  \n 272926               11.162                 63.752  \n 229251               16.413                 68.969  \n 192448               13.725                 70.928  \n 290885               13.100                 68.657  \n 78130                15.037                 67.307  \n 178199               14.287                 66.886  \n 175471               13.287                 68.226  \n 306382                9.350                 71.385  \n 286589               15.037                 64.084  \n 177859               13.287                 66.701  \n 279984               15.412                 64.022  \n 182147               13.850                 68.514  \n 245486               11.537                 67.828  \n 246702               14.725                 68.304  \n 245142               15.787                 69.850  \n 273468               14.850                 72.769  \n 264048               15.850                 69.182  \n 272749               15.162                 71.042  \n 275296               14.787                 72.488  \n 271881               16.038                 72.551  \n 298832               14.537                 65.960  \n 284227               14.037                 72.327  \n 272894               14.100                 69.538  \n 256682               13.725                 68.052  \n 292207               11.037                 71.508  \n 262755               16.538                 68.688  \n 268222               14.037                 73.329  \n 147580               13.725                 71.108  \n 192834               12.162                 68.920  \n 731713               27.288                 53.890  ,\n         Station ID  Year  Month  Day  Hour  Minute  Second  \\\n 323936           8  2007      3    2    11      15      11   \n 287402          11  2007      3    2    11      15      28   \n 329178          14  2007      3    2    11      15      10   \n 326467          17  2007      3    2    11      15      12   \n 296283          19  2007      3    2    11      15      13   \n 330214          23  2007      3    2    11      15      12   \n 344727          26  2007      3    2    11      15      27   \n 298219          31  2007      3    2    11      15      15   \n 308273          33  2007      3    2    11      15      10   \n 328832          34  2007      3    2    11      15       9   \n 328741          35  2007      3    2    11      15      15   \n 291247          40  2007      3    2    11      15       7   \n 326296          46  2007      3    2    11      15       4   \n 263043          49  2007      3    2    11      15      27   \n 272927          51  2007      3    2    11      15       7   \n 229252          57  2007      3    2    11      15      23   \n 192449          59  2007      3    2    11      15      22   \n 290886          60  2007      3    2    11      15      20   \n 78131           61  2007      3    2    11      15      12   \n 178200          62  2007      3    2    11      15       0   \n 175472          65  2007      3    2    11      15      19   \n 306383          69  2007      3    2    11      15      26   \n 286590          70  2007      3    2    11      15       0   \n 177860          71  2007      3    2    11      15      13   \n 279985          72  2007      3    2    11      15       1   \n 182148          75  2007      3    2    11      15      11   \n 245487          76  2007      3    2    11      15       1   \n 246703          79  2007      3    2    11      15      15   \n 245143          80  2007      3    2    11      15       7   \n 273469          81  2007      3    2    11      15      16   \n 264049          84  2007      3    2    11      15       1   \n 272750          87  2007      3    2    11      15       1   \n 275297          88  2007      3    2    11      15      16   \n 271882          89  2007      3    2    11      15      22   \n 298833          93  2007      3    2    11      15       8   \n 284228          96  2007      3    2    11      15      26   \n 272895          97  2007      3    2    11      15       9   \n 256683          98  2007      3    2    11      15       3   \n 292208         100  2007      3    2    11      15      14   \n 262756         103  2007      3    2    11      15       7   \n 268223         104  2007      3    2    11      15      12   \n 147581         109  2007      3    2    11      15      20   \n 192835         111  2007      3    2    11      15       4   \n 731716         121  2007      3    2    11      15       7   \n \n         Time since the epoch [s]  Sequence Number  Ambient Temperature  \\\n 323936                1172830511            39581                10.20   \n 287402                1172830528            36615                10.20   \n 329178                1172830510            37380                 9.76   \n 326467                1172830512            13523                10.76   \n 296283                1172830513            49143                 9.78   \n 330214                1172830512            17037                10.93   \n 344727                1172830527            63754                11.32   \n 298219                1172830515             5453                11.15   \n 308273                1172830510            36387                10.04   \n 328832                1172830509            53031                 9.60   \n 328741                1172830515            13480                10.50   \n 291247                1172830507            19577                10.10   \n 326296                1172830504            46162                11.43   \n 263043                1172830527            19360                10.70   \n 272927                1172830507            37223                10.40   \n 229252                1172830523            22339                10.80   \n 192449                1172830522               88                 9.54   \n 290886                1172830520             2210                11.22   \n 78131                 1172830512            22472                10.83   \n 178200                1172830500            23186                10.10   \n 175472                1172830519            11602                 9.97   \n 306383                1172830526             5987                 9.80   \n 286590                1172830500            19363                11.60   \n 177860                1172830513            31886                10.74   \n 279985                1172830501             4533                11.08   \n 182148                1172830511            23195                10.28   \n 245487                1172830501            58633                10.70   \n 246703                1172830515            33618                11.68   \n 245143                1172830507            18694                10.62   \n 273469                1172830516            11269                10.98   \n 264049                1172830501            36604                10.80   \n 272750                1172830501            39268                 9.91   \n 275297                1172830516             1909                 9.92   \n 271882                1172830522            39279                10.68   \n 298833                1172830508            33679                10.74   \n 284228                1172830526            22561                10.12   \n 272895                1172830509            31877                11.34   \n 256683                1172830503             1903                10.42   \n 292208                1172830514            36640                10.16   \n 262756                1172830507            13445                10.89   \n 268223                1172830512            39297                10.47   \n 147581                1172830520            19324                 9.55   \n 192835                1172830504            19339                10.30   \n 731716                1172830507            60663                15.74   \n \n         Surface Temperature  Relative Humidity [%]  \n 323936                9.600                 64.460  \n 287402               13.037                 64.989  \n 329178                8.162                 68.092  \n 326467               15.037                 62.843  \n 296283               10.162                 65.883  \n 330214               14.225                 65.810  \n 344727               16.100                 64.430  \n 298219               14.475                 63.615  \n 308273                8.912                 69.519  \n 328832                8.037                 65.437  \n 328741               25.475                 65.596  \n 291247                9.662                 65.719  \n 326296               11.350                 69.213  \n 263043               13.037                 65.908  \n 272927               10.975                 64.076  \n 229252               16.413                 67.739  \n 192449               13.850                 69.879  \n 290886               13.350                 66.635  \n 78131                14.850                 67.225  \n 178200               14.037                 67.829  \n 175472               13.225                 68.185  \n 306383                9.225                 71.098  \n 286590               15.537                 62.956  \n 177860               13.537                 67.181  \n 279985               15.787                 62.897  \n 182148               14.037                 68.215  \n 245487               11.787                 69.643  \n 246703               15.287                 68.908  \n 245143               15.912                 69.655  \n 273469               14.662                 69.911  \n 264049               15.100                 68.988  \n 272750               15.225                 70.616  \n 275297               14.600                 70.671  \n 271882               16.100                 69.747  \n 298833               14.662                 66.274  \n 284228               13.350                 70.256  \n 272895               14.225                 69.683  \n 256683               13.787                 68.593  \n 292208               11.287                 71.618  \n 262756               16.788                 69.517  \n 268223               14.162                 71.281  \n 147581               13.537                 71.525  \n 192835               12.537                 69.568  \n 731716               27.225                 53.030  ,\n ...]"
     },
     "metadata": {},
     "execution_count": 14
    }
   ],
   "source": []
  }
 ],
 "metadata": {
  "language_info": {
   "codemirror_mode": {
    "name": "ipython",
    "version": 3
   },
   "file_extension": ".py",
   "mimetype": "text/x-python",
   "name": "python",
   "nbconvert_exporter": "python",
   "pygments_lexer": "ipython3",
   "version": "3.7.6-final"
  },
  "orig_nbformat": 2,
  "kernelspec": {
   "name": "python37664bitccstaconda3a2139a6822448159c7afc22ea6ab768",
   "display_name": "Python 3.7.6 64-bit ('ccs_ta': conda)"
  }
 },
 "nbformat": 4,
 "nbformat_minor": 2
}