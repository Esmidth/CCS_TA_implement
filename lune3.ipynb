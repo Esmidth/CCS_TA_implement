{
 "nbformat": 4,
 "nbformat_minor": 2,
 "metadata": {
  "language_info": {
   "name": "python",
   "codemirror_mode": {
    "name": "ipython",
    "version": 3
   },
   "version": "3.8.1-final"
  },
  "orig_nbformat": 2,
  "file_extension": ".py",
  "mimetype": "text/x-python",
  "name": "python",
  "npconvert_exporter": "python",
  "pygments_lexer": "ipython3",
  "version": 3,
  "kernelspec": {
   "name": "python38164bitksvdconda6705ad8a9fcd4e0bb5affd2c5dde61db",
   "display_name": "Python 3.8.1 64-bit ('ksvd': conda)"
  }
 },
 "cells": [
  {
   "cell_type": "code",
   "execution_count": 1,
   "metadata": {},
   "outputs": [],
   "source": [
    "%matplotlib inline\n",
    "import numpy as np\n",
    "import pandas as pd\n",
    "import os,sys\n",
    "import utils\n",
    "import matplotlib.pyplot as plt"
   ]
  },
  {
   "cell_type": "code",
   "execution_count": 2,
   "metadata": {},
   "outputs": [],
   "source": [
    "df = pd.read_hdf('data.h5','df_sub')"
   ]
  },
  {
   "cell_type": "code",
   "execution_count": 3,
   "metadata": {},
   "outputs": [
    {
     "data": {
      "text/plain": "count    2.179764e+07\nmean     2.006755e+03\nstd      4.302078e-01\nmin      2.006000e+03\n25%      2.007000e+03\n50%      2.007000e+03\n75%      2.007000e+03\nmax      2.007000e+03\nName: Year, dtype: float64"
     },
     "execution_count": 3,
     "metadata": {},
     "output_type": "execute_result"
    }
   ],
   "source": [
    "df.Year.describe()"
   ]
  },
  {
   "cell_type": "code",
   "execution_count": 4,
   "metadata": {},
   "outputs": [
    {
     "data": {
      "text/plain": "Index(['Station ID', 'Year', 'Month', 'Day', 'Hour', 'Minute', 'Second',\n       'Time since the epoch [s]', 'Sequence Number', 'Ambient Temperature',\n       'Surface Temperature', 'Relative Humidity [%]'],\n      dtype='object')"
     },
     "execution_count": 4,
     "metadata": {},
     "output_type": "execute_result"
    }
   ],
   "source": [
    "df.columns"
   ]
  },
  {
   "cell_type": "code",
   "execution_count": 5,
   "metadata": {},
   "outputs": [
    {
     "name": "stdout",
     "output_type": "stream",
     "text": "na_percent:\t valid_nums \t column_name\n0.000%: \t 21797635 \t Station ID\n0.000%: \t 21797635 \t Year\n0.000%: \t 21797635 \t Month\n0.000%: \t 21797635 \t Day\n0.000%: \t 21797635 \t Hour\n0.000%: \t 21797635 \t Minute\n0.000%: \t 21797635 \t Second\n0.000%: \t 21797635 \t Time since the epoch [s]\n0.000%: \t 21797635 \t Sequence Number\n4.087%: \t 20906717 \t Ambient Temperature\n1.802%: \t 21404777 \t Surface Temperature\n4.015%: \t 20922440 \t Relative Humidity [%]\n"
    }
   ],
   "source": [
    "# 统计 每一列 Nan的个数,百分比\n",
    "print(\"na_percent:\\t valid_nums \\t column_name\")\n",
    "dfs = df\n",
    "for column in dfs.columns:\n",
    "    # print(column,dfs[column].isna().sum())\n",
    "    na_num = dfs[column].isna().sum()\n",
    "    total_num = dfs[column].shape[0]\n",
    "    print(\"{1:.3f}%: \\t {2} \\t {0}\".format(column,na_num*100/total_num,total_num-na_num))"
   ]
  },
  {
   "cell_type": "code",
   "execution_count": 6,
   "metadata": {},
   "outputs": [],
   "source": [
    "df = df.drop(['Ambient Temperature','Relative Humidity [%]','Ambient Temperature'],axis=1)"
   ]
  },
  {
   "cell_type": "code",
   "execution_count": 7,
   "metadata": {},
   "outputs": [
    {
     "name": "stdout",
     "output_type": "stream",
     "text": "<class 'pandas.core.frame.DataFrame'>\nInt64Index: 21797635 entries, 0 to 1268693\nData columns (total 10 columns):\n #   Column                    Dtype  \n---  ------                    -----  \n 0   Station ID                int64  \n 1   Year                      int64  \n 2   Month                     int64  \n 3   Day                       int64  \n 4   Hour                      int64  \n 5   Minute                    int64  \n 6   Second                    int64  \n 7   Time since the epoch [s]  int64  \n 8   Sequence Number           int64  \n 9   Surface Temperature       float64\ndtypes: float64(1), int64(9)\nmemory usage: 1.8 GB\n"
    }
   ],
   "source": [
    "df.info(memory_usage='deep')"
   ]
  },
  {
   "cell_type": "code",
   "execution_count": null,
   "metadata": {},
   "outputs": [
    {
     "ename": "Error",
     "evalue": "Jupyter cannot be started. Error attempting to locate jupyter: Data Science library notebook is not installed in interpreter Python 3.8.1 64-bit ('ksvd': conda).",
     "output_type": "error",
     "traceback": [
      "Error: Jupyter cannot be started. Error attempting to locate jupyter: Data Science library notebook is not installed in interpreter Python 3.8.1 64-bit ('ksvd': conda).",
      "at A.startServer (/Users/anruolin/.vscode/extensions/ms-python.python-2020.2.64397/out/client/extension.js:1:786120)",
      "at async A.ensureServerAndNotebookImpl (/Users/anruolin/.vscode/extensions/ms-python.python-2020.2.64397/out/client/extension.js:1:785575)"
     ]
    }
   ],
   "source": [
    "# 4-1 -> 4-8\n",
    "sub_df = df[(df['Time since the epoch [s]'] > 1175356800)  & (df['Time since the epoch [s]'] < 1175961600)]\n",
    "print(\"total \\t na_num \\t name\")\n",
    "for column in sub_df.columns:\n",
    "    total = sub_df[column].shape[0]\n",
    "    na_num = sub_df[column].isna().sum()\n",
    "    print(\"{0} \\t {1} \\t {2}\".format(total,na_num,column))"
   ]
  },
  {
   "cell_type": "code",
   "execution_count": 10,
   "metadata": {},
   "outputs": [
    {
     "name": "stdout",
     "output_type": "stream",
     "text": "total \t na_num \t name\n982779 \t 0 \t Station ID\n982779 \t 0 \t Year\n982779 \t 0 \t Month\n982779 \t 0 \t Day\n982779 \t 0 \t Hour\n982779 \t 0 \t Minute\n982779 \t 0 \t Second\n982779 \t 0 \t Time since the epoch [s]\n982779 \t 0 \t Sequence Number\n982779 \t 15146 \t Surface Temperature\n"
    }
   ],
   "source": [
    "# 3-1 -> 3-8\n",
    "sub_df = df[(df['Time since the epoch [s]'] > 1172678400)  & (df['Time since the epoch [s]'] < 1173283200)]\n",
    "print(\"total \\t na_num \\t name\")\n",
    "for column in sub_df.columns:\n",
    "    total = sub_df[column].shape[0]\n",
    "    na_num = sub_df[column].isna().sum()\n",
    "    print(\"{0} \\t {1} \\t {2}\".format(total,na_num,column))"
   ]
  },
  {
   "cell_type": "code",
   "execution_count": 11,
   "metadata": {},
   "outputs": [
    {
     "name": "stdout",
     "output_type": "stream",
     "text": "<class 'pandas.core.frame.DataFrame'>\nInt64Index: 982779 entries, 318785 to 777358\nData columns (total 10 columns):\n #   Column                    Non-Null Count   Dtype  \n---  ------                    --------------   -----  \n 0   Station ID                982779 non-null  int64  \n 1   Year                      982779 non-null  int64  \n 2   Month                     982779 non-null  int64  \n 3   Day                       982779 non-null  int64  \n 4   Hour                      982779 non-null  int64  \n 5   Minute                    982779 non-null  int64  \n 6   Second                    982779 non-null  int64  \n 7   Time since the epoch [s]  982779 non-null  int64  \n 8   Sequence Number           982779 non-null  int64  \n 9   Surface Temperature       967633 non-null  float64\ndtypes: float64(1), int64(9)\nmemory usage: 102.5 MB\n"
    }
   ],
   "source": [
    "sub_df.info(memory_usage='deep')"
   ]
  },
  {
   "cell_type": "code",
   "execution_count": 13,
   "metadata": {},
   "outputs": [],
   "source": [
    "sub_df.to_hdf('data.h5',key='march_df',mode='a')"
   ]
  },
  {
   "cell_type": "code",
   "execution_count": 14,
   "metadata": {},
   "outputs": [
    {
     "name": "stdout",
     "output_type": "stream",
     "text": "total \t na_num \t name\n920893 \t 0 \t Station ID\n920893 \t 0 \t Year\n920893 \t 0 \t Month\n920893 \t 0 \t Day\n920893 \t 0 \t Hour\n920893 \t 0 \t Minute\n920893 \t 0 \t Second\n920893 \t 0 \t Time since the epoch [s]\n920893 \t 0 \t Sequence Number\n920893 \t 21371 \t Surface Temperature\n"
    }
   ],
   "source": [
    "# 2-1 -> 2-8\n",
    "sub_df = df[(df['Time since the epoch [s]'] > 1170259200)  & (df['Time since the epoch [s]'] < 1170864000)]\n",
    "print(\"total \\t na_num \\t name\")\n",
    "for column in sub_df.columns:\n",
    "    total = sub_df[column].shape[0]\n",
    "    na_num = sub_df[column].isna().sum()\n",
    "    print(\"{0} \\t {1} \\t {2}\".format(total,na_num,column))"
   ]
  }
 ]
}