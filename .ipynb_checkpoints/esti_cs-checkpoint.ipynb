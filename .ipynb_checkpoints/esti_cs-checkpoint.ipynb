{
 "cells": [
  {
   "cell_type": "code",
   "execution_count": 1,
   "metadata": {},
   "outputs": [],
   "source": [
    "# 1\n",
    "%matplotlib inline\n",
    "import numpy as np\n",
    "import pandas as pd\n",
    "import matplotlib.pyplot as plt"
   ]
  },
  {
   "cell_type": "code",
   "execution_count": 2,
   "metadata": {},
   "outputs": [],
   "source": [
    "import time"
   ]
  },
  {
   "cell_type": "code",
   "execution_count": 11,
   "metadata": {},
   "outputs": [],
   "source": [
    "# 2\n",
    "B = np.array([[0,1,1,0,1],[1,0,0,1,0],[0,1,1,0,0]])\n",
    "S = np.array([[1,2,3,4,5],[2,3,4,5,6],[3,4,5,6,7]])\n",
    "n = 3\n",
    "t = 5\n",
    "r = 2\n",
    "lamb = 0.5\n",
    "MaxIter = 5\n",
    "# L = np.random.randn(n,r)"
   ]
  },
  {
   "cell_type": "code",
   "execution_count": 8,
   "metadata": {},
   "outputs": [],
   "source": [
    "# 将所有的array变为Matrix\n",
    "\n",
    "# 3 current\n",
    "def myInverse(B,L,lamb,r,S):\n",
    "    matrixS = np.matrix(S)\n",
    "    matrixL = np.matrix(L)\n",
    "    # B = np.matrix(B)\n",
    "    n = matrixS.shape[0]\n",
    "    t = matrixS.shape[1]\n",
    "    # print('n',n)\n",
    "    # print('t',t)\n",
    "    arrayB = np.array(B)\n",
    "    Y = np.zeros((t,r))\n",
    "    Y = np.asmatrix(Y)\n",
    "    # print(Y)\n",
    "    for i in range(t):\n",
    "        # print(np.array(B[:,i]))\n",
    "        # print(B[:,i].T)\n",
    "        DiagBi = np.diag(arrayB[:,i])\n",
    "        # print(DiagBi)\n",
    "        DiagBi = np.asmatrix(DiagBi)\n",
    "        # print(i,DiagBi.shape)\n",
    "        # print(i,matrixL.shape)\n",
    "        Up = matrixL.T * (DiagBi) * (DiagBi) * matrixL + lamb*lamb*np.eye(r)\n",
    "        Down = (DiagBi * L).T * matrixS[:,i] \n",
    "        # Up = np.matrix(Up)\n",
    "        Yi = Up.I.dot(Down)\n",
    "        # print(Yi)\n",
    "        # print(Yi)\n",
    "        # Y[:,i] = Yi\n",
    "        # print(Yi)\n",
    "        Y[i] = Yi.T\n",
    "        # print(i)\n",
    "        # print(S)\n",
    "        # print(matrixS[:,i])\n",
    "        # print(i,\"UP\\n\",Up)\n",
    "        # print(i,\"Down\\n\",Down)\n",
    "        # print(Yi)\n",
    "    return Y"
   ]
  },
  {
   "cell_type": "code",
   "execution_count": 5,
   "metadata": {},
   "outputs": [],
   "source": [
    "# array version\n",
    "def myInverse(B,L,lamb,r,S):\n",
    "    Y = np.zeros_like(B)\n",
    "    Y = np.asmatrix(Y)\n",
    "    for i in range(B.shape[1]):\n",
    "        DiagBi = np.diag(B[:,i])\n",
    "        # print(i,DiagBi)\n",
    "        matrixS = np.matrix(S)\n",
    "        Up = L.T.dot(DiagBi.dot(DiagBi).dot(L)) + lamb*lamb*np.eye(r)\n",
    "        print(type(Up))\n",
    "        Down = (DiagBi.dot(L)).T.dot(matrixS[:,i])\n",
    "        Up = np.matrix(Up)\n",
    "        Yi = Up.I.dot(Down)\n",
    "        Y[:,i] = Yi\n",
    "        # print(S)\n",
    "        # print(matrixS[:,i])\n",
    "        # print(i,\"UP\\n\",Up)\n",
    "        # print(i,\"Down\\n\",Down)\n",
    "        # print(Yi)\n",
    "    return np.asarray(Y)"
   ]
  },
  {
   "cell_type": "code",
   "execution_count": 6,
   "metadata": {},
   "outputs": [],
   "source": [
    "# 将所有的array变为Matrix\n",
    "\n",
    "# 3.1\n",
    "def myInverse(B,L,lamb,r,S):\n",
    "    matrixS = np.matrix(S)\n",
    "    matrixL = np.matrix(L)\n",
    "    # B = np.matrix(B)\n",
    "    n = matrixS.shape[0]\n",
    "    t = matrixS.shape[1]\n",
    "    print('n',n)\n",
    "    print('t',t)\n",
    "    arrayB = np.array(B)\n",
    "    Y = np.zeros((r,t))\n",
    "    Y = np.asmatrix(Y)\n",
    "    # print(Y)\n",
    "    for i in range(t):\n",
    "        # print(np.array(B[:,i]))\n",
    "        # print(B[:,i].T)\n",
    "        DiagBi = np.diag(arrayB[:,i])\n",
    "        # print(DiagBi)\n",
    "        DiagBi = np.asmatrix(DiagBi)\n",
    "        # print(i,DiagBi.shape)\n",
    "        # print(i,matrixL.shape)\n",
    "        Up = matrixL.T * (DiagBi) * (DiagBi) * matrixL + lamb*lamb*np.eye(r)\n",
    "        Down = (DiagBi * L).T * matrixS[:,i] \n",
    "        # Up = np.matrix(Up)\n",
    "        Yi = Up.I.dot(Down)\n",
    "        # print(Yi)\n",
    "        # print(Yi)\n",
    "        Y[:,i] = Yi\n",
    "        # print(Yi)\n",
    "        # Y[i] = Yi.T\n",
    "        # print(i)\n",
    "        # print(S)\n",
    "        # print(matrixS[:,i])\n",
    "        # print(i,\"UP\\n\",Up)\n",
    "        # print(i,\"Down\\n\",Down)\n",
    "        # print(Yi)\n",
    "    return np.asarray(Y)"
   ]
  },
  {
   "cell_type": "code",
   "execution_count": 12,
   "metadata": {},
   "outputs": [],
   "source": [
    "L = np.random.randn(n,r)"
   ]
  },
  {
   "cell_type": "code",
   "execution_count": 13,
   "metadata": {},
   "outputs": [
    {
     "data": {
      "text/plain": [
       "array([[ 0.28090805, -0.40386182],\n",
       "       [-0.78641838, -1.63223212],\n",
       "       [-1.37651768,  1.87197631]])"
      ]
     },
     "execution_count": 13,
     "metadata": {},
     "output_type": "execute_result"
    }
   ],
   "source": [
    "L"
   ]
  },
  {
   "cell_type": "code",
   "execution_count": 14,
   "metadata": {},
   "outputs": [
    {
     "name": "stdout",
     "output_type": "stream",
     "text": [
      "[[-0.4452304  -0.92408746]\n",
      " [-0.94811472  1.05414564]\n",
      " [-1.1804147   1.26938228]\n",
      " [-1.113076   -2.31021866]\n",
      " [ 2.85467712 -4.10417248]]\n"
     ]
    }
   ],
   "source": [
    "# L = np.random.randn(n,r)\n",
    "R = myInverse(B,L,lamb,r,S)\n",
    "print(R)"
   ]
  },
  {
   "cell_type": "code",
   "execution_count": 15,
   "metadata": {},
   "outputs": [
    {
     "ename": "ValueError",
     "evalue": "shapes (5,2) and (5,5) not aligned: 2 (dim 1) != 5 (dim 0)",
     "output_type": "error",
     "traceback": [
      "\u001b[0;31m---------------------------------------------------------------------------\u001b[0m",
      "\u001b[0;31mValueError\u001b[0m                                Traceback (most recent call last)",
      "\u001b[0;32m<ipython-input-15-c42bab64fb03>\u001b[0m in \u001b[0;36m<module>\u001b[0;34m\u001b[0m\n\u001b[0;32m----> 1\u001b[0;31m \u001b[0mMatrixL\u001b[0m \u001b[0;34m=\u001b[0m \u001b[0mmyInverse\u001b[0m\u001b[0;34m(\u001b[0m\u001b[0mB\u001b[0m\u001b[0;34m.\u001b[0m\u001b[0mT\u001b[0m\u001b[0;34m,\u001b[0m\u001b[0mR\u001b[0m\u001b[0;34m.\u001b[0m\u001b[0mT\u001b[0m\u001b[0;34m,\u001b[0m\u001b[0mlamb\u001b[0m\u001b[0;34m,\u001b[0m\u001b[0mr\u001b[0m\u001b[0;34m,\u001b[0m\u001b[0mS\u001b[0m\u001b[0;34m.\u001b[0m\u001b[0mT\u001b[0m\u001b[0;34m)\u001b[0m\u001b[0;34m\u001b[0m\u001b[0;34m\u001b[0m\u001b[0m\n\u001b[0m\u001b[1;32m      2\u001b[0m \u001b[0mprint\u001b[0m\u001b[0;34m(\u001b[0m\u001b[0mMatrixL\u001b[0m\u001b[0;34m)\u001b[0m\u001b[0;34m\u001b[0m\u001b[0;34m\u001b[0m\u001b[0m\n",
      "\u001b[0;32m<ipython-input-8-567ea5e5b175>\u001b[0m in \u001b[0;36mmyInverse\u001b[0;34m(B, L, lamb, r, S)\u001b[0m\n\u001b[1;32m     22\u001b[0m         \u001b[0;31m# print(i,DiagBi.shape)\u001b[0m\u001b[0;34m\u001b[0m\u001b[0;34m\u001b[0m\u001b[0;34m\u001b[0m\u001b[0m\n\u001b[1;32m     23\u001b[0m         \u001b[0;31m# print(i,matrixL.shape)\u001b[0m\u001b[0;34m\u001b[0m\u001b[0;34m\u001b[0m\u001b[0;34m\u001b[0m\u001b[0m\n\u001b[0;32m---> 24\u001b[0;31m         \u001b[0mUp\u001b[0m \u001b[0;34m=\u001b[0m \u001b[0mmatrixL\u001b[0m\u001b[0;34m.\u001b[0m\u001b[0mT\u001b[0m \u001b[0;34m*\u001b[0m \u001b[0;34m(\u001b[0m\u001b[0mDiagBi\u001b[0m\u001b[0;34m)\u001b[0m \u001b[0;34m*\u001b[0m \u001b[0;34m(\u001b[0m\u001b[0mDiagBi\u001b[0m\u001b[0;34m)\u001b[0m \u001b[0;34m*\u001b[0m \u001b[0mmatrixL\u001b[0m \u001b[0;34m+\u001b[0m \u001b[0mlamb\u001b[0m\u001b[0;34m*\u001b[0m\u001b[0mlamb\u001b[0m\u001b[0;34m*\u001b[0m\u001b[0mnp\u001b[0m\u001b[0;34m.\u001b[0m\u001b[0meye\u001b[0m\u001b[0;34m(\u001b[0m\u001b[0mr\u001b[0m\u001b[0;34m)\u001b[0m\u001b[0;34m\u001b[0m\u001b[0;34m\u001b[0m\u001b[0m\n\u001b[0m\u001b[1;32m     25\u001b[0m         \u001b[0mDown\u001b[0m \u001b[0;34m=\u001b[0m \u001b[0;34m(\u001b[0m\u001b[0mDiagBi\u001b[0m \u001b[0;34m*\u001b[0m \u001b[0mL\u001b[0m\u001b[0;34m)\u001b[0m\u001b[0;34m.\u001b[0m\u001b[0mT\u001b[0m \u001b[0;34m*\u001b[0m \u001b[0mmatrixS\u001b[0m\u001b[0;34m[\u001b[0m\u001b[0;34m:\u001b[0m\u001b[0;34m,\u001b[0m\u001b[0mi\u001b[0m\u001b[0;34m]\u001b[0m\u001b[0;34m\u001b[0m\u001b[0;34m\u001b[0m\u001b[0m\n\u001b[1;32m     26\u001b[0m         \u001b[0;31m# Up = np.matrix(Up)\u001b[0m\u001b[0;34m\u001b[0m\u001b[0;34m\u001b[0m\u001b[0;34m\u001b[0m\u001b[0m\n",
      "\u001b[0;32m~/.pyenv/versions/anaconda3-2020.02/envs/ccs_ta/lib/python3.7/site-packages/numpy/matrixlib/defmatrix.py\u001b[0m in \u001b[0;36m__mul__\u001b[0;34m(self, other)\u001b[0m\n\u001b[1;32m    218\u001b[0m         \u001b[0;32mif\u001b[0m \u001b[0misinstance\u001b[0m\u001b[0;34m(\u001b[0m\u001b[0mother\u001b[0m\u001b[0;34m,\u001b[0m \u001b[0;34m(\u001b[0m\u001b[0mN\u001b[0m\u001b[0;34m.\u001b[0m\u001b[0mndarray\u001b[0m\u001b[0;34m,\u001b[0m \u001b[0mlist\u001b[0m\u001b[0;34m,\u001b[0m \u001b[0mtuple\u001b[0m\u001b[0;34m)\u001b[0m\u001b[0;34m)\u001b[0m \u001b[0;34m:\u001b[0m\u001b[0;34m\u001b[0m\u001b[0;34m\u001b[0m\u001b[0m\n\u001b[1;32m    219\u001b[0m             \u001b[0;31m# This promotes 1-D vectors to row vectors\u001b[0m\u001b[0;34m\u001b[0m\u001b[0;34m\u001b[0m\u001b[0;34m\u001b[0m\u001b[0m\n\u001b[0;32m--> 220\u001b[0;31m             \u001b[0;32mreturn\u001b[0m \u001b[0mN\u001b[0m\u001b[0;34m.\u001b[0m\u001b[0mdot\u001b[0m\u001b[0;34m(\u001b[0m\u001b[0mself\u001b[0m\u001b[0;34m,\u001b[0m \u001b[0masmatrix\u001b[0m\u001b[0;34m(\u001b[0m\u001b[0mother\u001b[0m\u001b[0;34m)\u001b[0m\u001b[0;34m)\u001b[0m\u001b[0;34m\u001b[0m\u001b[0;34m\u001b[0m\u001b[0m\n\u001b[0m\u001b[1;32m    221\u001b[0m         \u001b[0;32mif\u001b[0m \u001b[0misscalar\u001b[0m\u001b[0;34m(\u001b[0m\u001b[0mother\u001b[0m\u001b[0;34m)\u001b[0m \u001b[0;32mor\u001b[0m \u001b[0;32mnot\u001b[0m \u001b[0mhasattr\u001b[0m\u001b[0;34m(\u001b[0m\u001b[0mother\u001b[0m\u001b[0;34m,\u001b[0m \u001b[0;34m'__rmul__'\u001b[0m\u001b[0;34m)\u001b[0m \u001b[0;34m:\u001b[0m\u001b[0;34m\u001b[0m\u001b[0;34m\u001b[0m\u001b[0m\n\u001b[1;32m    222\u001b[0m             \u001b[0;32mreturn\u001b[0m \u001b[0mN\u001b[0m\u001b[0;34m.\u001b[0m\u001b[0mdot\u001b[0m\u001b[0;34m(\u001b[0m\u001b[0mself\u001b[0m\u001b[0;34m,\u001b[0m \u001b[0mother\u001b[0m\u001b[0;34m)\u001b[0m\u001b[0;34m\u001b[0m\u001b[0;34m\u001b[0m\u001b[0m\n",
      "\u001b[0;32m<__array_function__ internals>\u001b[0m in \u001b[0;36mdot\u001b[0;34m(*args, **kwargs)\u001b[0m\n",
      "\u001b[0;31mValueError\u001b[0m: shapes (5,2) and (5,5) not aligned: 2 (dim 1) != 5 (dim 0)"
     ]
    }
   ],
   "source": [
    "MatrixL = myInverse(B.T,R.T,lamb,r,S.T)\n",
    "print(MatrixL)"
   ]
  },
  {
   "cell_type": "code",
   "execution_count": 16,
   "metadata": {},
   "outputs": [],
   "source": [
    "#  4\n",
    "def ESTI_CS(MatrixS:np.matrix,MatrixB:np.matrix,r:int,lamb:float,MaxIter:int) -> np.matrix:\n",
    "    '''\n",
    "    para:\n",
    "\n",
    "    MatrixS n*t: Sensory Matrix\n",
    "    MatrixB n*t: Binary index matrix\n",
    "    r: rank bound\n",
    "    lamb: tradeoff coefficient\n",
    "    MaxIter: iteration times: int\n",
    "\n",
    "    return: \n",
    "    MatrixX: estimated environment matrix: np.matrix\n",
    "    '''\n",
    "    n = MatrixS.shape[0]\n",
    "    t = MatrixS.shape[1]\n",
    "    MatrixL = np.random.randn(n,r)\n",
    "    MatrixH = np.random.randn(n,n)\n",
    "    # MatrixT = np.random.randn(t,t)\n",
    "\n",
    "    MatrixT1 = np.eye(t)\n",
    "    MatrixT2 = -(np.eye(t-1))\n",
    "    MatrixT2 = np.pad(MatrixT2,((0,1),(1,0)),mode='constant',constant_values=(0)) \n",
    "    MatrixT = MatrixT1+MatrixT2\n",
    "    # print(MatrixT)\n",
    "\n",
    "\n",
    "    optimal_L = MatrixL\n",
    "    optimal_R = 0\n",
    "    optimal_v = 10000000\n",
    "    # print(MatrixL)\n",
    "    for i in range(MaxIter):\n",
    "        MatrixR = myInverse(MatrixB,MatrixL,lamb,r,MatrixS)\n",
    "        MatrixL = myInverse(MatrixB.T,MatrixR,lamb,r,MatrixS.T)\n",
    "        # print(i)\n",
    "        # print(MatrixR)\n",
    "        # print(MatrixL.shape)\n",
    "        # print(MatrixR.shape)\n",
    "        # Matrix_t1 = MatrixB * ,MatrixL * MatrixR.T\n",
    "        # print(MatrixB.shape)\n",
    "        # print(MatrixL*(MatrixR.T))\n",
    "        Matrix_t1 = np.multiply(MatrixB,MatrixL*MatrixR.T)-S\n",
    "        Matrix_t2 = MatrixH * MatrixL * MatrixR.T\n",
    "        # Matrix_t2 = np.multiply(MatrixH,MatrixL)\n",
    "        Matrix_t3 = MatrixL * MatrixR.T * MatrixT.T\n",
    "\n",
    "\n",
    "        norm_t1 = np.square(np.linalg.norm(Matrix_t1,'f'))\n",
    "        # print('round',round(norm_t1))\n",
    "        # print('round2',round(norm_t12))\n",
    "        norm_t2 = np.square(np.linalg.norm(Matrix_t2,'f'))\n",
    "        norm_t3 = np.square(np.linalg.norm(Matrix_t3,'f'))\n",
    "        norm_l = np.square(np.linalg.norm(MatrixL,'f'))\n",
    "        norm_r = np.square(np.linalg.norm(MatrixR.T,'f'))\n",
    "\n",
    "        sum_v = norm_t1+lamb*(norm_l+norm_r)+norm_t2+norm_t3\n",
    "\n",
    "        if sum_v < optimal_v:\n",
    "            optimal_L = MatrixL\n",
    "            optimal_R = MatrixR\n",
    "            optimal_v = sum_v\n",
    "\n",
    "    return optimal_L*optimal_R.T\n"
   ]
  },
  {
   "cell_type": "code",
   "execution_count": 18,
   "metadata": {},
   "outputs": [
    {
     "name": "stdout",
     "output_type": "stream",
     "text": [
      "30.577126904537884\n",
      "[[-1.17871203  2.01301804  2.98915619 -2.94678007  4.76237847]\n",
      " [ 1.93617987  2.84362409  3.209304    4.84044967 -2.28585329]\n",
      " [ 0.86680549  3.92668139  4.93999421  2.16701372  1.36564943]]\n"
     ]
    }
   ],
   "source": [
    "# 5\n",
    "Matrix_X = ESTI_CS(S*B,B,r,lamb,5)\n",
    "print(abs((Matrix_X-S)).sum())\n",
    "print(Matrix_X)"
   ]
  },
  {
   "cell_type": "code",
   "execution_count": null,
   "metadata": {},
   "outputs": [],
   "source": []
  },
  {
   "cell_type": "code",
   "execution_count": null,
   "metadata": {},
   "outputs": [],
   "source": [
    "S"
   ]
  },
  {
   "cell_type": "code",
   "execution_count": null,
   "metadata": {},
   "outputs": [],
   "source": [
    "B"
   ]
  },
  {
   "cell_type": "code",
   "execution_count": null,
   "metadata": {},
   "outputs": [],
   "source": [
    "S*B"
   ]
  },
  {
   "cell_type": "code",
   "execution_count": null,
   "metadata": {},
   "outputs": [],
   "source": [
    "Matrix_X"
   ]
  },
  {
   "cell_type": "code",
   "execution_count": null,
   "metadata": {},
   "outputs": [],
   "source": [
    "# 6\n",
    "abs((Matrix_X-S)).sum()"
   ]
  },
  {
   "cell_type": "code",
   "execution_count": null,
   "metadata": {},
   "outputs": [],
   "source": [
    "t = 7\n",
    "MatrixT1 = np.eye(t)\n",
    "MatrixT2 = -(np.eye(t-1))\n",
    "pp = np.pad(MatrixT2,((0,1),(1,0)),mode='constant',constant_values=(0))\n",
    "print(MatrixT1)\n",
    "print(MatrixT2)\n",
    "print(pp+MatrixT1)"
   ]
  },
  {
   "cell_type": "markdown",
   "metadata": {},
   "source": [
    "# 计算矩阵F范数平方的方法速度对比"
   ]
  },
  {
   "cell_type": "code",
   "execution_count": null,
   "metadata": {},
   "outputs": [],
   "source": [
    "# A = np.array([[-4,-3,-2,-1],[-1,0,1,0],[2,3,4,1]])\n",
    "A = np.random.randn(10,5)\n",
    "A = np.mat(A)"
   ]
  },
  {
   "cell_type": "code",
   "execution_count": null,
   "metadata": {},
   "outputs": [],
   "source": [
    "result = []\n",
    "summ = 0\n",
    "for i in range(100):\n",
    "    A = np.random.randn(i,i)\n",
    "    A = np.mat(A)\n",
    "    t1 = time.time()\n",
    "    f1 = np.square(np.linalg.norm(A,'f'))\n",
    "    t2 = time.time()\n",
    "    f2 = np.trace(A.H*A)\n",
    "    t3 = time.time()\n",
    "    period1 = t2-t1\n",
    "    period2 = t3-t2\n",
    "    result.append((i,period2-period1))\n",
    "    if period2 > period1:\n",
    "        summ += 1"
   ]
  },
  {
   "cell_type": "markdown",
   "metadata": {},
   "source": [
    "### 可以看到 使用np.linalg.norm 再平方，要比用矩阵的迹要快"
   ]
  },
  {
   "cell_type": "code",
   "execution_count": null,
   "metadata": {},
   "outputs": [],
   "source": [
    "summ"
   ]
  }
 ],
 "metadata": {
  "file_extension": ".py",
  "kernelspec": {
   "display_name": "Python 3.7.6 64-bit ('ccs_ta': conda)",
   "language": "python",
   "name": "python37664bitccstaconda3a2139a6822448159c7afc22ea6ab768"
  },
  "language_info": {
   "codemirror_mode": {
    "name": "ipython",
    "version": 3
   },
   "file_extension": ".py",
   "mimetype": "text/x-python",
   "name": "python",
   "nbconvert_exporter": "python",
   "pygments_lexer": "ipython3",
   "version": "3.7.6"
  },
  "mimetype": "text/x-python",
  "name": "python",
  "npconvert_exporter": "python",
  "pygments_lexer": "ipython3",
  "version": 3
 },
 "nbformat": 4,
 "nbformat_minor": 2
}
