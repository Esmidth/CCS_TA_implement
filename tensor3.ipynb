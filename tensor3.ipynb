{
 "cells": [
  {
   "cell_type": "code",
   "execution_count": 67,
   "metadata": {},
   "outputs": [],
   "source": [
    "%matplotlib inline\n",
    "import numpy as np\n",
    "import pandas as pd\n",
    "import os,sys\n",
    "import utils\n",
    "import matplotlib.pyplot as plt\n",
    "from numpy import array\n",
    "from multiprocessing import Pool\n",
    "import multiprocessing as mp\n",
    "from consts import sensor_lat as lat\n",
    "from consts import sensor_log as log\n",
    "from consts import valid_sensor_res_10 as valid_sensor_list\n",
    "from consts import valid_sensor_res_10_old as valid_sensor_list_old\n",
    "from consts import sensor_day_seconds as day_seconds\n",
    "from consts import sensor_week_seconds as week_seconds \n",
    "from consts import sensor_start_time_unix as start_time\n",
    "from consts import sensor_end_time_unix as end_time\n",
    "from consts import sensor_epoch_length as epoch_length\n",
    "from consts import sensor_optimal_time_interval as optimal_time_interval\n",
    "from consts import sensor_loc_pic as loc_pic\n",
    "from consts import sensor_drop_list as drop_list\n",
    "import consts\n",
    "import time\n",
    "import pickle\n",
    "import copy\n",
    "import h5py"
   ]
  },
  {
   "cell_type": "code",
   "execution_count": null,
   "metadata": {},
   "outputs": [],
   "source": [
    "import torch\n",
    "import torch.utils.data as Data"
   ]
  },
  {
   "cell_type": "code",
   "execution_count": null,
   "metadata": {},
   "outputs": [],
   "source": [
    "time_stamp = np.arange(start_time,end_time+optimal_time_interval,optimal_time_interval)\n",
    "unix_column = 'Time since the epoch [s]'\n",
    "idd = 'Station ID'\n",
    "a_temperature = 'Ambient Temperature'\n",
    "s_temperature = 'Surface Temperature'\n",
    "data_index = ['a_temperature_mean','a_temperature_std','a_temperature_array','sub_df_list_optimal_index','time_stamp',]\n",
    "df_dict = {'rb_optimal':5959,'optimal':5959,'df_list':20160}"
   ]
  },
  {
   "cell_type": "code",
   "execution_count": null,
   "metadata": {},
   "outputs": [],
   "source": [
    "with h5py.File('dataset.hdf5','r') as f:\n",
    "     a_temperature_mean = f[data_index[0]][:]\n",
    "     a_temperature_std = f[data_index[1]][:]\n",
    "     a_temperature_array = f[data_index[2]][:]\n",
    "     sub_df_list_optimal_index = f[data_index[3]][:]\n",
    "     time_stamp = f[data_index[4]][:]"
   ]
  },
  {
   "cell_type": "code",
   "execution_count": null,
   "metadata": {},
   "outputs": [],
   "source": [
    "def dataset_write(data_list,key,df_dict=df_dict):\n",
    "    filename = 'ds_'+key+'.h5'\n",
    "    store = pd.HDFStore(filename)\n",
    "    for i,item in enumerate(data_list):\n",
    "        store[key+'_'+str(i)] = item\n",
    "    store.close()\n",
    "    return 1"
   ]
  },
  {
   "cell_type": "code",
   "execution_count": null,
   "metadata": {},
   "outputs": [],
   "source": [
    "def dataset_read(key,df_dict=df_dict):\n",
    "    filename = 'ds_'+key+'.h5'\n",
    "    return_list = []\n",
    "    store = pd.HDFStore(filename)\n",
    "    for i in range(df_dict[key]):\n",
    "        return_list.append(store[key+'_'+str(i)])\n",
    "    store.close()\n",
    "    return return_list"
   ]
  },
  {
   "cell_type": "code",
   "execution_count": null,
   "metadata": {},
   "outputs": [],
   "source": [
    "rb_sub_df_list_optimal = dataset_read('rb_optimal')"
   ]
  },
  {
   "cell_type": "code",
   "execution_count": 68,
   "metadata": {},
   "outputs": [],
   "source": [
    "a_temperature_tensor = torch.tensor(a_temperature_array)"
   ]
  },
  {
   "cell_type": "code",
   "execution_count": 69,
   "metadata": {},
   "outputs": [
    {
     "output_type": "execute_result",
     "data": {
      "text/plain": "torch.Size([5959, 44])"
     },
     "metadata": {},
     "execution_count": 69
    }
   ],
   "source": [
    "a_temperature_tensor.shape"
   ]
  },
  {
   "cell_type": "code",
   "execution_count": null,
   "metadata": {},
   "outputs": [],
   "source": [
    "a_temperature_tensor[0]"
   ]
  },
  {
   "cell_type": "code",
   "execution_count": null,
   "metadata": {},
   "outputs": [],
   "source": [
    "index = torch.tensor(np.linspace(1,5959,5959),dtype=int)"
   ]
  },
  {
   "cell_type": "code",
   "execution_count": 70,
   "metadata": {},
   "outputs": [],
   "source": [
    "torch_dataset = Data.TensorDataset(a_temperature_tensor.float(),index)"
   ]
  },
  {
   "cell_type": "code",
   "execution_count": 90,
   "metadata": {},
   "outputs": [],
   "source": [
    "train_db,test_db = Data.random_split(a_temperature_tensor.float(),[5000,959])"
   ]
  },
  {
   "cell_type": "code",
   "execution_count": 71,
   "metadata": {},
   "outputs": [
    {
     "output_type": "execute_result",
     "data": {
      "text/plain": "[<torch.utils.data.dataset.Subset at 0x123d90550>,\n <torch.utils.data.dataset.Subset at 0x1238df048>]"
     },
     "metadata": {},
     "execution_count": 71
    }
   ],
   "source": [
    "torch.utils.data.random_split(torch_dataset,[5000,959])"
   ]
  },
  {
   "cell_type": "code",
   "execution_count": 104,
   "metadata": {},
   "outputs": [],
   "source": [
    "train_loader = Data.DataLoader(\n",
    "    dataset=train_db,\n",
    "    batch_size=500,\n",
    "    shuffle=True,\n",
    "    num_workers=4\n",
    ")"
   ]
  },
  {
   "cell_type": "code",
   "execution_count": 106,
   "metadata": {},
   "outputs": [],
   "source": [
    "test_loader = Data.DataLoader(\n",
    "    dataset=test_db,\n",
    "    batch_size=500,\n",
    "    shuffle=True,\n",
    "    num_workers=4\n",
    ")"
   ]
  },
  {
   "cell_type": "code",
   "execution_count": 108,
   "metadata": {},
   "outputs": [],
   "source": [
    "torch.save(train_loader,'dataloader_32_train.pt')"
   ]
  },
  {
   "cell_type": "code",
   "execution_count": 109,
   "metadata": {},
   "outputs": [],
   "source": [
    "torch.save(test_loader,'dataloader_32_test.pt')"
   ]
  },
  {
   "cell_type": "code",
   "execution_count": null,
   "metadata": {},
   "outputs": [],
   "source": [
    "a_temperature_tensor.shape"
   ]
  },
  {
   "cell_type": "code",
   "execution_count": null,
   "metadata": {},
   "outputs": [],
   "source": [
    "for (read,_) in loader:\n",
    "    print(len(read))\n",
    "    print(read.dtype)"
   ]
  },
  {
   "cell_type": "code",
   "execution_count": null,
   "metadata": {},
   "outputs": [],
   "source": [
    "torch.save(loader,'dataloader_32.pt')"
   ]
  },
  {
   "cell_type": "code",
   "execution_count": null,
   "metadata": {
    "tags": [
     "outputPrepend"
    ]
   },
   "outputs": [],
   "source": [
    "tmp = []\n",
    "for epoch in range(1):\n",
    "    for step, (batch,y_index) in enumerate(loader):\n",
    "        print(type(batch))\n",
    "        tmp.extend(y_index.numpy())\n",
    "        print(\"step:{}, size: {}\".format(step,len(batch)))"
   ]
  }
 ],
 "metadata": {
  "language_info": {
   "codemirror_mode": {
    "name": "ipython",
    "version": 3
   },
   "file_extension": ".py",
   "mimetype": "text/x-python",
   "name": "python",
   "nbconvert_exporter": "python",
   "pygments_lexer": "ipython3",
   "version": "3.7.3-final"
  },
  "orig_nbformat": 2,
  "kernelspec": {
   "name": "python37364bitskleran23conda0ab411ec2f194e23aec19adfa46b0b62",
   "display_name": "Python 3.7.3 64-bit ('skleran23': conda)"
  }
 },
 "nbformat": 4,
 "nbformat_minor": 2
}