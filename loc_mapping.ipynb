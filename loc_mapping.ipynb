{
 "nbformat": 4,
 "nbformat_minor": 2,
 "metadata": {
  "language_info": {
   "name": "python",
   "codemirror_mode": {
    "name": "ipython",
    "version": 3
   },
   "version": "3.8.1-final"
  },
  "orig_nbformat": 2,
  "file_extension": ".py",
  "mimetype": "text/x-python",
  "name": "python",
  "npconvert_exporter": "python",
  "pygments_lexer": "ipython3",
  "version": 3,
  "kernelspec": {
   "name": "python38164bitksvdconda6705ad8a9fcd4e0bb5affd2c5dde61db",
   "display_name": "Python 3.8.1 64-bit ('ksvd': conda)"
  }
 },
 "cells": [
  {
   "cell_type": "code",
   "execution_count": 1,
   "metadata": {},
   "outputs": [],
   "source": [
    "from consts import loc_pic"
   ]
  },
  {
   "cell_type": "code",
   "execution_count": 6,
   "metadata": {},
   "outputs": [],
   "source": [
    "import numpy as np"
   ]
  },
  {
   "cell_type": "code",
   "execution_count": 7,
   "metadata": {},
   "outputs": [],
   "source": [
    "loc_pic = np.array(loc_pic)"
   ]
  },
  {
   "cell_type": "code",
   "execution_count": 8,
   "metadata": {},
   "outputs": [
    {
     "data": {
      "text/plain": "(10, 10)"
     },
     "execution_count": 8,
     "metadata": {},
     "output_type": "execute_result"
    }
   ],
   "source": [
    "loc_pic.shape"
   ]
  },
  {
   "cell_type": "code",
   "execution_count": 9,
   "metadata": {},
   "outputs": [
    {
     "data": {
      "text/plain": "array([  0.,   0.,   0.,   0.,   0.,   0.,   0.,   0.,   0.,   0.,  63.,\n         0.,   0.,   0.,  42.,  17.,   0.,   0.,   0.,   0.,  47.,   7.,\n        27.,   0.,  41.,  56., 121.,  46.,  36.,   0.,   0.,   0., 111.,\n        99.,  57.,  59.,  40., 106.,   0.,   0.,   0.,  61.,  71.,  65.,\n         0.,  82.,  62.,   0.,  76.,   0.,   0.,  51.,  11., 122.,  68.,\n         0.,   0.,  60.,   0.,   0.,  84.,  81.,  55.,  72.,  73.,   0.,\n       107.,  31.,  69.,  95., 103.,  80.,  96.,   0.,   0.,  97., 100.,\n        53.,  19.,  93., 109.,  87.,   0.,   0., 104.,   0.,   0.,   0.,\n         0.,   0.,   0.,  89.,  88.,   0.,  98.,   0.,   0.,   0.,   0.,\n         0.])"
     },
     "execution_count": 9,
     "metadata": {},
     "output_type": "execute_result"
    }
   ],
   "source": [
    "loc_pic.reshape(100)"
   ]
  }
 ]
}