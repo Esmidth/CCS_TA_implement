{
 "nbformat": 4,
 "nbformat_minor": 2,
 "metadata": {
  "language_info": {
   "name": "python",
   "codemirror_mode": {
    "name": "ipython",
    "version": 3
   },
   "version": "3.7.3-final"
  },
  "orig_nbformat": 2,
  "file_extension": ".py",
  "mimetype": "text/x-python",
  "name": "python",
  "npconvert_exporter": "python",
  "pygments_lexer": "ipython3",
  "version": 3,
  "kernelspec": {
   "name": "python37364bitskleran23conda0ab411ec2f194e23aec19adfa46b0b62",
   "display_name": "Python 3.7.3 64-bit ('skleran23': conda)"
  }
 },
 "cells": [
  {
   "cell_type": "code",
   "execution_count": 1,
   "metadata": {},
   "outputs": [],
   "source": [
    "%matplotlib inline\n",
    "import pandas as pd\n",
    "import numpy as np\n",
    "import matplotlib.pyplot as plt\n",
    "from consts import res,lat,log\n",
    "from utils import get_year_heatmap,generate_date_dataframe,draw_rat_heatmap,draw_pics,draw_rat_heatmaps,get_year_dataframes\n",
    "import utils\n",
    "import torch\n",
    "import torch.optim as optim\n",
    "from torch.autograd import Variable\n",
    "import torchvision\n",
    "import torchvision.transforms as transforms"
   ]
  },
  {
   "cell_type": "code",
   "execution_count": 2,
   "metadata": {},
   "outputs": [],
   "source": [
    "df = utils.get_data('rat')\n",
    "df['New_Date'] = pd.to_datetime(df['Created Date'])"
   ]
  },
  {
   "cell_type": "code",
   "execution_count": 3,
   "metadata": {},
   "outputs": [],
   "source": [
    "df_list = []\n",
    "year_pic_list = []\n",
    "for i in range(9):\n",
    "    tmp_df=get_year_dataframes(df,2010+i)\n",
    "    year_pic_list.append(draw_rat_heatmaps(tmp_df,10))"
   ]
  },
  {
   "cell_type": "code",
   "execution_count": 5,
   "metadata": {},
   "outputs": [
    {
     "name": "stdout",
     "output_type": "stream",
     "text": "(9, 12, 10, 10)\n"
    }
   ],
   "source": [
    "year_pic_list = np.array(year_pic_list)\n",
    "print(year_pic_list.shape)"
   ]
  },
  {
   "cell_type": "code",
   "execution_count": 6,
   "metadata": {},
   "outputs": [
    {
     "name": "stdout",
     "output_type": "stream",
     "text": "(5, 12, 10, 10) (4, 12, 10, 10)\n"
    }
   ],
   "source": [
    "# 划分训练集和测试集\n",
    "train_set = year_pic_list[:5]\n",
    "test_set = year_pic_list[-4:]\n",
    "print(train_set.shape,test_set.shape)"
   ]
  },
  {
   "cell_type": "code",
   "execution_count": 38,
   "metadata": {},
   "outputs": [
    {
     "name": "stdout",
     "output_type": "stream",
     "text": "(5, 12, 100)\n(4, 12, 100)\n"
    }
   ],
   "source": [
    "train_set = train_set.reshape(-1,12,100)\n",
    "test_set = test_set.reshape(-1,12,100)\n",
    "print(train_set.shape)\n",
    "print(test_set.shape)"
   ]
  },
  {
   "cell_type": "code",
   "execution_count": 39,
   "metadata": {},
   "outputs": [
    {
     "name": "stdout",
     "output_type": "stream",
     "text": "(60, 100)\n(48, 100)\n"
    }
   ],
   "source": [
    "train_set = train_set.reshape(-1,100)\n",
    "test_set = test_set.reshape(-1,100)\n",
    "print(train_set.shape)\n",
    "print(test_set.shape)"
   ]
  },
  {
   "cell_type": "code",
   "execution_count": null,
   "metadata": {},
   "outputs": [],
   "source": [
    "x = train_set[0]\n",
    "k = round(100*0.5)\n",
    "random_mask = np.random.choice(100,k,replace=False)\n",
    "b = x.flat[random_mask]\n",
    "print(b.shape)"
   ]
  },
  {
   "cell_type": "code",
   "execution_count": 21,
   "metadata": {},
   "outputs": [
    {
     "name": "stdout",
     "output_type": "stream",
     "text": "[-10.  -7. -16.  -5.   2.   0.  -1.   0.   0.   0.  -1. -16.  -1.   0.\n  -4.   1.   0.  -2.  -1.   0.  -1. -11. -11.  -7.  -1.   1.  -2.   3.\n   0.   1.  -1.  -1.  -6.  -6.  -1.  -1.  -3.  -6.   0.  -1.  -2.  -6.\n   0.   1.  -6.   0.  -2.  -3.   1.  -3. -14.  -2.   0.   1.   0.   0.\n   2.   0.   1.  -1.  -4.  -1.   2.  -3.   1.   0.   0.   1.   0.   0.\n   5.  -5.  -1.   5.  -1.  -1.  -1.   0.   0.   0.  -7.   0.   0.  -3.\n   1.   0.   0.   0.   0.   0.  -2.  -7.   0.   0.   0.   0.   0.   0.\n   0.  -1.]\n"
    }
   ],
   "source": [
    "print(train_set[1]-train_set[2])"
   ]
  },
  {
   "cell_type": "code",
   "execution_count": 108,
   "metadata": {},
   "outputs": [
    {
     "name": "stdout",
     "output_type": "stream",
     "text": "0 loss:2123.429 \tmean: 0.005\tmax:3.828\tmin:-3.971\n100 loss:279.581 \tmean: -0.011\tmax:3.287\tmin:-3.279\n200 loss:214.183 \tmean: -0.008\tmax:3.723\tmin:-3.059\n300 loss:146.198 \tmean: -0.007\tmax:4.243\tmin:-3.475\n400 loss:149.334 \tmean: -0.005\tmax:4.604\tmin:-3.648\n500 loss:128.316 \tmean: -0.005\tmax:4.810\tmin:-3.810\n600 loss:133.119 \tmean: -0.004\tmax:4.809\tmin:-4.246\n700 loss:176.371 \tmean: -0.003\tmax:4.924\tmin:-4.716\n800 loss:131.951 \tmean: -0.002\tmax:4.981\tmin:-5.002\n900 loss:129.143 \tmean: -0.002\tmax:5.029\tmin:-5.304\n1000 loss:123.597 \tmean: -0.001\tmax:4.968\tmin:-5.529\n1100 loss:134.684 \tmean: -0.001\tmax:4.993\tmin:-5.682\n1200 loss:165.188 \tmean: -0.000\tmax:5.005\tmin:-5.759\n1300 loss:146.566 \tmean: -0.000\tmax:5.013\tmin:-5.823\n1400 loss:128.507 \tmean: 0.000\tmax:5.017\tmin:-5.950\n1500 loss:156.443 \tmean: 0.001\tmax:4.957\tmin:-5.962\n1600 loss:141.845 \tmean: 0.000\tmax:5.023\tmin:-5.980\n1700 loss:158.070 \tmean: 0.000\tmax:5.096\tmin:-6.024\n1800 loss:149.373 \tmean: 0.000\tmax:5.040\tmin:-6.041\n1900 loss:148.754 \tmean: 0.001\tmax:5.008\tmin:-6.029\n2000 loss:139.731 \tmean: 0.001\tmax:5.028\tmin:-6.039\n2100 loss:149.289 \tmean: 0.001\tmax:5.026\tmin:-6.051\n2200 loss:167.874 \tmean: 0.001\tmax:5.037\tmin:-6.034\n2300 loss:148.109 \tmean: 0.001\tmax:5.010\tmin:-6.090\n2400 loss:144.727 \tmean: 0.001\tmax:5.079\tmin:-5.995\n2500 loss:102.124 \tmean: 0.001\tmax:5.029\tmin:-6.005\n2600 loss:129.671 \tmean: 0.001\tmax:5.036\tmin:-5.991\n2700 loss:150.135 \tmean: 0.001\tmax:5.063\tmin:-6.017\n2800 loss:175.406 \tmean: 0.001\tmax:5.022\tmin:-6.023\n2900 loss:160.830 \tmean: 0.001\tmax:5.047\tmin:-6.063\n3000 loss:138.477 \tmean: 0.001\tmax:5.054\tmin:-6.100\n3100 loss:143.758 \tmean: 0.001\tmax:5.028\tmin:-6.068\n3200 loss:189.617 \tmean: 0.001\tmax:5.032\tmin:-6.074\n3300 loss:157.839 \tmean: 0.001\tmax:4.990\tmin:-6.071\n3400 loss:131.992 \tmean: 0.001\tmax:5.049\tmin:-6.060\n3500 loss:135.520 \tmean: 0.001\tmax:5.048\tmin:-6.069\n3600 loss:140.355 \tmean: 0.001\tmax:5.034\tmin:-6.042\n3700 loss:148.160 \tmean: 0.001\tmax:5.010\tmin:-6.039\n3800 loss:156.723 \tmean: 0.001\tmax:5.008\tmin:-6.092\n3900 loss:162.949 \tmean: 0.001\tmax:5.048\tmin:-6.070\n4000 loss:82.903 \tmean: 0.001\tmax:5.038\tmin:-6.078\n4100 loss:137.859 \tmean: 0.001\tmax:5.074\tmin:-6.051\n4200 loss:191.562 \tmean: 0.001\tmax:5.016\tmin:-6.088\n4300 loss:128.228 \tmean: 0.001\tmax:5.081\tmin:-6.087\n4400 loss:172.292 \tmean: 0.001\tmax:5.123\tmin:-6.079\n4500 loss:172.578 \tmean: 0.001\tmax:5.047\tmin:-6.079\n4600 loss:149.610 \tmean: 0.001\tmax:5.028\tmin:-6.035\n4700 loss:142.898 \tmean: 0.001\tmax:5.040\tmin:-6.032\n4800 loss:197.655 \tmean: 0.001\tmax:5.041\tmin:-6.030\n4900 loss:146.550 \tmean: 0.002\tmax:5.062\tmin:-6.058\n5000 loss:155.229 \tmean: 0.001\tmax:5.019\tmin:-6.055\n5100 loss:162.131 \tmean: 0.001\tmax:5.034\tmin:-6.029\n5200 loss:151.939 \tmean: 0.001\tmax:5.050\tmin:-6.052\n5300 loss:159.886 \tmean: 0.002\tmax:4.995\tmin:-6.051\n5400 loss:136.452 \tmean: 0.002\tmax:5.014\tmin:-6.006\n5500 loss:147.980 \tmean: 0.002\tmax:5.037\tmin:-6.072\n5600 loss:147.726 \tmean: 0.002\tmax:5.022\tmin:-6.054\n5700 loss:133.653 \tmean: 0.002\tmax:5.011\tmin:-5.983\n5800 loss:178.933 \tmean: 0.002\tmax:5.010\tmin:-6.060\n5900 loss:129.247 \tmean: 0.001\tmax:5.089\tmin:-6.042\n6000 loss:111.297 \tmean: 0.001\tmax:5.055\tmin:-6.041\n6100 loss:108.544 \tmean: 0.001\tmax:5.043\tmin:-6.020\n6200 loss:144.358 \tmean: 0.001\tmax:5.040\tmin:-6.022\n6300 loss:114.613 \tmean: 0.002\tmax:5.037\tmin:-6.107\n6400 loss:145.210 \tmean: 0.002\tmax:5.085\tmin:-6.083\n6500 loss:134.150 \tmean: 0.001\tmax:5.071\tmin:-6.017\n6600 loss:163.300 \tmean: 0.001\tmax:5.010\tmin:-6.064\n6700 loss:162.851 \tmean: 0.001\tmax:5.076\tmin:-6.039\n6800 loss:102.576 \tmean: 0.001\tmax:5.063\tmin:-6.039\n6900 loss:172.905 \tmean: 0.001\tmax:5.075\tmin:-6.082\n7000 loss:169.516 \tmean: 0.001\tmax:5.036\tmin:-6.103\n7100 loss:175.618 \tmean: 0.001\tmax:5.012\tmin:-6.052\n7200 loss:184.055 \tmean: 0.002\tmax:5.034\tmin:-6.067\n7300 loss:142.087 \tmean: 0.001\tmax:5.019\tmin:-6.035\n7400 loss:119.277 \tmean: 0.001\tmax:5.031\tmin:-6.074\n7500 loss:128.908 \tmean: 0.001\tmax:5.044\tmin:-6.018\n7600 loss:146.900 \tmean: 0.002\tmax:5.058\tmin:-5.976\n7700 loss:150.722 \tmean: 0.002\tmax:5.060\tmin:-6.064\n"
    },
    {
     "ename": "KeyboardInterrupt",
     "evalue": "",
     "output_type": "error",
     "traceback": [
      "\u001b[0;31m---------------------------------------------------------------------------\u001b[0m",
      "\u001b[0;31mKeyboardInterrupt\u001b[0m                         Traceback (most recent call last)",
      "\u001b[0;32m<ipython-input-108-0e71b562aea7>\u001b[0m in \u001b[0;36m<module>\u001b[0;34m\u001b[0m\n\u001b[1;32m     17\u001b[0m         \u001b[0mloss\u001b[0m \u001b[0;34m=\u001b[0m \u001b[0mloss_fn\u001b[0m\u001b[0;34m(\u001b[0m\u001b[0mb_pred\u001b[0m\u001b[0;34m,\u001b[0m\u001b[0mb\u001b[0m\u001b[0;34m)\u001b[0m\u001b[0;34m.\u001b[0m\u001b[0msum\u001b[0m\u001b[0;34m(\u001b[0m\u001b[0;34m)\u001b[0m\u001b[0;34m\u001b[0m\u001b[0;34m\u001b[0m\u001b[0m\n\u001b[1;32m     18\u001b[0m         \u001b[0mloss\u001b[0m\u001b[0;34m.\u001b[0m\u001b[0mbackward\u001b[0m\u001b[0;34m(\u001b[0m\u001b[0;34m)\u001b[0m\u001b[0;34m\u001b[0m\u001b[0;34m\u001b[0m\u001b[0m\n\u001b[0;32m---> 19\u001b[0;31m         \u001b[0moptimizer\u001b[0m\u001b[0;34m.\u001b[0m\u001b[0mstep\u001b[0m\u001b[0;34m(\u001b[0m\u001b[0;34m)\u001b[0m\u001b[0;34m\u001b[0m\u001b[0;34m\u001b[0m\u001b[0m\n\u001b[0m\u001b[1;32m     20\u001b[0m         \u001b[0;31m# A = torch.nn.functional.normalize(A,p=2,dim=-1)\u001b[0m\u001b[0;34m\u001b[0m\u001b[0;34m\u001b[0m\u001b[0;34m\u001b[0m\u001b[0m\n\u001b[1;32m     21\u001b[0m     \u001b[0;32mif\u001b[0m \u001b[0mepoch\u001b[0m \u001b[0;34m%\u001b[0m \u001b[0;36m100\u001b[0m \u001b[0;34m==\u001b[0m \u001b[0;36m0\u001b[0m\u001b[0;34m:\u001b[0m\u001b[0;34m\u001b[0m\u001b[0;34m\u001b[0m\u001b[0m\n",
      "\u001b[0;32m~/.pyenv/versions/anaconda3-2019.03/envs/skleran23/lib/python3.7/site-packages/torch/optim/adam.py\u001b[0m in \u001b[0;36mstep\u001b[0;34m(self, closure)\u001b[0m\n\u001b[1;32m    101\u001b[0m                     \u001b[0mdenom\u001b[0m \u001b[0;34m=\u001b[0m \u001b[0;34m(\u001b[0m\u001b[0mmax_exp_avg_sq\u001b[0m\u001b[0;34m.\u001b[0m\u001b[0msqrt\u001b[0m\u001b[0;34m(\u001b[0m\u001b[0;34m)\u001b[0m \u001b[0;34m/\u001b[0m \u001b[0mmath\u001b[0m\u001b[0;34m.\u001b[0m\u001b[0msqrt\u001b[0m\u001b[0;34m(\u001b[0m\u001b[0mbias_correction2\u001b[0m\u001b[0;34m)\u001b[0m\u001b[0;34m)\u001b[0m\u001b[0;34m.\u001b[0m\u001b[0madd_\u001b[0m\u001b[0;34m(\u001b[0m\u001b[0mgroup\u001b[0m\u001b[0;34m[\u001b[0m\u001b[0;34m'eps'\u001b[0m\u001b[0;34m]\u001b[0m\u001b[0;34m)\u001b[0m\u001b[0;34m\u001b[0m\u001b[0;34m\u001b[0m\u001b[0m\n\u001b[1;32m    102\u001b[0m                 \u001b[0;32melse\u001b[0m\u001b[0;34m:\u001b[0m\u001b[0;34m\u001b[0m\u001b[0;34m\u001b[0m\u001b[0m\n\u001b[0;32m--> 103\u001b[0;31m                     \u001b[0mdenom\u001b[0m \u001b[0;34m=\u001b[0m \u001b[0;34m(\u001b[0m\u001b[0mexp_avg_sq\u001b[0m\u001b[0;34m.\u001b[0m\u001b[0msqrt\u001b[0m\u001b[0;34m(\u001b[0m\u001b[0;34m)\u001b[0m \u001b[0;34m/\u001b[0m \u001b[0mmath\u001b[0m\u001b[0;34m.\u001b[0m\u001b[0msqrt\u001b[0m\u001b[0;34m(\u001b[0m\u001b[0mbias_correction2\u001b[0m\u001b[0;34m)\u001b[0m\u001b[0;34m)\u001b[0m\u001b[0;34m.\u001b[0m\u001b[0madd_\u001b[0m\u001b[0;34m(\u001b[0m\u001b[0mgroup\u001b[0m\u001b[0;34m[\u001b[0m\u001b[0;34m'eps'\u001b[0m\u001b[0;34m]\u001b[0m\u001b[0;34m)\u001b[0m\u001b[0;34m\u001b[0m\u001b[0;34m\u001b[0m\u001b[0m\n\u001b[0m\u001b[1;32m    104\u001b[0m \u001b[0;34m\u001b[0m\u001b[0m\n\u001b[1;32m    105\u001b[0m                 \u001b[0mstep_size\u001b[0m \u001b[0;34m=\u001b[0m \u001b[0mgroup\u001b[0m\u001b[0;34m[\u001b[0m\u001b[0;34m'lr'\u001b[0m\u001b[0;34m]\u001b[0m \u001b[0;34m/\u001b[0m \u001b[0mbias_correction1\u001b[0m\u001b[0;34m\u001b[0m\u001b[0;34m\u001b[0m\u001b[0m\n",
      "\u001b[0;31mKeyboardInterrupt\u001b[0m: "
     ]
    }
   ],
   "source": [
    "# Multi HeatMap training\n",
    "A = Variable(torch.randn(50,100,dtype=float),requires_grad=True)\n",
    "# optimizer = optim.SGD([A],lr=0.001)\n",
    "optimizer = optim.Adam([A],lr=0.001)\n",
    "loss_fn = torch.nn.L1Loss(reduce=False, size_average=False)\n",
    "num_epochs = 10000\n",
    "for epoch in range(num_epochs):\n",
    "    for i,image in enumerate(train_set):\n",
    "        x = Variable(torch.tensor(image,dtype=float))\n",
    "        mask = np.random.choice(100,50,replace=False)\n",
    "        b = image.flat[mask]\n",
    "        b = Variable(torch.tensor(b,dtype=float))\n",
    "        optimizer.zero_grad()\n",
    "        # print(A.shape)\n",
    "        b_pred = torch.mv(A,x)\n",
    "        # loss = ((b_pred-b)**2).sum()\n",
    "        loss = loss_fn(b_pred,b).sum()\n",
    "        loss.backward()\n",
    "        optimizer.step()\n",
    "        # A = torch.nn.functional.normalize(A,p=2,dim=-1)\n",
    "    if epoch % 100 == 0:\n",
    "        # print(epoch,loss,A.mean().data)\n",
    "        print(epoch,\"\\tloss:{:.3f} \\tmean: {:.3f}\\tmax:{:.3f}\\tmin:{:.3f}\".format(loss.data,A.mean().data,A.max().data,A.min().data))"
   ]
  },
  {
   "cell_type": "code",
   "execution_count": 109,
   "metadata": {},
   "outputs": [
    {
     "name": "stdout",
     "output_type": "stream",
     "text": "tensor([[ 0.3424,  0.1425,  0.3235,  ...,  1.1875, -2.1463, -1.9766],\n        [ 0.5560,  0.1864, -0.4934,  ...,  0.5681, -3.7630, -2.0009],\n        [-0.7851, -0.6149,  0.1691,  ...,  0.0088, -0.6992, -6.0167],\n        ...,\n        [ 0.0316,  0.1312,  0.1739,  ..., -0.4941, -0.9252,  0.4152],\n        [-0.5818, -0.1664,  0.2866,  ...,  1.6654, -0.2722, -0.0248],\n        [-0.1608, -0.0405,  0.3852,  ..., -0.3831,  1.1415,  2.8189]],\n       dtype=torch.float64)\n"
    }
   ],
   "source": [
    "A.requires_grad = False\n",
    "print(A)"
   ]
  },
  {
   "cell_type": "code",
   "execution_count": 111,
   "metadata": {},
   "outputs": [
    {
     "name": "stdout",
     "output_type": "stream",
     "text": "0 \tloss:658.327 \tmean: 0.389\tmax:2.600\tmin:-2.535\n100 \tloss:598.173 \tmean: 0.383\tmax:2.500\tmin:-2.435\n200 \tloss:541.375 \tmean: 0.374\tmax:2.405\tmin:-2.319\n300 \tloss:486.777 \tmean: 0.363\tmax:2.310\tmin:-2.203\n400 \tloss:434.035 \tmean: 0.349\tmax:2.309\tmin:-2.092\n500 \tloss:390.409 \tmean: 0.340\tmax:2.374\tmin:-1.997\n600 \tloss:357.617 \tmean: 0.339\tmax:2.385\tmin:-1.928\n700 \tloss:332.024 \tmean: 0.340\tmax:2.490\tmin:-1.876\n800 \tloss:308.544 \tmean: 0.339\tmax:2.595\tmin:-1.892\n900 \tloss:285.173 \tmean: 0.338\tmax:2.696\tmin:-1.925\n1000 \tloss:261.880 \tmean: 0.337\tmax:2.795\tmin:-1.956\n1100 \tloss:241.415 \tmean: 0.337\tmax:2.889\tmin:-1.943\n1200 \tloss:223.673 \tmean: 0.337\tmax:2.978\tmin:-1.947\n1300 \tloss:208.680 \tmean: 0.337\tmax:3.061\tmin:-2.001\n1400 \tloss:196.143 \tmean: 0.338\tmax:3.127\tmin:-2.067\n1500 \tloss:186.333 \tmean: 0.342\tmax:3.181\tmin:-2.128\n1600 \tloss:176.781 \tmean: 0.344\tmax:3.237\tmin:-2.187\n1700 \tloss:171.180 \tmean: 0.347\tmax:3.274\tmin:-2.199\n1800 \tloss:166.503 \tmean: 0.349\tmax:3.305\tmin:-2.198\n1900 \tloss:162.195 \tmean: 0.350\tmax:3.335\tmin:-2.191\n2000 \tloss:159.696 \tmean: 0.351\tmax:3.354\tmin:-2.167\n2100 \tloss:157.223 \tmean: 0.352\tmax:3.373\tmin:-2.142\n2200 \tloss:154.915 \tmean: 0.354\tmax:3.393\tmin:-2.120\n2300 \tloss:152.640 \tmean: 0.355\tmax:3.412\tmin:-2.099\n2400 \tloss:150.474 \tmean: 0.356\tmax:3.434\tmin:-2.075\n2500 \tloss:148.400 \tmean: 0.358\tmax:3.459\tmin:-2.050\n2600 \tloss:146.365 \tmean: 0.360\tmax:3.486\tmin:-2.050\n2700 \tloss:144.445 \tmean: 0.362\tmax:3.513\tmin:-2.052\n2800 \tloss:142.532 \tmean: 0.363\tmax:3.540\tmin:-2.054\n2900 \tloss:140.635 \tmean: 0.365\tmax:3.568\tmin:-2.057\n3000 \tloss:138.693 \tmean: 0.367\tmax:3.596\tmin:-2.059\n3100 \tloss:136.771 \tmean: 0.369\tmax:3.624\tmin:-2.061\n3200 \tloss:134.874 \tmean: 0.370\tmax:3.652\tmin:-2.063\n3300 \tloss:132.948 \tmean: 0.372\tmax:3.681\tmin:-2.064\n3400 \tloss:131.047 \tmean: 0.374\tmax:3.711\tmin:-2.066\n3500 \tloss:129.227 \tmean: 0.376\tmax:3.740\tmin:-2.067\n3600 \tloss:127.404 \tmean: 0.377\tmax:3.769\tmin:-2.067\n3700 \tloss:125.715 \tmean: 0.379\tmax:3.793\tmin:-2.061\n3800 \tloss:124.316 \tmean: 0.381\tmax:3.790\tmin:-2.052\n3900 \tloss:123.036 \tmean: 0.382\tmax:3.784\tmin:-2.037\n4000 \tloss:121.793 \tmean: 0.384\tmax:3.776\tmin:-2.022\n4100 \tloss:120.544 \tmean: 0.385\tmax:3.769\tmin:-2.008\n4200 \tloss:119.853 \tmean: 0.386\tmax:3.762\tmin:-1.999\n4300 \tloss:119.184 \tmean: 0.387\tmax:3.755\tmin:-1.991\n4400 \tloss:118.571 \tmean: 0.388\tmax:3.751\tmin:-1.982\n4500 \tloss:118.153 \tmean: 0.390\tmax:3.754\tmin:-1.971\n4600 \tloss:117.670 \tmean: 0.391\tmax:3.755\tmin:-1.961\n4700 \tloss:117.212 \tmean: 0.392\tmax:3.756\tmin:-1.950\n4800 \tloss:116.784 \tmean: 0.394\tmax:3.759\tmin:-1.939\n4900 \tloss:116.409 \tmean: 0.395\tmax:3.762\tmin:-1.928\n5000 \tloss:116.019 \tmean: 0.397\tmax:3.761\tmin:-1.916\n5100 \tloss:115.635 \tmean: 0.399\tmax:3.761\tmin:-1.905\n5200 \tloss:115.263 \tmean: 0.400\tmax:3.762\tmin:-1.894\n5300 \tloss:114.885 \tmean: 0.402\tmax:3.763\tmin:-1.882\n5400 \tloss:114.495 \tmean: 0.404\tmax:3.762\tmin:-1.871\n5500 \tloss:114.145 \tmean: 0.405\tmax:3.763\tmin:-1.860\n5600 \tloss:113.773 \tmean: 0.407\tmax:3.763\tmin:-1.855\n5700 \tloss:113.408 \tmean: 0.409\tmax:3.763\tmin:-1.868\n5800 \tloss:113.030 \tmean: 0.410\tmax:3.763\tmin:-1.881\n5900 \tloss:112.677 \tmean: 0.412\tmax:3.763\tmin:-1.894\n6000 \tloss:112.302 \tmean: 0.413\tmax:3.763\tmin:-1.907\n6100 \tloss:111.950 \tmean: 0.415\tmax:3.764\tmin:-1.920\n6200 \tloss:111.661 \tmean: 0.416\tmax:3.766\tmin:-1.931\n6300 \tloss:111.390 \tmean: 0.418\tmax:3.769\tmin:-1.943\n6400 \tloss:111.092 \tmean: 0.419\tmax:3.770\tmin:-1.955\n6500 \tloss:110.805 \tmean: 0.420\tmax:3.772\tmin:-1.967\n6600 \tloss:110.506 \tmean: 0.421\tmax:3.775\tmin:-1.979\n6700 \tloss:110.222 \tmean: 0.423\tmax:3.782\tmin:-1.990\n6800 \tloss:109.925 \tmean: 0.424\tmax:3.800\tmin:-2.002\n6900 \tloss:109.645 \tmean: 0.425\tmax:3.819\tmin:-2.014\n7000 \tloss:109.353 \tmean: 0.426\tmax:3.838\tmin:-2.026\n7100 \tloss:109.082 \tmean: 0.428\tmax:3.857\tmin:-2.038\n7200 \tloss:108.793 \tmean: 0.429\tmax:3.875\tmin:-2.050\n7300 \tloss:108.508 \tmean: 0.430\tmax:3.894\tmin:-2.062\n7400 \tloss:108.212 \tmean: 0.431\tmax:3.912\tmin:-2.073\n7500 \tloss:107.925 \tmean: 0.433\tmax:3.930\tmin:-2.085\n7600 \tloss:107.662 \tmean: 0.434\tmax:3.947\tmin:-2.096\n7700 \tloss:107.425 \tmean: 0.435\tmax:3.961\tmin:-2.107\n7800 \tloss:107.210 \tmean: 0.435\tmax:3.974\tmin:-2.117\n7900 \tloss:106.992 \tmean: 0.436\tmax:3.988\tmin:-2.128\n8000 \tloss:106.745 \tmean: 0.437\tmax:4.002\tmin:-2.138\n8100 \tloss:106.533 \tmean: 0.438\tmax:4.015\tmin:-2.149\n8200 \tloss:106.314 \tmean: 0.439\tmax:4.028\tmin:-2.159\n8300 \tloss:106.076 \tmean: 0.439\tmax:4.042\tmin:-2.169\n8400 \tloss:105.906 \tmean: 0.440\tmax:4.056\tmin:-2.179\n8500 \tloss:105.681 \tmean: 0.441\tmax:4.070\tmin:-2.187\n8600 \tloss:105.462 \tmean: 0.442\tmax:4.085\tmin:-2.196\n8700 \tloss:105.291 \tmean: 0.443\tmax:4.100\tmin:-2.204\n8800 \tloss:105.097 \tmean: 0.444\tmax:4.114\tmin:-2.212\n8900 \tloss:104.905 \tmean: 0.445\tmax:4.128\tmin:-2.221\n9000 \tloss:104.692 \tmean: 0.445\tmax:4.142\tmin:-2.229\n9100 \tloss:104.525 \tmean: 0.446\tmax:4.156\tmin:-2.237\n9200 \tloss:104.373 \tmean: 0.447\tmax:4.167\tmin:-2.245\n9300 \tloss:104.174 \tmean: 0.447\tmax:4.179\tmin:-2.253\n9400 \tloss:104.024 \tmean: 0.448\tmax:4.190\tmin:-2.260\n9500 \tloss:103.854 \tmean: 0.449\tmax:4.201\tmin:-2.268\n9600 \tloss:103.742 \tmean: 0.449\tmax:4.207\tmin:-2.274\n9700 \tloss:103.618 \tmean: 0.449\tmax:4.213\tmin:-2.281\n9800 \tloss:103.485 \tmean: 0.450\tmax:4.220\tmin:-2.288\n9900 \tloss:103.383 \tmean: 0.450\tmax:4.226\tmin:-2.294\n"
    }
   ],
   "source": [
    "num = 2\n",
    "origin_x = Variable(torch.randn(100,dtype=float),requires_grad=True)\n",
    "optimizer = optim.Adam([origin_x],lr = 0.001)\n",
    "x = Variable(torch.tensor(test_set[num],dtype=float))\n",
    "mask = np.random.choice(100,50,replace=False)\n",
    "b = test_set[num].flat[mask]\n",
    "b = Variable(torch.tensor(b,dtype=float))\n",
    "for i in range(num_epochs):\n",
    "    optimizer.zero_grad()\n",
    "    b_pred = torch.mv(A,origin_x)\n",
    "    loss = loss_fn(b_pred,b).sum()\n",
    "    loss.backward()\n",
    "    optimizer.step()\n",
    "    if i % 100 == 0:\n",
    "        # print(i,loss)\n",
    "        print(i,\"\\tloss:{:.3f} \\tmean: {:.3f}\\tmax:{:.3f}\\tmin:{:.3f}\".format(loss.data,origin_x.mean().data,origin_x.max().data,origin_x.min().data))"
   ]
  },
  {
   "cell_type": "code",
   "execution_count": 112,
   "metadata": {},
   "outputs": [
    {
     "name": "stdout",
     "output_type": "stream",
     "text": "tensor([ 2.0713, -0.8388, -2.3004,  1.6650,  3.8987, -1.2466, -1.1037,  1.3917,\n        -0.8705,  0.3338,  1.8138,  0.4562,  3.6513, -0.2031,  0.8156,  1.0462,\n         2.7183,  0.2630,  0.1200, -0.9927,  0.6602,  0.9741,  1.2046,  1.7627,\n        -0.1225, -0.1210,  1.5347,  2.7632,  1.0207, -1.4593,  0.5122,  0.6332,\n         0.5533,  0.6949, -0.8200, -0.6299, -1.7595, -0.2137,  0.3690,  0.6710,\n         0.4756,  0.7076, -0.1048,  0.2983,  1.2755, -0.5385, -0.9088,  0.1031,\n        -1.7823,  1.1044, -1.6205, -0.3404,  0.7228,  1.3706,  2.9614, -1.0430,\n         1.7534,  0.5519, -1.6105, -0.2910, -0.6744,  1.6432,  0.9993,  3.4117,\n         0.8638,  4.2319,  0.7753, -1.2841,  2.3768,  1.4529, -0.9581, -1.5345,\n        -1.2708,  0.7822, -0.2324, -0.4771,  1.4393, -1.1699, -0.3115,  0.5457,\n         1.4911, -1.0019, -1.5012,  0.6430,  0.5274, -0.5680,  0.5223,  0.0964,\n         1.5249,  0.8141,  2.9628,  1.7134,  0.3163,  1.1251, -0.1812, -0.2387,\n         3.4684, -1.2734, -1.0961,  1.1249], dtype=torch.float64,\n       requires_grad=True)\ntensor([22., 17., 15.,  5.,  2.,  0.,  1.,  2.,  3.,  0., 11., 24.,  9.,  7.,\n         3.,  3.,  1.,  2.,  1.,  3., 16., 19., 20.,  9.,  4.,  2.,  4.,  5.,\n         1.,  1.,  2.,  4., 17., 12.,  0.,  1.,  0.,  4.,  3.,  0., 13.,  9.,\n        13.,  4.,  2.,  1.,  3.,  5.,  1.,  2., 22.,  3.,  0.,  1.,  7.,  2.,\n         0.,  2.,  0.,  4.,  4.,  0.,  1.,  6.,  1.,  6.,  0.,  0.,  0.,  0.,\n         2.,  3.,  5.,  9.,  6.,  2.,  4.,  0.,  0.,  1.,  4.,  3.,  8.,  3.,\n         1.,  1.,  1.,  0.,  3.,  0.,  3., 27.,  1.,  1.,  0.,  0.,  0.,  0.,\n         0.,  0.], dtype=torch.float64)\ntensor([ 6.,  0.,  1.,  4., 24.,  1.,  9.,  0., 16., 11.,  3.,  3.,  3.,  3.,\n        17.,  3.,  0.,  7.,  1., 27.,  0.,  1.,  0.,  2.,  0.,  2.,  0.,  1.,\n         3.,  4.,  4.,  1.,  8.,  0.,  9.,  4.,  0.,  3., 13.,  5.,  4.,  0.,\n         6., 13.,  4.,  2.,  0., 20.,  3.,  7.], dtype=torch.float64)\ntensor([ 6.0009e+00,  1.4278e-03,  1.0110e+00,  9.7175e+00,  1.5246e+01,\n         9.9941e-01,  8.9976e+00, -4.7754e-05,  1.6001e+01,  1.0512e+01,\n         1.0564e+00,  2.9962e+00,  1.7207e+01,  2.9973e+00,  1.6993e+01,\n         2.9995e+00,  2.6859e-03, -1.0052e+01,  1.0018e+00,  2.4239e+01,\n         1.5400e-03,  1.0018e+00, -3.8959e+00,  2.0394e+01, -7.6924e-04,\n         1.9981e+00,  1.0868e-03,  1.0002e+00,  2.9995e+00,  5.5212e+00,\n         4.0019e+00,  1.0008e+00,  8.0048e+00, -9.1348e+00,  9.0032e+00,\n         4.0043e+00, -4.3605e-03,  2.9991e+00,  1.2999e+01, -2.4143e-01,\n         3.8773e+00,  1.0869e+00,  6.0033e+00,  1.2040e+01,  4.0009e+00,\n         1.9983e+00, -2.9678e-04,  1.4409e+01, -3.3133e+00,  6.9919e+00],\n       dtype=torch.float64, grad_fn=<MvBackward>)\n"
    },
    {
     "data": {
      "image/png": "[encoded data removed]",
      "image/svg+xml": "<?xml version=\"1.0\" encoding=\"utf-8\" standalone=\"no\"?>\n<!DOCTYPE svg PUBLIC \"-//W3C//DTD SVG 1.1//EN\"\n  \"http://www.w3.org/Graphics/SVG/1.1/DTD/svg11.dtd\">\n<!-- Created with matplotlib (https://matplotlib.org/) -->\n<svg height=\"183.259943pt\" version=\"1.1\" viewBox=\"0 0 362.5625 183.259943\" width=\"362.5625pt\" xmlns=\"http://www.w3.org/2000/svg\" xmlns:xlink=\"http://www.w3.org/1999/xlink\">\n <defs>\n  <style type=\"text/css\">\n*{stroke-linecap:butt;stroke-linejoin:round;white-space:pre;}\n  </style>\n </defs>\n <g id=\"figure_1\">\n  <g id=\"patch_1\">\n   <path d=\"M 0 183.259943 \nL 362.5625 183.259943 \nL 362.5625 0 \nL 0 0 \nz\n\" style=\"fill:none;\"/>\n  </g>\n  <g id=\"axes_1\">\n   <g id=\"patch_2\">\n    <path d=\"M 20.5625 159.381818 \nL 172.744318 159.381818 \nL 172.744318 7.2 \nL 20.5625 7.2 \nz\n\" style=\"fill:#ffffff;\"/>\n   </g>\n   <g clip-path=\"url(#pb775c9ecf9)\">\n    <image height=\"153\" id=\"imagedd2bac35b5\" transform=\"scale(1 -1)translate(0 -153)\" width=\"153\" x=\"20.5625\" xlink:href=\"data:image/png;base64,\niVBORw0KGgoAAAANSUhEUgAAAJkAAACZCAYAAAA8XJi6AAAABHNCSVQICAgIfAhkiAAAA7FJREFUeJzt3T9rnWUcxvHfOTmkrelJoaI2i4INrWgRBMFBlE7+HRT0FfgK3BwcHNz8g6+hS51cpUMHB3VQQUUFKxFtHRKVKjSmWExyHHwD8ru5CNHPZ7+4Q/LNM908z+TJs68squn9D97rTquq6umzjw3tu/a3tw/k3P+r6UH/APz3iYw4kREnMuJERpzIiBMZcSIjTmTEiYw4kREnMuJERpzIiJvtrxxtj585/8LQ4b8/d0d7e/KTX9vbw/qfNXJFaenM6aGz9777vr09rL9vDhGREScy4kRGnMiIExlxIiNOZMSJjDiREScy4kRGnMiIExlxIiNutrR1vT1ezFeGDp9fvdXe/nz+zvZ29drJ9va2L39qb6uq9k7d3h9//k3/3IH7YFVV0/m8vx06Gf4FkREnMuJERpzIiBMZcSIjTmTEiYw4kREnMuJERpzIiBMZcbORqyeLgasnVVWzzf71kdWV+9rbox99297efLR/blXV8qVPh/YHZeS1VZ5kxImMOJERJzLiREacyIgTGXEiI05kxImMOJERJzLiREacyIibPX7hs/b4wxfPDR0+8qaZkes620/c396e+Phqe1tVtTuwna2d6p+7uTVwctXkoQfaW08y4kRGnMiIExlxIiNOZMSJjDiREScy4kRGnMiIExlxIiNOZMSJjLjJvW++veiOVzfGDr+x3t+efvdGezvyZbz9P3ba26qqyVr/63Z/3bXa3s6+GPtjTY/3vwjoSUacyIgTGXEiI05kxImMOJERJzLiREacyIgTGXEiI05kxImMuNmZd35oj0e+MFdVdeup/vbH50+0t/e81v+63XTe/7Jd1djrspZW+q9vGrliVFW1O/Bze5IRJzLiREacyIgTGXEiI05kxImMOJERJzLiREacyIgTGXEiI2525a219nh97Zehwx88crO9vXKp/4aboS+eDbwRqKpqsX53e7t3fLm9nWxca2+rxq44eZIRJzLiREacyIgTGXEiI05kxImMOJERJzLiREacyIgTGXEiI2525Otj7fHLj1weOvzVN15qb49d329vpzt/treLef9DVlVjV26WBz6i1f9t/WPkrUCeZMSJjDiREScy4kRGnMiIExlxIiNOZMSJjDiREScy4kRGnMiIExlxk9e/enbRHV/ceHjo8J3f+nfZ1i/stbfLG5vt7e7mVntbNfgKpoH7ZKP34Ea+budJRpzIiBMZcSIjTmTEiYw4kREnMuJERpzIiBMZcSIjTmTEiYy4vwGdFH/evkYQtgAAAABJRU5ErkJggg==\" y=\"-6.381818\"/>\n   </g>\n   <g id=\"matplotlib.axis_1\">\n    <g id=\"xtick_1\">\n     <g id=\"line2d_1\">\n      <defs>\n       <path d=\"M 0 0 \nL 0 3.5 \n\" id=\"me4159106d3\" style=\"stroke:#000000;stroke-width:0.8;\"/>\n      </defs>\n      <g>\n       <use style=\"stroke:#000000;stroke-width:0.8;\" x=\"28.171591\" xlink:href=\"#me4159106d3\" y=\"159.381818\"/>\n      </g>\n     </g>\n     <g id=\"text_1\">\n      <!-- 0 -->\n      <defs>\n       <path d=\"M 31.78125 66.40625 \nQ 24.171875 66.40625 20.328125 58.90625 \nQ 16.5 51.421875 16.5 36.375 \nQ 16.5 21.390625 20.328125 13.890625 \nQ 24.171875 6.390625 31.78125 6.390625 \nQ 39.453125 6.390625 43.28125 13.890625 \nQ 47.125 21.390625 47.125 36.375 \nQ 47.125 51.421875 43.28125 58.90625 \nQ 39.453125 66.40625 31.78125 66.40625 \nz\nM 31.78125 74.21875 \nQ 44.046875 74.21875 50.515625 64.515625 \nQ 56.984375 54.828125 56.984375 36.375 \nQ 56.984375 17.96875 50.515625 8.265625 \nQ 44.046875 -1.421875 31.78125 -1.421875 \nQ 19.53125 -1.421875 13.0625 8.265625 \nQ 6.59375 17.96875 6.59375 36.375 \nQ 6.59375 54.828125 13.0625 64.515625 \nQ 19.53125 74.21875 31.78125 74.21875 \nz\n\" id=\"DejaVuSans-48\"/>\n      </defs>\n      <g transform=\"translate(24.990341 173.980256)scale(0.1 -0.1)\">\n       <use xlink:href=\"#DejaVuSans-48\"/>\n      </g>\n     </g>\n    </g>\n    <g id=\"xtick_2\">\n     <g id=\"line2d_2\">\n      <g>\n       <use style=\"stroke:#000000;stroke-width:0.8;\" x=\"58.607955\" xlink:href=\"#me4159106d3\" y=\"159.381818\"/>\n      </g>\n     </g>\n     <g id=\"text_2\">\n      <!-- 2 -->\n      <defs>\n       <path d=\"M 19.1875 8.296875 \nL 53.609375 8.296875 \nL 53.609375 0 \nL 7.328125 0 \nL 7.328125 8.296875 \nQ 12.9375 14.109375 22.625 23.890625 \nQ 32.328125 33.6875 34.8125 36.53125 \nQ 39.546875 41.84375 41.421875 45.53125 \nQ 43.3125 49.21875 43.3125 52.78125 \nQ 43.3125 58.59375 39.234375 62.25 \nQ 35.15625 65.921875 28.609375 65.921875 \nQ 23.96875 65.921875 18.8125 64.3125 \nQ 13.671875 62.703125 7.8125 59.421875 \nL 7.8125 69.390625 \nQ 13.765625 71.78125 18.9375 73 \nQ 24.125 74.21875 28.421875 74.21875 \nQ 39.75 74.21875 46.484375 68.546875 \nQ 53.21875 62.890625 53.21875 53.421875 \nQ 53.21875 48.921875 51.53125 44.890625 \nQ 49.859375 40.875 45.40625 35.40625 \nQ 44.1875 33.984375 37.640625 27.21875 \nQ 31.109375 20.453125 19.1875 8.296875 \nz\n\" id=\"DejaVuSans-50\"/>\n      </defs>\n      <g transform=\"translate(55.426705 173.980256)scale(0.1 -0.1)\">\n       <use xlink:href=\"#DejaVuSans-50\"/>\n      </g>\n     </g>\n    </g>\n    <g id=\"xtick_3\">\n     <g id=\"line2d_3\">\n      <g>\n       <use style=\"stroke:#000000;stroke-width:0.8;\" x=\"89.044318\" xlink:href=\"#me4159106d3\" y=\"159.381818\"/>\n      </g>\n     </g>\n     <g id=\"text_3\">\n      <!-- 4 -->\n      <defs>\n       <path d=\"M 37.796875 64.3125 \nL 12.890625 25.390625 \nL 37.796875 25.390625 \nz\nM 35.203125 72.90625 \nL 47.609375 72.90625 \nL 47.609375 25.390625 \nL 58.015625 25.390625 \nL 58.015625 17.1875 \nL 47.609375 17.1875 \nL 47.609375 0 \nL 37.796875 0 \nL 37.796875 17.1875 \nL 4.890625 17.1875 \nL 4.890625 26.703125 \nz\n\" id=\"DejaVuSans-52\"/>\n      </defs>\n      <g transform=\"translate(85.863068 173.980256)scale(0.1 -0.1)\">\n       <use xlink:href=\"#DejaVuSans-52\"/>\n      </g>\n     </g>\n    </g>\n    <g id=\"xtick_4\">\n     <g id=\"line2d_4\">\n      <g>\n       <use style=\"stroke:#000000;stroke-width:0.8;\" x=\"119.480682\" xlink:href=\"#me4159106d3\" y=\"159.381818\"/>\n      </g>\n     </g>\n     <g id=\"text_4\">\n      <!-- 6 -->\n      <defs>\n       <path d=\"M 33.015625 40.375 \nQ 26.375 40.375 22.484375 35.828125 \nQ 18.609375 31.296875 18.609375 23.390625 \nQ 18.609375 15.53125 22.484375 10.953125 \nQ 26.375 6.390625 33.015625 6.390625 \nQ 39.65625 6.390625 43.53125 10.953125 \nQ 47.40625 15.53125 47.40625 23.390625 \nQ 47.40625 31.296875 43.53125 35.828125 \nQ 39.65625 40.375 33.015625 40.375 \nz\nM 52.59375 71.296875 \nL 52.59375 62.3125 \nQ 48.875 64.0625 45.09375 64.984375 \nQ 41.3125 65.921875 37.59375 65.921875 \nQ 27.828125 65.921875 22.671875 59.328125 \nQ 17.53125 52.734375 16.796875 39.40625 \nQ 19.671875 43.65625 24.015625 45.921875 \nQ 28.375 48.1875 33.59375 48.1875 \nQ 44.578125 48.1875 50.953125 41.515625 \nQ 57.328125 34.859375 57.328125 23.390625 \nQ 57.328125 12.15625 50.6875 5.359375 \nQ 44.046875 -1.421875 33.015625 -1.421875 \nQ 20.359375 -1.421875 13.671875 8.265625 \nQ 6.984375 17.96875 6.984375 36.375 \nQ 6.984375 53.65625 15.1875 63.9375 \nQ 23.390625 74.21875 37.203125 74.21875 \nQ 40.921875 74.21875 44.703125 73.484375 \nQ 48.484375 72.75 52.59375 71.296875 \nz\n\" id=\"DejaVuSans-54\"/>\n      </defs>\n      <g transform=\"translate(116.299432 173.980256)scale(0.1 -0.1)\">\n       <use xlink:href=\"#DejaVuSans-54\"/>\n      </g>\n     </g>\n    </g>\n    <g id=\"xtick_5\">\n     <g id=\"line2d_5\">\n      <g>\n       <use style=\"stroke:#000000;stroke-width:0.8;\" x=\"149.917045\" xlink:href=\"#me4159106d3\" y=\"159.381818\"/>\n      </g>\n     </g>\n     <g id=\"text_5\">\n      <!-- 8 -->\n      <defs>\n       <path d=\"M 31.78125 34.625 \nQ 24.75 34.625 20.71875 30.859375 \nQ 16.703125 27.09375 16.703125 20.515625 \nQ 16.703125 13.921875 20.71875 10.15625 \nQ 24.75 6.390625 31.78125 6.390625 \nQ 38.8125 6.390625 42.859375 10.171875 \nQ 46.921875 13.96875 46.921875 20.515625 \nQ 46.921875 27.09375 42.890625 30.859375 \nQ 38.875 34.625 31.78125 34.625 \nz\nM 21.921875 38.8125 \nQ 15.578125 40.375 12.03125 44.71875 \nQ 8.5 49.078125 8.5 55.328125 \nQ 8.5 64.0625 14.71875 69.140625 \nQ 20.953125 74.21875 31.78125 74.21875 \nQ 42.671875 74.21875 48.875 69.140625 \nQ 55.078125 64.0625 55.078125 55.328125 \nQ 55.078125 49.078125 51.53125 44.71875 \nQ 48 40.375 41.703125 38.8125 \nQ 48.828125 37.15625 52.796875 32.3125 \nQ 56.78125 27.484375 56.78125 20.515625 \nQ 56.78125 9.90625 50.3125 4.234375 \nQ 43.84375 -1.421875 31.78125 -1.421875 \nQ 19.734375 -1.421875 13.25 4.234375 \nQ 6.78125 9.90625 6.78125 20.515625 \nQ 6.78125 27.484375 10.78125 32.3125 \nQ 14.796875 37.15625 21.921875 38.8125 \nz\nM 18.3125 54.390625 \nQ 18.3125 48.734375 21.84375 45.5625 \nQ 25.390625 42.390625 31.78125 42.390625 \nQ 38.140625 42.390625 41.71875 45.5625 \nQ 45.3125 48.734375 45.3125 54.390625 \nQ 45.3125 60.0625 41.71875 63.234375 \nQ 38.140625 66.40625 31.78125 66.40625 \nQ 25.390625 66.40625 21.84375 63.234375 \nQ 18.3125 60.0625 18.3125 54.390625 \nz\n\" id=\"DejaVuSans-56\"/>\n      </defs>\n      <g transform=\"translate(146.735795 173.980256)scale(0.1 -0.1)\">\n       <use xlink:href=\"#DejaVuSans-56\"/>\n      </g>\n     </g>\n    </g>\n   </g>\n   <g id=\"matplotlib.axis_2\">\n    <g id=\"ytick_1\">\n     <g id=\"line2d_6\">\n      <defs>\n       <path d=\"M 0 0 \nL -3.5 0 \n\" id=\"m3f908b12d8\" style=\"stroke:#000000;stroke-width:0.8;\"/>\n      </defs>\n      <g>\n       <use style=\"stroke:#000000;stroke-width:0.8;\" x=\"20.5625\" xlink:href=\"#m3f908b12d8\" y=\"14.809091\"/>\n      </g>\n     </g>\n     <g id=\"text_6\">\n      <!-- 0 -->\n      <g transform=\"translate(7.2 18.60831)scale(0.1 -0.1)\">\n       <use xlink:href=\"#DejaVuSans-48\"/>\n      </g>\n     </g>\n    </g>\n    <g id=\"ytick_2\">\n     <g id=\"line2d_7\">\n      <g>\n       <use style=\"stroke:#000000;stroke-width:0.8;\" x=\"20.5625\" xlink:href=\"#m3f908b12d8\" y=\"45.245455\"/>\n      </g>\n     </g>\n     <g id=\"text_7\">\n      <!-- 2 -->\n      <g transform=\"translate(7.2 49.044673)scale(0.1 -0.1)\">\n       <use xlink:href=\"#DejaVuSans-50\"/>\n      </g>\n     </g>\n    </g>\n    <g id=\"ytick_3\">\n     <g id=\"line2d_8\">\n      <g>\n       <use style=\"stroke:#000000;stroke-width:0.8;\" x=\"20.5625\" xlink:href=\"#m3f908b12d8\" y=\"75.681818\"/>\n      </g>\n     </g>\n     <g id=\"text_8\">\n      <!-- 4 -->\n      <g transform=\"translate(7.2 79.481037)scale(0.1 -0.1)\">\n       <use xlink:href=\"#DejaVuSans-52\"/>\n      </g>\n     </g>\n    </g>\n    <g id=\"ytick_4\">\n     <g id=\"line2d_9\">\n      <g>\n       <use style=\"stroke:#000000;stroke-width:0.8;\" x=\"20.5625\" xlink:href=\"#m3f908b12d8\" y=\"106.118182\"/>\n      </g>\n     </g>\n     <g id=\"text_9\">\n      <!-- 6 -->\n      <g transform=\"translate(7.2 109.917401)scale(0.1 -0.1)\">\n       <use xlink:href=\"#DejaVuSans-54\"/>\n      </g>\n     </g>\n    </g>\n    <g id=\"ytick_5\">\n     <g id=\"line2d_10\">\n      <g>\n       <use style=\"stroke:#000000;stroke-width:0.8;\" x=\"20.5625\" xlink:href=\"#m3f908b12d8\" y=\"136.554545\"/>\n      </g>\n     </g>\n     <g id=\"text_10\">\n      <!-- 8 -->\n      <g transform=\"translate(7.2 140.353764)scale(0.1 -0.1)\">\n       <use xlink:href=\"#DejaVuSans-56\"/>\n      </g>\n     </g>\n    </g>\n   </g>\n   <g id=\"patch_3\">\n    <path d=\"M 20.5625 159.381818 \nL 20.5625 7.2 \n\" style=\"fill:none;stroke:#000000;stroke-linecap:square;stroke-linejoin:miter;stroke-width:0.8;\"/>\n   </g>\n   <g id=\"patch_4\">\n    <path d=\"M 172.744318 159.381818 \nL 172.744318 7.2 \n\" style=\"fill:none;stroke:#000000;stroke-linecap:square;stroke-linejoin:miter;stroke-width:0.8;\"/>\n   </g>\n   <g id=\"patch_5\">\n    <path d=\"M 20.5625 159.381818 \nL 172.744318 159.381818 \n\" style=\"fill:none;stroke:#000000;stroke-linecap:square;stroke-linejoin:miter;stroke-width:0.8;\"/>\n   </g>\n   <g id=\"patch_6\">\n    <path d=\"M 20.5625 7.2 \nL 172.744318 7.2 \n\" style=\"fill:none;stroke:#000000;stroke-linecap:square;stroke-linejoin:miter;stroke-width:0.8;\"/>\n   </g>\n  </g>\n  <g id=\"axes_2\">\n   <g id=\"patch_7\">\n    <path d=\"M 203.180682 159.381818 \nL 355.3625 159.381818 \nL 355.3625 7.2 \nL 203.180682 7.2 \nz\n\" style=\"fill:#ffffff;\"/>\n   </g>\n   <g clip-path=\"url(#p389ead72ae)\">\n    <image height=\"153\" id=\"image1882c006a7\" transform=\"scale(1 -1)translate(0 -153)\" width=\"153\" x=\"203.180682\" xlink:href=\"data:image/png;base64,\niVBORw0KGgoAAAANSUhEUgAAAJkAAACZCAYAAAA8XJi6AAAABHNCSVQICAgIfAhkiAAABAdJREFUeJzt3c+LzXsAxvHnjO+cmTPmpK4fgzBGcYcto+v6A4iyUyQlNkRZyeIWFn6UrUiUH1e4ZkVZ2ViIlR8lkZCRyMRkDIaZcc7cf0HPt2f3fu2fPnNO7/muPn1P5cDjDZMyXX2+3J1KkooHdXs7uqBhb/941GJvK/6xkqRD/5y3tyc2b7S3jfbC3krSq01Ve+t/28BvIjLEERniiAxxRIY4IkMckSGOyBBHZIgjMsQRGeKIDHFEhjgiQ1yl+9JR+6rPIv/WiiSpOvjN3r7aPN3etkxU7O30p+Xu+gwtm2Jv24b9c7/2/fDHklret/vbUicDv4HIEEdkiCMyxBEZ4ogMcUSGOCJDHJEhjsgQR2SIIzLEERniiAxxRIa4oueif7eq+mGk1OHNTv+O0mSrf27na/sKnZqF/31J0tiiMXs7/8wve9s23GFvJWmkx//cPMkQR2SIIzLEERniiAxxRIY4IkMckSGOyBBHZIgjMsQRGeKIDHFEhrhiou6/yujtgXLXRxqDNXt7fN1le7v/xhZ7+3LLaXsrSUv+3WVvW8b9a0JdO17bW0n6ODDX3vIkQxyRIY7IEEdkiCMyxBEZ4ogMcUSGOCJDHJEhjsgQR2SIIzLEERniKmsW77NfcTO0anapwz8v9bcTXRP2dtuKe/b2zt6/7K0kvdvt/916UrenPVc++OdK+vR3l73lSYY4IkMckSGOyBBHZIgjMsQRGeKIDHFEhjgiQxyRIY7IEEdkiCMyxBEZ4oqBTXPscaPm/9qaJNXf+Nvx4aq9vdBYbW/nzvJftSVJc876/9dDJe7fVX74r52SpE99TXvLkwxxRIY4IkMckSGOyBBHZIgjMsQRGeKIDHFEhjgiQxyRIY7IEEdkiCsmS2RWaZQ7fHR2xd42q/41o+7r9lSN9nLXm2rP/Fc4VefNt7cDW7vtrSS1DvufmycZ4ogMcUSGOCJDHJEhjsgQR2SIIzLEERniiAxxRIY4IkMckSGOyBBXlLky82tquWsvzZp/V6g2Y9Tefn3j/9paWe+PzbS363vv29ubd5fbW0nqPfPZ3vIkQxyRIY7IEEdkiCMyxBEZ4ogMcUSGOCJDHJEhjsgQR2SIIzLEERniitZlI/Z4ysNppQ4/t/2kvd1zZI+9/bLEnqpR83/ISpLW/vnM3t6+1mdv6+P2VJI01tVpb3mSIY7IEEdkiCMyxBEZ4ogMcUSGOCJDHJEhjsgQR2SIIzLEERniiAxxRIa4ol77aY/bHnSUOvzgYf91RiP/fbe3t1adsrc7N+6yt5L0or/X3n7b7l8KW9jv/yKfJA2ubLO3PMkQR2SIIzLEERniiAxxRIY4IkMckSGOyBBHZIgjMsQRGeKIDHFEhrj/AZv7j8F08dpUAAAAAElFTkSuQmCC\" y=\"-6.381818\"/>\n   </g>\n   <g id=\"matplotlib.axis_3\">\n    <g id=\"xtick_6\">\n     <g id=\"line2d_11\">\n      <g>\n       <use style=\"stroke:#000000;stroke-width:0.8;\" x=\"210.789773\" xlink:href=\"#me4159106d3\" y=\"159.381818\"/>\n      </g>\n     </g>\n     <g id=\"text_11\">\n      <!-- 0 -->\n      <g transform=\"translate(207.608523 173.980256)scale(0.1 -0.1)\">\n       <use xlink:href=\"#DejaVuSans-48\"/>\n      </g>\n     </g>\n    </g>\n    <g id=\"xtick_7\">\n     <g id=\"line2d_12\">\n      <g>\n       <use style=\"stroke:#000000;stroke-width:0.8;\" x=\"241.226136\" xlink:href=\"#me4159106d3\" y=\"159.381818\"/>\n      </g>\n     </g>\n     <g id=\"text_12\">\n      <!-- 2 -->\n      <g transform=\"translate(238.044886 173.980256)scale(0.1 -0.1)\">\n       <use xlink:href=\"#DejaVuSans-50\"/>\n      </g>\n     </g>\n    </g>\n    <g id=\"xtick_8\">\n     <g id=\"line2d_13\">\n      <g>\n       <use style=\"stroke:#000000;stroke-width:0.8;\" x=\"271.6625\" xlink:href=\"#me4159106d3\" y=\"159.381818\"/>\n      </g>\n     </g>\n     <g id=\"text_13\">\n      <!-- 4 -->\n      <g transform=\"translate(268.48125 173.980256)scale(0.1 -0.1)\">\n       <use xlink:href=\"#DejaVuSans-52\"/>\n      </g>\n     </g>\n    </g>\n    <g id=\"xtick_9\">\n     <g id=\"line2d_14\">\n      <g>\n       <use style=\"stroke:#000000;stroke-width:0.8;\" x=\"302.098864\" xlink:href=\"#me4159106d3\" y=\"159.381818\"/>\n      </g>\n     </g>\n     <g id=\"text_14\">\n      <!-- 6 -->\n      <g transform=\"translate(298.917614 173.980256)scale(0.1 -0.1)\">\n       <use xlink:href=\"#DejaVuSans-54\"/>\n      </g>\n     </g>\n    </g>\n    <g id=\"xtick_10\">\n     <g id=\"line2d_15\">\n      <g>\n       <use style=\"stroke:#000000;stroke-width:0.8;\" x=\"332.535227\" xlink:href=\"#me4159106d3\" y=\"159.381818\"/>\n      </g>\n     </g>\n     <g id=\"text_15\">\n      <!-- 8 -->\n      <g transform=\"translate(329.353977 173.980256)scale(0.1 -0.1)\">\n       <use xlink:href=\"#DejaVuSans-56\"/>\n      </g>\n     </g>\n    </g>\n   </g>\n   <g id=\"matplotlib.axis_4\">\n    <g id=\"ytick_6\">\n     <g id=\"line2d_16\">\n      <g>\n       <use style=\"stroke:#000000;stroke-width:0.8;\" x=\"203.180682\" xlink:href=\"#m3f908b12d8\" y=\"14.809091\"/>\n      </g>\n     </g>\n     <g id=\"text_16\">\n      <!-- 0 -->\n      <g transform=\"translate(189.818182 18.60831)scale(0.1 -0.1)\">\n       <use xlink:href=\"#DejaVuSans-48\"/>\n      </g>\n     </g>\n    </g>\n    <g id=\"ytick_7\">\n     <g id=\"line2d_17\">\n      <g>\n       <use style=\"stroke:#000000;stroke-width:0.8;\" x=\"203.180682\" xlink:href=\"#m3f908b12d8\" y=\"45.245455\"/>\n      </g>\n     </g>\n     <g id=\"text_17\">\n      <!-- 2 -->\n      <g transform=\"translate(189.818182 49.044673)scale(0.1 -0.1)\">\n       <use xlink:href=\"#DejaVuSans-50\"/>\n      </g>\n     </g>\n    </g>\n    <g id=\"ytick_8\">\n     <g id=\"line2d_18\">\n      <g>\n       <use style=\"stroke:#000000;stroke-width:0.8;\" x=\"203.180682\" xlink:href=\"#m3f908b12d8\" y=\"75.681818\"/>\n      </g>\n     </g>\n     <g id=\"text_18\">\n      <!-- 4 -->\n      <g transform=\"translate(189.818182 79.481037)scale(0.1 -0.1)\">\n       <use xlink:href=\"#DejaVuSans-52\"/>\n      </g>\n     </g>\n    </g>\n    <g id=\"ytick_9\">\n     <g id=\"line2d_19\">\n      <g>\n       <use style=\"stroke:#000000;stroke-width:0.8;\" x=\"203.180682\" xlink:href=\"#m3f908b12d8\" y=\"106.118182\"/>\n      </g>\n     </g>\n     <g id=\"text_19\">\n      <!-- 6 -->\n      <g transform=\"translate(189.818182 109.917401)scale(0.1 -0.1)\">\n       <use xlink:href=\"#DejaVuSans-54\"/>\n      </g>\n     </g>\n    </g>\n    <g id=\"ytick_10\">\n     <g id=\"line2d_20\">\n      <g>\n       <use style=\"stroke:#000000;stroke-width:0.8;\" x=\"203.180682\" xlink:href=\"#m3f908b12d8\" y=\"136.554545\"/>\n      </g>\n     </g>\n     <g id=\"text_20\">\n      <!-- 8 -->\n      <g transform=\"translate(189.818182 140.353764)scale(0.1 -0.1)\">\n       <use xlink:href=\"#DejaVuSans-56\"/>\n      </g>\n     </g>\n    </g>\n   </g>\n   <g id=\"patch_8\">\n    <path d=\"M 203.180682 159.381818 \nL 203.180682 7.2 \n\" style=\"fill:none;stroke:#000000;stroke-linecap:square;stroke-linejoin:miter;stroke-width:0.8;\"/>\n   </g>\n   <g id=\"patch_9\">\n    <path d=\"M 355.3625 159.381818 \nL 355.3625 7.2 \n\" style=\"fill:none;stroke:#000000;stroke-linecap:square;stroke-linejoin:miter;stroke-width:0.8;\"/>\n   </g>\n   <g id=\"patch_10\">\n    <path d=\"M 203.180682 159.381818 \nL 355.3625 159.381818 \n\" style=\"fill:none;stroke:#000000;stroke-linecap:square;stroke-linejoin:miter;stroke-width:0.8;\"/>\n   </g>\n   <g id=\"patch_11\">\n    <path d=\"M 203.180682 7.2 \nL 355.3625 7.2 \n\" style=\"fill:none;stroke:#000000;stroke-linecap:square;stroke-linejoin:miter;stroke-width:0.8;\"/>\n   </g>\n  </g>\n </g>\n <defs>\n  <clipPath id=\"pb775c9ecf9\">\n   <rect height=\"152.181818\" width=\"152.181818\" x=\"20.5625\" y=\"7.2\"/>\n  </clipPath>\n  <clipPath id=\"p389ead72ae\">\n   <rect height=\"152.181818\" width=\"152.181818\" x=\"203.180682\" y=\"7.2\"/>\n  </clipPath>\n </defs>\n</svg>\n",
      "text/plain": "<Figure size 432x288 with 2 Axes>"
     },
     "metadata": {
      "needs_background": "light"
     },
     "output_type": "display_data"
    }
   ],
   "source": [
    "print(origin_x)\n",
    "print(x)\n",
    "print(b)\n",
    "print(b_pred)\n",
    "origin_x.detach()\n",
    "o_x = origin_x.detach().numpy()\n",
    "# plt.imshow(x.numpy())\n",
    "plt.subplot(1,2,1)\n",
    "plt.imshow(x.reshape(10,10))\n",
    "plt.subplot(1,2,2)\n",
    "plt.imshow(o_x.reshape(10,10))\n",
    "plt.show()\n",
    "# print(o_x.describe())"
   ]
  },
  {
   "cell_type": "code",
   "execution_count": 72,
   "metadata": {},
   "outputs": [
    {
     "name": "stdout",
     "output_type": "stream",
     "text": "0 tensor(910.1614, dtype=torch.float64, grad_fn=<SumBackward0>)\n100 tensor(272.3040, dtype=torch.float64, grad_fn=<SumBackward0>)\n200 tensor(200.2320, dtype=torch.float64, grad_fn=<SumBackward0>)\n300 tensor(220.2951, dtype=torch.float64, grad_fn=<SumBackward0>)\n400 tensor(189.7315, dtype=torch.float64, grad_fn=<SumBackward0>)\n500 tensor(151.0638, dtype=torch.float64, grad_fn=<SumBackward0>)\n600 tensor(190.4859, dtype=torch.float64, grad_fn=<SumBackward0>)\n700 tensor(287.5944, dtype=torch.float64, grad_fn=<SumBackward0>)\n800 tensor(198.2663, dtype=torch.float64, grad_fn=<SumBackward0>)\n900 tensor(174.1867, dtype=torch.float64, grad_fn=<SumBackward0>)\n1000 tensor(135.1232, dtype=torch.float64, grad_fn=<SumBackward0>)\n1100 tensor(234.2158, dtype=torch.float64, grad_fn=<SumBackward0>)\n1200 tensor(166.7627, dtype=torch.float64, grad_fn=<SumBackward0>)\n1300 tensor(226.6708, dtype=torch.float64, grad_fn=<SumBackward0>)\n1400 tensor(191.0183, dtype=torch.float64, grad_fn=<SumBackward0>)\n1500 tensor(252.4170, dtype=torch.float64, grad_fn=<SumBackward0>)\n1600 tensor(185.6661, dtype=torch.float64, grad_fn=<SumBackward0>)\n1700 tensor(199.1014, dtype=torch.float64, grad_fn=<SumBackward0>)\n1800 tensor(262.8254, dtype=torch.float64, grad_fn=<SumBackward0>)\n1900 tensor(185.9763, dtype=torch.float64, grad_fn=<SumBackward0>)\n2000 tensor(207.4776, dtype=torch.float64, grad_fn=<SumBackward0>)\n2100 tensor(145.1461, dtype=torch.float64, grad_fn=<SumBackward0>)\n2200 tensor(195.1971, dtype=torch.float64, grad_fn=<SumBackward0>)\n2300 tensor(228.5867, dtype=torch.float64, grad_fn=<SumBackward0>)\n2400 tensor(194.7236, dtype=torch.float64, grad_fn=<SumBackward0>)\n2500 tensor(178.9341, dtype=torch.float64, grad_fn=<SumBackward0>)\n2600 tensor(218.5587, dtype=torch.float64, grad_fn=<SumBackward0>)\n2700 tensor(171.9016, dtype=torch.float64, grad_fn=<SumBackward0>)\n2800 tensor(194.3224, dtype=torch.float64, grad_fn=<SumBackward0>)\n2900 tensor(196.2345, dtype=torch.float64, grad_fn=<SumBackward0>)\n3000 tensor(157.5695, dtype=torch.float64, grad_fn=<SumBackward0>)\n3100 tensor(201.8894, dtype=torch.float64, grad_fn=<SumBackward0>)\n3200 tensor(187.0041, dtype=torch.float64, grad_fn=<SumBackward0>)\n3300 tensor(195.7960, dtype=torch.float64, grad_fn=<SumBackward0>)\n3400 tensor(161.9496, dtype=torch.float64, grad_fn=<SumBackward0>)\n3500 tensor(176.8731, dtype=torch.float64, grad_fn=<SumBackward0>)\n3600 tensor(206.9004, dtype=torch.float64, grad_fn=<SumBackward0>)\n3700 tensor(229.7570, dtype=torch.float64, grad_fn=<SumBackward0>)\n3800 tensor(255.5885, dtype=torch.float64, grad_fn=<SumBackward0>)\n3900 tensor(187.4627, dtype=torch.float64, grad_fn=<SumBackward0>)\n4000 tensor(230.4298, dtype=torch.float64, grad_fn=<SumBackward0>)\n4100 tensor(184.2777, dtype=torch.float64, grad_fn=<SumBackward0>)\n4200 tensor(227.4402, dtype=torch.float64, grad_fn=<SumBackward0>)\n4300 tensor(231.3970, dtype=torch.float64, grad_fn=<SumBackward0>)\n4400 tensor(208.6483, dtype=torch.float64, grad_fn=<SumBackward0>)\n4500 tensor(188.5633, dtype=torch.float64, grad_fn=<SumBackward0>)\n4600 tensor(205.9831, dtype=torch.float64, grad_fn=<SumBackward0>)\n4700 tensor(204.1538, dtype=torch.float64, grad_fn=<SumBackward0>)\n4800 tensor(185.0296, dtype=torch.float64, grad_fn=<SumBackward0>)\n4900 tensor(145.5185, dtype=torch.float64, grad_fn=<SumBackward0>)\n5000 tensor(178.8683, dtype=torch.float64, grad_fn=<SumBackward0>)\n5100 tensor(213.7918, dtype=torch.float64, grad_fn=<SumBackward0>)\n5200 tensor(209.3484, dtype=torch.float64, grad_fn=<SumBackward0>)\n5300 tensor(178.3356, dtype=torch.float64, grad_fn=<SumBackward0>)\n5400 tensor(190.4275, dtype=torch.float64, grad_fn=<SumBackward0>)\n5500 tensor(204.2547, dtype=torch.float64, grad_fn=<SumBackward0>)\n5600 tensor(241.2717, dtype=torch.float64, grad_fn=<SumBackward0>)\n5700 tensor(179.8245, dtype=torch.float64, grad_fn=<SumBackward0>)\n5800 tensor(249.3862, dtype=torch.float64, grad_fn=<SumBackward0>)\n5900 tensor(171.0395, dtype=torch.float64, grad_fn=<SumBackward0>)\n6000 tensor(169.2417, dtype=torch.float64, grad_fn=<SumBackward0>)\n6100 tensor(211.2847, dtype=torch.float64, grad_fn=<SumBackward0>)\n6200 tensor(235.7951, dtype=torch.float64, grad_fn=<SumBackward0>)\n6300 tensor(202.1510, dtype=torch.float64, grad_fn=<SumBackward0>)\n6400 tensor(195.8783, dtype=torch.float64, grad_fn=<SumBackward0>)\n6500 tensor(199.1427, dtype=torch.float64, grad_fn=<SumBackward0>)\n6600 tensor(186.8089, dtype=torch.float64, grad_fn=<SumBackward0>)\n6700 tensor(179.7292, dtype=torch.float64, grad_fn=<SumBackward0>)\n6800 tensor(208.7180, dtype=torch.float64, grad_fn=<SumBackward0>)\n6900 tensor(157.6193, dtype=torch.float64, grad_fn=<SumBackward0>)\n7000 tensor(208.5140, dtype=torch.float64, grad_fn=<SumBackward0>)\n7100 tensor(242.5856, dtype=torch.float64, grad_fn=<SumBackward0>)\n7200 tensor(217.5838, dtype=torch.float64, grad_fn=<SumBackward0>)\n7300 tensor(181.3414, dtype=torch.float64, grad_fn=<SumBackward0>)\n7400 tensor(210.3265, dtype=torch.float64, grad_fn=<SumBackward0>)\n7500 tensor(211.5117, dtype=torch.float64, grad_fn=<SumBackward0>)\n7600 tensor(217.6064, dtype=torch.float64, grad_fn=<SumBackward0>)\n7700 tensor(230.0867, dtype=torch.float64, grad_fn=<SumBackward0>)\n7800 tensor(229.9868, dtype=torch.float64, grad_fn=<SumBackward0>)\n7900 tensor(220.4000, dtype=torch.float64, grad_fn=<SumBackward0>)\n8000 tensor(145.5971, dtype=torch.float64, grad_fn=<SumBackward0>)\n8100 tensor(223.8819, dtype=torch.float64, grad_fn=<SumBackward0>)\n8200 tensor(203.3478, dtype=torch.float64, grad_fn=<SumBackward0>)\n8300 tensor(188.5249, dtype=torch.float64, grad_fn=<SumBackward0>)\n8400 tensor(218.5084, dtype=torch.float64, grad_fn=<SumBackward0>)\n8500 tensor(184.9855, dtype=torch.float64, grad_fn=<SumBackward0>)\n8600 tensor(224.9341, dtype=torch.float64, grad_fn=<SumBackward0>)\n8700 tensor(204.4918, dtype=torch.float64, grad_fn=<SumBackward0>)\n8800 tensor(172.5123, dtype=torch.float64, grad_fn=<SumBackward0>)\n8900 tensor(224.8771, dtype=torch.float64, grad_fn=<SumBackward0>)\n9000 tensor(220.8659, dtype=torch.float64, grad_fn=<SumBackward0>)\n9100 tensor(214.2968, dtype=torch.float64, grad_fn=<SumBackward0>)\n9200 tensor(200.7198, dtype=torch.float64, grad_fn=<SumBackward0>)\n9300 tensor(175.0404, dtype=torch.float64, grad_fn=<SumBackward0>)\n9400 tensor(236.2338, dtype=torch.float64, grad_fn=<SumBackward0>)\n9500 tensor(207.0347, dtype=torch.float64, grad_fn=<SumBackward0>)\n9600 tensor(234.2428, dtype=torch.float64, grad_fn=<SumBackward0>)\n9700 tensor(208.4134, dtype=torch.float64, grad_fn=<SumBackward0>)\n9800 tensor(241.8911, dtype=torch.float64, grad_fn=<SumBackward0>)\n9900 tensor(192.1395, dtype=torch.float64, grad_fn=<SumBackward0>)\n"
    }
   ],
   "source": [
    "# Multi HeatMap training\n",
    "A = Variable(torch.randn(50,100,dtype=float),requires_grad=True)\n",
    "optimizer = optim.SGD([A],lr=0.001)\n",
    "loss_fn = torch.nn.L1Loss(reduce=False, size_average=False)\n",
    "num_epochs = 10000\n",
    "for epoch in range(num_epochs):\n",
    "    for i,image in enumerate(train_set):\n",
    "        x = Variable(torch.tensor(image,dtype=float))\n",
    "        mask = np.random.choice(100,50,replace=False)\n",
    "        b = image.flat[mask]\n",
    "        b = Variable(torch.tensor(b,dtype=float))\n",
    "        optimizer.zero_grad()\n",
    "        b_pred = torch.mv(A,x)\n",
    "        # loss = ((b_pred-b)**2).sum()\n",
    "        loss = loss_fn(b_pred,b).sum()\n",
    "        loss.backward()\n",
    "        optimizer.step()\n",
    "    if epoch % 100 == 0:\n",
    "        print(epoch,loss)"
   ]
  },
  {
   "cell_type": "code",
   "execution_count": 62,
   "metadata": {},
   "outputs": [
    {
     "name": "stdout",
     "output_type": "stream",
     "text": "tensor([[-2.7101e+44, -2.5797e+44, -7.3718e+44,  ...,  7.3656e+42,\n         -4.8579e+43, -7.1129e+36],\n        [ 1.7838e+44,  1.6980e+44,  4.8521e+44,  ..., -4.8480e+42,\n          3.1974e+43,  4.6817e+36],\n        [-3.8282e+44, -3.6440e+44, -1.0413e+45,  ...,  1.0404e+43,\n         -6.8621e+43, -1.0047e+37],\n        ...,\n        [-2.4172e+43, -2.3009e+43, -6.5751e+43,  ...,  6.5696e+41,\n         -4.3329e+42, -6.3442e+35],\n        [ 6.5795e+43,  6.2630e+43,  1.7897e+44,  ..., -1.7882e+42,\n          1.1794e+43,  1.7269e+36],\n        [ 1.1082e+44,  1.0549e+44,  3.0144e+44,  ..., -3.0119e+42,\n          1.9864e+43,  2.9086e+36]], dtype=torch.float64)\n0 tensor(2.8935e+92, dtype=torch.float64, grad_fn=<SumBackward0>)\n1 tensor(3.4162e+271, dtype=torch.float64, grad_fn=<SumBackward0>)\n"
    }
   ],
   "source": [
    "print(A)\n",
    "num = 2\n",
    "origin_x = Variable(torch.randn(100,dtype=float),requires_grad=True)\n",
    "A.requires_grad = False\n",
    "optimizer = optim.SGD([origin_x],lr = 0.001)\n",
    "x = Variable(torch.tensor(test_set[num],dtype=float))\n",
    "mask = np.random.choice(100,50,replace=False)\n",
    "b = test_set[num].flat[mask]\n",
    "b = Variable(torch.tensor(b,dtype=float))\n",
    "for i in range(2):\n",
    "    optimizer.zero_grad()\n",
    "    b_pred = torch.mv(A,origin_x)\n",
    "    loss = ((b_pred-b)**2).sum()\n",
    "    loss.backward()\n",
    "    optimizer.step()\n",
    "    print(i,loss)"
   ]
  },
  {
   "cell_type": "code",
   "execution_count": 63,
   "metadata": {},
   "outputs": [
    {
     "data": {
      "image/png": "[encoded data removed]",
      "image/svg+xml": "<?xml version=\"1.0\" encoding=\"utf-8\" standalone=\"no\"?>\n<!DOCTYPE svg PUBLIC \"-//W3C//DTD SVG 1.1//EN\"\n  \"http://www.w3.org/Graphics/SVG/1.1/DTD/svg11.dtd\">\n<!-- Created with matplotlib (https://matplotlib.org/) -->\n<svg height=\"183.259943pt\" version=\"1.1\" viewBox=\"0 0 362.5625 183.259943\" width=\"362.5625pt\" xmlns=\"http://www.w3.org/2000/svg\" xmlns:xlink=\"http://www.w3.org/1999/xlink\">\n <defs>\n  <style type=\"text/css\">\n*{stroke-linecap:butt;stroke-linejoin:round;white-space:pre;}\n  </style>\n </defs>\n <g id=\"figure_1\">\n  <g id=\"patch_1\">\n   <path d=\"M 0 183.259943 \nL 362.5625 183.259943 \nL 362.5625 0 \nL 0 0 \nz\n\" style=\"fill:none;\"/>\n  </g>\n  <g id=\"axes_1\">\n   <g id=\"patch_2\">\n    <path d=\"M 20.5625 159.381818 \nL 172.744318 159.381818 \nL 172.744318 7.2 \nL 20.5625 7.2 \nz\n\" style=\"fill:#ffffff;\"/>\n   </g>\n   <g clip-path=\"url(#p25799a5f71)\">\n    <image height=\"153\" id=\"image0e461bd444\" transform=\"scale(1 -1)translate(0 -153)\" width=\"153\" x=\"20.5625\" xlink:href=\"data:image/png;base64,\niVBORw0KGgoAAAANSUhEUgAAAJkAAACZCAYAAAA8XJi6AAAABHNCSVQICAgIfAhkiAAAA7FJREFUeJzt3T9rnWUcxvHfOTmkrelJoaI2i4INrWgRBMFBlE7+HRT0FfgK3BwcHNz8g6+hS51cpUMHB3VQQUUFKxFtHRKVKjSmWExyHHwD8ru5CNHPZ7+4Q/LNM908z+TJs68squn9D97rTquq6umzjw3tu/a3tw/k3P+r6UH/APz3iYw4kREnMuJERpzIiBMZcSIjTmTEiYw4kREnMuJERpzIiJvtrxxtj585/8LQ4b8/d0d7e/KTX9vbw/qfNXJFaenM6aGz9777vr09rL9vDhGREScy4kRGnMiIExlxIiNOZMSJjDiREScy4kRGnMiIExlxIiNutrR1vT1ezFeGDp9fvdXe/nz+zvZ29drJ9va2L39qb6uq9k7d3h9//k3/3IH7YFVV0/m8vx06Gf4FkREnMuJERpzIiBMZcSIjTmTEiYw4kREnMuJERpzIiBMZcbORqyeLgasnVVWzzf71kdWV+9rbox99297efLR/blXV8qVPh/YHZeS1VZ5kxImMOJERJzLiREacyIgTGXEiI05kxImMOJERJzLiREacyIibPX7hs/b4wxfPDR0+8qaZkes620/c396e+Phqe1tVtTuwna2d6p+7uTVwctXkoQfaW08y4kRGnMiIExlxIiNOZMSJjDiREScy4kRGnMiIExlxIiNOZMSJjLjJvW++veiOVzfGDr+x3t+efvdGezvyZbz9P3ba26qqyVr/63Z/3bXa3s6+GPtjTY/3vwjoSUacyIgTGXEiI05kxImMOJERJzLiREacyIgTGXEiI05kxImMuNmZd35oj0e+MFdVdeup/vbH50+0t/e81v+63XTe/7Jd1djrspZW+q9vGrliVFW1O/Bze5IRJzLiREacyIgTGXEiI05kxImMOJERJzLiREacyIgTGXEiI2525a219nh97Zehwx88crO9vXKp/4aboS+eDbwRqKpqsX53e7t3fLm9nWxca2+rxq44eZIRJzLiREacyIgTGXEiI05kxImMOJERJzLiREacyIgTGXEiI2525Otj7fHLj1weOvzVN15qb49d329vpzt/treLef9DVlVjV26WBz6i1f9t/WPkrUCeZMSJjDiREScy4kRGnMiIExlxIiNOZMSJjDiREScy4kRGnMiIExlxk9e/enbRHV/ceHjo8J3f+nfZ1i/stbfLG5vt7e7mVntbNfgKpoH7ZKP34Ea+budJRpzIiBMZcSIjTmTEiYw4kREnMuJERpzIiBMZcSIjTmTEiYy4vwGdFH/evkYQtgAAAABJRU5ErkJggg==\" y=\"-6.381818\"/>\n   </g>\n   <g id=\"matplotlib.axis_1\">\n    <g id=\"xtick_1\">\n     <g id=\"line2d_1\">\n      <defs>\n       <path d=\"M 0 0 \nL 0 3.5 \n\" id=\"m3e0d05a331\" style=\"stroke:#000000;stroke-width:0.8;\"/>\n      </defs>\n      <g>\n       <use style=\"stroke:#000000;stroke-width:0.8;\" x=\"28.171591\" xlink:href=\"#m3e0d05a331\" y=\"159.381818\"/>\n      </g>\n     </g>\n     <g id=\"text_1\">\n      <!-- 0 -->\n      <defs>\n       <path d=\"M 31.78125 66.40625 \nQ 24.171875 66.40625 20.328125 58.90625 \nQ 16.5 51.421875 16.5 36.375 \nQ 16.5 21.390625 20.328125 13.890625 \nQ 24.171875 6.390625 31.78125 6.390625 \nQ 39.453125 6.390625 43.28125 13.890625 \nQ 47.125 21.390625 47.125 36.375 \nQ 47.125 51.421875 43.28125 58.90625 \nQ 39.453125 66.40625 31.78125 66.40625 \nz\nM 31.78125 74.21875 \nQ 44.046875 74.21875 50.515625 64.515625 \nQ 56.984375 54.828125 56.984375 36.375 \nQ 56.984375 17.96875 50.515625 8.265625 \nQ 44.046875 -1.421875 31.78125 -1.421875 \nQ 19.53125 -1.421875 13.0625 8.265625 \nQ 6.59375 17.96875 6.59375 36.375 \nQ 6.59375 54.828125 13.0625 64.515625 \nQ 19.53125 74.21875 31.78125 74.21875 \nz\n\" id=\"DejaVuSans-48\"/>\n      </defs>\n      <g transform=\"translate(24.990341 173.980256)scale(0.1 -0.1)\">\n       <use xlink:href=\"#DejaVuSans-48\"/>\n      </g>\n     </g>\n    </g>\n    <g id=\"xtick_2\">\n     <g id=\"line2d_2\">\n      <g>\n       <use style=\"stroke:#000000;stroke-width:0.8;\" x=\"58.607955\" xlink:href=\"#m3e0d05a331\" y=\"159.381818\"/>\n      </g>\n     </g>\n     <g id=\"text_2\">\n      <!-- 2 -->\n      <defs>\n       <path d=\"M 19.1875 8.296875 \nL 53.609375 8.296875 \nL 53.609375 0 \nL 7.328125 0 \nL 7.328125 8.296875 \nQ 12.9375 14.109375 22.625 23.890625 \nQ 32.328125 33.6875 34.8125 36.53125 \nQ 39.546875 41.84375 41.421875 45.53125 \nQ 43.3125 49.21875 43.3125 52.78125 \nQ 43.3125 58.59375 39.234375 62.25 \nQ 35.15625 65.921875 28.609375 65.921875 \nQ 23.96875 65.921875 18.8125 64.3125 \nQ 13.671875 62.703125 7.8125 59.421875 \nL 7.8125 69.390625 \nQ 13.765625 71.78125 18.9375 73 \nQ 24.125 74.21875 28.421875 74.21875 \nQ 39.75 74.21875 46.484375 68.546875 \nQ 53.21875 62.890625 53.21875 53.421875 \nQ 53.21875 48.921875 51.53125 44.890625 \nQ 49.859375 40.875 45.40625 35.40625 \nQ 44.1875 33.984375 37.640625 27.21875 \nQ 31.109375 20.453125 19.1875 8.296875 \nz\n\" id=\"DejaVuSans-50\"/>\n      </defs>\n      <g transform=\"translate(55.426705 173.980256)scale(0.1 -0.1)\">\n       <use xlink:href=\"#DejaVuSans-50\"/>\n      </g>\n     </g>\n    </g>\n    <g id=\"xtick_3\">\n     <g id=\"line2d_3\">\n      <g>\n       <use style=\"stroke:#000000;stroke-width:0.8;\" x=\"89.044318\" xlink:href=\"#m3e0d05a331\" y=\"159.381818\"/>\n      </g>\n     </g>\n     <g id=\"text_3\">\n      <!-- 4 -->\n      <defs>\n       <path d=\"M 37.796875 64.3125 \nL 12.890625 25.390625 \nL 37.796875 25.390625 \nz\nM 35.203125 72.90625 \nL 47.609375 72.90625 \nL 47.609375 25.390625 \nL 58.015625 25.390625 \nL 58.015625 17.1875 \nL 47.609375 17.1875 \nL 47.609375 0 \nL 37.796875 0 \nL 37.796875 17.1875 \nL 4.890625 17.1875 \nL 4.890625 26.703125 \nz\n\" id=\"DejaVuSans-52\"/>\n      </defs>\n      <g transform=\"translate(85.863068 173.980256)scale(0.1 -0.1)\">\n       <use xlink:href=\"#DejaVuSans-52\"/>\n      </g>\n     </g>\n    </g>\n    <g id=\"xtick_4\">\n     <g id=\"line2d_4\">\n      <g>\n       <use style=\"stroke:#000000;stroke-width:0.8;\" x=\"119.480682\" xlink:href=\"#m3e0d05a331\" y=\"159.381818\"/>\n      </g>\n     </g>\n     <g id=\"text_4\">\n      <!-- 6 -->\n      <defs>\n       <path d=\"M 33.015625 40.375 \nQ 26.375 40.375 22.484375 35.828125 \nQ 18.609375 31.296875 18.609375 23.390625 \nQ 18.609375 15.53125 22.484375 10.953125 \nQ 26.375 6.390625 33.015625 6.390625 \nQ 39.65625 6.390625 43.53125 10.953125 \nQ 47.40625 15.53125 47.40625 23.390625 \nQ 47.40625 31.296875 43.53125 35.828125 \nQ 39.65625 40.375 33.015625 40.375 \nz\nM 52.59375 71.296875 \nL 52.59375 62.3125 \nQ 48.875 64.0625 45.09375 64.984375 \nQ 41.3125 65.921875 37.59375 65.921875 \nQ 27.828125 65.921875 22.671875 59.328125 \nQ 17.53125 52.734375 16.796875 39.40625 \nQ 19.671875 43.65625 24.015625 45.921875 \nQ 28.375 48.1875 33.59375 48.1875 \nQ 44.578125 48.1875 50.953125 41.515625 \nQ 57.328125 34.859375 57.328125 23.390625 \nQ 57.328125 12.15625 50.6875 5.359375 \nQ 44.046875 -1.421875 33.015625 -1.421875 \nQ 20.359375 -1.421875 13.671875 8.265625 \nQ 6.984375 17.96875 6.984375 36.375 \nQ 6.984375 53.65625 15.1875 63.9375 \nQ 23.390625 74.21875 37.203125 74.21875 \nQ 40.921875 74.21875 44.703125 73.484375 \nQ 48.484375 72.75 52.59375 71.296875 \nz\n\" id=\"DejaVuSans-54\"/>\n      </defs>\n      <g transform=\"translate(116.299432 173.980256)scale(0.1 -0.1)\">\n       <use xlink:href=\"#DejaVuSans-54\"/>\n      </g>\n     </g>\n    </g>\n    <g id=\"xtick_5\">\n     <g id=\"line2d_5\">\n      <g>\n       <use style=\"stroke:#000000;stroke-width:0.8;\" x=\"149.917045\" xlink:href=\"#m3e0d05a331\" y=\"159.381818\"/>\n      </g>\n     </g>\n     <g id=\"text_5\">\n      <!-- 8 -->\n      <defs>\n       <path d=\"M 31.78125 34.625 \nQ 24.75 34.625 20.71875 30.859375 \nQ 16.703125 27.09375 16.703125 20.515625 \nQ 16.703125 13.921875 20.71875 10.15625 \nQ 24.75 6.390625 31.78125 6.390625 \nQ 38.8125 6.390625 42.859375 10.171875 \nQ 46.921875 13.96875 46.921875 20.515625 \nQ 46.921875 27.09375 42.890625 30.859375 \nQ 38.875 34.625 31.78125 34.625 \nz\nM 21.921875 38.8125 \nQ 15.578125 40.375 12.03125 44.71875 \nQ 8.5 49.078125 8.5 55.328125 \nQ 8.5 64.0625 14.71875 69.140625 \nQ 20.953125 74.21875 31.78125 74.21875 \nQ 42.671875 74.21875 48.875 69.140625 \nQ 55.078125 64.0625 55.078125 55.328125 \nQ 55.078125 49.078125 51.53125 44.71875 \nQ 48 40.375 41.703125 38.8125 \nQ 48.828125 37.15625 52.796875 32.3125 \nQ 56.78125 27.484375 56.78125 20.515625 \nQ 56.78125 9.90625 50.3125 4.234375 \nQ 43.84375 -1.421875 31.78125 -1.421875 \nQ 19.734375 -1.421875 13.25 4.234375 \nQ 6.78125 9.90625 6.78125 20.515625 \nQ 6.78125 27.484375 10.78125 32.3125 \nQ 14.796875 37.15625 21.921875 38.8125 \nz\nM 18.3125 54.390625 \nQ 18.3125 48.734375 21.84375 45.5625 \nQ 25.390625 42.390625 31.78125 42.390625 \nQ 38.140625 42.390625 41.71875 45.5625 \nQ 45.3125 48.734375 45.3125 54.390625 \nQ 45.3125 60.0625 41.71875 63.234375 \nQ 38.140625 66.40625 31.78125 66.40625 \nQ 25.390625 66.40625 21.84375 63.234375 \nQ 18.3125 60.0625 18.3125 54.390625 \nz\n\" id=\"DejaVuSans-56\"/>\n      </defs>\n      <g transform=\"translate(146.735795 173.980256)scale(0.1 -0.1)\">\n       <use xlink:href=\"#DejaVuSans-56\"/>\n      </g>\n     </g>\n    </g>\n   </g>\n   <g id=\"matplotlib.axis_2\">\n    <g id=\"ytick_1\">\n     <g id=\"line2d_6\">\n      <defs>\n       <path d=\"M 0 0 \nL -3.5 0 \n\" id=\"mf4cb2f16e1\" style=\"stroke:#000000;stroke-width:0.8;\"/>\n      </defs>\n      <g>\n       <use style=\"stroke:#000000;stroke-width:0.8;\" x=\"20.5625\" xlink:href=\"#mf4cb2f16e1\" y=\"14.809091\"/>\n      </g>\n     </g>\n     <g id=\"text_6\">\n      <!-- 0 -->\n      <g transform=\"translate(7.2 18.60831)scale(0.1 -0.1)\">\n       <use xlink:href=\"#DejaVuSans-48\"/>\n      </g>\n     </g>\n    </g>\n    <g id=\"ytick_2\">\n     <g id=\"line2d_7\">\n      <g>\n       <use style=\"stroke:#000000;stroke-width:0.8;\" x=\"20.5625\" xlink:href=\"#mf4cb2f16e1\" y=\"45.245455\"/>\n      </g>\n     </g>\n     <g id=\"text_7\">\n      <!-- 2 -->\n      <g transform=\"translate(7.2 49.044673)scale(0.1 -0.1)\">\n       <use xlink:href=\"#DejaVuSans-50\"/>\n      </g>\n     </g>\n    </g>\n    <g id=\"ytick_3\">\n     <g id=\"line2d_8\">\n      <g>\n       <use style=\"stroke:#000000;stroke-width:0.8;\" x=\"20.5625\" xlink:href=\"#mf4cb2f16e1\" y=\"75.681818\"/>\n      </g>\n     </g>\n     <g id=\"text_8\">\n      <!-- 4 -->\n      <g transform=\"translate(7.2 79.481037)scale(0.1 -0.1)\">\n       <use xlink:href=\"#DejaVuSans-52\"/>\n      </g>\n     </g>\n    </g>\n    <g id=\"ytick_4\">\n     <g id=\"line2d_9\">\n      <g>\n       <use style=\"stroke:#000000;stroke-width:0.8;\" x=\"20.5625\" xlink:href=\"#mf4cb2f16e1\" y=\"106.118182\"/>\n      </g>\n     </g>\n     <g id=\"text_9\">\n      <!-- 6 -->\n      <g transform=\"translate(7.2 109.917401)scale(0.1 -0.1)\">\n       <use xlink:href=\"#DejaVuSans-54\"/>\n      </g>\n     </g>\n    </g>\n    <g id=\"ytick_5\">\n     <g id=\"line2d_10\">\n      <g>\n       <use style=\"stroke:#000000;stroke-width:0.8;\" x=\"20.5625\" xlink:href=\"#mf4cb2f16e1\" y=\"136.554545\"/>\n      </g>\n     </g>\n     <g id=\"text_10\">\n      <!-- 8 -->\n      <g transform=\"translate(7.2 140.353764)scale(0.1 -0.1)\">\n       <use xlink:href=\"#DejaVuSans-56\"/>\n      </g>\n     </g>\n    </g>\n   </g>\n   <g id=\"patch_3\">\n    <path d=\"M 20.5625 159.381818 \nL 20.5625 7.2 \n\" style=\"fill:none;stroke:#000000;stroke-linecap:square;stroke-linejoin:miter;stroke-width:0.8;\"/>\n   </g>\n   <g id=\"patch_4\">\n    <path d=\"M 172.744318 159.381818 \nL 172.744318 7.2 \n\" style=\"fill:none;stroke:#000000;stroke-linecap:square;stroke-linejoin:miter;stroke-width:0.8;\"/>\n   </g>\n   <g id=\"patch_5\">\n    <path d=\"M 20.5625 159.381818 \nL 172.744318 159.381818 \n\" style=\"fill:none;stroke:#000000;stroke-linecap:square;stroke-linejoin:miter;stroke-width:0.8;\"/>\n   </g>\n   <g id=\"patch_6\">\n    <path d=\"M 20.5625 7.2 \nL 172.744318 7.2 \n\" style=\"fill:none;stroke:#000000;stroke-linecap:square;stroke-linejoin:miter;stroke-width:0.8;\"/>\n   </g>\n  </g>\n  <g id=\"axes_2\">\n   <g id=\"patch_7\">\n    <path d=\"M 203.180682 159.381818 \nL 355.3625 159.381818 \nL 355.3625 7.2 \nL 203.180682 7.2 \nz\n\" style=\"fill:#ffffff;\"/>\n   </g>\n   <g clip-path=\"url(#p05136c7aee)\">\n    <image height=\"153\" id=\"imaged281ea5e9d\" transform=\"scale(1 -1)translate(0 -153)\" width=\"153\" x=\"203.180682\" xlink:href=\"data:image/png;base64,\niVBORw0KGgoAAAANSUhEUgAAAJkAAACZCAYAAAA8XJi6AAAABHNCSVQICAgIfAhkiAAAA65JREFUeJzt3TtunGUYhuF3xmNi49hJcLDkykUCQSIU1EgIQQFboKMAUVJw2AA0NGyABbAEUrMCEAgMQoCEcgJLxDY2UszMULCB6P30yAJdV//o8+Gev/r0z+TVpz9YVtN37293p1VV9cy7++3tdGuzvV0cHbe352o+b0+nVy4PHT3yN5sOnQyPQGTEiYw4kREnMuJERpzIiBMZcSIjTmTEiYw4kREnMuJERtzktWvvta/6LC6uDR0+37jQ3q5881N7uzjuX1tZuXG9va2qWv56pz9eWRk6+7x4khEnMuJERpzIiBMZcSIjTmTEiYw4kREnMuJERpzIiBMZcSIjTmTEzf6+2n8F06R9E+1fq7/cb2/nN/b6B88GPls/3+tvq/6zd8JGeJIRJzLiREacyIgTGXEiI05kxImMOJERJzLiREacyIgTGXEiI262HLj2MjlbDB2++ONBe7sycGXm9Nnd9nb9Uv9qVFVVHf/Zno5809t5fjOeJxlxIiNOZMSJjDiREScy4kRGnMiIExlxIiNOZMSJjDiREScy4ibzu9fb7+Z54Z23hw7fuvVtf3x21p5ONgfeZDQbeyvPcnOjf/bJX+2tqz78r4mMOJERJzLiREacyIgTGXEiI05kxImMOJERJzLiREacyIgTGXGzl958qz3+/cWxRrdu9bfT7Sfa26G7Vbs7/e2g5cP+HbrpxuNDZy9OTvtnD50Mj0BkxImMOJERJzLiREacyIgTGXEiI05kxImMOJERJzLiREbcbP3OSXt87bP2W6eqquq312+2t5d/fNjerh71rwlNbx+0t1WDr44aeG3VYudKe1tVNbnX/197khEnMuJERpzIiBMZcSIjTmTEiYw4kREnMuJERpzIiBMZcSIjblaLRXt8/6Oxqz7P73zd3u5/0r8mtPb93fa2lmO/89nuVns7W3+svZ0eHLa3VVWL0/431HmSEScy4kRGnMiIExlxIiNOZMSJjDiREScy4kRGnMiIExlxIiNuNjK++eTAlZmq+urT59rb1ZX+lZuDl/fa2+3Pf2hvq6pW92+3t8vDo/b25JX+37qqauPL/s/tSUacyIgTGXEiI05kxImMOJERJzLiREacyIgTGXEiI05kxImMOJERNzt+6lJ7fPJx/zVIVVVnbzxob69+2P98nOxdbG8Xh8ftbVXVZO1Cf7y62p6uf7HfP7eqFvN5e+tJRpzIiBMZcSIjTmTEiYw4kREnMuJERpzIiBMZcSIjTmTEiYy4fwC9/oJmenymSAAAAABJRU5ErkJggg==\" y=\"-6.381818\"/>\n   </g>\n   <g id=\"matplotlib.axis_3\">\n    <g id=\"xtick_6\">\n     <g id=\"line2d_11\">\n      <g>\n       <use style=\"stroke:#000000;stroke-width:0.8;\" x=\"210.789773\" xlink:href=\"#m3e0d05a331\" y=\"159.381818\"/>\n      </g>\n     </g>\n     <g id=\"text_11\">\n      <!-- 0 -->\n      <g transform=\"translate(207.608523 173.980256)scale(0.1 -0.1)\">\n       <use xlink:href=\"#DejaVuSans-48\"/>\n      </g>\n     </g>\n    </g>\n    <g id=\"xtick_7\">\n     <g id=\"line2d_12\">\n      <g>\n       <use style=\"stroke:#000000;stroke-width:0.8;\" x=\"241.226136\" xlink:href=\"#m3e0d05a331\" y=\"159.381818\"/>\n      </g>\n     </g>\n     <g id=\"text_12\">\n      <!-- 2 -->\n      <g transform=\"translate(238.044886 173.980256)scale(0.1 -0.1)\">\n       <use xlink:href=\"#DejaVuSans-50\"/>\n      </g>\n     </g>\n    </g>\n    <g id=\"xtick_8\">\n     <g id=\"line2d_13\">\n      <g>\n       <use style=\"stroke:#000000;stroke-width:0.8;\" x=\"271.6625\" xlink:href=\"#m3e0d05a331\" y=\"159.381818\"/>\n      </g>\n     </g>\n     <g id=\"text_13\">\n      <!-- 4 -->\n      <g transform=\"translate(268.48125 173.980256)scale(0.1 -0.1)\">\n       <use xlink:href=\"#DejaVuSans-52\"/>\n      </g>\n     </g>\n    </g>\n    <g id=\"xtick_9\">\n     <g id=\"line2d_14\">\n      <g>\n       <use style=\"stroke:#000000;stroke-width:0.8;\" x=\"302.098864\" xlink:href=\"#m3e0d05a331\" y=\"159.381818\"/>\n      </g>\n     </g>\n     <g id=\"text_14\">\n      <!-- 6 -->\n      <g transform=\"translate(298.917614 173.980256)scale(0.1 -0.1)\">\n       <use xlink:href=\"#DejaVuSans-54\"/>\n      </g>\n     </g>\n    </g>\n    <g id=\"xtick_10\">\n     <g id=\"line2d_15\">\n      <g>\n       <use style=\"stroke:#000000;stroke-width:0.8;\" x=\"332.535227\" xlink:href=\"#m3e0d05a331\" y=\"159.381818\"/>\n      </g>\n     </g>\n     <g id=\"text_15\">\n      <!-- 8 -->\n      <g transform=\"translate(329.353977 173.980256)scale(0.1 -0.1)\">\n       <use xlink:href=\"#DejaVuSans-56\"/>\n      </g>\n     </g>\n    </g>\n   </g>\n   <g id=\"matplotlib.axis_4\">\n    <g id=\"ytick_6\">\n     <g id=\"line2d_16\">\n      <g>\n       <use style=\"stroke:#000000;stroke-width:0.8;\" x=\"203.180682\" xlink:href=\"#mf4cb2f16e1\" y=\"14.809091\"/>\n      </g>\n     </g>\n     <g id=\"text_16\">\n      <!-- 0 -->\n      <g transform=\"translate(189.818182 18.60831)scale(0.1 -0.1)\">\n       <use xlink:href=\"#DejaVuSans-48\"/>\n      </g>\n     </g>\n    </g>\n    <g id=\"ytick_7\">\n     <g id=\"line2d_17\">\n      <g>\n       <use style=\"stroke:#000000;stroke-width:0.8;\" x=\"203.180682\" xlink:href=\"#mf4cb2f16e1\" y=\"45.245455\"/>\n      </g>\n     </g>\n     <g id=\"text_17\">\n      <!-- 2 -->\n      <g transform=\"translate(189.818182 49.044673)scale(0.1 -0.1)\">\n       <use xlink:href=\"#DejaVuSans-50\"/>\n      </g>\n     </g>\n    </g>\n    <g id=\"ytick_8\">\n     <g id=\"line2d_18\">\n      <g>\n       <use style=\"stroke:#000000;stroke-width:0.8;\" x=\"203.180682\" xlink:href=\"#mf4cb2f16e1\" y=\"75.681818\"/>\n      </g>\n     </g>\n     <g id=\"text_18\">\n      <!-- 4 -->\n      <g transform=\"translate(189.818182 79.481037)scale(0.1 -0.1)\">\n       <use xlink:href=\"#DejaVuSans-52\"/>\n      </g>\n     </g>\n    </g>\n    <g id=\"ytick_9\">\n     <g id=\"line2d_19\">\n      <g>\n       <use style=\"stroke:#000000;stroke-width:0.8;\" x=\"203.180682\" xlink:href=\"#mf4cb2f16e1\" y=\"106.118182\"/>\n      </g>\n     </g>\n     <g id=\"text_19\">\n      <!-- 6 -->\n      <g transform=\"translate(189.818182 109.917401)scale(0.1 -0.1)\">\n       <use xlink:href=\"#DejaVuSans-54\"/>\n      </g>\n     </g>\n    </g>\n    <g id=\"ytick_10\">\n     <g id=\"line2d_20\">\n      <g>\n       <use style=\"stroke:#000000;stroke-width:0.8;\" x=\"203.180682\" xlink:href=\"#mf4cb2f16e1\" y=\"136.554545\"/>\n      </g>\n     </g>\n     <g id=\"text_20\">\n      <!-- 8 -->\n      <g transform=\"translate(189.818182 140.353764)scale(0.1 -0.1)\">\n       <use xlink:href=\"#DejaVuSans-56\"/>\n      </g>\n     </g>\n    </g>\n   </g>\n   <g id=\"patch_8\">\n    <path d=\"M 203.180682 159.381818 \nL 203.180682 7.2 \n\" style=\"fill:none;stroke:#000000;stroke-linecap:square;stroke-linejoin:miter;stroke-width:0.8;\"/>\n   </g>\n   <g id=\"patch_9\">\n    <path d=\"M 355.3625 159.381818 \nL 355.3625 7.2 \n\" style=\"fill:none;stroke:#000000;stroke-linecap:square;stroke-linejoin:miter;stroke-width:0.8;\"/>\n   </g>\n   <g id=\"patch_10\">\n    <path d=\"M 203.180682 159.381818 \nL 355.3625 159.381818 \n\" style=\"fill:none;stroke:#000000;stroke-linecap:square;stroke-linejoin:miter;stroke-width:0.8;\"/>\n   </g>\n   <g id=\"patch_11\">\n    <path d=\"M 203.180682 7.2 \nL 355.3625 7.2 \n\" style=\"fill:none;stroke:#000000;stroke-linecap:square;stroke-linejoin:miter;stroke-width:0.8;\"/>\n   </g>\n  </g>\n </g>\n <defs>\n  <clipPath id=\"p25799a5f71\">\n   <rect height=\"152.181818\" width=\"152.181818\" x=\"20.5625\" y=\"7.2\"/>\n  </clipPath>\n  <clipPath id=\"p05136c7aee\">\n   <rect height=\"152.181818\" width=\"152.181818\" x=\"203.180682\" y=\"7.2\"/>\n  </clipPath>\n </defs>\n</svg>\n",
      "text/plain": "<Figure size 432x288 with 2 Axes>"
     },
     "metadata": {
      "needs_background": "light"
     },
     "output_type": "display_data"
    },
    {
     "name": "stdout",
     "output_type": "stream",
     "text": "count     1.000000e+02\nmean     8.080464e+177\nstd                inf\nmin     -2.664855e+177\n25%      4.139862e+175\n50%      3.043234e+177\n75%      9.257098e+177\nmax      7.242988e+178\ndtype: float64\n"
    }
   ],
   "source": [
    "origin_x.detach()\n",
    "o_x = origin_x.detach().numpy()\n",
    "# plt.imshow(x.numpy())\n",
    "plt.subplot(1,2,1)\n",
    "plt.imshow(x.reshape(10,10))\n",
    "plt.subplot(1,2,2)\n",
    "plt.imshow(o_x.reshape(10,10))\n",
    "plt.show()\n",
    "# print(o_x.describe())\n",
    "print(pd.Series(o_x).describe())"
   ]
  },
  {
   "cell_type": "code",
   "execution_count": null,
   "metadata": {},
   "outputs": [],
   "source": [
    "print(train_set.shape)"
   ]
  },
  {
   "cell_type": "code",
   "execution_count": 64,
   "metadata": {},
   "outputs": [
    {
     "ename": "RuntimeError",
     "evalue": "grad can be implicitly created only for scalar outputs",
     "output_type": "error",
     "traceback": [
      "\u001b[0;31m---------------------------------------------------------------------------\u001b[0m",
      "\u001b[0;31mRuntimeError\u001b[0m                              Traceback (most recent call last)",
      "\u001b[0;32m<ipython-input-64-c2aed6412014>\u001b[0m in \u001b[0;36m<module>\u001b[0;34m\u001b[0m\n\u001b[1;32m     10\u001b[0m     \u001b[0mb_pred\u001b[0m \u001b[0;34m=\u001b[0m \u001b[0mtorch\u001b[0m\u001b[0;34m.\u001b[0m\u001b[0mmv\u001b[0m\u001b[0;34m(\u001b[0m\u001b[0mA\u001b[0m\u001b[0;34m,\u001b[0m\u001b[0mx\u001b[0m\u001b[0;34m)\u001b[0m\u001b[0;34m\u001b[0m\u001b[0;34m\u001b[0m\u001b[0m\n\u001b[1;32m     11\u001b[0m     \u001b[0mloss\u001b[0m \u001b[0;34m=\u001b[0m \u001b[0mloss_fn\u001b[0m\u001b[0;34m(\u001b[0m\u001b[0mb_pred\u001b[0m\u001b[0;34m,\u001b[0m\u001b[0mb\u001b[0m\u001b[0;34m)\u001b[0m\u001b[0;34m\u001b[0m\u001b[0;34m\u001b[0m\u001b[0m\n\u001b[0;32m---> 12\u001b[0;31m     \u001b[0mloss\u001b[0m\u001b[0;34m.\u001b[0m\u001b[0mbackward\u001b[0m\u001b[0;34m(\u001b[0m\u001b[0;34m)\u001b[0m\u001b[0;34m\u001b[0m\u001b[0;34m\u001b[0m\u001b[0m\n\u001b[0m\u001b[1;32m     13\u001b[0m     \u001b[0moptimizer\u001b[0m\u001b[0;34m.\u001b[0m\u001b[0mstep\u001b[0m\u001b[0;34m(\u001b[0m\u001b[0;34m)\u001b[0m\u001b[0;34m\u001b[0m\u001b[0;34m\u001b[0m\u001b[0m\n\u001b[1;32m     14\u001b[0m     \u001b[0;32mif\u001b[0m \u001b[0mepoch\u001b[0m \u001b[0;34m%\u001b[0m \u001b[0;36m5\u001b[0m \u001b[0;34m==\u001b[0m \u001b[0;36m0\u001b[0m\u001b[0;34m:\u001b[0m\u001b[0;34m\u001b[0m\u001b[0;34m\u001b[0m\u001b[0m\n",
      "\u001b[0;32m~/.pyenv/versions/anaconda3-2019.03/envs/skleran23/lib/python3.7/site-packages/torch/tensor.py\u001b[0m in \u001b[0;36mbackward\u001b[0;34m(self, gradient, retain_graph, create_graph)\u001b[0m\n\u001b[1;32m    193\u001b[0m                 \u001b[0mproducts\u001b[0m\u001b[0;34m.\u001b[0m \u001b[0mDefaults\u001b[0m \u001b[0mto\u001b[0m\u001b[0;31m \u001b[0m\u001b[0;31m`\u001b[0m\u001b[0;31m`\u001b[0m\u001b[0;32mFalse\u001b[0m\u001b[0;31m`\u001b[0m\u001b[0;31m`\u001b[0m\u001b[0;34m.\u001b[0m\u001b[0;34m\u001b[0m\u001b[0;34m\u001b[0m\u001b[0m\n\u001b[1;32m    194\u001b[0m         \"\"\"\n\u001b[0;32m--> 195\u001b[0;31m         \u001b[0mtorch\u001b[0m\u001b[0;34m.\u001b[0m\u001b[0mautograd\u001b[0m\u001b[0;34m.\u001b[0m\u001b[0mbackward\u001b[0m\u001b[0;34m(\u001b[0m\u001b[0mself\u001b[0m\u001b[0;34m,\u001b[0m \u001b[0mgradient\u001b[0m\u001b[0;34m,\u001b[0m \u001b[0mretain_graph\u001b[0m\u001b[0;34m,\u001b[0m \u001b[0mcreate_graph\u001b[0m\u001b[0;34m)\u001b[0m\u001b[0;34m\u001b[0m\u001b[0;34m\u001b[0m\u001b[0m\n\u001b[0m\u001b[1;32m    196\u001b[0m \u001b[0;34m\u001b[0m\u001b[0m\n\u001b[1;32m    197\u001b[0m     \u001b[0;32mdef\u001b[0m \u001b[0mregister_hook\u001b[0m\u001b[0;34m(\u001b[0m\u001b[0mself\u001b[0m\u001b[0;34m,\u001b[0m \u001b[0mhook\u001b[0m\u001b[0;34m)\u001b[0m\u001b[0;34m:\u001b[0m\u001b[0;34m\u001b[0m\u001b[0;34m\u001b[0m\u001b[0m\n",
      "\u001b[0;32m~/.pyenv/versions/anaconda3-2019.03/envs/skleran23/lib/python3.7/site-packages/torch/autograd/__init__.py\u001b[0m in \u001b[0;36mbackward\u001b[0;34m(tensors, grad_tensors, retain_graph, create_graph, grad_variables)\u001b[0m\n\u001b[1;32m     91\u001b[0m         \u001b[0mgrad_tensors\u001b[0m \u001b[0;34m=\u001b[0m \u001b[0mlist\u001b[0m\u001b[0;34m(\u001b[0m\u001b[0mgrad_tensors\u001b[0m\u001b[0;34m)\u001b[0m\u001b[0;34m\u001b[0m\u001b[0;34m\u001b[0m\u001b[0m\n\u001b[1;32m     92\u001b[0m \u001b[0;34m\u001b[0m\u001b[0m\n\u001b[0;32m---> 93\u001b[0;31m     \u001b[0mgrad_tensors\u001b[0m \u001b[0;34m=\u001b[0m \u001b[0m_make_grads\u001b[0m\u001b[0;34m(\u001b[0m\u001b[0mtensors\u001b[0m\u001b[0;34m,\u001b[0m \u001b[0mgrad_tensors\u001b[0m\u001b[0;34m)\u001b[0m\u001b[0;34m\u001b[0m\u001b[0;34m\u001b[0m\u001b[0m\n\u001b[0m\u001b[1;32m     94\u001b[0m     \u001b[0;32mif\u001b[0m \u001b[0mretain_graph\u001b[0m \u001b[0;32mis\u001b[0m \u001b[0;32mNone\u001b[0m\u001b[0;34m:\u001b[0m\u001b[0;34m\u001b[0m\u001b[0;34m\u001b[0m\u001b[0m\n\u001b[1;32m     95\u001b[0m         \u001b[0mretain_graph\u001b[0m \u001b[0;34m=\u001b[0m \u001b[0mcreate_graph\u001b[0m\u001b[0;34m\u001b[0m\u001b[0;34m\u001b[0m\u001b[0m\n",
      "\u001b[0;32m~/.pyenv/versions/anaconda3-2019.03/envs/skleran23/lib/python3.7/site-packages/torch/autograd/__init__.py\u001b[0m in \u001b[0;36m_make_grads\u001b[0;34m(outputs, grads)\u001b[0m\n\u001b[1;32m     32\u001b[0m             \u001b[0;32mif\u001b[0m \u001b[0mout\u001b[0m\u001b[0;34m.\u001b[0m\u001b[0mrequires_grad\u001b[0m\u001b[0;34m:\u001b[0m\u001b[0;34m\u001b[0m\u001b[0;34m\u001b[0m\u001b[0m\n\u001b[1;32m     33\u001b[0m                 \u001b[0;32mif\u001b[0m \u001b[0mout\u001b[0m\u001b[0;34m.\u001b[0m\u001b[0mnumel\u001b[0m\u001b[0;34m(\u001b[0m\u001b[0;34m)\u001b[0m \u001b[0;34m!=\u001b[0m \u001b[0;36m1\u001b[0m\u001b[0;34m:\u001b[0m\u001b[0;34m\u001b[0m\u001b[0;34m\u001b[0m\u001b[0m\n\u001b[0;32m---> 34\u001b[0;31m                     \u001b[0;32mraise\u001b[0m \u001b[0mRuntimeError\u001b[0m\u001b[0;34m(\u001b[0m\u001b[0;34m\"grad can be implicitly created only for scalar outputs\"\u001b[0m\u001b[0;34m)\u001b[0m\u001b[0;34m\u001b[0m\u001b[0;34m\u001b[0m\u001b[0m\n\u001b[0m\u001b[1;32m     35\u001b[0m                 \u001b[0mnew_grads\u001b[0m\u001b[0;34m.\u001b[0m\u001b[0mappend\u001b[0m\u001b[0;34m(\u001b[0m\u001b[0mtorch\u001b[0m\u001b[0;34m.\u001b[0m\u001b[0mones_like\u001b[0m\u001b[0;34m(\u001b[0m\u001b[0mout\u001b[0m\u001b[0;34m,\u001b[0m \u001b[0mmemory_format\u001b[0m\u001b[0;34m=\u001b[0m\u001b[0mtorch\u001b[0m\u001b[0;34m.\u001b[0m\u001b[0mpreserve_format\u001b[0m\u001b[0;34m)\u001b[0m\u001b[0;34m)\u001b[0m\u001b[0;34m\u001b[0m\u001b[0;34m\u001b[0m\u001b[0m\n\u001b[1;32m     36\u001b[0m             \u001b[0;32melse\u001b[0m\u001b[0;34m:\u001b[0m\u001b[0;34m\u001b[0m\u001b[0;34m\u001b[0m\u001b[0m\n",
      "\u001b[0;31mRuntimeError\u001b[0m: grad can be implicitly created only for scalar outputs"
     ]
    }
   ],
   "source": [
    "A = Variable(torch.randn(50,100,dtype=float),requires_grad=True)\n",
    "b = Variable(torch.tensor(b,dtype=float))\n",
    "x = Variable(torch.tensor(x,dtype=float))\n",
    "\n",
    "optimizer = optim.SGD([A],lr=0.01)\n",
    "\n",
    "num_epochs = 10000\n",
    "for epoch in range(num_epochs):\n",
    "    optimizer.zero_grad()\n",
    "    b_pred = torch.mv(A,x)\n",
    "    loss = ((b_pred-b)**2).sum()\n",
    "    loss.backward()\n",
    "    optimizer.step()\n",
    "    if epoch % 5 == 0:\n",
    "        print(epoch,loss)\n",
    "\n",
    "b_pred = torch.mv(A,x)\n",
    "print(b_pred)\n",
    "print(\"A:\\n\",A)"
   ]
  },
  {
   "cell_type": "code",
   "execution_count": null,
   "metadata": {},
   "outputs": [],
   "source": [
    "origin_x = Variable(torch.randn(100,dtype=float),requires_grad=True)\n",
    "optimizer = optim.SGD([origin_x],lr=0.01)\n",
    "\n",
    "num_epochs = 1\n",
    "for epoch in range(num_epochs):\n",
    "    optimizer.zero_grad()\n",
    "    b_pred = torch.mv(A,origin_x)\n",
    "    loss = ((b_pred-b)**2).sum()\n",
    "    loss.backward()\n",
    "    optimizer.step()\n",
    "\n",
    "    if epoch % 5 == 0:\n",
    "        print(epoch,loss)"
   ]
  },
  {
   "cell_type": "code",
   "execution_count": null,
   "metadata": {},
   "outputs": [],
   "source": [
    "origin_xx = Variable(torch.randn(100,dtype=float))\n",
    "plt.imshow(origin_xx.reshape(10,10))\n",
    "plt.show()"
   ]
  },
  {
   "cell_type": "code",
   "execution_count": null,
   "metadata": {},
   "outputs": [],
   "source": [
    "plt.subplot(1,2,1)\n",
    "plt.imshow(x.reshape(10,10))\n",
    "plt.subplot(1,2,2)\n",
    "plt.imshow(origin_x.detach().reshape(10,10))\n",
    "plt.show()"
   ]
  },
  {
   "cell_type": "code",
   "execution_count": null,
   "metadata": {},
   "outputs": [],
   "source": []
  }
 ]
}