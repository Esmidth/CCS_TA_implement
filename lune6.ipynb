{
 "nbformat": 4,
 "nbformat_minor": 2,
 "metadata": {
  "language_info": {
   "name": "python",
   "codemirror_mode": {
    "name": "ipython",
    "version": 3
   },
   "version": "3.8.1-final"
  },
  "orig_nbformat": 2,
  "file_extension": ".py",
  "mimetype": "text/x-python",
  "name": "python",
  "npconvert_exporter": "python",
  "pygments_lexer": "ipython3",
  "version": 3,
  "kernelspec": {
   "name": "python38164bitksvdconda6705ad8a9fcd4e0bb5affd2c5dde61db",
   "display_name": "Python 3.8.1 64-bit ('ksvd': conda)"
  }
 },
 "cells": [
  {
   "cell_type": "code",
   "execution_count": 1,
   "metadata": {},
   "outputs": [],
   "source": [
    "%matplotlib inline\n",
    "import numpy as np\n",
    "import pandas as pd\n",
    "import os,sys\n",
    "import utils\n",
    "import matplotlib.pyplot as plt\n",
    "from consts import sensor_lat as lat\n",
    "from consts import sensor_log as log\n",
    "from consts import valid_sensor_res_10 as valid_sensor_list\n",
    "from consts import sensor_day_seconds as day_seconds\n",
    "from consts import sensor_week_seconds as week_seconds \n",
    "from consts import sensor_start_time_unix as start_time\n",
    "from consts import sensor_end_time_unix as end_time\n",
    "from consts import sensor_epoch_length as epoch_length\n",
    "import consts\n",
    "from numpy import array\n",
    "import time"
   ]
  },
  {
   "cell_type": "code",
   "execution_count": null,
   "metadata": {},
   "outputs": [],
   "source": [
    "print(consts.sensor_start_time_unix)"
   ]
  },
  {
   "cell_type": "code",
   "execution_count": 3,
   "metadata": {},
   "outputs": [],
   "source": [
    "df = pd.read_hdf('optimal.h5','df')"
   ]
  },
  {
   "cell_type": "code",
   "execution_count": 2,
   "metadata": {},
   "outputs": [],
   "source": [
    "start_time = 1172678400\n",
    "df = pd.read_hdf('data.h5','df_sub')"
   ]
  },
  {
   "cell_type": "code",
   "execution_count": 6,
   "metadata": {},
   "outputs": [],
   "source": [
    "unix_column = 'Time since the epoch [s]'\n",
    "idd = 'Station ID'"
   ]
  },
  {
   "cell_type": "code",
   "execution_count": 6,
   "metadata": {},
   "outputs": [
    {
     "data": {
      "text/plain": "(994276, 12)"
     },
     "execution_count": 6,
     "metadata": {},
     "output_type": "execute_result"
    }
   ],
   "source": [
    "df.shape"
   ]
  },
  {
   "cell_type": "code",
   "execution_count": 25,
   "metadata": {},
   "outputs": [],
   "source": [
    "start_time = 1174492800"
   ]
  },
  {
   "cell_type": "code",
   "execution_count": 7,
   "metadata": {},
   "outputs": [
    {
     "data": {
      "text/plain": "Index(['Station ID', 'Year', 'Month', 'Day', 'Hour', 'Minute', 'Second',\n       'Time since the epoch [s]', 'Sequence Number', 'Ambient Temperature',\n       'Surface Temperature', 'Relative Humidity [%]'],\n      dtype='object')"
     },
     "execution_count": 7,
     "metadata": {},
     "output_type": "execute_result"
    }
   ],
   "source": [
    "df.columns"
   ]
  },
  {
   "cell_type": "code",
   "execution_count": 27,
   "metadata": {},
   "outputs": [],
   "source": [
    "time_stamps = np.arange(start_time,start_time+week_seconds+epoch_length,epoch_length)"
   ]
  },
  {
   "cell_type": "code",
   "execution_count": 8,
   "metadata": {},
   "outputs": [
    {
     "name": "stdout",
     "output_type": "stream",
     "text": "[82]\n[82]\n[82]\n[71 82]\n[71 82]\n[19 71 82]\n[19 71 82]\n[19 71 82]\n[19 71 82]\n[19 71 82]\n[19 71 82]\n[19 71 82]\n[19 71 82]\n[19 71 82]\n[19 71 82]\n[19 71 82]\n[19 71 82]\n[19 71 82]\n[19 71 82]\n[19 71 82]\n[19 71 82]\n[19 71 82]\n[19 71 82]\n[19 71 82]\n[19 71 82]\n[19 71 82]\n[19 71 82]\n[19 71 82]\n[19 71 82]\n[19 71 82]\n[19 71 82]\n[71 82]\n[71 82]\n[71 82]\n[71 82]\n[71 82]\n[71 82]\n[71 82]\n[71 82]\n[71 82]\n[71 82]\n[71 82]\n[71 82]\n[71 82]\n[71 82]\n[71 82]\n[71 82]\n[71 82]\n[71 82]\n[71 82]\n[71 82]\n[71 82]\n[71 82]\n[71 82]\n[71 82]\n[59 71 82 98]\n[71 82 98]\n[71 82 98]\n[71 82 98]\n[71 82 98]\n[71 82 98]\n[71 82 98]\n[71 82 98]\n[71 82 98]\n[71 82 98]\n[71 82 98]\n[71 82 98]\n[71 82 98]\n[71 82 98]\n[71 82 98]\n[71 82 98]\n[71 82 98]\n[71 82 98]\n[71 82 98]\n[71 82 98]\n[71 82 98]\n[71 82 98]\n[71 82 98]\n[71 82 98]\n[71 82 98]\n[71 82 98]\n[71 82 98]\n[71 82 98]\n[71 82 98]\n[71 82 98]\n[71 82 98]\n[71 82 98]\n[71 82 98]\n[71 82 98]\n[71 82]\n[71 82]\n[71 82]\n[71 82]\n[71 82]\n[71 82]\n[71 82]\n[71 82]\n[71 82]\n[71 82]\n[71 82]\n[71 82]\n[71 82]\n[71 82]\n[71 82]\n[71 82]\n[71 82]\n[71 82]\n[71 82]\n[71 82]\n[71 82]\n[71 82]\n[71 82]\n[71 82]\n[71 82]\n[71 82]\n[71 82]\n[71 82]\n[71 82]\n[71 82]\n[71 82]\n[71 82]\n[71 73 82]\n[71 73 82]\n[71 73 82]\n[71 73 82]\n[71 73 82]\n[71 73 82]\n[71 73 82]\n[71 73 82]\n[71 73 82]\n[71 73 82]\n[71 82]\n[71 82]\n[71 82]\n[71 82]\n[71 82]\n[71 82]\n[71 82]\n[14 71 82]\n[14 71 82]\n[14 71 82]\n[14 71 82]\n[14 71 82]\n[14 71 82]\n[14 71 82]\n[14 71 82]\n[14 71 82]\n[14 71 82]\n[14 71 82]\n[14 71 82]\n[14 71 82]\n[14 71 82]\n[14 71 82]\n[14 71 82]\n[14 71 82]\n[14 71 82]\n[14 71 82]\n[14 71 82]\n[14 71 82]\n[14 71 82]\n[14 71 82]\n[14 71 82]\n[14 71 82]\n[14 71 82]\n[14 71 82]\n[14 71 82]\n[14 71 82]\n[14 71 82]\n[14 71 82]\n[14 71 82]\n[14 71 82 98]\n[14 71 82 98]\n[14 71 82 98]\n[14 71 82 98]\n[14 71 82 98]\n[14 71 82 98]\n[14 71 82 98]\n[14 71 82 98]\n[14 71 82 98]\n[14 71 82 98]\n[14 71 82 98]\n[14 71 82 98]\n[14 71 82 98]\n[14 71 82 98]\n[14 71 82 98]\n[14 71 82 98]\n[14 71 82 98]\n[14 71 82 98]\n[14 71 82 98]\n[14 71 82 98]\n[14 71 82 98]\n[14 71 82 98]\n[14 71 82 98]\n[14 71 82 98]\n[14 71 82 98]\n[14 71 82 98]\n[14 59 71 82 98]\n[14 71 82 98]\n[14 71 82 98]\n[14 71 82 98]\n[14 71 82 98]\n[14 71 82 98]\n[14 71 82 98]\n[14 71 82 98]\n[14 71 82 98]\n[14 71 82 98]\n[14 71 82 98]\n[14 71 82 98]\n[14 71 82 98]\n[14 71 82 98]\n[14 71 82 98]\n[14 71 82 98]\n[14 71 82 98]\n[14 71 82 98]\n[14 71 82 98]\n[14 71 82 98]\n[14 71 82 98]\n[14 71 82 98]\n[14 71 82 98]\n[14 69 71 82 98]\n[14 69 71 82 98]\n[14 69 71 82 98]\n[14 69 71 82 98]\n[14 69 71 82 98]\n[14 69 71 82 98]\n[14 69 71 82 98]\n[14 69 71 82 98]\n[14 69 71 82 98]\n[14 69 71 82 98]\n[14 69 71 82 98]\n[14 69 71 82 98]\n[14 69 71 82 98]\n[14 69 71 82 98]\n[14 69 71 82 98]\n[14 69 81 82 98]\n[14 69 82 98]\n[14 69 82 98]\n[14 69 82 98]\n[14 69 82 98]\n[14 69 82 98]\n[14 69 82 98]\n[14 69 82 98]\n[14 69 82 98]\n[14 69 82 98]\n[14 69 82 98]\n[14 69 71 82 98]\n[14 69 71 82 98]\n[14 69 71 82 98]\n[14 69 71 82 98]\n[14 69 71 82 98]\n[14 69 71 82 98]\n[14 69 71 82 98]\n[14 69 71 82 98]\n[14 69 71 82 98]\n[14 69 71 82 98]\n[14 69 71 82 98]\n[14 69 71 82 98]\n[14 69 71 82 98]\n[14 69 71 82 98]\n[14 69 71 82 98]\n[14 69 71 82 98]\n[14 69 71 82 98]\n[14 69 71 82 98]\n[14 69 71 82 98]\n[14 69 71 82 98]\n[14 69 71 82 98]\n[14 69 71 82 98]\n[14 69 71 82 98]\n[14 69 71 82 98]\n[14 69 71 82 98]\n[14 69 71 82 98]\n[14 69 71 82 98]\n[14 69 71 82 98]\n[14 69 71 82 98]\n[14 71 82 98]\n[14 71 82 98]\n[14 71 82 98]\n[14 71 82 98]\n[71 82 98]\n[82]\n[82]\n[82]\n[81 82 98]\n[81 82 98]\n[81 82 98]\n[81 82 98]\n[82 98]\n[ 82  98 121]\n[82 98]\n[82 98]\n[82 98]\n[82 98]\n[82 98]\n[82 98]\n[82 98]\n[71 82 98]\n[71 82 98]\n[71 82 98]\n[71 82 98]\n[71 82 98]\n[71 82 98]\n[71 82 98]\n[71 82 98]\n[71 82 98]\n[71 82 98]\n[71 82 98]\n[71 82 98]\n[71 82 98]\n[71 82 98]\n[71 82 98]\n[71 82 98]\n[71 82 98]\n[71 82 98]\n[71 82 98]\n[71 82 98]\n[71 82 98]\n[71 82 98]\n[71 82 98]\n[71 82 98]\n[71 82 98]\n[71 82 98]\n[71 82 98]\n[71 82 98]\n[71 82 98]\n[71 82 98]\n[71 82 98]\n[82 98]\n[82 98]\n[82 98]\n[81 82 98]\n[81 82 98]\n[81 82 98]\n[81 82 98]\n[81 82 98]\n[ 82 121]\n[ 82 121]\n926.1276794035415\nvar: 1.001266652494331 \t std: 1.0006331258230117 \n"
    },
    {
     "data": {
      "text/plain": "1073"
     },
     "execution_count": 8,
     "metadata": {},
     "output_type": "execute_result"
    }
   ],
   "source": [
    "start_time = 1174406400\n",
    "time_stamps = np.arange(start_time,start_time+week_seconds+epoch_length,epoch_length)\n",
    "coverage_test(df,time_stamps,valid_sensor_list)\n",
    "# 3-21"
   ]
  },
  {
   "cell_type": "code",
   "execution_count": 8,
   "metadata": {},
   "outputs": [
    {
     "name": "stdout",
     "output_type": "stream",
     "text": "[71]\n[71]\n[71]\n[71]\n[71]\n[71]\n[71]\n[59 71 98]\n[71 98]\n[71 98]\n[71 98]\n[71 98]\n[71 98]\n[71 98]\n[71 98]\n[71 98]\n[71 98]\n[71 98]\n[71 98]\n[71 98]\n[71 98]\n[71 98]\n[71 98]\n[71 98]\n[71 98]\n[71 98]\n[71 98]\n[71 98]\n[71 98]\n[71 98]\n[71 98]\n[71 98]\n[71 98]\n[71 98]\n[71 98]\n[71 98]\n[71 98]\n[71 98]\n[71 98]\n[71 98]\n[71 98]\n[71]\n[71]\n[71]\n[71]\n[71]\n[71]\n[71]\n[71]\n[71]\n[71]\n[71]\n[71]\n[71]\n[71]\n[71]\n[71]\n[71]\n[71]\n[71]\n[71]\n[71]\n[71]\n[71]\n[71]\n[71]\n[71]\n[71]\n[71]\n[71]\n[71]\n[71]\n[71]\n[71 73]\n[71 73]\n[71 73]\n[71 73]\n[71 73]\n[71 73]\n[71 73]\n[71 73]\n[71 73]\n[71 73]\n[71]\n[71]\n[71]\n[71]\n[71]\n[71]\n[71]\n[14 71]\n[14 71]\n[14 71]\n[14 71]\n[14 71]\n[14 71]\n[14 71]\n[14 71]\n[14 71]\n[14 71]\n[14 71]\n[14 71]\n[14 71]\n[14 71]\n[14 71]\n[14 71]\n[14 71]\n[14 71]\n[14 71]\n[14 71]\n[14 71]\n[14 71]\n[14 71]\n[14 71]\n[14 71]\n[14 71]\n[14 71]\n[14 71]\n[14 71]\n[14 71]\n[14 71]\n[14 71]\n[14 71 98]\n[14 71 98]\n[14 71 98]\n[14 71 98]\n[14 71 98]\n[14 71 98]\n[14 71 98]\n[14 71 98]\n[14 71 98]\n[14 71 98]\n[14 71 98]\n[14 71 98]\n[14 71 98]\n[14 71 98]\n[14 71 98]\n[14 71 98]\n[14 71 98]\n[14 71 98]\n[14 71 98]\n[14 71 98]\n[14 71 98]\n[14 71 98]\n[14 71 98]\n[14 71 98]\n[14 71 98]\n[14 71 98]\n[14 59 71 98]\n[14 71 98]\n[14 71 98]\n[14 71 98]\n[14 71 98]\n[14 71 98]\n[14 71 98]\n[14 71 98]\n[14 71 98]\n[14 71 98]\n[14 71 98]\n[14 71 98]\n[14 71 98]\n[14 71 98]\n[14 71 98]\n[14 71 98]\n[14 71 98]\n[14 71 98]\n[14 71 98]\n[14 71 98]\n[14 71 98]\n[14 71 98]\n[14 71 98]\n[14 69 71 98]\n[14 69 71 98]\n[14 69 71 98]\n[14 69 71 98]\n[14 69 71 98]\n[14 69 71 98]\n[14 69 71 98]\n[14 69 71 98]\n[14 69 71 98]\n[14 69 71 98]\n[14 69 71 98]\n[14 69 71 98]\n[14 69 71 98]\n[14 69 71 98]\n[14 69 71 98]\n[14 69 81 98]\n[14 69 98]\n[14 69 98]\n[14 69 98]\n[14 69 98]\n[14 69 98]\n[14 69 98]\n[14 69 98]\n[14 69 98]\n[14 69 98]\n[14 69 98]\n[14 69 71 98]\n[14 69 71 98]\n[14 69 71 98]\n[14 69 71 98]\n[14 69 71 98]\n[14 69 71 98]\n[14 69 71 98]\n[14 69 71 98]\n[14 69 71 98]\n[14 69 71 98]\n[14 69 71 98]\n[14 69 71 98]\n[14 69 71 98]\n[14 69 71 98]\n[14 69 71 98]\n[14 69 71 98]\n[14 69 71 98]\n[14 69 71 98]\n[14 69 71 98]\n[14 69 71 98]\n[14 69 71 98]\n[14 69 71 98]\n[14 69 71 98]\n[14 69 71 98]\n[14 69 71 98]\n[14 69 71 98]\n[14 69 71 98]\n[14 69 71 98]\n[14 69 71 98]\n[14 71 98]\n[14 71 98]\n[14 71 98]\n[14 71 98]\n[71 98]\n[]\n[]\n[]\n[81 98]\n[81 98]\n[81 98]\n[81 98]\n[98]\n[ 98 121]\n[98]\n[98]\n[98]\n[98]\n[98]\n[98]\n[98]\n[71 98]\n[71 98]\n[71 98]\n[71 98]\n[71 98]\n[71 98]\n[71 98]\n[71 98]\n[71 98]\n[71 98]\n[71 98]\n[71 98]\n[71 98]\n[71 98]\n[71 98]\n[71 98]\n[71 98]\n[71 98]\n[71 98]\n[71 98]\n[71 98]\n[71 98]\n[71 98]\n[71 98]\n[71 98]\n[71 98]\n[71 98]\n[71 98]\n[71 98]\n[71 98]\n[71 98]\n[98]\n[98]\n[98]\n[81 98]\n[81 98]\n[81 98]\n[81 98]\n[81 98]\n[121]\n[121]\n[]\n[]\n[]\n[]\n[]\n[]\n[]\n[]\n[]\n[]\n[71]\n[71]\n[71]\n[71]\n[71]\n[71]\n[71]\n[71]\n[71 98]\n[71 98]\n[71 98]\n[71 98]\n[71 98]\n[71 98]\n[71 98]\n[71 98]\n[71 98]\n[71 98]\n[71 98]\n[71 98]\n[71 98]\n[71 98]\n[71 98]\n[71 98]\n[71 98]\n[71 98]\n[71 98]\n[98]\n[98]\n[98]\n[98]\n[81 98]\n[81 98]\n[81 98]\n[81 98]\n[98]\n[ 98 121]\n[ 98 121]\n1359.1179698216736\nvar: 1.0753879676870748 \t std: 1.037009145421136 \n"
    },
    {
     "data": {
      "text/plain": "729"
     },
     "execution_count": 8,
     "metadata": {},
     "output_type": "execute_result"
    }
   ],
   "source": [
    "start_time = 1174492800\n",
    "time_stamps = np.arange(start_time,start_time+week_seconds+epoch_length,epoch_length)\n",
    "coverage_test(df,time_stamps,valid_sensor_list)\n",
    "# 3-22"
   ]
  },
  {
   "cell_type": "code",
   "execution_count": 7,
   "metadata": {},
   "outputs": [
    {
     "name": "stdout",
     "output_type": "stream",
     "text": "[]\n[]\n[]\n[]\n[]\n[]\n[]\n[]\n[]\n[]\n[]\n[]\n[]\n[]\n[]\n[]\n[]\n[]\n[]\n[]\n[]\n[]\n[]\n[]\n[]\n[]\n[]\n[]\n[]\n[]\n[]\n[]\n[]\n[]\n[]\n[]\n[]\n[]\n[]\n[]\n[]\n[]\n[]\n[]\n[]\n[]\n[]\n[]\n[]\n[]\n[]\n[]\n[]\n[59]\n[59]\n[59]\n[59]\n[59]\n[59]\n[59]\n[59]\n[59]\n[59]\n[59]\n[59]\n[59]\n[59]\n[59]\n[59]\n[59]\n[59]\n[59]\n[59]\n[59]\n[59]\n[59]\n[59]\n[59]\n[59]\n[59]\n[59]\n[59]\n[59]\n[]\n[]\n[]\n[]\n[]\n[]\n[]\n[]\n[]\n[]\n[]\n[]\n[]\n[]\n[]\n[]\n[]\n[]\n[]\n[]\n[]\n[]\n[]\n[]\n[]\n[]\n[]\n[]\n[]\n[]\n[]\n[]\n[]\n[]\n[]\n[]\n[]\n[]\n[]\n[]\n[]\n[]\n[]\n[]\n[]\n[]\n[]\n[]\n[]\n[]\n[]\n[]\n[]\n[]\n[]\n[]\n[]\n[]\n[]\n[]\n[]\n[]\n[]\n[]\n[]\n[]\n[]\n[]\n[]\n[]\n[]\n[]\n[]\n[]\n[]\n[]\n[]\n[]\n[]\n[]\n[]\n[]\n[]\n[]\n[]\n[]\n[]\n[]\n[]\n[]\n[]\n[]\n[]\n[]\n[]\n[]\n[]\n[]\n[]\n[]\n[]\n[]\n[]\n[81]\n[81]\n[]\n[]\n[]\n[79]\n[]\n[79]\n[]\n[]\n[]\n[79]\n[]\n[79]\n[79]\n[79]\n[79]\n[79]\n[79]\n[79]\n[79]\n[79]\n[79]\n[79]\n[]\n[79]\n[79]\n[79]\n[79]\n[79]\n[]\n[]\n[]\n[]\n[]\n[]\n[]\n[]\n[]\n[]\n[]\n[]\n[]\n[]\n[]\n[]\n[]\n[]\n[]\n[]\n[]\n[]\n[]\n[]\n[]\n[]\n[]\n[]\n[]\n[]\n[]\n[]\n[]\n[]\n[]\n[]\n[]\n[]\n[]\n[]\n[]\n[59]\n[59]\n[59]\n[59]\n[59]\n[59]\n[59]\n[59]\n[59]\n[59]\n[59]\n[59]\n[59]\n[59]\n[59]\n[59]\n[59]\n[59]\n[]\n[]\n[]\n[]\n[]\n[]\n[]\n[]\n[]\n[]\n[]\n[]\n[]\n[]\n[]\n[]\n[]\n[]\n[]\n[]\n[]\n[]\n[]\n[]\n[]\n[]\n[]\n[]\n[]\n[]\n[]\n[]\n[104]\n[104]\n[]\n[]\n[]\n[72]\n[72]\n[72]\n[72]\n[72]\n[72]\n[72]\n[72]\n[72]\n[72]\n[72]\n[72]\n[]\n[]\n[55]\n[55]\n[55]\n[55]\n[55]\n[55]\n[55 81]\n[]\n[]\n[]\n10793.945054945056\nvar: 0.20343501984126985 \t std: 0.4510377144333607\n"
    },
    {
     "data": {
      "text/plain": "91"
     },
     "execution_count": 7,
     "metadata": {},
     "output_type": "execute_result"
    }
   ],
   "source": [
    "start_time = 1172678400\n",
    "time_stamps = np.arange(start_time,start_time+week_seconds+epoch_length,epoch_length)\n",
    "coverage_test(df,time_stamps,valid_sensor_list)\n",
    "# 3-1"
   ]
  },
  {
   "cell_type": "code",
   "execution_count": 9,
   "metadata": {},
   "outputs": [],
   "source": [
    "end_time = start_time+week_seconds"
   ]
  },
  {
   "cell_type": "code",
   "execution_count": 10,
   "metadata": {},
   "outputs": [],
   "source": [
    "optimal_df = df[(df[unix_column] > start_time) & (df[unix_column] < end_time)]"
   ]
  },
  {
   "cell_type": "code",
   "execution_count": 11,
   "metadata": {},
   "outputs": [
    {
     "name": "stdout",
     "output_type": "stream",
     "text": "(991342, 12)\n"
    }
   ],
   "source": [
    "print(optimal_df.shape)"
   ]
  },
  {
   "cell_type": "code",
   "execution_count": 12,
   "metadata": {},
   "outputs": [],
   "source": [
    "optimal_df.to_hdf('optimal.h5',key='optimal_df',mode='a')"
   ]
  },
  {
   "cell_type": "code",
   "execution_count": 7,
   "metadata": {},
   "outputs": [
    {
     "name": "stdout",
     "output_type": "stream",
     "text": "44\n"
    }
   ],
   "source": [
    "print(len(valid_sensor_list))"
   ]
  },
  {
   "cell_type": "code",
   "execution_count": 8,
   "metadata": {},
   "outputs": [
    {
     "name": "stdout",
     "output_type": "stream",
     "text": "51\n"
    }
   ],
   "source": [
    "print(len(consts.valid_sensor_res_10_old))"
   ]
  },
  {
   "cell_type": "code",
   "execution_count": null,
   "metadata": {},
   "outputs": [],
   "source": [
    "start_time = 1172678400\n",
    "time_stamps = np.arange(start_time,start_time+week_seconds+epoch_length,epoch_length)\n",
    "coverage_test(df,time_stamps,valid_sensor_list)\n",
    "# 3-1"
   ]
  },
  {
   "cell_type": "code",
   "execution_count": 8,
   "metadata": {},
   "outputs": [
    {
     "name": "stdout",
     "output_type": "stream",
     "text": "<class 'pandas.core.frame.DataFrame'>\nInt64Index: 994276 entries, 3042 to 926905\nData columns (total 12 columns):\n #   Column                    Non-Null Count   Dtype  \n---  ------                    --------------   -----  \n 0   Station ID                994276 non-null  int64  \n 1   Year                      994276 non-null  int64  \n 2   Month                     994276 non-null  int64  \n 3   Day                       994276 non-null  int64  \n 4   Hour                      994276 non-null  int64  \n 5   Minute                    994276 non-null  int64  \n 6   Second                    994276 non-null  int64  \n 7   Time since the epoch [s]  994276 non-null  int64  \n 8   Sequence Number           994276 non-null  int64  \n 9   Ambient Temperature       970015 non-null  float64\n 10  Surface Temperature       973443 non-null  float64\n 11  Relative Humidity [%]     970695 non-null  float64\ndtypes: float64(3), int64(9)\nmemory usage: 98.6 MB\n"
    }
   ],
   "source": [
    "df.info(memory_usage='deep')"
   ]
  },
  {
   "cell_type": "code",
   "execution_count": 4,
   "metadata": {},
   "outputs": [],
   "source": [
    "def coverage_test(df,time_stamps,valid_sensor_list):\n",
    "    error = 0\n",
    "    diff_list = []\n",
    "    # all_np_list = []\n",
    "    sub_df_num  = 0\n",
    "    for i in range(len(time_stamps)-1):\n",
    "        # print(i)\n",
    "        # print(time_stamps[i],time_stamps[i+1])\n",
    "        sub_df = df[(df[unix_column] > time_stamps[i]) & (df[unix_column] < time_stamps[i+1])]\n",
    "        sensor_list = sub_df[idd].values\n",
    "        uniq = np.unique(sensor_list)\n",
    "        diff = np.setdiff1d(valid_sensor_list,uniq)    \n",
    "        # np_court = all_np(sensor_list)\n",
    "        # all_np_list.append(np_court)\n",
    "        error += len(diff)\n",
    "        diff_list.append(len(diff))\n",
    "        print(diff)\n",
    "        sub_df_num += len(sub_df)\n",
    "    print(sub_df_num/error)\n",
    "    diff_list = np.array(diff_list)\n",
    "    print(\"var: {0} \\t std: {1} \".format(diff_list.var(),diff_list.std()))\n",
    "    return error"
   ]
  }
 ]
}