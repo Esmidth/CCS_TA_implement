{
 "cells": [
  {
   "cell_type": "code",
   "execution_count": 2,
   "metadata": {},
   "outputs": [],
   "source": [
    "%matplotlib inline\n",
    "import numpy as np\n",
    "import pandas as pd\n",
    "import os,sys\n",
    "import utilities\n",
    "import matplotlib.pyplot as plt\n",
    "from consts import sensor_lat as lat\n",
    "from consts import sensor_log as log\n",
    "from consts import valid_sensor_res_10 as valid_sensor_list\n",
    "from consts import sensor_day_seconds as day_seconds\n",
    "from consts import sensor_week_seconds as week_seconds \n",
    "from consts import sensor_start_time_unix as start_time\n",
    "from consts import sensor_end_time_unix as end_time\n",
    "from consts import sensor_epoch_length as epoch_length\n",
    "import consts\n",
    "from numpy import array\n",
    "import time"
   ]
  },
  {
   "cell_type": "code",
   "execution_count": 3,
   "metadata": {
    "tags": []
   },
   "outputs": [
    {
     "output_type": "stream",
     "name": "stdout",
     "text": "1172703600\n"
    }
   ],
   "source": [
    "print(consts.sensor_start_time_unix)"
   ]
  },
  {
   "cell_type": "code",
   "execution_count": 4,
   "metadata": {},
   "outputs": [],
   "source": [
    "start_time = 1172678400\n",
    "df = pd.read_hdf('data.h5','df_sub')"
   ]
  },
  {
   "cell_type": "code",
   "execution_count": 5,
   "metadata": {},
   "outputs": [],
   "source": [
    "unix_column = 'Time since the epoch [s]'\n",
    "idd = 'Station ID'"
   ]
  },
  {
   "cell_type": "code",
   "execution_count": 6,
   "metadata": {},
   "outputs": [
    {
     "output_type": "execute_result",
     "data": {
      "text/plain": "(21797635, 12)"
     },
     "metadata": {},
     "execution_count": 6
    }
   ],
   "source": [
    "df.shape"
   ]
  },
  {
   "cell_type": "code",
   "execution_count": 7,
   "metadata": {},
   "outputs": [],
   "source": [
    "start_time = 1174492800"
   ]
  },
  {
   "cell_type": "code",
   "execution_count": 8,
   "metadata": {},
   "outputs": [
    {
     "output_type": "execute_result",
     "data": {
      "text/plain": "Index([&#39;Station ID&#39;, &#39;Year&#39;, &#39;Month&#39;, &#39;Day&#39;, &#39;Hour&#39;, &#39;Minute&#39;, &#39;Second&#39;,\n       &#39;Time since the epoch [s]&#39;, &#39;Sequence Number&#39;, &#39;Ambient Temperature&#39;,\n       &#39;Surface Temperature&#39;, &#39;Relative Humidity [%]&#39;],\n      dtype=&#39;object&#39;)"
     },
     "metadata": {},
     "execution_count": 8
    }
   ],
   "source": [
    "df.columns"
   ]
  },
  {
   "cell_type": "code",
   "execution_count": 9,
   "metadata": {},
   "outputs": [],
   "source": [
    "time_stamps = np.arange(start_time,start_time+week_seconds+epoch_length,epoch_length)"
   ]
  },
  {
   "cell_type": "code",
   "execution_count": 10,
   "metadata": {},
   "outputs": [
    {
     "output_type": "error",
     "ename": "NameError",
     "evalue": "name &#39;coverage_test&#39; is not defined",
     "traceback": [
      "\u001b[0;31m---------------------------------------------------------------------------\u001b[0m",
      "\u001b[0;31mNameError\u001b[0m                                 Traceback (most recent call last)",
      "\u001b[0;32m&lt;ipython-input-10-14368a6bf8da&gt;\u001b[0m in \u001b[0;36m&lt;module&gt;\u001b[0;34m\u001b[0m\n\u001b[1;32m      1\u001b[0m \u001b[0mstart_time\u001b[0m \u001b[0;34m=\u001b[0m \u001b[0;36m1174406400\u001b[0m\u001b[0;34m\u001b[0m\u001b[0;34m\u001b[0m\u001b[0m\n\u001b[1;32m      2\u001b[0m \u001b[0mtime_stamps\u001b[0m \u001b[0;34m=\u001b[0m \u001b[0mnp\u001b[0m\u001b[0;34m.\u001b[0m\u001b[0marange\u001b[0m\u001b[0;34m(\u001b[0m\u001b[0mstart_time\u001b[0m\u001b[0;34m,\u001b[0m\u001b[0mstart_time\u001b[0m\u001b[0;34m+\u001b[0m\u001b[0mweek_seconds\u001b[0m\u001b[0;34m+\u001b[0m\u001b[0mepoch_length\u001b[0m\u001b[0;34m,\u001b[0m\u001b[0mepoch_length\u001b[0m\u001b[0;34m)\u001b[0m\u001b[0;34m\u001b[0m\u001b[0;34m\u001b[0m\u001b[0m\n\u001b[0;32m----&gt; 3\u001b[0;31m \u001b[0mcoverage_test\u001b[0m\u001b[0;34m(\u001b[0m\u001b[0mdf\u001b[0m\u001b[0;34m,\u001b[0m\u001b[0mtime_stamps\u001b[0m\u001b[0;34m,\u001b[0m\u001b[0mvalid_sensor_list\u001b[0m\u001b[0;34m)\u001b[0m\u001b[0;34m\u001b[0m\u001b[0;34m\u001b[0m\u001b[0m\n\u001b[0m\u001b[1;32m      4\u001b[0m \u001b[0;31m# 3-21\u001b[0m\u001b[0;34m\u001b[0m\u001b[0;34m\u001b[0m\u001b[0;34m\u001b[0m\u001b[0m\n",
      "\u001b[0;31mNameError\u001b[0m: name &#39;coverage_test&#39; is not defined"
     ]
    }
   ],
   "source": [
    "start_time = 1174406400\n",
    "time_stamps = np.arange(start_time,start_time+week_seconds+epoch_length,epoch_length)\n",
    "coverage_test(df,time_stamps,valid_sensor_list)\n",
    "# 3-21"
   ]
  },
  {
   "cell_type": "code",
   "execution_count": 11,
   "metadata": {},
   "outputs": [
    {
     "output_type": "error",
     "ename": "NameError",
     "evalue": "name &#39;coverage_test&#39; is not defined",
     "traceback": [
      "\u001b[0;31m---------------------------------------------------------------------------\u001b[0m",
      "\u001b[0;31mNameError\u001b[0m                                 Traceback (most recent call last)",
      "\u001b[0;32m&lt;ipython-input-11-a5f0a6a48aac&gt;\u001b[0m in \u001b[0;36m&lt;module&gt;\u001b[0;34m\u001b[0m\n\u001b[1;32m      1\u001b[0m \u001b[0mstart_time\u001b[0m \u001b[0;34m=\u001b[0m \u001b[0;36m1174492800\u001b[0m\u001b[0;34m\u001b[0m\u001b[0;34m\u001b[0m\u001b[0m\n\u001b[1;32m      2\u001b[0m \u001b[0mtime_stamps\u001b[0m \u001b[0;34m=\u001b[0m \u001b[0mnp\u001b[0m\u001b[0;34m.\u001b[0m\u001b[0marange\u001b[0m\u001b[0;34m(\u001b[0m\u001b[0mstart_time\u001b[0m\u001b[0;34m,\u001b[0m\u001b[0mstart_time\u001b[0m\u001b[0;34m+\u001b[0m\u001b[0mweek_seconds\u001b[0m\u001b[0;34m+\u001b[0m\u001b[0mepoch_length\u001b[0m\u001b[0;34m,\u001b[0m\u001b[0mepoch_length\u001b[0m\u001b[0;34m)\u001b[0m\u001b[0;34m\u001b[0m\u001b[0;34m\u001b[0m\u001b[0m\n\u001b[0;32m----&gt; 3\u001b[0;31m \u001b[0mcoverage_test\u001b[0m\u001b[0;34m(\u001b[0m\u001b[0mdf\u001b[0m\u001b[0;34m,\u001b[0m\u001b[0mtime_stamps\u001b[0m\u001b[0;34m,\u001b[0m\u001b[0mvalid_sensor_list\u001b[0m\u001b[0;34m)\u001b[0m\u001b[0;34m\u001b[0m\u001b[0;34m\u001b[0m\u001b[0m\n\u001b[0m\u001b[1;32m      4\u001b[0m \u001b[0;31m# 3-22\u001b[0m\u001b[0;34m\u001b[0m\u001b[0;34m\u001b[0m\u001b[0;34m\u001b[0m\u001b[0m\n",
      "\u001b[0;31mNameError\u001b[0m: name &#39;coverage_test&#39; is not defined"
     ]
    }
   ],
   "source": [
    "start_time = 1174492800\n",
    "time_stamps = np.arange(start_time,start_time+week_seconds+epoch_length,epoch_length)\n",
    "coverage_test(df,time_stamps,valid_sensor_list)\n",
    "# 3-22"
   ]
  },
  {
   "cell_type": "code",
   "execution_count": 15,
   "metadata": {},
   "outputs": [],
   "source": [
    "start_time = 1172703600\n",
    "end_time = start_time + week_seconds\n",
    "time_stamps = np.arange(start_time,start_time+week_seconds+epoch_length,epoch_length)\n",
    "# print(time_stamps.shape)\n",
    "# coverage_test(df,time_stamps,valid_sensor_list)\n",
    "# 3-1"
   ]
  },
  {
   "cell_type": "code",
   "execution_count": 16,
   "metadata": {},
   "outputs": [],
   "source": [
    "optimal_df = df[(df[unix_column] > start_time) & (df[unix_column] < end_time)]"
   ]
  },
  {
   "cell_type": "code",
   "execution_count": 17,
   "metadata": {
    "tags": []
   },
   "outputs": [
    {
     "output_type": "stream",
     "name": "stdout",
     "text": "1173308400\n"
    }
   ],
   "source": [
    "print(end_time)"
   ]
  },
  {
   "cell_type": "code",
   "execution_count": 18,
   "metadata": {},
   "outputs": [
    {
     "output_type": "execute_result",
     "data": {
      "text/plain": "        Station ID  Year  Month  Day  Hour  Minute  Second  \\\n319633           8  2007      3    1     0       0      27   \n319634           8  2007      3    1     0       0      56   \n319635           8  2007      3    1     0       1      25   \n319636           8  2007      3    1     0       1      55   \n319637           8  2007      3    1     0       2      24   \n...            ...   ...    ...  ...   ...     ...     ...   \n777546         121  2007      3    7    17      30      33   \n777547         121  2007      3    7    17      30      43   \n777548         121  2007      3    7    17      30      52   \n777549         121  2007      3    7    17      31       2   \n777550         121  2007      3    7    17      31      12   \n\n        Time since the epoch [s]  Sequence Number  Ambient Temperature  \\\n319633                1172703627            35250                 8.10   \n319634                1172703656            35251                 8.18   \n319635                1172703685            35252                 8.20   \n319636                1172703715            35253                 8.20   \n319637                1172703744            35254                 8.12   \n...                          ...              ...                  ...   \n777546                1173285033            41669                10.23   \n777547                1173285043            41670                10.26   \n777548                1173285052            41671                10.27   \n777549                1173285062            41672                10.28   \n777550                1173285072            41673                10.26   \n\n        Surface Temperature  Relative Humidity [%]  \n319633                7.350                 81.956  \n319634                7.350                 81.257  \n319635                7.537                 81.141  \n319636                7.412                 81.788  \n319637                7.350                 83.592  \n...                     ...                    ...  \n777546               11.350                 67.417  \n777547               11.412                 66.656  \n777548               11.350                 66.795  \n777549               11.225                 66.906  \n777550               11.412                 66.711  \n\n[944578 rows x 12 columns]",
      "text/html": "<div>\n<style scoped>\n    .dataframe tbody tr th:only-of-type {\n        vertical-align: middle;\n    }\n\n    .dataframe tbody tr th {\n        vertical-align: top;\n    }\n\n    .dataframe thead th {\n        text-align: right;\n    }\n</style>\n<table border=\"1\" class=\"dataframe\">\n  <thead>\n    <tr style=\"text-align: right;\">\n      <th></th>\n      <th>Station ID</th>\n      <th>Year</th>\n      <th>Month</th>\n      <th>Day</th>\n      <th>Hour</th>\n      <th>Minute</th>\n      <th>Second</th>\n      <th>Time since the epoch [s]</th>\n      <th>Sequence Number</th>\n      <th>Ambient Temperature</th>\n      <th>Surface Temperature</th>\n      <th>Relative Humidity [%]</th>\n    </tr>\n  </thead>\n  <tbody>\n    <tr>\n      <th>319633</th>\n      <td>8</td>\n      <td>2007</td>\n      <td>3</td>\n      <td>1</td>\n      <td>0</td>\n      <td>0</td>\n      <td>27</td>\n      <td>1172703627</td>\n      <td>35250</td>\n      <td>8.10</td>\n      <td>7.350</td>\n      <td>81.956</td>\n    </tr>\n    <tr>\n      <th>319634</th>\n      <td>8</td>\n      <td>2007</td>\n      <td>3</td>\n      <td>1</td>\n      <td>0</td>\n      <td>0</td>\n      <td>56</td>\n      <td>1172703656</td>\n      <td>35251</td>\n      <td>8.18</td>\n      <td>7.350</td>\n      <td>81.257</td>\n    </tr>\n    <tr>\n      <th>319635</th>\n      <td>8</td>\n      <td>2007</td>\n      <td>3</td>\n      <td>1</td>\n      <td>0</td>\n      <td>1</td>\n      <td>25</td>\n      <td>1172703685</td>\n      <td>35252</td>\n      <td>8.20</td>\n      <td>7.537</td>\n      <td>81.141</td>\n    </tr>\n    <tr>\n      <th>319636</th>\n      <td>8</td>\n      <td>2007</td>\n      <td>3</td>\n      <td>1</td>\n      <td>0</td>\n      <td>1</td>\n      <td>55</td>\n      <td>1172703715</td>\n      <td>35253</td>\n      <td>8.20</td>\n      <td>7.412</td>\n      <td>81.788</td>\n    </tr>\n    <tr>\n      <th>319637</th>\n      <td>8</td>\n      <td>2007</td>\n      <td>3</td>\n      <td>1</td>\n      <td>0</td>\n      <td>2</td>\n      <td>24</td>\n      <td>1172703744</td>\n      <td>35254</td>\n      <td>8.12</td>\n      <td>7.350</td>\n      <td>83.592</td>\n    </tr>\n    <tr>\n      <th>...</th>\n      <td>...</td>\n      <td>...</td>\n      <td>...</td>\n      <td>...</td>\n      <td>...</td>\n      <td>...</td>\n      <td>...</td>\n      <td>...</td>\n      <td>...</td>\n      <td>...</td>\n      <td>...</td>\n      <td>...</td>\n    </tr>\n    <tr>\n      <th>777546</th>\n      <td>121</td>\n      <td>2007</td>\n      <td>3</td>\n      <td>7</td>\n      <td>17</td>\n      <td>30</td>\n      <td>33</td>\n      <td>1173285033</td>\n      <td>41669</td>\n      <td>10.23</td>\n      <td>11.350</td>\n      <td>67.417</td>\n    </tr>\n    <tr>\n      <th>777547</th>\n      <td>121</td>\n      <td>2007</td>\n      <td>3</td>\n      <td>7</td>\n      <td>17</td>\n      <td>30</td>\n      <td>43</td>\n      <td>1173285043</td>\n      <td>41670</td>\n      <td>10.26</td>\n      <td>11.412</td>\n      <td>66.656</td>\n    </tr>\n    <tr>\n      <th>777548</th>\n      <td>121</td>\n      <td>2007</td>\n      <td>3</td>\n      <td>7</td>\n      <td>17</td>\n      <td>30</td>\n      <td>52</td>\n      <td>1173285052</td>\n      <td>41671</td>\n      <td>10.27</td>\n      <td>11.350</td>\n      <td>66.795</td>\n    </tr>\n    <tr>\n      <th>777549</th>\n      <td>121</td>\n      <td>2007</td>\n      <td>3</td>\n      <td>7</td>\n      <td>17</td>\n      <td>31</td>\n      <td>2</td>\n      <td>1173285062</td>\n      <td>41672</td>\n      <td>10.28</td>\n      <td>11.225</td>\n      <td>66.906</td>\n    </tr>\n    <tr>\n      <th>777550</th>\n      <td>121</td>\n      <td>2007</td>\n      <td>3</td>\n      <td>7</td>\n      <td>17</td>\n      <td>31</td>\n      <td>12</td>\n      <td>1173285072</td>\n      <td>41673</td>\n      <td>10.26</td>\n      <td>11.412</td>\n      <td>66.711</td>\n    </tr>\n  </tbody>\n</table>\n<p>944578 rows × 12 columns</p>\n</div>"
     },
     "metadata": {},
     "execution_count": 18
    }
   ],
   "source": [
    "optimal_df"
   ]
  },
  {
   "cell_type": "code",
   "execution_count": 30,
   "metadata": {},
   "outputs": [
    {
     "name": "stdout",
     "output_type": "stream",
     "text": "(944578, 12)\n"
    }
   ],
   "source": [
    "print(optimal_df.shape)"
   ]
  },
  {
   "cell_type": "code",
   "execution_count": 19,
   "metadata": {},
   "outputs": [],
   "source": [
    "optimal_df.to_hdf('optimal.h5',key='optimal_df',mode='a')"
   ]
  },
  {
   "cell_type": "code",
   "execution_count": 7,
   "metadata": {},
   "outputs": [
    {
     "name": "stdout",
     "output_type": "stream",
     "text": "44\n"
    }
   ],
   "source": [
    "print(len(valid_sensor_list))"
   ]
  },
  {
   "cell_type": "code",
   "execution_count": 8,
   "metadata": {},
   "outputs": [
    {
     "name": "stdout",
     "output_type": "stream",
     "text": "51\n"
    }
   ],
   "source": [
    "print(len(consts.valid_sensor_res_10_old))"
   ]
  },
  {
   "cell_type": "code",
   "execution_count": 14,
   "metadata": {
    "tags": []
   },
   "outputs": [
    {
     "output_type": "stream",
     "name": "stdout",
     "text": "[]\n[]\n[]\n[]\n[]\n[]\n[]\n[]\n[]\n[]\n[]\n[]\n[]\n[]\n[]\n[]\n[]\n[]\n[]\n[]\n[]\n[]\n[]\n[]\n[]\n[]\n[]\n[]\n[]\n[]\n[]\n[]\n[]\n[]\n[]\n[]\n[]\n[]\n[]\n[]\n[]\n[]\n[]\n[]\n[]\n[]\n[]\n[]\n[]\n[]\n[]\n[]\n[]\n[59]\n[59]\n[59]\n[59]\n[59]\n[59]\n[59]\n[59]\n[59]\n[59]\n[59]\n[59]\n[59]\n[59]\n[59]\n[59]\n[59]\n[59]\n[59]\n[59]\n[59]\n[59]\n[59]\n[59]\n[59]\n[59]\n[59]\n[59]\n[59]\n[59]\n[]\n[]\n[]\n[]\n[]\n[]\n[]\n[]\n[]\n[]\n[]\n[]\n[]\n[]\n[]\n[]\n[]\n[]\n[]\n[]\n[]\n[]\n[]\n[]\n[]\n[]\n[]\n[]\n[]\n[]\n[]\n[]\n[]\n[]\n[]\n[]\n[]\n[]\n[]\n[]\n[]\n[]\n[]\n[]\n[]\n[]\n[]\n[]\n[]\n[]\n[]\n[]\n[]\n[]\n[]\n[]\n[]\n[]\n[]\n[]\n[]\n[]\n[]\n[]\n[]\n[]\n[]\n[]\n[]\n[]\n[]\n[]\n[]\n[]\n[]\n[]\n[]\n[]\n[]\n[]\n[]\n[]\n[]\n[]\n[]\n[]\n[]\n[]\n[]\n[]\n[]\n[]\n[]\n[]\n[]\n[]\n[]\n[]\n[]\n[]\n[]\n[]\n[]\n[81]\n[81]\n[]\n[]\n[]\n[79]\n[]\n[79]\n[]\n[]\n[]\n[79]\n[]\n[79]\n[79]\n[79]\n[79]\n[79]\n[79]\n[79]\n[79]\n[79]\n[79]\n[79]\n[]\n[79]\n[79]\n[79]\n[79]\n[79]\n[]\n[]\n[]\n[]\n[]\n[]\n[]\n[]\n[]\n[]\n[]\n[]\n[]\n[]\n[]\n[]\n[]\n[]\n[]\n[]\n[]\n[]\n[]\n[]\n[]\n[]\n[]\n[]\n[]\n[]\n[]\n[]\n[]\n[]\n[]\n[]\n[]\n[]\n[]\n[]\n[]\n[59]\n[59]\n[59]\n[59]\n[59]\n[59]\n[59]\n[59]\n[59]\n[59]\n[59]\n[59]\n[59]\n[59]\n[59]\n[59]\n[59]\n[59]\n[]\n[]\n[]\n[]\n[]\n[]\n[]\n[]\n[]\n[]\n[]\n[]\n[]\n[]\n[]\n[]\n[]\n[]\n[]\n[]\n[]\n[]\n[]\n[]\n[]\n[]\n[]\n[]\n[]\n[]\n[]\n[]\n[104]\n[104]\n[]\n[]\n[]\n[72]\n[72]\n[72]\n[72]\n[72]\n[72]\n[72]\n[72]\n[72]\n[72]\n[72]\n[72]\n[]\n[]\n[55]\n[55]\n[55]\n[55]\n[55]\n[55]\n[55 81]\n[]\n[]\n[]\n10793.945054945056\nvar: 0.20343501984126985 \t std: 0.4510377144333607 \n"
    },
    {
     "output_type": "execute_result",
     "data": {
      "text/plain": "91"
     },
     "metadata": {},
     "execution_count": 14
    }
   ],
   "source": [
    "start_time = 1172678400\n",
    "time_stamps = np.arange(start_time,start_time+week_seconds+epoch_length,epoch_length)\n",
    "coverage_test(df,time_stamps,valid_sensor_list)\n",
    "# 3-1"
   ]
  },
  {
   "cell_type": "code",
   "execution_count": 13,
   "metadata": {
    "tags": []
   },
   "outputs": [
    {
     "output_type": "stream",
     "name": "stdout",
     "text": "&lt;class &#39;pandas.core.frame.DataFrame&#39;&gt;\nInt64Index: 21797635 entries, 0 to 1268693\nData columns (total 12 columns):\n #   Column                    Dtype  \n---  ------                    -----  \n 0   Station ID                int64  \n 1   Year                      int64  \n 2   Month                     int64  \n 3   Day                       int64  \n 4   Hour                      int64  \n 5   Minute                    int64  \n 6   Second                    int64  \n 7   Time since the epoch [s]  int64  \n 8   Sequence Number           int64  \n 9   Ambient Temperature       float64\n 10  Surface Temperature       float64\n 11  Relative Humidity [%]     float64\ndtypes: float64(3), int64(9)\nmemory usage: 2.1 GB\n"
    }
   ],
   "source": [
    "df.info(memory_usage='deep')"
   ]
  },
  {
   "cell_type": "code",
   "execution_count": 12,
   "metadata": {},
   "outputs": [],
   "source": [
    "def coverage_test(df,time_stamps,valid_sensor_list):\n",
    "    error = 0\n",
    "    diff_list = []\n",
    "    # all_np_list = []\n",
    "    sub_df_num  = 0\n",
    "    for i in range(len(time_stamps)-1):\n",
    "        # print(i)\n",
    "        # print(time_stamps[i],time_stamps[i+1])\n",
    "        sub_df = df[(df[unix_column] > time_stamps[i]) & (df[unix_column] < time_stamps[i+1])]\n",
    "        sensor_list = sub_df[idd].values\n",
    "        uniq = np.unique(sensor_list)\n",
    "        diff = np.setdiff1d(valid_sensor_list,uniq)    \n",
    "        # np_court = all_np(sensor_list)\n",
    "        # all_np_list.append(np_court)\n",
    "        error += len(diff)\n",
    "        diff_list.append(len(diff))\n",
    "        print(diff)\n",
    "        sub_df_num += len(sub_df)\n",
    "    print(sub_df_num/error)\n",
    "    diff_list = np.array(diff_list)\n",
    "    print(\"var: {0} \\t std: {1} \".format(diff_list.var(),diff_list.std()))\n",
    "    return error"
   ]
  }
 ],
 "metadata": {
  "language_info": {
   "name": "python",
   "codemirror_mode": {
    "name": "ipython",
    "version": 3
   },
   "version": "3.7.6-final"
  },
  "orig_nbformat": 2,
  "file_extension": ".py",
  "mimetype": "text/x-python",
  "name": "python",
  "npconvert_exporter": "python",
  "pygments_lexer": "ipython3",
  "version": 3,
  "kernelspec": {
   "name": "Python 3.7.6 64-bit ('ccs_ta': conda)",
   "display_name": "Python 3.7.6 64-bit ('ccs_ta': conda)",
   "metadata": {
    "interpreter": {
     "hash": "4ef11047f6f3853de0a63f104122ebbe13fe6b6919dd888f3bb1dfe89d819dc8"
    }
   }
  }
 },
 "nbformat": 4,
 "nbformat_minor": 2
}