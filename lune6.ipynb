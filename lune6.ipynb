{
 "nbformat": 4,
 "nbformat_minor": 2,
 "metadata": {
  "language_info": {
   "name": "python",
   "codemirror_mode": {
    "name": "ipython",
    "version": 3
   },
   "version": "3.8.1-final"
  },
  "orig_nbformat": 2,
  "file_extension": ".py",
  "mimetype": "text/x-python",
  "name": "python",
  "npconvert_exporter": "python",
  "pygments_lexer": "ipython3",
  "version": 3,
  "kernelspec": {
   "name": "python38164bitksvdconda6705ad8a9fcd4e0bb5affd2c5dde61db",
   "display_name": "Python 3.8.1 64-bit ('ksvd': conda)"
  }
 },
 "cells": [
  {
   "cell_type": "code",
   "execution_count": 1,
   "metadata": {},
   "outputs": [],
   "source": [
    "%matplotlib inline\n",
    "import numpy as np\n",
    "import pandas as pd\n",
    "import os,sys\n",
    "import utils\n",
    "import matplotlib.pyplot as plt\n",
    "from consts import sensor_lat as lat\n",
    "from consts import sensor_log as log\n",
    "from consts import valid_sensor_res_10 as valid_sensor_list\n",
    "from consts import sensor_day_seconds as day_seconds\n",
    "from consts import sensor_week_seconds as week_seconds \n",
    "from consts import sensor_start_time_unix as start_time\n",
    "from consts import sensor_end_time_unix as end_time\n",
    "from consts import sensor_epoch_length as epoch_length\n",
    "import consts\n",
    "from numpy import array\n",
    "import time"
   ]
  },
  {
   "cell_type": "code",
   "execution_count": null,
   "metadata": {},
   "outputs": [],
   "source": [
    "print(consts.sensor_start_time_unix)"
   ]
  },
  {
   "cell_type": "code",
   "execution_count": 2,
   "metadata": {},
   "outputs": [
    {
     "ename": "KeyError",
     "evalue": "'No object named df in the file'",
     "output_type": "error",
     "traceback": [
      "\u001b[0;31m---------------------------------------------------------------------------\u001b[0m",
      "\u001b[0;31mKeyError\u001b[0m                                  Traceback (most recent call last)",
      "\u001b[0;32m<ipython-input-2-92615e3c3082>\u001b[0m in \u001b[0;36m<module>\u001b[0;34m\u001b[0m\n\u001b[0;32m----> 1\u001b[0;31m \u001b[0mdf\u001b[0m \u001b[0;34m=\u001b[0m \u001b[0mpd\u001b[0m\u001b[0;34m.\u001b[0m\u001b[0mread_hdf\u001b[0m\u001b[0;34m(\u001b[0m\u001b[0;34m'optimal.h5'\u001b[0m\u001b[0;34m,\u001b[0m\u001b[0;34m'df'\u001b[0m\u001b[0;34m)\u001b[0m\u001b[0;34m\u001b[0m\u001b[0;34m\u001b[0m\u001b[0m\n\u001b[0m",
      "\u001b[0;32m~/.pyenv/versions/anaconda3-2019.03/envs/ksvd/lib/python3.8/site-packages/pandas/io/pytables.py\u001b[0m in \u001b[0;36mread_hdf\u001b[0;34m(path_or_buf, key, mode, errors, where, start, stop, columns, iterator, chunksize, **kwargs)\u001b[0m\n\u001b[1;32m    418\u001b[0m                     )\n\u001b[1;32m    419\u001b[0m             \u001b[0mkey\u001b[0m \u001b[0;34m=\u001b[0m \u001b[0mcandidate_only_group\u001b[0m\u001b[0;34m.\u001b[0m\u001b[0m_v_pathname\u001b[0m\u001b[0;34m\u001b[0m\u001b[0;34m\u001b[0m\u001b[0m\n\u001b[0;32m--> 420\u001b[0;31m         return store.select(\n\u001b[0m\u001b[1;32m    421\u001b[0m             \u001b[0mkey\u001b[0m\u001b[0;34m,\u001b[0m\u001b[0;34m\u001b[0m\u001b[0;34m\u001b[0m\u001b[0m\n\u001b[1;32m    422\u001b[0m             \u001b[0mwhere\u001b[0m\u001b[0;34m=\u001b[0m\u001b[0mwhere\u001b[0m\u001b[0;34m,\u001b[0m\u001b[0;34m\u001b[0m\u001b[0;34m\u001b[0m\u001b[0m\n",
      "\u001b[0;32m~/.pyenv/versions/anaconda3-2019.03/envs/ksvd/lib/python3.8/site-packages/pandas/io/pytables.py\u001b[0m in \u001b[0;36mselect\u001b[0;34m(self, key, where, start, stop, columns, iterator, chunksize, auto_close)\u001b[0m\n\u001b[1;32m    787\u001b[0m         \u001b[0mgroup\u001b[0m \u001b[0;34m=\u001b[0m \u001b[0mself\u001b[0m\u001b[0;34m.\u001b[0m\u001b[0mget_node\u001b[0m\u001b[0;34m(\u001b[0m\u001b[0mkey\u001b[0m\u001b[0;34m)\u001b[0m\u001b[0;34m\u001b[0m\u001b[0;34m\u001b[0m\u001b[0m\n\u001b[1;32m    788\u001b[0m         \u001b[0;32mif\u001b[0m \u001b[0mgroup\u001b[0m \u001b[0;32mis\u001b[0m \u001b[0;32mNone\u001b[0m\u001b[0;34m:\u001b[0m\u001b[0;34m\u001b[0m\u001b[0;34m\u001b[0m\u001b[0m\n\u001b[0;32m--> 789\u001b[0;31m             \u001b[0;32mraise\u001b[0m \u001b[0mKeyError\u001b[0m\u001b[0;34m(\u001b[0m\u001b[0;34mf\"No object named {key} in the file\"\u001b[0m\u001b[0;34m)\u001b[0m\u001b[0;34m\u001b[0m\u001b[0;34m\u001b[0m\u001b[0m\n\u001b[0m\u001b[1;32m    790\u001b[0m \u001b[0;34m\u001b[0m\u001b[0m\n\u001b[1;32m    791\u001b[0m         \u001b[0;31m# create the storer and axes\u001b[0m\u001b[0;34m\u001b[0m\u001b[0;34m\u001b[0m\u001b[0;34m\u001b[0m\u001b[0m\n",
      "\u001b[0;31mKeyError\u001b[0m: 'No object named df in the file'"
     ]
    }
   ],
   "source": [
    "df = pd.read_hdf('optimal.h5','df')"
   ]
  },
  {
   "cell_type": "code",
   "execution_count": 2,
   "metadata": {},
   "outputs": [],
   "source": [
    "start_time = 1172678400\n",
    "df = pd.read_hdf('data.h5','df_sub')"
   ]
  },
  {
   "cell_type": "code",
   "execution_count": 8,
   "metadata": {},
   "outputs": [],
   "source": [
    "unix_column = 'Time since the epoch [s]'\n",
    "idd = 'Station ID'"
   ]
  },
  {
   "cell_type": "code",
   "execution_count": 6,
   "metadata": {},
   "outputs": [
    {
     "data": {
      "text/plain": "(994276, 12)"
     },
     "execution_count": 6,
     "metadata": {},
     "output_type": "execute_result"
    }
   ],
   "source": [
    "df.shape"
   ]
  },
  {
   "cell_type": "code",
   "execution_count": 25,
   "metadata": {},
   "outputs": [],
   "source": [
    "start_time = 1174492800"
   ]
  },
  {
   "cell_type": "code",
   "execution_count": 7,
   "metadata": {},
   "outputs": [
    {
     "data": {
      "text/plain": "Index(['Station ID', 'Year', 'Month', 'Day', 'Hour', 'Minute', 'Second',\n       'Time since the epoch [s]', 'Sequence Number', 'Ambient Temperature',\n       'Surface Temperature', 'Relative Humidity [%]'],\n      dtype='object')"
     },
     "execution_count": 7,
     "metadata": {},
     "output_type": "execute_result"
    }
   ],
   "source": [
    "df.columns"
   ]
  },
  {
   "cell_type": "code",
   "execution_count": 27,
   "metadata": {},
   "outputs": [],
   "source": [
    "time_stamps = np.arange(start_time,start_time+week_seconds+epoch_length,epoch_length)"
   ]
  },
  {
   "cell_type": "code",
   "execution_count": 8,
   "metadata": {},
   "outputs": [
    {
     "name": "stdout",
     "output_type": "stream",
     "text": "[82]\n[82]\n[82]\n[71 82]\n[71 82]\n[19 71 82]\n[19 71 82]\n[19 71 82]\n[19 71 82]\n[19 71 82]\n[19 71 82]\n[19 71 82]\n[19 71 82]\n[19 71 82]\n[19 71 82]\n[19 71 82]\n[19 71 82]\n[19 71 82]\n[19 71 82]\n[19 71 82]\n[19 71 82]\n[19 71 82]\n[19 71 82]\n[19 71 82]\n[19 71 82]\n[19 71 82]\n[19 71 82]\n[19 71 82]\n[19 71 82]\n[19 71 82]\n[19 71 82]\n[71 82]\n[71 82]\n[71 82]\n[71 82]\n[71 82]\n[71 82]\n[71 82]\n[71 82]\n[71 82]\n[71 82]\n[71 82]\n[71 82]\n[71 82]\n[71 82]\n[71 82]\n[71 82]\n[71 82]\n[71 82]\n[71 82]\n[71 82]\n[71 82]\n[71 82]\n[71 82]\n[71 82]\n[59 71 82 98]\n[71 82 98]\n[71 82 98]\n[71 82 98]\n[71 82 98]\n[71 82 98]\n[71 82 98]\n[71 82 98]\n[71 82 98]\n[71 82 98]\n[71 82 98]\n[71 82 98]\n[71 82 98]\n[71 82 98]\n[71 82 98]\n[71 82 98]\n[71 82 98]\n[71 82 98]\n[71 82 98]\n[71 82 98]\n[71 82 98]\n[71 82 98]\n[71 82 98]\n[71 82 98]\n[71 82 98]\n[71 82 98]\n[71 82 98]\n[71 82 98]\n[71 82 98]\n[71 82 98]\n[71 82 98]\n[71 82 98]\n[71 82 98]\n[71 82 98]\n[71 82]\n[71 82]\n[71 82]\n[71 82]\n[71 82]\n[71 82]\n[71 82]\n[71 82]\n[71 82]\n[71 82]\n[71 82]\n[71 82]\n[71 82]\n[71 82]\n[71 82]\n[71 82]\n[71 82]\n[71 82]\n[71 82]\n[71 82]\n[71 82]\n[71 82]\n[71 82]\n[71 82]\n[71 82]\n[71 82]\n[71 82]\n[71 82]\n[71 82]\n[71 82]\n[71 82]\n[71 82]\n[71 73 82]\n[71 73 82]\n[71 73 82]\n[71 73 82]\n[71 73 82]\n[71 73 82]\n[71 73 82]\n[71 73 82]\n[71 73 82]\n[71 73 82]\n[71 82]\n[71 82]\n[71 82]\n[71 82]\n[71 82]\n[71 82]\n[71 82]\n[14 71 82]\n[14 71 82]\n[14 71 82]\n[14 71 82]\n[14 71 82]\n[14 71 82]\n[14 71 82]\n[14 71 82]\n[14 71 82]\n[14 71 82]\n[14 71 82]\n[14 71 82]\n[14 71 82]\n[14 71 82]\n[14 71 82]\n[14 71 82]\n[14 71 82]\n[14 71 82]\n[14 71 82]\n[14 71 82]\n[14 71 82]\n[14 71 82]\n[14 71 82]\n[14 71 82]\n[14 71 82]\n[14 71 82]\n[14 71 82]\n[14 71 82]\n[14 71 82]\n[14 71 82]\n[14 71 82]\n[14 71 82]\n[14 71 82 98]\n[14 71 82 98]\n[14 71 82 98]\n[14 71 82 98]\n[14 71 82 98]\n[14 71 82 98]\n[14 71 82 98]\n[14 71 82 98]\n[14 71 82 98]\n[14 71 82 98]\n[14 71 82 98]\n[14 71 82 98]\n[14 71 82 98]\n[14 71 82 98]\n[14 71 82 98]\n[14 71 82 98]\n[14 71 82 98]\n[14 71 82 98]\n[14 71 82 98]\n[14 71 82 98]\n[14 71 82 98]\n[14 71 82 98]\n[14 71 82 98]\n[14 71 82 98]\n[14 71 82 98]\n[14 71 82 98]\n[14 59 71 82 98]\n[14 71 82 98]\n[14 71 82 98]\n[14 71 82 98]\n[14 71 82 98]\n[14 71 82 98]\n[14 71 82 98]\n[14 71 82 98]\n[14 71 82 98]\n[14 71 82 98]\n[14 71 82 98]\n[14 71 82 98]\n[14 71 82 98]\n[14 71 82 98]\n[14 71 82 98]\n[14 71 82 98]\n[14 71 82 98]\n[14 71 82 98]\n[14 71 82 98]\n[14 71 82 98]\n[14 71 82 98]\n[14 71 82 98]\n[14 71 82 98]\n[14 69 71 82 98]\n[14 69 71 82 98]\n[14 69 71 82 98]\n[14 69 71 82 98]\n[14 69 71 82 98]\n[14 69 71 82 98]\n[14 69 71 82 98]\n[14 69 71 82 98]\n[14 69 71 82 98]\n[14 69 71 82 98]\n[14 69 71 82 98]\n[14 69 71 82 98]\n[14 69 71 82 98]\n[14 69 71 82 98]\n[14 69 71 82 98]\n[14 69 81 82 98]\n[14 69 82 98]\n[14 69 82 98]\n[14 69 82 98]\n[14 69 82 98]\n[14 69 82 98]\n[14 69 82 98]\n[14 69 82 98]\n[14 69 82 98]\n[14 69 82 98]\n[14 69 82 98]\n[14 69 71 82 98]\n[14 69 71 82 98]\n[14 69 71 82 98]\n[14 69 71 82 98]\n[14 69 71 82 98]\n[14 69 71 82 98]\n[14 69 71 82 98]\n[14 69 71 82 98]\n[14 69 71 82 98]\n[14 69 71 82 98]\n[14 69 71 82 98]\n[14 69 71 82 98]\n[14 69 71 82 98]\n[14 69 71 82 98]\n[14 69 71 82 98]\n[14 69 71 82 98]\n[14 69 71 82 98]\n[14 69 71 82 98]\n[14 69 71 82 98]\n[14 69 71 82 98]\n[14 69 71 82 98]\n[14 69 71 82 98]\n[14 69 71 82 98]\n[14 69 71 82 98]\n[14 69 71 82 98]\n[14 69 71 82 98]\n[14 69 71 82 98]\n[14 69 71 82 98]\n[14 69 71 82 98]\n[14 71 82 98]\n[14 71 82 98]\n[14 71 82 98]\n[14 71 82 98]\n[71 82 98]\n[82]\n[82]\n[82]\n[81 82 98]\n[81 82 98]\n[81 82 98]\n[81 82 98]\n[82 98]\n[ 82  98 121]\n[82 98]\n[82 98]\n[82 98]\n[82 98]\n[82 98]\n[82 98]\n[82 98]\n[71 82 98]\n[71 82 98]\n[71 82 98]\n[71 82 98]\n[71 82 98]\n[71 82 98]\n[71 82 98]\n[71 82 98]\n[71 82 98]\n[71 82 98]\n[71 82 98]\n[71 82 98]\n[71 82 98]\n[71 82 98]\n[71 82 98]\n[71 82 98]\n[71 82 98]\n[71 82 98]\n[71 82 98]\n[71 82 98]\n[71 82 98]\n[71 82 98]\n[71 82 98]\n[71 82 98]\n[71 82 98]\n[71 82 98]\n[71 82 98]\n[71 82 98]\n[71 82 98]\n[71 82 98]\n[71 82 98]\n[82 98]\n[82 98]\n[82 98]\n[81 82 98]\n[81 82 98]\n[81 82 98]\n[81 82 98]\n[81 82 98]\n[ 82 121]\n[ 82 121]\n926.1276794035415\nvar: 1.001266652494331 \t std: 1.0006331258230117 \n"
    },
    {
     "data": {
      "text/plain": "1073"
     },
     "execution_count": 8,
     "metadata": {},
     "output_type": "execute_result"
    }
   ],
   "source": [
    "start_time = 1174406400\n",
    "time_stamps = np.arange(start_time,start_time+week_seconds+epoch_length,epoch_length)\n",
    "coverage_test(df,time_stamps,valid_sensor_list)\n",
    "# 3-21"
   ]
  },
  {
   "cell_type": "code",
   "execution_count": 8,
   "metadata": {},
   "outputs": [
    {
     "name": "stdout",
     "output_type": "stream",
     "text": "[71]\n[71]\n[71]\n[71]\n[71]\n[71]\n[71]\n[59 71 98]\n[71 98]\n[71 98]\n[71 98]\n[71 98]\n[71 98]\n[71 98]\n[71 98]\n[71 98]\n[71 98]\n[71 98]\n[71 98]\n[71 98]\n[71 98]\n[71 98]\n[71 98]\n[71 98]\n[71 98]\n[71 98]\n[71 98]\n[71 98]\n[71 98]\n[71 98]\n[71 98]\n[71 98]\n[71 98]\n[71 98]\n[71 98]\n[71 98]\n[71 98]\n[71 98]\n[71 98]\n[71 98]\n[71 98]\n[71]\n[71]\n[71]\n[71]\n[71]\n[71]\n[71]\n[71]\n[71]\n[71]\n[71]\n[71]\n[71]\n[71]\n[71]\n[71]\n[71]\n[71]\n[71]\n[71]\n[71]\n[71]\n[71]\n[71]\n[71]\n[71]\n[71]\n[71]\n[71]\n[71]\n[71]\n[71]\n[71 73]\n[71 73]\n[71 73]\n[71 73]\n[71 73]\n[71 73]\n[71 73]\n[71 73]\n[71 73]\n[71 73]\n[71]\n[71]\n[71]\n[71]\n[71]\n[71]\n[71]\n[14 71]\n[14 71]\n[14 71]\n[14 71]\n[14 71]\n[14 71]\n[14 71]\n[14 71]\n[14 71]\n[14 71]\n[14 71]\n[14 71]\n[14 71]\n[14 71]\n[14 71]\n[14 71]\n[14 71]\n[14 71]\n[14 71]\n[14 71]\n[14 71]\n[14 71]\n[14 71]\n[14 71]\n[14 71]\n[14 71]\n[14 71]\n[14 71]\n[14 71]\n[14 71]\n[14 71]\n[14 71]\n[14 71 98]\n[14 71 98]\n[14 71 98]\n[14 71 98]\n[14 71 98]\n[14 71 98]\n[14 71 98]\n[14 71 98]\n[14 71 98]\n[14 71 98]\n[14 71 98]\n[14 71 98]\n[14 71 98]\n[14 71 98]\n[14 71 98]\n[14 71 98]\n[14 71 98]\n[14 71 98]\n[14 71 98]\n[14 71 98]\n[14 71 98]\n[14 71 98]\n[14 71 98]\n[14 71 98]\n[14 71 98]\n[14 71 98]\n[14 59 71 98]\n[14 71 98]\n[14 71 98]\n[14 71 98]\n[14 71 98]\n[14 71 98]\n[14 71 98]\n[14 71 98]\n[14 71 98]\n[14 71 98]\n[14 71 98]\n[14 71 98]\n[14 71 98]\n[14 71 98]\n[14 71 98]\n[14 71 98]\n[14 71 98]\n[14 71 98]\n[14 71 98]\n[14 71 98]\n[14 71 98]\n[14 71 98]\n[14 71 98]\n[14 69 71 98]\n[14 69 71 98]\n[14 69 71 98]\n[14 69 71 98]\n[14 69 71 98]\n[14 69 71 98]\n[14 69 71 98]\n[14 69 71 98]\n[14 69 71 98]\n[14 69 71 98]\n[14 69 71 98]\n[14 69 71 98]\n[14 69 71 98]\n[14 69 71 98]\n[14 69 71 98]\n[14 69 81 98]\n[14 69 98]\n[14 69 98]\n[14 69 98]\n[14 69 98]\n[14 69 98]\n[14 69 98]\n[14 69 98]\n[14 69 98]\n[14 69 98]\n[14 69 98]\n[14 69 71 98]\n[14 69 71 98]\n[14 69 71 98]\n[14 69 71 98]\n[14 69 71 98]\n[14 69 71 98]\n[14 69 71 98]\n[14 69 71 98]\n[14 69 71 98]\n[14 69 71 98]\n[14 69 71 98]\n[14 69 71 98]\n[14 69 71 98]\n[14 69 71 98]\n[14 69 71 98]\n[14 69 71 98]\n[14 69 71 98]\n[14 69 71 98]\n[14 69 71 98]\n[14 69 71 98]\n[14 69 71 98]\n[14 69 71 98]\n[14 69 71 98]\n[14 69 71 98]\n[14 69 71 98]\n[14 69 71 98]\n[14 69 71 98]\n[14 69 71 98]\n[14 69 71 98]\n[14 71 98]\n[14 71 98]\n[14 71 98]\n[14 71 98]\n[71 98]\n[]\n[]\n[]\n[81 98]\n[81 98]\n[81 98]\n[81 98]\n[98]\n[ 98 121]\n[98]\n[98]\n[98]\n[98]\n[98]\n[98]\n[98]\n[71 98]\n[71 98]\n[71 98]\n[71 98]\n[71 98]\n[71 98]\n[71 98]\n[71 98]\n[71 98]\n[71 98]\n[71 98]\n[71 98]\n[71 98]\n[71 98]\n[71 98]\n[71 98]\n[71 98]\n[71 98]\n[71 98]\n[71 98]\n[71 98]\n[71 98]\n[71 98]\n[71 98]\n[71 98]\n[71 98]\n[71 98]\n[71 98]\n[71 98]\n[71 98]\n[71 98]\n[98]\n[98]\n[98]\n[81 98]\n[81 98]\n[81 98]\n[81 98]\n[81 98]\n[121]\n[121]\n[]\n[]\n[]\n[]\n[]\n[]\n[]\n[]\n[]\n[]\n[71]\n[71]\n[71]\n[71]\n[71]\n[71]\n[71]\n[71]\n[71 98]\n[71 98]\n[71 98]\n[71 98]\n[71 98]\n[71 98]\n[71 98]\n[71 98]\n[71 98]\n[71 98]\n[71 98]\n[71 98]\n[71 98]\n[71 98]\n[71 98]\n[71 98]\n[71 98]\n[71 98]\n[71 98]\n[98]\n[98]\n[98]\n[98]\n[81 98]\n[81 98]\n[81 98]\n[81 98]\n[98]\n[ 98 121]\n[ 98 121]\n1359.1179698216736\nvar: 1.0753879676870748 \t std: 1.037009145421136 \n"
    },
    {
     "data": {
      "text/plain": "729"
     },
     "execution_count": 8,
     "metadata": {},
     "output_type": "execute_result"
    }
   ],
   "source": [
    "start_time = 1174492800\n",
    "time_stamps = np.arange(start_time,start_time+week_seconds+epoch_length,epoch_length)\n",
    "coverage_test(df,time_stamps,valid_sensor_list)\n",
    "# 3-22"
   ]
  },
  {
   "cell_type": "code",
   "execution_count": 26,
   "metadata": {},
   "outputs": [],
   "source": [
    "start_time = 1172703600\n",
    "end_time = start_time + week_seconds\n",
    "time_stamps = np.arange(start_time,start_time+week_seconds+epoch_length,epoch_length)\n",
    "# print(time_stamps.shape)\n",
    "# coverage_test(df,time_stamps,valid_sensor_list)\n",
    "# 3-1"
   ]
  },
  {
   "cell_type": "code",
   "execution_count": 27,
   "metadata": {},
   "outputs": [],
   "source": [
    "optimal_df = df[(df[unix_column] > start_time) & (df[unix_column] < end_time)]"
   ]
  },
  {
   "cell_type": "code",
   "execution_count": 28,
   "metadata": {},
   "outputs": [
    {
     "name": "stdout",
     "output_type": "stream",
     "text": "1173308400\n"
    }
   ],
   "source": [
    "print(end_time)"
   ]
  },
  {
   "cell_type": "code",
   "execution_count": 29,
   "metadata": {},
   "outputs": [
    {
     "data": {
      "text/html": "<div>\n<style scoped>\n    .dataframe tbody tr th:only-of-type {\n        vertical-align: middle;\n    }\n\n    .dataframe tbody tr th {\n        vertical-align: top;\n    }\n\n    .dataframe thead th {\n        text-align: right;\n    }\n</style>\n<table border=\"1\" class=\"dataframe\">\n  <thead>\n    <tr style=\"text-align: right;\">\n      <th></th>\n      <th>Station ID</th>\n      <th>Year</th>\n      <th>Month</th>\n      <th>Day</th>\n      <th>Hour</th>\n      <th>Minute</th>\n      <th>Second</th>\n      <th>Time since the epoch [s]</th>\n      <th>Sequence Number</th>\n      <th>Ambient Temperature</th>\n      <th>Surface Temperature</th>\n      <th>Relative Humidity [%]</th>\n    </tr>\n  </thead>\n  <tbody>\n    <tr>\n      <th>319633</th>\n      <td>8</td>\n      <td>2007</td>\n      <td>3</td>\n      <td>1</td>\n      <td>0</td>\n      <td>0</td>\n      <td>27</td>\n      <td>1172703627</td>\n      <td>35250</td>\n      <td>8.10</td>\n      <td>7.350</td>\n      <td>81.956</td>\n    </tr>\n    <tr>\n      <th>319634</th>\n      <td>8</td>\n      <td>2007</td>\n      <td>3</td>\n      <td>1</td>\n      <td>0</td>\n      <td>0</td>\n      <td>56</td>\n      <td>1172703656</td>\n      <td>35251</td>\n      <td>8.18</td>\n      <td>7.350</td>\n      <td>81.257</td>\n    </tr>\n    <tr>\n      <th>319635</th>\n      <td>8</td>\n      <td>2007</td>\n      <td>3</td>\n      <td>1</td>\n      <td>0</td>\n      <td>1</td>\n      <td>25</td>\n      <td>1172703685</td>\n      <td>35252</td>\n      <td>8.20</td>\n      <td>7.537</td>\n      <td>81.141</td>\n    </tr>\n    <tr>\n      <th>319636</th>\n      <td>8</td>\n      <td>2007</td>\n      <td>3</td>\n      <td>1</td>\n      <td>0</td>\n      <td>1</td>\n      <td>55</td>\n      <td>1172703715</td>\n      <td>35253</td>\n      <td>8.20</td>\n      <td>7.412</td>\n      <td>81.788</td>\n    </tr>\n    <tr>\n      <th>319637</th>\n      <td>8</td>\n      <td>2007</td>\n      <td>3</td>\n      <td>1</td>\n      <td>0</td>\n      <td>2</td>\n      <td>24</td>\n      <td>1172703744</td>\n      <td>35254</td>\n      <td>8.12</td>\n      <td>7.350</td>\n      <td>83.592</td>\n    </tr>\n    <tr>\n      <th>...</th>\n      <td>...</td>\n      <td>...</td>\n      <td>...</td>\n      <td>...</td>\n      <td>...</td>\n      <td>...</td>\n      <td>...</td>\n      <td>...</td>\n      <td>...</td>\n      <td>...</td>\n      <td>...</td>\n      <td>...</td>\n    </tr>\n    <tr>\n      <th>777546</th>\n      <td>121</td>\n      <td>2007</td>\n      <td>3</td>\n      <td>7</td>\n      <td>17</td>\n      <td>30</td>\n      <td>33</td>\n      <td>1173285033</td>\n      <td>41669</td>\n      <td>10.23</td>\n      <td>11.350</td>\n      <td>67.417</td>\n    </tr>\n    <tr>\n      <th>777547</th>\n      <td>121</td>\n      <td>2007</td>\n      <td>3</td>\n      <td>7</td>\n      <td>17</td>\n      <td>30</td>\n      <td>43</td>\n      <td>1173285043</td>\n      <td>41670</td>\n      <td>10.26</td>\n      <td>11.412</td>\n      <td>66.656</td>\n    </tr>\n    <tr>\n      <th>777548</th>\n      <td>121</td>\n      <td>2007</td>\n      <td>3</td>\n      <td>7</td>\n      <td>17</td>\n      <td>30</td>\n      <td>52</td>\n      <td>1173285052</td>\n      <td>41671</td>\n      <td>10.27</td>\n      <td>11.350</td>\n      <td>66.795</td>\n    </tr>\n    <tr>\n      <th>777549</th>\n      <td>121</td>\n      <td>2007</td>\n      <td>3</td>\n      <td>7</td>\n      <td>17</td>\n      <td>31</td>\n      <td>2</td>\n      <td>1173285062</td>\n      <td>41672</td>\n      <td>10.28</td>\n      <td>11.225</td>\n      <td>66.906</td>\n    </tr>\n    <tr>\n      <th>777550</th>\n      <td>121</td>\n      <td>2007</td>\n      <td>3</td>\n      <td>7</td>\n      <td>17</td>\n      <td>31</td>\n      <td>12</td>\n      <td>1173285072</td>\n      <td>41673</td>\n      <td>10.26</td>\n      <td>11.412</td>\n      <td>66.711</td>\n    </tr>\n  </tbody>\n</table>\n<p>944578 rows × 12 columns</p>\n</div>",
      "text/plain": "        Station ID  Year  Month  Day  Hour  Minute  Second  \\\n319633           8  2007      3    1     0       0      27   \n319634           8  2007      3    1     0       0      56   \n319635           8  2007      3    1     0       1      25   \n319636           8  2007      3    1     0       1      55   \n319637           8  2007      3    1     0       2      24   \n...            ...   ...    ...  ...   ...     ...     ...   \n777546         121  2007      3    7    17      30      33   \n777547         121  2007      3    7    17      30      43   \n777548         121  2007      3    7    17      30      52   \n777549         121  2007      3    7    17      31       2   \n777550         121  2007      3    7    17      31      12   \n\n        Time since the epoch [s]  Sequence Number  Ambient Temperature  \\\n319633                1172703627            35250                 8.10   \n319634                1172703656            35251                 8.18   \n319635                1172703685            35252                 8.20   \n319636                1172703715            35253                 8.20   \n319637                1172703744            35254                 8.12   \n...                          ...              ...                  ...   \n777546                1173285033            41669                10.23   \n777547                1173285043            41670                10.26   \n777548                1173285052            41671                10.27   \n777549                1173285062            41672                10.28   \n777550                1173285072            41673                10.26   \n\n        Surface Temperature  Relative Humidity [%]  \n319633                7.350                 81.956  \n319634                7.350                 81.257  \n319635                7.537                 81.141  \n319636                7.412                 81.788  \n319637                7.350                 83.592  \n...                     ...                    ...  \n777546               11.350                 67.417  \n777547               11.412                 66.656  \n777548               11.350                 66.795  \n777549               11.225                 66.906  \n777550               11.412                 66.711  \n\n[944578 rows x 12 columns]"
     },
     "execution_count": 29,
     "metadata": {},
     "output_type": "execute_result"
    }
   ],
   "source": [
    "optimal_df"
   ]
  },
  {
   "cell_type": "code",
   "execution_count": 30,
   "metadata": {},
   "outputs": [
    {
     "name": "stdout",
     "output_type": "stream",
     "text": "(944578, 12)\n"
    }
   ],
   "source": [
    "print(optimal_df.shape)"
   ]
  },
  {
   "cell_type": "code",
   "execution_count": 31,
   "metadata": {},
   "outputs": [],
   "source": [
    "optimal_df.to_hdf('optimal.h5',key='optimal_df',mode='a')"
   ]
  },
  {
   "cell_type": "code",
   "execution_count": 7,
   "metadata": {},
   "outputs": [
    {
     "name": "stdout",
     "output_type": "stream",
     "text": "44\n"
    }
   ],
   "source": [
    "print(len(valid_sensor_list))"
   ]
  },
  {
   "cell_type": "code",
   "execution_count": 8,
   "metadata": {},
   "outputs": [
    {
     "name": "stdout",
     "output_type": "stream",
     "text": "51\n"
    }
   ],
   "source": [
    "print(len(consts.valid_sensor_res_10_old))"
   ]
  },
  {
   "cell_type": "code",
   "execution_count": null,
   "metadata": {},
   "outputs": [],
   "source": [
    "start_time = 1172678400\n",
    "time_stamps = np.arange(start_time,start_time+week_seconds+epoch_length,epoch_length)\n",
    "coverage_test(df,time_stamps,valid_sensor_list)\n",
    "# 3-1"
   ]
  },
  {
   "cell_type": "code",
   "execution_count": 8,
   "metadata": {},
   "outputs": [
    {
     "name": "stdout",
     "output_type": "stream",
     "text": "<class 'pandas.core.frame.DataFrame'>\nInt64Index: 994276 entries, 3042 to 926905\nData columns (total 12 columns):\n #   Column                    Non-Null Count   Dtype  \n---  ------                    --------------   -----  \n 0   Station ID                994276 non-null  int64  \n 1   Year                      994276 non-null  int64  \n 2   Month                     994276 non-null  int64  \n 3   Day                       994276 non-null  int64  \n 4   Hour                      994276 non-null  int64  \n 5   Minute                    994276 non-null  int64  \n 6   Second                    994276 non-null  int64  \n 7   Time since the epoch [s]  994276 non-null  int64  \n 8   Sequence Number           994276 non-null  int64  \n 9   Ambient Temperature       970015 non-null  float64\n 10  Surface Temperature       973443 non-null  float64\n 11  Relative Humidity [%]     970695 non-null  float64\ndtypes: float64(3), int64(9)\nmemory usage: 98.6 MB\n"
    }
   ],
   "source": [
    "df.info(memory_usage='deep')"
   ]
  },
  {
   "cell_type": "code",
   "execution_count": 4,
   "metadata": {},
   "outputs": [],
   "source": [
    "def coverage_test(df,time_stamps,valid_sensor_list):\n",
    "    error = 0\n",
    "    diff_list = []\n",
    "    # all_np_list = []\n",
    "    sub_df_num  = 0\n",
    "    for i in range(len(time_stamps)-1):\n",
    "        # print(i)\n",
    "        # print(time_stamps[i],time_stamps[i+1])\n",
    "        sub_df = df[(df[unix_column] > time_stamps[i]) & (df[unix_column] < time_stamps[i+1])]\n",
    "        sensor_list = sub_df[idd].values\n",
    "        uniq = np.unique(sensor_list)\n",
    "        diff = np.setdiff1d(valid_sensor_list,uniq)    \n",
    "        # np_court = all_np(sensor_list)\n",
    "        # all_np_list.append(np_court)\n",
    "        error += len(diff)\n",
    "        diff_list.append(len(diff))\n",
    "        print(diff)\n",
    "        sub_df_num += len(sub_df)\n",
    "    print(sub_df_num/error)\n",
    "    diff_list = np.array(diff_list)\n",
    "    print(\"var: {0} \\t std: {1} \".format(diff_list.var(),diff_list.std()))\n",
    "    return error"
   ]
  }
 ]
}