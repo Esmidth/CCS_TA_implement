{
 "cells": [
  {
   "cell_type": "code",
   "execution_count": 1,
   "metadata": {},
   "outputs": [],
   "source": [
    "%matplotlib inline\n",
    "import pandas as pd\n",
    "import pickle\n",
    "import numpy as np\n",
    "import matplotlib.pyplot as plt"
   ]
  },
  {
   "cell_type": "code",
   "execution_count": 2,
   "metadata": {},
   "outputs": [],
   "source": [
    "from consts import sensor_day_seconds as day_second\n",
    "from consts import sensor_idd as idd\n",
    "from consts import sensor_idds_uniq as idds_uniq\n",
    "epoch_length = 30"
   ]
  },
  {
   "cell_type": "code",
   "execution_count": 5,
   "metadata": {},
   "outputs": [],
   "source": [
    "input_file = open('dict_list1.pkl','rb')"
   ]
  },
  {
   "cell_type": "code",
   "execution_count": 6,
   "metadata": {},
   "outputs": [],
   "source": [
    "input_list = pickle.load(input_file)"
   ]
  },
  {
   "cell_type": "code",
   "execution_count": null,
   "metadata": {},
   "outputs": [],
   "source": [
    "time_stamps = np.arange(start_point,start_point+day_second+epoch_length,epoch_length)"
   ]
  },
  {
   "cell_type": "code",
   "execution_count": 7,
   "metadata": {},
   "outputs": [],
   "source": [
    "input_file.close()"
   ]
  },
  {
   "cell_type": "code",
   "execution_count": 63,
   "metadata": {
    "tags": []
   },
   "outputs": [
    {
     "output_type": "stream",
     "name": "stdout",
     "text": "191\n"
    }
   ],
   "source": [
    "# flat \n",
    "epoch_list = []\n",
    "for day in input_list:\n",
    "    for \n",
    "print(len(epoch_list))"
   ]
  },
  {
   "cell_type": "code",
   "execution_count": 11,
   "metadata": {},
   "outputs": [],
   "source": [
    "len_array = np.array(len_list)"
   ]
  },
  {
   "cell_type": "code",
   "execution_count": 25,
   "metadata": {},
   "outputs": [
    {
     "output_type": "execute_result",
     "data": {
      "text/plain": "45"
     },
     "metadata": {},
     "execution_count": 25
    }
   ],
   "source": [
    "len_array[504253]"
   ]
  },
  {
   "cell_type": "code",
   "execution_count": 20,
   "metadata": {},
   "outputs": [
    {
     "output_type": "execute_result",
     "data": {
      "text/plain": "38.30496473240256"
     },
     "metadata": {},
     "execution_count": 20
    }
   ],
   "source": [
    "len_array.mean()"
   ]
  },
  {
   "cell_type": "code",
   "execution_count": 17,
   "metadata": {},
   "outputs": [
    {
     "output_type": "execute_result",
     "data": {
      "text/plain": "14.071593103755818"
     },
     "metadata": {},
     "execution_count": 17
    }
   ],
   "source": [
    "len_array.std()"
   ]
  },
  {
   "cell_type": "code",
   "execution_count": 8,
   "metadata": {
    "tags": []
   },
   "outputs": [],
   "source": [
    "# 将epoch epoch_len epoch_time 都flat化\n",
    "len_list = []\n",
    "time_stamp_list = []\n",
    "epoch_list = []\n",
    "for start_time in input_list:\n",
    "    # print(len(start_time[0]))\n",
    "    for dict in start_time[0]:\n",
    "        len_list.append(len(dict))\n",
    "        epoch_list.append(dict)\n",
    "    start_point = start_time[1]\n",
    "    time_stamps = np.arange(start_point,start_point+day_second+epoch_length,epoch_length)\n",
    "    time_stamp_list.extend(time_stamps[:-1])\n",
    "len_array = np.array(len_list)\n",
    "time_stamp_array = np.array(time_stamp_list)\n",
    "epoch_array = np.array(epoch_list)"
   ]
  },
  {
   "cell_type": "code",
   "execution_count": 9,
   "metadata": {},
   "outputs": [],
   "source": [
    "index1 = np.where(len_array > 40)[0]"
   ]
  },
  {
   "cell_type": "code",
   "execution_count": 10,
   "metadata": {},
   "outputs": [],
   "source": [
    "maybe_array = epoch_array[index1]"
   ]
  },
  {
   "cell_type": "code",
   "execution_count": 14,
   "metadata": {
    "tags": []
   },
   "outputs": [
    {
     "output_type": "stream",
     "name": "stdout",
     "text": "{7: 0, 8: 0, 11: 0, 14: 0, 17: 0, 19: 0, 23: 0, 26: 0, 27: 0, 31: 0, 33: 0, 34: 0, 35: 0, 40: 0, 46: 0, 47: 0, 49: 0, 51: 0, 55: 0, 57: 0, 59: 0, 60: 0, 61: 0, 62: 0, 63: 0, 65: 0, 69: 0, 70: 0, 71: 0, 72: 0, 73: 0, 75: 0, 76: 0, 79: 0, 80: 0, 81: 0, 82: 0, 84: 0, 87: 0, 88: 0, 89: 0, 93: 0, 96: 0, 97: 0, 98: 0, 100: 0, 103: 0, 104: 0, 109: 0, 111: 0, 121: 0}\n"
    }
   ],
   "source": [
    "# init maybe_dict \n",
    "maybe_dict = {}\n",
    "for i in idds_uniq:\n",
    "    maybe_dict[i] = 0\n",
    "print(maybe_dict)\n"
   ]
  },
  {
   "cell_type": "code",
   "execution_count": 15,
   "metadata": {
    "tags": []
   },
   "outputs": [],
   "source": [
    "for item in maybe_array:\n",
    "    uniq_item = np.unique(item)\n",
    "    for j in uniq_item:\n",
    "        maybe_dict[j] += 1\n",
    "    "
   ]
  },
  {
   "cell_type": "code",
   "execution_count": 16,
   "metadata": {
    "tags": []
   },
   "outputs": [
    {
     "output_type": "stream",
     "name": "stdout",
     "text": "{7: 122847, 8: 367667, 11: 373104, 14: 363110, 17: 371860, 19: 353906, 23: 366271, 26: 364369, 27: 112280, 31: 359589, 33: 365842, 34: 375659, 35: 375659, 40: 353985, 46: 372432, 47: 121452, 49: 367229, 51: 377511, 55: 368538, 57: 364875, 59: 255396, 60: 349257, 61: 248856, 62: 302648, 63: 264866, 65: 336513, 69: 376076, 70: 375960, 71: 240499, 72: 361416, 73: 368516, 75: 348366, 76: 370370, 79: 325637, 80: 355182, 81: 306862, 82: 168521, 84: 366407, 87: 376175, 88: 303331, 89: 373975, 93: 361673, 96: 373433, 97: 369090, 98: 282533, 100: 364699, 103: 377825, 104: 373251, 109: 224304, 111: 348422, 121: 345429}\n"
    }
   ],
   "source": [
    "print(maybe_dict)"
   ]
  },
  {
   "cell_type": "code",
   "execution_count": 17,
   "metadata": {},
   "outputs": [],
   "source": [
    "maybe_dict_sorted = sorted(maybe_dict.items(),key=lambda kv:(kv[1],kv[0]),reverse=True)"
   ]
  },
  {
   "cell_type": "code",
   "execution_count": 18,
   "metadata": {
    "tags": []
   },
   "outputs": [],
   "source": [
    "maybe_dict_sorted = np.array(maybe_dict_sorted)"
   ]
  },
  {
   "cell_type": "code",
   "execution_count": 144,
   "metadata": {
    "tags": []
   },
   "outputs": [
    {
     "output_type": "stream",
     "name": "stdout",
     "text": "[103  51  87  69  70  35  34  89  96 104  11  46  17  76  97  55  73   8\n  49  84  23  33  57 100  26  14  93  72]\n"
    }
   ],
   "source": [
    "sub_sensor_list = maybe_dict_sorted.T[0][:28]\n",
    "print(sub_sensor_list)"
   ]
  },
  {
   "cell_type": "code",
   "execution_count": 145,
   "metadata": {},
   "outputs": [
    {
     "output_type": "execute_result",
     "data": {
      "text/plain": "array([377825, 377511, 376175, 376076, 375960, 375659, 375659, 373975,\n       373433, 373251, 373104, 372432, 371860, 370370, 369090, 368538,\n       368516, 367667, 367229, 366407, 366271, 365842, 364875, 364699,\n       364369, 363110, 361673, 361416, 359589, 355182, 353985, 353906,\n       349257, 348422, 348366, 345429, 336513, 325637, 306862, 303331])"
     },
     "metadata": {},
     "execution_count": 145
    }
   ],
   "source": [
    "maybe_dict_sorted.T[1][:40]"
   ]
  },
  {
   "cell_type": "code",
   "execution_count": 160,
   "metadata": {
    "tags": []
   },
   "outputs": [],
   "source": [
    "sub_index = []\n",
    "for i, item in enumerate(epoch_array):\n",
    "    uniq_item = np.unique(item)\n",
    "    diff = np.setdiff1d(sub_sensor_list,uniq_item)\n",
    "    if len(diff) == 0:\n",
    "        sub_index.append(i)\n"
   ]
  },
  {
   "cell_type": "code",
   "execution_count": 162,
   "metadata": {
    "tags": []
   },
   "outputs": [
    {
     "output_type": "execute_result",
     "data": {
      "text/plain": "143979"
     },
     "metadata": {},
     "execution_count": 162
    }
   ],
   "source": [
    "len(sub_index)"
   ]
  },
  {
   "cell_type": "code",
   "execution_count": 11,
   "metadata": {},
   "outputs": [],
   "source": [
    "# 测试sensor数量为多少合适\n",
    "def get_sub_index(sensor_count):\n",
    "    sub_sensor_list = maybe_dict_sorted.T[0][:sensor_count]\n",
    "    sub_index = []\n",
    "    for i, item in enumerate(epoch_array):\n",
    "        uniq_item = np.unique(item)\n",
    "        diff = np.setdiff1d(sub_sensor_list,uniq_item)\n",
    "        if len(diff) == 0:\n",
    "            sub_index.append(i)\n",
    "    return len(sub_index),sub_index"
   ]
  },
  {
   "cell_type": "code",
   "execution_count": 19,
   "metadata": {
    "tags": []
   },
   "outputs": [
    {
     "output_type": "stream",
     "name": "stdout",
     "text": "10 346050\n11 335675\n12 318371\n13 306654\n14 284198\n15 268521\n16 257301\n17 246621\n18 235724\n19 226255\n20 215845\n21 206646\n22 198888\n23 189089\n24 177260\n25 171293\n26 161414\n27 154213\n28 143979\n29 132642\n30 123279\n31 114319\n32 104536\n33 93387\n34 83788\n35 80676\n36 71524\n37 67828\n38 62249\n39 45123\n40 41373\n41 37263\n42 33852\n43 16125\n44 14077\n45 8054\n46 7153\n47 7021\n48 4894\n49 0\n50 0\n"
    }
   ],
   "source": [
    "# sensor数量与合适epoch之间的关系\n",
    "sensor_count_list = np.linspace(10,50,41,dtype=int)\n",
    "sub_index_list = []\n",
    "for i in sensor_count_list:\n",
    "    tmp = get_sub_index(i)\n",
    "    sub_index_list.append(tmp)\n",
    "    print(i,tmp[0])"
   ]
  },
  {
   "cell_type": "code",
   "execution_count": 21,
   "metadata": {},
   "outputs": [],
   "source": [
    "sub_index_array = np.array(sub_index_list)"
   ]
  },
  {
   "cell_type": "code",
   "execution_count": 32,
   "metadata": {
    "tags": []
   },
   "outputs": [
    {
     "output_type": "stream",
     "name": "stdout",
     "text": "346050\n335675\n"
    }
   ],
   "source": [
    "def get_length_count(window)\n",
    "    for item in sub_index_array[:2]:\n",
    "        zeros = np.zeros_like(epoch_array)\n",
    "        zeros[item[1]] = 1\n",
    "        sum = 0\n",
    "        for j in range(len(zeros)):\n",
    "            tmp = zeros[i:i+window]\n",
    "            if 0 is not in tmp:\n",
    "                sum += 1\n",
    "    "
   ]
  },
  {
   "cell_type": "code",
   "execution_count": 36,
   "metadata": {},
   "outputs": [
    {
     "output_type": "execute_result",
     "data": {
      "text/plain": "array([0., 0., 0., 0.])"
     },
     "metadata": {},
     "execution_count": 36
    }
   ],
   "source": [
    "zeros = np.zeros(5)\n",
    "zeros[1:5]"
   ]
  },
  {
   "cell_type": "code",
   "execution_count": 22,
   "metadata": {},
   "outputs": [],
   "source": [
    "output_file = open('sub_index_array.pkl','wb')\n",
    "pickle.dump(sub_index_array,output_file)\n",
    "output_file.close()"
   ]
  },
  {
   "cell_type": "code",
   "execution_count": 4,
   "metadata": {},
   "outputs": [
    {
     "output_type": "error",
     "ename": "EOFError",
     "evalue": "Ran out of input",
     "traceback": [
      "\u001b[0;31m---------------------------------------------------------------------------\u001b[0m",
      "\u001b[0;31mEOFError\u001b[0m                                  Traceback (most recent call last)",
      "\u001b[0;32m<ipython-input-4-615c1f2cc6e6>\u001b[0m in \u001b[0;36m<module>\u001b[0;34m\u001b[0m\n\u001b[1;32m      1\u001b[0m \u001b[0minput_file\u001b[0m \u001b[0;34m=\u001b[0m \u001b[0mopen\u001b[0m\u001b[0;34m(\u001b[0m\u001b[0;34m'sub_index_array.pkl'\u001b[0m\u001b[0;34m,\u001b[0m\u001b[0;34m'rb'\u001b[0m\u001b[0;34m)\u001b[0m\u001b[0;34m\u001b[0m\u001b[0;34m\u001b[0m\u001b[0m\n\u001b[0;32m----> 2\u001b[0;31m \u001b[0mpickle\u001b[0m\u001b[0;34m.\u001b[0m\u001b[0mload\u001b[0m\u001b[0;34m(\u001b[0m\u001b[0minput_file\u001b[0m\u001b[0;34m)\u001b[0m\u001b[0;34m\u001b[0m\u001b[0;34m\u001b[0m\u001b[0m\n\u001b[0m\u001b[1;32m      3\u001b[0m \u001b[0minput_file\u001b[0m\u001b[0;34m.\u001b[0m\u001b[0mclose\u001b[0m\u001b[0;34m(\u001b[0m\u001b[0;34m)\u001b[0m\u001b[0;34m\u001b[0m\u001b[0;34m\u001b[0m\u001b[0m\n",
      "\u001b[0;31mEOFError\u001b[0m: Ran out of input"
     ]
    }
   ],
   "source": [
    "input_file = open('sub_index_array.pkl','rb')\n",
    "pickle.load(input_file)\n",
    "input_file.close()"
   ]
  },
  {
   "cell_type": "code",
   "execution_count": 183,
   "metadata": {
    "tags": []
   },
   "outputs": [],
   "source": [
    "sub_index_array = np.array(sub_index_list)"
   ]
  },
  {
   "cell_type": "code",
   "execution_count": 188,
   "metadata": {
    "tags": []
   },
   "outputs": [],
   "source": [
    "for exp in sub_index_array[:2]:\n",
    "    epoch_array[exp[1]]"
   ]
  },
  {
   "cell_type": "code",
   "execution_count": null,
   "metadata": {},
   "outputs": [],
   "source": [
    "window = 5"
   ]
  },
  {
   "cell_type": "code",
   "execution_count": 103,
   "metadata": {
    "tags": []
   },
   "outputs": [
    {
     "output_type": "stream",
     "name": "stdout",
     "text": "[  7   8  11  14  17  19  23  26  27  31  33  34  35  40  46  47  49  51\n  55  57  59  60  61  62  63  65  69  70  71  72  73  75  76  79  80  81\n  82  84  87  88  89  93  96  97  98 100 103 104 109 111 121]\n"
    }
   ],
   "source": [
    "print(idds_uniq)"
   ]
  }
 ],
 "metadata": {
  "language_info": {
   "codemirror_mode": {
    "name": "ipython",
    "version": 3
   },
   "file_extension": ".py",
   "mimetype": "text/x-python",
   "name": "python",
   "nbconvert_exporter": "python",
   "pygments_lexer": "ipython3",
   "version": "3.7.6-final"
  },
  "orig_nbformat": 2,
  "kernelspec": {
   "name": "python37664bitccstaconda3a2139a6822448159c7afc22ea6ab768",
   "display_name": "Python 3.7.6 64-bit ('ccs_ta': conda)"
  }
 },
 "nbformat": 4,
 "nbformat_minor": 2
}