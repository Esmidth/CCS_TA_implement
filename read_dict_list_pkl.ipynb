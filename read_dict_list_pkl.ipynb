{
 "cells": [
  {
   "cell_type": "code",
   "execution_count": 1,
   "metadata": {},
   "outputs": [],
   "source": [
    "%matplotlib inline\n",
    "import pandas as pd\n",
    "import pickle\n",
    "import numpy as np\n",
    "import matplotlib.pyplot as plt"
   ]
  },
  {
   "cell_type": "code",
   "execution_count": 31,
   "metadata": {},
   "outputs": [],
   "source": [
    "from consts import sensor_day_seconds as day_second\n",
    "from consts import sensor_idd as idd\n",
    "from consts import sensor_idds_uniq as idds_uniq\n",
    "from consts import sensor_idds_uniq_sorted as idds_uniq_sorted\n",
    "from consts import sensor_a_temperature as a_temperature\n",
    "from consts import sensor_s_temperature as s_temperature\n",
    "from consts import sensor_unix_column as unix_column\n",
    "from consts import sensor_idd as idd\n",
    "epoch_length = 30"
   ]
  },
  {
   "cell_type": "code",
   "execution_count": 4,
   "metadata": {},
   "outputs": [],
   "source": [
    "input_file = open('dict_list1.pkl','rb')\n",
    "input_list = pickle.load(input_file)\n",
    "input_file.close()"
   ]
  },
  {
   "cell_type": "code",
   "execution_count": 5,
   "metadata": {
    "tags": []
   },
   "outputs": [],
   "source": [
    "# 将epoch epoch_len epoch_time 都flat化\n",
    "len_list = []\n",
    "time_stamp_list = []\n",
    "epoch_list = []\n",
    "for start_time in input_list:\n",
    "    # print(len(start_time[0]))\n",
    "    for dict in start_time[0]:\n",
    "        len_list.append(len(dict))\n",
    "        epoch_list.append(dict)\n",
    "    start_point = start_time[1]\n",
    "    time_stamps = np.arange(start_point,start_point+day_second+epoch_length,epoch_length)\n",
    "    time_stamp_list.extend(time_stamps[:-1])\n",
    "len_array = np.array(len_list)\n",
    "time_stamp_array = np.array(time_stamp_list)\n",
    "epoch_array = np.array(epoch_list)"
   ]
  },
  {
   "cell_type": "code",
   "execution_count": null,
   "metadata": {},
   "outputs": [],
   "source": [
    "index1 = np.where(len_array > 40)[0]\n",
    "maybe_array = epoch_array[index1]"
   ]
  },
  {
   "cell_type": "code",
   "execution_count": null,
   "metadata": {
    "tags": []
   },
   "outputs": [],
   "source": [
    "# init maybe_dict \n",
    "maybe_dict = {}\n",
    "for i in idds_uniq:\n",
    "    maybe_dict[i] = 0\n",
    "print(maybe_dict)\n"
   ]
  },
  {
   "cell_type": "code",
   "execution_count": null,
   "metadata": {
    "tags": []
   },
   "outputs": [],
   "source": [
    "for item in maybe_array:\n",
    "    uniq_item = np.unique(item)\n",
    "    for j in uniq_item:\n",
    "        maybe_dict[j] += 1\n",
    "print(maybe_dict)"
   ]
  },
  {
   "cell_type": "code",
   "execution_count": null,
   "metadata": {},
   "outputs": [],
   "source": [
    "maybe_dict_sorted = sorted(maybe_dict.items(),key=lambda kv:(kv[1],kv[0]),reverse=True)\n",
    "maybe_dict_sorted = np.array(maybe_dict_sorted)"
   ]
  },
  {
   "cell_type": "code",
   "execution_count": null,
   "metadata": {
    "tags": []
   },
   "outputs": [],
   "source": [
    "sub_sensor_list = maybe_dict_sorted.T[0][:28]\n",
    "print(sub_sensor_list)"
   ]
  },
  {
   "cell_type": "code",
   "execution_count": null,
   "metadata": {},
   "outputs": [],
   "source": [
    "maybe_dict_sorted.T[1][:40]"
   ]
  },
  {
   "cell_type": "code",
   "execution_count": null,
   "metadata": {},
   "outputs": [],
   "source": [
    "# 测试sensor数量为多少合适\n",
    "def get_sub_index(sensor_count):\n",
    "    sub_sensor_list = maybe_dict_sorted.T[0][:sensor_count]\n",
    "    sub_index = []\n",
    "    for i, item in enumerate(epoch_array):\n",
    "        uniq_item = np.unique(item)\n",
    "        diff = np.setdiff1d(sub_sensor_list,uniq_item)\n",
    "        if len(diff) == 0:\n",
    "            sub_index.append(i)\n",
    "    return len(sub_index),sub_index"
   ]
  },
  {
   "cell_type": "code",
   "execution_count": null,
   "metadata": {
    "tags": []
   },
   "outputs": [],
   "source": [
    "# sensor数量与合适epoch之间的关系\n",
    "sensor_count_list = np.linspace(10,50,41,dtype=int)\n",
    "sub_index_list = []\n",
    "for i in sensor_count_list:\n",
    "    tmp = get_sub_index(i)\n",
    "    sub_index_list.append(tmp)\n",
    "    print(i,tmp[0])"
   ]
  },
  {
   "cell_type": "code",
   "execution_count": null,
   "metadata": {},
   "outputs": [],
   "source": [
    "sub_index_array = np.array(sub_index_list)"
   ]
  },
  {
   "cell_type": "code",
   "execution_count": 6,
   "metadata": {
    "tags": []
   },
   "outputs": [],
   "source": [
    "def get_length_count(window):\n",
    "    for item in sub_index_array:\n",
    "        zeros = np.zeros_like(epoch_array)\n",
    "        zeros[item[1]] = 1\n",
    "        sum = 0\n",
    "        for j in range(len(zeros)):\n",
    "            tmp = zeros[j:j+window]\n",
    "            if 0 not in tmp:\n",
    "                sum += 1\n",
    "        print(sum)"
   ]
  },
  {
   "cell_type": "code",
   "execution_count": null,
   "metadata": {},
   "outputs": [],
   "source": [
    "output_file = open('sub_index_array.pkl','wb')\n",
    "pickle.dump(sub_index_array,output_file)\n",
    "output_file.close()"
   ]
  },
  {
   "cell_type": "code",
   "execution_count": 7,
   "metadata": {},
   "outputs": [],
   "source": [
    "input_file = open('sub_index_array.pkl','rb')\n",
    "sub_index_array = pickle.load(input_file)\n",
    "input_file.close()"
   ]
  },
  {
   "cell_type": "code",
   "execution_count": 8,
   "metadata": {
    "tags": []
   },
   "outputs": [
    {
     "output_type": "stream",
     "name": "stdout",
     "text": "148328\n132212\n112581\n98628\n83055\n70682\n60151\n53141\n46963\n38975\n32943\n27983\n24729\n21201\n18281\n16287\n13963\n12151\n10287\n8737\n7624\n6181\n5411\n4335\n3961\n3655\n3141\n2731\n2369\n1451\n1222\n1020\n948\n369\n344\n147\n134\n119\n106\n0\n0\n"
    }
   ],
   "source": [
    "get_length_count(7)"
   ]
  },
  {
   "cell_type": "code",
   "execution_count": 28,
   "metadata": {
    "tags": []
   },
   "outputs": [
    {
     "output_type": "stream",
     "name": "stdout",
     "text": "19\n"
    }
   ],
   "source": [
    "def drop_useless_sensor(df,sensor_list):\n",
    "    # print(sensor_list)\n",
    "    for i in df[idd].values:\n",
    "        if i not in sensor_list:\n",
    "            df = df[df[idd] != i]\n",
    "    # print(len(df))\n",
    "    if len(df) < len(sensor_list):\n",
    "        return None\n",
    "    return df\n",
    "t = drop_useless_sensor(ddf_list[indices[3]],idds_uniq_sorted[:19])\n",
    "print(len(t))"
   ]
  },
  {
   "cell_type": "code",
   "execution_count": 30,
   "metadata": {},
   "outputs": [],
   "source": [
    "t = t.sort_values(by=idd)"
   ]
  },
  {
   "cell_type": "code",
   "execution_count": 37,
   "metadata": {},
   "outputs": [
    {
     "output_type": "execute_result",
     "data": {
      "text/plain": "array([10.412, 10.412, 12.35 , 11.6  , 12.725,  8.85 , 10.725, 11.037,\n       11.287, 11.037, 10.85 , 10.1  , 10.725, 11.037, 10.6  , 10.35 ,\n       10.662, 11.1  ,  9.475])"
     },
     "metadata": {},
     "execution_count": 37
    }
   ],
   "source": [
    "t[s_temperature].values"
   ]
  },
  {
   "cell_type": "code",
   "execution_count": 36,
   "metadata": {},
   "outputs": [
    {
     "output_type": "execute_result",
     "data": {
      "text/plain": "       Station ID  Year  Month  Day  Hour  Minute  Second  \\\n90482           8  2006     12    4    20      53      43   \n46039          11  2006     12    4    20      53      43   \n85747          17  2006     12    4    20      53      57   \n83293          34  2006     12    4    20      53      39   \n89434          35  2006     12    4    20      53      35   \n87287          46  2006     12    4    20      53      43   \n28333          49  2006     12    4    20      53      39   \n30960          51  2006     12    4    20      53      53   \n44224          55  2006     12    4    20      53      42   \n62313          69  2006     12    4    20      53      36   \n46109          70  2006     12    4    20      53      50   \n33288          73  2006     12    4    20      53      56   \n513            76  2006     12    4    20      53      46   \n31361          87  2006     12    4    20      53      41   \n28105          89  2006     12    4    20      53      57   \n46052          96  2006     12    4    20      53      56   \n40134          97  2006     12    4    20      53      38   \n19942         103  2006     12    4    20      53      41   \n27606         104  2006     12    4    20      53      33   \n\n       Time since the epoch [s]  Sequence Number  Ambient Temperature  \\\n90482                1165262023            21394                10.93   \n46039                1165262023            51370                11.24   \n85747                1165262037            12655                11.39   \n83293                1165262019             1160                11.13   \n89434                1165262015             1073                11.47   \n87287                1165262023             9555                11.02   \n28333                1165262019            30307                11.26   \n30960                1165262033            33052                11.34   \n44224                1165262022              833                  NaN   \n62313                1165262016            30070                  NaN   \n46109                1165262030            51324                11.28   \n33288                1165262036            12555                11.34   \n513                  1165262026              620                11.48   \n31361                1165262021             4763                11.20   \n28105                1165262037            30124                11.56   \n46052                1165262036            51377                11.48   \n40134                1165262018            51390                11.42   \n19942                1165262021            26667                11.24   \n27606                1165262013            21398                11.48   \n\n       Surface Temperature  Relative Humidity [%]  \n90482               10.412                 88.940  \n46039               10.412                 87.241  \n85747               12.350                 86.144  \n83293               11.600                 85.988  \n89434               12.725                 88.168  \n87287                8.850                 91.101  \n28333               10.725                 89.338  \n30960               11.037                 87.725  \n44224               11.287                    NaN  \n62313               11.037                    NaN  \n46109               10.850                 89.770  \n33288               10.100                 90.565  \n513                 10.725                 91.791  \n31361               11.037                 93.322  \n28105               10.600                 92.922  \n46052               10.350                 93.181  \n40134               10.662                 93.638  \n19942               11.100                 94.144  \n27606                9.475                 92.922  ",
      "text/html": "<div>\n<style scoped>\n    .dataframe tbody tr th:only-of-type {\n        vertical-align: middle;\n    }\n\n    .dataframe tbody tr th {\n        vertical-align: top;\n    }\n\n    .dataframe thead th {\n        text-align: right;\n    }\n</style>\n<table border=\"1\" class=\"dataframe\">\n  <thead>\n    <tr style=\"text-align: right;\">\n      <th></th>\n      <th>Station ID</th>\n      <th>Year</th>\n      <th>Month</th>\n      <th>Day</th>\n      <th>Hour</th>\n      <th>Minute</th>\n      <th>Second</th>\n      <th>Time since the epoch [s]</th>\n      <th>Sequence Number</th>\n      <th>Ambient Temperature</th>\n      <th>Surface Temperature</th>\n      <th>Relative Humidity [%]</th>\n    </tr>\n  </thead>\n  <tbody>\n    <tr>\n      <th>90482</th>\n      <td>8</td>\n      <td>2006</td>\n      <td>12</td>\n      <td>4</td>\n      <td>20</td>\n      <td>53</td>\n      <td>43</td>\n      <td>1165262023</td>\n      <td>21394</td>\n      <td>10.93</td>\n      <td>10.412</td>\n      <td>88.940</td>\n    </tr>\n    <tr>\n      <th>46039</th>\n      <td>11</td>\n      <td>2006</td>\n      <td>12</td>\n      <td>4</td>\n      <td>20</td>\n      <td>53</td>\n      <td>43</td>\n      <td>1165262023</td>\n      <td>51370</td>\n      <td>11.24</td>\n      <td>10.412</td>\n      <td>87.241</td>\n    </tr>\n    <tr>\n      <th>85747</th>\n      <td>17</td>\n      <td>2006</td>\n      <td>12</td>\n      <td>4</td>\n      <td>20</td>\n      <td>53</td>\n      <td>57</td>\n      <td>1165262037</td>\n      <td>12655</td>\n      <td>11.39</td>\n      <td>12.350</td>\n      <td>86.144</td>\n    </tr>\n    <tr>\n      <th>83293</th>\n      <td>34</td>\n      <td>2006</td>\n      <td>12</td>\n      <td>4</td>\n      <td>20</td>\n      <td>53</td>\n      <td>39</td>\n      <td>1165262019</td>\n      <td>1160</td>\n      <td>11.13</td>\n      <td>11.600</td>\n      <td>85.988</td>\n    </tr>\n    <tr>\n      <th>89434</th>\n      <td>35</td>\n      <td>2006</td>\n      <td>12</td>\n      <td>4</td>\n      <td>20</td>\n      <td>53</td>\n      <td>35</td>\n      <td>1165262015</td>\n      <td>1073</td>\n      <td>11.47</td>\n      <td>12.725</td>\n      <td>88.168</td>\n    </tr>\n    <tr>\n      <th>87287</th>\n      <td>46</td>\n      <td>2006</td>\n      <td>12</td>\n      <td>4</td>\n      <td>20</td>\n      <td>53</td>\n      <td>43</td>\n      <td>1165262023</td>\n      <td>9555</td>\n      <td>11.02</td>\n      <td>8.850</td>\n      <td>91.101</td>\n    </tr>\n    <tr>\n      <th>28333</th>\n      <td>49</td>\n      <td>2006</td>\n      <td>12</td>\n      <td>4</td>\n      <td>20</td>\n      <td>53</td>\n      <td>39</td>\n      <td>1165262019</td>\n      <td>30307</td>\n      <td>11.26</td>\n      <td>10.725</td>\n      <td>89.338</td>\n    </tr>\n    <tr>\n      <th>30960</th>\n      <td>51</td>\n      <td>2006</td>\n      <td>12</td>\n      <td>4</td>\n      <td>20</td>\n      <td>53</td>\n      <td>53</td>\n      <td>1165262033</td>\n      <td>33052</td>\n      <td>11.34</td>\n      <td>11.037</td>\n      <td>87.725</td>\n    </tr>\n    <tr>\n      <th>44224</th>\n      <td>55</td>\n      <td>2006</td>\n      <td>12</td>\n      <td>4</td>\n      <td>20</td>\n      <td>53</td>\n      <td>42</td>\n      <td>1165262022</td>\n      <td>833</td>\n      <td>NaN</td>\n      <td>11.287</td>\n      <td>NaN</td>\n    </tr>\n    <tr>\n      <th>62313</th>\n      <td>69</td>\n      <td>2006</td>\n      <td>12</td>\n      <td>4</td>\n      <td>20</td>\n      <td>53</td>\n      <td>36</td>\n      <td>1165262016</td>\n      <td>30070</td>\n      <td>NaN</td>\n      <td>11.037</td>\n      <td>NaN</td>\n    </tr>\n    <tr>\n      <th>46109</th>\n      <td>70</td>\n      <td>2006</td>\n      <td>12</td>\n      <td>4</td>\n      <td>20</td>\n      <td>53</td>\n      <td>50</td>\n      <td>1165262030</td>\n      <td>51324</td>\n      <td>11.28</td>\n      <td>10.850</td>\n      <td>89.770</td>\n    </tr>\n    <tr>\n      <th>33288</th>\n      <td>73</td>\n      <td>2006</td>\n      <td>12</td>\n      <td>4</td>\n      <td>20</td>\n      <td>53</td>\n      <td>56</td>\n      <td>1165262036</td>\n      <td>12555</td>\n      <td>11.34</td>\n      <td>10.100</td>\n      <td>90.565</td>\n    </tr>\n    <tr>\n      <th>513</th>\n      <td>76</td>\n      <td>2006</td>\n      <td>12</td>\n      <td>4</td>\n      <td>20</td>\n      <td>53</td>\n      <td>46</td>\n      <td>1165262026</td>\n      <td>620</td>\n      <td>11.48</td>\n      <td>10.725</td>\n      <td>91.791</td>\n    </tr>\n    <tr>\n      <th>31361</th>\n      <td>87</td>\n      <td>2006</td>\n      <td>12</td>\n      <td>4</td>\n      <td>20</td>\n      <td>53</td>\n      <td>41</td>\n      <td>1165262021</td>\n      <td>4763</td>\n      <td>11.20</td>\n      <td>11.037</td>\n      <td>93.322</td>\n    </tr>\n    <tr>\n      <th>28105</th>\n      <td>89</td>\n      <td>2006</td>\n      <td>12</td>\n      <td>4</td>\n      <td>20</td>\n      <td>53</td>\n      <td>57</td>\n      <td>1165262037</td>\n      <td>30124</td>\n      <td>11.56</td>\n      <td>10.600</td>\n      <td>92.922</td>\n    </tr>\n    <tr>\n      <th>46052</th>\n      <td>96</td>\n      <td>2006</td>\n      <td>12</td>\n      <td>4</td>\n      <td>20</td>\n      <td>53</td>\n      <td>56</td>\n      <td>1165262036</td>\n      <td>51377</td>\n      <td>11.48</td>\n      <td>10.350</td>\n      <td>93.181</td>\n    </tr>\n    <tr>\n      <th>40134</th>\n      <td>97</td>\n      <td>2006</td>\n      <td>12</td>\n      <td>4</td>\n      <td>20</td>\n      <td>53</td>\n      <td>38</td>\n      <td>1165262018</td>\n      <td>51390</td>\n      <td>11.42</td>\n      <td>10.662</td>\n      <td>93.638</td>\n    </tr>\n    <tr>\n      <th>19942</th>\n      <td>103</td>\n      <td>2006</td>\n      <td>12</td>\n      <td>4</td>\n      <td>20</td>\n      <td>53</td>\n      <td>41</td>\n      <td>1165262021</td>\n      <td>26667</td>\n      <td>11.24</td>\n      <td>11.100</td>\n      <td>94.144</td>\n    </tr>\n    <tr>\n      <th>27606</th>\n      <td>104</td>\n      <td>2006</td>\n      <td>12</td>\n      <td>4</td>\n      <td>20</td>\n      <td>53</td>\n      <td>33</td>\n      <td>1165262013</td>\n      <td>21398</td>\n      <td>11.48</td>\n      <td>9.475</td>\n      <td>92.922</td>\n    </tr>\n  </tbody>\n</table>\n</div>"
     },
     "metadata": {},
     "execution_count": 36
    }
   ],
   "source": [
    "def get_transform_matrix(sensor_list):\n",
    "    "
   ]
  },
  {
   "cell_type": "code",
   "execution_count": 53,
   "metadata": {},
   "outputs": [],
   "source": [
    "for i,indice in enumerate(t[idd].values):\n",
    "    flat_matrix[indice_dict[indice]] = t[s_temperature].values[i]"
   ]
  },
  {
   "cell_type": "code",
   "execution_count": 57,
   "metadata": {},
   "outputs": [
    {
     "output_type": "execute_result",
     "data": {
      "text/plain": "array([[ 0.   ,  0.   ,  0.   ,  0.   ,  0.   ,  0.   ,  0.   ,  0.   ,\n         0.   ,  0.   ],\n       [ 0.   ,  0.   ,  0.   ,  0.   ,  0.   , 12.35 ,  0.   ,  0.   ,\n         0.   ,  0.   ],\n       [ 0.   ,  0.   ,  0.   ,  0.   ,  0.   ,  0.   ,  0.   ,  8.85 ,\n        10.412,  0.   ],\n       [ 0.   ,  0.   ,  0.   ,  0.   ,  0.   ,  0.   ,  0.   , 11.6  ,\n         0.   ,  0.   ],\n       [ 0.   ,  0.   ,  0.   ,  0.   ,  0.   ,  0.   ,  0.   ,  0.   ,\n        10.725,  0.   ],\n       [ 0.   , 11.037, 10.412, 10.85 , 10.725,  0.   ,  0.   ,  0.   ,\n         0.   ,  0.   ],\n       [ 0.   ,  0.   , 11.287,  0.   , 10.1  ,  0.   , 12.725,  0.   ,\n        11.037,  0.   ],\n       [11.1  ,  0.   , 10.35 ,  0.   ,  0.   , 10.662,  0.   ,  0.   ,\n         0.   ,  0.   ],\n       [ 0.   , 11.037,  0.   ,  0.   ,  9.475,  0.   ,  0.   ,  0.   ,\n         0.   ,  0.   ],\n       [ 0.   , 10.6  ,  0.   ,  0.   ,  0.   ,  0.   ,  0.   ,  0.   ,\n         0.   ,  0.   ]])"
     },
     "metadata": {},
     "execution_count": 57
    }
   ],
   "source": [
    "flat_matrix.reshape(10,10)"
   ]
  },
  {
   "cell_type": "code",
   "execution_count": 52,
   "metadata": {},
   "outputs": [],
   "source": [
    "flat_matrix = np.zeros(100)"
   ]
  },
  {
   "cell_type": "code",
   "execution_count": 43,
   "metadata": {},
   "outputs": [],
   "source": [
    "indice_dict = {63:10,23:14,17:15,47:20,7:21,27:22,26:24,14:25,121:26,46:27,8:28,111:32,75:33,57:34,59:35,40:36,34:37,61:41,71:42,65:43,82:45,62:46,76:48,51:51,11:52,70:53,49:54,60:57,84:60,81:61,55:62,72:63,73:64,35:66,31:67,69:68,79:69,103:70,80:71,96:72,97:75,100:76,33:77,19:78,93:79,109:80,87:81,104:84,89:91,88:92,98:94}"
   ]
  },
  {
   "cell_type": "code",
   "execution_count": 47,
   "metadata": {
    "tags": []
   },
   "outputs": [],
   "source": [
    "for i in indice_dict:\n",
    "    flat_matrix[indice_dict[i]] = i"
   ]
  },
  {
   "cell_type": "code",
   "execution_count": 49,
   "metadata": {},
   "outputs": [
    {
     "output_type": "execute_result",
     "data": {
      "text/plain": "array([[  0.,   0.,   0.,   0.,   0.,   0.,   0.,   0.,   0.,   0.],\n       [ 63.,   0.,   0.,   0.,  23.,  17.,   0.,   0.,   0.,   0.],\n       [ 47.,   7.,  27.,   0.,  26.,  14., 121.,  46.,   8.,   0.],\n       [  0.,   0., 111.,  75.,  57.,  59.,  40.,  34.,   0.,   0.],\n       [  0.,  61.,  71.,  65.,   0.,  82.,  62.,   0.,  76.,   0.],\n       [  0.,  51.,  11.,  70.,  49.,   0.,   0.,  60.,   0.,   0.],\n       [ 84.,  81.,  55.,  72.,  73.,   0.,  35.,  31.,  69.,  79.],\n       [103.,  80.,  96.,   0.,   0.,  97., 100.,  33.,  19.,  93.],\n       [109.,  87.,   0.,   0., 104.,   0.,   0.,   0.,   0.,   0.],\n       [  0.,  89.,  88.,   0.,  98.,   0.,   0.,   0.,   0.,   0.]])"
     },
     "metadata": {},
     "execution_count": 49
    }
   ],
   "source": [
    "flat_matrix.reshape(10,10)"
   ]
  },
  {
   "cell_type": "code",
   "execution_count": 16,
   "metadata": {
    "tags": []
   },
   "outputs": [
    {
     "output_type": "stream",
     "name": "stdout",
     "text": "19\n"
    }
   ],
   "source": [
    "def handle_df(ddf_list,indice,sensor_list):\n",
    "    df = ddf_list[indice]\n",
    "    df = df.drop_duplicates(idd)\n",
    "    df = drop_useless_sensor(df,sensor_list)\n",
    "    print(len(df))\n",
    "\n",
    "handle_df(ddf_list,indices[0],idds_uniq_sorted[:19])"
   ]
  },
  {
   "cell_type": "code",
   "execution_count": 21,
   "metadata": {
    "tags": []
   },
   "outputs": [
    {
     "output_type": "stream",
     "name": "stdout",
     "text": "19\n37\n36\n19\n"
    }
   ],
   "source": [
    "def convert_df_to_dm(df,indice,sensor_list):\n",
    "    # print(sensor_list)\n",
    "    print(len(sensor_list))\n",
    "    df = ddf_list[indice]\n",
    "    print(len(df))\n",
    "    df = df.drop_duplicates(idd)\n",
    "    print(len(df))\n",
    "    df = drop_useless_sensor(df,sensor_list)\n",
    "    print(len(df))\n",
    "    \n",
    "\n",
    "convert_df_to_dm(ddf_list,indices[0],idds_uniq_sorted[:19])"
   ]
  },
  {
   "cell_type": "code",
   "execution_count": 22,
   "metadata": {
    "tags": []
   },
   "outputs": [
    {
     "output_type": "stream",
     "name": "stdout",
     "text": "[103, 51, 87, 69, 70, 35, 34, 89, 96, 104, 11, 46, 17, 76, 97, 55, 73, 8, 49]\n"
    }
   ],
   "source": [
    "def get_data_matrixs(sensor_count,window,ddf_list = None,sub_index_array = None):\n",
    "    print(idds_uniq_sorted[:sensor_count])\n",
    "    tmp = sub_index_array[sensor_count-10][1]\n",
    "    zeros = np.zeros_like(epoch_array)\n",
    "    zeros[tmp] = 1\n",
    "\n",
    "    sum_list = []\n",
    "    for i in range(len(zeros)):\n",
    "        tmp1 = zeros[i:i+window]\n",
    "        if 0 not in tmp1:\n",
    "            sum_list.append(i)\n",
    "            \n",
    "    return sum_list\n",
    "indices = get_data_matrixs(19,7,ddf_list,sub_index_array)"
   ]
  },
  {
   "cell_type": "code",
   "execution_count": 104,
   "metadata": {},
   "outputs": [],
   "source": [
    "df = ddf_list[indices[0]]"
   ]
  },
  {
   "cell_type": "code",
   "execution_count": 40,
   "metadata": {},
   "outputs": [
    {
     "output_type": "execute_result",
     "data": {
      "text/plain": "103"
     },
     "metadata": {},
     "execution_count": 40
    }
   ],
   "source": [
    "idds_uniq_sorted[0]"
   ]
  },
  {
   "cell_type": "code",
   "execution_count": 52,
   "metadata": {},
   "outputs": [],
   "source": [
    "df = df.drop_duplicates(idd)"
   ]
  },
  {
   "cell_type": "code",
   "execution_count": 8,
   "metadata": {
    "tags": []
   },
   "outputs": [
    {
     "output_type": "stream",
     "name": "stdout",
     "text": "346050\n335675\n318371\n306654\n284198\n268521\n257301\n246621\n235724\n226255\n215845\n206646\n198888\n189089\n177260\n171293\n161414\n154213\n143979\n132642\n123279\n114319\n104536\n93387\n83788\n80676\n71524\n67828\n62249\n45123\n41373\n37263\n33852\n16125\n14077\n8054\n7153\n7021\n4894\n0\n0\n"
    }
   ],
   "source": [
    "for i in sub_index_array:\n",
    "    print(i[0])"
   ]
  },
  {
   "cell_type": "code",
   "execution_count": null,
   "metadata": {},
   "outputs": [],
   "source": [
    "maybe_dict_sorted.T[0][:40]"
   ]
  },
  {
   "cell_type": "code",
   "execution_count": null,
   "metadata": {},
   "outputs": [],
   "source": [
    "df = pd.read_hdf('day1.h5',str(start_list[1]))"
   ]
  },
  {
   "cell_type": "code",
   "execution_count": 10,
   "metadata": {},
   "outputs": [],
   "source": [
    "start_list = np.arange(1162393768,1178747998+day_second,day_second)"
   ]
  },
  {
   "cell_type": "code",
   "execution_count": 11,
   "metadata": {
    "tags": []
   },
   "outputs": [],
   "source": [
    "ddf_list = []\n",
    "for start_point in start_list:\n",
    "    time_stamps = np.arange(start_point,start_point+day_second+epoch_length,epoch_length)\n",
    "    sub_df_list = []\n",
    "    df = pd.read_hdf('day1.h5',str(start_point))\n",
    "    for i in range(len(time_stamps)-1):\n",
    "        sub_df = df[(df[unix_column] > time_stamps[i]) & (df[unix_column] <= time_stamps[i+1])]\n",
    "        sub_df_list.append(sub_df)\n",
    "    ddf_list.extend(sub_df_list)"
   ]
  },
  {
   "cell_type": "code",
   "execution_count": 12,
   "metadata": {},
   "outputs": [
    {
     "output_type": "execute_result",
     "data": {
      "text/plain": "       Station ID  Year  Month  Day  Hour  Minute  Second  \\\n70645           8  2006     11   27    14      19      15   \n26185          11  2006     11   27    14      19      19   \n70209          14  2006     11   27    14      19      21   \n66903          17  2006     11   27    14      19      13   \n45042          19  2006     11   27    14      19       0   \n77199          23  2006     11   27    14      19      12   \n78066          26  2006     11   27    14      19       5   \n46764          31  2006     11   27    14      19      13   \n49688          33  2006     11   27    14      19      21   \n63331          34  2006     11   27    14      19      24   \n69974          35  2006     11   27    14      19       1   \n54653          40  2006     11   27    14      19      23   \n69607          46  2006     11   27    14      19      17   \n12872          49  2006     11   27    14      19      12   \n11147          51  2006     11   27    14      19      19   \n45628          60  2006     11   27    14      18      59   \n45629          60  2006     11   27    14      19      28   \n42376          69  2006     11   27    14      19       2   \n26199          70  2006     11   27    14      19       6   \n26100          72  2006     11   27    14      19      21   \n34355          79  2006     11   27    14      19      14   \n11509          80  2006     11   27    14      19       6   \n14161          81  2006     11   27    14      19      15   \n11500          87  2006     11   27    14      19      11   \n14143          88  2006     11   27    14      19       1   \n8369           89  2006     11   27    14      19      14   \n37033          93  2006     11   27    14      19      25   \n26170          96  2006     11   27    14      19      17   \n24826          97  2006     11   27    14      19      13   \n45741         100  2006     11   27    14      19      17   \n1             103  2006     11   27    14      19       0   \n8252          104  2006     11   27    14      19      17   \n\n       Time since the epoch [s]  Sequence Number  Ambient Temperature  \\\n70645                1164633555            14611                12.74   \n26185                1164633559            29918                12.55   \n70209                1164633561            11760                12.02   \n66903                1164633553            21043                12.84   \n45042                1164633540            21015                11.98   \n77199                1164633552            23921                12.10   \n78066                1164633545            46311                12.63   \n46764                1164633553            13393                13.03   \n49688                1164633561            25014                12.09   \n63331                1164633564            11564                12.10   \n69974                1164633541             3114                12.83   \n54653                1164633563            41615                12.62   \n69607                1164633557            11777                13.30   \n12872                1164633552             8855                13.40   \n11147                1164633559            11600                12.42   \n45628                1164633539            28709                11.78   \n45629                1164633568            28710                11.79   \n42376                1164633542             8618                  NaN   \n26199                1164633546            29872                13.48   \n26100                1164633561            29867                12.58   \n34355                1164633554            41140                12.40   \n11509                1164633546            11895                12.05   \n14161                1164633555            52962                11.85   \n11500                1164633551            11902                11.80   \n14143                1164633541            61825                11.80   \n8369                 1164633554             8672                12.32   \n37033                1164633565             5723                11.77   \n26170                1164633557            29925                12.16   \n24826                1164633553            29938                12.94   \n45741                1164633557            50089                13.24   \n1                    1164633540             5215                11.60   \n8252                 1164633557             5217                12.88   \n\n       Surface Temperature  Relative Humidity [%]  \n70645               11.787                 66.492  \n26185               14.850                 72.454  \n70209                9.725                 73.431  \n66903               13.912                 70.046  \n45042               10.912                 73.449  \n77199               10.725                 74.674  \n78066               11.662                 72.311  \n46764               13.850                 72.149  \n49688               11.537                 74.516  \n63331               11.350                 71.142  \n69974               23.163                 71.577  \n54653               12.037                 73.839  \n69607               13.225                 67.008  \n12872               11.787                 70.151  \n11147               11.662                 73.956  \n45628                9.537                 77.025  \n45629                9.662                 77.306  \n42376               10.662                    NaN  \n26199               11.850                 69.214  \n26100               14.662                 70.832  \n34355               12.162                 78.144  \n11509               14.162                 79.996  \n14161               12.975                 80.101  \n11500               12.850                 80.238  \n14143               14.662                 80.904  \n8369                12.850                 79.208  \n37033               10.350                 77.302  \n26170               12.162                 79.299  \n24826               13.225                 76.294  \n45741               13.350                 75.036  \n1                   11.537                 79.724  \n8252                11.787                 73.970  ",
      "text/html": "<div>\n<style scoped>\n    .dataframe tbody tr th:only-of-type {\n        vertical-align: middle;\n    }\n\n    .dataframe tbody tr th {\n        vertical-align: top;\n    }\n\n    .dataframe thead th {\n        text-align: right;\n    }\n</style>\n<table border=\"1\" class=\"dataframe\">\n  <thead>\n    <tr style=\"text-align: right;\">\n      <th></th>\n      <th>Station ID</th>\n      <th>Year</th>\n      <th>Month</th>\n      <th>Day</th>\n      <th>Hour</th>\n      <th>Minute</th>\n      <th>Second</th>\n      <th>Time since the epoch [s]</th>\n      <th>Sequence Number</th>\n      <th>Ambient Temperature</th>\n      <th>Surface Temperature</th>\n      <th>Relative Humidity [%]</th>\n    </tr>\n  </thead>\n  <tbody>\n    <tr>\n      <th>70645</th>\n      <td>8</td>\n      <td>2006</td>\n      <td>11</td>\n      <td>27</td>\n      <td>14</td>\n      <td>19</td>\n      <td>15</td>\n      <td>1164633555</td>\n      <td>14611</td>\n      <td>12.74</td>\n      <td>11.787</td>\n      <td>66.492</td>\n    </tr>\n    <tr>\n      <th>26185</th>\n      <td>11</td>\n      <td>2006</td>\n      <td>11</td>\n      <td>27</td>\n      <td>14</td>\n      <td>19</td>\n      <td>19</td>\n      <td>1164633559</td>\n      <td>29918</td>\n      <td>12.55</td>\n      <td>14.850</td>\n      <td>72.454</td>\n    </tr>\n    <tr>\n      <th>70209</th>\n      <td>14</td>\n      <td>2006</td>\n      <td>11</td>\n      <td>27</td>\n      <td>14</td>\n      <td>19</td>\n      <td>21</td>\n      <td>1164633561</td>\n      <td>11760</td>\n      <td>12.02</td>\n      <td>9.725</td>\n      <td>73.431</td>\n    </tr>\n    <tr>\n      <th>66903</th>\n      <td>17</td>\n      <td>2006</td>\n      <td>11</td>\n      <td>27</td>\n      <td>14</td>\n      <td>19</td>\n      <td>13</td>\n      <td>1164633553</td>\n      <td>21043</td>\n      <td>12.84</td>\n      <td>13.912</td>\n      <td>70.046</td>\n    </tr>\n    <tr>\n      <th>45042</th>\n      <td>19</td>\n      <td>2006</td>\n      <td>11</td>\n      <td>27</td>\n      <td>14</td>\n      <td>19</td>\n      <td>0</td>\n      <td>1164633540</td>\n      <td>21015</td>\n      <td>11.98</td>\n      <td>10.912</td>\n      <td>73.449</td>\n    </tr>\n    <tr>\n      <th>77199</th>\n      <td>23</td>\n      <td>2006</td>\n      <td>11</td>\n      <td>27</td>\n      <td>14</td>\n      <td>19</td>\n      <td>12</td>\n      <td>1164633552</td>\n      <td>23921</td>\n      <td>12.10</td>\n      <td>10.725</td>\n      <td>74.674</td>\n    </tr>\n    <tr>\n      <th>78066</th>\n      <td>26</td>\n      <td>2006</td>\n      <td>11</td>\n      <td>27</td>\n      <td>14</td>\n      <td>19</td>\n      <td>5</td>\n      <td>1164633545</td>\n      <td>46311</td>\n      <td>12.63</td>\n      <td>11.662</td>\n      <td>72.311</td>\n    </tr>\n    <tr>\n      <th>46764</th>\n      <td>31</td>\n      <td>2006</td>\n      <td>11</td>\n      <td>27</td>\n      <td>14</td>\n      <td>19</td>\n      <td>13</td>\n      <td>1164633553</td>\n      <td>13393</td>\n      <td>13.03</td>\n      <td>13.850</td>\n      <td>72.149</td>\n    </tr>\n    <tr>\n      <th>49688</th>\n      <td>33</td>\n      <td>2006</td>\n      <td>11</td>\n      <td>27</td>\n      <td>14</td>\n      <td>19</td>\n      <td>21</td>\n      <td>1164633561</td>\n      <td>25014</td>\n      <td>12.09</td>\n      <td>11.537</td>\n      <td>74.516</td>\n    </tr>\n    <tr>\n      <th>63331</th>\n      <td>34</td>\n      <td>2006</td>\n      <td>11</td>\n      <td>27</td>\n      <td>14</td>\n      <td>19</td>\n      <td>24</td>\n      <td>1164633564</td>\n      <td>11564</td>\n      <td>12.10</td>\n      <td>11.350</td>\n      <td>71.142</td>\n    </tr>\n    <tr>\n      <th>69974</th>\n      <td>35</td>\n      <td>2006</td>\n      <td>11</td>\n      <td>27</td>\n      <td>14</td>\n      <td>19</td>\n      <td>1</td>\n      <td>1164633541</td>\n      <td>3114</td>\n      <td>12.83</td>\n      <td>23.163</td>\n      <td>71.577</td>\n    </tr>\n    <tr>\n      <th>54653</th>\n      <td>40</td>\n      <td>2006</td>\n      <td>11</td>\n      <td>27</td>\n      <td>14</td>\n      <td>19</td>\n      <td>23</td>\n      <td>1164633563</td>\n      <td>41615</td>\n      <td>12.62</td>\n      <td>12.037</td>\n      <td>73.839</td>\n    </tr>\n    <tr>\n      <th>69607</th>\n      <td>46</td>\n      <td>2006</td>\n      <td>11</td>\n      <td>27</td>\n      <td>14</td>\n      <td>19</td>\n      <td>17</td>\n      <td>1164633557</td>\n      <td>11777</td>\n      <td>13.30</td>\n      <td>13.225</td>\n      <td>67.008</td>\n    </tr>\n    <tr>\n      <th>12872</th>\n      <td>49</td>\n      <td>2006</td>\n      <td>11</td>\n      <td>27</td>\n      <td>14</td>\n      <td>19</td>\n      <td>12</td>\n      <td>1164633552</td>\n      <td>8855</td>\n      <td>13.40</td>\n      <td>11.787</td>\n      <td>70.151</td>\n    </tr>\n    <tr>\n      <th>11147</th>\n      <td>51</td>\n      <td>2006</td>\n      <td>11</td>\n      <td>27</td>\n      <td>14</td>\n      <td>19</td>\n      <td>19</td>\n      <td>1164633559</td>\n      <td>11600</td>\n      <td>12.42</td>\n      <td>11.662</td>\n      <td>73.956</td>\n    </tr>\n    <tr>\n      <th>45628</th>\n      <td>60</td>\n      <td>2006</td>\n      <td>11</td>\n      <td>27</td>\n      <td>14</td>\n      <td>18</td>\n      <td>59</td>\n      <td>1164633539</td>\n      <td>28709</td>\n      <td>11.78</td>\n      <td>9.537</td>\n      <td>77.025</td>\n    </tr>\n    <tr>\n      <th>45629</th>\n      <td>60</td>\n      <td>2006</td>\n      <td>11</td>\n      <td>27</td>\n      <td>14</td>\n      <td>19</td>\n      <td>28</td>\n      <td>1164633568</td>\n      <td>28710</td>\n      <td>11.79</td>\n      <td>9.662</td>\n      <td>77.306</td>\n    </tr>\n    <tr>\n      <th>42376</th>\n      <td>69</td>\n      <td>2006</td>\n      <td>11</td>\n      <td>27</td>\n      <td>14</td>\n      <td>19</td>\n      <td>2</td>\n      <td>1164633542</td>\n      <td>8618</td>\n      <td>NaN</td>\n      <td>10.662</td>\n      <td>NaN</td>\n    </tr>\n    <tr>\n      <th>26199</th>\n      <td>70</td>\n      <td>2006</td>\n      <td>11</td>\n      <td>27</td>\n      <td>14</td>\n      <td>19</td>\n      <td>6</td>\n      <td>1164633546</td>\n      <td>29872</td>\n      <td>13.48</td>\n      <td>11.850</td>\n      <td>69.214</td>\n    </tr>\n    <tr>\n      <th>26100</th>\n      <td>72</td>\n      <td>2006</td>\n      <td>11</td>\n      <td>27</td>\n      <td>14</td>\n      <td>19</td>\n      <td>21</td>\n      <td>1164633561</td>\n      <td>29867</td>\n      <td>12.58</td>\n      <td>14.662</td>\n      <td>70.832</td>\n    </tr>\n    <tr>\n      <th>34355</th>\n      <td>79</td>\n      <td>2006</td>\n      <td>11</td>\n      <td>27</td>\n      <td>14</td>\n      <td>19</td>\n      <td>14</td>\n      <td>1164633554</td>\n      <td>41140</td>\n      <td>12.40</td>\n      <td>12.162</td>\n      <td>78.144</td>\n    </tr>\n    <tr>\n      <th>11509</th>\n      <td>80</td>\n      <td>2006</td>\n      <td>11</td>\n      <td>27</td>\n      <td>14</td>\n      <td>19</td>\n      <td>6</td>\n      <td>1164633546</td>\n      <td>11895</td>\n      <td>12.05</td>\n      <td>14.162</td>\n      <td>79.996</td>\n    </tr>\n    <tr>\n      <th>14161</th>\n      <td>81</td>\n      <td>2006</td>\n      <td>11</td>\n      <td>27</td>\n      <td>14</td>\n      <td>19</td>\n      <td>15</td>\n      <td>1164633555</td>\n      <td>52962</td>\n      <td>11.85</td>\n      <td>12.975</td>\n      <td>80.101</td>\n    </tr>\n    <tr>\n      <th>11500</th>\n      <td>87</td>\n      <td>2006</td>\n      <td>11</td>\n      <td>27</td>\n      <td>14</td>\n      <td>19</td>\n      <td>11</td>\n      <td>1164633551</td>\n      <td>11902</td>\n      <td>11.80</td>\n      <td>12.850</td>\n      <td>80.238</td>\n    </tr>\n    <tr>\n      <th>14143</th>\n      <td>88</td>\n      <td>2006</td>\n      <td>11</td>\n      <td>27</td>\n      <td>14</td>\n      <td>19</td>\n      <td>1</td>\n      <td>1164633541</td>\n      <td>61825</td>\n      <td>11.80</td>\n      <td>14.662</td>\n      <td>80.904</td>\n    </tr>\n    <tr>\n      <th>8369</th>\n      <td>89</td>\n      <td>2006</td>\n      <td>11</td>\n      <td>27</td>\n      <td>14</td>\n      <td>19</td>\n      <td>14</td>\n      <td>1164633554</td>\n      <td>8672</td>\n      <td>12.32</td>\n      <td>12.850</td>\n      <td>79.208</td>\n    </tr>\n    <tr>\n      <th>37033</th>\n      <td>93</td>\n      <td>2006</td>\n      <td>11</td>\n      <td>27</td>\n      <td>14</td>\n      <td>19</td>\n      <td>25</td>\n      <td>1164633565</td>\n      <td>5723</td>\n      <td>11.77</td>\n      <td>10.350</td>\n      <td>77.302</td>\n    </tr>\n    <tr>\n      <th>26170</th>\n      <td>96</td>\n      <td>2006</td>\n      <td>11</td>\n      <td>27</td>\n      <td>14</td>\n      <td>19</td>\n      <td>17</td>\n      <td>1164633557</td>\n      <td>29925</td>\n      <td>12.16</td>\n      <td>12.162</td>\n      <td>79.299</td>\n    </tr>\n    <tr>\n      <th>24826</th>\n      <td>97</td>\n      <td>2006</td>\n      <td>11</td>\n      <td>27</td>\n      <td>14</td>\n      <td>19</td>\n      <td>13</td>\n      <td>1164633553</td>\n      <td>29938</td>\n      <td>12.94</td>\n      <td>13.225</td>\n      <td>76.294</td>\n    </tr>\n    <tr>\n      <th>45741</th>\n      <td>100</td>\n      <td>2006</td>\n      <td>11</td>\n      <td>27</td>\n      <td>14</td>\n      <td>19</td>\n      <td>17</td>\n      <td>1164633557</td>\n      <td>50089</td>\n      <td>13.24</td>\n      <td>13.350</td>\n      <td>75.036</td>\n    </tr>\n    <tr>\n      <th>1</th>\n      <td>103</td>\n      <td>2006</td>\n      <td>11</td>\n      <td>27</td>\n      <td>14</td>\n      <td>19</td>\n      <td>0</td>\n      <td>1164633540</td>\n      <td>5215</td>\n      <td>11.60</td>\n      <td>11.537</td>\n      <td>79.724</td>\n    </tr>\n    <tr>\n      <th>8252</th>\n      <td>104</td>\n      <td>2006</td>\n      <td>11</td>\n      <td>27</td>\n      <td>14</td>\n      <td>19</td>\n      <td>17</td>\n      <td>1164633557</td>\n      <td>5217</td>\n      <td>12.88</td>\n      <td>11.787</td>\n      <td>73.970</td>\n    </tr>\n  </tbody>\n</table>\n</div>"
     },
     "metadata": {},
     "execution_count": 12
    }
   ],
   "source": [
    "ddf_list[sub_index_array[0][1][1]]"
   ]
  },
  {
   "cell_type": "code",
   "execution_count": 10,
   "metadata": {
    "tags": []
   },
   "outputs": [
    {
     "output_type": "stream",
     "name": "stdout",
     "text": "550080\n"
    }
   ],
   "source": [
    "print(len(ddf_list)*len(ddf_list[0]))"
   ]
  },
  {
   "cell_type": "code",
   "execution_count": 11,
   "metadata": {},
   "outputs": [
    {
     "output_type": "error",
     "ename": "NameError",
     "evalue": "name 'tmp_array' is not defined",
     "traceback": [
      "\u001b[0;31m---------------------------------------------------------------------------\u001b[0m",
      "\u001b[0;31mNameError\u001b[0m                                 Traceback (most recent call last)",
      "\u001b[0;32m<ipython-input-11-c44e3c5d53ed>\u001b[0m in \u001b[0;36m<module>\u001b[0;34m\u001b[0m\n\u001b[0;32m----> 1\u001b[0;31m \u001b[0mtmp_array\u001b[0m\u001b[0;34m.\u001b[0m\u001b[0mmax\u001b[0m\u001b[0;34m(\u001b[0m\u001b[0;34m)\u001b[0m\u001b[0;34m\u001b[0m\u001b[0;34m\u001b[0m\u001b[0m\n\u001b[0m",
      "\u001b[0;31mNameError\u001b[0m: name 'tmp_array' is not defined"
     ]
    }
   ],
   "source": [
    "tmp_array.max()"
   ]
  },
  {
   "cell_type": "code",
   "execution_count": null,
   "metadata": {},
   "outputs": [],
   "source": [
    "time_stamps"
   ]
  },
  {
   "cell_type": "code",
   "execution_count": null,
   "metadata": {
    "tags": []
   },
   "outputs": [],
   "source": [
    "print(epoch_length)"
   ]
  },
  {
   "cell_type": "code",
   "execution_count": null,
   "metadata": {},
   "outputs": [],
   "source": [
    "sub_index_array[0][1][4]"
   ]
  },
  {
   "cell_type": "code",
   "execution_count": null,
   "metadata": {},
   "outputs": [],
   "source": []
  }
 ],
 "metadata": {
  "language_info": {
   "codemirror_mode": {
    "name": "ipython",
    "version": 3
   },
   "file_extension": ".py",
   "mimetype": "text/x-python",
   "name": "python",
   "nbconvert_exporter": "python",
   "pygments_lexer": "ipython3",
   "version": "3.7.6-final"
  },
  "orig_nbformat": 2,
  "kernelspec": {
   "name": "python37664bitccstaconda3a2139a6822448159c7afc22ea6ab768",
   "display_name": "Python 3.7.6 64-bit ('ccs_ta': conda)"
  }
 },
 "nbformat": 4,
 "nbformat_minor": 2
}