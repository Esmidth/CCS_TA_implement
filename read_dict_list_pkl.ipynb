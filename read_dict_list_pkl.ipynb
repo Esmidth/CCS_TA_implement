{
 "cells": [
  {
   "cell_type": "code",
   "execution_count": 2,
   "metadata": {},
   "outputs": [],
   "source": [
    "%matplotlib inline\n",
    "import pandas as pd\n",
    "import pickle\n",
    "import numpy as np\n",
    "import matplotlib.pyplot as plt"
   ]
  },
  {
   "cell_type": "code",
   "execution_count": 79,
   "metadata": {},
   "outputs": [],
   "source": [
    "from consts import sensor_day_seconds as day_second\n",
    "from consts import sensor_idd as idd\n",
    "from consts import sensor_idds_uniq as idds_uniq\n",
    "from consts import sensor_idds_uniq_sorted as idds_uniq_sorted\n",
    "from consts import sensor_a_temperature as a_temperature\n",
    "from consts import sensor_s_temperature as s_temperature\n",
    "from consts import sensor_unix_column as unix_column\n",
    "from consts import sensor_idd as idd\n",
    "epoch_length = 30"
   ]
  },
  {
   "cell_type": "code",
   "execution_count": 81,
   "metadata": {},
   "outputs": [],
   "source": [
    "idds_uniq_sorted = sub_sensor_list"
   ]
  },
  {
   "cell_type": "code",
   "execution_count": 14,
   "metadata": {},
   "outputs": [],
   "source": [
    "input_file = open('dict_list1.pkl','rb')\n",
    "input_list = pickle.load(input_file)\n",
    "input_file.close()"
   ]
  },
  {
   "cell_type": "code",
   "execution_count": 19,
   "metadata": {},
   "outputs": [],
   "source": [
    "input_file = open('dict_list3.pkl','rb')\n",
    "input_list = pickle.load(input_file)\n",
    "input_file.close()"
   ]
  },
  {
   "cell_type": "code",
   "execution_count": 20,
   "metadata": {
    "tags": []
   },
   "outputs": [],
   "source": [
    "# 将epoch epoch_len epoch_time 都flat化\n",
    "len_list = []\n",
    "time_stamp_list = []\n",
    "epoch_list = []\n",
    "for start_time in input_list:\n",
    "    # print(len(start_time[0]))\n",
    "    for dict in start_time[0]:\n",
    "        len_list.append(len(dict))\n",
    "        epoch_list.append(dict)\n",
    "    start_point = start_time[1]\n",
    "    time_stamps = np.arange(start_point,start_point+day_second+epoch_length,epoch_length)\n",
    "    time_stamp_list.extend(time_stamps[:-1])\n",
    "len_array = np.array(len_list)\n",
    "time_stamp_array = np.array(time_stamp_list) # 时间序列\n",
    "epoch_array = np.array(epoch_list)"
   ]
  },
  {
   "cell_type": "code",
   "execution_count": 94,
   "metadata": {},
   "outputs": [
    {
     "data": {
      "text/plain": [
       "array([1165245058, 1165245388, 1165257148, ..., 1178743378, 1178743408,\n",
       "       1178744698])"
      ]
     },
     "execution_count": 94,
     "metadata": {},
     "output_type": "execute_result"
    }
   ],
   "source": [
    "time_stamp_array[indices]"
   ]
  },
  {
   "cell_type": "code",
   "execution_count": 87,
   "metadata": {},
   "outputs": [
    {
     "data": {
      "text/plain": [
       "550080"
      ]
     },
     "execution_count": 87,
     "metadata": {},
     "output_type": "execute_result"
    }
   ],
   "source": [
    "len(epoch_list)"
   ]
  },
  {
   "cell_type": "code",
   "execution_count": 86,
   "metadata": {},
   "outputs": [
    {
     "data": {
      "text/plain": [
       "550080"
      ]
     },
     "execution_count": 86,
     "metadata": {},
     "output_type": "execute_result"
    }
   ],
   "source": [
    "len(ddf_list)"
   ]
  },
  {
   "cell_type": "code",
   "execution_count": 5,
   "metadata": {},
   "outputs": [],
   "source": [
    "start_list = np.arange(1162393768,1178747998+day_second,day_second)\n",
    "ddf_list = []\n",
    "for start_point in start_list:\n",
    "    time_stamps = np.arange(start_point,start_point+day_second+epoch_length,epoch_length)\n",
    "    sub_df_list = []\n",
    "    df = pd.read_hdf('day1.h5',str(start_point))\n",
    "    for i in range(len(time_stamps)-1):\n",
    "        sub_df = df[(df[unix_column] > time_stamps[i]) & (df[unix_column] <= time_stamps[i+1])]\n",
    "        sub_df_list.append(sub_df)\n",
    "    ddf_list.extend(sub_df_list)"
   ]
  },
  {
   "cell_type": "code",
   "execution_count": 21,
   "metadata": {},
   "outputs": [],
   "source": [
    "index1 = np.where(len_array > 40)[0]\n",
    "maybe_array = epoch_array[index1]"
   ]
  },
  {
   "cell_type": "code",
   "execution_count": 22,
   "metadata": {
    "tags": []
   },
   "outputs": [
    {
     "name": "stdout",
     "output_type": "stream",
     "text": [
      "{7: 0, 8: 0, 11: 0, 14: 0, 17: 0, 19: 0, 23: 0, 26: 0, 27: 0, 31: 0, 33: 0, 34: 0, 35: 0, 40: 0, 46: 0, 47: 0, 49: 0, 51: 0, 55: 0, 57: 0, 59: 0, 60: 0, 61: 0, 62: 0, 63: 0, 65: 0, 69: 0, 70: 0, 71: 0, 72: 0, 73: 0, 75: 0, 76: 0, 79: 0, 80: 0, 81: 0, 82: 0, 84: 0, 87: 0, 88: 0, 89: 0, 93: 0, 96: 0, 97: 0, 98: 0, 100: 0, 103: 0, 104: 0, 109: 0, 111: 0, 121: 0}\n"
     ]
    }
   ],
   "source": [
    "# init maybe_dict \n",
    "maybe_dict = {}\n",
    "for i in idds_uniq:\n",
    "    maybe_dict[i] = 0\n",
    "print(maybe_dict)\n"
   ]
  },
  {
   "cell_type": "code",
   "execution_count": 23,
   "metadata": {},
   "outputs": [
    {
     "name": "stdout",
     "output_type": "stream",
     "text": [
      "{7: 116368, 8: 311230, 11: 311649, 14: 297530, 17: 311626, 19: 295072, 23: 309388, 26: 309247, 27: 77054, 31: 299208, 33: 267283, 34: 316424, 35: 274661, 40: 266279, 46: 314496, 47: 114937, 49: 308374, 51: 318062, 55: 138159, 57: 224804, 59: 216308, 60: 292967, 61: 231792, 62: 263384, 63: 208200, 65: 294875, 69: 198539, 70: 316076, 71: 203416, 72: 301465, 73: 306707, 75: 303260, 76: 310711, 79: 273899, 80: 295663, 81: 251044, 82: 131717, 84: 308895, 87: 315132, 88: 234990, 89: 283497, 93: 302051, 96: 313535, 97: 310211, 98: 221392, 100: 306061, 103: 318015, 104: 313801, 109: 190240, 111: 303233, 121: 302922}\n"
     ]
    }
   ],
   "source": [
    "for item in maybe_array:\n",
    "    uniq_item = np.unique(item)\n",
    "    for j in uniq_item:\n",
    "        maybe_dict[j] += 1\n",
    "print(maybe_dict)"
   ]
  },
  {
   "cell_type": "code",
   "execution_count": 11,
   "metadata": {
    "tags": []
   },
   "outputs": [
    {
     "name": "stdout",
     "output_type": "stream",
     "text": [
      "{7: 122847, 8: 367667, 11: 373104, 14: 363110, 17: 371860, 19: 353906, 23: 366271, 26: 364369, 27: 112280, 31: 359589, 33: 365842, 34: 375659, 35: 375659, 40: 353985, 46: 372432, 47: 121452, 49: 367229, 51: 377511, 55: 368538, 57: 364875, 59: 255396, 60: 349257, 61: 248856, 62: 302648, 63: 264866, 65: 336513, 69: 376076, 70: 375960, 71: 240499, 72: 361416, 73: 368516, 75: 348366, 76: 370370, 79: 325637, 80: 355182, 81: 306862, 82: 168521, 84: 366407, 87: 376175, 88: 303331, 89: 373975, 93: 361673, 96: 373433, 97: 369090, 98: 282533, 100: 364699, 103: 377825, 104: 373251, 109: 224304, 111: 348422, 121: 345429}\n"
     ]
    }
   ],
   "source": [
    "for item in maybe_array:\n",
    "    uniq_item = np.unique(item)\n",
    "    for j in uniq_item:\n",
    "        maybe_dict[j] += 1\n",
    "print(maybe_dict)"
   ]
  },
  {
   "cell_type": "code",
   "execution_count": 24,
   "metadata": {},
   "outputs": [],
   "source": [
    "maybe_dict_sorted = sorted(maybe_dict.items(),key=lambda kv:(kv[1],kv[0]),reverse=True)\n",
    "maybe_dict_sorted = np.array(maybe_dict_sorted)"
   ]
  },
  {
   "cell_type": "code",
   "execution_count": 78,
   "metadata": {
    "tags": []
   },
   "outputs": [
    {
     "name": "stdout",
     "output_type": "stream",
     "text": [
      "[ 51 103  34  70  87  46 104  96  11  17   8  76  97  23  26  84  49  73\n",
      " 100  75 111 121  93  72  31  14  80  19  65  60  89  35  79  33  40  62\n",
      "  81  88  61  57  98  59  63  71  69 109  55  82   7  47  27]\n",
      "51 ,\n",
      "103 ,\n",
      "34 ,\n",
      "70 ,\n",
      "87 ,\n",
      "46 ,\n",
      "104 ,\n",
      "96 ,\n",
      "11 ,\n",
      "17 ,\n",
      "8 ,\n",
      "76 ,\n",
      "97 ,\n",
      "23 ,\n",
      "26 ,\n",
      "84 ,\n",
      "49 ,\n",
      "73 ,\n",
      "100 ,\n",
      "75 ,\n",
      "111 ,\n",
      "121 ,\n",
      "93 ,\n",
      "72 ,\n",
      "31 ,\n",
      "14 ,\n",
      "80 ,\n",
      "19 ,\n",
      "65 ,\n",
      "60 ,\n",
      "89 ,\n",
      "35 ,\n",
      "79 ,\n",
      "33 ,\n",
      "40 ,\n",
      "62 ,\n",
      "81 ,\n",
      "88 ,\n",
      "61 ,\n",
      "57 ,\n",
      "98 ,\n",
      "59 ,\n",
      "63 ,\n",
      "71 ,\n",
      "69 ,\n",
      "109 ,\n",
      "55 ,\n",
      "82 ,\n",
      "7 ,\n",
      "47 ,\n",
      "27 ,\n"
     ]
    }
   ],
   "source": [
    "sub_sensor_list = maybe_dict_sorted.T[0]\n",
    "print(sub_sensor_list)\n",
    "for item in sub_sensor_list:\n",
    "    print(item,',')"
   ]
  },
  {
   "cell_type": "code",
   "execution_count": 70,
   "metadata": {},
   "outputs": [
    {
     "data": {
      "text/plain": [
       "array([318062, 318015, 316424, 316076, 315132, 314496, 313801, 313535,\n",
       "       311649, 311626, 311230, 310711, 310211, 309388, 309247, 308895,\n",
       "       308374, 306707, 306061, 303260, 303233, 302922, 302051, 301465,\n",
       "       299208, 297530, 295663, 295072, 294875, 292967, 283497, 274661,\n",
       "       273899, 267283, 266279, 263384, 251044, 234990, 231792, 224804])"
      ]
     },
     "execution_count": 70,
     "metadata": {},
     "output_type": "execute_result"
    }
   ],
   "source": [
    "maybe_dict_sorted.T[1][:40]"
   ]
  },
  {
   "cell_type": "code",
   "execution_count": 26,
   "metadata": {},
   "outputs": [],
   "source": [
    "# 测试sensor数量为多少合适\n",
    "def get_sub_index(sensor_count):\n",
    "    sub_sensor_list = maybe_dict_sorted.T[0][:sensor_count]\n",
    "    sub_index = []\n",
    "    for i, item in enumerate(epoch_array):\n",
    "        uniq_item = np.unique(item)\n",
    "        diff = np.setdiff1d(sub_sensor_list,uniq_item)\n",
    "        if len(diff) == 0:\n",
    "            sub_index.append(i)\n",
    "    return len(sub_index),sub_index"
   ]
  },
  {
   "cell_type": "code",
   "execution_count": 27,
   "metadata": {
    "tags": []
   },
   "outputs": [
    {
     "name": "stdout",
     "output_type": "stream",
     "text": [
      "10 307126\n",
      "11 291106\n",
      "12 268665\n",
      "13 253685\n",
      "14 240794\n",
      "15 232564\n",
      "16 221419\n",
      "17 211967\n",
      "18 201214\n",
      "19 188411\n",
      "20 164617\n",
      "21 158915\n",
      "22 143072\n",
      "23 135891\n",
      "24 123002\n",
      "25 113508\n",
      "26 103543\n",
      "27 95747\n",
      "28 82678\n",
      "29 72359\n",
      "30 68113\n",
      "31 57984\n",
      "32 43272\n",
      "33 37865\n",
      "34 34475\n",
      "35 33165\n",
      "36 22007\n",
      "37 18107\n",
      "38 16879\n",
      "39 11131\n",
      "40 10886\n",
      "41 9704\n",
      "42 8205\n",
      "43 2999\n",
      "44 2951\n",
      "45 2911\n",
      "46 2857\n",
      "47 1478\n",
      "48 400\n",
      "49 0\n",
      "50 0\n"
     ]
    }
   ],
   "source": [
    "# sensor数量与合适epoch之间的关系\n",
    "sensor_count_list = np.linspace(10,50,41,dtype=int)\n",
    "sub_index_list = []\n",
    "for i in sensor_count_list:\n",
    "    tmp = get_sub_index(i)\n",
    "    sub_index_list.append(tmp)\n",
    "    print(i,tmp[0])"
   ]
  },
  {
   "cell_type": "code",
   "execution_count": 28,
   "metadata": {},
   "outputs": [],
   "source": [
    "sub_index_array = np.array(sub_index_list)"
   ]
  },
  {
   "cell_type": "code",
   "execution_count": 6,
   "metadata": {
    "tags": []
   },
   "outputs": [],
   "source": [
    "def get_length_count(window):\n",
    "    for item in sub_index_array:\n",
    "        zeros = np.zeros_like(epoch_array)\n",
    "        zeros[item[1]] = 1\n",
    "        sum = 0\n",
    "        for j in range(len(zeros)):\n",
    "            tmp = zeros[j:j+window]\n",
    "            if 0 not in tmp:\n",
    "                sum += 1\n",
    "        print(sum)"
   ]
  },
  {
   "cell_type": "code",
   "execution_count": 29,
   "metadata": {},
   "outputs": [],
   "source": [
    "output_file = open('sub_index_array_drop_na.pkl','wb')\n",
    "pickle.dump(sub_index_array,output_file)\n",
    "output_file.close()"
   ]
  },
  {
   "cell_type": "code",
   "execution_count": 7,
   "metadata": {},
   "outputs": [],
   "source": [
    "input_file = open('sub_index_array.pkl','rb')\n",
    "sub_index_array = pickle.load(input_file)\n",
    "input_file.close()"
   ]
  },
  {
   "cell_type": "code",
   "execution_count": 8,
   "metadata": {
    "tags": []
   },
   "outputs": [
    {
     "name": "stdout",
     "output_type": "stream",
     "text": [
      "148328\n",
      "132212\n",
      "112581\n",
      "98628\n",
      "83055\n",
      "70682\n",
      "60151\n",
      "53141\n",
      "46963\n",
      "38975\n",
      "32943\n",
      "27983\n",
      "24729\n",
      "21201\n",
      "18281\n",
      "16287\n",
      "13963\n",
      "12151\n",
      "10287\n",
      "8737\n",
      "7624\n",
      "6181\n",
      "5411\n",
      "4335\n",
      "3961\n",
      "3655\n",
      "3141\n",
      "2731\n",
      "2369\n",
      "1451\n",
      "1222\n",
      "1020\n",
      "948\n",
      "369\n",
      "344\n",
      "147\n",
      "134\n",
      "119\n",
      "106\n",
      "0\n",
      "0\n"
     ]
    }
   ],
   "source": [
    "get_length_count(7)"
   ]
  },
  {
   "cell_type": "code",
   "execution_count": 44,
   "metadata": {
    "tags": []
   },
   "outputs": [
    {
     "name": "stdout",
     "output_type": "stream",
     "text": [
      "[103, 51, 87, 69, 70, 35, 34, 89, 96, 104, 11, 46, 17, 76, 97, 55, 73, 8, 49]\n"
     ]
    }
   ],
   "source": [
    "def get_data_matrixs(sensor_count,window,ddf_list = None,sub_index_array = None):\n",
    "    print(idds_uniq_sorted[:sensor_count])\n",
    "    tmp = sub_index_array[sensor_count-10][1]\n",
    "    zeros = np.zeros_like(epoch_array)\n",
    "    zeros[tmp] = 1\n",
    "\n",
    "    sum_list = []\n",
    "    for i in range(len(zeros)):\n",
    "        tmp1 = zeros[i:i+window]\n",
    "        if 0 not in tmp1:\n",
    "            sum_list.append(i)\n",
    "            \n",
    "    return sum_list\n",
    "indices = get_data_matrixs(19,7,ddf_list,sub_index_array)"
   ]
  },
  {
   "cell_type": "code",
   "execution_count": 31,
   "metadata": {},
   "outputs": [
    {
     "data": {
      "text/plain": [
       "29898"
      ]
     },
     "execution_count": 31,
     "metadata": {},
     "output_type": "execute_result"
    }
   ],
   "source": [
    "len(indices)"
   ]
  },
  {
   "cell_type": "code",
   "execution_count": 43,
   "metadata": {
    "tags": []
   },
   "outputs": [
    {
     "name": "stdout",
     "output_type": "stream",
     "text": [
      "19\n"
     ]
    }
   ],
   "source": [
    "def drop_useless_sensor(df,sensor_list):\n",
    "    # print(sensor_list)\n",
    "    for i in df[idd].values:\n",
    "        if i not in sensor_list:\n",
    "            df = df[df[idd] != i]\n",
    "    # print(len(df))\n",
    "    if len(df) < len(sensor_list):\n",
    "        return None\n",
    "    return df\n",
    "t = drop_useless_sensor(ddf_list[indices[3]],idds_uniq_sorted[:19])\n",
    "print(len(t))"
   ]
  },
  {
   "cell_type": "code",
   "execution_count": 37,
   "metadata": {
    "tags": []
   },
   "outputs": [
    {
     "name": "stdout",
     "output_type": "stream",
     "text": [
      "19\n"
     ]
    }
   ],
   "source": [
    "def handle_df(ddf_list,indice,sensor_list):\n",
    "    df = ddf_list[indice]\n",
    "    df = df.drop_duplicates(idd)\n",
    "    df = drop_useless_sensor(df,sensor_list)\n",
    "    print(len(df))\n",
    "\n",
    "handle_df(ddf_list,indices[0],idds_uniq_sorted[:19])"
   ]
  },
  {
   "cell_type": "code",
   "execution_count": 15,
   "metadata": {},
   "outputs": [],
   "source": [
    "t = t.sort_values(by=idd)"
   ]
  },
  {
   "cell_type": "code",
   "execution_count": 16,
   "metadata": {},
   "outputs": [
    {
     "data": {
      "text/plain": [
       "array([10.412, 10.412, 12.35 , 11.6  , 12.725,  8.85 , 10.725, 11.037,\n",
       "       11.287, 11.037, 10.85 , 10.1  , 10.725, 11.037, 10.6  , 10.35 ,\n",
       "       10.662, 11.1  ,  9.475])"
      ]
     },
     "execution_count": 16,
     "metadata": {},
     "output_type": "execute_result"
    }
   ],
   "source": [
    "t[s_temperature].values"
   ]
  },
  {
   "cell_type": "code",
   "execution_count": 18,
   "metadata": {},
   "outputs": [],
   "source": [
    "flat_matrix = np.zeros(100)"
   ]
  },
  {
   "cell_type": "code",
   "execution_count": 20,
   "metadata": {},
   "outputs": [],
   "source": [
    "indice_dict = {63:10,23:14,17:15,47:20,7:21,27:22,26:24,14:25,121:26,46:27,8:28,111:32,75:33,57:34,59:35,40:36,34:37,61:41,71:42,65:43,82:45,62:46,76:48,51:51,11:52,70:53,49:54,60:57,84:60,81:61,55:62,72:63,73:64,35:66,31:67,69:68,79:69,103:70,80:71,96:72,97:75,100:76,33:77,19:78,93:79,109:80,87:81,104:84,89:91,88:92,98:94}"
   ]
  },
  {
   "cell_type": "code",
   "execution_count": 21,
   "metadata": {},
   "outputs": [],
   "source": [
    "for i,indice in enumerate(t[idd].values):\n",
    "    flat_matrix[indice_dict[indice]] = t[s_temperature].values[i]"
   ]
  },
  {
   "cell_type": "code",
   "execution_count": 22,
   "metadata": {},
   "outputs": [
    {
     "data": {
      "text/plain": [
       "array([[ 0.   ,  0.   ,  0.   ,  0.   ,  0.   ,  0.   ,  0.   ,  0.   ,\n",
       "         0.   ,  0.   ],\n",
       "       [ 0.   ,  0.   ,  0.   ,  0.   ,  0.   , 12.35 ,  0.   ,  0.   ,\n",
       "         0.   ,  0.   ],\n",
       "       [ 0.   ,  0.   ,  0.   ,  0.   ,  0.   ,  0.   ,  0.   ,  8.85 ,\n",
       "        10.412,  0.   ],\n",
       "       [ 0.   ,  0.   ,  0.   ,  0.   ,  0.   ,  0.   ,  0.   , 11.6  ,\n",
       "         0.   ,  0.   ],\n",
       "       [ 0.   ,  0.   ,  0.   ,  0.   ,  0.   ,  0.   ,  0.   ,  0.   ,\n",
       "        10.725,  0.   ],\n",
       "       [ 0.   , 11.037, 10.412, 10.85 , 10.725,  0.   ,  0.   ,  0.   ,\n",
       "         0.   ,  0.   ],\n",
       "       [ 0.   ,  0.   , 11.287,  0.   , 10.1  ,  0.   , 12.725,  0.   ,\n",
       "        11.037,  0.   ],\n",
       "       [11.1  ,  0.   , 10.35 ,  0.   ,  0.   , 10.662,  0.   ,  0.   ,\n",
       "         0.   ,  0.   ],\n",
       "       [ 0.   , 11.037,  0.   ,  0.   ,  9.475,  0.   ,  0.   ,  0.   ,\n",
       "         0.   ,  0.   ],\n",
       "       [ 0.   , 10.6  ,  0.   ,  0.   ,  0.   ,  0.   ,  0.   ,  0.   ,\n",
       "         0.   ,  0.   ]])"
      ]
     },
     "execution_count": 22,
     "metadata": {},
     "output_type": "execute_result"
    }
   ],
   "source": [
    "flat_matrix.reshape(10,10)"
   ]
  },
  {
   "cell_type": "code",
   "execution_count": 23,
   "metadata": {
    "tags": []
   },
   "outputs": [],
   "source": [
    "for i in indice_dict:\n",
    "    flat_matrix[indice_dict[i]] = i"
   ]
  },
  {
   "cell_type": "code",
   "execution_count": 24,
   "metadata": {},
   "outputs": [
    {
     "data": {
      "text/plain": [
       "array([[  0.,   0.,   0.,   0.,   0.,   0.,   0.,   0.,   0.,   0.],\n",
       "       [ 63.,   0.,   0.,   0.,  23.,  17.,   0.,   0.,   0.,   0.],\n",
       "       [ 47.,   7.,  27.,   0.,  26.,  14., 121.,  46.,   8.,   0.],\n",
       "       [  0.,   0., 111.,  75.,  57.,  59.,  40.,  34.,   0.,   0.],\n",
       "       [  0.,  61.,  71.,  65.,   0.,  82.,  62.,   0.,  76.,   0.],\n",
       "       [  0.,  51.,  11.,  70.,  49.,   0.,   0.,  60.,   0.,   0.],\n",
       "       [ 84.,  81.,  55.,  72.,  73.,   0.,  35.,  31.,  69.,  79.],\n",
       "       [103.,  80.,  96.,   0.,   0.,  97., 100.,  33.,  19.,  93.],\n",
       "       [109.,  87.,   0.,   0., 104.,   0.,   0.,   0.,   0.,   0.],\n",
       "       [  0.,  89.,  88.,   0.,  98.,   0.,   0.,   0.,   0.,   0.]])"
      ]
     },
     "execution_count": 24,
     "metadata": {},
     "output_type": "execute_result"
    }
   ],
   "source": [
    "flat_matrix.reshape(10,10)"
   ]
  },
  {
   "cell_type": "code",
   "execution_count": 62,
   "metadata": {
    "tags": []
   },
   "outputs": [],
   "source": [
    "def convert_df_to_dm(ddf_list,indice,sensor_list,window=7):\n",
    "    # print(sensor_list)\n",
    "#     print(len(sensor_list))\n",
    "    df_list = []\n",
    "    for i in range(window):\n",
    "        df_list.append(ddf_list[indice+i])\n",
    "#     df = ddf_list[indice]\n",
    "    return_list = []\n",
    "    for df in df_list:\n",
    "        df = df.drop_duplicates(idd)\n",
    "#         print(indice,type(df))\n",
    "#         print(len(df))\n",
    "        df = drop_useless_sensor(df,sensor_list)\n",
    "        if type(df) == type(None):\n",
    "            break\n",
    "        df = df.sort_values(by=idd)\n",
    "        flat_matrix = np.zeros(100)\n",
    "        indice_dict = {63:10,23:14,17:15,47:20,7:21,27:22,26:24,14:25,121:26,46:27,8:28,111:32,75:33,57:34,59:35,40:36,34:37,61:41,71:42,65:43,82:45,62:46,76:48,51:51,11:52,70:53,49:54,60:57,84:60,81:61,55:62,72:63,73:64,35:66,31:67,69:68,79:69,103:70,80:71,96:72,97:75,100:76,33:77,19:78,93:79,109:80,87:81,104:84,89:91,88:92,98:94}\n",
    "        return_list.append(df[s_temperature].values)\n",
    "#         for i,indice in enumerate(df[idd].values):\n",
    "#             flat_matrix[indice_dict[indice]] = df[s_temperature].values[i]\n",
    "    return np.array(return_list).T\n",
    "    \n",
    "\n",
    "res_array = convert_df_to_dm(ddf_list,indices[6],idds_uniq_sorted[:19],7)"
   ]
  },
  {
   "cell_type": "code",
   "execution_count": null,
   "metadata": {},
   "outputs": [],
   "source": [
    "res_array = convert_df_to_dm(ddf_list,[6],idds_uniq_sorted[:19],7)"
   ]
  },
  {
   "cell_type": "code",
   "execution_count": 83,
   "metadata": {},
   "outputs": [],
   "source": [
    "array_list2 = []\n",
    "for i in indices:\n",
    "    array_list2.append(convert_df_to_dm(ddf_list,i,idds_uniq_sorted[:19],7))"
   ]
  },
  {
   "cell_type": "code",
   "execution_count": 108,
   "metadata": {},
   "outputs": [
    {
     "name": "stdout",
     "output_type": "stream",
     "text": [
      "28681\n",
      "28682\n",
      "28683\n",
      "28684\n",
      "28690\n",
      "28691\n",
      "28692\n",
      "28720\n",
      "28768\n",
      "28769\n",
      "28770\n",
      "28771\n",
      "28772\n",
      "28842\n",
      "28851\n",
      "28852\n",
      "28853\n",
      "29068\n",
      "29069\n",
      "29143\n",
      "29144\n",
      "29233\n",
      "29234\n",
      "29261\n",
      "29304\n",
      "29305\n",
      "29330\n",
      "29404\n",
      "29405\n",
      "29406\n",
      "29407\n",
      "29408\n",
      "29409\n",
      "29410\n",
      "29449\n",
      "29450\n",
      "29451\n",
      "29452\n",
      "29453\n",
      "29454\n",
      "29455\n",
      "29557\n",
      "29558\n",
      "29559\n",
      "29560\n",
      "29561\n",
      "29604\n",
      "29605\n",
      "29606\n",
      "29640\n",
      "29641\n",
      "29665\n",
      "29673\n",
      "29674\n",
      "29794\n",
      "29795\n",
      "29882\n",
      "29883\n",
      "29884\n",
      "29885\n",
      "29886\n",
      "29887\n",
      "29888\n",
      "29890\n"
     ]
    }
   ],
   "source": [
    "sum = 0\n",
    "new_indices = []\n",
    "for i,item in enumerate(array_list2):\n",
    "    if np.isnan(item).any():\n",
    "        print(i)\n",
    "#         sum+=1\n",
    "    else:\n",
    "        new_indices.append(i)"
   ]
  },
  {
   "cell_type": "code",
   "execution_count": 114,
   "metadata": {},
   "outputs": [
    {
     "data": {
      "text/plain": [
       "array([[11.1  , 11.1  , 10.912, 11.037, 10.912, 10.787, 10.912],\n",
       "       [13.912, 13.787, 13.85 , 13.6  , 13.6  , 13.787, 13.537],\n",
       "       [11.225, 11.225, 11.35 , 11.35 , 11.35 , 11.412, 11.412],\n",
       "       [11.85 , 11.912, 11.787, 11.787, 11.725, 11.787, 11.85 ],\n",
       "       [10.225, 10.35 , 10.35 , 10.1  , 10.1  , 10.037, 10.037],\n",
       "       [11.6  , 11.662, 11.787, 11.662, 11.662, 11.725, 11.662],\n",
       "       [12.35 , 12.537, 12.537, 12.412, 12.35 , 12.412, 12.475],\n",
       "       [10.475, 10.475, 10.475, 10.412, 10.475, 10.475, 10.412],\n",
       "       [10.287, 10.1  , 10.225, 10.1  , 10.037, 10.1  , 10.162],\n",
       "       [12.35 , 12.475, 12.162, 12.287, 12.35 , 12.287, 12.225],\n",
       "       [12.537, 12.662, 12.537, 12.6  , 12.6  , 12.537, 12.6  ],\n",
       "       [10.537, 10.35 , 10.6  , 10.35 , 10.475, 10.287, 10.412],\n",
       "       [11.287, 11.287, 11.35 , 11.35 , 11.225, 11.162, 11.287],\n",
       "       [10.162,  9.975,  9.912, 10.037, 10.1  , 10.037, 10.037],\n",
       "       [ 9.6  ,  9.6  ,  9.537,  9.662,  9.6  ,  9.6  ,  9.537],\n",
       "       [ 9.975,  9.912,  9.975,  9.725,  9.85 , 10.1  ,  9.975],\n",
       "       [11.787, 11.662, 11.787, 11.85 , 11.787, 11.787, 11.725],\n",
       "       [10.6  , 10.662, 10.787, 10.787, 10.787, 10.787, 10.662],\n",
       "       [17.725, 17.725, 17.725, 17.788, 17.725, 17.663, 17.725]])"
      ]
     },
     "execution_count": 114,
     "metadata": {},
     "output_type": "execute_result"
    }
   ],
   "source": [
    "array_list2[new_indices[-1]]"
   ]
  },
  {
   "cell_type": "code",
   "execution_count": 112,
   "metadata": {},
   "outputs": [
    {
     "data": {
      "text/plain": [
       "29898"
      ]
     },
     "execution_count": 112,
     "metadata": {},
     "output_type": "execute_result"
    }
   ],
   "source": [
    "len(array_list2)"
   ]
  },
  {
   "cell_type": "code",
   "execution_count": 110,
   "metadata": {},
   "outputs": [
    {
     "data": {
      "text/plain": [
       "29897"
      ]
     },
     "execution_count": 110,
     "metadata": {},
     "output_type": "execute_result"
    }
   ],
   "source": [
    "new_indices[-1]"
   ]
  },
  {
   "cell_type": "code",
   "execution_count": 115,
   "metadata": {},
   "outputs": [],
   "source": [
    "with open('tensor2.pkl','wb') as f:\n",
    "    pickle.dump(array_list2,f)"
   ]
  },
  {
   "cell_type": "code",
   "execution_count": 100,
   "metadata": {},
   "outputs": [],
   "source": [
    "with open('time_stamp_array.pkl','wb') as f:\n",
    "    pickle.dump(time_stamp_array,f)"
   ]
  },
  {
   "cell_type": "code",
   "execution_count": 32,
   "metadata": {},
   "outputs": [],
   "source": [
    "with open('indices_na.pkl','wb') as f:\n",
    "    pickle.dump(indices,f)"
   ]
  },
  {
   "cell_type": "code",
   "execution_count": 100,
   "metadata": {},
   "outputs": [],
   "source": [
    "with open('new_indices.pkl','wb') as f:\n",
    "    pickle.dump(new_indices,f)"
   ]
  },
  {
   "cell_type": "code",
   "execution_count": 26,
   "metadata": {},
   "outputs": [],
   "source": [
    "df = ddf_list[indices[0]]"
   ]
  },
  {
   "cell_type": "code",
   "execution_count": 30,
   "metadata": {},
   "outputs": [
    {
     "data": {
      "text/plain": [
       "103"
      ]
     },
     "execution_count": 30,
     "metadata": {},
     "output_type": "execute_result"
    }
   ],
   "source": [
    "idds_uniq_sorted[0]"
   ]
  },
  {
   "cell_type": "code",
   "execution_count": 28,
   "metadata": {},
   "outputs": [],
   "source": [
    "df = df.drop_duplicates(idd)"
   ]
  },
  {
   "cell_type": "code",
   "execution_count": 31,
   "metadata": {
    "tags": []
   },
   "outputs": [
    {
     "name": "stdout",
     "output_type": "stream",
     "text": [
      "346050\n",
      "335675\n",
      "318371\n",
      "306654\n",
      "284198\n",
      "268521\n",
      "257301\n",
      "246621\n",
      "235724\n",
      "226255\n",
      "215845\n",
      "206646\n",
      "198888\n",
      "189089\n",
      "177260\n",
      "171293\n",
      "161414\n",
      "154213\n",
      "143979\n",
      "132642\n",
      "123279\n",
      "114319\n",
      "104536\n",
      "93387\n",
      "83788\n",
      "80676\n",
      "71524\n",
      "67828\n",
      "62249\n",
      "45123\n",
      "41373\n",
      "37263\n",
      "33852\n",
      "16125\n",
      "14077\n",
      "8054\n",
      "7153\n",
      "7021\n",
      "4894\n",
      "0\n",
      "0\n"
     ]
    }
   ],
   "source": [
    "for i in sub_index_array:\n",
    "    print(i[0])"
   ]
  },
  {
   "cell_type": "code",
   "execution_count": null,
   "metadata": {},
   "outputs": [],
   "source": [
    "maybe_dict_sorted.T[0][:40]"
   ]
  },
  {
   "cell_type": "code",
   "execution_count": null,
   "metadata": {},
   "outputs": [],
   "source": [
    "df = pd.read_hdf('day1.h5',str(start_list[1]))"
   ]
  },
  {
   "cell_type": "code",
   "execution_count": 12,
   "metadata": {},
   "outputs": [
    {
     "data": {
      "text/html": [
       "<div>\n",
       "<style scoped>\n",
       "    .dataframe tbody tr th:only-of-type {\n",
       "        vertical-align: middle;\n",
       "    }\n",
       "\n",
       "    .dataframe tbody tr th {\n",
       "        vertical-align: top;\n",
       "    }\n",
       "\n",
       "    .dataframe thead th {\n",
       "        text-align: right;\n",
       "    }\n",
       "</style>\n",
       "<table border=\"1\" class=\"dataframe\">\n",
       "  <thead>\n",
       "    <tr style=\"text-align: right;\">\n",
       "      <th></th>\n",
       "      <th>Station ID</th>\n",
       "      <th>Year</th>\n",
       "      <th>Month</th>\n",
       "      <th>Day</th>\n",
       "      <th>Hour</th>\n",
       "      <th>Minute</th>\n",
       "      <th>Second</th>\n",
       "      <th>Time since the epoch [s]</th>\n",
       "      <th>Sequence Number</th>\n",
       "      <th>Ambient Temperature</th>\n",
       "      <th>Surface Temperature</th>\n",
       "      <th>Relative Humidity [%]</th>\n",
       "    </tr>\n",
       "  </thead>\n",
       "  <tbody>\n",
       "    <tr>\n",
       "      <th>70645</th>\n",
       "      <td>8</td>\n",
       "      <td>2006</td>\n",
       "      <td>11</td>\n",
       "      <td>27</td>\n",
       "      <td>14</td>\n",
       "      <td>19</td>\n",
       "      <td>15</td>\n",
       "      <td>1164633555</td>\n",
       "      <td>14611</td>\n",
       "      <td>12.74</td>\n",
       "      <td>11.787</td>\n",
       "      <td>66.492</td>\n",
       "    </tr>\n",
       "    <tr>\n",
       "      <th>26185</th>\n",
       "      <td>11</td>\n",
       "      <td>2006</td>\n",
       "      <td>11</td>\n",
       "      <td>27</td>\n",
       "      <td>14</td>\n",
       "      <td>19</td>\n",
       "      <td>19</td>\n",
       "      <td>1164633559</td>\n",
       "      <td>29918</td>\n",
       "      <td>12.55</td>\n",
       "      <td>14.850</td>\n",
       "      <td>72.454</td>\n",
       "    </tr>\n",
       "    <tr>\n",
       "      <th>70209</th>\n",
       "      <td>14</td>\n",
       "      <td>2006</td>\n",
       "      <td>11</td>\n",
       "      <td>27</td>\n",
       "      <td>14</td>\n",
       "      <td>19</td>\n",
       "      <td>21</td>\n",
       "      <td>1164633561</td>\n",
       "      <td>11760</td>\n",
       "      <td>12.02</td>\n",
       "      <td>9.725</td>\n",
       "      <td>73.431</td>\n",
       "    </tr>\n",
       "    <tr>\n",
       "      <th>66903</th>\n",
       "      <td>17</td>\n",
       "      <td>2006</td>\n",
       "      <td>11</td>\n",
       "      <td>27</td>\n",
       "      <td>14</td>\n",
       "      <td>19</td>\n",
       "      <td>13</td>\n",
       "      <td>1164633553</td>\n",
       "      <td>21043</td>\n",
       "      <td>12.84</td>\n",
       "      <td>13.912</td>\n",
       "      <td>70.046</td>\n",
       "    </tr>\n",
       "    <tr>\n",
       "      <th>45042</th>\n",
       "      <td>19</td>\n",
       "      <td>2006</td>\n",
       "      <td>11</td>\n",
       "      <td>27</td>\n",
       "      <td>14</td>\n",
       "      <td>19</td>\n",
       "      <td>0</td>\n",
       "      <td>1164633540</td>\n",
       "      <td>21015</td>\n",
       "      <td>11.98</td>\n",
       "      <td>10.912</td>\n",
       "      <td>73.449</td>\n",
       "    </tr>\n",
       "    <tr>\n",
       "      <th>77199</th>\n",
       "      <td>23</td>\n",
       "      <td>2006</td>\n",
       "      <td>11</td>\n",
       "      <td>27</td>\n",
       "      <td>14</td>\n",
       "      <td>19</td>\n",
       "      <td>12</td>\n",
       "      <td>1164633552</td>\n",
       "      <td>23921</td>\n",
       "      <td>12.10</td>\n",
       "      <td>10.725</td>\n",
       "      <td>74.674</td>\n",
       "    </tr>\n",
       "    <tr>\n",
       "      <th>78066</th>\n",
       "      <td>26</td>\n",
       "      <td>2006</td>\n",
       "      <td>11</td>\n",
       "      <td>27</td>\n",
       "      <td>14</td>\n",
       "      <td>19</td>\n",
       "      <td>5</td>\n",
       "      <td>1164633545</td>\n",
       "      <td>46311</td>\n",
       "      <td>12.63</td>\n",
       "      <td>11.662</td>\n",
       "      <td>72.311</td>\n",
       "    </tr>\n",
       "    <tr>\n",
       "      <th>46764</th>\n",
       "      <td>31</td>\n",
       "      <td>2006</td>\n",
       "      <td>11</td>\n",
       "      <td>27</td>\n",
       "      <td>14</td>\n",
       "      <td>19</td>\n",
       "      <td>13</td>\n",
       "      <td>1164633553</td>\n",
       "      <td>13393</td>\n",
       "      <td>13.03</td>\n",
       "      <td>13.850</td>\n",
       "      <td>72.149</td>\n",
       "    </tr>\n",
       "    <tr>\n",
       "      <th>49688</th>\n",
       "      <td>33</td>\n",
       "      <td>2006</td>\n",
       "      <td>11</td>\n",
       "      <td>27</td>\n",
       "      <td>14</td>\n",
       "      <td>19</td>\n",
       "      <td>21</td>\n",
       "      <td>1164633561</td>\n",
       "      <td>25014</td>\n",
       "      <td>12.09</td>\n",
       "      <td>11.537</td>\n",
       "      <td>74.516</td>\n",
       "    </tr>\n",
       "    <tr>\n",
       "      <th>63331</th>\n",
       "      <td>34</td>\n",
       "      <td>2006</td>\n",
       "      <td>11</td>\n",
       "      <td>27</td>\n",
       "      <td>14</td>\n",
       "      <td>19</td>\n",
       "      <td>24</td>\n",
       "      <td>1164633564</td>\n",
       "      <td>11564</td>\n",
       "      <td>12.10</td>\n",
       "      <td>11.350</td>\n",
       "      <td>71.142</td>\n",
       "    </tr>\n",
       "    <tr>\n",
       "      <th>69974</th>\n",
       "      <td>35</td>\n",
       "      <td>2006</td>\n",
       "      <td>11</td>\n",
       "      <td>27</td>\n",
       "      <td>14</td>\n",
       "      <td>19</td>\n",
       "      <td>1</td>\n",
       "      <td>1164633541</td>\n",
       "      <td>3114</td>\n",
       "      <td>12.83</td>\n",
       "      <td>23.163</td>\n",
       "      <td>71.577</td>\n",
       "    </tr>\n",
       "    <tr>\n",
       "      <th>54653</th>\n",
       "      <td>40</td>\n",
       "      <td>2006</td>\n",
       "      <td>11</td>\n",
       "      <td>27</td>\n",
       "      <td>14</td>\n",
       "      <td>19</td>\n",
       "      <td>23</td>\n",
       "      <td>1164633563</td>\n",
       "      <td>41615</td>\n",
       "      <td>12.62</td>\n",
       "      <td>12.037</td>\n",
       "      <td>73.839</td>\n",
       "    </tr>\n",
       "    <tr>\n",
       "      <th>69607</th>\n",
       "      <td>46</td>\n",
       "      <td>2006</td>\n",
       "      <td>11</td>\n",
       "      <td>27</td>\n",
       "      <td>14</td>\n",
       "      <td>19</td>\n",
       "      <td>17</td>\n",
       "      <td>1164633557</td>\n",
       "      <td>11777</td>\n",
       "      <td>13.30</td>\n",
       "      <td>13.225</td>\n",
       "      <td>67.008</td>\n",
       "    </tr>\n",
       "    <tr>\n",
       "      <th>12872</th>\n",
       "      <td>49</td>\n",
       "      <td>2006</td>\n",
       "      <td>11</td>\n",
       "      <td>27</td>\n",
       "      <td>14</td>\n",
       "      <td>19</td>\n",
       "      <td>12</td>\n",
       "      <td>1164633552</td>\n",
       "      <td>8855</td>\n",
       "      <td>13.40</td>\n",
       "      <td>11.787</td>\n",
       "      <td>70.151</td>\n",
       "    </tr>\n",
       "    <tr>\n",
       "      <th>11147</th>\n",
       "      <td>51</td>\n",
       "      <td>2006</td>\n",
       "      <td>11</td>\n",
       "      <td>27</td>\n",
       "      <td>14</td>\n",
       "      <td>19</td>\n",
       "      <td>19</td>\n",
       "      <td>1164633559</td>\n",
       "      <td>11600</td>\n",
       "      <td>12.42</td>\n",
       "      <td>11.662</td>\n",
       "      <td>73.956</td>\n",
       "    </tr>\n",
       "    <tr>\n",
       "      <th>45628</th>\n",
       "      <td>60</td>\n",
       "      <td>2006</td>\n",
       "      <td>11</td>\n",
       "      <td>27</td>\n",
       "      <td>14</td>\n",
       "      <td>18</td>\n",
       "      <td>59</td>\n",
       "      <td>1164633539</td>\n",
       "      <td>28709</td>\n",
       "      <td>11.78</td>\n",
       "      <td>9.537</td>\n",
       "      <td>77.025</td>\n",
       "    </tr>\n",
       "    <tr>\n",
       "      <th>45629</th>\n",
       "      <td>60</td>\n",
       "      <td>2006</td>\n",
       "      <td>11</td>\n",
       "      <td>27</td>\n",
       "      <td>14</td>\n",
       "      <td>19</td>\n",
       "      <td>28</td>\n",
       "      <td>1164633568</td>\n",
       "      <td>28710</td>\n",
       "      <td>11.79</td>\n",
       "      <td>9.662</td>\n",
       "      <td>77.306</td>\n",
       "    </tr>\n",
       "    <tr>\n",
       "      <th>42376</th>\n",
       "      <td>69</td>\n",
       "      <td>2006</td>\n",
       "      <td>11</td>\n",
       "      <td>27</td>\n",
       "      <td>14</td>\n",
       "      <td>19</td>\n",
       "      <td>2</td>\n",
       "      <td>1164633542</td>\n",
       "      <td>8618</td>\n",
       "      <td>NaN</td>\n",
       "      <td>10.662</td>\n",
       "      <td>NaN</td>\n",
       "    </tr>\n",
       "    <tr>\n",
       "      <th>26199</th>\n",
       "      <td>70</td>\n",
       "      <td>2006</td>\n",
       "      <td>11</td>\n",
       "      <td>27</td>\n",
       "      <td>14</td>\n",
       "      <td>19</td>\n",
       "      <td>6</td>\n",
       "      <td>1164633546</td>\n",
       "      <td>29872</td>\n",
       "      <td>13.48</td>\n",
       "      <td>11.850</td>\n",
       "      <td>69.214</td>\n",
       "    </tr>\n",
       "    <tr>\n",
       "      <th>26100</th>\n",
       "      <td>72</td>\n",
       "      <td>2006</td>\n",
       "      <td>11</td>\n",
       "      <td>27</td>\n",
       "      <td>14</td>\n",
       "      <td>19</td>\n",
       "      <td>21</td>\n",
       "      <td>1164633561</td>\n",
       "      <td>29867</td>\n",
       "      <td>12.58</td>\n",
       "      <td>14.662</td>\n",
       "      <td>70.832</td>\n",
       "    </tr>\n",
       "    <tr>\n",
       "      <th>34355</th>\n",
       "      <td>79</td>\n",
       "      <td>2006</td>\n",
       "      <td>11</td>\n",
       "      <td>27</td>\n",
       "      <td>14</td>\n",
       "      <td>19</td>\n",
       "      <td>14</td>\n",
       "      <td>1164633554</td>\n",
       "      <td>41140</td>\n",
       "      <td>12.40</td>\n",
       "      <td>12.162</td>\n",
       "      <td>78.144</td>\n",
       "    </tr>\n",
       "    <tr>\n",
       "      <th>11509</th>\n",
       "      <td>80</td>\n",
       "      <td>2006</td>\n",
       "      <td>11</td>\n",
       "      <td>27</td>\n",
       "      <td>14</td>\n",
       "      <td>19</td>\n",
       "      <td>6</td>\n",
       "      <td>1164633546</td>\n",
       "      <td>11895</td>\n",
       "      <td>12.05</td>\n",
       "      <td>14.162</td>\n",
       "      <td>79.996</td>\n",
       "    </tr>\n",
       "    <tr>\n",
       "      <th>14161</th>\n",
       "      <td>81</td>\n",
       "      <td>2006</td>\n",
       "      <td>11</td>\n",
       "      <td>27</td>\n",
       "      <td>14</td>\n",
       "      <td>19</td>\n",
       "      <td>15</td>\n",
       "      <td>1164633555</td>\n",
       "      <td>52962</td>\n",
       "      <td>11.85</td>\n",
       "      <td>12.975</td>\n",
       "      <td>80.101</td>\n",
       "    </tr>\n",
       "    <tr>\n",
       "      <th>11500</th>\n",
       "      <td>87</td>\n",
       "      <td>2006</td>\n",
       "      <td>11</td>\n",
       "      <td>27</td>\n",
       "      <td>14</td>\n",
       "      <td>19</td>\n",
       "      <td>11</td>\n",
       "      <td>1164633551</td>\n",
       "      <td>11902</td>\n",
       "      <td>11.80</td>\n",
       "      <td>12.850</td>\n",
       "      <td>80.238</td>\n",
       "    </tr>\n",
       "    <tr>\n",
       "      <th>14143</th>\n",
       "      <td>88</td>\n",
       "      <td>2006</td>\n",
       "      <td>11</td>\n",
       "      <td>27</td>\n",
       "      <td>14</td>\n",
       "      <td>19</td>\n",
       "      <td>1</td>\n",
       "      <td>1164633541</td>\n",
       "      <td>61825</td>\n",
       "      <td>11.80</td>\n",
       "      <td>14.662</td>\n",
       "      <td>80.904</td>\n",
       "    </tr>\n",
       "    <tr>\n",
       "      <th>8369</th>\n",
       "      <td>89</td>\n",
       "      <td>2006</td>\n",
       "      <td>11</td>\n",
       "      <td>27</td>\n",
       "      <td>14</td>\n",
       "      <td>19</td>\n",
       "      <td>14</td>\n",
       "      <td>1164633554</td>\n",
       "      <td>8672</td>\n",
       "      <td>12.32</td>\n",
       "      <td>12.850</td>\n",
       "      <td>79.208</td>\n",
       "    </tr>\n",
       "    <tr>\n",
       "      <th>37033</th>\n",
       "      <td>93</td>\n",
       "      <td>2006</td>\n",
       "      <td>11</td>\n",
       "      <td>27</td>\n",
       "      <td>14</td>\n",
       "      <td>19</td>\n",
       "      <td>25</td>\n",
       "      <td>1164633565</td>\n",
       "      <td>5723</td>\n",
       "      <td>11.77</td>\n",
       "      <td>10.350</td>\n",
       "      <td>77.302</td>\n",
       "    </tr>\n",
       "    <tr>\n",
       "      <th>26170</th>\n",
       "      <td>96</td>\n",
       "      <td>2006</td>\n",
       "      <td>11</td>\n",
       "      <td>27</td>\n",
       "      <td>14</td>\n",
       "      <td>19</td>\n",
       "      <td>17</td>\n",
       "      <td>1164633557</td>\n",
       "      <td>29925</td>\n",
       "      <td>12.16</td>\n",
       "      <td>12.162</td>\n",
       "      <td>79.299</td>\n",
       "    </tr>\n",
       "    <tr>\n",
       "      <th>24826</th>\n",
       "      <td>97</td>\n",
       "      <td>2006</td>\n",
       "      <td>11</td>\n",
       "      <td>27</td>\n",
       "      <td>14</td>\n",
       "      <td>19</td>\n",
       "      <td>13</td>\n",
       "      <td>1164633553</td>\n",
       "      <td>29938</td>\n",
       "      <td>12.94</td>\n",
       "      <td>13.225</td>\n",
       "      <td>76.294</td>\n",
       "    </tr>\n",
       "    <tr>\n",
       "      <th>45741</th>\n",
       "      <td>100</td>\n",
       "      <td>2006</td>\n",
       "      <td>11</td>\n",
       "      <td>27</td>\n",
       "      <td>14</td>\n",
       "      <td>19</td>\n",
       "      <td>17</td>\n",
       "      <td>1164633557</td>\n",
       "      <td>50089</td>\n",
       "      <td>13.24</td>\n",
       "      <td>13.350</td>\n",
       "      <td>75.036</td>\n",
       "    </tr>\n",
       "    <tr>\n",
       "      <th>1</th>\n",
       "      <td>103</td>\n",
       "      <td>2006</td>\n",
       "      <td>11</td>\n",
       "      <td>27</td>\n",
       "      <td>14</td>\n",
       "      <td>19</td>\n",
       "      <td>0</td>\n",
       "      <td>1164633540</td>\n",
       "      <td>5215</td>\n",
       "      <td>11.60</td>\n",
       "      <td>11.537</td>\n",
       "      <td>79.724</td>\n",
       "    </tr>\n",
       "    <tr>\n",
       "      <th>8252</th>\n",
       "      <td>104</td>\n",
       "      <td>2006</td>\n",
       "      <td>11</td>\n",
       "      <td>27</td>\n",
       "      <td>14</td>\n",
       "      <td>19</td>\n",
       "      <td>17</td>\n",
       "      <td>1164633557</td>\n",
       "      <td>5217</td>\n",
       "      <td>12.88</td>\n",
       "      <td>11.787</td>\n",
       "      <td>73.970</td>\n",
       "    </tr>\n",
       "  </tbody>\n",
       "</table>\n",
       "</div>"
      ],
      "text/plain": [
       "       Station ID  Year  Month  Day  Hour  Minute  Second  \\\n",
       "70645           8  2006     11   27    14      19      15   \n",
       "26185          11  2006     11   27    14      19      19   \n",
       "70209          14  2006     11   27    14      19      21   \n",
       "66903          17  2006     11   27    14      19      13   \n",
       "45042          19  2006     11   27    14      19       0   \n",
       "77199          23  2006     11   27    14      19      12   \n",
       "78066          26  2006     11   27    14      19       5   \n",
       "46764          31  2006     11   27    14      19      13   \n",
       "49688          33  2006     11   27    14      19      21   \n",
       "63331          34  2006     11   27    14      19      24   \n",
       "69974          35  2006     11   27    14      19       1   \n",
       "54653          40  2006     11   27    14      19      23   \n",
       "69607          46  2006     11   27    14      19      17   \n",
       "12872          49  2006     11   27    14      19      12   \n",
       "11147          51  2006     11   27    14      19      19   \n",
       "45628          60  2006     11   27    14      18      59   \n",
       "45629          60  2006     11   27    14      19      28   \n",
       "42376          69  2006     11   27    14      19       2   \n",
       "26199          70  2006     11   27    14      19       6   \n",
       "26100          72  2006     11   27    14      19      21   \n",
       "34355          79  2006     11   27    14      19      14   \n",
       "11509          80  2006     11   27    14      19       6   \n",
       "14161          81  2006     11   27    14      19      15   \n",
       "11500          87  2006     11   27    14      19      11   \n",
       "14143          88  2006     11   27    14      19       1   \n",
       "8369           89  2006     11   27    14      19      14   \n",
       "37033          93  2006     11   27    14      19      25   \n",
       "26170          96  2006     11   27    14      19      17   \n",
       "24826          97  2006     11   27    14      19      13   \n",
       "45741         100  2006     11   27    14      19      17   \n",
       "1             103  2006     11   27    14      19       0   \n",
       "8252          104  2006     11   27    14      19      17   \n",
       "\n",
       "       Time since the epoch [s]  Sequence Number  Ambient Temperature  \\\n",
       "70645                1164633555            14611                12.74   \n",
       "26185                1164633559            29918                12.55   \n",
       "70209                1164633561            11760                12.02   \n",
       "66903                1164633553            21043                12.84   \n",
       "45042                1164633540            21015                11.98   \n",
       "77199                1164633552            23921                12.10   \n",
       "78066                1164633545            46311                12.63   \n",
       "46764                1164633553            13393                13.03   \n",
       "49688                1164633561            25014                12.09   \n",
       "63331                1164633564            11564                12.10   \n",
       "69974                1164633541             3114                12.83   \n",
       "54653                1164633563            41615                12.62   \n",
       "69607                1164633557            11777                13.30   \n",
       "12872                1164633552             8855                13.40   \n",
       "11147                1164633559            11600                12.42   \n",
       "45628                1164633539            28709                11.78   \n",
       "45629                1164633568            28710                11.79   \n",
       "42376                1164633542             8618                  NaN   \n",
       "26199                1164633546            29872                13.48   \n",
       "26100                1164633561            29867                12.58   \n",
       "34355                1164633554            41140                12.40   \n",
       "11509                1164633546            11895                12.05   \n",
       "14161                1164633555            52962                11.85   \n",
       "11500                1164633551            11902                11.80   \n",
       "14143                1164633541            61825                11.80   \n",
       "8369                 1164633554             8672                12.32   \n",
       "37033                1164633565             5723                11.77   \n",
       "26170                1164633557            29925                12.16   \n",
       "24826                1164633553            29938                12.94   \n",
       "45741                1164633557            50089                13.24   \n",
       "1                    1164633540             5215                11.60   \n",
       "8252                 1164633557             5217                12.88   \n",
       "\n",
       "       Surface Temperature  Relative Humidity [%]  \n",
       "70645               11.787                 66.492  \n",
       "26185               14.850                 72.454  \n",
       "70209                9.725                 73.431  \n",
       "66903               13.912                 70.046  \n",
       "45042               10.912                 73.449  \n",
       "77199               10.725                 74.674  \n",
       "78066               11.662                 72.311  \n",
       "46764               13.850                 72.149  \n",
       "49688               11.537                 74.516  \n",
       "63331               11.350                 71.142  \n",
       "69974               23.163                 71.577  \n",
       "54653               12.037                 73.839  \n",
       "69607               13.225                 67.008  \n",
       "12872               11.787                 70.151  \n",
       "11147               11.662                 73.956  \n",
       "45628                9.537                 77.025  \n",
       "45629                9.662                 77.306  \n",
       "42376               10.662                    NaN  \n",
       "26199               11.850                 69.214  \n",
       "26100               14.662                 70.832  \n",
       "34355               12.162                 78.144  \n",
       "11509               14.162                 79.996  \n",
       "14161               12.975                 80.101  \n",
       "11500               12.850                 80.238  \n",
       "14143               14.662                 80.904  \n",
       "8369                12.850                 79.208  \n",
       "37033               10.350                 77.302  \n",
       "26170               12.162                 79.299  \n",
       "24826               13.225                 76.294  \n",
       "45741               13.350                 75.036  \n",
       "1                   11.537                 79.724  \n",
       "8252                11.787                 73.970  "
      ]
     },
     "execution_count": 12,
     "metadata": {},
     "output_type": "execute_result"
    }
   ],
   "source": [
    "ddf_list[sub_index_array[0][1][1]]"
   ]
  },
  {
   "cell_type": "code",
   "execution_count": 10,
   "metadata": {
    "tags": []
   },
   "outputs": [
    {
     "name": "stdout",
     "output_type": "stream",
     "text": [
      "550080\n"
     ]
    }
   ],
   "source": [
    "print(len(ddf_list)*len(ddf_list[0]))"
   ]
  },
  {
   "cell_type": "code",
   "execution_count": null,
   "metadata": {},
   "outputs": [],
   "source": [
    "time_stamps"
   ]
  },
  {
   "cell_type": "code",
   "execution_count": null,
   "metadata": {
    "tags": []
   },
   "outputs": [],
   "source": [
    "print(epoch_length)"
   ]
  },
  {
   "cell_type": "code",
   "execution_count": null,
   "metadata": {},
   "outputs": [],
   "source": [
    "sub_index_array[0][1][4]"
   ]
  }
 ],
 "metadata": {
  "kernelspec": {
   "display_name": "Python 3.7.6 64-bit ('ccs_ta': conda)",
   "language": "python",
   "name": "python37664bitccstaconda3a2139a6822448159c7afc22ea6ab768"
  },
  "language_info": {
   "codemirror_mode": {
    "name": "ipython",
    "version": 3
   },
   "file_extension": ".py",
   "mimetype": "text/x-python",
   "name": "python",
   "nbconvert_exporter": "python",
   "pygments_lexer": "ipython3",
   "version": "3.7.6"
  }
 },
 "nbformat": 4,
 "nbformat_minor": 2
}