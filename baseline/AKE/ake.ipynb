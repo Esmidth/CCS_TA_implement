{
 "cells": [
  {
   "cell_type": "code",
   "execution_count": 25,
   "metadata": {},
   "outputs": [],
   "source": [
    "%matplotlib inline\n",
    "import numpy as np\n",
    "import pandas as pd\n",
    "from sklearn.linear_model import LinearRegression"
   ]
  },
  {
   "cell_type": "code",
   "execution_count": 2,
   "metadata": {},
   "outputs": [],
   "source": [
    "def generate_data_matrix(spatial_size, temporal_size, miss_ratio=0):\n",
    "    data_matrix = np.random.randint(1,5,size=(spatial_size,temporal_size))\n",
    "    origin = data_matrix.copy()\n",
    "    k = round(spatial_size*temporal_size*miss_ratio)\n",
    "    ri = np.random.choice(spatial_size*temporal_size,k,replace=False)\n",
    "    data_matrix.flat[ri] = 0\n",
    "    return origin,data_matrix"
   ]
  },
  {
   "cell_type": "code",
   "execution_count": 150,
   "metadata": {},
   "outputs": [],
   "source": [
    "origin,dm = generate_data_matrix(5,6,0.1)"
   ]
  },
  {
   "cell_type": "code",
   "execution_count": 272,
   "metadata": {},
   "outputs": [
    {
     "output_type": "execute_result",
     "data": {
      "text/plain": "array([[0.        , 0.        , 3.37142857, 0.        , 0.        ],\n       [0.        , 0.        , 0.        , 0.        , 0.        ],\n       [0.        , 0.        , 0.        , 5.31023218, 0.        ],\n       [0.        , 0.        , 0.        , 0.        , 0.        ],\n       [0.        , 0.        , 0.        , 0.        , 0.        ]])"
     },
     "metadata": {},
     "execution_count": 272
    }
   ],
   "source": [
    "# Applying K-nearest neighbors Estimation (AKE)\n",
    "\n",
    "def ake(data_matrix):\n",
    "    if data_matrix is not None:\n",
    "        return_matrix = data_matrix.copy().astype(float)\n",
    "\n",
    "        # zero_index = np.where(data_matrix.flatten()==0)[0]\n",
    "        # rec_array = np.zeros_like(zero_index,dtype=float)\n",
    "\n",
    "        spatial_length, temporal_length = data_matrix.shape\n",
    "\n",
    "        zero_index = np.where(data_matrix.flatten() == 0)[0]\n",
    "        rec_array_global = np.zeros_like(zero_index,dtype=float)\n",
    "\n",
    "        temporal_index = zero_index % temporal_length\n",
    "        spatial_index = zero_index / temporal_length\n",
    "        spatial_index = spatial_index.astype(int)\n",
    "\n",
    "        # print(zero_index)\n",
    "        # print('ti',temporal_index)\n",
    "        # print('si',spatial_index)\n",
    "        index = np.arange(temporal_length)\n",
    "        for i in range(len(zero_index)):\n",
    "            # print(zero_index[i])\n",
    "            sim_array = np.ones(spatial_length)\n",
    "            # sim_array[spatial_index[i]] = 0\n",
    "            tmp = data_matrix.T[temporal_index[i]]\n",
    "            tmp_zero_index = np.where(tmp == 0)[0]\n",
    "            sim_array[tmp_zero_index] = 0\n",
    "            sim_array_index = np.where(sim_array==1)[0]\n",
    "            rec_array = np.zeros_like(sim_array)\n",
    "            # print(rec_array.shape)\n",
    "            # tmp_one_index = np.where(tmp != 0)[0]\n",
    "            for ii in sim_array_index:\n",
    "                sim_array[ii],tmp_rec_array = sim_temporal(data_matrix,spatial_index[i],ii)\n",
    "                if tmp_rec_array is not None:\n",
    "                    rec_array[ii] = tmp_rec_array[temporal_index[i]]\n",
    "                    # print(tmp_rec_array.shape)\n",
    "            # print(sim_array)\n",
    "            sim_array = sim_array / np.sum(sim_array)\n",
    "            # print(sim_array)\n",
    "            # print(rec_array)\n",
    "            # print('---')\n",
    "            rec_array_global[i] = np.dot(sim_array,rec_array)\n",
    "            if np.isnan(rec_array_global[i]) or np.isinf(rec_array_global[i]):\n",
    "                rec_array_global[i] = 0\n",
    "            \n",
    "\n",
    "        # print('rec',rec_array_global)\n",
    "        return_matrix.flat[zero_index] = rec_array_global\n",
    "        # print(rec_array.shape)\n",
    "\n",
    "\n",
    "            # print(sim_array)\n",
    "        # for i in range(temporal_length):\n",
    "        #     tmp = data_matrix.T[i]\n",
    "        #     print(tmp)\n",
    "\n",
    "        #     zero_index = np.where(tmp == 0)[0]\n",
    "        #     true_index = np.where(tmp != 0)[0]\n",
    "        #     rec_array = np.zeros_like(zero_index,dtype=float)\n",
    "        #     for j,mis in enumerate(zero_index):\n",
    "        #         dis_array = \n",
    "\n",
    "        \n",
    "\n",
    "        return return_matrix\n",
    "    else:\n",
    "        return None\n",
    "\n",
    "# origin,dm = generate_data_matrix(5,5,0.2)\n",
    "ake(dm)-dm\n",
    "\n"
   ]
  },
  {
   "cell_type": "code",
   "execution_count": 266,
   "metadata": {},
   "outputs": [
    {
     "output_type": "execute_result",
     "data": {
      "text/plain": "array([[1, 3, 0, 2, 4],\n       [2, 4, 2, 3, 3],\n       [4, 2, 1, 0, 2],\n       [3, 3, 4, 3, 4],\n       [0, 2, 0, 3, 0]])"
     },
     "metadata": {},
     "execution_count": 266
    }
   ],
   "source": [
    "dm"
   ]
  },
  {
   "cell_type": "code",
   "execution_count": 226,
   "metadata": {},
   "outputs": [
    {
     "output_type": "execute_result",
     "data": {
      "text/plain": "(0.9696969696969698,\n array([ 5.54545455,  4.09090909, -0.27272727,  2.63636364,  1.18181818,\n         4.09090909]))"
     },
     "metadata": {},
     "execution_count": 226
    }
   ],
   "source": [
    "def sim_temporal(sub_data,source_index,target_index):\n",
    "    # source_index，指数据较多项\n",
    "    # target_index，指数据缺失项\n",
    "    source_non_zero_index = np.where(sub_data[source_index] != 0)[0]\n",
    "    target_non_zero_index = np.where(sub_data[target_index] != 0)[0]\n",
    "\n",
    "    intersect = np.intersect1d(source_non_zero_index,target_non_zero_index)\n",
    "    # 取消过短的序列\n",
    "    if len(intersect) < 3:        \n",
    "        return 0,None\n",
    "\n",
    "    diff1 = sub_data[source_index][intersect]\n",
    "    diff2 = sub_data[target_index][intersect]\n",
    "    # print(diff1)\n",
    "    # print(diff2)\n",
    "    reg = LinearRegression().fit(diff1.reshape(-1,1),diff2.reshape(-1,1))\n",
    "\n",
    "    # print(reg.predict(np.array([3]).reshape(-1,1)))\n",
    "    # print('cof',reg.coef_)\n",
    "    # print('inter',reg.intercept_)\n",
    "    \n",
    "    target_mean = np.mean(diff2)\n",
    "    # print('tm',target_mean)\n",
    "    target_square = np.square(diff2 - target_mean)\n",
    "    # print('sq',target_square)\n",
    "    # print(target_mean)\n",
    "\n",
    "    rec = reg.predict(diff1.reshape(-1,1))\n",
    "    rec = rec.reshape(1,-1)[0]\n",
    "    # print('rec',rec)\n",
    "    rec_square = np.square(rec-target_mean)\n",
    "    \n",
    "    Rj = np.sum(rec_square) / np.sum(target_square)\n",
    "    if np.isnan(Rj):\n",
    "        Rj = 0\n",
    "    elif np.isinf(Rj):\n",
    "        Rj = 999\n",
    "\n",
    "    # print('Rj',Rj)\n",
    "\n",
    "    # print('rec_square',rec_square)\n",
    "    # print('ts',target_square)\n",
    "    \n",
    "    full = sub_data[source_index]\n",
    "    # print(tmp)\n",
    "    # print('coef',reg.coef_)\n",
    "    # print('inter',reg.intercept_)\n",
    "    # print(full)\n",
    "    rec_full = reg.predict(full.reshape(-1,1)).reshape(1,-1)[0]\n",
    "    # print('rec_full',rec_full)\n",
    "    # # print(diff1.reshape(-1,1))\n",
    "    # # print(np.array([diff1]))\n",
    "    # print(diff1.reshape(1,-1))\n",
    "    # print(diff2)\n",
    "    return Rj,rec_full\n",
    "\n",
    "sim_temporal(test,1,0)\n",
    "\n",
    "    # if np.isinf(sim):\n",
    "    #     sim = 999\n",
    "    # if np.isnan(sim):\n",
    "    #     sim = 0\n",
    "    # return sim    "
   ]
  },
  {
   "cell_type": "code",
   "execution_count": 151,
   "metadata": {},
   "outputs": [
    {
     "output_type": "stream",
     "name": "stdout",
     "text": "[[0 4 1 3 1 4]\n [4 3 0 2 1 3]\n [2 1 2 0 4 4]\n [3 2 2 3 3 2]\n [4 4 4 1 4 4]]\n"
    }
   ],
   "source": [
    "print(dm)\n",
    "# sim_temporal(dm,0,2)"
   ]
  },
  {
   "cell_type": "code",
   "execution_count": 166,
   "metadata": {},
   "outputs": [
    {
     "output_type": "execute_result",
     "data": {
      "text/plain": "array([[0, 4, 1, 3, 1, 4],\n       [4, 3, 0, 2, 1, 3],\n       [2, 1, 2, 0, 4, 4],\n       [3, 2, 2, 3, 3, 2],\n       [4, 2, 4, 2, 8, 8]])"
     },
     "metadata": {},
     "execution_count": 166
    }
   ],
   "source": [
    "test"
   ]
  },
  {
   "cell_type": "code",
   "execution_count": 165,
   "metadata": {},
   "outputs": [],
   "source": [
    "test[4] = np.array([4,2,4,2,8,8])"
   ]
  }
 ],
 "metadata": {
  "language_info": {
   "codemirror_mode": {
    "name": "ipython",
    "version": 3
   },
   "file_extension": ".py",
   "mimetype": "text/x-python",
   "name": "python",
   "nbconvert_exporter": "python",
   "pygments_lexer": "ipython3",
   "version": "3.7.6-final"
  },
  "orig_nbformat": 2,
  "kernelspec": {
   "name": "python37664bitccstaconda3a2139a6822448159c7afc22ea6ab768",
   "display_name": "Python 3.7.6 64-bit ('ccs_ta': conda)"
  }
 },
 "nbformat": 4,
 "nbformat_minor": 2
}