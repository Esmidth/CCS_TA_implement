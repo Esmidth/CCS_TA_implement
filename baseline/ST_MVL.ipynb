{
 "cells": [
  {
   "cell_type": "code",
   "execution_count": 1,
   "metadata": {},
   "outputs": [],
   "source": [
    "%matplotlib inline\n",
    "import numpy as np\n",
    "import pandas as pd\n"
   ]
  },
  {
   "cell_type": "code",
   "execution_count": 2,
   "metadata": {},
   "outputs": [],
   "source": [
    "def generate_data_matrix(spatial_size, temporal_size, miss_ratio):\n",
    "    data_matrix = np.random.randint(1,5,size=(spatial_size,temporal_size))\n",
    "    origin = data_matrix.copy()\n",
    "    k = round(spatial_size*temporal_size*miss_ratio)\n",
    "    ri = np.random.choice(spatial_size*temporal_size,k,replace=False)\n",
    "    data_matrix.flat[ri] = 0\n",
    "    return origin,data_matrix"
   ]
  },
  {
   "cell_type": "code",
   "execution_count": 5,
   "metadata": {},
   "outputs": [],
   "source": [
    "def is_diagonal(matrix):\n",
    "    result = matrix.T == matrix\n",
    "    if type(result) == bool:\n",
    "        return result\n",
    "    else:\n",
    "        return result.all()"
   ]
  },
  {
   "cell_type": "code",
   "execution_count": 6,
   "metadata": {},
   "outputs": [],
   "source": [
    "def get_distance_matrix(data_matrix,dis_loc=None):\n",
    "    spatial_length = data_matrix.shape[0]\n",
    "    # print(spatial_length)\n",
    "    dis_matrix = np.random.rand(spatial_length,spatial_length)\n",
    "    dis_matrix += dis_matrix.T\n",
    "    np.fill_diagonal(dis_matrix,0)\n",
    "    return dis_matrix"
   ]
  },
  {
   "cell_type": "code",
   "execution_count": 10,
   "metadata": {},
   "outputs": [
    {
     "output_type": "stream",
     "name": "stdout",
     "text": "4\n"
    }
   ],
   "source": [
    "def get_time_interval_matrix(data_matrix):\n",
    "    temporal_length = data_matrix.shape[1]\n",
    "    print(temporal_length)\n",
    "    ti_matrix = np.random.rand(temporal_length,temporal_length)\n",
    "    \n",
    "\n",
    "get_time_interval_matrix(dm)"
   ]
  },
  {
   "cell_type": "code",
   "execution_count": 8,
   "metadata": {},
   "outputs": [
    {
     "output_type": "stream",
     "name": "stdout",
     "text": "[[2 2 3 1]\n [1 1 2 2]\n [1 4 4 1]\n [1 1 4 1]\n [3 1 3 1]]\n[[2 2 3 1]\n [0 1 2 2]\n [1 4 0 0]\n [0 1 0 1]\n [0 1 3 1]]\n6\n"
    }
   ],
   "source": [
    "origin,dm = generate_data_matrix(5,4,0.3)\n",
    "print(origin)\n",
    "print(dm)\n",
    "sum = 0 \n",
    "for i in dm.flatten():\n",
    "    if i == 0:\n",
    "        sum +=1\n",
    "print(sum)"
   ]
  },
  {
   "cell_type": "code",
   "execution_count": 61,
   "metadata": {},
   "outputs": [
    {
     "output_type": "execute_result",
     "data": {
      "text/plain": "array([[0.        , 0.        , 1.6       , 0.        ],\n       [0.        , 1.4       , 0.        , 0.        ],\n       [0.        , 0.        , 0.        , 3.42857143],\n       [1.57142857, 0.        , 0.        , 0.        ],\n       [1.        , 1.        , 0.        , 0.        ]])"
     },
     "metadata": {},
     "execution_count": 61
    }
   ],
   "source": [
    "# Global Temporal View -SES(Simple Exponential Smoothing)\n",
    "\n",
    "def ses(data_matrix,beta=0.5,time_interval_array=None):\n",
    "    return_matrix = data_matrix.copy().astype(float)\n",
    "    \n",
    "    spatial_length,temporal_length = data_matrix.shape\n",
    "    for i in range(spatial_length):\n",
    "        tmp = data_matrix[i]\n",
    "        # print(tmp)\n",
    "        zero_index = np.where(tmp == 0)[0]\n",
    "        true_index = np.where(tmp != 0)[0]\n",
    "        res_array = np.zeros_like(zero_index,dtype=float)\n",
    "        # print('-')\n",
    "        for j,mis in enumerate(zero_index):\n",
    "            # print('--')\n",
    "            time_interval = abs(true_index-mis)\n",
    "            # print(time_interval)\n",
    "            # coef_array = time_interval\n",
    "            coef_array = np.power(1-beta,time_interval-1)*beta\n",
    "            res_array[j] = np.dot(coef_array,tmp[true_index]) / (np.sum(coef_array))\n",
    "            # print('res',res_array[j])\n",
    "        # print(zero_index)\n",
    "        return_matrix[i][zero_index] = res_array\n",
    "    return return_matrix\n",
    "\n",
    "origin,dm = generate_data_matrix(5,4,0.3)\n",
    "ses(dm)-dm\n"
   ]
  },
  {
   "cell_type": "code",
   "execution_count": null,
   "metadata": {},
   "outputs": [],
   "source": [
    "# Global Spatial View - IDW (Inverse distance weighting)\n",
    "# Global means using all sensors in the sensor network\n",
    "# Local means using a subset of sensors in the sensor network\n",
    "\n",
    "def idw(data_matrix,alpha=1,distance_matrix=None):\n",
    "    return_matrix = data_matrix.copy().astype(float)\n",
    "    # return_matrix = data_matrix\n",
    "    if distance_matrix is not None:\n",
    "        spaital_length,temporal_length = data_matrix.shape\n",
    "\n",
    "        for i in range(temporal_length):\n",
    "            tmp = data_matrix.T[i]\n",
    "            zero_index = np.where(tmp == 0)[0]\n",
    "            true_index = np.where(tmp != 0)[0]\n",
    "            res_array = np.zeros_like(zero_index,dtype=float)\n",
    "            for j,mis in enumerate(zero_index):                \n",
    "                dis_array = np.zeros_like(true_index,dtype=np.float)\n",
    "                for ii,solid in enumerate(true_index):\n",
    "                    dis_array[ii] = distance_matrix[mis][solid]\n",
    "                dis_array = np.power(dis_array,-alpha)\n",
    "                res_array[j] = np.dot(dis_array,tmp[true_index]) / np.sum(dis_array)\n",
    "\n",
    "            return_matrix.T[i][zero_index] = res_array\n",
    "    else:\n",
    "        pass\n",
    "    return return_matrix\n",
    "\n",
    "origin,dm = generate_data_matrix(5,4,0.3)\n",
    "ds_matrix = get_distance_matrix(dm,0)\n",
    "res = idw(dm,distance_matrix=ds_matrix)\n",
    "print(res-dm)\n"
   ]
  }
 ],
 "metadata": {
  "language_info": {
   "codemirror_mode": {
    "name": "ipython",
    "version": 3
   },
   "file_extension": ".py",
   "mimetype": "text/x-python",
   "name": "python",
   "nbconvert_exporter": "python",
   "pygments_lexer": "ipython3",
   "version": "3.7.6-final"
  },
  "orig_nbformat": 2,
  "kernelspec": {
   "name": "python37664bitccstaconda3a2139a6822448159c7afc22ea6ab768",
   "display_name": "Python 3.7.6 64-bit ('ccs_ta': conda)"
  }
 },
 "nbformat": 4,
 "nbformat_minor": 2
}