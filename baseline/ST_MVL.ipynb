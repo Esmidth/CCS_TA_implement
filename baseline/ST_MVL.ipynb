{
 "cells": [
  {
   "cell_type": "code",
   "execution_count": 1,
   "metadata": {},
   "outputs": [],
   "source": [
    "%matplotlib inline\n",
    "import numpy as np\n",
    "import pandas as pd\n"
   ]
  },
  {
   "cell_type": "code",
   "execution_count": 2,
   "metadata": {},
   "outputs": [],
   "source": [
    "def generate_data_matrix(spatial_size, temporal_size, miss_ratio=0):\n",
    "    data_matrix = np.random.randint(1,5,size=(spatial_size,temporal_size))\n",
    "    origin = data_matrix.copy()\n",
    "    k = round(spatial_size*temporal_size*miss_ratio)\n",
    "    ri = np.random.choice(spatial_size*temporal_size,k,replace=False)\n",
    "    data_matrix.flat[ri] = 0\n",
    "    return origin,data_matrix"
   ]
  },
  {
   "cell_type": "code",
   "execution_count": 3,
   "metadata": {},
   "outputs": [],
   "source": [
    "def is_diagonal(matrix):\n",
    "    result = matrix.T == matrix\n",
    "    if type(result) == bool:\n",
    "        return result\n",
    "    else:\n",
    "        return result.all()"
   ]
  },
  {
   "cell_type": "code",
   "execution_count": 4,
   "metadata": {},
   "outputs": [
    {
     "output_type": "execute_result",
     "data": {
      "text/plain": "array([[0., 1., 2., 3.],\n       [1., 0., 1., 2.],\n       [2., 1., 0., 1.],\n       [3., 2., 1., 0.]])"
     },
     "metadata": {},
     "execution_count": 4
    }
   ],
   "source": [
    "def get_distance_matrix(data_matrix,linear=False):\n",
    "    if not linear:\n",
    "        spatial_length = data_matrix.shape[0]\n",
    "        # print(spatial_length)\n",
    "        dis_matrix = np.random.rand(spatial_length,spatial_length)\n",
    "        dis_matrix += dis_matrix.T\n",
    "        np.fill_diagonal(dis_matrix,0)\n",
    "        return dis_matrix\n",
    "    else:\n",
    "        spatial_length = data_matrix.shape[0]\n",
    "        dis_matrix = np.zeros((spatial_length,spatial_length))\n",
    "        for i in range(spatial_length):\n",
    "            dis_matrix[i][i:] = np.arange(0,spatial_length-i)\n",
    "        dis_matrix = dis_matrix + dis_matrix.T\n",
    "        return dis_matrix\n",
    "origin,dm = generate_data_matrix(4,3)\n",
    "get_distance_matrix(dm,True)\n",
    "\n"
   ]
  },
  {
   "cell_type": "code",
   "execution_count": 5,
   "metadata": {},
   "outputs": [],
   "source": [
    "def get_time_interval_matrix(data_matrix):\n",
    "    temporal_length = data_matrix.shape[1]\n",
    "    print(temporal_length)\n",
    "    ti_matrix = np.random.rand(temporal_length,temporal_length)\n",
    "    \n"
   ]
  },
  {
   "cell_type": "code",
   "execution_count": 6,
   "metadata": {},
   "outputs": [
    {
     "output_type": "stream",
     "name": "stdout",
     "text": "[[3 2 2 2]\n [3 4 3 1]\n [3 1 4 1]\n [3 4 4 4]\n [3 2 2 3]]\n[[3 2 0 2]\n [3 0 3 0]\n [3 1 0 1]\n [3 4 0 4]\n [3 0 2 3]]\n6\n"
    }
   ],
   "source": [
    "origin,dm = generate_data_matrix(5,4,0.3)\n",
    "print(origin)\n",
    "print(dm)\n",
    "sum = 0 \n",
    "for i in dm.flatten():\n",
    "    if i == 0:\n",
    "        sum +=1\n",
    "print(sum)"
   ]
  },
  {
   "cell_type": "code",
   "execution_count": 7,
   "metadata": {},
   "outputs": [
    {
     "output_type": "stream",
     "name": "stdout",
     "text": "[[3.13346882 0.         0.         0.        ]\n [0.         0.         0.         0.        ]\n [3.31580956 0.         0.         2.48541443]\n [0.         0.         2.04910325 0.        ]\n [0.         0.         0.         0.        ]]\n"
    }
   ],
   "source": [
    "# Global Spatial View - IDW (Inverse distance weighting)\n",
    "# Global means using all sensors in the sensor network\n",
    "# Local means using a subset of sensors in the sensor network\n",
    "\n",
    "def idw(data_matrix,alpha=1,distance_matrix=None):\n",
    "    return_matrix = data_matrix.copy().astype(float)\n",
    "    # return_matrix = data_matrix\n",
    "    if distance_matrix is not None:\n",
    "        spaital_length,temporal_length = data_matrix.shape\n",
    "\n",
    "        for i in range(temporal_length):\n",
    "            tmp = data_matrix.T[i]\n",
    "            # print(tmp)\n",
    "            zero_index = np.where(tmp == 0)[0]\n",
    "            true_index = np.where(tmp != 0)[0]\n",
    "            res_array = np.zeros_like(zero_index,dtype=float)\n",
    "            for j,mis in enumerate(zero_index):                \n",
    "                dis_array = np.zeros_like(true_index,dtype=np.float)\n",
    "                for ii,solid in enumerate(true_index):\n",
    "                    dis_array[ii] = distance_matrix[mis][solid]\n",
    "                dis_array = np.power(dis_array,-alpha)\n",
    "                res_array[j] = np.dot(dis_array,tmp[true_index]) / np.sum(dis_array)\n",
    "                if np.isinf(res_array[j]) or np.isnan(res_array[j]):\n",
    "                    res_array[j] = 0\n",
    "\n",
    "            return_matrix.T[i][zero_index] = res_array\n",
    "    else:\n",
    "        pass\n",
    "    return return_matrix\n",
    "\n",
    "origin,dm = generate_data_matrix(5,4,0.2)\n",
    "ds_matrix = get_distance_matrix(dm)\n",
    "res = idw(dm,distance_matrix=ds_matrix)\n",
    "print(res-dm)\n",
    "# print(dm)\n"
   ]
  },
  {
   "cell_type": "code",
   "execution_count": 8,
   "metadata": {},
   "outputs": [
    {
     "output_type": "execute_result",
     "data": {
      "text/plain": "array([[3.71428571, 0.        , 0.        , 0.        ],\n       [0.        , 0.        , 0.        , 0.        ],\n       [0.        , 0.        , 0.        , 0.        ],\n       [2.28571429, 0.        , 0.        , 0.        ],\n       [3.33333333, 3.33333333, 0.        , 0.        ]])"
     },
     "metadata": {},
     "execution_count": 8
    }
   ],
   "source": [
    "# Global Temporal View -SES(Simple Exponential Smoothing)\n",
    "\n",
    "def ses(data_matrix,beta=0.5,time_interval_array=None):\n",
    "    return_matrix = data_matrix.copy().astype(float)\n",
    "    \n",
    "    spatial_length,temporal_length = data_matrix.shape\n",
    "    for i in range(spatial_length):\n",
    "        tmp = data_matrix[i]\n",
    "        # print(tmp)\n",
    "        zero_index = np.where(tmp == 0)[0]\n",
    "        true_index = np.where(tmp != 0)[0]\n",
    "        res_array = np.zeros_like(zero_index,dtype=float)\n",
    "        # print('-')\n",
    "        for j,mis in enumerate(zero_index):\n",
    "            # print('--')\n",
    "            time_interval = abs(true_index-mis)\n",
    "            # print(time_interval)\n",
    "            # coef_array = time_interval\n",
    "            coef_array = np.power(1-beta,time_interval-1)*beta\n",
    "            res_array[j] = np.dot(coef_array,tmp[true_index]) / (np.sum(coef_array))\n",
    "            if np.isinf(res_array[j]) or np.isnan(res_array[j]):\n",
    "                res_array[j] = 0\n",
    "            # print('res',res_array[j])\n",
    "        # print(zero_index)\n",
    "        return_matrix[i][zero_index] = res_array\n",
    "    return return_matrix\n",
    "\n",
    "origin,dm = generate_data_matrix(5,4,0.2)\n",
    "ses(dm)-dm\n"
   ]
  },
  {
   "cell_type": "code",
   "execution_count": 9,
   "metadata": {},
   "outputs": [
    {
     "output_type": "execute_result",
     "data": {
      "text/plain": "array([[0. , 2.5, 0. , 0. ],\n       [0. , 2.5, 0. , 2. ],\n       [0. , 2.5, 0. , 0. ],\n       [0. , 0. , 0. , 0. ],\n       [0. , 0. , 0. , 0. ]])"
     },
     "metadata": {},
     "execution_count": 9
    }
   ],
   "source": [
    "# Local Temporal View - ICF (Item-based Collaborative filtering)\n",
    "\n",
    "def icf(data_matrix,window=5):\n",
    "    return_matrix = data_matrix.copy().astype(float)\n",
    "\n",
    "    if data_matrix is not None:\n",
    "        spatial_length, temporal_length = data_matrix.shape\n",
    "        zero_index = np.where(data_matrix.flatten() == 0)[0]\n",
    "\n",
    "        res_array = np.zeros_like(zero_index,dtype=float)\n",
    "\n",
    "        temporal_index = zero_index % temporal_length\n",
    "        spatial_index = zero_index / temporal_length\n",
    "\n",
    "        spatial_index = spatial_index.astype(int)\n",
    "        left_margin = temporal_index - (window-1)/2\n",
    "        right_margin = temporal_index + (window -1)/2\n",
    "\n",
    "        left_margin[np.where(left_margin < 0)[0]] = 0\n",
    "        right_margin[np.where(right_margin >= temporal_length)] = temporal_length-1\n",
    "        left_margin = left_margin.astype(int)\n",
    "        right_margin = right_margin.astype(int)\n",
    "        \n",
    "        index = np.arange(temporal_length)\n",
    "        for i in range(len(zero_index)):\n",
    "            sim_array = np.zeros(temporal_length)\n",
    "            sim_array[left_margin[i]:right_margin[i]+1] = 1\n",
    "            sim_array[temporal_index[i]] = 0\n",
    "\n",
    "            sim_array_index = np.where(sim_array == 1)[0]\n",
    "            \n",
    "            for ii in sim_array_index :\n",
    "                sim_array[ii] = sim_temporal(data_matrix,temporal_index[i],ii)\n",
    "\n",
    "            res_array[i] = np.dot(sim_array,data_matrix[spatial_index[i]]) / np.sum(sim_array)\n",
    "            if np.isinf(res_array[i]) or np.isnan(res_array[i]):\n",
    "                res_array[i] = 0\n",
    "\n",
    "\n",
    "        return_matrix.flat[zero_index] = res_array\n",
    "\n",
    "    return return_matrix\n",
    "\n",
    "def sim_temporal(sub_data,source_index,target_index):\n",
    "    source_non_zero_index = np.where(sub_data.T[source_index] != 0)[0]\n",
    "    target_non_zero_index = np.where(sub_data.T[target_index] != 0)[0]\n",
    "\n",
    "    intersect = np.intersect1d(source_non_zero_index,target_non_zero_index)\n",
    "\n",
    "    diff1 = sub_data.T[source_index][intersect]\n",
    "    diff2 = sub_data.T[target_index][intersect]\n",
    "\n",
    "    diff_count = np.sqrt(len(diff1-diff2))\n",
    "    diff_sum = 1 / np.sqrt(np.sum(np.power(diff1-diff2,2)))\n",
    "    sim = diff_count*diff_sum\n",
    "\n",
    "    if np.isinf(sim):\n",
    "        sim = 999\n",
    "    if np.isnan(sim):\n",
    "        sim = 0\n",
    "    return sim\n",
    "\n",
    "\n",
    "origin,dm = generate_data_matrix(5,4,0.2)\n",
    "icf(dm,3)-dm\n"
   ]
  },
  {
   "cell_type": "code",
   "execution_count": 10,
   "metadata": {
    "tags": [
     "outputPrepend"
    ]
   },
   "outputs": [
    {
     "output_type": "execute_result",
     "data": {
      "text/plain": "array([[0.        , 3.99671692, 0.        , 0.        ],\n       [2.        , 0.        , 0.        , 0.        ],\n       [1.5       , 0.        , 0.        , 0.        ],\n       [0.        , 0.        , 0.        , 1.00199867],\n       [0.        , 0.        , 0.        , 0.        ]])"
     },
     "metadata": {},
     "execution_count": 10
    }
   ],
   "source": [
    "# Local Spatial View - UCF (User-based Collaborative filtering)\n",
    "\n",
    "def ucf(data_matrix,window=5):\n",
    "    return_matrix = data_matrix.copy().astype(float) \n",
    "    if data_matrix is not None:\n",
    "        spatial_length, temporal_length = data_matrix.shape\n",
    "        zero_index = np.where(data_matrix.flatten() == 0)[0]\n",
    "        \n",
    "        res_array = np.zeros_like(zero_index,dtype=float)\n",
    "        temporal_index = zero_index % temporal_length\n",
    "        spatial_index = zero_index / temporal_length\n",
    "        spatial_index = spatial_index.astype(int)\n",
    "\n",
    "        left_margin = temporal_index - (window-1)/2\n",
    "        right_margin = temporal_index + (window -1)/2\n",
    "\n",
    "        left_margin[np.where(left_margin < 0)[0]] = 0\n",
    "        right_margin[np.where(right_margin >= temporal_length)] = temporal_length-1\n",
    "        left_margin = left_margin.astype(int)\n",
    "        right_margin = right_margin.astype(int)\n",
    "        for i in range(len(zero_index)):\n",
    "\n",
    "            sub = ((data_matrix.T[left_margin[i]:right_margin[i]+1]).T)\n",
    "            sim_array = np.ones(spatial_length)\n",
    "            sim_array[spatial_index[i]] = 0\n",
    "            sim_array_index = np.where(sim_array != 0)[0]\n",
    "            for ii in sim_array_index:\n",
    "                sim_array[ii] = sim_local(sub,spatial_index[i],ii)\n",
    "            \n",
    "            spatial_data_for_certain_time = data_matrix.T[temporal_index[i]]\n",
    "            res_array[i] = np.dot(spatial_data_for_certain_time,sim_array) / np.sum(sim_array)\n",
    "            if np.isinf(res_array[i]) or np.isnan(res_array[i]):\n",
    "                res_array[i] = 0\n",
    "            \n",
    "        return_matrix.flat[zero_index] = res_array\n",
    "    return return_matrix\n",
    "\n",
    "def sim_local(sub_data,spatial_index,current_index):\n",
    "\n",
    "    sp_non_zero_index = np.where(sub_data[spatial_index] != 0)[0]\n",
    "    ci_non_zero_index = np.where(sub_data[current_index] != 0)[0]\n",
    "\n",
    "    intersect = np.intersect1d(sp_non_zero_index,ci_non_zero_index)\n",
    "\n",
    "    diff1 = sub_data[spatial_index][intersect]\n",
    "    diff2 = sub_data[current_index][intersect]\n",
    "    diff_count = np.sqrt(len(diff1-diff2))\n",
    "    diff_sum = 1 / np.sqrt(np.sum(np.power(diff1-diff2,2)))\n",
    "    sim = diff_count*diff_sum\n",
    "    if np.isinf(sim):\n",
    "        sim = 999\n",
    "    if np.isnan(sim):\n",
    "        sim = 0\n",
    "    return sim\n",
    "\n",
    "\n",
    "origin,dm = generate_data_matrix(5,4,0.2)\n",
    "ucf(dm,3)-dm"
   ]
  },
  {
   "cell_type": "code",
   "execution_count": 11,
   "metadata": {},
   "outputs": [
    {
     "output_type": "execute_result",
     "data": {
      "text/plain": "0"
     },
     "metadata": {},
     "execution_count": 11
    }
   ],
   "source": [
    "def is_block_missing_1d(data_matrix,window):\n",
    "    flag = False\n",
    "    # mis-spatial\n",
    "    spaital_length, temporal_length = data_matrix.shape\n",
    "\n",
    "    zero_index = np.where(data_matrix.flatten() == 0)[0]\n",
    "    spatial_index = zero_index / temporal_length\n",
    "    spatial_index = spatial_index.astype(int)\n",
    "    temporal_index = zero_index % temporal_length\n",
    "\n",
    "    left_margin = temporal_index - (window-1)/2\n",
    "    right_margin = temporal_index + (window -1)/2\n",
    "    left_margin[np.where(left_margin < 0)[0]] = 0\n",
    "    right_margin[np.where(right_margin >= temporal_length)] = temporal_length-1\n",
    "    left_margin = left_margin.astype(int)\n",
    "    right_margin = right_margin.astype(int)\n",
    "\n",
    "    for i in range(len(zero_index)):\n",
    "        sub_w = data_matrix[spatial_index[i]][left_margin[i]:right_margin[i]+1]\n",
    "        if not sub_w.any() and len(sub_w) == window:\n",
    "            flag = True\n",
    "    return flag\n",
    "\n",
    "def is_block_missing(data_matrix,window=3):\n",
    "    flag = 0\n",
    "    if is_block_missing_1d(data_matrix,window):\n",
    "        flag = flag +1\n",
    "    if is_block_missing_1d(data_matrix.T,window):\n",
    "        flag = flag +2\n",
    "    return flag\n",
    "\n",
    "mis_dm_s = np.array(([0,0,1,0],[0,2,3,4],[1,6,7,8]))\n",
    "mis_dm_t = mis_dm_s.T\n",
    "is_block_missing(mis_dm_s)"
   ]
  },
  {
   "cell_type": "code",
   "execution_count": 12,
   "metadata": {},
   "outputs": [
    {
     "output_type": "stream",
     "name": "stdout",
     "text": "(2.0869510458335268, 2.5241998455109975, 1.84, 0.0)\n(2.998667110963012, 1.0, 1.8235294117647056, 4.333333333333333)\n"
    },
    {
     "output_type": "execute_result",
     "data": {
      "text/plain": "array([[0.        , 0.        , 1.61278772, 0.        ],\n       [0.        , 0.        , 0.        , 2.53888246],\n       [0.        , 0.        , 0.        , 0.        ],\n       [0.        , 0.        , 0.        , 0.        ],\n       [0.        , 0.        , 0.        , 0.        ]])"
     },
     "metadata": {},
     "execution_count": 12
    }
   ],
   "source": [
    "# ST_MVL (Spatial Temporal Multiview-based learning)\n",
    "\n",
    "def st_mvl(data_matrix, window=5, alpha=1, beta=0.5,distance_matrix=None):\n",
    "    if distance_matrix is None:\n",
    "        distance_matrix = get_distance_matrix(data_matrix,True)\n",
    "\n",
    "    return_matrix = data_matrix.copy().astype(float)\n",
    "\n",
    "    zero_index = np.where(return_matrix.flatten() == 0)[0]\n",
    "    \n",
    "    if is_block_missing(return_matrix,3) :\n",
    "        return_matrix = ses(return_matrix,beta)\n",
    "    dm1 = ucf(return_matrix,window)\n",
    "    dm2 = icf(return_matrix,window)\n",
    "    dm3 = idw(return_matrix,alpha,distance_matrix=distance_matrix)\n",
    "    dm4 = ses(return_matrix,window)\n",
    "\n",
    "    # weight & b should be learing, while remains here as mean value\n",
    "    weight = np.ones(4)\n",
    "    b = 0\n",
    "    \n",
    "    for i in zero_index:\n",
    "        v = (dm1.flat[i],dm2.flat[i],dm3.flat[i],dm4.flat[i])\n",
    "        print(v)\n",
    "        return_matrix.flat[i]=(np.dot(v,weight) / np.sum(weight))+b\n",
    "    return return_matrix\n",
    "\n",
    "\n",
    "origin,dm = generate_data_matrix(5,4,0.1)\n",
    "st_mvl(dm,3)-dm"
   ]
  }
 ],
 "metadata": {
  "language_info": {
   "codemirror_mode": {
    "name": "ipython",
    "version": 3
   },
   "file_extension": ".py",
   "mimetype": "text/x-python",
   "name": "python",
   "nbconvert_exporter": "python",
   "pygments_lexer": "ipython3",
   "version": "3.7.6-final"
  },
  "orig_nbformat": 2,
  "kernelspec": {
   "name": "python37664bitccstaconda3a2139a6822448159c7afc22ea6ab768",
   "display_name": "Python 3.7.6 64-bit ('ccs_ta': conda)"
  }
 },
 "nbformat": 4,
 "nbformat_minor": 2
}